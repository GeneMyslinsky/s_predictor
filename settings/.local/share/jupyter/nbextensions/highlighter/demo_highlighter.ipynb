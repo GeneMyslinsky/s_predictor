version https://git-lfs.github.com/spec/v1
oid sha256:e7d7923e2258ebdda86394ea8dca0faf7399aad2401a4c3a6c7f836ea04b30db
size 3298
