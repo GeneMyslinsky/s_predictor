version https://git-lfs.github.com/spec/v1
oid sha256:4d674320cfdf0aec2f8e77f21a8f05da9aff5848bdd5a3b9901c18a4234f083a
size 8521
