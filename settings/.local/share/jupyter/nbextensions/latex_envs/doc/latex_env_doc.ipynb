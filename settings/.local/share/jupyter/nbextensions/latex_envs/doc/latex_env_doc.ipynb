version https://git-lfs.github.com/spec/v1
oid sha256:34270ed71d571f2d4eb8649b92575dae381733060fd4263e192190b17502b35c
size 165991
