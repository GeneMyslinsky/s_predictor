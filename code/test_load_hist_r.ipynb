{
 "cells": [
  {
   "cell_type": "code",
   "execution_count": null,
   "metadata": {
    "ExecuteTime": {
     "start_time": "2020-11-29T15:53:09.983Z"
    },
    "scrolled": false
   },
   "outputs": [
    {
     "name": "stderr",
     "output_type": "stream",
     "text": [
      "MainThread   ib_insync.client: Connecting to host.docker.internal:7497 with clientId 15...\n",
      "MainThread   ib_insync.client: Connected\n",
      "MainThread   ib_insync.client: Logged on to server version 152\n",
      "MainThread   ib_insync.client: API connection ready\n",
      "MainThread  ib_insync.wrapper: Warning 2104, reqId -1: Market data farm connection is OK:usfuture\n",
      "MainThread  ib_insync.wrapper: Warning 2104, reqId -1: Market data farm connection is OK:usfarm.nj\n",
      "MainThread  ib_insync.wrapper: Warning 2104, reqId -1: Market data farm connection is OK:usfarm\n",
      "MainThread  ib_insync.wrapper: Warning 2106, reqId -1: HMDS data farm connection is OK:euhmds\n",
      "MainThread  ib_insync.wrapper: Warning 2106, reqId -1: HMDS data farm connection is OK:ushmds.nj\n",
      "MainThread  ib_insync.wrapper: Warning 2106, reqId -1: HMDS data farm connection is OK:fundfarm\n",
      "MainThread  ib_insync.wrapper: Warning 2106, reqId -1: HMDS data farm connection is OK:ushmds\n",
      "MainThread  ib_insync.wrapper: Warning 2158, reqId -1: Sec-def data farm connection is OK:secdefil\n",
      "MainThread       ib_insync.ib: Synchronization complete\n"
     ]
    },
    {
     "name": "stdout",
     "output_type": "stream",
     "text": [
      "starting\n"
     ]
    },
    {
     "data": {
      "text/plain": [
       "3840"
      ]
     },
     "metadata": {},
     "output_type": "display_data"
    },
    {
     "name": "stdout",
     "output_type": "stream",
     "text": [
      "ended\n",
      "starting\n"
     ]
    },
    {
     "data": {
      "text/plain": [
       "3840"
      ]
     },
     "metadata": {},
     "output_type": "display_data"
    },
    {
     "name": "stdout",
     "output_type": "stream",
     "text": [
      "ended\n",
      "starting\n"
     ]
    },
    {
     "data": {
      "text/plain": [
       "3840"
      ]
     },
     "metadata": {},
     "output_type": "display_data"
    },
    {
     "name": "stdout",
     "output_type": "stream",
     "text": [
      "ended\n",
      "starting\n"
     ]
    },
    {
     "data": {
      "text/plain": [
       "3840"
      ]
     },
     "metadata": {},
     "output_type": "display_data"
    },
    {
     "name": "stdout",
     "output_type": "stream",
     "text": [
      "ended\n",
      "starting\n"
     ]
    },
    {
     "data": {
      "text/plain": [
       "3840"
      ]
     },
     "metadata": {},
     "output_type": "display_data"
    },
    {
     "name": "stdout",
     "output_type": "stream",
     "text": [
      "ended\n",
      "starting\n"
     ]
    },
    {
     "data": {
      "text/plain": [
       "3840"
      ]
     },
     "metadata": {},
     "output_type": "display_data"
    },
    {
     "name": "stdout",
     "output_type": "stream",
     "text": [
      "ended\n",
      "starting\n"
     ]
    },
    {
     "data": {
      "text/plain": [
       "3840"
      ]
     },
     "metadata": {},
     "output_type": "display_data"
    },
    {
     "name": "stdout",
     "output_type": "stream",
     "text": [
      "ended\n",
      "starting\n"
     ]
    },
    {
     "data": {
      "text/plain": [
       "3840"
      ]
     },
     "metadata": {},
     "output_type": "display_data"
    },
    {
     "name": "stdout",
     "output_type": "stream",
     "text": [
      "ended\n",
      "starting\n"
     ]
    },
    {
     "data": {
      "text/plain": [
       "3840"
      ]
     },
     "metadata": {},
     "output_type": "display_data"
    },
    {
     "name": "stdout",
     "output_type": "stream",
     "text": [
      "ended\n",
      "starting\n"
     ]
    },
    {
     "data": {
      "text/plain": [
       "3840"
      ]
     },
     "metadata": {},
     "output_type": "display_data"
    },
    {
     "name": "stdout",
     "output_type": "stream",
     "text": [
      "ended\n",
      "starting\n"
     ]
    },
    {
     "data": {
      "text/plain": [
       "3840"
      ]
     },
     "metadata": {},
     "output_type": "display_data"
    },
    {
     "name": "stdout",
     "output_type": "stream",
     "text": [
      "ended\n",
      "starting\n"
     ]
    },
    {
     "data": {
      "text/plain": [
       "3839"
      ]
     },
     "metadata": {},
     "output_type": "display_data"
    },
    {
     "name": "stdout",
     "output_type": "stream",
     "text": [
      "ended\n",
      "starting\n"
     ]
    },
    {
     "data": {
      "text/plain": [
       "3840"
      ]
     },
     "metadata": {},
     "output_type": "display_data"
    },
    {
     "name": "stdout",
     "output_type": "stream",
     "text": [
      "ended\n",
      "starting\n"
     ]
    },
    {
     "data": {
      "text/plain": [
       "3840"
      ]
     },
     "metadata": {},
     "output_type": "display_data"
    },
    {
     "name": "stdout",
     "output_type": "stream",
     "text": [
      "ended\n",
      "starting\n"
     ]
    },
    {
     "data": {
      "text/plain": [
       "3840"
      ]
     },
     "metadata": {},
     "output_type": "display_data"
    },
    {
     "name": "stdout",
     "output_type": "stream",
     "text": [
      "ended\n",
      "starting\n"
     ]
    },
    {
     "data": {
      "text/plain": [
       "3840"
      ]
     },
     "metadata": {},
     "output_type": "display_data"
    },
    {
     "name": "stdout",
     "output_type": "stream",
     "text": [
      "ended\n",
      "starting\n"
     ]
    },
    {
     "data": {
      "text/plain": [
       "3840"
      ]
     },
     "metadata": {},
     "output_type": "display_data"
    },
    {
     "name": "stdout",
     "output_type": "stream",
     "text": [
      "ended\n",
      "starting\n"
     ]
    },
    {
     "data": {
      "text/plain": [
       "3840"
      ]
     },
     "metadata": {},
     "output_type": "display_data"
    },
    {
     "name": "stdout",
     "output_type": "stream",
     "text": [
      "ended\n",
      "starting\n"
     ]
    },
    {
     "data": {
      "text/plain": [
       "3840"
      ]
     },
     "metadata": {},
     "output_type": "display_data"
    },
    {
     "name": "stdout",
     "output_type": "stream",
     "text": [
      "ended\n",
      "starting\n"
     ]
    },
    {
     "data": {
      "text/plain": [
       "3120"
      ]
     },
     "metadata": {},
     "output_type": "display_data"
    },
    {
     "name": "stdout",
     "output_type": "stream",
     "text": [
      "ended\n",
      "starting\n"
     ]
    },
    {
     "data": {
      "text/plain": [
       "1920"
      ]
     },
     "metadata": {},
     "output_type": "display_data"
    },
    {
     "name": "stdout",
     "output_type": "stream",
     "text": [
      "ended\n",
      "starting\n"
     ]
    },
    {
     "data": {
      "text/plain": [
       "1920"
      ]
     },
     "metadata": {},
     "output_type": "display_data"
    },
    {
     "name": "stdout",
     "output_type": "stream",
     "text": [
      "ended\n",
      "starting\n"
     ]
    },
    {
     "data": {
      "text/plain": [
       "1920"
      ]
     },
     "metadata": {},
     "output_type": "display_data"
    },
    {
     "name": "stdout",
     "output_type": "stream",
     "text": [
      "ended\n",
      "starting\n"
     ]
    },
    {
     "data": {
      "text/plain": [
       "1920"
      ]
     },
     "metadata": {},
     "output_type": "display_data"
    },
    {
     "name": "stdout",
     "output_type": "stream",
     "text": [
      "ended\n",
      "starting\n"
     ]
    },
    {
     "data": {
      "text/plain": [
       "1920"
      ]
     },
     "metadata": {},
     "output_type": "display_data"
    },
    {
     "name": "stdout",
     "output_type": "stream",
     "text": [
      "ended\n",
      "starting\n"
     ]
    },
    {
     "data": {
      "text/plain": [
       "1920"
      ]
     },
     "metadata": {},
     "output_type": "display_data"
    },
    {
     "name": "stdout",
     "output_type": "stream",
     "text": [
      "ended\n",
      "starting\n"
     ]
    },
    {
     "data": {
      "text/plain": [
       "1920"
      ]
     },
     "metadata": {},
     "output_type": "display_data"
    },
    {
     "name": "stdout",
     "output_type": "stream",
     "text": [
      "ended\n",
      "starting\n"
     ]
    },
    {
     "data": {
      "text/plain": [
       "1920"
      ]
     },
     "metadata": {},
     "output_type": "display_data"
    },
    {
     "name": "stdout",
     "output_type": "stream",
     "text": [
      "ended\n",
      "starting\n"
     ]
    },
    {
     "data": {
      "text/plain": [
       "1920"
      ]
     },
     "metadata": {},
     "output_type": "display_data"
    },
    {
     "name": "stdout",
     "output_type": "stream",
     "text": [
      "ended\n",
      "starting\n"
     ]
    },
    {
     "data": {
      "text/plain": [
       "1920"
      ]
     },
     "metadata": {},
     "output_type": "display_data"
    },
    {
     "name": "stdout",
     "output_type": "stream",
     "text": [
      "ended\n",
      "starting\n"
     ]
    },
    {
     "data": {
      "text/plain": [
       "1920"
      ]
     },
     "metadata": {},
     "output_type": "display_data"
    },
    {
     "name": "stdout",
     "output_type": "stream",
     "text": [
      "ended\n",
      "starting\n"
     ]
    },
    {
     "data": {
      "text/plain": [
       "1920"
      ]
     },
     "metadata": {},
     "output_type": "display_data"
    },
    {
     "name": "stdout",
     "output_type": "stream",
     "text": [
      "ended\n",
      "starting\n"
     ]
    },
    {
     "data": {
      "text/plain": [
       "1920"
      ]
     },
     "metadata": {},
     "output_type": "display_data"
    },
    {
     "name": "stdout",
     "output_type": "stream",
     "text": [
      "ended\n",
      "starting\n"
     ]
    },
    {
     "data": {
      "text/plain": [
       "1920"
      ]
     },
     "metadata": {},
     "output_type": "display_data"
    },
    {
     "name": "stdout",
     "output_type": "stream",
     "text": [
      "ended\n",
      "starting\n"
     ]
    },
    {
     "data": {
      "text/plain": [
       "1920"
      ]
     },
     "metadata": {},
     "output_type": "display_data"
    },
    {
     "name": "stdout",
     "output_type": "stream",
     "text": [
      "ended\n",
      "starting\n"
     ]
    },
    {
     "data": {
      "text/plain": [
       "1920"
      ]
     },
     "metadata": {},
     "output_type": "display_data"
    },
    {
     "name": "stdout",
     "output_type": "stream",
     "text": [
      "ended\n",
      "starting\n"
     ]
    },
    {
     "data": {
      "text/plain": [
       "1920"
      ]
     },
     "metadata": {},
     "output_type": "display_data"
    },
    {
     "name": "stdout",
     "output_type": "stream",
     "text": [
      "ended\n",
      "starting\n"
     ]
    },
    {
     "data": {
      "text/plain": [
       "1920"
      ]
     },
     "metadata": {},
     "output_type": "display_data"
    },
    {
     "name": "stdout",
     "output_type": "stream",
     "text": [
      "ended\n",
      "starting\n"
     ]
    },
    {
     "data": {
      "text/plain": [
       "1920"
      ]
     },
     "metadata": {},
     "output_type": "display_data"
    },
    {
     "name": "stdout",
     "output_type": "stream",
     "text": [
      "ended\n",
      "starting\n"
     ]
    },
    {
     "data": {
      "text/plain": [
       "1560"
      ]
     },
     "metadata": {},
     "output_type": "display_data"
    },
    {
     "name": "stdout",
     "output_type": "stream",
     "text": [
      "ended\n",
      "starting\n"
     ]
    },
    {
     "data": {
      "text/plain": [
       "960"
      ]
     },
     "metadata": {},
     "output_type": "display_data"
    },
    {
     "name": "stdout",
     "output_type": "stream",
     "text": [
      "ended\n",
      "starting\n"
     ]
    },
    {
     "data": {
      "text/plain": [
       "960"
      ]
     },
     "metadata": {},
     "output_type": "display_data"
    },
    {
     "name": "stdout",
     "output_type": "stream",
     "text": [
      "ended\n",
      "starting\n"
     ]
    },
    {
     "data": {
      "text/plain": [
       "960"
      ]
     },
     "metadata": {},
     "output_type": "display_data"
    },
    {
     "name": "stdout",
     "output_type": "stream",
     "text": [
      "ended\n",
      "starting\n"
     ]
    },
    {
     "data": {
      "text/plain": [
       "960"
      ]
     },
     "metadata": {},
     "output_type": "display_data"
    },
    {
     "name": "stdout",
     "output_type": "stream",
     "text": [
      "ended\n",
      "starting\n"
     ]
    },
    {
     "data": {
      "text/plain": [
       "960"
      ]
     },
     "metadata": {},
     "output_type": "display_data"
    },
    {
     "name": "stdout",
     "output_type": "stream",
     "text": [
      "ended\n",
      "starting\n"
     ]
    },
    {
     "data": {
      "text/plain": [
       "960"
      ]
     },
     "metadata": {},
     "output_type": "display_data"
    },
    {
     "name": "stdout",
     "output_type": "stream",
     "text": [
      "ended\n",
      "starting\n"
     ]
    },
    {
     "data": {
      "text/plain": [
       "960"
      ]
     },
     "metadata": {},
     "output_type": "display_data"
    },
    {
     "name": "stdout",
     "output_type": "stream",
     "text": [
      "ended\n",
      "starting\n"
     ]
    },
    {
     "data": {
      "text/plain": [
       "960"
      ]
     },
     "metadata": {},
     "output_type": "display_data"
    },
    {
     "name": "stdout",
     "output_type": "stream",
     "text": [
      "ended\n",
      "starting\n"
     ]
    },
    {
     "data": {
      "text/plain": [
       "960"
      ]
     },
     "metadata": {},
     "output_type": "display_data"
    },
    {
     "name": "stdout",
     "output_type": "stream",
     "text": [
      "ended\n",
      "starting\n"
     ]
    },
    {
     "data": {
      "text/plain": [
       "960"
      ]
     },
     "metadata": {},
     "output_type": "display_data"
    },
    {
     "name": "stdout",
     "output_type": "stream",
     "text": [
      "ended\n",
      "starting\n"
     ]
    },
    {
     "data": {
      "text/plain": [
       "960"
      ]
     },
     "metadata": {},
     "output_type": "display_data"
    },
    {
     "name": "stdout",
     "output_type": "stream",
     "text": [
      "ended\n",
      "starting\n"
     ]
    },
    {
     "data": {
      "text/plain": [
       "960"
      ]
     },
     "metadata": {},
     "output_type": "display_data"
    },
    {
     "name": "stdout",
     "output_type": "stream",
     "text": [
      "ended\n",
      "starting\n"
     ]
    },
    {
     "data": {
      "text/plain": [
       "960"
      ]
     },
     "metadata": {},
     "output_type": "display_data"
    },
    {
     "name": "stdout",
     "output_type": "stream",
     "text": [
      "ended\n",
      "starting\n"
     ]
    },
    {
     "data": {
      "text/plain": [
       "960"
      ]
     },
     "metadata": {},
     "output_type": "display_data"
    },
    {
     "name": "stdout",
     "output_type": "stream",
     "text": [
      "ended\n",
      "starting\n"
     ]
    },
    {
     "data": {
      "text/plain": [
       "960"
      ]
     },
     "metadata": {},
     "output_type": "display_data"
    },
    {
     "name": "stdout",
     "output_type": "stream",
     "text": [
      "ended\n",
      "starting\n"
     ]
    },
    {
     "data": {
      "text/plain": [
       "960"
      ]
     },
     "metadata": {},
     "output_type": "display_data"
    },
    {
     "name": "stdout",
     "output_type": "stream",
     "text": [
      "ended\n",
      "starting\n"
     ]
    },
    {
     "data": {
      "text/plain": [
       "960"
      ]
     },
     "metadata": {},
     "output_type": "display_data"
    },
    {
     "name": "stdout",
     "output_type": "stream",
     "text": [
      "ended\n",
      "starting\n"
     ]
    },
    {
     "data": {
      "text/plain": [
       "960"
      ]
     },
     "metadata": {},
     "output_type": "display_data"
    },
    {
     "name": "stdout",
     "output_type": "stream",
     "text": [
      "ended\n",
      "starting\n"
     ]
    },
    {
     "data": {
      "text/plain": [
       "960"
      ]
     },
     "metadata": {},
     "output_type": "display_data"
    },
    {
     "name": "stdout",
     "output_type": "stream",
     "text": [
      "ended\n",
      "starting\n"
     ]
    },
    {
     "data": {
      "text/plain": [
       "780"
      ]
     },
     "metadata": {},
     "output_type": "display_data"
    },
    {
     "name": "stdout",
     "output_type": "stream",
     "text": [
      "ended\n",
      "starting\n"
     ]
    },
    {
     "data": {
      "text/plain": [
       "320"
      ]
     },
     "metadata": {},
     "output_type": "display_data"
    },
    {
     "name": "stdout",
     "output_type": "stream",
     "text": [
      "ended\n",
      "starting\n"
     ]
    },
    {
     "data": {
      "text/plain": [
       "320"
      ]
     },
     "metadata": {},
     "output_type": "display_data"
    },
    {
     "name": "stdout",
     "output_type": "stream",
     "text": [
      "ended\n",
      "starting\n"
     ]
    },
    {
     "data": {
      "text/plain": [
       "320"
      ]
     },
     "metadata": {},
     "output_type": "display_data"
    },
    {
     "name": "stdout",
     "output_type": "stream",
     "text": [
      "ended\n",
      "starting\n"
     ]
    },
    {
     "data": {
      "text/plain": [
       "320"
      ]
     },
     "metadata": {},
     "output_type": "display_data"
    },
    {
     "name": "stdout",
     "output_type": "stream",
     "text": [
      "ended\n",
      "starting\n"
     ]
    },
    {
     "data": {
      "text/plain": [
       "320"
      ]
     },
     "metadata": {},
     "output_type": "display_data"
    },
    {
     "name": "stdout",
     "output_type": "stream",
     "text": [
      "ended\n",
      "starting\n"
     ]
    },
    {
     "data": {
      "text/plain": [
       "320"
      ]
     },
     "metadata": {},
     "output_type": "display_data"
    },
    {
     "name": "stdout",
     "output_type": "stream",
     "text": [
      "ended\n",
      "starting\n"
     ]
    },
    {
     "data": {
      "text/plain": [
       "320"
      ]
     },
     "metadata": {},
     "output_type": "display_data"
    },
    {
     "name": "stdout",
     "output_type": "stream",
     "text": [
      "ended\n",
      "starting\n"
     ]
    },
    {
     "data": {
      "text/plain": [
       "320"
      ]
     },
     "metadata": {},
     "output_type": "display_data"
    },
    {
     "name": "stdout",
     "output_type": "stream",
     "text": [
      "ended\n",
      "starting\n"
     ]
    },
    {
     "data": {
      "text/plain": [
       "320"
      ]
     },
     "metadata": {},
     "output_type": "display_data"
    },
    {
     "name": "stdout",
     "output_type": "stream",
     "text": [
      "ended\n",
      "starting\n"
     ]
    },
    {
     "data": {
      "text/plain": [
       "320"
      ]
     },
     "metadata": {},
     "output_type": "display_data"
    },
    {
     "name": "stdout",
     "output_type": "stream",
     "text": [
      "ended\n",
      "starting\n"
     ]
    },
    {
     "data": {
      "text/plain": [
       "320"
      ]
     },
     "metadata": {},
     "output_type": "display_data"
    },
    {
     "name": "stdout",
     "output_type": "stream",
     "text": [
      "ended\n",
      "starting\n"
     ]
    },
    {
     "data": {
      "text/plain": [
       "320"
      ]
     },
     "metadata": {},
     "output_type": "display_data"
    },
    {
     "name": "stdout",
     "output_type": "stream",
     "text": [
      "ended\n",
      "starting\n"
     ]
    },
    {
     "data": {
      "text/plain": [
       "320"
      ]
     },
     "metadata": {},
     "output_type": "display_data"
    },
    {
     "name": "stdout",
     "output_type": "stream",
     "text": [
      "ended\n",
      "starting\n"
     ]
    },
    {
     "data": {
      "text/plain": [
       "320"
      ]
     },
     "metadata": {},
     "output_type": "display_data"
    },
    {
     "name": "stdout",
     "output_type": "stream",
     "text": [
      "ended\n",
      "starting\n"
     ]
    },
    {
     "data": {
      "text/plain": [
       "320"
      ]
     },
     "metadata": {},
     "output_type": "display_data"
    },
    {
     "name": "stdout",
     "output_type": "stream",
     "text": [
      "ended\n",
      "starting\n"
     ]
    },
    {
     "data": {
      "text/plain": [
       "320"
      ]
     },
     "metadata": {},
     "output_type": "display_data"
    },
    {
     "name": "stdout",
     "output_type": "stream",
     "text": [
      "ended\n",
      "starting\n"
     ]
    },
    {
     "data": {
      "text/plain": [
       "320"
      ]
     },
     "metadata": {},
     "output_type": "display_data"
    },
    {
     "name": "stdout",
     "output_type": "stream",
     "text": [
      "ended\n",
      "starting\n"
     ]
    },
    {
     "data": {
      "text/plain": [
       "320"
      ]
     },
     "metadata": {},
     "output_type": "display_data"
    },
    {
     "name": "stdout",
     "output_type": "stream",
     "text": [
      "ended\n",
      "starting\n"
     ]
    },
    {
     "data": {
      "text/plain": [
       "320"
      ]
     },
     "metadata": {},
     "output_type": "display_data"
    },
    {
     "name": "stdout",
     "output_type": "stream",
     "text": [
      "ended\n",
      "starting\n"
     ]
    },
    {
     "data": {
      "text/plain": [
       "260"
      ]
     },
     "metadata": {},
     "output_type": "display_data"
    },
    {
     "name": "stdout",
     "output_type": "stream",
     "text": [
      "ended\n",
      "starting\n"
     ]
    },
    {
     "data": {
      "text/plain": [
       "192"
      ]
     },
     "metadata": {},
     "output_type": "display_data"
    },
    {
     "name": "stdout",
     "output_type": "stream",
     "text": [
      "ended\n",
      "starting\n"
     ]
    },
    {
     "data": {
      "text/plain": [
       "192"
      ]
     },
     "metadata": {},
     "output_type": "display_data"
    },
    {
     "name": "stdout",
     "output_type": "stream",
     "text": [
      "ended\n",
      "starting\n"
     ]
    },
    {
     "data": {
      "text/plain": [
       "192"
      ]
     },
     "metadata": {},
     "output_type": "display_data"
    },
    {
     "name": "stdout",
     "output_type": "stream",
     "text": [
      "ended\n",
      "starting\n"
     ]
    },
    {
     "data": {
      "text/plain": [
       "192"
      ]
     },
     "metadata": {},
     "output_type": "display_data"
    },
    {
     "name": "stdout",
     "output_type": "stream",
     "text": [
      "ended\n",
      "starting\n"
     ]
    },
    {
     "data": {
      "text/plain": [
       "192"
      ]
     },
     "metadata": {},
     "output_type": "display_data"
    },
    {
     "name": "stdout",
     "output_type": "stream",
     "text": [
      "ended\n",
      "starting\n"
     ]
    },
    {
     "data": {
      "text/plain": [
       "192"
      ]
     },
     "metadata": {},
     "output_type": "display_data"
    },
    {
     "name": "stdout",
     "output_type": "stream",
     "text": [
      "ended\n",
      "starting\n"
     ]
    },
    {
     "data": {
      "text/plain": [
       "192"
      ]
     },
     "metadata": {},
     "output_type": "display_data"
    },
    {
     "name": "stdout",
     "output_type": "stream",
     "text": [
      "ended\n",
      "starting\n"
     ]
    },
    {
     "data": {
      "text/plain": [
       "192"
      ]
     },
     "metadata": {},
     "output_type": "display_data"
    },
    {
     "name": "stdout",
     "output_type": "stream",
     "text": [
      "ended\n",
      "starting\n"
     ]
    },
    {
     "data": {
      "text/plain": [
       "192"
      ]
     },
     "metadata": {},
     "output_type": "display_data"
    },
    {
     "name": "stdout",
     "output_type": "stream",
     "text": [
      "ended\n",
      "starting\n"
     ]
    },
    {
     "data": {
      "text/plain": [
       "192"
      ]
     },
     "metadata": {},
     "output_type": "display_data"
    },
    {
     "name": "stdout",
     "output_type": "stream",
     "text": [
      "ended\n",
      "starting\n"
     ]
    },
    {
     "data": {
      "text/plain": [
       "192"
      ]
     },
     "metadata": {},
     "output_type": "display_data"
    },
    {
     "name": "stdout",
     "output_type": "stream",
     "text": [
      "ended\n",
      "starting\n"
     ]
    },
    {
     "data": {
      "text/plain": [
       "192"
      ]
     },
     "metadata": {},
     "output_type": "display_data"
    },
    {
     "name": "stdout",
     "output_type": "stream",
     "text": [
      "ended\n",
      "starting\n"
     ]
    },
    {
     "data": {
      "text/plain": [
       "192"
      ]
     },
     "metadata": {},
     "output_type": "display_data"
    },
    {
     "name": "stdout",
     "output_type": "stream",
     "text": [
      "ended\n",
      "starting\n"
     ]
    },
    {
     "data": {
      "text/plain": [
       "192"
      ]
     },
     "metadata": {},
     "output_type": "display_data"
    },
    {
     "name": "stdout",
     "output_type": "stream",
     "text": [
      "ended\n",
      "starting\n"
     ]
    },
    {
     "data": {
      "text/plain": [
       "192"
      ]
     },
     "metadata": {},
     "output_type": "display_data"
    },
    {
     "name": "stdout",
     "output_type": "stream",
     "text": [
      "ended\n",
      "starting\n"
     ]
    },
    {
     "data": {
      "text/plain": [
       "192"
      ]
     },
     "metadata": {},
     "output_type": "display_data"
    },
    {
     "name": "stdout",
     "output_type": "stream",
     "text": [
      "ended\n",
      "starting\n"
     ]
    },
    {
     "data": {
      "text/plain": [
       "192"
      ]
     },
     "metadata": {},
     "output_type": "display_data"
    },
    {
     "name": "stdout",
     "output_type": "stream",
     "text": [
      "ended\n",
      "starting\n"
     ]
    },
    {
     "data": {
      "text/plain": [
       "192"
      ]
     },
     "metadata": {},
     "output_type": "display_data"
    },
    {
     "name": "stdout",
     "output_type": "stream",
     "text": [
      "ended\n",
      "starting\n"
     ]
    },
    {
     "data": {
      "text/plain": [
       "192"
      ]
     },
     "metadata": {},
     "output_type": "display_data"
    },
    {
     "name": "stdout",
     "output_type": "stream",
     "text": [
      "ended\n",
      "starting\n"
     ]
    },
    {
     "data": {
      "text/plain": [
       "156"
      ]
     },
     "metadata": {},
     "output_type": "display_data"
    },
    {
     "name": "stdout",
     "output_type": "stream",
     "text": [
      "ended\n",
      "starting\n"
     ]
    },
    {
     "data": {
      "text/plain": [
       "3740"
      ]
     },
     "metadata": {},
     "output_type": "display_data"
    },
    {
     "name": "stdout",
     "output_type": "stream",
     "text": [
      "ended\n",
      "starting\n"
     ]
    },
    {
     "data": {
      "text/plain": [
       "3840"
      ]
     },
     "metadata": {},
     "output_type": "display_data"
    },
    {
     "name": "stdout",
     "output_type": "stream",
     "text": [
      "ended\n",
      "starting\n"
     ]
    },
    {
     "data": {
      "text/plain": [
       "3840"
      ]
     },
     "metadata": {},
     "output_type": "display_data"
    },
    {
     "name": "stdout",
     "output_type": "stream",
     "text": [
      "ended\n",
      "starting\n"
     ]
    },
    {
     "data": {
      "text/plain": [
       "3840"
      ]
     },
     "metadata": {},
     "output_type": "display_data"
    },
    {
     "name": "stdout",
     "output_type": "stream",
     "text": [
      "ended\n",
      "starting\n"
     ]
    },
    {
     "data": {
      "text/plain": [
       "3671"
      ]
     },
     "metadata": {},
     "output_type": "display_data"
    },
    {
     "name": "stdout",
     "output_type": "stream",
     "text": [
      "ended\n",
      "starting\n"
     ]
    },
    {
     "data": {
      "text/plain": [
       "3840"
      ]
     },
     "metadata": {},
     "output_type": "display_data"
    },
    {
     "name": "stdout",
     "output_type": "stream",
     "text": [
      "ended\n",
      "starting\n"
     ]
    },
    {
     "data": {
      "text/plain": [
       "3840"
      ]
     },
     "metadata": {},
     "output_type": "display_data"
    },
    {
     "name": "stdout",
     "output_type": "stream",
     "text": [
      "ended\n",
      "starting\n"
     ]
    },
    {
     "data": {
      "text/plain": [
       "3836"
      ]
     },
     "metadata": {},
     "output_type": "display_data"
    },
    {
     "name": "stdout",
     "output_type": "stream",
     "text": [
      "ended\n",
      "starting\n"
     ]
    },
    {
     "data": {
      "text/plain": [
       "3840"
      ]
     },
     "metadata": {},
     "output_type": "display_data"
    },
    {
     "name": "stdout",
     "output_type": "stream",
     "text": [
      "ended\n",
      "starting\n"
     ]
    },
    {
     "data": {
      "text/plain": [
       "3763"
      ]
     },
     "metadata": {},
     "output_type": "display_data"
    },
    {
     "name": "stdout",
     "output_type": "stream",
     "text": [
      "ended\n",
      "starting\n"
     ]
    },
    {
     "data": {
      "text/plain": [
       "3701"
      ]
     },
     "metadata": {},
     "output_type": "display_data"
    },
    {
     "name": "stdout",
     "output_type": "stream",
     "text": [
      "ended\n",
      "starting\n"
     ]
    },
    {
     "data": {
      "text/plain": [
       "3822"
      ]
     },
     "metadata": {},
     "output_type": "display_data"
    },
    {
     "name": "stdout",
     "output_type": "stream",
     "text": [
      "ended\n",
      "starting\n"
     ]
    },
    {
     "data": {
      "text/plain": [
       "3798"
      ]
     },
     "metadata": {},
     "output_type": "display_data"
    },
    {
     "name": "stdout",
     "output_type": "stream",
     "text": [
      "ended\n",
      "starting\n"
     ]
    },
    {
     "data": {
      "text/plain": [
       "3840"
      ]
     },
     "metadata": {},
     "output_type": "display_data"
    },
    {
     "name": "stdout",
     "output_type": "stream",
     "text": [
      "ended\n",
      "starting\n"
     ]
    },
    {
     "data": {
      "text/plain": [
       "3840"
      ]
     },
     "metadata": {},
     "output_type": "display_data"
    },
    {
     "name": "stdout",
     "output_type": "stream",
     "text": [
      "ended\n",
      "starting\n"
     ]
    },
    {
     "data": {
      "text/plain": [
       "3840"
      ]
     },
     "metadata": {},
     "output_type": "display_data"
    },
    {
     "name": "stdout",
     "output_type": "stream",
     "text": [
      "ended\n",
      "starting\n"
     ]
    },
    {
     "data": {
      "text/plain": [
       "3829"
      ]
     },
     "metadata": {},
     "output_type": "display_data"
    },
    {
     "name": "stdout",
     "output_type": "stream",
     "text": [
      "ended\n",
      "starting\n"
     ]
    },
    {
     "data": {
      "text/plain": [
       "3625"
      ]
     },
     "metadata": {},
     "output_type": "display_data"
    },
    {
     "name": "stdout",
     "output_type": "stream",
     "text": [
      "ended\n",
      "starting\n"
     ]
    },
    {
     "data": {
      "text/plain": [
       "3625"
      ]
     },
     "metadata": {},
     "output_type": "display_data"
    },
    {
     "name": "stdout",
     "output_type": "stream",
     "text": [
      "ended\n",
      "starting\n"
     ]
    },
    {
     "data": {
      "text/plain": [
       "2803"
      ]
     },
     "metadata": {},
     "output_type": "display_data"
    },
    {
     "name": "stdout",
     "output_type": "stream",
     "text": [
      "ended\n",
      "starting\n"
     ]
    },
    {
     "data": {
      "text/plain": [
       "1870"
      ]
     },
     "metadata": {},
     "output_type": "display_data"
    },
    {
     "name": "stdout",
     "output_type": "stream",
     "text": [
      "ended\n",
      "starting\n"
     ]
    },
    {
     "data": {
      "text/plain": [
       "1920"
      ]
     },
     "metadata": {},
     "output_type": "display_data"
    },
    {
     "name": "stdout",
     "output_type": "stream",
     "text": [
      "ended\n",
      "starting\n"
     ]
    },
    {
     "data": {
      "text/plain": [
       "1920"
      ]
     },
     "metadata": {},
     "output_type": "display_data"
    },
    {
     "name": "stdout",
     "output_type": "stream",
     "text": [
      "ended\n",
      "starting\n"
     ]
    },
    {
     "data": {
      "text/plain": [
       "1920"
      ]
     },
     "metadata": {},
     "output_type": "display_data"
    },
    {
     "name": "stdout",
     "output_type": "stream",
     "text": [
      "ended\n",
      "starting\n"
     ]
    },
    {
     "data": {
      "text/plain": [
       "1836"
      ]
     },
     "metadata": {},
     "output_type": "display_data"
    },
    {
     "name": "stdout",
     "output_type": "stream",
     "text": [
      "ended\n",
      "starting\n"
     ]
    },
    {
     "data": {
      "text/plain": [
       "1920"
      ]
     },
     "metadata": {},
     "output_type": "display_data"
    },
    {
     "name": "stdout",
     "output_type": "stream",
     "text": [
      "ended\n",
      "starting\n"
     ]
    },
    {
     "data": {
      "text/plain": [
       "1920"
      ]
     },
     "metadata": {},
     "output_type": "display_data"
    },
    {
     "name": "stdout",
     "output_type": "stream",
     "text": [
      "ended\n",
      "starting\n"
     ]
    },
    {
     "data": {
      "text/plain": [
       "1918"
      ]
     },
     "metadata": {},
     "output_type": "display_data"
    },
    {
     "name": "stdout",
     "output_type": "stream",
     "text": [
      "ended\n",
      "starting\n"
     ]
    },
    {
     "data": {
      "text/plain": [
       "1920"
      ]
     },
     "metadata": {},
     "output_type": "display_data"
    },
    {
     "name": "stdout",
     "output_type": "stream",
     "text": [
      "ended\n",
      "starting\n"
     ]
    },
    {
     "data": {
      "text/plain": [
       "1882"
      ]
     },
     "metadata": {},
     "output_type": "display_data"
    },
    {
     "name": "stdout",
     "output_type": "stream",
     "text": [
      "ended\n",
      "starting\n"
     ]
    },
    {
     "data": {
      "text/plain": [
       "1851"
      ]
     },
     "metadata": {},
     "output_type": "display_data"
    },
    {
     "name": "stdout",
     "output_type": "stream",
     "text": [
      "ended\n",
      "starting\n"
     ]
    },
    {
     "data": {
      "text/plain": [
       "1911"
      ]
     },
     "metadata": {},
     "output_type": "display_data"
    },
    {
     "name": "stdout",
     "output_type": "stream",
     "text": [
      "ended\n",
      "starting\n"
     ]
    },
    {
     "data": {
      "text/plain": [
       "1899"
      ]
     },
     "metadata": {},
     "output_type": "display_data"
    },
    {
     "name": "stdout",
     "output_type": "stream",
     "text": [
      "ended\n",
      "starting\n"
     ]
    },
    {
     "data": {
      "text/plain": [
       "1920"
      ]
     },
     "metadata": {},
     "output_type": "display_data"
    },
    {
     "name": "stdout",
     "output_type": "stream",
     "text": [
      "ended\n",
      "starting\n"
     ]
    },
    {
     "data": {
      "text/plain": [
       "1920"
      ]
     },
     "metadata": {},
     "output_type": "display_data"
    },
    {
     "name": "stdout",
     "output_type": "stream",
     "text": [
      "ended\n",
      "starting\n"
     ]
    },
    {
     "data": {
      "text/plain": [
       "1920"
      ]
     },
     "metadata": {},
     "output_type": "display_data"
    },
    {
     "name": "stdout",
     "output_type": "stream",
     "text": [
      "ended\n",
      "starting\n"
     ]
    },
    {
     "data": {
      "text/plain": [
       "1915"
      ]
     },
     "metadata": {},
     "output_type": "display_data"
    },
    {
     "name": "stdout",
     "output_type": "stream",
     "text": [
      "ended\n",
      "starting\n"
     ]
    },
    {
     "data": {
      "text/plain": [
       "1813"
      ]
     },
     "metadata": {},
     "output_type": "display_data"
    },
    {
     "name": "stdout",
     "output_type": "stream",
     "text": [
      "ended\n",
      "starting\n"
     ]
    },
    {
     "data": {
      "text/plain": [
       "1813"
      ]
     },
     "metadata": {},
     "output_type": "display_data"
    },
    {
     "name": "stdout",
     "output_type": "stream",
     "text": [
      "ended\n",
      "starting\n"
     ]
    },
    {
     "data": {
      "text/plain": [
       "1402"
      ]
     },
     "metadata": {},
     "output_type": "display_data"
    },
    {
     "name": "stdout",
     "output_type": "stream",
     "text": [
      "ended\n",
      "starting\n"
     ]
    },
    {
     "data": {
      "text/plain": [
       "935"
      ]
     },
     "metadata": {},
     "output_type": "display_data"
    },
    {
     "name": "stdout",
     "output_type": "stream",
     "text": [
      "ended\n",
      "starting\n"
     ]
    },
    {
     "data": {
      "text/plain": [
       "960"
      ]
     },
     "metadata": {},
     "output_type": "display_data"
    },
    {
     "name": "stdout",
     "output_type": "stream",
     "text": [
      "ended\n",
      "starting\n"
     ]
    },
    {
     "data": {
      "text/plain": [
       "960"
      ]
     },
     "metadata": {},
     "output_type": "display_data"
    },
    {
     "name": "stdout",
     "output_type": "stream",
     "text": [
      "ended\n",
      "starting\n"
     ]
    },
    {
     "data": {
      "text/plain": [
       "960"
      ]
     },
     "metadata": {},
     "output_type": "display_data"
    },
    {
     "name": "stdout",
     "output_type": "stream",
     "text": [
      "ended\n",
      "starting\n"
     ]
    },
    {
     "data": {
      "text/plain": [
       "918"
      ]
     },
     "metadata": {},
     "output_type": "display_data"
    },
    {
     "name": "stdout",
     "output_type": "stream",
     "text": [
      "ended\n",
      "starting\n"
     ]
    },
    {
     "data": {
      "text/plain": [
       "960"
      ]
     },
     "metadata": {},
     "output_type": "display_data"
    },
    {
     "name": "stdout",
     "output_type": "stream",
     "text": [
      "ended\n",
      "starting\n"
     ]
    },
    {
     "data": {
      "text/plain": [
       "960"
      ]
     },
     "metadata": {},
     "output_type": "display_data"
    },
    {
     "name": "stdout",
     "output_type": "stream",
     "text": [
      "ended\n",
      "starting\n"
     ]
    },
    {
     "data": {
      "text/plain": [
       "959"
      ]
     },
     "metadata": {},
     "output_type": "display_data"
    },
    {
     "name": "stdout",
     "output_type": "stream",
     "text": [
      "ended\n",
      "starting\n"
     ]
    },
    {
     "data": {
      "text/plain": [
       "960"
      ]
     },
     "metadata": {},
     "output_type": "display_data"
    },
    {
     "name": "stdout",
     "output_type": "stream",
     "text": [
      "ended\n",
      "starting\n"
     ]
    },
    {
     "data": {
      "text/plain": [
       "941"
      ]
     },
     "metadata": {},
     "output_type": "display_data"
    },
    {
     "name": "stdout",
     "output_type": "stream",
     "text": [
      "ended\n",
      "starting\n"
     ]
    },
    {
     "data": {
      "text/plain": [
       "926"
      ]
     },
     "metadata": {},
     "output_type": "display_data"
    },
    {
     "name": "stdout",
     "output_type": "stream",
     "text": [
      "ended\n",
      "starting\n"
     ]
    },
    {
     "data": {
      "text/plain": [
       "956"
      ]
     },
     "metadata": {},
     "output_type": "display_data"
    },
    {
     "name": "stdout",
     "output_type": "stream",
     "text": [
      "ended\n",
      "starting\n"
     ]
    },
    {
     "data": {
      "text/plain": [
       "950"
      ]
     },
     "metadata": {},
     "output_type": "display_data"
    },
    {
     "name": "stdout",
     "output_type": "stream",
     "text": [
      "ended\n",
      "starting\n"
     ]
    },
    {
     "data": {
      "text/plain": [
       "960"
      ]
     },
     "metadata": {},
     "output_type": "display_data"
    },
    {
     "name": "stdout",
     "output_type": "stream",
     "text": [
      "ended\n",
      "starting\n"
     ]
    },
    {
     "data": {
      "text/plain": [
       "960"
      ]
     },
     "metadata": {},
     "output_type": "display_data"
    },
    {
     "name": "stdout",
     "output_type": "stream",
     "text": [
      "ended\n",
      "starting\n"
     ]
    },
    {
     "data": {
      "text/plain": [
       "960"
      ]
     },
     "metadata": {},
     "output_type": "display_data"
    },
    {
     "name": "stdout",
     "output_type": "stream",
     "text": [
      "ended\n",
      "starting\n"
     ]
    },
    {
     "data": {
      "text/plain": [
       "958"
      ]
     },
     "metadata": {},
     "output_type": "display_data"
    },
    {
     "name": "stdout",
     "output_type": "stream",
     "text": [
      "ended\n",
      "starting\n"
     ]
    },
    {
     "data": {
      "text/plain": [
       "907"
      ]
     },
     "metadata": {},
     "output_type": "display_data"
    },
    {
     "name": "stdout",
     "output_type": "stream",
     "text": [
      "ended\n",
      "starting\n"
     ]
    },
    {
     "data": {
      "text/plain": [
       "907"
      ]
     },
     "metadata": {},
     "output_type": "display_data"
    },
    {
     "name": "stdout",
     "output_type": "stream",
     "text": [
      "ended\n",
      "starting\n"
     ]
    },
    {
     "data": {
      "text/plain": [
       "701"
      ]
     },
     "metadata": {},
     "output_type": "display_data"
    },
    {
     "name": "stdout",
     "output_type": "stream",
     "text": [
      "ended\n",
      "starting\n"
     ]
    },
    {
     "data": {
      "text/plain": [
       "312"
      ]
     },
     "metadata": {},
     "output_type": "display_data"
    },
    {
     "name": "stdout",
     "output_type": "stream",
     "text": [
      "ended\n",
      "starting\n"
     ]
    },
    {
     "data": {
      "text/plain": [
       "320"
      ]
     },
     "metadata": {},
     "output_type": "display_data"
    },
    {
     "name": "stdout",
     "output_type": "stream",
     "text": [
      "ended\n",
      "starting\n"
     ]
    },
    {
     "data": {
      "text/plain": [
       "320"
      ]
     },
     "metadata": {},
     "output_type": "display_data"
    },
    {
     "name": "stdout",
     "output_type": "stream",
     "text": [
      "ended\n",
      "starting\n"
     ]
    },
    {
     "data": {
      "text/plain": [
       "320"
      ]
     },
     "metadata": {},
     "output_type": "display_data"
    },
    {
     "name": "stdout",
     "output_type": "stream",
     "text": [
      "ended\n",
      "starting\n"
     ]
    },
    {
     "data": {
      "text/plain": [
       "306"
      ]
     },
     "metadata": {},
     "output_type": "display_data"
    },
    {
     "name": "stdout",
     "output_type": "stream",
     "text": [
      "ended\n",
      "starting\n"
     ]
    },
    {
     "data": {
      "text/plain": [
       "320"
      ]
     },
     "metadata": {},
     "output_type": "display_data"
    },
    {
     "name": "stdout",
     "output_type": "stream",
     "text": [
      "ended\n",
      "starting\n"
     ]
    },
    {
     "data": {
      "text/plain": [
       "320"
      ]
     },
     "metadata": {},
     "output_type": "display_data"
    },
    {
     "name": "stdout",
     "output_type": "stream",
     "text": [
      "ended\n",
      "starting\n"
     ]
    },
    {
     "data": {
      "text/plain": [
       "320"
      ]
     },
     "metadata": {},
     "output_type": "display_data"
    },
    {
     "name": "stdout",
     "output_type": "stream",
     "text": [
      "ended\n",
      "starting\n"
     ]
    },
    {
     "data": {
      "text/plain": [
       "320"
      ]
     },
     "metadata": {},
     "output_type": "display_data"
    },
    {
     "name": "stdout",
     "output_type": "stream",
     "text": [
      "ended\n",
      "starting\n"
     ]
    },
    {
     "data": {
      "text/plain": [
       "314"
      ]
     },
     "metadata": {},
     "output_type": "display_data"
    },
    {
     "name": "stdout",
     "output_type": "stream",
     "text": [
      "ended\n",
      "starting\n"
     ]
    },
    {
     "data": {
      "text/plain": [
       "309"
      ]
     },
     "metadata": {},
     "output_type": "display_data"
    },
    {
     "name": "stdout",
     "output_type": "stream",
     "text": [
      "ended\n",
      "starting\n"
     ]
    },
    {
     "data": {
      "text/plain": [
       "319"
      ]
     },
     "metadata": {},
     "output_type": "display_data"
    },
    {
     "name": "stdout",
     "output_type": "stream",
     "text": [
      "ended\n",
      "starting\n"
     ]
    },
    {
     "data": {
      "text/plain": [
       "317"
      ]
     },
     "metadata": {},
     "output_type": "display_data"
    },
    {
     "name": "stdout",
     "output_type": "stream",
     "text": [
      "ended\n",
      "starting\n"
     ]
    },
    {
     "data": {
      "text/plain": [
       "320"
      ]
     },
     "metadata": {},
     "output_type": "display_data"
    },
    {
     "name": "stdout",
     "output_type": "stream",
     "text": [
      "ended\n",
      "starting\n"
     ]
    },
    {
     "data": {
      "text/plain": [
       "320"
      ]
     },
     "metadata": {},
     "output_type": "display_data"
    },
    {
     "name": "stdout",
     "output_type": "stream",
     "text": [
      "ended\n",
      "starting\n"
     ]
    },
    {
     "data": {
      "text/plain": [
       "320"
      ]
     },
     "metadata": {},
     "output_type": "display_data"
    },
    {
     "name": "stdout",
     "output_type": "stream",
     "text": [
      "ended\n",
      "starting\n"
     ]
    },
    {
     "data": {
      "text/plain": [
       "320"
      ]
     },
     "metadata": {},
     "output_type": "display_data"
    },
    {
     "name": "stdout",
     "output_type": "stream",
     "text": [
      "ended\n",
      "starting\n"
     ]
    },
    {
     "data": {
      "text/plain": [
       "303"
      ]
     },
     "metadata": {},
     "output_type": "display_data"
    },
    {
     "name": "stdout",
     "output_type": "stream",
     "text": [
      "ended\n",
      "starting\n"
     ]
    },
    {
     "data": {
      "text/plain": [
       "303"
      ]
     },
     "metadata": {},
     "output_type": "display_data"
    },
    {
     "name": "stdout",
     "output_type": "stream",
     "text": [
      "ended\n",
      "starting\n"
     ]
    },
    {
     "data": {
      "text/plain": [
       "234"
      ]
     },
     "metadata": {},
     "output_type": "display_data"
    },
    {
     "name": "stdout",
     "output_type": "stream",
     "text": [
      "ended\n",
      "starting\n"
     ]
    },
    {
     "data": {
      "text/plain": [
       "187"
      ]
     },
     "metadata": {},
     "output_type": "display_data"
    },
    {
     "name": "stdout",
     "output_type": "stream",
     "text": [
      "ended\n",
      "starting\n"
     ]
    },
    {
     "data": {
      "text/plain": [
       "192"
      ]
     },
     "metadata": {},
     "output_type": "display_data"
    },
    {
     "name": "stdout",
     "output_type": "stream",
     "text": [
      "ended\n",
      "starting\n"
     ]
    },
    {
     "data": {
      "text/plain": [
       "192"
      ]
     },
     "metadata": {},
     "output_type": "display_data"
    },
    {
     "name": "stdout",
     "output_type": "stream",
     "text": [
      "ended\n",
      "starting\n"
     ]
    },
    {
     "data": {
      "text/plain": [
       "192"
      ]
     },
     "metadata": {},
     "output_type": "display_data"
    },
    {
     "name": "stdout",
     "output_type": "stream",
     "text": [
      "ended\n",
      "starting\n"
     ]
    },
    {
     "data": {
      "text/plain": [
       "184"
      ]
     },
     "metadata": {},
     "output_type": "display_data"
    },
    {
     "name": "stdout",
     "output_type": "stream",
     "text": [
      "ended\n",
      "starting\n"
     ]
    },
    {
     "data": {
      "text/plain": [
       "192"
      ]
     },
     "metadata": {},
     "output_type": "display_data"
    },
    {
     "name": "stdout",
     "output_type": "stream",
     "text": [
      "ended\n",
      "starting\n"
     ]
    },
    {
     "data": {
      "text/plain": [
       "192"
      ]
     },
     "metadata": {},
     "output_type": "display_data"
    },
    {
     "name": "stdout",
     "output_type": "stream",
     "text": [
      "ended\n",
      "starting\n"
     ]
    },
    {
     "data": {
      "text/plain": [
       "192"
      ]
     },
     "metadata": {},
     "output_type": "display_data"
    },
    {
     "name": "stdout",
     "output_type": "stream",
     "text": [
      "ended\n",
      "starting\n"
     ]
    },
    {
     "data": {
      "text/plain": [
       "192"
      ]
     },
     "metadata": {},
     "output_type": "display_data"
    },
    {
     "name": "stdout",
     "output_type": "stream",
     "text": [
      "ended\n",
      "starting\n"
     ]
    },
    {
     "data": {
      "text/plain": [
       "189"
      ]
     },
     "metadata": {},
     "output_type": "display_data"
    },
    {
     "name": "stdout",
     "output_type": "stream",
     "text": [
      "ended\n",
      "starting\n"
     ]
    },
    {
     "data": {
      "text/plain": [
       "186"
      ]
     },
     "metadata": {},
     "output_type": "display_data"
    },
    {
     "name": "stdout",
     "output_type": "stream",
     "text": [
      "ended\n",
      "starting\n"
     ]
    },
    {
     "data": {
      "text/plain": [
       "192"
      ]
     },
     "metadata": {},
     "output_type": "display_data"
    },
    {
     "name": "stdout",
     "output_type": "stream",
     "text": [
      "ended\n",
      "starting\n"
     ]
    },
    {
     "data": {
      "text/plain": [
       "190"
      ]
     },
     "metadata": {},
     "output_type": "display_data"
    },
    {
     "name": "stdout",
     "output_type": "stream",
     "text": [
      "ended\n",
      "starting\n"
     ]
    },
    {
     "data": {
      "text/plain": [
       "192"
      ]
     },
     "metadata": {},
     "output_type": "display_data"
    },
    {
     "name": "stdout",
     "output_type": "stream",
     "text": [
      "ended\n",
      "starting\n"
     ]
    },
    {
     "data": {
      "text/plain": [
       "192"
      ]
     },
     "metadata": {},
     "output_type": "display_data"
    },
    {
     "name": "stdout",
     "output_type": "stream",
     "text": [
      "ended\n",
      "starting\n"
     ]
    },
    {
     "data": {
      "text/plain": [
       "192"
      ]
     },
     "metadata": {},
     "output_type": "display_data"
    },
    {
     "name": "stdout",
     "output_type": "stream",
     "text": [
      "ended\n",
      "starting\n"
     ]
    },
    {
     "data": {
      "text/plain": [
       "192"
      ]
     },
     "metadata": {},
     "output_type": "display_data"
    },
    {
     "name": "stdout",
     "output_type": "stream",
     "text": [
      "ended\n",
      "starting\n"
     ]
    },
    {
     "data": {
      "text/plain": [
       "182"
      ]
     },
     "metadata": {},
     "output_type": "display_data"
    },
    {
     "name": "stdout",
     "output_type": "stream",
     "text": [
      "ended\n",
      "starting\n"
     ]
    },
    {
     "data": {
      "text/plain": [
       "182"
      ]
     },
     "metadata": {},
     "output_type": "display_data"
    },
    {
     "name": "stdout",
     "output_type": "stream",
     "text": [
      "ended\n",
      "starting\n"
     ]
    },
    {
     "data": {
      "text/plain": [
       "141"
      ]
     },
     "metadata": {},
     "output_type": "display_data"
    },
    {
     "name": "stdout",
     "output_type": "stream",
     "text": [
      "ended\n"
     ]
    }
   ],
   "source": [
    "from datetime import datetime\n",
    "import time\n",
    "import pandas as pd\n",
    "import pickle\n",
    "from ib_insync import *\n",
    "import nest_asyncio\n",
    "import logging,sys\n",
    "from k_producer import *\n",
    "from util_redis import *\n",
    "\n",
    "\n",
    "\n",
    "def histBar(contract_d,param_d,useRTH=False):\n",
    "    try:\n",
    "        print('starting')\n",
    "        df = pd.DataFrame()\n",
    "        contract = Stock(contract_d['symbol'],contract_d['exchange'], contract_d['currency'])\n",
    "        bars = ib.reqHistoricalData(contract,endDateTime=param_d['endt'], durationStr=param_d['dur'],barSizeSetting=param_d['candles'], whatToShow=param_d['show'], useRTH=useRTH)\n",
    "        df = util.df(bars)\n",
    "        \n",
    "        df = df.set_index('date')\n",
    "#         df.index.tz_localize('America/Toronto', nonexistent='shift_forward')\n",
    "        df.columns = map(str.lower, df.columns)\n",
    "#         display(df.reset_index().dtypes)\n",
    "        display(len(df))\n",
    "\n",
    "    except Exception as e: print(e)\n",
    "    finally:\n",
    "        print('ended')\n",
    "        return df\n",
    "    \n",
    "if __name__ == '__main__':\n",
    "    logging.getLogger(\"asyncio\").setLevel(logging.INFO)\n",
    "    logging.basicConfig(\n",
    "    level=logging.INFO,\n",
    "    format='%(threadName)10s %(name)18s: %(message)s',stream=sys.stderr,)\n",
    "\n",
    "    nest_asyncio.apply()\n",
    "    \n",
    "    util.startLoop()\n",
    "    ib = IB()\n",
    "    ib.connect('host.docker.internal', 7497, clientId=15)\n",
    "    \n",
    "\n",
    "    try:\n",
    "        while True:\n",
    "            time.sleep(1)\n",
    "            item = lpop('hist.queue')\n",
    "            if item !=None: \n",
    "                data = histBar(item['contract'],item['params'])\n",
    "                if len(data)!=0:\n",
    "                    p = pickle.dumps(data)\n",
    "#                     with open('t1d.pickle', 'wb') as f:\n",
    "#                         pickle.dump(data,f)\n",
    "#                     itemr = {**item,**{'pdata':p}}\n",
    "#                     print(itemr)\n",
    "                    ProduceB('tester',item,p)\n",
    "    except Exception as e: \n",
    "        print(\"FATAL: \",e)\n",
    "    finally:ib.disconnect()"
   ]
  }
 ],
 "metadata": {
  "kernelspec": {
   "display_name": "Python 3",
   "language": "python",
   "name": "python3"
  },
  "language_info": {
   "codemirror_mode": {
    "name": "ipython",
    "version": 3
   },
   "file_extension": ".py",
   "mimetype": "text/x-python",
   "name": "python",
   "nbconvert_exporter": "python",
   "pygments_lexer": "ipython3",
   "version": "3.8.3"
  },
  "varInspector": {
   "cols": {
    "lenName": 16,
    "lenType": 16,
    "lenVar": 40
   },
   "kernels_config": {
    "python": {
     "delete_cmd_postfix": "",
     "delete_cmd_prefix": "del ",
     "library": "var_list.py",
     "varRefreshCmd": "print(var_dic_list())"
    },
    "r": {
     "delete_cmd_postfix": ") ",
     "delete_cmd_prefix": "rm(",
     "library": "var_list.r",
     "varRefreshCmd": "cat(var_dic_list()) "
    }
   },
   "types_to_exclude": [
    "module",
    "function",
    "builtin_function_or_method",
    "instance",
    "_Feature"
   ],
   "window_display": false
  }
 },
 "nbformat": 4,
 "nbformat_minor": 4
}
