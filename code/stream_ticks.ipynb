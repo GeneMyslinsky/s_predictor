{
 "cells": [
  {
   "cell_type": "code",
   "execution_count": null,
   "metadata": {},
   "outputs": [],
   "source": [
    "\n",
    "from ib_insync import *\n",
    "util.startLoop()\n",
    "ib = IB()\n",
    "ib.connect('host.docker.internal', 7497, clientId=10)\n"
   ]
  },
  {
   "cell_type": "code",
   "execution_count": null,
   "metadata": {},
   "outputs": [],
   "source": [
    "import asyncio\n",
    "\n",
    "import ib_insync as ibi\n",
    "\n",
    "\n",
    "class App:\n",
    "\n",
    "    async def run(self):\n",
    "        self.ib = ibi.IB()\n",
    "        with await self.ib.connectAsync():\n",
    "            contracts = [\n",
    "                ibi.Stock(symbol, 'SMART', 'USD')\n",
    "                for symbol in ['AAPL', 'TSLA', 'AMD', 'INTC']]\n",
    "            for contract in contracts:\n",
    "                self.ib.reqMktData(contract)\n",
    "\n",
    "            async for tickers in self.ib.pendingTickersEvent:\n",
    "                for ticker in tickers:\n",
    "                    print(ticker)\n",
    "\n",
    "    def stop(self):\n",
    "        self.ib.disconnect()\n",
    "\n",
    "\n",
    "app = App()\n",
    "try:\n",
    "    asyncio.run(app.run())\n",
    "except (KeyboardInterrupt, SystemExit):\n",
    "    app.stop()"
   ]
  }
 ],
 "metadata": {
  "kernelspec": {
   "display_name": "Python 3",
   "language": "python",
   "name": "python3"
  },
  "language_info": {
   "codemirror_mode": {
    "name": "ipython",
    "version": 3
   },
   "file_extension": ".py",
   "mimetype": "text/x-python",
   "name": "python",
   "nbconvert_exporter": "python",
   "pygments_lexer": "ipython3",
   "version": "3.8.3"
  }
 },
 "nbformat": 4,
 "nbformat_minor": 4
}
