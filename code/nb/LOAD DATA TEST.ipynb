{
 "cells": [
  {
   "cell_type": "code",
   "execution_count": 1,
   "metadata": {
    "ExecuteTime": {
     "end_time": "2020-09-02T02:51:14.788736Z",
     "start_time": "2020-09-02T02:51:14.683352Z"
    }
   },
   "outputs": [
    {
     "data": {
      "text/plain": [
       "<IB connected to host.docker.internal:7497 clientId=15>"
      ]
     },
     "execution_count": 1,
     "metadata": {},
     "output_type": "execute_result"
    }
   ],
   "source": [
    "\n",
    "from ib_insync import *\n",
    "\n",
    "util.startLoop()\n",
    "\n",
    "ib = IB()\n",
    "ib.connect('host.docker.internal', 7497, clientId=15)\n",
    "\n",
    "# bars = ib.reqHistoricalData(\n",
    "#     contract, endDateTime='', durationStr='30 D',\n",
    "#     barSizeSetting='1 hour', whatToShow='MIDPOINT', useRTH=True)\n",
    "\n",
    "# # convert to pandas dataframe:\n",
    "# df = util.df(bars)\n",
    "# print(df)\n",
    "\n"
   ]
  },
  {
   "cell_type": "code",
   "execution_count": 2,
   "metadata": {
    "ExecuteTime": {
     "end_time": "2020-09-02T02:51:33.346892Z",
     "start_time": "2020-09-02T02:51:30.927755Z"
    },
    "scrolled": false
   },
   "outputs": [
    {
     "data": {
      "text/html": [
       "<div>\n",
       "<style scoped>\n",
       "    .dataframe tbody tr th:only-of-type {\n",
       "        vertical-align: middle;\n",
       "    }\n",
       "\n",
       "    .dataframe tbody tr th {\n",
       "        vertical-align: top;\n",
       "    }\n",
       "\n",
       "    .dataframe thead th {\n",
       "        text-align: right;\n",
       "    }\n",
       "</style>\n",
       "<table border=\"1\" class=\"dataframe\">\n",
       "  <thead>\n",
       "    <tr style=\"text-align: right;\">\n",
       "      <th></th>\n",
       "      <th>price</th>\n",
       "      <th>size</th>\n",
       "      <th>exchange</th>\n",
       "      <th>specialConditions</th>\n",
       "      <th>pastLimit</th>\n",
       "      <th>unreported</th>\n",
       "    </tr>\n",
       "    <tr>\n",
       "      <th>time</th>\n",
       "      <th></th>\n",
       "      <th></th>\n",
       "      <th></th>\n",
       "      <th></th>\n",
       "      <th></th>\n",
       "      <th></th>\n",
       "    </tr>\n",
       "  </thead>\n",
       "  <tbody>\n",
       "    <tr>\n",
       "      <th>2020-08-28 11:38:51-04:00</th>\n",
       "      <td>349.1900</td>\n",
       "      <td>2</td>\n",
       "      <td>ISLAND</td>\n",
       "      <td>I</td>\n",
       "      <td>False</td>\n",
       "      <td>True</td>\n",
       "    </tr>\n",
       "    <tr>\n",
       "      <th>2020-08-28 11:38:51-04:00</th>\n",
       "      <td>349.2000</td>\n",
       "      <td>4</td>\n",
       "      <td>ISLAND</td>\n",
       "      <td>F I</td>\n",
       "      <td>False</td>\n",
       "      <td>True</td>\n",
       "    </tr>\n",
       "    <tr>\n",
       "      <th>2020-08-28 11:38:51-04:00</th>\n",
       "      <td>349.1975</td>\n",
       "      <td>4</td>\n",
       "      <td>FINRA</td>\n",
       "      <td>I</td>\n",
       "      <td>False</td>\n",
       "      <td>True</td>\n",
       "    </tr>\n",
       "    <tr>\n",
       "      <th>2020-08-28 11:38:51-04:00</th>\n",
       "      <td>349.2000</td>\n",
       "      <td>20</td>\n",
       "      <td>FINRA</td>\n",
       "      <td>I</td>\n",
       "      <td>False</td>\n",
       "      <td>True</td>\n",
       "    </tr>\n",
       "    <tr>\n",
       "      <th>2020-08-28 11:38:51-04:00</th>\n",
       "      <td>349.2000</td>\n",
       "      <td>7</td>\n",
       "      <td>ISLAND</td>\n",
       "      <td>I</td>\n",
       "      <td>False</td>\n",
       "      <td>True</td>\n",
       "    </tr>\n",
       "    <tr>\n",
       "      <th>...</th>\n",
       "      <td>...</td>\n",
       "      <td>...</td>\n",
       "      <td>...</td>\n",
       "      <td>...</td>\n",
       "      <td>...</td>\n",
       "      <td>...</td>\n",
       "    </tr>\n",
       "    <tr>\n",
       "      <th>2020-08-28 11:41:39-04:00</th>\n",
       "      <td>349.1000</td>\n",
       "      <td>100</td>\n",
       "      <td>BATS</td>\n",
       "      <td>F</td>\n",
       "      <td>False</td>\n",
       "      <td>False</td>\n",
       "    </tr>\n",
       "    <tr>\n",
       "      <th>2020-08-28 11:41:39-04:00</th>\n",
       "      <td>349.1000</td>\n",
       "      <td>24</td>\n",
       "      <td>ISLAND</td>\n",
       "      <td>F I</td>\n",
       "      <td>False</td>\n",
       "      <td>True</td>\n",
       "    </tr>\n",
       "    <tr>\n",
       "      <th>2020-08-28 11:41:39-04:00</th>\n",
       "      <td>349.1001</td>\n",
       "      <td>1</td>\n",
       "      <td>FINRA</td>\n",
       "      <td>I</td>\n",
       "      <td>False</td>\n",
       "      <td>True</td>\n",
       "    </tr>\n",
       "    <tr>\n",
       "      <th>2020-08-28 11:41:40-04:00</th>\n",
       "      <td>349.1000</td>\n",
       "      <td>3</td>\n",
       "      <td>BYX</td>\n",
       "      <td>I</td>\n",
       "      <td>False</td>\n",
       "      <td>True</td>\n",
       "    </tr>\n",
       "    <tr>\n",
       "      <th>2020-08-28 11:41:40-04:00</th>\n",
       "      <td>349.1200</td>\n",
       "      <td>6</td>\n",
       "      <td>ARCA</td>\n",
       "      <td>I</td>\n",
       "      <td>False</td>\n",
       "      <td>True</td>\n",
       "    </tr>\n",
       "  </tbody>\n",
       "</table>\n",
       "<p>1000 rows × 6 columns</p>\n",
       "</div>"
      ],
      "text/plain": [
       "                              price  size exchange specialConditions  \\\n",
       "time                                                                   \n",
       "2020-08-28 11:38:51-04:00  349.1900     2   ISLAND                 I   \n",
       "2020-08-28 11:38:51-04:00  349.2000     4   ISLAND               F I   \n",
       "2020-08-28 11:38:51-04:00  349.1975     4    FINRA                 I   \n",
       "2020-08-28 11:38:51-04:00  349.2000    20    FINRA                 I   \n",
       "2020-08-28 11:38:51-04:00  349.2000     7   ISLAND                 I   \n",
       "...                             ...   ...      ...               ...   \n",
       "2020-08-28 11:41:39-04:00  349.1000   100     BATS               F     \n",
       "2020-08-28 11:41:39-04:00  349.1000    24   ISLAND               F I   \n",
       "2020-08-28 11:41:39-04:00  349.1001     1    FINRA                 I   \n",
       "2020-08-28 11:41:40-04:00  349.1000     3      BYX                 I   \n",
       "2020-08-28 11:41:40-04:00  349.1200     6     ARCA                 I   \n",
       "\n",
       "                           pastLimit  unreported  \n",
       "time                                              \n",
       "2020-08-28 11:38:51-04:00      False        True  \n",
       "2020-08-28 11:38:51-04:00      False        True  \n",
       "2020-08-28 11:38:51-04:00      False        True  \n",
       "2020-08-28 11:38:51-04:00      False        True  \n",
       "2020-08-28 11:38:51-04:00      False        True  \n",
       "...                              ...         ...  \n",
       "2020-08-28 11:41:39-04:00      False       False  \n",
       "2020-08-28 11:41:39-04:00      False        True  \n",
       "2020-08-28 11:41:39-04:00      False        True  \n",
       "2020-08-28 11:41:40-04:00      False        True  \n",
       "2020-08-28 11:41:40-04:00      False        True  \n",
       "\n",
       "[1000 rows x 6 columns]"
      ]
     },
     "metadata": {},
     "output_type": "display_data"
    },
    {
     "data": {
      "text/html": [
       "<div>\n",
       "<style scoped>\n",
       "    .dataframe tbody tr th:only-of-type {\n",
       "        vertical-align: middle;\n",
       "    }\n",
       "\n",
       "    .dataframe tbody tr th {\n",
       "        vertical-align: top;\n",
       "    }\n",
       "\n",
       "    .dataframe thead th {\n",
       "        text-align: right;\n",
       "    }\n",
       "</style>\n",
       "<table border=\"1\" class=\"dataframe\">\n",
       "  <thead>\n",
       "    <tr style=\"text-align: right;\">\n",
       "      <th></th>\n",
       "      <th>priceBid</th>\n",
       "      <th>priceAsk</th>\n",
       "      <th>sizeBid</th>\n",
       "      <th>sizeAsk</th>\n",
       "      <th>bidPastLow</th>\n",
       "      <th>askPastHigh</th>\n",
       "    </tr>\n",
       "    <tr>\n",
       "      <th>time</th>\n",
       "      <th></th>\n",
       "      <th></th>\n",
       "      <th></th>\n",
       "      <th></th>\n",
       "      <th></th>\n",
       "      <th></th>\n",
       "    </tr>\n",
       "  </thead>\n",
       "  <tbody>\n",
       "    <tr>\n",
       "      <th>2020-08-28 11:41:36-04:00</th>\n",
       "      <td>349.12</td>\n",
       "      <td>349.13</td>\n",
       "      <td>100</td>\n",
       "      <td>2500</td>\n",
       "      <td>False</td>\n",
       "      <td>False</td>\n",
       "    </tr>\n",
       "    <tr>\n",
       "      <th>2020-08-28 11:41:37-04:00</th>\n",
       "      <td>349.12</td>\n",
       "      <td>349.13</td>\n",
       "      <td>300</td>\n",
       "      <td>2500</td>\n",
       "      <td>False</td>\n",
       "      <td>False</td>\n",
       "    </tr>\n",
       "    <tr>\n",
       "      <th>2020-08-28 11:41:37-04:00</th>\n",
       "      <td>349.12</td>\n",
       "      <td>349.13</td>\n",
       "      <td>300</td>\n",
       "      <td>2600</td>\n",
       "      <td>False</td>\n",
       "      <td>False</td>\n",
       "    </tr>\n",
       "    <tr>\n",
       "      <th>2020-08-28 11:41:37-04:00</th>\n",
       "      <td>349.12</td>\n",
       "      <td>349.13</td>\n",
       "      <td>300</td>\n",
       "      <td>2700</td>\n",
       "      <td>False</td>\n",
       "      <td>False</td>\n",
       "    </tr>\n",
       "    <tr>\n",
       "      <th>2020-08-28 11:41:37-04:00</th>\n",
       "      <td>349.12</td>\n",
       "      <td>349.13</td>\n",
       "      <td>300</td>\n",
       "      <td>2800</td>\n",
       "      <td>False</td>\n",
       "      <td>False</td>\n",
       "    </tr>\n",
       "    <tr>\n",
       "      <th>...</th>\n",
       "      <td>...</td>\n",
       "      <td>...</td>\n",
       "      <td>...</td>\n",
       "      <td>...</td>\n",
       "      <td>...</td>\n",
       "      <td>...</td>\n",
       "    </tr>\n",
       "    <tr>\n",
       "      <th>2020-08-28 11:41:40-04:00</th>\n",
       "      <td>349.10</td>\n",
       "      <td>349.12</td>\n",
       "      <td>2300</td>\n",
       "      <td>4100</td>\n",
       "      <td>False</td>\n",
       "      <td>False</td>\n",
       "    </tr>\n",
       "    <tr>\n",
       "      <th>2020-08-28 11:41:40-04:00</th>\n",
       "      <td>349.10</td>\n",
       "      <td>349.12</td>\n",
       "      <td>2300</td>\n",
       "      <td>4000</td>\n",
       "      <td>False</td>\n",
       "      <td>False</td>\n",
       "    </tr>\n",
       "    <tr>\n",
       "      <th>2020-08-28 11:41:40-04:00</th>\n",
       "      <td>349.10</td>\n",
       "      <td>349.12</td>\n",
       "      <td>2300</td>\n",
       "      <td>3800</td>\n",
       "      <td>False</td>\n",
       "      <td>False</td>\n",
       "    </tr>\n",
       "    <tr>\n",
       "      <th>2020-08-28 11:41:40-04:00</th>\n",
       "      <td>349.10</td>\n",
       "      <td>349.12</td>\n",
       "      <td>2300</td>\n",
       "      <td>3700</td>\n",
       "      <td>False</td>\n",
       "      <td>False</td>\n",
       "    </tr>\n",
       "    <tr>\n",
       "      <th>2020-08-28 11:41:40-04:00</th>\n",
       "      <td>349.10</td>\n",
       "      <td>349.12</td>\n",
       "      <td>2400</td>\n",
       "      <td>3700</td>\n",
       "      <td>False</td>\n",
       "      <td>False</td>\n",
       "    </tr>\n",
       "  </tbody>\n",
       "</table>\n",
       "<p>1093 rows × 6 columns</p>\n",
       "</div>"
      ],
      "text/plain": [
       "                           priceBid  priceAsk  sizeBid  sizeAsk  bidPastLow  \\\n",
       "time                                                                          \n",
       "2020-08-28 11:41:36-04:00    349.12    349.13      100     2500       False   \n",
       "2020-08-28 11:41:37-04:00    349.12    349.13      300     2500       False   \n",
       "2020-08-28 11:41:37-04:00    349.12    349.13      300     2600       False   \n",
       "2020-08-28 11:41:37-04:00    349.12    349.13      300     2700       False   \n",
       "2020-08-28 11:41:37-04:00    349.12    349.13      300     2800       False   \n",
       "...                             ...       ...      ...      ...         ...   \n",
       "2020-08-28 11:41:40-04:00    349.10    349.12     2300     4100       False   \n",
       "2020-08-28 11:41:40-04:00    349.10    349.12     2300     4000       False   \n",
       "2020-08-28 11:41:40-04:00    349.10    349.12     2300     3800       False   \n",
       "2020-08-28 11:41:40-04:00    349.10    349.12     2300     3700       False   \n",
       "2020-08-28 11:41:40-04:00    349.10    349.12     2400     3700       False   \n",
       "\n",
       "                           askPastHigh  \n",
       "time                                    \n",
       "2020-08-28 11:41:36-04:00        False  \n",
       "2020-08-28 11:41:37-04:00        False  \n",
       "2020-08-28 11:41:37-04:00        False  \n",
       "2020-08-28 11:41:37-04:00        False  \n",
       "2020-08-28 11:41:37-04:00        False  \n",
       "...                                ...  \n",
       "2020-08-28 11:41:40-04:00        False  \n",
       "2020-08-28 11:41:40-04:00        False  \n",
       "2020-08-28 11:41:40-04:00        False  \n",
       "2020-08-28 11:41:40-04:00        False  \n",
       "2020-08-28 11:41:40-04:00        False  \n",
       "\n",
       "[1093 rows x 6 columns]"
      ]
     },
     "metadata": {},
     "output_type": "display_data"
    },
    {
     "data": {
      "text/html": [
       "<div>\n",
       "<style scoped>\n",
       "    .dataframe tbody tr th:only-of-type {\n",
       "        vertical-align: middle;\n",
       "    }\n",
       "\n",
       "    .dataframe tbody tr th {\n",
       "        vertical-align: top;\n",
       "    }\n",
       "\n",
       "    .dataframe thead th {\n",
       "        text-align: right;\n",
       "    }\n",
       "</style>\n",
       "<table border=\"1\" class=\"dataframe\">\n",
       "  <thead>\n",
       "    <tr style=\"text-align: right;\">\n",
       "      <th></th>\n",
       "      <th>open</th>\n",
       "      <th>high</th>\n",
       "      <th>low</th>\n",
       "      <th>close</th>\n",
       "      <th>volume</th>\n",
       "      <th>average</th>\n",
       "      <th>barCount</th>\n",
       "    </tr>\n",
       "    <tr>\n",
       "      <th>date</th>\n",
       "      <th></th>\n",
       "      <th></th>\n",
       "      <th></th>\n",
       "      <th></th>\n",
       "      <th></th>\n",
       "      <th></th>\n",
       "      <th></th>\n",
       "    </tr>\n",
       "  </thead>\n",
       "  <tbody>\n",
       "    <tr>\n",
       "      <th>2020-08-28 04:00:00</th>\n",
       "      <td>349.26</td>\n",
       "      <td>349.43</td>\n",
       "      <td>349.26</td>\n",
       "      <td>349.43</td>\n",
       "      <td>8</td>\n",
       "      <td>349.343</td>\n",
       "      <td>5</td>\n",
       "    </tr>\n",
       "    <tr>\n",
       "      <th>2020-08-28 04:05:00</th>\n",
       "      <td>349.48</td>\n",
       "      <td>349.48</td>\n",
       "      <td>349.43</td>\n",
       "      <td>349.43</td>\n",
       "      <td>26</td>\n",
       "      <td>349.435</td>\n",
       "      <td>7</td>\n",
       "    </tr>\n",
       "    <tr>\n",
       "      <th>2020-08-28 04:10:00</th>\n",
       "      <td>349.46</td>\n",
       "      <td>349.48</td>\n",
       "      <td>349.43</td>\n",
       "      <td>349.48</td>\n",
       "      <td>39</td>\n",
       "      <td>349.441</td>\n",
       "      <td>10</td>\n",
       "    </tr>\n",
       "    <tr>\n",
       "      <th>2020-08-28 04:15:00</th>\n",
       "      <td>349.55</td>\n",
       "      <td>349.79</td>\n",
       "      <td>349.55</td>\n",
       "      <td>349.79</td>\n",
       "      <td>126</td>\n",
       "      <td>349.657</td>\n",
       "      <td>49</td>\n",
       "    </tr>\n",
       "    <tr>\n",
       "      <th>2020-08-28 04:20:00</th>\n",
       "      <td>349.75</td>\n",
       "      <td>350.02</td>\n",
       "      <td>349.75</td>\n",
       "      <td>350.02</td>\n",
       "      <td>53</td>\n",
       "      <td>349.881</td>\n",
       "      <td>18</td>\n",
       "    </tr>\n",
       "    <tr>\n",
       "      <th>...</th>\n",
       "      <td>...</td>\n",
       "      <td>...</td>\n",
       "      <td>...</td>\n",
       "      <td>...</td>\n",
       "      <td>...</td>\n",
       "      <td>...</td>\n",
       "      <td>...</td>\n",
       "    </tr>\n",
       "    <tr>\n",
       "      <th>2020-08-28 19:35:00</th>\n",
       "      <td>350.94</td>\n",
       "      <td>350.96</td>\n",
       "      <td>350.92</td>\n",
       "      <td>350.95</td>\n",
       "      <td>18</td>\n",
       "      <td>350.950</td>\n",
       "      <td>8</td>\n",
       "    </tr>\n",
       "    <tr>\n",
       "      <th>2020-08-28 19:40:00</th>\n",
       "      <td>350.94</td>\n",
       "      <td>350.98</td>\n",
       "      <td>350.94</td>\n",
       "      <td>350.96</td>\n",
       "      <td>48</td>\n",
       "      <td>350.962</td>\n",
       "      <td>13</td>\n",
       "    </tr>\n",
       "    <tr>\n",
       "      <th>2020-08-28 19:45:00</th>\n",
       "      <td>350.96</td>\n",
       "      <td>350.96</td>\n",
       "      <td>350.96</td>\n",
       "      <td>350.96</td>\n",
       "      <td>13</td>\n",
       "      <td>350.960</td>\n",
       "      <td>5</td>\n",
       "    </tr>\n",
       "    <tr>\n",
       "      <th>2020-08-28 19:50:00</th>\n",
       "      <td>350.95</td>\n",
       "      <td>351.03</td>\n",
       "      <td>350.95</td>\n",
       "      <td>351.00</td>\n",
       "      <td>68</td>\n",
       "      <td>351.003</td>\n",
       "      <td>17</td>\n",
       "    </tr>\n",
       "    <tr>\n",
       "      <th>2020-08-28 19:55:00</th>\n",
       "      <td>351.03</td>\n",
       "      <td>351.03</td>\n",
       "      <td>350.98</td>\n",
       "      <td>350.98</td>\n",
       "      <td>38</td>\n",
       "      <td>351.003</td>\n",
       "      <td>14</td>\n",
       "    </tr>\n",
       "  </tbody>\n",
       "</table>\n",
       "<p>192 rows × 7 columns</p>\n",
       "</div>"
      ],
      "text/plain": [
       "                       open    high     low   close  volume  average  barCount\n",
       "date                                                                          \n",
       "2020-08-28 04:00:00  349.26  349.43  349.26  349.43       8  349.343         5\n",
       "2020-08-28 04:05:00  349.48  349.48  349.43  349.43      26  349.435         7\n",
       "2020-08-28 04:10:00  349.46  349.48  349.43  349.48      39  349.441        10\n",
       "2020-08-28 04:15:00  349.55  349.79  349.55  349.79     126  349.657        49\n",
       "2020-08-28 04:20:00  349.75  350.02  349.75  350.02      53  349.881        18\n",
       "...                     ...     ...     ...     ...     ...      ...       ...\n",
       "2020-08-28 19:35:00  350.94  350.96  350.92  350.95      18  350.950         8\n",
       "2020-08-28 19:40:00  350.94  350.98  350.94  350.96      48  350.962        13\n",
       "2020-08-28 19:45:00  350.96  350.96  350.96  350.96      13  350.960         5\n",
       "2020-08-28 19:50:00  350.95  351.03  350.95  351.00      68  351.003        17\n",
       "2020-08-28 19:55:00  351.03  351.03  350.98  350.98      38  351.003        14\n",
       "\n",
       "[192 rows x 7 columns]"
      ]
     },
     "metadata": {},
     "output_type": "display_data"
    },
    {
     "data": {
      "text/html": [
       "<div>\n",
       "<style scoped>\n",
       "    .dataframe tbody tr th:only-of-type {\n",
       "        vertical-align: middle;\n",
       "    }\n",
       "\n",
       "    .dataframe tbody tr th {\n",
       "        vertical-align: top;\n",
       "    }\n",
       "\n",
       "    .dataframe thead th {\n",
       "        text-align: right;\n",
       "    }\n",
       "</style>\n",
       "<table border=\"1\" class=\"dataframe\">\n",
       "  <thead>\n",
       "    <tr style=\"text-align: right;\">\n",
       "      <th></th>\n",
       "      <th>open</th>\n",
       "      <th>high</th>\n",
       "      <th>low</th>\n",
       "      <th>close</th>\n",
       "      <th>volume</th>\n",
       "      <th>average</th>\n",
       "      <th>barCount</th>\n",
       "    </tr>\n",
       "    <tr>\n",
       "      <th>date</th>\n",
       "      <th></th>\n",
       "      <th></th>\n",
       "      <th></th>\n",
       "      <th></th>\n",
       "      <th></th>\n",
       "      <th></th>\n",
       "      <th></th>\n",
       "    </tr>\n",
       "  </thead>\n",
       "  <tbody>\n",
       "    <tr>\n",
       "      <th>2020-08-28 04:00:00</th>\n",
       "      <td>349.25</td>\n",
       "      <td>349.98</td>\n",
       "      <td>348.26</td>\n",
       "      <td>349.32</td>\n",
       "      <td>-1</td>\n",
       "      <td>-1.0</td>\n",
       "      <td>-1</td>\n",
       "    </tr>\n",
       "    <tr>\n",
       "      <th>2020-08-28 04:05:00</th>\n",
       "      <td>349.44</td>\n",
       "      <td>349.59</td>\n",
       "      <td>349.33</td>\n",
       "      <td>349.50</td>\n",
       "      <td>-1</td>\n",
       "      <td>-1.0</td>\n",
       "      <td>-1</td>\n",
       "    </tr>\n",
       "    <tr>\n",
       "      <th>2020-08-28 04:10:00</th>\n",
       "      <td>349.46</td>\n",
       "      <td>349.62</td>\n",
       "      <td>349.35</td>\n",
       "      <td>349.49</td>\n",
       "      <td>-1</td>\n",
       "      <td>-1.0</td>\n",
       "      <td>-1</td>\n",
       "    </tr>\n",
       "    <tr>\n",
       "      <th>2020-08-28 04:15:00</th>\n",
       "      <td>349.67</td>\n",
       "      <td>349.83</td>\n",
       "      <td>349.51</td>\n",
       "      <td>349.70</td>\n",
       "      <td>-1</td>\n",
       "      <td>-1.0</td>\n",
       "      <td>-1</td>\n",
       "    </tr>\n",
       "    <tr>\n",
       "      <th>2020-08-28 04:20:00</th>\n",
       "      <td>349.83</td>\n",
       "      <td>350.08</td>\n",
       "      <td>349.68</td>\n",
       "      <td>349.86</td>\n",
       "      <td>-1</td>\n",
       "      <td>-1.0</td>\n",
       "      <td>-1</td>\n",
       "    </tr>\n",
       "    <tr>\n",
       "      <th>...</th>\n",
       "      <td>...</td>\n",
       "      <td>...</td>\n",
       "      <td>...</td>\n",
       "      <td>...</td>\n",
       "      <td>...</td>\n",
       "      <td>...</td>\n",
       "      <td>...</td>\n",
       "    </tr>\n",
       "    <tr>\n",
       "      <th>2020-08-28 19:35:00</th>\n",
       "      <td>350.92</td>\n",
       "      <td>350.96</td>\n",
       "      <td>350.91</td>\n",
       "      <td>350.95</td>\n",
       "      <td>-1</td>\n",
       "      <td>-1.0</td>\n",
       "      <td>-1</td>\n",
       "    </tr>\n",
       "    <tr>\n",
       "      <th>2020-08-28 19:40:00</th>\n",
       "      <td>350.94</td>\n",
       "      <td>350.99</td>\n",
       "      <td>350.91</td>\n",
       "      <td>350.98</td>\n",
       "      <td>-1</td>\n",
       "      <td>-1.0</td>\n",
       "      <td>-1</td>\n",
       "    </tr>\n",
       "    <tr>\n",
       "      <th>2020-08-28 19:45:00</th>\n",
       "      <td>350.93</td>\n",
       "      <td>350.99</td>\n",
       "      <td>350.93</td>\n",
       "      <td>350.97</td>\n",
       "      <td>-1</td>\n",
       "      <td>-1.0</td>\n",
       "      <td>-1</td>\n",
       "    </tr>\n",
       "    <tr>\n",
       "      <th>2020-08-28 19:50:00</th>\n",
       "      <td>350.96</td>\n",
       "      <td>351.03</td>\n",
       "      <td>350.95</td>\n",
       "      <td>351.00</td>\n",
       "      <td>-1</td>\n",
       "      <td>-1.0</td>\n",
       "      <td>-1</td>\n",
       "    </tr>\n",
       "    <tr>\n",
       "      <th>2020-08-28 19:55:00</th>\n",
       "      <td>350.98</td>\n",
       "      <td>351.03</td>\n",
       "      <td>350.94</td>\n",
       "      <td>351.01</td>\n",
       "      <td>-1</td>\n",
       "      <td>-1.0</td>\n",
       "      <td>-1</td>\n",
       "    </tr>\n",
       "  </tbody>\n",
       "</table>\n",
       "<p>192 rows × 7 columns</p>\n",
       "</div>"
      ],
      "text/plain": [
       "                       open    high     low   close  volume  average  barCount\n",
       "date                                                                          \n",
       "2020-08-28 04:00:00  349.25  349.98  348.26  349.32      -1     -1.0        -1\n",
       "2020-08-28 04:05:00  349.44  349.59  349.33  349.50      -1     -1.0        -1\n",
       "2020-08-28 04:10:00  349.46  349.62  349.35  349.49      -1     -1.0        -1\n",
       "2020-08-28 04:15:00  349.67  349.83  349.51  349.70      -1     -1.0        -1\n",
       "2020-08-28 04:20:00  349.83  350.08  349.68  349.86      -1     -1.0        -1\n",
       "...                     ...     ...     ...     ...     ...      ...       ...\n",
       "2020-08-28 19:35:00  350.92  350.96  350.91  350.95      -1     -1.0        -1\n",
       "2020-08-28 19:40:00  350.94  350.99  350.91  350.98      -1     -1.0        -1\n",
       "2020-08-28 19:45:00  350.93  350.99  350.93  350.97      -1     -1.0        -1\n",
       "2020-08-28 19:50:00  350.96  351.03  350.95  351.00      -1     -1.0        -1\n",
       "2020-08-28 19:55:00  350.98  351.03  350.94  351.01      -1     -1.0        -1\n",
       "\n",
       "[192 rows x 7 columns]"
      ]
     },
     "metadata": {},
     "output_type": "display_data"
    },
    {
     "data": {
      "text/html": [
       "<div>\n",
       "<style scoped>\n",
       "    .dataframe tbody tr th:only-of-type {\n",
       "        vertical-align: middle;\n",
       "    }\n",
       "\n",
       "    .dataframe tbody tr th {\n",
       "        vertical-align: top;\n",
       "    }\n",
       "\n",
       "    .dataframe thead th {\n",
       "        text-align: right;\n",
       "    }\n",
       "</style>\n",
       "<table border=\"1\" class=\"dataframe\">\n",
       "  <thead>\n",
       "    <tr style=\"text-align: right;\">\n",
       "      <th></th>\n",
       "      <th>open</th>\n",
       "      <th>high</th>\n",
       "      <th>low</th>\n",
       "      <th>close</th>\n",
       "      <th>volume</th>\n",
       "      <th>average</th>\n",
       "      <th>barCount</th>\n",
       "    </tr>\n",
       "    <tr>\n",
       "      <th>date</th>\n",
       "      <th></th>\n",
       "      <th></th>\n",
       "      <th></th>\n",
       "      <th></th>\n",
       "      <th></th>\n",
       "      <th></th>\n",
       "      <th></th>\n",
       "    </tr>\n",
       "  </thead>\n",
       "  <tbody>\n",
       "    <tr>\n",
       "      <th>2020-08-28 04:00:00</th>\n",
       "      <td>349.120</td>\n",
       "      <td>349.455</td>\n",
       "      <td>349.120</td>\n",
       "      <td>349.405</td>\n",
       "      <td>-1</td>\n",
       "      <td>-1.0</td>\n",
       "      <td>-1</td>\n",
       "    </tr>\n",
       "    <tr>\n",
       "      <th>2020-08-28 04:05:00</th>\n",
       "      <td>349.405</td>\n",
       "      <td>349.555</td>\n",
       "      <td>349.355</td>\n",
       "      <td>349.445</td>\n",
       "      <td>-1</td>\n",
       "      <td>-1.0</td>\n",
       "      <td>-1</td>\n",
       "    </tr>\n",
       "    <tr>\n",
       "      <th>2020-08-28 04:10:00</th>\n",
       "      <td>349.445</td>\n",
       "      <td>349.590</td>\n",
       "      <td>349.375</td>\n",
       "      <td>349.530</td>\n",
       "      <td>-1</td>\n",
       "      <td>-1.0</td>\n",
       "      <td>-1</td>\n",
       "    </tr>\n",
       "    <tr>\n",
       "      <th>2020-08-28 04:15:00</th>\n",
       "      <td>349.530</td>\n",
       "      <td>349.805</td>\n",
       "      <td>349.525</td>\n",
       "      <td>349.760</td>\n",
       "      <td>-1</td>\n",
       "      <td>-1.0</td>\n",
       "      <td>-1</td>\n",
       "    </tr>\n",
       "    <tr>\n",
       "      <th>2020-08-28 04:20:00</th>\n",
       "      <td>349.760</td>\n",
       "      <td>350.055</td>\n",
       "      <td>349.690</td>\n",
       "      <td>350.030</td>\n",
       "      <td>-1</td>\n",
       "      <td>-1.0</td>\n",
       "      <td>-1</td>\n",
       "    </tr>\n",
       "    <tr>\n",
       "      <th>...</th>\n",
       "      <td>...</td>\n",
       "      <td>...</td>\n",
       "      <td>...</td>\n",
       "      <td>...</td>\n",
       "      <td>...</td>\n",
       "      <td>...</td>\n",
       "      <td>...</td>\n",
       "    </tr>\n",
       "    <tr>\n",
       "      <th>2020-08-28 19:35:00</th>\n",
       "      <td>350.925</td>\n",
       "      <td>350.955</td>\n",
       "      <td>350.915</td>\n",
       "      <td>350.935</td>\n",
       "      <td>-1</td>\n",
       "      <td>-1.0</td>\n",
       "      <td>-1</td>\n",
       "    </tr>\n",
       "    <tr>\n",
       "      <th>2020-08-28 19:40:00</th>\n",
       "      <td>350.935</td>\n",
       "      <td>350.980</td>\n",
       "      <td>350.925</td>\n",
       "      <td>350.950</td>\n",
       "      <td>-1</td>\n",
       "      <td>-1.0</td>\n",
       "      <td>-1</td>\n",
       "    </tr>\n",
       "    <tr>\n",
       "      <th>2020-08-28 19:45:00</th>\n",
       "      <td>350.950</td>\n",
       "      <td>350.975</td>\n",
       "      <td>350.945</td>\n",
       "      <td>350.970</td>\n",
       "      <td>-1</td>\n",
       "      <td>-1.0</td>\n",
       "      <td>-1</td>\n",
       "    </tr>\n",
       "    <tr>\n",
       "      <th>2020-08-28 19:50:00</th>\n",
       "      <td>350.970</td>\n",
       "      <td>351.025</td>\n",
       "      <td>350.965</td>\n",
       "      <td>351.015</td>\n",
       "      <td>-1</td>\n",
       "      <td>-1.0</td>\n",
       "      <td>-1</td>\n",
       "    </tr>\n",
       "    <tr>\n",
       "      <th>2020-08-28 19:55:00</th>\n",
       "      <td>351.015</td>\n",
       "      <td>351.015</td>\n",
       "      <td>350.970</td>\n",
       "      <td>350.985</td>\n",
       "      <td>-1</td>\n",
       "      <td>-1.0</td>\n",
       "      <td>-1</td>\n",
       "    </tr>\n",
       "  </tbody>\n",
       "</table>\n",
       "<p>192 rows × 7 columns</p>\n",
       "</div>"
      ],
      "text/plain": [
       "                        open     high      low    close  volume  average  \\\n",
       "date                                                                       \n",
       "2020-08-28 04:00:00  349.120  349.455  349.120  349.405      -1     -1.0   \n",
       "2020-08-28 04:05:00  349.405  349.555  349.355  349.445      -1     -1.0   \n",
       "2020-08-28 04:10:00  349.445  349.590  349.375  349.530      -1     -1.0   \n",
       "2020-08-28 04:15:00  349.530  349.805  349.525  349.760      -1     -1.0   \n",
       "2020-08-28 04:20:00  349.760  350.055  349.690  350.030      -1     -1.0   \n",
       "...                      ...      ...      ...      ...     ...      ...   \n",
       "2020-08-28 19:35:00  350.925  350.955  350.915  350.935      -1     -1.0   \n",
       "2020-08-28 19:40:00  350.935  350.980  350.925  350.950      -1     -1.0   \n",
       "2020-08-28 19:45:00  350.950  350.975  350.945  350.970      -1     -1.0   \n",
       "2020-08-28 19:50:00  350.970  351.025  350.965  351.015      -1     -1.0   \n",
       "2020-08-28 19:55:00  351.015  351.015  350.970  350.985      -1     -1.0   \n",
       "\n",
       "                     barCount  \n",
       "date                           \n",
       "2020-08-28 04:00:00        -1  \n",
       "2020-08-28 04:05:00        -1  \n",
       "2020-08-28 04:10:00        -1  \n",
       "2020-08-28 04:15:00        -1  \n",
       "2020-08-28 04:20:00        -1  \n",
       "...                       ...  \n",
       "2020-08-28 19:35:00        -1  \n",
       "2020-08-28 19:40:00        -1  \n",
       "2020-08-28 19:45:00        -1  \n",
       "2020-08-28 19:50:00        -1  \n",
       "2020-08-28 19:55:00        -1  \n",
       "\n",
       "[192 rows x 7 columns]"
      ]
     },
     "metadata": {},
     "output_type": "display_data"
    }
   ],
   "source": [
    "import qgrid\n",
    "import functools\n",
    "from collections import namedtuple\n",
    "import pandas as pd\n",
    "\n",
    "pd.set_option('display.max_colwidth',100)\n",
    "start = ''\n",
    "end = \"20200828 11:41:41\"\n",
    "contract = Stock('SPY', 'SMART', 'USD')\n",
    "\n",
    "ticks = ib.reqHistoricalTicks(contract, start, end, 1000, 'TRADES', useRth=False)\n",
    "df = util.df(ticks)\n",
    "df = df.set_index('time')\n",
    "df = df.tz_convert('America/Toronto')\n",
    "\n",
    "df['pastLimit'] = [row.pastLimit for row in df['tickAttribLast']]\n",
    "df['unreported'] = [row.unreported for row in df['tickAttribLast']]\n",
    "del df['tickAttribLast']\n",
    "display(df)\n",
    "ticks = ib.reqHistoricalTicks(contract, start, end, 1000, 'BID_ASK', useRth=False)\n",
    "df = util.df(ticks)\n",
    "df = df.set_index('time')\n",
    "df = df.tz_convert('America/Toronto')\n",
    "# display(df)\n",
    "# print(df.dtypes)\n",
    "\n",
    "df['bidPastLow'] = [row.bidPastLow for row in df['tickAttribBidAsk']]\n",
    "df['askPastHigh'] = [row.askPastHigh for row in df['tickAttribBidAsk']]\n",
    "del df['tickAttribBidAsk']\n",
    "display(df)\n",
    "# df.to_csv(\"tsla.csv\")\n",
    "\n",
    "\n",
    "end = \"20200828 23:59:00\"\n",
    "bars = ib.reqHistoricalData(\n",
    "    contract,endDateTime=end, durationStr='1 D',\n",
    "    barSizeSetting='5 mins', whatToShow='TRADES', useRTH=False)\n",
    "df = util.df(bars)\n",
    "df = df.set_index('date')\n",
    "display(df)\n",
    "\n",
    "bars = ib.reqHistoricalData(\n",
    "    contract,endDateTime=end, durationStr='1 D',\n",
    "    barSizeSetting='5 mins', whatToShow='BID_ASK', useRTH=False)\n",
    "df = util.df(bars)\n",
    "df = df.set_index('date')\n",
    "display(df)\n",
    "bars = ib.reqHistoricalData(\n",
    "    contract,endDateTime=end, durationStr='1 D',\n",
    "    barSizeSetting='5 mins', whatToShow='MIDPOINT', useRTH=False)\n",
    "\n",
    "df = util.df(bars)\n",
    "df = df.set_index('date')\n",
    "\n",
    "display(df)"
   ]
  },
  {
   "cell_type": "code",
   "execution_count": 3,
   "metadata": {
    "ExecuteTime": {
     "end_time": "2020-09-01T01:47:32.990850Z",
     "start_time": "2020-09-01T01:47:32.987814Z"
    }
   },
   "outputs": [],
   "source": [
    "from datetime import datetime as dt, timedelta as td\n",
    "contract = Stock('SPY', 'SMART', 'USD')\n",
    "# def getTicks(date):\n",
    "date = dt.now()\n",
    "start = ''\n",
    "end = \"20200828 11:41:41\""
   ]
  },
  {
   "cell_type": "code",
   "execution_count": 4,
   "metadata": {
    "ExecuteTime": {
     "end_time": "2020-09-01T01:59:09.809364Z",
     "start_time": "2020-09-01T01:47:56.083911Z"
    },
    "scrolled": true
   },
   "outputs": [
    {
     "data": {
      "text/plain": [
       "Timestamp('2020-08-28 18:12:57-0400', tz='America/Toronto')"
      ]
     },
     "metadata": {},
     "output_type": "display_data"
    },
    {
     "name": "stdout",
     "output_type": "stream",
     "text": [
      "going  20200828 18:12:57\n"
     ]
    },
    {
     "data": {
      "text/plain": [
       "Timestamp('2020-08-28 17:03:18-0400', tz='America/Toronto')"
      ]
     },
     "metadata": {},
     "output_type": "display_data"
    },
    {
     "name": "stdout",
     "output_type": "stream",
     "text": [
      "going  20200828 17:03:18\n"
     ]
    },
    {
     "data": {
      "text/plain": [
       "Timestamp('2020-08-28 16:29:56-0400', tz='America/Toronto')"
      ]
     },
     "metadata": {},
     "output_type": "display_data"
    },
    {
     "name": "stdout",
     "output_type": "stream",
     "text": [
      "going  20200828 16:29:56\n"
     ]
    },
    {
     "data": {
      "text/plain": [
       "Timestamp('2020-08-28 16:11:19-0400', tz='America/Toronto')"
      ]
     },
     "metadata": {},
     "output_type": "display_data"
    },
    {
     "name": "stdout",
     "output_type": "stream",
     "text": [
      "going  20200828 16:11:19\n"
     ]
    },
    {
     "data": {
      "text/plain": [
       "Timestamp('2020-08-28 16:06:23-0400', tz='America/Toronto')"
      ]
     },
     "metadata": {},
     "output_type": "display_data"
    },
    {
     "name": "stdout",
     "output_type": "stream",
     "text": [
      "going  20200828 16:06:23\n"
     ]
    },
    {
     "data": {
      "text/plain": [
       "Timestamp('2020-08-28 16:02:47-0400', tz='America/Toronto')"
      ]
     },
     "metadata": {},
     "output_type": "display_data"
    },
    {
     "name": "stdout",
     "output_type": "stream",
     "text": [
      "going  20200828 16:02:47\n"
     ]
    },
    {
     "data": {
      "text/plain": [
       "Timestamp('2020-08-28 16:00:26-0400', tz='America/Toronto')"
      ]
     },
     "metadata": {},
     "output_type": "display_data"
    },
    {
     "name": "stdout",
     "output_type": "stream",
     "text": [
      "going  20200828 16:00:26\n"
     ]
    },
    {
     "data": {
      "text/plain": [
       "Timestamp('2020-08-28 15:59:59-0400', tz='America/Toronto')"
      ]
     },
     "metadata": {},
     "output_type": "display_data"
    },
    {
     "name": "stdout",
     "output_type": "stream",
     "text": [
      "going  20200828 15:59:59\n"
     ]
    },
    {
     "data": {
      "text/plain": [
       "Timestamp('2020-08-28 15:59:49-0400', tz='America/Toronto')"
      ]
     },
     "metadata": {},
     "output_type": "display_data"
    },
    {
     "name": "stdout",
     "output_type": "stream",
     "text": [
      "going  20200828 15:59:49\n"
     ]
    },
    {
     "data": {
      "text/plain": [
       "Timestamp('2020-08-28 15:59:33-0400', tz='America/Toronto')"
      ]
     },
     "metadata": {},
     "output_type": "display_data"
    },
    {
     "name": "stdout",
     "output_type": "stream",
     "text": [
      "going  20200828 15:59:33\n"
     ]
    },
    {
     "data": {
      "text/plain": [
       "Timestamp('2020-08-28 15:59:14-0400', tz='America/Toronto')"
      ]
     },
     "metadata": {},
     "output_type": "display_data"
    },
    {
     "name": "stdout",
     "output_type": "stream",
     "text": [
      "going  20200828 15:59:14\n"
     ]
    },
    {
     "data": {
      "text/plain": [
       "Timestamp('2020-08-28 15:59:00-0400', tz='America/Toronto')"
      ]
     },
     "metadata": {},
     "output_type": "display_data"
    },
    {
     "name": "stdout",
     "output_type": "stream",
     "text": [
      "going  20200828 15:59:00\n"
     ]
    },
    {
     "data": {
      "text/plain": [
       "Timestamp('2020-08-28 15:58:40-0400', tz='America/Toronto')"
      ]
     },
     "metadata": {},
     "output_type": "display_data"
    },
    {
     "name": "stdout",
     "output_type": "stream",
     "text": [
      "going  20200828 15:58:40\n"
     ]
    },
    {
     "data": {
      "text/plain": [
       "Timestamp('2020-08-28 15:58:15-0400', tz='America/Toronto')"
      ]
     },
     "metadata": {},
     "output_type": "display_data"
    },
    {
     "name": "stdout",
     "output_type": "stream",
     "text": [
      "going  20200828 15:58:15\n"
     ]
    },
    {
     "data": {
      "text/plain": [
       "Timestamp('2020-08-28 15:57:44-0400', tz='America/Toronto')"
      ]
     },
     "metadata": {},
     "output_type": "display_data"
    },
    {
     "name": "stdout",
     "output_type": "stream",
     "text": [
      "going  20200828 15:57:44\n"
     ]
    },
    {
     "data": {
      "text/plain": [
       "Timestamp('2020-08-28 15:57:12-0400', tz='America/Toronto')"
      ]
     },
     "metadata": {},
     "output_type": "display_data"
    },
    {
     "name": "stdout",
     "output_type": "stream",
     "text": [
      "going  20200828 15:57:12\n"
     ]
    },
    {
     "data": {
      "text/plain": [
       "Timestamp('2020-08-28 15:56:35-0400', tz='America/Toronto')"
      ]
     },
     "metadata": {},
     "output_type": "display_data"
    },
    {
     "name": "stdout",
     "output_type": "stream",
     "text": [
      "going  20200828 15:56:35\n"
     ]
    },
    {
     "data": {
      "text/plain": [
       "Timestamp('2020-08-28 15:56:12-0400', tz='America/Toronto')"
      ]
     },
     "metadata": {},
     "output_type": "display_data"
    },
    {
     "name": "stdout",
     "output_type": "stream",
     "text": [
      "going  20200828 15:56:12\n"
     ]
    },
    {
     "data": {
      "text/plain": [
       "Timestamp('2020-08-28 15:55:42-0400', tz='America/Toronto')"
      ]
     },
     "metadata": {},
     "output_type": "display_data"
    },
    {
     "name": "stdout",
     "output_type": "stream",
     "text": [
      "going  20200828 15:55:42\n"
     ]
    },
    {
     "data": {
      "text/plain": [
       "Timestamp('2020-08-28 15:55:22-0400', tz='America/Toronto')"
      ]
     },
     "metadata": {},
     "output_type": "display_data"
    },
    {
     "name": "stdout",
     "output_type": "stream",
     "text": [
      "going  20200828 15:55:22\n"
     ]
    },
    {
     "data": {
      "text/plain": [
       "Timestamp('2020-08-28 15:54:54-0400', tz='America/Toronto')"
      ]
     },
     "metadata": {},
     "output_type": "display_data"
    },
    {
     "name": "stdout",
     "output_type": "stream",
     "text": [
      "going  20200828 15:54:54\n"
     ]
    },
    {
     "data": {
      "text/plain": [
       "Timestamp('2020-08-28 15:54:33-0400', tz='America/Toronto')"
      ]
     },
     "metadata": {},
     "output_type": "display_data"
    },
    {
     "name": "stdout",
     "output_type": "stream",
     "text": [
      "going  20200828 15:54:33\n"
     ]
    },
    {
     "data": {
      "text/plain": [
       "Timestamp('2020-08-28 15:54:13-0400', tz='America/Toronto')"
      ]
     },
     "metadata": {},
     "output_type": "display_data"
    },
    {
     "name": "stdout",
     "output_type": "stream",
     "text": [
      "going  20200828 15:54:13\n"
     ]
    },
    {
     "data": {
      "text/plain": [
       "Timestamp('2020-08-28 15:53:44-0400', tz='America/Toronto')"
      ]
     },
     "metadata": {},
     "output_type": "display_data"
    },
    {
     "name": "stdout",
     "output_type": "stream",
     "text": [
      "going  20200828 15:53:44\n"
     ]
    },
    {
     "data": {
      "text/plain": [
       "Timestamp('2020-08-28 15:53:10-0400', tz='America/Toronto')"
      ]
     },
     "metadata": {},
     "output_type": "display_data"
    },
    {
     "name": "stdout",
     "output_type": "stream",
     "text": [
      "going  20200828 15:53:10\n"
     ]
    },
    {
     "data": {
      "text/plain": [
       "Timestamp('2020-08-28 15:52:46-0400', tz='America/Toronto')"
      ]
     },
     "metadata": {},
     "output_type": "display_data"
    },
    {
     "name": "stdout",
     "output_type": "stream",
     "text": [
      "going  20200828 15:52:46\n"
     ]
    },
    {
     "data": {
      "text/plain": [
       "Timestamp('2020-08-28 15:52:28-0400', tz='America/Toronto')"
      ]
     },
     "metadata": {},
     "output_type": "display_data"
    },
    {
     "name": "stdout",
     "output_type": "stream",
     "text": [
      "going  20200828 15:52:28\n"
     ]
    },
    {
     "data": {
      "text/plain": [
       "Timestamp('2020-08-28 15:52:05-0400', tz='America/Toronto')"
      ]
     },
     "metadata": {},
     "output_type": "display_data"
    },
    {
     "name": "stdout",
     "output_type": "stream",
     "text": [
      "going  20200828 15:52:05\n"
     ]
    },
    {
     "data": {
      "text/plain": [
       "Timestamp('2020-08-28 15:51:40-0400', tz='America/Toronto')"
      ]
     },
     "metadata": {},
     "output_type": "display_data"
    },
    {
     "name": "stdout",
     "output_type": "stream",
     "text": [
      "going  20200828 15:51:40\n"
     ]
    },
    {
     "data": {
      "text/plain": [
       "Timestamp('2020-08-28 15:51:18-0400', tz='America/Toronto')"
      ]
     },
     "metadata": {},
     "output_type": "display_data"
    },
    {
     "name": "stdout",
     "output_type": "stream",
     "text": [
      "going  20200828 15:51:18\n"
     ]
    },
    {
     "data": {
      "text/plain": [
       "Timestamp('2020-08-28 15:50:59-0400', tz='America/Toronto')"
      ]
     },
     "metadata": {},
     "output_type": "display_data"
    },
    {
     "name": "stdout",
     "output_type": "stream",
     "text": [
      "going  20200828 15:50:59\n"
     ]
    },
    {
     "data": {
      "text/plain": [
       "Timestamp('2020-08-28 15:50:36-0400', tz='America/Toronto')"
      ]
     },
     "metadata": {},
     "output_type": "display_data"
    },
    {
     "name": "stdout",
     "output_type": "stream",
     "text": [
      "going  20200828 15:50:36\n"
     ]
    },
    {
     "data": {
      "text/plain": [
       "Timestamp('2020-08-28 15:50:03-0400', tz='America/Toronto')"
      ]
     },
     "metadata": {},
     "output_type": "display_data"
    },
    {
     "name": "stdout",
     "output_type": "stream",
     "text": [
      "going  20200828 15:50:03\n"
     ]
    },
    {
     "data": {
      "text/plain": [
       "Timestamp('2020-08-28 15:50:00-0400', tz='America/Toronto')"
      ]
     },
     "metadata": {},
     "output_type": "display_data"
    },
    {
     "name": "stdout",
     "output_type": "stream",
     "text": [
      "going  20200828 15:50:00\n"
     ]
    },
    {
     "data": {
      "text/plain": [
       "Timestamp('2020-08-28 15:49:16-0400', tz='America/Toronto')"
      ]
     },
     "metadata": {},
     "output_type": "display_data"
    },
    {
     "name": "stdout",
     "output_type": "stream",
     "text": [
      "going  20200828 15:49:16\n"
     ]
    },
    {
     "data": {
      "text/plain": [
       "Timestamp('2020-08-28 15:48:32-0400', tz='America/Toronto')"
      ]
     },
     "metadata": {},
     "output_type": "display_data"
    },
    {
     "name": "stdout",
     "output_type": "stream",
     "text": [
      "going  20200828 15:48:32\n"
     ]
    },
    {
     "data": {
      "text/plain": [
       "Timestamp('2020-08-28 15:47:44-0400', tz='America/Toronto')"
      ]
     },
     "metadata": {},
     "output_type": "display_data"
    },
    {
     "name": "stdout",
     "output_type": "stream",
     "text": [
      "going  20200828 15:47:44\n"
     ]
    },
    {
     "data": {
      "text/plain": [
       "Timestamp('2020-08-28 15:46:41-0400', tz='America/Toronto')"
      ]
     },
     "metadata": {},
     "output_type": "display_data"
    },
    {
     "name": "stdout",
     "output_type": "stream",
     "text": [
      "going  20200828 15:46:41\n"
     ]
    },
    {
     "data": {
      "text/plain": [
       "Timestamp('2020-08-28 15:45:36-0400', tz='America/Toronto')"
      ]
     },
     "metadata": {},
     "output_type": "display_data"
    },
    {
     "name": "stdout",
     "output_type": "stream",
     "text": [
      "going  20200828 15:45:36\n"
     ]
    },
    {
     "data": {
      "text/plain": [
       "Timestamp('2020-08-28 15:44:32-0400', tz='America/Toronto')"
      ]
     },
     "metadata": {},
     "output_type": "display_data"
    },
    {
     "name": "stdout",
     "output_type": "stream",
     "text": [
      "going  20200828 15:44:32\n"
     ]
    },
    {
     "data": {
      "text/plain": [
       "Timestamp('2020-08-28 15:43:26-0400', tz='America/Toronto')"
      ]
     },
     "metadata": {},
     "output_type": "display_data"
    },
    {
     "name": "stdout",
     "output_type": "stream",
     "text": [
      "going  20200828 15:43:26\n"
     ]
    },
    {
     "data": {
      "text/plain": [
       "Timestamp('2020-08-28 15:42:06-0400', tz='America/Toronto')"
      ]
     },
     "metadata": {},
     "output_type": "display_data"
    },
    {
     "name": "stdout",
     "output_type": "stream",
     "text": [
      "going  20200828 15:42:06\n"
     ]
    },
    {
     "data": {
      "text/plain": [
       "Timestamp('2020-08-28 15:40:49-0400', tz='America/Toronto')"
      ]
     },
     "metadata": {},
     "output_type": "display_data"
    },
    {
     "name": "stdout",
     "output_type": "stream",
     "text": [
      "going  20200828 15:40:49\n"
     ]
    },
    {
     "data": {
      "text/plain": [
       "Timestamp('2020-08-28 15:39:49-0400', tz='America/Toronto')"
      ]
     },
     "metadata": {},
     "output_type": "display_data"
    },
    {
     "name": "stdout",
     "output_type": "stream",
     "text": [
      "going  20200828 15:39:49\n"
     ]
    },
    {
     "data": {
      "text/plain": [
       "Timestamp('2020-08-28 15:38:11-0400', tz='America/Toronto')"
      ]
     },
     "metadata": {},
     "output_type": "display_data"
    },
    {
     "name": "stdout",
     "output_type": "stream",
     "text": [
      "going  20200828 15:38:11\n"
     ]
    },
    {
     "data": {
      "text/plain": [
       "Timestamp('2020-08-28 15:36:57-0400', tz='America/Toronto')"
      ]
     },
     "metadata": {},
     "output_type": "display_data"
    },
    {
     "name": "stdout",
     "output_type": "stream",
     "text": [
      "going  20200828 15:36:57\n"
     ]
    },
    {
     "data": {
      "text/plain": [
       "Timestamp('2020-08-28 15:35:43-0400', tz='America/Toronto')"
      ]
     },
     "metadata": {},
     "output_type": "display_data"
    },
    {
     "name": "stdout",
     "output_type": "stream",
     "text": [
      "going  20200828 15:35:43\n"
     ]
    },
    {
     "data": {
      "text/plain": [
       "Timestamp('2020-08-28 15:34:48-0400', tz='America/Toronto')"
      ]
     },
     "metadata": {},
     "output_type": "display_data"
    },
    {
     "name": "stdout",
     "output_type": "stream",
     "text": [
      "going  20200828 15:34:48\n"
     ]
    },
    {
     "data": {
      "text/plain": [
       "Timestamp('2020-08-28 15:33:39-0400', tz='America/Toronto')"
      ]
     },
     "metadata": {},
     "output_type": "display_data"
    },
    {
     "name": "stdout",
     "output_type": "stream",
     "text": [
      "going  20200828 15:33:39\n"
     ]
    },
    {
     "data": {
      "text/plain": [
       "Timestamp('2020-08-28 15:32:33-0400', tz='America/Toronto')"
      ]
     },
     "metadata": {},
     "output_type": "display_data"
    },
    {
     "name": "stdout",
     "output_type": "stream",
     "text": [
      "going  20200828 15:32:33\n"
     ]
    },
    {
     "data": {
      "text/plain": [
       "Timestamp('2020-08-28 15:31:22-0400', tz='America/Toronto')"
      ]
     },
     "metadata": {},
     "output_type": "display_data"
    },
    {
     "name": "stdout",
     "output_type": "stream",
     "text": [
      "going  20200828 15:31:22\n"
     ]
    },
    {
     "data": {
      "text/plain": [
       "Timestamp('2020-08-28 15:30:43-0400', tz='America/Toronto')"
      ]
     },
     "metadata": {},
     "output_type": "display_data"
    },
    {
     "name": "stdout",
     "output_type": "stream",
     "text": [
      "going  20200828 15:30:43\n"
     ]
    },
    {
     "data": {
      "text/plain": [
       "Timestamp('2020-08-28 15:29:55-0400', tz='America/Toronto')"
      ]
     },
     "metadata": {},
     "output_type": "display_data"
    },
    {
     "name": "stdout",
     "output_type": "stream",
     "text": [
      "going  20200828 15:29:55\n"
     ]
    },
    {
     "data": {
      "text/plain": [
       "Timestamp('2020-08-28 15:28:43-0400', tz='America/Toronto')"
      ]
     },
     "metadata": {},
     "output_type": "display_data"
    },
    {
     "name": "stdout",
     "output_type": "stream",
     "text": [
      "going  20200828 15:28:43\n"
     ]
    },
    {
     "data": {
      "text/plain": [
       "Timestamp('2020-08-28 15:27:41-0400', tz='America/Toronto')"
      ]
     },
     "metadata": {},
     "output_type": "display_data"
    },
    {
     "name": "stdout",
     "output_type": "stream",
     "text": [
      "going  20200828 15:27:41\n"
     ]
    },
    {
     "data": {
      "text/plain": [
       "Timestamp('2020-08-28 15:26:25-0400', tz='America/Toronto')"
      ]
     },
     "metadata": {},
     "output_type": "display_data"
    },
    {
     "name": "stdout",
     "output_type": "stream",
     "text": [
      "going  20200828 15:26:25\n"
     ]
    },
    {
     "data": {
      "text/plain": [
       "Timestamp('2020-08-28 15:25:03-0400', tz='America/Toronto')"
      ]
     },
     "metadata": {},
     "output_type": "display_data"
    },
    {
     "name": "stdout",
     "output_type": "stream",
     "text": [
      "going  20200828 15:25:03\n"
     ]
    },
    {
     "data": {
      "text/plain": [
       "Timestamp('2020-08-28 15:23:55-0400', tz='America/Toronto')"
      ]
     },
     "metadata": {},
     "output_type": "display_data"
    },
    {
     "name": "stdout",
     "output_type": "stream",
     "text": [
      "going  20200828 15:23:55\n"
     ]
    },
    {
     "data": {
      "text/plain": [
       "Timestamp('2020-08-28 15:22:53-0400', tz='America/Toronto')"
      ]
     },
     "metadata": {},
     "output_type": "display_data"
    },
    {
     "name": "stdout",
     "output_type": "stream",
     "text": [
      "going  20200828 15:22:53\n"
     ]
    },
    {
     "data": {
      "text/plain": [
       "Timestamp('2020-08-28 15:21:44-0400', tz='America/Toronto')"
      ]
     },
     "metadata": {},
     "output_type": "display_data"
    },
    {
     "name": "stdout",
     "output_type": "stream",
     "text": [
      "going  20200828 15:21:44\n"
     ]
    },
    {
     "data": {
      "text/plain": [
       "Timestamp('2020-08-28 15:20:33-0400', tz='America/Toronto')"
      ]
     },
     "metadata": {},
     "output_type": "display_data"
    },
    {
     "name": "stdout",
     "output_type": "stream",
     "text": [
      "going  20200828 15:20:33\n"
     ]
    },
    {
     "data": {
      "text/plain": [
       "Timestamp('2020-08-28 15:19:12-0400', tz='America/Toronto')"
      ]
     },
     "metadata": {},
     "output_type": "display_data"
    },
    {
     "name": "stdout",
     "output_type": "stream",
     "text": [
      "going  20200828 15:19:12\n"
     ]
    },
    {
     "data": {
      "text/plain": [
       "Timestamp('2020-08-28 15:18:22-0400', tz='America/Toronto')"
      ]
     },
     "metadata": {},
     "output_type": "display_data"
    },
    {
     "name": "stdout",
     "output_type": "stream",
     "text": [
      "going  20200828 15:18:22\n"
     ]
    },
    {
     "data": {
      "text/plain": [
       "Timestamp('2020-08-28 15:17:00-0400', tz='America/Toronto')"
      ]
     },
     "metadata": {},
     "output_type": "display_data"
    },
    {
     "name": "stdout",
     "output_type": "stream",
     "text": [
      "going  20200828 15:17:00\n"
     ]
    },
    {
     "data": {
      "text/plain": [
       "Timestamp('2020-08-28 15:15:45-0400', tz='America/Toronto')"
      ]
     },
     "metadata": {},
     "output_type": "display_data"
    },
    {
     "name": "stdout",
     "output_type": "stream",
     "text": [
      "going  20200828 15:15:45\n"
     ]
    },
    {
     "data": {
      "text/plain": [
       "Timestamp('2020-08-28 15:14:53-0400', tz='America/Toronto')"
      ]
     },
     "metadata": {},
     "output_type": "display_data"
    },
    {
     "name": "stdout",
     "output_type": "stream",
     "text": [
      "going  20200828 15:14:53\n"
     ]
    },
    {
     "data": {
      "text/plain": [
       "Timestamp('2020-08-28 15:13:46-0400', tz='America/Toronto')"
      ]
     },
     "metadata": {},
     "output_type": "display_data"
    },
    {
     "name": "stdout",
     "output_type": "stream",
     "text": [
      "going  20200828 15:13:46\n"
     ]
    },
    {
     "data": {
      "text/plain": [
       "Timestamp('2020-08-28 15:13:03-0400', tz='America/Toronto')"
      ]
     },
     "metadata": {},
     "output_type": "display_data"
    },
    {
     "name": "stdout",
     "output_type": "stream",
     "text": [
      "going  20200828 15:13:03\n"
     ]
    },
    {
     "data": {
      "text/plain": [
       "Timestamp('2020-08-28 15:12:15-0400', tz='America/Toronto')"
      ]
     },
     "metadata": {},
     "output_type": "display_data"
    },
    {
     "name": "stdout",
     "output_type": "stream",
     "text": [
      "going  20200828 15:12:15\n"
     ]
    },
    {
     "data": {
      "text/plain": [
       "Timestamp('2020-08-28 15:11:32-0400', tz='America/Toronto')"
      ]
     },
     "metadata": {},
     "output_type": "display_data"
    },
    {
     "name": "stdout",
     "output_type": "stream",
     "text": [
      "going  20200828 15:11:32\n"
     ]
    },
    {
     "data": {
      "text/plain": [
       "Timestamp('2020-08-28 15:10:18-0400', tz='America/Toronto')"
      ]
     },
     "metadata": {},
     "output_type": "display_data"
    },
    {
     "name": "stdout",
     "output_type": "stream",
     "text": [
      "going  20200828 15:10:18\n"
     ]
    },
    {
     "data": {
      "text/plain": [
       "Timestamp('2020-08-28 15:08:55-0400', tz='America/Toronto')"
      ]
     },
     "metadata": {},
     "output_type": "display_data"
    },
    {
     "name": "stdout",
     "output_type": "stream",
     "text": [
      "going  20200828 15:08:55\n"
     ]
    },
    {
     "data": {
      "text/plain": [
       "Timestamp('2020-08-28 15:08:15-0400', tz='America/Toronto')"
      ]
     },
     "metadata": {},
     "output_type": "display_data"
    },
    {
     "name": "stdout",
     "output_type": "stream",
     "text": [
      "going  20200828 15:08:15\n"
     ]
    },
    {
     "data": {
      "text/plain": [
       "Timestamp('2020-08-28 15:07:36-0400', tz='America/Toronto')"
      ]
     },
     "metadata": {},
     "output_type": "display_data"
    },
    {
     "name": "stdout",
     "output_type": "stream",
     "text": [
      "going  20200828 15:07:36\n"
     ]
    },
    {
     "data": {
      "text/plain": [
       "Timestamp('2020-08-28 15:06:39-0400', tz='America/Toronto')"
      ]
     },
     "metadata": {},
     "output_type": "display_data"
    },
    {
     "name": "stdout",
     "output_type": "stream",
     "text": [
      "going  20200828 15:06:39\n"
     ]
    },
    {
     "data": {
      "text/plain": [
       "Timestamp('2020-08-28 15:05:04-0400', tz='America/Toronto')"
      ]
     },
     "metadata": {},
     "output_type": "display_data"
    },
    {
     "name": "stdout",
     "output_type": "stream",
     "text": [
      "going  20200828 15:05:04\n"
     ]
    },
    {
     "data": {
      "text/plain": [
       "Timestamp('2020-08-28 15:03:50-0400', tz='America/Toronto')"
      ]
     },
     "metadata": {},
     "output_type": "display_data"
    },
    {
     "name": "stdout",
     "output_type": "stream",
     "text": [
      "going  20200828 15:03:50\n"
     ]
    },
    {
     "data": {
      "text/plain": [
       "Timestamp('2020-08-28 15:02:15-0400', tz='America/Toronto')"
      ]
     },
     "metadata": {},
     "output_type": "display_data"
    },
    {
     "name": "stdout",
     "output_type": "stream",
     "text": [
      "going  20200828 15:02:15\n"
     ]
    },
    {
     "data": {
      "text/plain": [
       "Timestamp('2020-08-28 15:01:07-0400', tz='America/Toronto')"
      ]
     },
     "metadata": {},
     "output_type": "display_data"
    },
    {
     "name": "stdout",
     "output_type": "stream",
     "text": [
      "going  20200828 15:01:07\n"
     ]
    },
    {
     "data": {
      "text/plain": [
       "Timestamp('2020-08-28 14:59:57-0400', tz='America/Toronto')"
      ]
     },
     "metadata": {},
     "output_type": "display_data"
    },
    {
     "name": "stdout",
     "output_type": "stream",
     "text": [
      "going  20200828 14:59:57\n"
     ]
    },
    {
     "data": {
      "text/plain": [
       "Timestamp('2020-08-28 14:58:14-0400', tz='America/Toronto')"
      ]
     },
     "metadata": {},
     "output_type": "display_data"
    },
    {
     "name": "stdout",
     "output_type": "stream",
     "text": [
      "going  20200828 14:58:14\n"
     ]
    },
    {
     "data": {
      "text/plain": [
       "Timestamp('2020-08-28 14:56:57-0400', tz='America/Toronto')"
      ]
     },
     "metadata": {},
     "output_type": "display_data"
    },
    {
     "name": "stdout",
     "output_type": "stream",
     "text": [
      "going  20200828 14:56:57\n"
     ]
    },
    {
     "data": {
      "text/plain": [
       "Timestamp('2020-08-28 14:55:05-0400', tz='America/Toronto')"
      ]
     },
     "metadata": {},
     "output_type": "display_data"
    },
    {
     "name": "stdout",
     "output_type": "stream",
     "text": [
      "going  20200828 14:55:05\n"
     ]
    },
    {
     "data": {
      "text/plain": [
       "Timestamp('2020-08-28 14:53:47-0400', tz='America/Toronto')"
      ]
     },
     "metadata": {},
     "output_type": "display_data"
    },
    {
     "name": "stdout",
     "output_type": "stream",
     "text": [
      "going  20200828 14:53:47\n"
     ]
    },
    {
     "data": {
      "text/plain": [
       "Timestamp('2020-08-28 14:52:17-0400', tz='America/Toronto')"
      ]
     },
     "metadata": {},
     "output_type": "display_data"
    },
    {
     "name": "stdout",
     "output_type": "stream",
     "text": [
      "going  20200828 14:52:17\n"
     ]
    },
    {
     "data": {
      "text/plain": [
       "Timestamp('2020-08-28 14:50:38-0400', tz='America/Toronto')"
      ]
     },
     "metadata": {},
     "output_type": "display_data"
    },
    {
     "name": "stdout",
     "output_type": "stream",
     "text": [
      "going  20200828 14:50:38\n"
     ]
    },
    {
     "data": {
      "text/plain": [
       "Timestamp('2020-08-28 14:49:33-0400', tz='America/Toronto')"
      ]
     },
     "metadata": {},
     "output_type": "display_data"
    },
    {
     "name": "stdout",
     "output_type": "stream",
     "text": [
      "going  20200828 14:49:33\n"
     ]
    },
    {
     "data": {
      "text/plain": [
       "Timestamp('2020-08-28 14:49:00-0400', tz='America/Toronto')"
      ]
     },
     "metadata": {},
     "output_type": "display_data"
    },
    {
     "name": "stdout",
     "output_type": "stream",
     "text": [
      "going  20200828 14:49:00\n"
     ]
    },
    {
     "data": {
      "text/plain": [
       "Timestamp('2020-08-28 14:48:15-0400', tz='America/Toronto')"
      ]
     },
     "metadata": {},
     "output_type": "display_data"
    },
    {
     "name": "stdout",
     "output_type": "stream",
     "text": [
      "going  20200828 14:48:15\n"
     ]
    },
    {
     "data": {
      "text/plain": [
       "Timestamp('2020-08-28 14:46:04-0400', tz='America/Toronto')"
      ]
     },
     "metadata": {},
     "output_type": "display_data"
    },
    {
     "name": "stdout",
     "output_type": "stream",
     "text": [
      "going  20200828 14:46:04\n"
     ]
    },
    {
     "data": {
      "text/plain": [
       "Timestamp('2020-08-28 14:43:31-0400', tz='America/Toronto')"
      ]
     },
     "metadata": {},
     "output_type": "display_data"
    },
    {
     "name": "stdout",
     "output_type": "stream",
     "text": [
      "going  20200828 14:43:31\n"
     ]
    },
    {
     "data": {
      "text/plain": [
       "Timestamp('2020-08-28 14:40:45-0400', tz='America/Toronto')"
      ]
     },
     "metadata": {},
     "output_type": "display_data"
    },
    {
     "name": "stdout",
     "output_type": "stream",
     "text": [
      "going  20200828 14:40:45\n"
     ]
    },
    {
     "data": {
      "text/plain": [
       "Timestamp('2020-08-28 14:39:06-0400', tz='America/Toronto')"
      ]
     },
     "metadata": {},
     "output_type": "display_data"
    },
    {
     "name": "stdout",
     "output_type": "stream",
     "text": [
      "going  20200828 14:39:06\n"
     ]
    },
    {
     "data": {
      "text/plain": [
       "Timestamp('2020-08-28 14:36:24-0400', tz='America/Toronto')"
      ]
     },
     "metadata": {},
     "output_type": "display_data"
    },
    {
     "name": "stdout",
     "output_type": "stream",
     "text": [
      "going  20200828 14:36:24\n"
     ]
    },
    {
     "data": {
      "text/plain": [
       "Timestamp('2020-08-28 14:33:44-0400', tz='America/Toronto')"
      ]
     },
     "metadata": {},
     "output_type": "display_data"
    },
    {
     "name": "stdout",
     "output_type": "stream",
     "text": [
      "going  20200828 14:33:44\n"
     ]
    },
    {
     "data": {
      "text/plain": [
       "Timestamp('2020-08-28 14:32:04-0400', tz='America/Toronto')"
      ]
     },
     "metadata": {},
     "output_type": "display_data"
    },
    {
     "name": "stdout",
     "output_type": "stream",
     "text": [
      "going  20200828 14:32:04\n"
     ]
    },
    {
     "data": {
      "text/plain": [
       "Timestamp('2020-08-28 14:29:57-0400', tz='America/Toronto')"
      ]
     },
     "metadata": {},
     "output_type": "display_data"
    },
    {
     "name": "stdout",
     "output_type": "stream",
     "text": [
      "going  20200828 14:29:57\n"
     ]
    },
    {
     "data": {
      "text/plain": [
       "Timestamp('2020-08-28 14:27:54-0400', tz='America/Toronto')"
      ]
     },
     "metadata": {},
     "output_type": "display_data"
    },
    {
     "name": "stdout",
     "output_type": "stream",
     "text": [
      "going  20200828 14:27:54\n"
     ]
    },
    {
     "data": {
      "text/plain": [
       "Timestamp('2020-08-28 14:25:35-0400', tz='America/Toronto')"
      ]
     },
     "metadata": {},
     "output_type": "display_data"
    },
    {
     "name": "stdout",
     "output_type": "stream",
     "text": [
      "going  20200828 14:25:35\n"
     ]
    },
    {
     "data": {
      "text/plain": [
       "Timestamp('2020-08-28 14:23:25-0400', tz='America/Toronto')"
      ]
     },
     "metadata": {},
     "output_type": "display_data"
    },
    {
     "name": "stdout",
     "output_type": "stream",
     "text": [
      "going  20200828 14:23:25\n"
     ]
    },
    {
     "data": {
      "text/plain": [
       "Timestamp('2020-08-28 14:21:21-0400', tz='America/Toronto')"
      ]
     },
     "metadata": {},
     "output_type": "display_data"
    },
    {
     "name": "stdout",
     "output_type": "stream",
     "text": [
      "going  20200828 14:21:21\n"
     ]
    },
    {
     "data": {
      "text/plain": [
       "Timestamp('2020-08-28 14:20:05-0400', tz='America/Toronto')"
      ]
     },
     "metadata": {},
     "output_type": "display_data"
    },
    {
     "name": "stdout",
     "output_type": "stream",
     "text": [
      "going  20200828 14:20:05\n"
     ]
    },
    {
     "data": {
      "text/plain": [
       "Timestamp('2020-08-28 14:18:09-0400', tz='America/Toronto')"
      ]
     },
     "metadata": {},
     "output_type": "display_data"
    },
    {
     "name": "stdout",
     "output_type": "stream",
     "text": [
      "going  20200828 14:18:09\n"
     ]
    },
    {
     "data": {
      "text/plain": [
       "Timestamp('2020-08-28 14:15:41-0400', tz='America/Toronto')"
      ]
     },
     "metadata": {},
     "output_type": "display_data"
    },
    {
     "name": "stdout",
     "output_type": "stream",
     "text": [
      "going  20200828 14:15:41\n"
     ]
    },
    {
     "data": {
      "text/plain": [
       "Timestamp('2020-08-28 14:13:13-0400', tz='America/Toronto')"
      ]
     },
     "metadata": {},
     "output_type": "display_data"
    },
    {
     "name": "stdout",
     "output_type": "stream",
     "text": [
      "going  20200828 14:13:13\n"
     ]
    },
    {
     "data": {
      "text/plain": [
       "Timestamp('2020-08-28 14:10:27-0400', tz='America/Toronto')"
      ]
     },
     "metadata": {},
     "output_type": "display_data"
    },
    {
     "name": "stdout",
     "output_type": "stream",
     "text": [
      "going  20200828 14:10:27\n"
     ]
    },
    {
     "data": {
      "text/plain": [
       "Timestamp('2020-08-28 14:08:43-0400', tz='America/Toronto')"
      ]
     },
     "metadata": {},
     "output_type": "display_data"
    },
    {
     "name": "stdout",
     "output_type": "stream",
     "text": [
      "going  20200828 14:08:43\n"
     ]
    },
    {
     "data": {
      "text/plain": [
       "Timestamp('2020-08-28 14:07:20-0400', tz='America/Toronto')"
      ]
     },
     "metadata": {},
     "output_type": "display_data"
    },
    {
     "name": "stdout",
     "output_type": "stream",
     "text": [
      "going  20200828 14:07:20\n"
     ]
    },
    {
     "data": {
      "text/plain": [
       "Timestamp('2020-08-28 14:05:29-0400', tz='America/Toronto')"
      ]
     },
     "metadata": {},
     "output_type": "display_data"
    },
    {
     "name": "stdout",
     "output_type": "stream",
     "text": [
      "going  20200828 14:05:29\n"
     ]
    },
    {
     "data": {
      "text/plain": [
       "Timestamp('2020-08-28 14:04:42-0400', tz='America/Toronto')"
      ]
     },
     "metadata": {},
     "output_type": "display_data"
    },
    {
     "name": "stdout",
     "output_type": "stream",
     "text": [
      "going  20200828 14:04:42\n"
     ]
    },
    {
     "data": {
      "text/plain": [
       "Timestamp('2020-08-28 14:01:32-0400', tz='America/Toronto')"
      ]
     },
     "metadata": {},
     "output_type": "display_data"
    },
    {
     "name": "stdout",
     "output_type": "stream",
     "text": [
      "going  20200828 14:01:32\n"
     ]
    },
    {
     "data": {
      "text/plain": [
       "Timestamp('2020-08-28 13:59:07-0400', tz='America/Toronto')"
      ]
     },
     "metadata": {},
     "output_type": "display_data"
    },
    {
     "name": "stdout",
     "output_type": "stream",
     "text": [
      "going  20200828 13:59:07\n"
     ]
    },
    {
     "data": {
      "text/plain": [
       "Timestamp('2020-08-28 13:56:46-0400', tz='America/Toronto')"
      ]
     },
     "metadata": {},
     "output_type": "display_data"
    },
    {
     "name": "stdout",
     "output_type": "stream",
     "text": [
      "going  20200828 13:56:46\n"
     ]
    },
    {
     "data": {
      "text/plain": [
       "Timestamp('2020-08-28 13:54:42-0400', tz='America/Toronto')"
      ]
     },
     "metadata": {},
     "output_type": "display_data"
    },
    {
     "name": "stdout",
     "output_type": "stream",
     "text": [
      "going  20200828 13:54:42\n"
     ]
    },
    {
     "data": {
      "text/plain": [
       "Timestamp('2020-08-28 13:52:53-0400', tz='America/Toronto')"
      ]
     },
     "metadata": {},
     "output_type": "display_data"
    },
    {
     "name": "stdout",
     "output_type": "stream",
     "text": [
      "going  20200828 13:52:53\n"
     ]
    },
    {
     "data": {
      "text/plain": [
       "Timestamp('2020-08-28 13:50:04-0400', tz='America/Toronto')"
      ]
     },
     "metadata": {},
     "output_type": "display_data"
    },
    {
     "name": "stdout",
     "output_type": "stream",
     "text": [
      "going  20200828 13:50:04\n"
     ]
    },
    {
     "data": {
      "text/plain": [
       "Timestamp('2020-08-28 13:46:57-0400', tz='America/Toronto')"
      ]
     },
     "metadata": {},
     "output_type": "display_data"
    },
    {
     "name": "stdout",
     "output_type": "stream",
     "text": [
      "going  20200828 13:46:57\n"
     ]
    },
    {
     "data": {
      "text/plain": [
       "Timestamp('2020-08-28 13:44:20-0400', tz='America/Toronto')"
      ]
     },
     "metadata": {},
     "output_type": "display_data"
    },
    {
     "name": "stdout",
     "output_type": "stream",
     "text": [
      "going  20200828 13:44:20\n"
     ]
    },
    {
     "data": {
      "text/plain": [
       "Timestamp('2020-08-28 13:41:52-0400', tz='America/Toronto')"
      ]
     },
     "metadata": {},
     "output_type": "display_data"
    },
    {
     "name": "stdout",
     "output_type": "stream",
     "text": [
      "going  20200828 13:41:52\n"
     ]
    },
    {
     "data": {
      "text/plain": [
       "Timestamp('2020-08-28 13:40:28-0400', tz='America/Toronto')"
      ]
     },
     "metadata": {},
     "output_type": "display_data"
    },
    {
     "name": "stdout",
     "output_type": "stream",
     "text": [
      "going  20200828 13:40:28\n"
     ]
    },
    {
     "data": {
      "text/plain": [
       "Timestamp('2020-08-28 13:39:29-0400', tz='America/Toronto')"
      ]
     },
     "metadata": {},
     "output_type": "display_data"
    },
    {
     "name": "stdout",
     "output_type": "stream",
     "text": [
      "going  20200828 13:39:29\n"
     ]
    },
    {
     "data": {
      "text/plain": [
       "Timestamp('2020-08-28 13:36:49-0400', tz='America/Toronto')"
      ]
     },
     "metadata": {},
     "output_type": "display_data"
    },
    {
     "name": "stdout",
     "output_type": "stream",
     "text": [
      "going  20200828 13:36:49\n"
     ]
    },
    {
     "data": {
      "text/plain": [
       "Timestamp('2020-08-28 13:34:27-0400', tz='America/Toronto')"
      ]
     },
     "metadata": {},
     "output_type": "display_data"
    },
    {
     "name": "stdout",
     "output_type": "stream",
     "text": [
      "going  20200828 13:34:27\n"
     ]
    },
    {
     "data": {
      "text/plain": [
       "Timestamp('2020-08-28 13:32:07-0400', tz='America/Toronto')"
      ]
     },
     "metadata": {},
     "output_type": "display_data"
    },
    {
     "name": "stdout",
     "output_type": "stream",
     "text": [
      "going  20200828 13:32:07\n"
     ]
    },
    {
     "data": {
      "text/plain": [
       "Timestamp('2020-08-28 13:30:27-0400', tz='America/Toronto')"
      ]
     },
     "metadata": {},
     "output_type": "display_data"
    },
    {
     "name": "stdout",
     "output_type": "stream",
     "text": [
      "going  20200828 13:30:27\n"
     ]
    },
    {
     "data": {
      "text/plain": [
       "Timestamp('2020-08-28 13:28:48-0400', tz='America/Toronto')"
      ]
     },
     "metadata": {},
     "output_type": "display_data"
    },
    {
     "name": "stdout",
     "output_type": "stream",
     "text": [
      "going  20200828 13:28:48\n"
     ]
    },
    {
     "data": {
      "text/plain": [
       "Timestamp('2020-08-28 13:27:11-0400', tz='America/Toronto')"
      ]
     },
     "metadata": {},
     "output_type": "display_data"
    },
    {
     "name": "stdout",
     "output_type": "stream",
     "text": [
      "going  20200828 13:27:11\n"
     ]
    },
    {
     "data": {
      "text/plain": [
       "Timestamp('2020-08-28 13:25:00-0400', tz='America/Toronto')"
      ]
     },
     "metadata": {},
     "output_type": "display_data"
    },
    {
     "name": "stdout",
     "output_type": "stream",
     "text": [
      "going  20200828 13:25:00\n"
     ]
    },
    {
     "data": {
      "text/plain": [
       "Timestamp('2020-08-28 13:21:59-0400', tz='America/Toronto')"
      ]
     },
     "metadata": {},
     "output_type": "display_data"
    },
    {
     "name": "stdout",
     "output_type": "stream",
     "text": [
      "going  20200828 13:21:59\n"
     ]
    },
    {
     "data": {
      "text/plain": [
       "Timestamp('2020-08-28 13:18:17-0400', tz='America/Toronto')"
      ]
     },
     "metadata": {},
     "output_type": "display_data"
    },
    {
     "name": "stdout",
     "output_type": "stream",
     "text": [
      "going  20200828 13:18:17\n"
     ]
    },
    {
     "data": {
      "text/plain": [
       "Timestamp('2020-08-28 13:16:27-0400', tz='America/Toronto')"
      ]
     },
     "metadata": {},
     "output_type": "display_data"
    },
    {
     "name": "stdout",
     "output_type": "stream",
     "text": [
      "going  20200828 13:16:27\n"
     ]
    },
    {
     "data": {
      "text/plain": [
       "Timestamp('2020-08-28 13:14:51-0400', tz='America/Toronto')"
      ]
     },
     "metadata": {},
     "output_type": "display_data"
    },
    {
     "name": "stdout",
     "output_type": "stream",
     "text": [
      "going  20200828 13:14:51\n"
     ]
    },
    {
     "data": {
      "text/plain": [
       "Timestamp('2020-08-28 13:13:53-0400', tz='America/Toronto')"
      ]
     },
     "metadata": {},
     "output_type": "display_data"
    },
    {
     "name": "stdout",
     "output_type": "stream",
     "text": [
      "going  20200828 13:13:53\n"
     ]
    },
    {
     "data": {
      "text/plain": [
       "Timestamp('2020-08-28 13:11:45-0400', tz='America/Toronto')"
      ]
     },
     "metadata": {},
     "output_type": "display_data"
    },
    {
     "name": "stdout",
     "output_type": "stream",
     "text": [
      "going  20200828 13:11:45\n"
     ]
    },
    {
     "data": {
      "text/plain": [
       "Timestamp('2020-08-28 13:08:47-0400', tz='America/Toronto')"
      ]
     },
     "metadata": {},
     "output_type": "display_data"
    },
    {
     "name": "stdout",
     "output_type": "stream",
     "text": [
      "going  20200828 13:08:47\n"
     ]
    },
    {
     "data": {
      "text/plain": [
       "Timestamp('2020-08-28 13:06:12-0400', tz='America/Toronto')"
      ]
     },
     "metadata": {},
     "output_type": "display_data"
    },
    {
     "name": "stdout",
     "output_type": "stream",
     "text": [
      "going  20200828 13:06:12\n"
     ]
    },
    {
     "data": {
      "text/plain": [
       "Timestamp('2020-08-28 13:04:00-0400', tz='America/Toronto')"
      ]
     },
     "metadata": {},
     "output_type": "display_data"
    },
    {
     "name": "stdout",
     "output_type": "stream",
     "text": [
      "going  20200828 13:04:00\n"
     ]
    },
    {
     "data": {
      "text/plain": [
       "Timestamp('2020-08-28 13:01:51-0400', tz='America/Toronto')"
      ]
     },
     "metadata": {},
     "output_type": "display_data"
    },
    {
     "name": "stdout",
     "output_type": "stream",
     "text": [
      "going  20200828 13:01:51\n"
     ]
    },
    {
     "data": {
      "text/plain": [
       "Timestamp('2020-08-28 12:59:47-0400', tz='America/Toronto')"
      ]
     },
     "metadata": {},
     "output_type": "display_data"
    },
    {
     "name": "stdout",
     "output_type": "stream",
     "text": [
      "going  20200828 12:59:47\n"
     ]
    },
    {
     "data": {
      "text/plain": [
       "Timestamp('2020-08-28 12:57:33-0400', tz='America/Toronto')"
      ]
     },
     "metadata": {},
     "output_type": "display_data"
    },
    {
     "name": "stdout",
     "output_type": "stream",
     "text": [
      "going  20200828 12:57:33\n"
     ]
    },
    {
     "data": {
      "text/plain": [
       "Timestamp('2020-08-28 12:55:42-0400', tz='America/Toronto')"
      ]
     },
     "metadata": {},
     "output_type": "display_data"
    },
    {
     "name": "stdout",
     "output_type": "stream",
     "text": [
      "going  20200828 12:55:42\n"
     ]
    },
    {
     "data": {
      "text/plain": [
       "Timestamp('2020-08-28 12:54:08-0400', tz='America/Toronto')"
      ]
     },
     "metadata": {},
     "output_type": "display_data"
    },
    {
     "name": "stdout",
     "output_type": "stream",
     "text": [
      "going  20200828 12:54:08\n"
     ]
    },
    {
     "data": {
      "text/plain": [
       "Timestamp('2020-08-28 12:51:24-0400', tz='America/Toronto')"
      ]
     },
     "metadata": {},
     "output_type": "display_data"
    },
    {
     "name": "stdout",
     "output_type": "stream",
     "text": [
      "going  20200828 12:51:24\n"
     ]
    },
    {
     "data": {
      "text/plain": [
       "Timestamp('2020-08-28 12:49:34-0400', tz='America/Toronto')"
      ]
     },
     "metadata": {},
     "output_type": "display_data"
    },
    {
     "name": "stdout",
     "output_type": "stream",
     "text": [
      "going  20200828 12:49:34\n"
     ]
    },
    {
     "data": {
      "text/plain": [
       "Timestamp('2020-08-28 12:47:58-0400', tz='America/Toronto')"
      ]
     },
     "metadata": {},
     "output_type": "display_data"
    },
    {
     "name": "stdout",
     "output_type": "stream",
     "text": [
      "going  20200828 12:47:58\n"
     ]
    },
    {
     "data": {
      "text/plain": [
       "Timestamp('2020-08-28 12:45:02-0400', tz='America/Toronto')"
      ]
     },
     "metadata": {},
     "output_type": "display_data"
    },
    {
     "name": "stdout",
     "output_type": "stream",
     "text": [
      "going  20200828 12:45:02\n"
     ]
    },
    {
     "data": {
      "text/plain": [
       "Timestamp('2020-08-28 12:43:18-0400', tz='America/Toronto')"
      ]
     },
     "metadata": {},
     "output_type": "display_data"
    },
    {
     "name": "stdout",
     "output_type": "stream",
     "text": [
      "going  20200828 12:43:18\n"
     ]
    },
    {
     "data": {
      "text/plain": [
       "Timestamp('2020-08-28 12:41:14-0400', tz='America/Toronto')"
      ]
     },
     "metadata": {},
     "output_type": "display_data"
    },
    {
     "name": "stdout",
     "output_type": "stream",
     "text": [
      "going  20200828 12:41:14\n"
     ]
    },
    {
     "data": {
      "text/plain": [
       "Timestamp('2020-08-28 12:38:06-0400', tz='America/Toronto')"
      ]
     },
     "metadata": {},
     "output_type": "display_data"
    },
    {
     "name": "stdout",
     "output_type": "stream",
     "text": [
      "going  20200828 12:38:06\n"
     ]
    },
    {
     "data": {
      "text/plain": [
       "Timestamp('2020-08-28 12:35:24-0400', tz='America/Toronto')"
      ]
     },
     "metadata": {},
     "output_type": "display_data"
    },
    {
     "name": "stdout",
     "output_type": "stream",
     "text": [
      "going  20200828 12:35:24\n"
     ]
    },
    {
     "data": {
      "text/plain": [
       "Timestamp('2020-08-28 12:32:00-0400', tz='America/Toronto')"
      ]
     },
     "metadata": {},
     "output_type": "display_data"
    },
    {
     "name": "stdout",
     "output_type": "stream",
     "text": [
      "going  20200828 12:32:00\n"
     ]
    },
    {
     "data": {
      "text/plain": [
       "Timestamp('2020-08-28 12:27:48-0400', tz='America/Toronto')"
      ]
     },
     "metadata": {},
     "output_type": "display_data"
    },
    {
     "name": "stdout",
     "output_type": "stream",
     "text": [
      "going  20200828 12:27:48\n"
     ]
    },
    {
     "data": {
      "text/plain": [
       "Timestamp('2020-08-28 12:24:00-0400', tz='America/Toronto')"
      ]
     },
     "metadata": {},
     "output_type": "display_data"
    },
    {
     "name": "stdout",
     "output_type": "stream",
     "text": [
      "going  20200828 12:24:00\n"
     ]
    },
    {
     "data": {
      "text/plain": [
       "Timestamp('2020-08-28 12:21:55-0400', tz='America/Toronto')"
      ]
     },
     "metadata": {},
     "output_type": "display_data"
    },
    {
     "name": "stdout",
     "output_type": "stream",
     "text": [
      "going  20200828 12:21:55\n"
     ]
    },
    {
     "data": {
      "text/plain": [
       "Timestamp('2020-08-28 12:19:19-0400', tz='America/Toronto')"
      ]
     },
     "metadata": {},
     "output_type": "display_data"
    },
    {
     "name": "stdout",
     "output_type": "stream",
     "text": [
      "going  20200828 12:19:19\n"
     ]
    },
    {
     "data": {
      "text/plain": [
       "Timestamp('2020-08-28 12:16:35-0400', tz='America/Toronto')"
      ]
     },
     "metadata": {},
     "output_type": "display_data"
    },
    {
     "name": "stdout",
     "output_type": "stream",
     "text": [
      "going  20200828 12:16:35\n"
     ]
    },
    {
     "data": {
      "text/plain": [
       "Timestamp('2020-08-28 12:13:04-0400', tz='America/Toronto')"
      ]
     },
     "metadata": {},
     "output_type": "display_data"
    },
    {
     "name": "stdout",
     "output_type": "stream",
     "text": [
      "going  20200828 12:13:04\n"
     ]
    },
    {
     "data": {
      "text/plain": [
       "Timestamp('2020-08-28 12:10:13-0400', tz='America/Toronto')"
      ]
     },
     "metadata": {},
     "output_type": "display_data"
    },
    {
     "name": "stdout",
     "output_type": "stream",
     "text": [
      "going  20200828 12:10:13\n"
     ]
    },
    {
     "data": {
      "text/plain": [
       "Timestamp('2020-08-28 12:07:37-0400', tz='America/Toronto')"
      ]
     },
     "metadata": {},
     "output_type": "display_data"
    },
    {
     "name": "stdout",
     "output_type": "stream",
     "text": [
      "going  20200828 12:07:37\n"
     ]
    },
    {
     "data": {
      "text/plain": [
       "Timestamp('2020-08-28 12:04:25-0400', tz='America/Toronto')"
      ]
     },
     "metadata": {},
     "output_type": "display_data"
    },
    {
     "name": "stdout",
     "output_type": "stream",
     "text": [
      "going  20200828 12:04:25\n"
     ]
    },
    {
     "data": {
      "text/plain": [
       "Timestamp('2020-08-28 12:00:58-0400', tz='America/Toronto')"
      ]
     },
     "metadata": {},
     "output_type": "display_data"
    },
    {
     "name": "stdout",
     "output_type": "stream",
     "text": [
      "going  20200828 12:00:58\n"
     ]
    },
    {
     "data": {
      "text/plain": [
       "Timestamp('2020-08-28 11:58:47-0400', tz='America/Toronto')"
      ]
     },
     "metadata": {},
     "output_type": "display_data"
    },
    {
     "name": "stdout",
     "output_type": "stream",
     "text": [
      "going  20200828 11:58:47\n"
     ]
    },
    {
     "data": {
      "text/plain": [
       "Timestamp('2020-08-28 11:56:27-0400', tz='America/Toronto')"
      ]
     },
     "metadata": {},
     "output_type": "display_data"
    },
    {
     "name": "stdout",
     "output_type": "stream",
     "text": [
      "going  20200828 11:56:27\n"
     ]
    },
    {
     "data": {
      "text/plain": [
       "Timestamp('2020-08-28 11:54:07-0400', tz='America/Toronto')"
      ]
     },
     "metadata": {},
     "output_type": "display_data"
    },
    {
     "name": "stdout",
     "output_type": "stream",
     "text": [
      "going  20200828 11:54:07\n"
     ]
    },
    {
     "data": {
      "text/plain": [
       "Timestamp('2020-08-28 11:50:37-0400', tz='America/Toronto')"
      ]
     },
     "metadata": {},
     "output_type": "display_data"
    },
    {
     "name": "stdout",
     "output_type": "stream",
     "text": [
      "going  20200828 11:50:37\n"
     ]
    },
    {
     "data": {
      "text/plain": [
       "Timestamp('2020-08-28 11:47:48-0400', tz='America/Toronto')"
      ]
     },
     "metadata": {},
     "output_type": "display_data"
    },
    {
     "name": "stdout",
     "output_type": "stream",
     "text": [
      "going  20200828 11:47:48\n"
     ]
    },
    {
     "data": {
      "text/plain": [
       "Timestamp('2020-08-28 11:44:11-0400', tz='America/Toronto')"
      ]
     },
     "metadata": {},
     "output_type": "display_data"
    },
    {
     "name": "stdout",
     "output_type": "stream",
     "text": [
      "going  20200828 11:44:11\n"
     ]
    },
    {
     "data": {
      "text/plain": [
       "Timestamp('2020-08-28 11:41:14-0400', tz='America/Toronto')"
      ]
     },
     "metadata": {},
     "output_type": "display_data"
    },
    {
     "name": "stdout",
     "output_type": "stream",
     "text": [
      "going  20200828 11:41:14\n"
     ]
    },
    {
     "data": {
      "text/plain": [
       "Timestamp('2020-08-28 11:38:09-0400', tz='America/Toronto')"
      ]
     },
     "metadata": {},
     "output_type": "display_data"
    },
    {
     "name": "stdout",
     "output_type": "stream",
     "text": [
      "going  20200828 11:38:09\n"
     ]
    },
    {
     "data": {
      "text/plain": [
       "Timestamp('2020-08-28 11:35:54-0400', tz='America/Toronto')"
      ]
     },
     "metadata": {},
     "output_type": "display_data"
    },
    {
     "name": "stdout",
     "output_type": "stream",
     "text": [
      "going  20200828 11:35:54\n"
     ]
    },
    {
     "data": {
      "text/plain": [
       "Timestamp('2020-08-28 11:33:08-0400', tz='America/Toronto')"
      ]
     },
     "metadata": {},
     "output_type": "display_data"
    },
    {
     "name": "stdout",
     "output_type": "stream",
     "text": [
      "going  20200828 11:33:08\n"
     ]
    },
    {
     "data": {
      "text/plain": [
       "Timestamp('2020-08-28 11:30:56-0400', tz='America/Toronto')"
      ]
     },
     "metadata": {},
     "output_type": "display_data"
    },
    {
     "name": "stdout",
     "output_type": "stream",
     "text": [
      "going  20200828 11:30:56\n"
     ]
    },
    {
     "data": {
      "text/plain": [
       "Timestamp('2020-08-28 11:28:45-0400', tz='America/Toronto')"
      ]
     },
     "metadata": {},
     "output_type": "display_data"
    },
    {
     "name": "stdout",
     "output_type": "stream",
     "text": [
      "going  20200828 11:28:45\n"
     ]
    },
    {
     "data": {
      "text/plain": [
       "Timestamp('2020-08-28 11:26:33-0400', tz='America/Toronto')"
      ]
     },
     "metadata": {},
     "output_type": "display_data"
    },
    {
     "name": "stdout",
     "output_type": "stream",
     "text": [
      "going  20200828 11:26:33\n"
     ]
    },
    {
     "data": {
      "text/plain": [
       "Timestamp('2020-08-28 11:24:15-0400', tz='America/Toronto')"
      ]
     },
     "metadata": {},
     "output_type": "display_data"
    },
    {
     "name": "stdout",
     "output_type": "stream",
     "text": [
      "going  20200828 11:24:15\n"
     ]
    },
    {
     "data": {
      "text/plain": [
       "Timestamp('2020-08-28 11:22:32-0400', tz='America/Toronto')"
      ]
     },
     "metadata": {},
     "output_type": "display_data"
    },
    {
     "name": "stdout",
     "output_type": "stream",
     "text": [
      "going  20200828 11:22:32\n"
     ]
    },
    {
     "data": {
      "text/plain": [
       "Timestamp('2020-08-28 11:20:58-0400', tz='America/Toronto')"
      ]
     },
     "metadata": {},
     "output_type": "display_data"
    },
    {
     "name": "stdout",
     "output_type": "stream",
     "text": [
      "going  20200828 11:20:58\n"
     ]
    },
    {
     "data": {
      "text/plain": [
       "Timestamp('2020-08-28 11:20:15-0400', tz='America/Toronto')"
      ]
     },
     "metadata": {},
     "output_type": "display_data"
    },
    {
     "name": "stdout",
     "output_type": "stream",
     "text": [
      "going  20200828 11:20:15\n"
     ]
    },
    {
     "data": {
      "text/plain": [
       "Timestamp('2020-08-28 11:17:50-0400', tz='America/Toronto')"
      ]
     },
     "metadata": {},
     "output_type": "display_data"
    },
    {
     "name": "stdout",
     "output_type": "stream",
     "text": [
      "going  20200828 11:17:50\n"
     ]
    },
    {
     "data": {
      "text/plain": [
       "Timestamp('2020-08-28 11:15:35-0400', tz='America/Toronto')"
      ]
     },
     "metadata": {},
     "output_type": "display_data"
    },
    {
     "name": "stdout",
     "output_type": "stream",
     "text": [
      "going  20200828 11:15:35\n"
     ]
    },
    {
     "data": {
      "text/plain": [
       "Timestamp('2020-08-28 11:13:00-0400', tz='America/Toronto')"
      ]
     },
     "metadata": {},
     "output_type": "display_data"
    },
    {
     "name": "stdout",
     "output_type": "stream",
     "text": [
      "going  20200828 11:13:00\n"
     ]
    },
    {
     "data": {
      "text/plain": [
       "Timestamp('2020-08-28 11:10:52-0400', tz='America/Toronto')"
      ]
     },
     "metadata": {},
     "output_type": "display_data"
    },
    {
     "name": "stdout",
     "output_type": "stream",
     "text": [
      "going  20200828 11:10:52\n"
     ]
    },
    {
     "data": {
      "text/plain": [
       "Timestamp('2020-08-28 11:08:16-0400', tz='America/Toronto')"
      ]
     },
     "metadata": {},
     "output_type": "display_data"
    },
    {
     "name": "stdout",
     "output_type": "stream",
     "text": [
      "going  20200828 11:08:16\n"
     ]
    },
    {
     "data": {
      "text/plain": [
       "Timestamp('2020-08-28 11:07:03-0400', tz='America/Toronto')"
      ]
     },
     "metadata": {},
     "output_type": "display_data"
    },
    {
     "name": "stdout",
     "output_type": "stream",
     "text": [
      "going  20200828 11:07:03\n"
     ]
    },
    {
     "data": {
      "text/plain": [
       "Timestamp('2020-08-28 11:05:37-0400', tz='America/Toronto')"
      ]
     },
     "metadata": {},
     "output_type": "display_data"
    },
    {
     "name": "stdout",
     "output_type": "stream",
     "text": [
      "going  20200828 11:05:37\n"
     ]
    },
    {
     "data": {
      "text/plain": [
       "Timestamp('2020-08-28 11:04:03-0400', tz='America/Toronto')"
      ]
     },
     "metadata": {},
     "output_type": "display_data"
    },
    {
     "name": "stdout",
     "output_type": "stream",
     "text": [
      "going  20200828 11:04:03\n"
     ]
    },
    {
     "data": {
      "text/plain": [
       "Timestamp('2020-08-28 11:02:10-0400', tz='America/Toronto')"
      ]
     },
     "metadata": {},
     "output_type": "display_data"
    },
    {
     "name": "stdout",
     "output_type": "stream",
     "text": [
      "going  20200828 11:02:10\n"
     ]
    },
    {
     "data": {
      "text/plain": [
       "Timestamp('2020-08-28 11:01:02-0400', tz='America/Toronto')"
      ]
     },
     "metadata": {},
     "output_type": "display_data"
    },
    {
     "name": "stdout",
     "output_type": "stream",
     "text": [
      "going  20200828 11:01:02\n"
     ]
    },
    {
     "data": {
      "text/plain": [
       "Timestamp('2020-08-28 10:59:34-0400', tz='America/Toronto')"
      ]
     },
     "metadata": {},
     "output_type": "display_data"
    },
    {
     "name": "stdout",
     "output_type": "stream",
     "text": [
      "going  20200828 10:59:34\n"
     ]
    },
    {
     "data": {
      "text/plain": [
       "Timestamp('2020-08-28 10:58:20-0400', tz='America/Toronto')"
      ]
     },
     "metadata": {},
     "output_type": "display_data"
    },
    {
     "name": "stdout",
     "output_type": "stream",
     "text": [
      "going  20200828 10:58:20\n"
     ]
    },
    {
     "data": {
      "text/plain": [
       "Timestamp('2020-08-28 10:56:51-0400', tz='America/Toronto')"
      ]
     },
     "metadata": {},
     "output_type": "display_data"
    },
    {
     "name": "stdout",
     "output_type": "stream",
     "text": [
      "going  20200828 10:56:51\n"
     ]
    },
    {
     "data": {
      "text/plain": [
       "Timestamp('2020-08-28 10:55:05-0400', tz='America/Toronto')"
      ]
     },
     "metadata": {},
     "output_type": "display_data"
    },
    {
     "name": "stdout",
     "output_type": "stream",
     "text": [
      "going  20200828 10:55:05\n"
     ]
    },
    {
     "data": {
      "text/plain": [
       "Timestamp('2020-08-28 10:53:15-0400', tz='America/Toronto')"
      ]
     },
     "metadata": {},
     "output_type": "display_data"
    },
    {
     "name": "stdout",
     "output_type": "stream",
     "text": [
      "going  20200828 10:53:15\n"
     ]
    },
    {
     "data": {
      "text/plain": [
       "Timestamp('2020-08-28 10:51:33-0400', tz='America/Toronto')"
      ]
     },
     "metadata": {},
     "output_type": "display_data"
    },
    {
     "name": "stdout",
     "output_type": "stream",
     "text": [
      "going  20200828 10:51:33\n"
     ]
    },
    {
     "data": {
      "text/plain": [
       "Timestamp('2020-08-28 10:49:53-0400', tz='America/Toronto')"
      ]
     },
     "metadata": {},
     "output_type": "display_data"
    },
    {
     "name": "stdout",
     "output_type": "stream",
     "text": [
      "going  20200828 10:49:53\n"
     ]
    },
    {
     "data": {
      "text/plain": [
       "Timestamp('2020-08-28 10:48:00-0400', tz='America/Toronto')"
      ]
     },
     "metadata": {},
     "output_type": "display_data"
    },
    {
     "name": "stdout",
     "output_type": "stream",
     "text": [
      "going  20200828 10:48:00\n"
     ]
    },
    {
     "data": {
      "text/plain": [
       "Timestamp('2020-08-28 10:46:53-0400', tz='America/Toronto')"
      ]
     },
     "metadata": {},
     "output_type": "display_data"
    },
    {
     "name": "stdout",
     "output_type": "stream",
     "text": [
      "going  20200828 10:46:53\n"
     ]
    },
    {
     "data": {
      "text/plain": [
       "Timestamp('2020-08-28 10:44:44-0400', tz='America/Toronto')"
      ]
     },
     "metadata": {},
     "output_type": "display_data"
    },
    {
     "name": "stdout",
     "output_type": "stream",
     "text": [
      "going  20200828 10:44:44\n"
     ]
    },
    {
     "data": {
      "text/plain": [
       "Timestamp('2020-08-28 10:42:53-0400', tz='America/Toronto')"
      ]
     },
     "metadata": {},
     "output_type": "display_data"
    },
    {
     "name": "stdout",
     "output_type": "stream",
     "text": [
      "going  20200828 10:42:53\n"
     ]
    },
    {
     "data": {
      "text/plain": [
       "Timestamp('2020-08-28 10:41:05-0400', tz='America/Toronto')"
      ]
     },
     "metadata": {},
     "output_type": "display_data"
    },
    {
     "name": "stdout",
     "output_type": "stream",
     "text": [
      "going  20200828 10:41:05\n"
     ]
    },
    {
     "data": {
      "text/plain": [
       "Timestamp('2020-08-28 10:39:26-0400', tz='America/Toronto')"
      ]
     },
     "metadata": {},
     "output_type": "display_data"
    },
    {
     "name": "stdout",
     "output_type": "stream",
     "text": [
      "going  20200828 10:39:26\n"
     ]
    },
    {
     "data": {
      "text/plain": [
       "Timestamp('2020-08-28 10:39:05-0400', tz='America/Toronto')"
      ]
     },
     "metadata": {},
     "output_type": "display_data"
    },
    {
     "name": "stdout",
     "output_type": "stream",
     "text": [
      "going  20200828 10:39:05\n"
     ]
    },
    {
     "data": {
      "text/plain": [
       "Timestamp('2020-08-28 10:38:30-0400', tz='America/Toronto')"
      ]
     },
     "metadata": {},
     "output_type": "display_data"
    },
    {
     "name": "stdout",
     "output_type": "stream",
     "text": [
      "going  20200828 10:38:30\n"
     ]
    },
    {
     "data": {
      "text/plain": [
       "Timestamp('2020-08-28 10:37:17-0400', tz='America/Toronto')"
      ]
     },
     "metadata": {},
     "output_type": "display_data"
    },
    {
     "name": "stdout",
     "output_type": "stream",
     "text": [
      "going  20200828 10:37:17\n"
     ]
    },
    {
     "data": {
      "text/plain": [
       "Timestamp('2020-08-28 10:36:37-0400', tz='America/Toronto')"
      ]
     },
     "metadata": {},
     "output_type": "display_data"
    },
    {
     "name": "stdout",
     "output_type": "stream",
     "text": [
      "going  20200828 10:36:37\n"
     ]
    },
    {
     "data": {
      "text/plain": [
       "Timestamp('2020-08-28 10:36:01-0400', tz='America/Toronto')"
      ]
     },
     "metadata": {},
     "output_type": "display_data"
    },
    {
     "name": "stdout",
     "output_type": "stream",
     "text": [
      "going  20200828 10:36:01\n"
     ]
    },
    {
     "data": {
      "text/plain": [
       "Timestamp('2020-08-28 10:34:43-0400', tz='America/Toronto')"
      ]
     },
     "metadata": {},
     "output_type": "display_data"
    },
    {
     "name": "stdout",
     "output_type": "stream",
     "text": [
      "going  20200828 10:34:43\n"
     ]
    },
    {
     "data": {
      "text/plain": [
       "Timestamp('2020-08-28 10:33:32-0400', tz='America/Toronto')"
      ]
     },
     "metadata": {},
     "output_type": "display_data"
    },
    {
     "name": "stdout",
     "output_type": "stream",
     "text": [
      "going  20200828 10:33:32\n"
     ]
    },
    {
     "data": {
      "text/plain": [
       "Timestamp('2020-08-28 10:31:55-0400', tz='America/Toronto')"
      ]
     },
     "metadata": {},
     "output_type": "display_data"
    },
    {
     "name": "stdout",
     "output_type": "stream",
     "text": [
      "going  20200828 10:31:55\n"
     ]
    },
    {
     "data": {
      "text/plain": [
       "Timestamp('2020-08-28 10:30:31-0400', tz='America/Toronto')"
      ]
     },
     "metadata": {},
     "output_type": "display_data"
    },
    {
     "name": "stdout",
     "output_type": "stream",
     "text": [
      "going  20200828 10:30:31\n"
     ]
    },
    {
     "data": {
      "text/plain": [
       "Timestamp('2020-08-28 10:28:51-0400', tz='America/Toronto')"
      ]
     },
     "metadata": {},
     "output_type": "display_data"
    },
    {
     "name": "stdout",
     "output_type": "stream",
     "text": [
      "going  20200828 10:28:51\n"
     ]
    },
    {
     "data": {
      "text/plain": [
       "Timestamp('2020-08-28 10:26:32-0400', tz='America/Toronto')"
      ]
     },
     "metadata": {},
     "output_type": "display_data"
    },
    {
     "name": "stdout",
     "output_type": "stream",
     "text": [
      "going  20200828 10:26:32\n"
     ]
    },
    {
     "data": {
      "text/plain": [
       "Timestamp('2020-08-28 10:25:09-0400', tz='America/Toronto')"
      ]
     },
     "metadata": {},
     "output_type": "display_data"
    },
    {
     "name": "stdout",
     "output_type": "stream",
     "text": [
      "going  20200828 10:25:09\n"
     ]
    },
    {
     "data": {
      "text/plain": [
       "Timestamp('2020-08-28 10:23:41-0400', tz='America/Toronto')"
      ]
     },
     "metadata": {},
     "output_type": "display_data"
    },
    {
     "name": "stdout",
     "output_type": "stream",
     "text": [
      "going  20200828 10:23:41\n"
     ]
    },
    {
     "data": {
      "text/plain": [
       "Timestamp('2020-08-28 10:22:49-0400', tz='America/Toronto')"
      ]
     },
     "metadata": {},
     "output_type": "display_data"
    },
    {
     "name": "stdout",
     "output_type": "stream",
     "text": [
      "going  20200828 10:22:49\n"
     ]
    },
    {
     "data": {
      "text/plain": [
       "Timestamp('2020-08-28 10:21:43-0400', tz='America/Toronto')"
      ]
     },
     "metadata": {},
     "output_type": "display_data"
    },
    {
     "name": "stdout",
     "output_type": "stream",
     "text": [
      "going  20200828 10:21:43\n"
     ]
    },
    {
     "data": {
      "text/plain": [
       "Timestamp('2020-08-28 10:20:37-0400', tz='America/Toronto')"
      ]
     },
     "metadata": {},
     "output_type": "display_data"
    },
    {
     "name": "stdout",
     "output_type": "stream",
     "text": [
      "going  20200828 10:20:37\n"
     ]
    },
    {
     "data": {
      "text/plain": [
       "Timestamp('2020-08-28 10:19:09-0400', tz='America/Toronto')"
      ]
     },
     "metadata": {},
     "output_type": "display_data"
    },
    {
     "name": "stdout",
     "output_type": "stream",
     "text": [
      "going  20200828 10:19:09\n"
     ]
    },
    {
     "data": {
      "text/plain": [
       "Timestamp('2020-08-28 10:17:21-0400', tz='America/Toronto')"
      ]
     },
     "metadata": {},
     "output_type": "display_data"
    },
    {
     "name": "stdout",
     "output_type": "stream",
     "text": [
      "going  20200828 10:17:21\n"
     ]
    },
    {
     "data": {
      "text/plain": [
       "Timestamp('2020-08-28 10:16:13-0400', tz='America/Toronto')"
      ]
     },
     "metadata": {},
     "output_type": "display_data"
    },
    {
     "name": "stdout",
     "output_type": "stream",
     "text": [
      "going  20200828 10:16:13\n"
     ]
    },
    {
     "data": {
      "text/plain": [
       "Timestamp('2020-08-28 10:15:21-0400', tz='America/Toronto')"
      ]
     },
     "metadata": {},
     "output_type": "display_data"
    },
    {
     "name": "stdout",
     "output_type": "stream",
     "text": [
      "going  20200828 10:15:21\n"
     ]
    },
    {
     "data": {
      "text/plain": [
       "Timestamp('2020-08-28 10:14:13-0400', tz='America/Toronto')"
      ]
     },
     "metadata": {},
     "output_type": "display_data"
    },
    {
     "name": "stdout",
     "output_type": "stream",
     "text": [
      "going  20200828 10:14:13\n"
     ]
    },
    {
     "data": {
      "text/plain": [
       "Timestamp('2020-08-28 10:13:02-0400', tz='America/Toronto')"
      ]
     },
     "metadata": {},
     "output_type": "display_data"
    },
    {
     "name": "stdout",
     "output_type": "stream",
     "text": [
      "going  20200828 10:13:02\n"
     ]
    },
    {
     "data": {
      "text/plain": [
       "Timestamp('2020-08-28 10:11:42-0400', tz='America/Toronto')"
      ]
     },
     "metadata": {},
     "output_type": "display_data"
    },
    {
     "name": "stdout",
     "output_type": "stream",
     "text": [
      "going  20200828 10:11:42\n"
     ]
    },
    {
     "data": {
      "text/plain": [
       "Timestamp('2020-08-28 10:09:52-0400', tz='America/Toronto')"
      ]
     },
     "metadata": {},
     "output_type": "display_data"
    },
    {
     "name": "stdout",
     "output_type": "stream",
     "text": [
      "going  20200828 10:09:52\n"
     ]
    },
    {
     "data": {
      "text/plain": [
       "Timestamp('2020-08-28 10:08:48-0400', tz='America/Toronto')"
      ]
     },
     "metadata": {},
     "output_type": "display_data"
    },
    {
     "name": "stdout",
     "output_type": "stream",
     "text": [
      "going  20200828 10:08:48\n"
     ]
    },
    {
     "data": {
      "text/plain": [
       "Timestamp('2020-08-28 10:07:41-0400', tz='America/Toronto')"
      ]
     },
     "metadata": {},
     "output_type": "display_data"
    },
    {
     "name": "stdout",
     "output_type": "stream",
     "text": [
      "going  20200828 10:07:41\n"
     ]
    },
    {
     "data": {
      "text/plain": [
       "Timestamp('2020-08-28 10:05:43-0400', tz='America/Toronto')"
      ]
     },
     "metadata": {},
     "output_type": "display_data"
    },
    {
     "name": "stdout",
     "output_type": "stream",
     "text": [
      "going  20200828 10:05:43\n"
     ]
    },
    {
     "data": {
      "text/plain": [
       "Timestamp('2020-08-28 10:04:27-0400', tz='America/Toronto')"
      ]
     },
     "metadata": {},
     "output_type": "display_data"
    },
    {
     "name": "stdout",
     "output_type": "stream",
     "text": [
      "going  20200828 10:04:27\n"
     ]
    },
    {
     "data": {
      "text/plain": [
       "Timestamp('2020-08-28 10:02:04-0400', tz='America/Toronto')"
      ]
     },
     "metadata": {},
     "output_type": "display_data"
    },
    {
     "name": "stdout",
     "output_type": "stream",
     "text": [
      "going  20200828 10:02:04\n"
     ]
    },
    {
     "data": {
      "text/plain": [
       "Timestamp('2020-08-28 10:00:44-0400', tz='America/Toronto')"
      ]
     },
     "metadata": {},
     "output_type": "display_data"
    },
    {
     "name": "stdout",
     "output_type": "stream",
     "text": [
      "going  20200828 10:00:44\n"
     ]
    },
    {
     "data": {
      "text/plain": [
       "Timestamp('2020-08-28 09:59:30-0400', tz='America/Toronto')"
      ]
     },
     "metadata": {},
     "output_type": "display_data"
    },
    {
     "name": "stdout",
     "output_type": "stream",
     "text": [
      "going  20200828 09:59:30\n"
     ]
    },
    {
     "data": {
      "text/plain": [
       "Timestamp('2020-08-28 09:57:38-0400', tz='America/Toronto')"
      ]
     },
     "metadata": {},
     "output_type": "display_data"
    },
    {
     "name": "stdout",
     "output_type": "stream",
     "text": [
      "going  20200828 09:57:38\n"
     ]
    },
    {
     "data": {
      "text/plain": [
       "Timestamp('2020-08-28 09:55:07-0400', tz='America/Toronto')"
      ]
     },
     "metadata": {},
     "output_type": "display_data"
    },
    {
     "name": "stdout",
     "output_type": "stream",
     "text": [
      "going  20200828 09:55:07\n"
     ]
    },
    {
     "data": {
      "text/plain": [
       "Timestamp('2020-08-28 09:54:07-0400', tz='America/Toronto')"
      ]
     },
     "metadata": {},
     "output_type": "display_data"
    },
    {
     "name": "stdout",
     "output_type": "stream",
     "text": [
      "going  20200828 09:54:07\n"
     ]
    },
    {
     "data": {
      "text/plain": [
       "Timestamp('2020-08-28 09:52:56-0400', tz='America/Toronto')"
      ]
     },
     "metadata": {},
     "output_type": "display_data"
    },
    {
     "name": "stdout",
     "output_type": "stream",
     "text": [
      "going  20200828 09:52:56\n"
     ]
    },
    {
     "data": {
      "text/plain": [
       "Timestamp('2020-08-28 09:51:49-0400', tz='America/Toronto')"
      ]
     },
     "metadata": {},
     "output_type": "display_data"
    },
    {
     "name": "stdout",
     "output_type": "stream",
     "text": [
      "going  20200828 09:51:49\n"
     ]
    },
    {
     "data": {
      "text/plain": [
       "Timestamp('2020-08-28 09:50:54-0400', tz='America/Toronto')"
      ]
     },
     "metadata": {},
     "output_type": "display_data"
    },
    {
     "name": "stdout",
     "output_type": "stream",
     "text": [
      "going  20200828 09:50:54\n"
     ]
    },
    {
     "data": {
      "text/plain": [
       "Timestamp('2020-08-28 09:49:58-0400', tz='America/Toronto')"
      ]
     },
     "metadata": {},
     "output_type": "display_data"
    },
    {
     "name": "stdout",
     "output_type": "stream",
     "text": [
      "going  20200828 09:49:58\n"
     ]
    },
    {
     "data": {
      "text/plain": [
       "Timestamp('2020-08-28 09:49:02-0400', tz='America/Toronto')"
      ]
     },
     "metadata": {},
     "output_type": "display_data"
    },
    {
     "name": "stdout",
     "output_type": "stream",
     "text": [
      "going  20200828 09:49:02\n"
     ]
    },
    {
     "data": {
      "text/plain": [
       "Timestamp('2020-08-28 09:47:22-0400', tz='America/Toronto')"
      ]
     },
     "metadata": {},
     "output_type": "display_data"
    },
    {
     "name": "stdout",
     "output_type": "stream",
     "text": [
      "going  20200828 09:47:22\n"
     ]
    },
    {
     "data": {
      "text/plain": [
       "Timestamp('2020-08-28 09:47:00-0400', tz='America/Toronto')"
      ]
     },
     "metadata": {},
     "output_type": "display_data"
    },
    {
     "name": "stdout",
     "output_type": "stream",
     "text": [
      "going  20200828 09:47:00\n"
     ]
    },
    {
     "data": {
      "text/plain": [
       "Timestamp('2020-08-28 09:46:46-0400', tz='America/Toronto')"
      ]
     },
     "metadata": {},
     "output_type": "display_data"
    },
    {
     "name": "stdout",
     "output_type": "stream",
     "text": [
      "going  20200828 09:46:46\n"
     ]
    },
    {
     "data": {
      "text/plain": [
       "Timestamp('2020-08-28 09:46:04-0400', tz='America/Toronto')"
      ]
     },
     "metadata": {},
     "output_type": "display_data"
    },
    {
     "name": "stdout",
     "output_type": "stream",
     "text": [
      "going  20200828 09:46:04\n"
     ]
    },
    {
     "data": {
      "text/plain": [
       "Timestamp('2020-08-28 09:44:54-0400', tz='America/Toronto')"
      ]
     },
     "metadata": {},
     "output_type": "display_data"
    },
    {
     "name": "stdout",
     "output_type": "stream",
     "text": [
      "going  20200828 09:44:54\n"
     ]
    },
    {
     "data": {
      "text/plain": [
       "Timestamp('2020-08-28 09:43:45-0400', tz='America/Toronto')"
      ]
     },
     "metadata": {},
     "output_type": "display_data"
    },
    {
     "name": "stdout",
     "output_type": "stream",
     "text": [
      "going  20200828 09:43:45\n"
     ]
    },
    {
     "data": {
      "text/plain": [
       "Timestamp('2020-08-28 09:42:38-0400', tz='America/Toronto')"
      ]
     },
     "metadata": {},
     "output_type": "display_data"
    },
    {
     "name": "stdout",
     "output_type": "stream",
     "text": [
      "going  20200828 09:42:38\n"
     ]
    },
    {
     "data": {
      "text/plain": [
       "Timestamp('2020-08-28 09:41:45-0400', tz='America/Toronto')"
      ]
     },
     "metadata": {},
     "output_type": "display_data"
    },
    {
     "name": "stdout",
     "output_type": "stream",
     "text": [
      "going  20200828 09:41:45\n"
     ]
    },
    {
     "data": {
      "text/plain": [
       "Timestamp('2020-08-28 09:40:46-0400', tz='America/Toronto')"
      ]
     },
     "metadata": {},
     "output_type": "display_data"
    },
    {
     "name": "stdout",
     "output_type": "stream",
     "text": [
      "going  20200828 09:40:46\n"
     ]
    },
    {
     "data": {
      "text/plain": [
       "Timestamp('2020-08-28 09:39:45-0400', tz='America/Toronto')"
      ]
     },
     "metadata": {},
     "output_type": "display_data"
    },
    {
     "name": "stdout",
     "output_type": "stream",
     "text": [
      "going  20200828 09:39:45\n"
     ]
    },
    {
     "data": {
      "text/plain": [
       "Timestamp('2020-08-28 09:38:33-0400', tz='America/Toronto')"
      ]
     },
     "metadata": {},
     "output_type": "display_data"
    },
    {
     "name": "stdout",
     "output_type": "stream",
     "text": [
      "going  20200828 09:38:33\n"
     ]
    },
    {
     "data": {
      "text/plain": [
       "Timestamp('2020-08-28 09:37:06-0400', tz='America/Toronto')"
      ]
     },
     "metadata": {},
     "output_type": "display_data"
    },
    {
     "name": "stdout",
     "output_type": "stream",
     "text": [
      "going  20200828 09:37:06\n"
     ]
    },
    {
     "data": {
      "text/plain": [
       "Timestamp('2020-08-28 09:36:03-0400', tz='America/Toronto')"
      ]
     },
     "metadata": {},
     "output_type": "display_data"
    },
    {
     "name": "stdout",
     "output_type": "stream",
     "text": [
      "going  20200828 09:36:03\n"
     ]
    },
    {
     "data": {
      "text/plain": [
       "Timestamp('2020-08-28 09:35:28-0400', tz='America/Toronto')"
      ]
     },
     "metadata": {},
     "output_type": "display_data"
    },
    {
     "name": "stdout",
     "output_type": "stream",
     "text": [
      "going  20200828 09:35:28\n"
     ]
    },
    {
     "data": {
      "text/plain": [
       "Timestamp('2020-08-28 09:34:47-0400', tz='America/Toronto')"
      ]
     },
     "metadata": {},
     "output_type": "display_data"
    },
    {
     "name": "stdout",
     "output_type": "stream",
     "text": [
      "going  20200828 09:34:47\n"
     ]
    },
    {
     "data": {
      "text/plain": [
       "Timestamp('2020-08-28 09:34:01-0400', tz='America/Toronto')"
      ]
     },
     "metadata": {},
     "output_type": "display_data"
    },
    {
     "name": "stdout",
     "output_type": "stream",
     "text": [
      "going  20200828 09:34:01\n"
     ]
    },
    {
     "data": {
      "text/plain": [
       "Timestamp('2020-08-28 09:33:16-0400', tz='America/Toronto')"
      ]
     },
     "metadata": {},
     "output_type": "display_data"
    },
    {
     "name": "stdout",
     "output_type": "stream",
     "text": [
      "going  20200828 09:33:16\n"
     ]
    },
    {
     "data": {
      "text/plain": [
       "Timestamp('2020-08-28 09:32:28-0400', tz='America/Toronto')"
      ]
     },
     "metadata": {},
     "output_type": "display_data"
    },
    {
     "name": "stdout",
     "output_type": "stream",
     "text": [
      "going  20200828 09:32:28\n"
     ]
    },
    {
     "data": {
      "text/plain": [
       "Timestamp('2020-08-28 09:31:47-0400', tz='America/Toronto')"
      ]
     },
     "metadata": {},
     "output_type": "display_data"
    },
    {
     "name": "stdout",
     "output_type": "stream",
     "text": [
      "going  20200828 09:31:47\n"
     ]
    },
    {
     "data": {
      "text/plain": [
       "Timestamp('2020-08-28 09:31:05-0400', tz='America/Toronto')"
      ]
     },
     "metadata": {},
     "output_type": "display_data"
    },
    {
     "name": "stdout",
     "output_type": "stream",
     "text": [
      "going  20200828 09:31:05\n"
     ]
    },
    {
     "data": {
      "text/plain": [
       "Timestamp('2020-08-28 09:30:24-0400', tz='America/Toronto')"
      ]
     },
     "metadata": {},
     "output_type": "display_data"
    },
    {
     "name": "stdout",
     "output_type": "stream",
     "text": [
      "going  20200828 09:30:24\n"
     ]
    },
    {
     "data": {
      "text/plain": [
       "Timestamp('2020-08-28 09:30:00-0400', tz='America/Toronto')"
      ]
     },
     "metadata": {},
     "output_type": "display_data"
    },
    {
     "name": "stdout",
     "output_type": "stream",
     "text": [
      "going  20200828 09:30:00\n"
     ]
    },
    {
     "data": {
      "text/plain": [
       "Timestamp('2020-08-28 08:54:59-0400', tz='America/Toronto')"
      ]
     },
     "metadata": {},
     "output_type": "display_data"
    },
    {
     "name": "stdout",
     "output_type": "stream",
     "text": [
      "going  20200828 08:54:59\n"
     ]
    },
    {
     "data": {
      "text/plain": [
       "Timestamp('2020-08-28 08:01:09-0400', tz='America/Toronto')"
      ]
     },
     "metadata": {},
     "output_type": "display_data"
    },
    {
     "name": "stdout",
     "output_type": "stream",
     "text": [
      "going  20200828 08:01:09\n"
     ]
    },
    {
     "data": {
      "text/plain": [
       "Timestamp('2020-08-28 06:18:11-0400', tz='America/Toronto')"
      ]
     },
     "metadata": {},
     "output_type": "display_data"
    },
    {
     "name": "stdout",
     "output_type": "stream",
     "text": [
      "going  20200828 06:18:11\n"
     ]
    },
    {
     "data": {
      "text/plain": [
       "Timestamp('2020-08-28 04:00:00-0400', tz='America/Toronto')"
      ]
     },
     "metadata": {},
     "output_type": "display_data"
    },
    {
     "name": "stdout",
     "output_type": "stream",
     "text": [
      "going  20200828 04:00:00\n"
     ]
    },
    {
     "data": {
      "text/plain": [
       "Timestamp('2020-08-27 18:08:04-0400', tz='America/Toronto')"
      ]
     },
     "metadata": {},
     "output_type": "display_data"
    },
    {
     "name": "stdout",
     "output_type": "stream",
     "text": [
      "going  20200827 18:08:04\n"
     ]
    },
    {
     "data": {
      "text/plain": [
       "Timestamp('2020-08-27 16:44:20-0400', tz='America/Toronto')"
      ]
     },
     "metadata": {},
     "output_type": "display_data"
    },
    {
     "name": "stdout",
     "output_type": "stream",
     "text": [
      "going  20200827 16:44:20\n"
     ]
    },
    {
     "data": {
      "text/plain": [
       "Timestamp('2020-08-27 16:14:39-0400', tz='America/Toronto')"
      ]
     },
     "metadata": {},
     "output_type": "display_data"
    },
    {
     "name": "stdout",
     "output_type": "stream",
     "text": [
      "going  20200827 16:14:39\n"
     ]
    },
    {
     "data": {
      "text/plain": [
       "Timestamp('2020-08-27 16:09:43-0400', tz='America/Toronto')"
      ]
     },
     "metadata": {},
     "output_type": "display_data"
    },
    {
     "name": "stdout",
     "output_type": "stream",
     "text": [
      "going  20200827 16:09:43\n"
     ]
    },
    {
     "data": {
      "text/plain": [
       "Timestamp('2020-08-27 16:05:48-0400', tz='America/Toronto')"
      ]
     },
     "metadata": {},
     "output_type": "display_data"
    },
    {
     "name": "stdout",
     "output_type": "stream",
     "text": [
      "going  20200827 16:05:48\n"
     ]
    },
    {
     "data": {
      "text/plain": [
       "Timestamp('2020-08-27 16:02:26-0400', tz='America/Toronto')"
      ]
     },
     "metadata": {},
     "output_type": "display_data"
    },
    {
     "name": "stdout",
     "output_type": "stream",
     "text": [
      "going  20200827 16:02:26\n"
     ]
    },
    {
     "data": {
      "text/plain": [
       "Timestamp('2020-08-27 16:00:37-0400', tz='America/Toronto')"
      ]
     },
     "metadata": {},
     "output_type": "display_data"
    },
    {
     "name": "stdout",
     "output_type": "stream",
     "text": [
      "going  20200827 16:00:37\n"
     ]
    },
    {
     "data": {
      "text/plain": [
       "Timestamp('2020-08-27 15:59:59-0400', tz='America/Toronto')"
      ]
     },
     "metadata": {},
     "output_type": "display_data"
    },
    {
     "name": "stdout",
     "output_type": "stream",
     "text": [
      "going  20200827 15:59:59\n"
     ]
    },
    {
     "data": {
      "text/plain": [
       "Timestamp('2020-08-27 15:59:53-0400', tz='America/Toronto')"
      ]
     },
     "metadata": {},
     "output_type": "display_data"
    },
    {
     "name": "stdout",
     "output_type": "stream",
     "text": [
      "going  20200827 15:59:53\n"
     ]
    },
    {
     "data": {
      "text/plain": [
       "Timestamp('2020-08-27 15:59:44-0400', tz='America/Toronto')"
      ]
     },
     "metadata": {},
     "output_type": "display_data"
    },
    {
     "name": "stdout",
     "output_type": "stream",
     "text": [
      "going  20200827 15:59:44\n"
     ]
    },
    {
     "data": {
      "text/plain": [
       "Timestamp('2020-08-27 15:59:31-0400', tz='America/Toronto')"
      ]
     },
     "metadata": {},
     "output_type": "display_data"
    },
    {
     "name": "stdout",
     "output_type": "stream",
     "text": [
      "going  20200827 15:59:31\n"
     ]
    },
    {
     "data": {
      "text/plain": [
       "Timestamp('2020-08-27 15:59:20-0400', tz='America/Toronto')"
      ]
     },
     "metadata": {},
     "output_type": "display_data"
    },
    {
     "name": "stdout",
     "output_type": "stream",
     "text": [
      "going  20200827 15:59:20\n"
     ]
    },
    {
     "data": {
      "text/plain": [
       "Timestamp('2020-08-27 15:59:11-0400', tz='America/Toronto')"
      ]
     },
     "metadata": {},
     "output_type": "display_data"
    },
    {
     "name": "stdout",
     "output_type": "stream",
     "text": [
      "going  20200827 15:59:11\n"
     ]
    },
    {
     "data": {
      "text/plain": [
       "Timestamp('2020-08-27 15:59:01-0400', tz='America/Toronto')"
      ]
     },
     "metadata": {},
     "output_type": "display_data"
    },
    {
     "name": "stdout",
     "output_type": "stream",
     "text": [
      "going  20200827 15:59:01\n"
     ]
    },
    {
     "data": {
      "text/plain": [
       "Timestamp('2020-08-27 15:58:44-0400', tz='America/Toronto')"
      ]
     },
     "metadata": {},
     "output_type": "display_data"
    },
    {
     "name": "stdout",
     "output_type": "stream",
     "text": [
      "going  20200827 15:58:44\n"
     ]
    },
    {
     "data": {
      "text/plain": [
       "Timestamp('2020-08-27 15:58:21-0400', tz='America/Toronto')"
      ]
     },
     "metadata": {},
     "output_type": "display_data"
    },
    {
     "name": "stdout",
     "output_type": "stream",
     "text": [
      "going  20200827 15:58:21\n"
     ]
    },
    {
     "data": {
      "text/plain": [
       "Timestamp('2020-08-27 15:58:02-0400', tz='America/Toronto')"
      ]
     },
     "metadata": {},
     "output_type": "display_data"
    },
    {
     "name": "stdout",
     "output_type": "stream",
     "text": [
      "going  20200827 15:58:02\n"
     ]
    },
    {
     "data": {
      "text/plain": [
       "Timestamp('2020-08-27 15:57:40-0400', tz='America/Toronto')"
      ]
     },
     "metadata": {},
     "output_type": "display_data"
    },
    {
     "name": "stdout",
     "output_type": "stream",
     "text": [
      "going  20200827 15:57:40\n"
     ]
    },
    {
     "data": {
      "text/plain": [
       "Timestamp('2020-08-27 15:57:19-0400', tz='America/Toronto')"
      ]
     },
     "metadata": {},
     "output_type": "display_data"
    },
    {
     "name": "stdout",
     "output_type": "stream",
     "text": [
      "going  20200827 15:57:19\n"
     ]
    },
    {
     "data": {
      "text/plain": [
       "Timestamp('2020-08-27 15:56:56-0400', tz='America/Toronto')"
      ]
     },
     "metadata": {},
     "output_type": "display_data"
    },
    {
     "name": "stdout",
     "output_type": "stream",
     "text": [
      "going  20200827 15:56:56\n"
     ]
    },
    {
     "data": {
      "text/plain": [
       "Timestamp('2020-08-27 15:56:36-0400', tz='America/Toronto')"
      ]
     },
     "metadata": {},
     "output_type": "display_data"
    },
    {
     "name": "stdout",
     "output_type": "stream",
     "text": [
      "going  20200827 15:56:36\n"
     ]
    },
    {
     "data": {
      "text/plain": [
       "Timestamp('2020-08-27 15:56:18-0400', tz='America/Toronto')"
      ]
     },
     "metadata": {},
     "output_type": "display_data"
    },
    {
     "name": "stdout",
     "output_type": "stream",
     "text": [
      "going  20200827 15:56:18\n"
     ]
    },
    {
     "data": {
      "text/plain": [
       "Timestamp('2020-08-27 15:55:55-0400', tz='America/Toronto')"
      ]
     },
     "metadata": {},
     "output_type": "display_data"
    },
    {
     "name": "stdout",
     "output_type": "stream",
     "text": [
      "going  20200827 15:55:55\n"
     ]
    },
    {
     "ename": "KeyboardInterrupt",
     "evalue": "",
     "output_type": "error",
     "traceback": [
      "\u001b[0;31m---------------------------------------------------------------------------\u001b[0m",
      "\u001b[0;31mKeyboardInterrupt\u001b[0m                         Traceback (most recent call last)",
      "\u001b[0;32m<ipython-input-4-794135cdfcd5>\u001b[0m in \u001b[0;36m<module>\u001b[0;34m\u001b[0m\n\u001b[1;32m     39\u001b[0m \u001b[0;32mwhile\u001b[0m \u001b[0mnext_time\u001b[0m \u001b[0;34m!=\u001b[0m \u001b[0;32mNone\u001b[0m\u001b[0;34m:\u001b[0m\u001b[0;34m\u001b[0m\u001b[0;34m\u001b[0m\u001b[0m\n\u001b[1;32m     40\u001b[0m     \u001b[0mprint\u001b[0m\u001b[0;34m(\u001b[0m\u001b[0;34m\"going \"\u001b[0m\u001b[0;34m,\u001b[0m\u001b[0mnext_time\u001b[0m\u001b[0;34m)\u001b[0m\u001b[0;34m\u001b[0m\u001b[0;34m\u001b[0m\u001b[0m\n\u001b[0;32m---> 41\u001b[0;31m     \u001b[0mdf\u001b[0m\u001b[0;34m,\u001b[0m\u001b[0mnext_time\u001b[0m \u001b[0;34m=\u001b[0m \u001b[0mqryHistTicks\u001b[0m\u001b[0;34m(\u001b[0m\u001b[0mcontract\u001b[0m\u001b[0;34m,\u001b[0m\u001b[0mnext_time\u001b[0m\u001b[0;34m,\u001b[0m\u001b[0mmode\u001b[0m\u001b[0;34m=\u001b[0m\u001b[0;34m'end'\u001b[0m\u001b[0;34m)\u001b[0m\u001b[0;34m\u001b[0m\u001b[0;34m\u001b[0m\u001b[0m\n\u001b[0m\u001b[1;32m     42\u001b[0m     \u001b[0mdf_full\u001b[0m \u001b[0;34m=\u001b[0m \u001b[0mdf_full\u001b[0m\u001b[0;34m.\u001b[0m\u001b[0mappend\u001b[0m\u001b[0;34m(\u001b[0m\u001b[0mdf\u001b[0m\u001b[0;34m,\u001b[0m\u001b[0mignore_index\u001b[0m\u001b[0;34m=\u001b[0m\u001b[0;32mTrue\u001b[0m\u001b[0;34m)\u001b[0m\u001b[0;34m\u001b[0m\u001b[0;34m\u001b[0m\u001b[0m\n",
      "\u001b[0;32m<ipython-input-4-794135cdfcd5>\u001b[0m in \u001b[0;36mqryHistTicks\u001b[0;34m(contract, dtstr, nticks, mode)\u001b[0m\n\u001b[1;32m     11\u001b[0m         \u001b[0mend\u001b[0m \u001b[0;34m=\u001b[0m \u001b[0;34m''\u001b[0m\u001b[0;34m\u001b[0m\u001b[0;34m\u001b[0m\u001b[0m\n\u001b[1;32m     12\u001b[0m     \u001b[0;32mtry\u001b[0m\u001b[0;34m:\u001b[0m\u001b[0;34m\u001b[0m\u001b[0;34m\u001b[0m\u001b[0m\n\u001b[0;32m---> 13\u001b[0;31m         \u001b[0mticks\u001b[0m \u001b[0;34m=\u001b[0m \u001b[0mib\u001b[0m\u001b[0;34m.\u001b[0m\u001b[0mreqHistoricalTicks\u001b[0m\u001b[0;34m(\u001b[0m\u001b[0mcontract\u001b[0m\u001b[0;34m,\u001b[0m \u001b[0mstart\u001b[0m\u001b[0;34m,\u001b[0m \u001b[0mend\u001b[0m\u001b[0;34m,\u001b[0m \u001b[0mnticks\u001b[0m\u001b[0;34m,\u001b[0m \u001b[0;34m'TRADES'\u001b[0m\u001b[0;34m,\u001b[0m \u001b[0museRth\u001b[0m\u001b[0;34m=\u001b[0m\u001b[0;32mFalse\u001b[0m\u001b[0;34m)\u001b[0m\u001b[0;34m\u001b[0m\u001b[0;34m\u001b[0m\u001b[0m\n\u001b[0m\u001b[1;32m     14\u001b[0m         \u001b[0mdf\u001b[0m \u001b[0;34m=\u001b[0m \u001b[0mutil\u001b[0m\u001b[0;34m.\u001b[0m\u001b[0mdf\u001b[0m\u001b[0;34m(\u001b[0m\u001b[0mticks\u001b[0m\u001b[0;34m)\u001b[0m\u001b[0;34m\u001b[0m\u001b[0;34m\u001b[0m\u001b[0m\n\u001b[1;32m     15\u001b[0m         \u001b[0mdf\u001b[0m \u001b[0;34m=\u001b[0m \u001b[0mdf\u001b[0m\u001b[0;34m.\u001b[0m\u001b[0mset_index\u001b[0m\u001b[0;34m(\u001b[0m\u001b[0;34m'time'\u001b[0m\u001b[0;34m)\u001b[0m\u001b[0;34m\u001b[0m\u001b[0;34m\u001b[0m\u001b[0m\n",
      "\u001b[0;32m/opt/conda/lib/python3.8/site-packages/ib_insync/ib.py\u001b[0m in \u001b[0;36mreqHistoricalTicks\u001b[0;34m(self, contract, startDateTime, endDateTime, numberOfTicks, whatToShow, useRth, ignoreSize, miscOptions)\u001b[0m\n\u001b[1;32m   1095\u001b[0m             \u001b[0mmiscOptions\u001b[0m\u001b[0;34m:\u001b[0m \u001b[0mUnknown\u001b[0m\u001b[0;34m.\u001b[0m\u001b[0;34m\u001b[0m\u001b[0;34m\u001b[0m\u001b[0m\n\u001b[1;32m   1096\u001b[0m         \"\"\"\n\u001b[0;32m-> 1097\u001b[0;31m         return self._run(\n\u001b[0m\u001b[1;32m   1098\u001b[0m             self.reqHistoricalTicksAsync(\n\u001b[1;32m   1099\u001b[0m                 \u001b[0mcontract\u001b[0m\u001b[0;34m,\u001b[0m \u001b[0mstartDateTime\u001b[0m\u001b[0;34m,\u001b[0m \u001b[0mendDateTime\u001b[0m\u001b[0;34m,\u001b[0m \u001b[0mnumberOfTicks\u001b[0m\u001b[0;34m,\u001b[0m\u001b[0;34m\u001b[0m\u001b[0;34m\u001b[0m\u001b[0m\n",
      "\u001b[0;32m/opt/conda/lib/python3.8/site-packages/ib_insync/ib.py\u001b[0m in \u001b[0;36m_run\u001b[0;34m(self, *awaitables)\u001b[0m\n\u001b[1;32m    299\u001b[0m \u001b[0;34m\u001b[0m\u001b[0m\n\u001b[1;32m    300\u001b[0m     \u001b[0;32mdef\u001b[0m \u001b[0m_run\u001b[0m\u001b[0;34m(\u001b[0m\u001b[0mself\u001b[0m\u001b[0;34m,\u001b[0m \u001b[0;34m*\u001b[0m\u001b[0mawaitables\u001b[0m\u001b[0;34m:\u001b[0m \u001b[0mAwaitable\u001b[0m\u001b[0;34m)\u001b[0m\u001b[0;34m:\u001b[0m\u001b[0;34m\u001b[0m\u001b[0;34m\u001b[0m\u001b[0m\n\u001b[0;32m--> 301\u001b[0;31m         \u001b[0;32mreturn\u001b[0m \u001b[0mutil\u001b[0m\u001b[0;34m.\u001b[0m\u001b[0mrun\u001b[0m\u001b[0;34m(\u001b[0m\u001b[0;34m*\u001b[0m\u001b[0mawaitables\u001b[0m\u001b[0;34m,\u001b[0m \u001b[0mtimeout\u001b[0m\u001b[0;34m=\u001b[0m\u001b[0mself\u001b[0m\u001b[0;34m.\u001b[0m\u001b[0mRequestTimeout\u001b[0m\u001b[0;34m)\u001b[0m\u001b[0;34m\u001b[0m\u001b[0;34m\u001b[0m\u001b[0m\n\u001b[0m\u001b[1;32m    302\u001b[0m \u001b[0;34m\u001b[0m\u001b[0m\n\u001b[1;32m    303\u001b[0m     \u001b[0;32mdef\u001b[0m \u001b[0mwaitOnUpdate\u001b[0m\u001b[0;34m(\u001b[0m\u001b[0mself\u001b[0m\u001b[0;34m,\u001b[0m \u001b[0mtimeout\u001b[0m\u001b[0;34m:\u001b[0m \u001b[0mfloat\u001b[0m \u001b[0;34m=\u001b[0m \u001b[0;36m0\u001b[0m\u001b[0;34m)\u001b[0m \u001b[0;34m->\u001b[0m \u001b[0mbool\u001b[0m\u001b[0;34m:\u001b[0m\u001b[0;34m\u001b[0m\u001b[0;34m\u001b[0m\u001b[0m\n",
      "\u001b[0;32m/opt/conda/lib/python3.8/site-packages/ib_insync/util.py\u001b[0m in \u001b[0;36mrun\u001b[0;34m(timeout, *awaitables)\u001b[0m\n\u001b[1;32m    310\u001b[0m         \u001b[0mglobalErrorEvent\u001b[0m\u001b[0;34m.\u001b[0m\u001b[0mconnect\u001b[0m\u001b[0;34m(\u001b[0m\u001b[0monError\u001b[0m\u001b[0;34m)\u001b[0m\u001b[0;34m\u001b[0m\u001b[0;34m\u001b[0m\u001b[0m\n\u001b[1;32m    311\u001b[0m         \u001b[0;32mtry\u001b[0m\u001b[0;34m:\u001b[0m\u001b[0;34m\u001b[0m\u001b[0;34m\u001b[0m\u001b[0m\n\u001b[0;32m--> 312\u001b[0;31m             \u001b[0mresult\u001b[0m \u001b[0;34m=\u001b[0m \u001b[0mloop\u001b[0m\u001b[0;34m.\u001b[0m\u001b[0mrun_until_complete\u001b[0m\u001b[0;34m(\u001b[0m\u001b[0mtask\u001b[0m\u001b[0;34m)\u001b[0m\u001b[0;34m\u001b[0m\u001b[0;34m\u001b[0m\u001b[0m\n\u001b[0m\u001b[1;32m    313\u001b[0m         \u001b[0;32mexcept\u001b[0m \u001b[0masyncio\u001b[0m\u001b[0;34m.\u001b[0m\u001b[0mCancelledError\u001b[0m \u001b[0;32mas\u001b[0m \u001b[0me\u001b[0m\u001b[0;34m:\u001b[0m\u001b[0;34m\u001b[0m\u001b[0;34m\u001b[0m\u001b[0m\n\u001b[1;32m    314\u001b[0m             \u001b[0;32mraise\u001b[0m \u001b[0mglobalErrorEvent\u001b[0m\u001b[0;34m.\u001b[0m\u001b[0mvalue\u001b[0m\u001b[0;34m(\u001b[0m\u001b[0;34m)\u001b[0m \u001b[0;32mor\u001b[0m \u001b[0me\u001b[0m\u001b[0;34m\u001b[0m\u001b[0;34m\u001b[0m\u001b[0m\n",
      "\u001b[0;32m/opt/conda/lib/python3.8/site-packages/nest_asyncio.py\u001b[0m in \u001b[0;36mrun_until_complete\u001b[0;34m(self, future)\u001b[0m\n\u001b[1;32m     87\u001b[0m                 \u001b[0mf\u001b[0m\u001b[0;34m.\u001b[0m\u001b[0m_log_destroy_pending\u001b[0m \u001b[0;34m=\u001b[0m \u001b[0;32mFalse\u001b[0m\u001b[0;34m\u001b[0m\u001b[0;34m\u001b[0m\u001b[0m\n\u001b[1;32m     88\u001b[0m             \u001b[0;32mwhile\u001b[0m \u001b[0;32mnot\u001b[0m \u001b[0mf\u001b[0m\u001b[0;34m.\u001b[0m\u001b[0mdone\u001b[0m\u001b[0;34m(\u001b[0m\u001b[0;34m)\u001b[0m\u001b[0;34m:\u001b[0m\u001b[0;34m\u001b[0m\u001b[0;34m\u001b[0m\u001b[0m\n\u001b[0;32m---> 89\u001b[0;31m                 \u001b[0mself\u001b[0m\u001b[0;34m.\u001b[0m\u001b[0m_run_once\u001b[0m\u001b[0;34m(\u001b[0m\u001b[0;34m)\u001b[0m\u001b[0;34m\u001b[0m\u001b[0;34m\u001b[0m\u001b[0m\n\u001b[0m\u001b[1;32m     90\u001b[0m                 \u001b[0;32mif\u001b[0m \u001b[0mself\u001b[0m\u001b[0;34m.\u001b[0m\u001b[0m_stopping\u001b[0m\u001b[0;34m:\u001b[0m\u001b[0;34m\u001b[0m\u001b[0;34m\u001b[0m\u001b[0m\n\u001b[1;32m     91\u001b[0m                     \u001b[0;32mbreak\u001b[0m\u001b[0;34m\u001b[0m\u001b[0;34m\u001b[0m\u001b[0m\n",
      "\u001b[0;32m/opt/conda/lib/python3.8/site-packages/nest_asyncio.py\u001b[0m in \u001b[0;36m_run_once\u001b[0;34m(self)\u001b[0m\n\u001b[1;32m    111\u001b[0m             \u001b[0;32melse\u001b[0m \u001b[0mmin\u001b[0m\u001b[0;34m(\u001b[0m\u001b[0mmax\u001b[0m\u001b[0;34m(\u001b[0m\u001b[0;36m0\u001b[0m\u001b[0;34m,\u001b[0m \u001b[0mscheduled\u001b[0m\u001b[0;34m[\u001b[0m\u001b[0;36m0\u001b[0m\u001b[0;34m]\u001b[0m\u001b[0;34m.\u001b[0m\u001b[0m_when\u001b[0m \u001b[0;34m-\u001b[0m \u001b[0mnow\u001b[0m\u001b[0;34m)\u001b[0m\u001b[0;34m,\u001b[0m \u001b[0;36m10\u001b[0m\u001b[0;34m)\u001b[0m \u001b[0;32mif\u001b[0m \u001b[0mscheduled\u001b[0m\u001b[0;31m \u001b[0m\u001b[0;31m\\\u001b[0m\u001b[0;34m\u001b[0m\u001b[0;34m\u001b[0m\u001b[0m\n\u001b[1;32m    112\u001b[0m             \u001b[0;32melse\u001b[0m \u001b[0;32mNone\u001b[0m\u001b[0;34m\u001b[0m\u001b[0;34m\u001b[0m\u001b[0m\n\u001b[0;32m--> 113\u001b[0;31m         \u001b[0mevent_list\u001b[0m \u001b[0;34m=\u001b[0m \u001b[0mself\u001b[0m\u001b[0;34m.\u001b[0m\u001b[0m_selector\u001b[0m\u001b[0;34m.\u001b[0m\u001b[0mselect\u001b[0m\u001b[0;34m(\u001b[0m\u001b[0mtimeout\u001b[0m\u001b[0;34m)\u001b[0m\u001b[0;34m\u001b[0m\u001b[0;34m\u001b[0m\u001b[0m\n\u001b[0m\u001b[1;32m    114\u001b[0m         \u001b[0mself\u001b[0m\u001b[0;34m.\u001b[0m\u001b[0m_process_events\u001b[0m\u001b[0;34m(\u001b[0m\u001b[0mevent_list\u001b[0m\u001b[0;34m)\u001b[0m\u001b[0;34m\u001b[0m\u001b[0;34m\u001b[0m\u001b[0m\n\u001b[1;32m    115\u001b[0m \u001b[0;34m\u001b[0m\u001b[0m\n",
      "\u001b[0;32m/opt/conda/lib/python3.8/selectors.py\u001b[0m in \u001b[0;36mselect\u001b[0;34m(self, timeout)\u001b[0m\n\u001b[1;32m    466\u001b[0m             \u001b[0mready\u001b[0m \u001b[0;34m=\u001b[0m \u001b[0;34m[\u001b[0m\u001b[0;34m]\u001b[0m\u001b[0;34m\u001b[0m\u001b[0;34m\u001b[0m\u001b[0m\n\u001b[1;32m    467\u001b[0m             \u001b[0;32mtry\u001b[0m\u001b[0;34m:\u001b[0m\u001b[0;34m\u001b[0m\u001b[0;34m\u001b[0m\u001b[0m\n\u001b[0;32m--> 468\u001b[0;31m                 \u001b[0mfd_event_list\u001b[0m \u001b[0;34m=\u001b[0m \u001b[0mself\u001b[0m\u001b[0;34m.\u001b[0m\u001b[0m_selector\u001b[0m\u001b[0;34m.\u001b[0m\u001b[0mpoll\u001b[0m\u001b[0;34m(\u001b[0m\u001b[0mtimeout\u001b[0m\u001b[0;34m,\u001b[0m \u001b[0mmax_ev\u001b[0m\u001b[0;34m)\u001b[0m\u001b[0;34m\u001b[0m\u001b[0;34m\u001b[0m\u001b[0m\n\u001b[0m\u001b[1;32m    469\u001b[0m             \u001b[0;32mexcept\u001b[0m \u001b[0mInterruptedError\u001b[0m\u001b[0;34m:\u001b[0m\u001b[0;34m\u001b[0m\u001b[0;34m\u001b[0m\u001b[0m\n\u001b[1;32m    470\u001b[0m                 \u001b[0;32mreturn\u001b[0m \u001b[0mready\u001b[0m\u001b[0;34m\u001b[0m\u001b[0;34m\u001b[0m\u001b[0m\n",
      "\u001b[0;31mKeyboardInterrupt\u001b[0m: "
     ]
    }
   ],
   "source": [
    "start = ''\n",
    "end = \"20200828 15:41:41\"\n",
    "contract = Stock('SPY', 'SMART', 'USD')\n",
    "def qryHistTicks(contract,dtstr,nticks=1000,mode='end'):\n",
    "    df = pd.DataFrame()\n",
    "    if mode == 'end':\n",
    "        start = ''\n",
    "        end = f'{dtstr}'\n",
    "    else:\n",
    "        start = f'{dtstr}'\n",
    "        end = ''\n",
    "    try:\n",
    "        ticks = ib.reqHistoricalTicks(contract, start, end, nticks, 'TRADES', useRth=False)\n",
    "        df = util.df(ticks)\n",
    "        df = df.set_index('time')\n",
    "        df = df.tz_convert('America/Toronto')\n",
    "        df['pastLimit'] = [row.pastLimit for row in df['tickAttribLast']]\n",
    "        df['unreported'] = [row.unreported for row in df['tickAttribLast']]\n",
    "        del df['tickAttribLast']\n",
    "    except Exception as e: print(e)\n",
    "    size = len(df)\n",
    "    first = df.index[0]\n",
    "    last = df.index[-1]\n",
    "    nextm = None\n",
    "\n",
    "    if mode == 'end': \n",
    "        display(first)\n",
    "        nex = first + td(seconds=0)\n",
    "        df = df[df.index != first]\n",
    "    else: \n",
    "        nex = last - td(seconds=0)\n",
    "        df = df[df.index != last]\n",
    "    nextm = nex.strftime(\"%Y%m%d %H:%M:%S\")\n",
    "    \n",
    "    return df,nextm\n",
    "\n",
    "df_full = pd.DataFrame()\n",
    "df,next_time = qryHistTicks(contract,\"20200828 23:59:99\",mode='end')\n",
    "while next_time != None:\n",
    "    print(\"going \",next_time)\n",
    "    df,next_time = qryHistTicks(contract,next_time,mode='end')\n",
    "    df_full = df_full.append(df)\n"
   ]
  },
  {
   "cell_type": "code",
   "execution_count": 6,
   "metadata": {
    "ExecuteTime": {
     "end_time": "2020-09-01T01:59:52.363282Z",
     "start_time": "2020-09-01T01:59:51.460984Z"
    }
   },
   "outputs": [],
   "source": [
    "df_full.to_csv('SPY_tape_sample.csv')"
   ]
  },
  {
   "cell_type": "code",
   "execution_count": 3,
   "metadata": {
    "ExecuteTime": {
     "end_time": "2020-09-02T02:51:39.022394Z",
     "start_time": "2020-09-02T02:51:38.887964Z"
    },
    "run_control": {
     "marked": true
    }
   },
   "outputs": [],
   "source": [
    "import asyncio, asyncpg, os, nest_asyncio\n",
    "nest_asyncio.apply()\n",
    "\n",
    "async def execSQL(qry):\n",
    "    conn = await asyncpg.connect(user=\"postgres\",password=\"FoolishPassword\",database='stocks',host='postgres',port='5432',)\n",
    "    await conn.execute(f'''{qry}''')\n",
    "    await conn.close()\n",
    "\n",
    "async def copyDF(df,schema,table):\n",
    "    conn = await asyncpg.connect(user=\"postgres\",password=\"FoolishPassword\",database='stocks',host='postgres',port='5432',)\n",
    "    await conn.execute(f'''SET search_path TO {schema};''')\n",
    "    tuples = list(df.itertuples(index=True, name=None))\n",
    "    li=list(df.columns)\n",
    "    li.insert(0,df.index.name)\n",
    "    display(tuples)\n",
    "    await conn.copy_records_to_table(table, records=tuples, columns=li, timeout=10)\n",
    "    await conn.close()\n",
    "\n",
    "\n",
    "\n",
    "s = f'CREATE SCHEMA IF NOT EXISTS \"GE\" AUTHORIZATION postgres;'\n",
    "asyncio.get_event_loop().run_until_complete(execSQL(s))\n",
    "\n",
    "# s = await conn.copy_records_to_table(table_name, records=tuples, columns=list(df.columns), timeout=10)"
   ]
  },
  {
   "cell_type": "code",
   "execution_count": 84,
   "metadata": {
    "ExecuteTime": {
     "end_time": "2020-09-02T01:44:50.192290Z",
     "start_time": "2020-09-02T01:44:50.187749Z"
    }
   },
   "outputs": [
    {
     "data": {
      "text/plain": [
       "['date', 'open', 'high', 'low', 'close', 'volume', 'average', 'barcount']"
      ]
     },
     "metadata": {},
     "output_type": "display_data"
    }
   ],
   "source": [
    "\n",
    "display(li)"
   ]
  },
  {
   "cell_type": "code",
   "execution_count": 6,
   "metadata": {
    "ExecuteTime": {
     "end_time": "2020-09-02T02:52:53.420420Z",
     "start_time": "2020-09-02T02:52:46.627756Z"
    }
   },
   "outputs": [
    {
     "data": {
      "text/html": [
       "<div>\n",
       "<style scoped>\n",
       "    .dataframe tbody tr th:only-of-type {\n",
       "        vertical-align: middle;\n",
       "    }\n",
       "\n",
       "    .dataframe tbody tr th {\n",
       "        vertical-align: top;\n",
       "    }\n",
       "\n",
       "    .dataframe thead th {\n",
       "        text-align: right;\n",
       "    }\n",
       "</style>\n",
       "<table border=\"1\" class=\"dataframe\">\n",
       "  <thead>\n",
       "    <tr style=\"text-align: right;\">\n",
       "      <th></th>\n",
       "      <th>open</th>\n",
       "      <th>high</th>\n",
       "      <th>low</th>\n",
       "      <th>close</th>\n",
       "      <th>volume</th>\n",
       "      <th>average</th>\n",
       "      <th>barcount</th>\n",
       "    </tr>\n",
       "    <tr>\n",
       "      <th>date</th>\n",
       "      <th></th>\n",
       "      <th></th>\n",
       "      <th></th>\n",
       "      <th></th>\n",
       "      <th></th>\n",
       "      <th></th>\n",
       "      <th></th>\n",
       "    </tr>\n",
       "  </thead>\n",
       "  <tbody>\n",
       "    <tr>\n",
       "      <th>2020-06-01 04:00:00</th>\n",
       "      <td>305.00</td>\n",
       "      <td>305.31</td>\n",
       "      <td>303.58</td>\n",
       "      <td>303.92</td>\n",
       "      <td>1241</td>\n",
       "      <td>304.104</td>\n",
       "      <td>351</td>\n",
       "    </tr>\n",
       "    <tr>\n",
       "      <th>2020-06-01 04:10:00</th>\n",
       "      <td>303.84</td>\n",
       "      <td>303.90</td>\n",
       "      <td>302.82</td>\n",
       "      <td>303.14</td>\n",
       "      <td>3936</td>\n",
       "      <td>303.391</td>\n",
       "      <td>1388</td>\n",
       "    </tr>\n",
       "    <tr>\n",
       "      <th>2020-06-01 04:20:00</th>\n",
       "      <td>303.18</td>\n",
       "      <td>303.26</td>\n",
       "      <td>302.45</td>\n",
       "      <td>303.15</td>\n",
       "      <td>2886</td>\n",
       "      <td>302.944</td>\n",
       "      <td>666</td>\n",
       "    </tr>\n",
       "    <tr>\n",
       "      <th>2020-06-01 04:30:00</th>\n",
       "      <td>303.26</td>\n",
       "      <td>303.55</td>\n",
       "      <td>303.02</td>\n",
       "      <td>303.46</td>\n",
       "      <td>1603</td>\n",
       "      <td>303.321</td>\n",
       "      <td>373</td>\n",
       "    </tr>\n",
       "    <tr>\n",
       "      <th>2020-06-01 04:40:00</th>\n",
       "      <td>303.46</td>\n",
       "      <td>303.53</td>\n",
       "      <td>303.18</td>\n",
       "      <td>303.53</td>\n",
       "      <td>1397</td>\n",
       "      <td>303.338</td>\n",
       "      <td>326</td>\n",
       "    </tr>\n",
       "    <tr>\n",
       "      <th>...</th>\n",
       "      <td>...</td>\n",
       "      <td>...</td>\n",
       "      <td>...</td>\n",
       "      <td>...</td>\n",
       "      <td>...</td>\n",
       "      <td>...</td>\n",
       "      <td>...</td>\n",
       "    </tr>\n",
       "    <tr>\n",
       "      <th>2020-08-28 19:10:00</th>\n",
       "      <td>350.91</td>\n",
       "      <td>350.93</td>\n",
       "      <td>350.88</td>\n",
       "      <td>350.93</td>\n",
       "      <td>38</td>\n",
       "      <td>350.903</td>\n",
       "      <td>13</td>\n",
       "    </tr>\n",
       "    <tr>\n",
       "      <th>2020-08-28 19:20:00</th>\n",
       "      <td>350.91</td>\n",
       "      <td>350.99</td>\n",
       "      <td>350.91</td>\n",
       "      <td>350.99</td>\n",
       "      <td>28</td>\n",
       "      <td>350.952</td>\n",
       "      <td>16</td>\n",
       "    </tr>\n",
       "    <tr>\n",
       "      <th>2020-08-28 19:30:00</th>\n",
       "      <td>350.95</td>\n",
       "      <td>350.96</td>\n",
       "      <td>350.90</td>\n",
       "      <td>350.95</td>\n",
       "      <td>63</td>\n",
       "      <td>350.937</td>\n",
       "      <td>30</td>\n",
       "    </tr>\n",
       "    <tr>\n",
       "      <th>2020-08-28 19:40:00</th>\n",
       "      <td>350.94</td>\n",
       "      <td>350.98</td>\n",
       "      <td>350.94</td>\n",
       "      <td>350.96</td>\n",
       "      <td>62</td>\n",
       "      <td>350.962</td>\n",
       "      <td>18</td>\n",
       "    </tr>\n",
       "    <tr>\n",
       "      <th>2020-08-28 19:50:00</th>\n",
       "      <td>350.95</td>\n",
       "      <td>351.03</td>\n",
       "      <td>350.95</td>\n",
       "      <td>350.98</td>\n",
       "      <td>107</td>\n",
       "      <td>351.003</td>\n",
       "      <td>31</td>\n",
       "    </tr>\n",
       "  </tbody>\n",
       "</table>\n",
       "<p>6144 rows × 7 columns</p>\n",
       "</div>"
      ],
      "text/plain": [
       "                       open    high     low   close  volume  average  barcount\n",
       "date                                                                          \n",
       "2020-06-01 04:00:00  305.00  305.31  303.58  303.92    1241  304.104       351\n",
       "2020-06-01 04:10:00  303.84  303.90  302.82  303.14    3936  303.391      1388\n",
       "2020-06-01 04:20:00  303.18  303.26  302.45  303.15    2886  302.944       666\n",
       "2020-06-01 04:30:00  303.26  303.55  303.02  303.46    1603  303.321       373\n",
       "2020-06-01 04:40:00  303.46  303.53  303.18  303.53    1397  303.338       326\n",
       "...                     ...     ...     ...     ...     ...      ...       ...\n",
       "2020-08-28 19:10:00  350.91  350.93  350.88  350.93      38  350.903        13\n",
       "2020-08-28 19:20:00  350.91  350.99  350.91  350.99      28  350.952        16\n",
       "2020-08-28 19:30:00  350.95  350.96  350.90  350.95      63  350.937        30\n",
       "2020-08-28 19:40:00  350.94  350.98  350.94  350.96      62  350.962        18\n",
       "2020-08-28 19:50:00  350.95  351.03  350.95  350.98     107  351.003        31\n",
       "\n",
       "[6144 rows x 7 columns]"
      ]
     },
     "metadata": {},
     "output_type": "display_data"
    },
    {
     "data": {
      "text/plain": [
       "[(Timestamp('2020-06-01 04:00:00'),\n",
       "  305.0,\n",
       "  305.31,\n",
       "  303.58,\n",
       "  303.92,\n",
       "  1241,\n",
       "  304.104,\n",
       "  351),\n",
       " (Timestamp('2020-06-01 04:10:00'),\n",
       "  303.84,\n",
       "  303.9,\n",
       "  302.82,\n",
       "  303.14,\n",
       "  3936,\n",
       "  303.391,\n",
       "  1388),\n",
       " (Timestamp('2020-06-01 04:20:00'),\n",
       "  303.18,\n",
       "  303.26,\n",
       "  302.45,\n",
       "  303.15,\n",
       "  2886,\n",
       "  302.944,\n",
       "  666),\n",
       " (Timestamp('2020-06-01 04:30:00'),\n",
       "  303.26,\n",
       "  303.55,\n",
       "  303.02,\n",
       "  303.46,\n",
       "  1603,\n",
       "  303.321,\n",
       "  373),\n",
       " (Timestamp('2020-06-01 04:40:00'),\n",
       "  303.46,\n",
       "  303.53,\n",
       "  303.18,\n",
       "  303.53,\n",
       "  1397,\n",
       "  303.338,\n",
       "  326),\n",
       " (Timestamp('2020-06-01 04:50:00'),\n",
       "  303.66,\n",
       "  304.01,\n",
       "  303.66,\n",
       "  303.88,\n",
       "  1527,\n",
       "  303.88,\n",
       "  503),\n",
       " (Timestamp('2020-06-01 05:00:00'),\n",
       "  303.84,\n",
       "  304.21,\n",
       "  303.67,\n",
       "  304.15,\n",
       "  1106,\n",
       "  303.881,\n",
       "  369),\n",
       " (Timestamp('2020-06-01 05:10:00'),\n",
       "  304.15,\n",
       "  304.15,\n",
       "  303.65,\n",
       "  304.05,\n",
       "  632,\n",
       "  303.965,\n",
       "  127),\n",
       " (Timestamp('2020-06-01 05:20:00'),\n",
       "  304.05,\n",
       "  304.2,\n",
       "  303.83,\n",
       "  303.83,\n",
       "  477,\n",
       "  304.08,\n",
       "  101),\n",
       " (Timestamp('2020-06-01 05:30:00'),\n",
       "  303.81,\n",
       "  304.18,\n",
       "  303.8,\n",
       "  304.06,\n",
       "  1235,\n",
       "  304.061,\n",
       "  107),\n",
       " (Timestamp('2020-06-01 05:40:00'),\n",
       "  304.1,\n",
       "  304.19,\n",
       "  303.65,\n",
       "  303.7,\n",
       "  923,\n",
       "  304.018,\n",
       "  105),\n",
       " (Timestamp('2020-06-01 05:50:00'),\n",
       "  303.69,\n",
       "  303.74,\n",
       "  303.39,\n",
       "  303.56,\n",
       "  111,\n",
       "  303.587,\n",
       "  51),\n",
       " (Timestamp('2020-06-01 06:00:00'),\n",
       "  303.5,\n",
       "  303.82,\n",
       "  303.2,\n",
       "  303.8,\n",
       "  455,\n",
       "  303.631,\n",
       "  115),\n",
       " (Timestamp('2020-06-01 06:10:00'),\n",
       "  303.81,\n",
       "  303.9,\n",
       "  303.73,\n",
       "  303.84,\n",
       "  415,\n",
       "  303.821,\n",
       "  103),\n",
       " (Timestamp('2020-06-01 06:20:00'),\n",
       "  303.89,\n",
       "  304.06,\n",
       "  303.81,\n",
       "  303.95,\n",
       "  645,\n",
       "  303.977,\n",
       "  110),\n",
       " (Timestamp('2020-06-01 06:30:00'),\n",
       "  303.98,\n",
       "  303.98,\n",
       "  303.62,\n",
       "  303.9,\n",
       "  308,\n",
       "  303.833,\n",
       "  90),\n",
       " (Timestamp('2020-06-01 06:40:00'),\n",
       "  303.93,\n",
       "  304.15,\n",
       "  303.93,\n",
       "  304.07,\n",
       "  187,\n",
       "  304.043,\n",
       "  71),\n",
       " (Timestamp('2020-06-01 06:50:00'),\n",
       "  304.07,\n",
       "  304.37,\n",
       "  304.07,\n",
       "  304.36,\n",
       "  182,\n",
       "  304.231,\n",
       "  59),\n",
       " (Timestamp('2020-06-01 07:00:00'),\n",
       "  304.42,\n",
       "  304.68,\n",
       "  304.2,\n",
       "  304.68,\n",
       "  772,\n",
       "  304.523,\n",
       "  326),\n",
       " (Timestamp('2020-06-01 07:10:00'),\n",
       "  304.65,\n",
       "  305.05,\n",
       "  304.58,\n",
       "  304.93,\n",
       "  1017,\n",
       "  304.743,\n",
       "  271),\n",
       " (Timestamp('2020-06-01 07:20:00'),\n",
       "  304.98,\n",
       "  304.98,\n",
       "  304.74,\n",
       "  304.78,\n",
       "  549,\n",
       "  304.857,\n",
       "  180),\n",
       " (Timestamp('2020-06-01 07:30:00'),\n",
       "  304.79,\n",
       "  304.91,\n",
       "  304.74,\n",
       "  304.89,\n",
       "  535,\n",
       "  304.834,\n",
       "  144),\n",
       " (Timestamp('2020-06-01 07:40:00'),\n",
       "  304.9,\n",
       "  305.02,\n",
       "  304.63,\n",
       "  304.65,\n",
       "  743,\n",
       "  304.785,\n",
       "  261),\n",
       " (Timestamp('2020-06-01 07:50:00'),\n",
       "  304.63,\n",
       "  304.7,\n",
       "  304.56,\n",
       "  304.58,\n",
       "  392,\n",
       "  304.633,\n",
       "  126),\n",
       " (Timestamp('2020-06-01 08:00:00'),\n",
       "  304.89,\n",
       "  305.5,\n",
       "  303.83,\n",
       "  304.78,\n",
       "  2563,\n",
       "  304.602,\n",
       "  564),\n",
       " (Timestamp('2020-06-01 08:10:00'),\n",
       "  304.78,\n",
       "  304.85,\n",
       "  304.46,\n",
       "  304.47,\n",
       "  600,\n",
       "  304.637,\n",
       "  182),\n",
       " (Timestamp('2020-06-01 08:20:00'),\n",
       "  304.5,\n",
       "  304.53,\n",
       "  304.21,\n",
       "  304.21,\n",
       "  1014,\n",
       "  304.369,\n",
       "  306),\n",
       " (Timestamp('2020-06-01 08:30:00'),\n",
       "  304.21,\n",
       "  304.78,\n",
       "  303.56,\n",
       "  303.71,\n",
       "  9983,\n",
       "  304.184,\n",
       "  2481),\n",
       " (Timestamp('2020-06-01 08:40:00'),\n",
       "  303.66,\n",
       "  304.0,\n",
       "  303.63,\n",
       "  303.88,\n",
       "  2436,\n",
       "  303.799,\n",
       "  739),\n",
       " (Timestamp('2020-06-01 08:50:00'),\n",
       "  303.9,\n",
       "  303.97,\n",
       "  303.7,\n",
       "  303.84,\n",
       "  1319,\n",
       "  303.842,\n",
       "  398),\n",
       " (Timestamp('2020-06-01 09:00:00'),\n",
       "  303.81,\n",
       "  303.81,\n",
       "  303.42,\n",
       "  303.51,\n",
       "  1353,\n",
       "  303.609,\n",
       "  343),\n",
       " (Timestamp('2020-06-01 09:10:00'),\n",
       "  303.51,\n",
       "  303.69,\n",
       "  303.26,\n",
       "  303.4,\n",
       "  738,\n",
       "  303.505,\n",
       "  258),\n",
       " (Timestamp('2020-06-01 09:20:00'),\n",
       "  303.4,\n",
       "  303.78,\n",
       "  303.36,\n",
       "  303.6,\n",
       "  1590,\n",
       "  303.572,\n",
       "  426),\n",
       " (Timestamp('2020-06-01 09:30:00'),\n",
       "  303.61,\n",
       "  304.06,\n",
       "  303.06,\n",
       "  303.32,\n",
       "  27142,\n",
       "  303.487,\n",
       "  12754),\n",
       " (Timestamp('2020-06-01 09:40:00'),\n",
       "  303.34,\n",
       "  304.69,\n",
       "  303.29,\n",
       "  304.56,\n",
       "  27899,\n",
       "  304.219,\n",
       "  10733),\n",
       " (Timestamp('2020-06-01 09:50:00'),\n",
       "  304.54,\n",
       "  304.71,\n",
       "  304.13,\n",
       "  304.21,\n",
       "  14638,\n",
       "  304.361,\n",
       "  7435),\n",
       " (Timestamp('2020-06-01 10:00:00'),\n",
       "  304.21,\n",
       "  304.94,\n",
       "  303.95,\n",
       "  304.66,\n",
       "  17172,\n",
       "  304.501,\n",
       "  7993),\n",
       " (Timestamp('2020-06-01 10:10:00'),\n",
       "  304.69,\n",
       "  305.09,\n",
       "  304.49,\n",
       "  304.82,\n",
       "  15136,\n",
       "  304.748,\n",
       "  7920),\n",
       " (Timestamp('2020-06-01 10:20:00'),\n",
       "  304.84,\n",
       "  305.07,\n",
       "  304.7,\n",
       "  304.98,\n",
       "  12054,\n",
       "  304.925,\n",
       "  6390),\n",
       " (Timestamp('2020-06-01 10:30:00'),\n",
       "  305.0,\n",
       "  305.25,\n",
       "  304.92,\n",
       "  305.22,\n",
       "  7694,\n",
       "  305.109,\n",
       "  4049),\n",
       " (Timestamp('2020-06-01 10:40:00'),\n",
       "  305.22,\n",
       "  305.29,\n",
       "  304.86,\n",
       "  304.92,\n",
       "  8168,\n",
       "  305.104,\n",
       "  4074),\n",
       " (Timestamp('2020-06-01 10:50:00'),\n",
       "  304.92,\n",
       "  305.17,\n",
       "  304.66,\n",
       "  305.07,\n",
       "  7862,\n",
       "  304.961,\n",
       "  4277),\n",
       " (Timestamp('2020-06-01 11:00:00'),\n",
       "  305.06,\n",
       "  305.14,\n",
       "  304.41,\n",
       "  304.56,\n",
       "  15242,\n",
       "  304.658,\n",
       "  4545),\n",
       " (Timestamp('2020-06-01 11:10:00'),\n",
       "  304.56,\n",
       "  304.86,\n",
       "  304.36,\n",
       "  304.6,\n",
       "  5579,\n",
       "  304.598,\n",
       "  3177),\n",
       " (Timestamp('2020-06-01 11:20:00'),\n",
       "  304.61,\n",
       "  304.77,\n",
       "  304.25,\n",
       "  304.52,\n",
       "  7628,\n",
       "  304.494,\n",
       "  4275),\n",
       " (Timestamp('2020-06-01 11:30:00'),\n",
       "  304.51,\n",
       "  304.93,\n",
       "  304.45,\n",
       "  304.85,\n",
       "  6335,\n",
       "  304.672,\n",
       "  3253),\n",
       " (Timestamp('2020-06-01 11:40:00'),\n",
       "  304.83,\n",
       "  305.08,\n",
       "  304.78,\n",
       "  305.03,\n",
       "  5451,\n",
       "  304.947,\n",
       "  2823),\n",
       " (Timestamp('2020-06-01 11:50:00'),\n",
       "  305.04,\n",
       "  305.07,\n",
       "  304.89,\n",
       "  305.0,\n",
       "  6066,\n",
       "  304.984,\n",
       "  2971),\n",
       " (Timestamp('2020-06-01 12:00:00'),\n",
       "  304.99,\n",
       "  305.22,\n",
       "  304.7,\n",
       "  305.19,\n",
       "  6192,\n",
       "  305.023,\n",
       "  3015),\n",
       " (Timestamp('2020-06-01 12:10:00'),\n",
       "  305.19,\n",
       "  305.36,\n",
       "  305.11,\n",
       "  305.34,\n",
       "  5153,\n",
       "  305.215,\n",
       "  2565),\n",
       " (Timestamp('2020-06-01 12:20:00'),\n",
       "  305.33,\n",
       "  305.43,\n",
       "  305.21,\n",
       "  305.3,\n",
       "  6040,\n",
       "  305.317,\n",
       "  2725),\n",
       " (Timestamp('2020-06-01 12:30:00'),\n",
       "  305.29,\n",
       "  305.49,\n",
       "  305.29,\n",
       "  305.39,\n",
       "  4051,\n",
       "  305.415,\n",
       "  2049),\n",
       " (Timestamp('2020-06-01 12:40:00'),\n",
       "  305.4,\n",
       "  305.63,\n",
       "  305.33,\n",
       "  305.61,\n",
       "  5295,\n",
       "  305.476,\n",
       "  2617),\n",
       " (Timestamp('2020-06-01 12:50:00'),\n",
       "  305.6,\n",
       "  305.67,\n",
       "  305.4,\n",
       "  305.5,\n",
       "  5809,\n",
       "  305.529,\n",
       "  2814),\n",
       " (Timestamp('2020-06-01 13:00:00'),\n",
       "  305.5,\n",
       "  305.89,\n",
       "  305.47,\n",
       "  305.78,\n",
       "  5347,\n",
       "  305.737,\n",
       "  2629),\n",
       " (Timestamp('2020-06-01 13:10:00'),\n",
       "  305.79,\n",
       "  305.95,\n",
       "  305.67,\n",
       "  305.82,\n",
       "  6260,\n",
       "  305.82,\n",
       "  2765),\n",
       " (Timestamp('2020-06-01 13:20:00'),\n",
       "  305.81,\n",
       "  306.11,\n",
       "  305.78,\n",
       "  306.0,\n",
       "  6286,\n",
       "  305.947,\n",
       "  3180),\n",
       " (Timestamp('2020-06-01 13:30:00'),\n",
       "  305.99,\n",
       "  306.2,\n",
       "  305.88,\n",
       "  306.14,\n",
       "  6670,\n",
       "  306.024,\n",
       "  3161),\n",
       " (Timestamp('2020-06-01 13:40:00'),\n",
       "  306.14,\n",
       "  306.21,\n",
       "  306.01,\n",
       "  306.03,\n",
       "  5614,\n",
       "  306.13,\n",
       "  2705),\n",
       " (Timestamp('2020-06-01 13:50:00'),\n",
       "  306.04,\n",
       "  306.1,\n",
       "  305.76,\n",
       "  305.91,\n",
       "  5763,\n",
       "  305.912,\n",
       "  2949),\n",
       " (Timestamp('2020-06-01 14:00:00'),\n",
       "  305.91,\n",
       "  305.99,\n",
       "  305.77,\n",
       "  305.93,\n",
       "  4738,\n",
       "  305.899,\n",
       "  2910),\n",
       " (Timestamp('2020-06-01 14:10:00'),\n",
       "  305.93,\n",
       "  305.97,\n",
       "  305.65,\n",
       "  305.79,\n",
       "  5257,\n",
       "  305.806,\n",
       "  2682),\n",
       " (Timestamp('2020-06-01 14:20:00'),\n",
       "  305.78,\n",
       "  305.81,\n",
       "  305.55,\n",
       "  305.56,\n",
       "  5102,\n",
       "  305.643,\n",
       "  2842),\n",
       " (Timestamp('2020-06-01 14:30:00'),\n",
       "  305.55,\n",
       "  305.9,\n",
       "  305.47,\n",
       "  305.83,\n",
       "  7800,\n",
       "  305.7,\n",
       "  3697),\n",
       " (Timestamp('2020-06-01 14:40:00'),\n",
       "  305.82,\n",
       "  305.95,\n",
       "  305.73,\n",
       "  305.92,\n",
       "  7227,\n",
       "  305.846,\n",
       "  4018),\n",
       " (Timestamp('2020-06-01 14:50:00'),\n",
       "  305.92,\n",
       "  306.04,\n",
       "  305.88,\n",
       "  305.98,\n",
       "  7288,\n",
       "  305.958,\n",
       "  3826),\n",
       " (Timestamp('2020-06-01 15:00:00'),\n",
       "  305.99,\n",
       "  306.15,\n",
       "  305.71,\n",
       "  305.94,\n",
       "  9588,\n",
       "  305.974,\n",
       "  5120),\n",
       " (Timestamp('2020-06-01 15:10:00'),\n",
       "  305.94,\n",
       "  305.98,\n",
       "  305.41,\n",
       "  305.73,\n",
       "  13804,\n",
       "  305.618,\n",
       "  5571),\n",
       " (Timestamp('2020-06-01 15:20:00'),\n",
       "  305.73,\n",
       "  305.94,\n",
       "  305.66,\n",
       "  305.84,\n",
       "  5937,\n",
       "  305.822,\n",
       "  3273),\n",
       " (Timestamp('2020-06-01 15:30:00'),\n",
       "  305.84,\n",
       "  306.02,\n",
       "  305.44,\n",
       "  305.49,\n",
       "  13055,\n",
       "  305.719,\n",
       "  6445),\n",
       " (Timestamp('2020-06-01 15:40:00'),\n",
       "  305.48,\n",
       "  305.69,\n",
       "  305.3,\n",
       "  305.44,\n",
       "  17276,\n",
       "  305.474,\n",
       "  7750),\n",
       " (Timestamp('2020-06-01 15:50:00'),\n",
       "  305.45,\n",
       "  305.9,\n",
       "  305.25,\n",
       "  305.58,\n",
       "  36539,\n",
       "  305.656,\n",
       "  16049),\n",
       " (Timestamp('2020-06-01 16:00:00'),\n",
       "  305.58,\n",
       "  305.62,\n",
       "  305.11,\n",
       "  305.54,\n",
       "  16601,\n",
       "  305.477,\n",
       "  2580),\n",
       " (Timestamp('2020-06-01 16:10:00'),\n",
       "  305.55,\n",
       "  305.75,\n",
       "  305.54,\n",
       "  305.7,\n",
       "  3408,\n",
       "  305.649,\n",
       "  740),\n",
       " (Timestamp('2020-06-01 16:20:00'),\n",
       "  305.7,\n",
       "  305.75,\n",
       "  305.55,\n",
       "  305.74,\n",
       "  1151,\n",
       "  305.633,\n",
       "  155),\n",
       " (Timestamp('2020-06-01 16:30:00'),\n",
       "  305.72,\n",
       "  305.85,\n",
       "  305.57,\n",
       "  305.85,\n",
       "  573,\n",
       "  305.694,\n",
       "  132),\n",
       " (Timestamp('2020-06-01 16:40:00'),\n",
       "  305.82,\n",
       "  305.86,\n",
       "  305.55,\n",
       "  305.73,\n",
       "  814,\n",
       "  305.718,\n",
       "  243),\n",
       " (Timestamp('2020-06-01 16:50:00'),\n",
       "  305.73,\n",
       "  305.77,\n",
       "  305.71,\n",
       "  305.75,\n",
       "  490,\n",
       "  305.736,\n",
       "  117),\n",
       " (Timestamp('2020-06-01 17:00:00'),\n",
       "  305.68,\n",
       "  305.75,\n",
       "  305.56,\n",
       "  305.56,\n",
       "  372,\n",
       "  305.638,\n",
       "  52),\n",
       " (Timestamp('2020-06-01 17:10:00'),\n",
       "  305.63,\n",
       "  305.7,\n",
       "  305.55,\n",
       "  305.62,\n",
       "  116,\n",
       "  305.599,\n",
       "  31),\n",
       " (Timestamp('2020-06-01 17:20:00'),\n",
       "  305.62,\n",
       "  305.69,\n",
       "  305.61,\n",
       "  305.62,\n",
       "  69,\n",
       "  305.655,\n",
       "  16),\n",
       " (Timestamp('2020-06-01 17:30:00'),\n",
       "  305.63,\n",
       "  305.67,\n",
       "  305.58,\n",
       "  305.6,\n",
       "  50,\n",
       "  305.614,\n",
       "  20),\n",
       " (Timestamp('2020-06-01 17:40:00'),\n",
       "  305.6,\n",
       "  305.66,\n",
       "  305.55,\n",
       "  305.66,\n",
       "  18,\n",
       "  305.621,\n",
       "  7),\n",
       " (Timestamp('2020-06-01 17:50:00'),\n",
       "  305.63,\n",
       "  305.63,\n",
       "  305.54,\n",
       "  305.54,\n",
       "  275,\n",
       "  305.567,\n",
       "  70),\n",
       " (Timestamp('2020-06-01 18:00:00'),\n",
       "  305.54,\n",
       "  305.72,\n",
       "  305.45,\n",
       "  305.45,\n",
       "  555,\n",
       "  305.596,\n",
       "  136),\n",
       " (Timestamp('2020-06-01 18:10:00'),\n",
       "  305.44,\n",
       "  305.53,\n",
       "  305.43,\n",
       "  305.5,\n",
       "  189,\n",
       "  305.458,\n",
       "  45),\n",
       " (Timestamp('2020-06-01 18:20:00'),\n",
       "  305.47,\n",
       "  305.77,\n",
       "  305.46,\n",
       "  305.74,\n",
       "  400,\n",
       "  305.675,\n",
       "  80),\n",
       " (Timestamp('2020-06-01 18:30:00'),\n",
       "  305.75,\n",
       "  305.76,\n",
       "  305.38,\n",
       "  305.42,\n",
       "  648,\n",
       "  305.467,\n",
       "  142),\n",
       " (Timestamp('2020-06-01 18:40:00'),\n",
       "  305.48,\n",
       "  305.48,\n",
       "  304.58,\n",
       "  304.7,\n",
       "  2386,\n",
       "  305.148,\n",
       "  487),\n",
       " (Timestamp('2020-06-01 18:50:00'),\n",
       "  304.73,\n",
       "  305.02,\n",
       "  304.56,\n",
       "  304.93,\n",
       "  849,\n",
       "  304.785,\n",
       "  238),\n",
       " (Timestamp('2020-06-01 19:00:00'),\n",
       "  304.8,\n",
       "  304.87,\n",
       "  304.17,\n",
       "  304.25,\n",
       "  603,\n",
       "  304.48,\n",
       "  196),\n",
       " (Timestamp('2020-06-01 19:10:00'),\n",
       "  304.22,\n",
       "  304.38,\n",
       "  303.88,\n",
       "  304.25,\n",
       "  2286,\n",
       "  304.142,\n",
       "  522),\n",
       " (Timestamp('2020-06-01 19:20:00'),\n",
       "  304.25,\n",
       "  304.5,\n",
       "  304.02,\n",
       "  304.23,\n",
       "  1115,\n",
       "  304.269,\n",
       "  215),\n",
       " (Timestamp('2020-06-01 19:30:00'),\n",
       "  304.33,\n",
       "  304.64,\n",
       "  304.27,\n",
       "  304.57,\n",
       "  293,\n",
       "  304.493,\n",
       "  82),\n",
       " (Timestamp('2020-06-01 19:40:00'),\n",
       "  304.49,\n",
       "  304.53,\n",
       "  304.18,\n",
       "  304.24,\n",
       "  487,\n",
       "  304.298,\n",
       "  112),\n",
       " (Timestamp('2020-06-01 19:50:00'),\n",
       "  304.26,\n",
       "  304.45,\n",
       "  304.0,\n",
       "  304.19,\n",
       "  749,\n",
       "  304.198,\n",
       "  197),\n",
       " (Timestamp('2020-06-02 04:00:00'),\n",
       "  305.53,\n",
       "  306.09,\n",
       "  305.52,\n",
       "  306.03,\n",
       "  182,\n",
       "  305.735,\n",
       "  43),\n",
       " (Timestamp('2020-06-02 04:10:00'),\n",
       "  306.15,\n",
       "  306.52,\n",
       "  306.15,\n",
       "  306.52,\n",
       "  92,\n",
       "  306.402,\n",
       "  31),\n",
       " (Timestamp('2020-06-02 04:20:00'),\n",
       "  306.5,\n",
       "  306.58,\n",
       "  306.47,\n",
       "  306.58,\n",
       "  12,\n",
       "  306.528,\n",
       "  9),\n",
       " (Timestamp('2020-06-02 04:30:00'),\n",
       "  306.56,\n",
       "  306.94,\n",
       "  306.56,\n",
       "  306.93,\n",
       "  97,\n",
       "  306.765,\n",
       "  36),\n",
       " (Timestamp('2020-06-02 04:40:00'),\n",
       "  306.81,\n",
       "  307.23,\n",
       "  306.81,\n",
       "  307.08,\n",
       "  134,\n",
       "  307.057,\n",
       "  46),\n",
       " (Timestamp('2020-06-02 04:50:00'),\n",
       "  307.1,\n",
       "  307.16,\n",
       "  306.91,\n",
       "  306.91,\n",
       "  86,\n",
       "  307.001,\n",
       "  28),\n",
       " (Timestamp('2020-06-02 05:00:00'),\n",
       "  306.91,\n",
       "  307.16,\n",
       "  306.91,\n",
       "  307.12,\n",
       "  43,\n",
       "  307.073,\n",
       "  14),\n",
       " (Timestamp('2020-06-02 05:10:00'),\n",
       "  307.03,\n",
       "  307.03,\n",
       "  306.91,\n",
       "  306.91,\n",
       "  4,\n",
       "  306.97,\n",
       "  4),\n",
       " (Timestamp('2020-06-02 05:20:00'),\n",
       "  306.91,\n",
       "  307.21,\n",
       "  306.81,\n",
       "  307.21,\n",
       "  146,\n",
       "  306.956,\n",
       "  46),\n",
       " (Timestamp('2020-06-02 05:30:00'),\n",
       "  307.21,\n",
       "  307.64,\n",
       "  307.21,\n",
       "  307.58,\n",
       "  251,\n",
       "  307.382,\n",
       "  64),\n",
       " (Timestamp('2020-06-02 05:40:00'),\n",
       "  307.65,\n",
       "  307.88,\n",
       "  307.65,\n",
       "  307.73,\n",
       "  124,\n",
       "  307.777,\n",
       "  40),\n",
       " (Timestamp('2020-06-02 05:50:00'),\n",
       "  307.68,\n",
       "  307.69,\n",
       "  307.63,\n",
       "  307.63,\n",
       "  68,\n",
       "  307.648,\n",
       "  27),\n",
       " (Timestamp('2020-06-02 06:00:00'),\n",
       "  307.57,\n",
       "  307.68,\n",
       "  307.56,\n",
       "  307.68,\n",
       "  67,\n",
       "  307.629,\n",
       "  22),\n",
       " (Timestamp('2020-06-02 06:10:00'),\n",
       "  307.65,\n",
       "  307.7,\n",
       "  307.49,\n",
       "  307.49,\n",
       "  36,\n",
       "  307.596,\n",
       "  15),\n",
       " (Timestamp('2020-06-02 06:20:00'),\n",
       "  307.55,\n",
       "  307.62,\n",
       "  307.43,\n",
       "  307.6,\n",
       "  84,\n",
       "  307.528,\n",
       "  24),\n",
       " (Timestamp('2020-06-02 06:30:00'),\n",
       "  307.56,\n",
       "  307.56,\n",
       "  307.43,\n",
       "  307.53,\n",
       "  37,\n",
       "  307.486,\n",
       "  17),\n",
       " (Timestamp('2020-06-02 06:40:00'),\n",
       "  307.5,\n",
       "  307.75,\n",
       "  307.5,\n",
       "  307.55,\n",
       "  294,\n",
       "  307.636,\n",
       "  74),\n",
       " (Timestamp('2020-06-02 06:50:00'),\n",
       "  307.55,\n",
       "  307.55,\n",
       "  307.36,\n",
       "  307.41,\n",
       "  217,\n",
       "  307.421,\n",
       "  55),\n",
       " (Timestamp('2020-06-02 07:00:00'),\n",
       "  307.37,\n",
       "  307.42,\n",
       "  307.2,\n",
       "  307.31,\n",
       "  576,\n",
       "  307.297,\n",
       "  151),\n",
       " (Timestamp('2020-06-02 07:10:00'),\n",
       "  307.33,\n",
       "  307.33,\n",
       "  307.25,\n",
       "  307.25,\n",
       "  264,\n",
       "  307.27,\n",
       "  54),\n",
       " (Timestamp('2020-06-02 07:20:00'),\n",
       "  307.22,\n",
       "  307.25,\n",
       "  306.98,\n",
       "  307.13,\n",
       "  216,\n",
       "  307.131,\n",
       "  68),\n",
       " (Timestamp('2020-06-02 07:30:00'),\n",
       "  307.1,\n",
       "  307.2,\n",
       "  307.0,\n",
       "  307.12,\n",
       "  123,\n",
       "  307.129,\n",
       "  34),\n",
       " (Timestamp('2020-06-02 07:40:00'),\n",
       "  307.13,\n",
       "  307.25,\n",
       "  307.13,\n",
       "  307.2,\n",
       "  87,\n",
       "  307.193,\n",
       "  26),\n",
       " (Timestamp('2020-06-02 07:50:00'),\n",
       "  307.2,\n",
       "  307.2,\n",
       "  306.8,\n",
       "  306.97,\n",
       "  437,\n",
       "  306.953,\n",
       "  95),\n",
       " (Timestamp('2020-06-02 08:00:00'),\n",
       "  307.25,\n",
       "  307.4,\n",
       "  304.02,\n",
       "  306.9,\n",
       "  1701,\n",
       "  306.789,\n",
       "  298),\n",
       " (Timestamp('2020-06-02 08:10:00'),\n",
       "  306.88,\n",
       "  307.16,\n",
       "  306.8,\n",
       "  307.13,\n",
       "  775,\n",
       "  307.035,\n",
       "  165),\n",
       " (Timestamp('2020-06-02 08:20:00'),\n",
       "  307.05,\n",
       "  307.13,\n",
       "  307.0,\n",
       "  307.05,\n",
       "  409,\n",
       "  307.051,\n",
       "  74),\n",
       " (Timestamp('2020-06-02 08:30:00'),\n",
       "  307.03,\n",
       "  307.22,\n",
       "  307.0,\n",
       "  307.2,\n",
       "  654,\n",
       "  307.09,\n",
       "  161),\n",
       " (Timestamp('2020-06-02 08:40:00'),\n",
       "  307.2,\n",
       "  307.2,\n",
       "  306.5,\n",
       "  306.64,\n",
       "  1324,\n",
       "  306.852,\n",
       "  359),\n",
       " (Timestamp('2020-06-02 08:50:00'),\n",
       "  306.65,\n",
       "  306.77,\n",
       "  306.54,\n",
       "  306.7,\n",
       "  713,\n",
       "  306.691,\n",
       "  202),\n",
       " (Timestamp('2020-06-02 09:00:00'),\n",
       "  306.74,\n",
       "  306.78,\n",
       "  306.32,\n",
       "  306.42,\n",
       "  1385,\n",
       "  306.431,\n",
       "  345),\n",
       " (Timestamp('2020-06-02 09:10:00'),\n",
       "  306.42,\n",
       "  306.65,\n",
       "  306.4,\n",
       "  306.65,\n",
       "  1160,\n",
       "  306.535,\n",
       "  292),\n",
       " (Timestamp('2020-06-02 09:20:00'),\n",
       "  306.66,\n",
       "  306.66,\n",
       "  306.44,\n",
       "  306.55,\n",
       "  2082,\n",
       "  306.562,\n",
       "  633),\n",
       " (Timestamp('2020-06-02 09:30:00'),\n",
       "  306.55,\n",
       "  306.6,\n",
       "  305.52,\n",
       "  305.98,\n",
       "  28448,\n",
       "  306.192,\n",
       "  12917),\n",
       " (Timestamp('2020-06-02 09:40:00'),\n",
       "  305.99,\n",
       "  306.12,\n",
       "  305.55,\n",
       "  305.84,\n",
       "  17619,\n",
       "  305.837,\n",
       "  8672),\n",
       " (Timestamp('2020-06-02 09:50:00'),\n",
       "  305.85,\n",
       "  306.29,\n",
       "  305.75,\n",
       "  306.27,\n",
       "  12331,\n",
       "  306.094,\n",
       "  6025),\n",
       " (Timestamp('2020-06-02 10:00:00'),\n",
       "  306.28,\n",
       "  306.64,\n",
       "  306.28,\n",
       "  306.51,\n",
       "  14658,\n",
       "  306.487,\n",
       "  7849),\n",
       " (Timestamp('2020-06-02 10:10:00'),\n",
       "  306.52,\n",
       "  306.61,\n",
       "  306.29,\n",
       "  306.61,\n",
       "  11200,\n",
       "  306.449,\n",
       "  5797),\n",
       " (Timestamp('2020-06-02 10:20:00'),\n",
       "  306.61,\n",
       "  307.18,\n",
       "  306.6,\n",
       "  307.16,\n",
       "  15988,\n",
       "  306.951,\n",
       "  7606),\n",
       " (Timestamp('2020-06-02 10:30:00'),\n",
       "  307.17,\n",
       "  307.26,\n",
       "  306.86,\n",
       "  307.04,\n",
       "  13271,\n",
       "  307.099,\n",
       "  6874),\n",
       " (Timestamp('2020-06-02 10:40:00'),\n",
       "  307.02,\n",
       "  307.14,\n",
       "  306.03,\n",
       "  306.03,\n",
       "  15426,\n",
       "  306.586,\n",
       "  7916),\n",
       " (Timestamp('2020-06-02 10:50:00'),\n",
       "  306.05,\n",
       "  306.48,\n",
       "  305.83,\n",
       "  306.39,\n",
       "  17721,\n",
       "  306.143,\n",
       "  8309),\n",
       " (Timestamp('2020-06-02 11:00:00'),\n",
       "  306.37,\n",
       "  306.41,\n",
       "  305.2,\n",
       "  305.31,\n",
       "  22369,\n",
       "  305.712,\n",
       "  10758),\n",
       " (Timestamp('2020-06-02 11:10:00'),\n",
       "  305.34,\n",
       "  305.79,\n",
       "  305.1,\n",
       "  305.78,\n",
       "  13902,\n",
       "  305.455,\n",
       "  7475),\n",
       " (Timestamp('2020-06-02 11:20:00'),\n",
       "  305.8,\n",
       "  306.07,\n",
       "  305.7,\n",
       "  305.75,\n",
       "  11062,\n",
       "  305.88,\n",
       "  5424),\n",
       " (Timestamp('2020-06-02 11:30:00'),\n",
       "  305.75,\n",
       "  306.21,\n",
       "  305.57,\n",
       "  305.98,\n",
       "  10850,\n",
       "  305.95,\n",
       "  5700),\n",
       " (Timestamp('2020-06-02 11:40:00'),\n",
       "  306.01,\n",
       "  306.34,\n",
       "  305.87,\n",
       "  306.14,\n",
       "  8734,\n",
       "  306.168,\n",
       "  4647),\n",
       " (Timestamp('2020-06-02 11:50:00'),\n",
       "  306.13,\n",
       "  306.15,\n",
       "  305.65,\n",
       "  305.86,\n",
       "  8336,\n",
       "  305.918,\n",
       "  4191),\n",
       " (Timestamp('2020-06-02 12:00:00'),\n",
       "  305.84,\n",
       "  306.15,\n",
       "  305.76,\n",
       "  306.13,\n",
       "  5584,\n",
       "  306.033,\n",
       "  2951),\n",
       " (Timestamp('2020-06-02 12:10:00'),\n",
       "  306.14,\n",
       "  306.33,\n",
       "  306.06,\n",
       "  306.28,\n",
       "  8311,\n",
       "  306.227,\n",
       "  4052),\n",
       " (Timestamp('2020-06-02 12:20:00'),\n",
       "  306.27,\n",
       "  306.47,\n",
       "  306.18,\n",
       "  306.46,\n",
       "  7084,\n",
       "  306.324,\n",
       "  3933),\n",
       " (Timestamp('2020-06-02 12:30:00'),\n",
       "  306.46,\n",
       "  306.47,\n",
       "  306.24,\n",
       "  306.35,\n",
       "  4849,\n",
       "  306.363,\n",
       "  2415),\n",
       " (Timestamp('2020-06-02 12:40:00'),\n",
       "  306.35,\n",
       "  306.55,\n",
       "  306.24,\n",
       "  306.47,\n",
       "  5336,\n",
       "  306.468,\n",
       "  2610),\n",
       " (Timestamp('2020-06-02 12:50:00'),\n",
       "  306.47,\n",
       "  306.54,\n",
       "  306.34,\n",
       "  306.41,\n",
       "  4076,\n",
       "  306.421,\n",
       "  2088),\n",
       " (Timestamp('2020-06-02 13:00:00'),\n",
       "  306.42,\n",
       "  306.84,\n",
       "  306.37,\n",
       "  306.83,\n",
       "  7786,\n",
       "  306.671,\n",
       "  3674),\n",
       " (Timestamp('2020-06-02 13:10:00'),\n",
       "  306.82,\n",
       "  306.97,\n",
       "  306.74,\n",
       "  306.93,\n",
       "  8761,\n",
       "  306.867,\n",
       "  3746),\n",
       " (Timestamp('2020-06-02 13:20:00'),\n",
       "  306.93,\n",
       "  306.95,\n",
       "  306.76,\n",
       "  306.89,\n",
       "  7037,\n",
       "  306.877,\n",
       "  3368),\n",
       " (Timestamp('2020-06-02 13:30:00'),\n",
       "  306.89,\n",
       "  307.03,\n",
       "  306.73,\n",
       "  307.0,\n",
       "  5876,\n",
       "  306.912,\n",
       "  2923),\n",
       " (Timestamp('2020-06-02 13:40:00'),\n",
       "  307.0,\n",
       "  307.14,\n",
       "  306.91,\n",
       "  307.02,\n",
       "  10773,\n",
       "  307.058,\n",
       "  4100),\n",
       " (Timestamp('2020-06-02 13:50:00'),\n",
       "  307.02,\n",
       "  307.1,\n",
       "  306.94,\n",
       "  307.06,\n",
       "  5518,\n",
       "  307.01,\n",
       "  2994),\n",
       " (Timestamp('2020-06-02 14:00:00'),\n",
       "  307.06,\n",
       "  307.19,\n",
       "  306.6,\n",
       "  306.75,\n",
       "  11348,\n",
       "  306.916,\n",
       "  4721),\n",
       " (Timestamp('2020-06-02 14:10:00'),\n",
       "  306.74,\n",
       "  307.12,\n",
       "  306.62,\n",
       "  307.1,\n",
       "  7404,\n",
       "  306.83,\n",
       "  3652),\n",
       " (Timestamp('2020-06-02 14:20:00'),\n",
       "  307.1,\n",
       "  307.1,\n",
       "  306.58,\n",
       "  306.72,\n",
       "  9042,\n",
       "  306.874,\n",
       "  3269),\n",
       " (Timestamp('2020-06-02 14:30:00'),\n",
       "  306.7,\n",
       "  306.77,\n",
       "  306.15,\n",
       "  306.22,\n",
       "  13146,\n",
       "  306.339,\n",
       "  5745),\n",
       " (Timestamp('2020-06-02 14:40:00'),\n",
       "  306.23,\n",
       "  306.77,\n",
       "  306.22,\n",
       "  306.76,\n",
       "  6683,\n",
       "  306.524,\n",
       "  3207),\n",
       " (Timestamp('2020-06-02 14:50:00'),\n",
       "  306.76,\n",
       "  306.94,\n",
       "  306.67,\n",
       "  306.79,\n",
       "  7109,\n",
       "  306.813,\n",
       "  3272),\n",
       " (Timestamp('2020-06-02 15:00:00'),\n",
       "  306.79,\n",
       "  306.89,\n",
       "  306.32,\n",
       "  306.39,\n",
       "  11472,\n",
       "  306.599,\n",
       "  5316),\n",
       " (Timestamp('2020-06-02 15:10:00'),\n",
       "  306.39,\n",
       "  306.62,\n",
       "  306.24,\n",
       "  306.51,\n",
       "  10000,\n",
       "  306.429,\n",
       "  4442),\n",
       " (Timestamp('2020-06-02 15:20:00'),\n",
       "  306.5,\n",
       "  306.7,\n",
       "  306.03,\n",
       "  306.43,\n",
       "  18727,\n",
       "  306.297,\n",
       "  9465),\n",
       " (Timestamp('2020-06-02 15:30:00'),\n",
       "  306.44,\n",
       "  306.66,\n",
       "  306.19,\n",
       "  306.63,\n",
       "  15446,\n",
       "  306.421,\n",
       "  7949),\n",
       " (Timestamp('2020-06-02 15:40:00'),\n",
       "  306.63,\n",
       "  307.1,\n",
       "  306.5,\n",
       "  307.05,\n",
       "  29110,\n",
       "  306.72,\n",
       "  11987),\n",
       " (Timestamp('2020-06-02 15:50:00'),\n",
       "  307.05,\n",
       "  308.13,\n",
       "  307.05,\n",
       "  308.12,\n",
       "  95170,\n",
       "  307.672,\n",
       "  34576),\n",
       " (Timestamp('2020-06-02 16:00:00'),\n",
       "  308.13,\n",
       "  308.14,\n",
       "  307.72,\n",
       "  307.76,\n",
       "  25451,\n",
       "  308.012,\n",
       "  3896),\n",
       " (Timestamp('2020-06-02 16:10:00'),\n",
       "  307.76,\n",
       "  308.08,\n",
       "  307.76,\n",
       "  307.96,\n",
       "  2994,\n",
       "  307.938,\n",
       "  926),\n",
       " (Timestamp('2020-06-02 16:20:00'),\n",
       "  307.96,\n",
       "  308.07,\n",
       "  307.95,\n",
       "  308.05,\n",
       "  1349,\n",
       "  308.02,\n",
       "  307),\n",
       " (Timestamp('2020-06-02 16:30:00'),\n",
       "  308.03,\n",
       "  308.18,\n",
       "  307.93,\n",
       "  308.1,\n",
       "  1435,\n",
       "  308.06,\n",
       "  367),\n",
       " (Timestamp('2020-06-02 16:40:00'),\n",
       "  308.15,\n",
       "  308.24,\n",
       "  308.12,\n",
       "  308.2,\n",
       "  480,\n",
       "  308.169,\n",
       "  124),\n",
       " (Timestamp('2020-06-02 16:50:00'),\n",
       "  308.2,\n",
       "  308.21,\n",
       "  308.08,\n",
       "  308.1,\n",
       "  1031,\n",
       "  308.116,\n",
       "  200),\n",
       " (Timestamp('2020-06-02 17:00:00'),\n",
       "  308.12,\n",
       "  308.13,\n",
       "  308.06,\n",
       "  308.13,\n",
       "  347,\n",
       "  308.119,\n",
       "  51),\n",
       " (Timestamp('2020-06-02 17:10:00'),\n",
       "  308.15,\n",
       "  308.21,\n",
       "  308.14,\n",
       "  308.2,\n",
       "  433,\n",
       "  308.198,\n",
       "  93),\n",
       " (Timestamp('2020-06-02 17:20:00'),\n",
       "  308.18,\n",
       "  308.18,\n",
       "  308.12,\n",
       "  308.17,\n",
       "  63,\n",
       "  308.138,\n",
       "  35),\n",
       " (Timestamp('2020-06-02 17:30:00'),\n",
       "  308.12,\n",
       "  308.2,\n",
       "  308.05,\n",
       "  308.05,\n",
       "  265,\n",
       "  308.125,\n",
       "  58),\n",
       " (Timestamp('2020-06-02 17:40:00'),\n",
       "  308.06,\n",
       "  308.15,\n",
       "  308.05,\n",
       "  308.14,\n",
       "  83,\n",
       "  308.112,\n",
       "  44),\n",
       " (Timestamp('2020-06-02 17:50:00'),\n",
       "  308.08,\n",
       "  308.2,\n",
       "  308.07,\n",
       "  308.14,\n",
       "  185,\n",
       "  308.144,\n",
       "  78),\n",
       " (Timestamp('2020-06-02 18:00:00'),\n",
       "  308.16,\n",
       "  308.32,\n",
       "  307.85,\n",
       "  307.93,\n",
       "  1027,\n",
       "  308.025,\n",
       "  251),\n",
       " (Timestamp('2020-06-02 18:10:00'),\n",
       "  307.89,\n",
       "  307.96,\n",
       "  307.79,\n",
       "  307.88,\n",
       "  1210,\n",
       "  307.877,\n",
       "  170),\n",
       " (Timestamp('2020-06-02 18:20:00'),\n",
       "  307.85,\n",
       "  308.0,\n",
       "  307.8,\n",
       "  308.0,\n",
       "  390,\n",
       "  307.864,\n",
       "  78),\n",
       " (Timestamp('2020-06-02 18:30:00'),\n",
       "  307.96,\n",
       "  308.04,\n",
       "  307.93,\n",
       "  307.94,\n",
       "  163,\n",
       "  307.958,\n",
       "  43),\n",
       " (Timestamp('2020-06-02 18:40:00'),\n",
       "  307.9,\n",
       "  307.98,\n",
       "  307.86,\n",
       "  307.98,\n",
       "  48,\n",
       "  307.927,\n",
       "  18),\n",
       " (Timestamp('2020-06-02 18:50:00'),\n",
       "  308.0,\n",
       "  308.03,\n",
       "  307.85,\n",
       "  307.93,\n",
       "  187,\n",
       "  307.901,\n",
       "  35),\n",
       " (Timestamp('2020-06-02 19:00:00'),\n",
       "  307.95,\n",
       "  308.05,\n",
       "  307.92,\n",
       "  308.0,\n",
       "  74,\n",
       "  308.0,\n",
       "  23),\n",
       " (Timestamp('2020-06-02 19:10:00'),\n",
       "  308.02,\n",
       "  308.16,\n",
       "  308.02,\n",
       "  308.11,\n",
       "  332,\n",
       "  308.1,\n",
       "  74),\n",
       " (Timestamp('2020-06-02 19:20:00'),\n",
       "  308.1,\n",
       "  308.75,\n",
       "  308.1,\n",
       "  308.73,\n",
       "  854,\n",
       "  308.568,\n",
       "  245),\n",
       " (Timestamp('2020-06-02 19:30:00'),\n",
       "  308.69,\n",
       "  308.99,\n",
       "  308.69,\n",
       "  308.8,\n",
       "  995,\n",
       "  308.868,\n",
       "  200),\n",
       " (Timestamp('2020-06-02 19:40:00'),\n",
       "  308.8,\n",
       "  309.0,\n",
       "  308.7,\n",
       "  308.99,\n",
       "  318,\n",
       "  308.857,\n",
       "  94),\n",
       " (Timestamp('2020-06-02 19:50:00'),\n",
       "  308.99,\n",
       "  309.07,\n",
       "  308.81,\n",
       "  308.89,\n",
       "  481,\n",
       "  308.925,\n",
       "  141),\n",
       " (Timestamp('2020-06-03 04:00:00'),\n",
       "  309.25,\n",
       "  309.35,\n",
       "  309.03,\n",
       "  309.03,\n",
       "  64,\n",
       "  309.2,\n",
       "  25),\n",
       " (Timestamp('2020-06-03 04:10:00'),\n",
       "  309.02,\n",
       "  309.02,\n",
       "  308.84,\n",
       "  308.84,\n",
       "  60,\n",
       "  308.899,\n",
       "  11),\n",
       " (Timestamp('2020-06-03 04:20:00'),\n",
       "  309.03,\n",
       "  309.13,\n",
       "  309.0,\n",
       "  309.13,\n",
       "  22,\n",
       "  309.043,\n",
       "  10),\n",
       " (Timestamp('2020-06-03 04:30:00'),\n",
       "  309.13,\n",
       "  309.41,\n",
       "  309.06,\n",
       "  309.08,\n",
       "  75,\n",
       "  309.125,\n",
       "  19),\n",
       " (Timestamp('2020-06-03 04:40:00'),\n",
       "  309.13,\n",
       "  309.22,\n",
       "  309.03,\n",
       "  309.06,\n",
       "  47,\n",
       "  309.134,\n",
       "  13),\n",
       " (Timestamp('2020-06-03 04:50:00'),\n",
       "  309.11,\n",
       "  309.36,\n",
       "  309.11,\n",
       "  309.36,\n",
       "  21,\n",
       "  309.194,\n",
       "  7),\n",
       " (Timestamp('2020-06-03 05:00:00'),\n",
       "  309.17,\n",
       "  309.27,\n",
       "  309.17,\n",
       "  309.26,\n",
       "  4,\n",
       "  309.227,\n",
       "  4),\n",
       " (Timestamp('2020-06-03 05:10:00'),\n",
       "  309.28,\n",
       "  309.35,\n",
       "  309.28,\n",
       "  309.3,\n",
       "  32,\n",
       "  309.306,\n",
       "  8),\n",
       " (Timestamp('2020-06-03 05:20:00'),\n",
       "  309.23,\n",
       "  309.54,\n",
       "  309.23,\n",
       "  309.46,\n",
       "  124,\n",
       "  309.441,\n",
       "  34),\n",
       " (Timestamp('2020-06-03 05:30:00'),\n",
       "  309.74,\n",
       "  309.8,\n",
       "  309.63,\n",
       "  309.66,\n",
       "  156,\n",
       "  309.758,\n",
       "  34),\n",
       " (Timestamp('2020-06-03 05:40:00'),\n",
       "  309.71,\n",
       "  309.76,\n",
       "  309.51,\n",
       "  309.61,\n",
       "  132,\n",
       "  309.665,\n",
       "  34),\n",
       " (Timestamp('2020-06-03 05:50:00'),\n",
       "  309.71,\n",
       "  309.81,\n",
       "  309.63,\n",
       "  309.65,\n",
       "  35,\n",
       "  309.694,\n",
       "  19),\n",
       " (Timestamp('2020-06-03 06:00:00'),\n",
       "  309.65,\n",
       "  309.65,\n",
       "  309.14,\n",
       "  309.31,\n",
       "  175,\n",
       "  309.332,\n",
       "  49),\n",
       " (Timestamp('2020-06-03 06:10:00'),\n",
       "  309.31,\n",
       "  309.68,\n",
       "  309.31,\n",
       "  309.44,\n",
       "  79,\n",
       "  309.522,\n",
       "  28),\n",
       " (Timestamp('2020-06-03 06:20:00'),\n",
       "  309.41,\n",
       "  309.54,\n",
       "  309.41,\n",
       "  309.5,\n",
       "  48,\n",
       "  309.482,\n",
       "  13),\n",
       " (Timestamp('2020-06-03 06:30:00'),\n",
       "  309.58,\n",
       "  309.58,\n",
       "  309.4,\n",
       "  309.41,\n",
       "  66,\n",
       "  309.458,\n",
       "  22),\n",
       " (Timestamp('2020-06-03 06:40:00'),\n",
       "  309.44,\n",
       "  309.53,\n",
       "  309.42,\n",
       "  309.46,\n",
       "  16,\n",
       "  309.461,\n",
       "  9),\n",
       " (Timestamp('2020-06-03 06:50:00'),\n",
       "  309.4,\n",
       "  309.54,\n",
       "  309.0,\n",
       "  309.19,\n",
       "  222,\n",
       "  309.326,\n",
       "  66),\n",
       " (Timestamp('2020-06-03 07:00:00'),\n",
       "  309.14,\n",
       "  309.27,\n",
       "  309.1,\n",
       "  309.25,\n",
       "  407,\n",
       "  309.189,\n",
       "  99),\n",
       " (Timestamp('2020-06-03 07:10:00'),\n",
       "  309.25,\n",
       "  309.45,\n",
       "  309.25,\n",
       "  309.41,\n",
       "  372,\n",
       "  309.366,\n",
       "  87),\n",
       " (Timestamp('2020-06-03 07:20:00'),\n",
       "  309.4,\n",
       "  309.4,\n",
       "  309.08,\n",
       "  309.24,\n",
       "  383,\n",
       "  309.218,\n",
       "  108),\n",
       " (Timestamp('2020-06-03 07:30:00'),\n",
       "  309.24,\n",
       "  309.25,\n",
       "  309.02,\n",
       "  309.21,\n",
       "  330,\n",
       "  309.123,\n",
       "  83),\n",
       " (Timestamp('2020-06-03 07:40:00'),\n",
       "  309.24,\n",
       "  309.44,\n",
       "  309.2,\n",
       "  309.43,\n",
       "  237,\n",
       "  309.344,\n",
       "  74),\n",
       " (Timestamp('2020-06-03 07:50:00'),\n",
       "  309.44,\n",
       "  309.69,\n",
       "  309.44,\n",
       "  309.48,\n",
       "  657,\n",
       "  309.568,\n",
       "  154),\n",
       " (Timestamp('2020-06-03 08:00:00'),\n",
       "  309.21,\n",
       "  309.65,\n",
       "  308.75,\n",
       "  309.42,\n",
       "  1039,\n",
       "  309.406,\n",
       "  208),\n",
       " (Timestamp('2020-06-03 08:10:00'),\n",
       "  309.4,\n",
       "  309.91,\n",
       "  309.4,\n",
       "  309.87,\n",
       "  1132,\n",
       "  309.721,\n",
       "  328),\n",
       " (Timestamp('2020-06-03 08:20:00'),\n",
       "  309.89,\n",
       "  310.0,\n",
       "  309.73,\n",
       "  309.74,\n",
       "  1416,\n",
       "  309.866,\n",
       "  291),\n",
       " (Timestamp('2020-06-03 08:30:00'),\n",
       "  309.75,\n",
       "  309.9,\n",
       "  309.71,\n",
       "  309.82,\n",
       "  1498,\n",
       "  309.821,\n",
       "  371),\n",
       " (Timestamp('2020-06-03 08:40:00'),\n",
       "  309.81,\n",
       "  309.9,\n",
       "  309.69,\n",
       "  309.76,\n",
       "  1631,\n",
       "  309.791,\n",
       "  360),\n",
       " (Timestamp('2020-06-03 08:50:00'),\n",
       "  309.77,\n",
       "  310.18,\n",
       "  309.7,\n",
       "  309.96,\n",
       "  1946,\n",
       "  310.047,\n",
       "  425),\n",
       " (Timestamp('2020-06-03 09:00:00'),\n",
       "  309.94,\n",
       "  310.11,\n",
       "  309.85,\n",
       "  310.1,\n",
       "  952,\n",
       "  309.948,\n",
       "  225),\n",
       " (Timestamp('2020-06-03 09:10:00'),\n",
       "  310.07,\n",
       "  310.15,\n",
       "  310.0,\n",
       "  310.12,\n",
       "  1392,\n",
       "  310.082,\n",
       "  278),\n",
       " (Timestamp('2020-06-03 09:20:00'),\n",
       "  310.1,\n",
       "  310.46,\n",
       "  310.1,\n",
       "  310.24,\n",
       "  3688,\n",
       "  310.284,\n",
       "  864),\n",
       " (Timestamp('2020-06-03 09:30:00'),\n",
       "  310.23,\n",
       "  310.86,\n",
       "  309.94,\n",
       "  310.18,\n",
       "  45025,\n",
       "  310.339,\n",
       "  18084),\n",
       " (Timestamp('2020-06-03 09:40:00'),\n",
       "  310.19,\n",
       "  310.64,\n",
       "  310.16,\n",
       "  310.43,\n",
       "  19921,\n",
       "  310.438,\n",
       "  9991),\n",
       " (Timestamp('2020-06-03 09:50:00'),\n",
       "  310.45,\n",
       "  310.79,\n",
       "  310.17,\n",
       "  310.57,\n",
       "  21886,\n",
       "  310.527,\n",
       "  10591),\n",
       " (Timestamp('2020-06-03 10:00:00'),\n",
       "  310.58,\n",
       "  310.95,\n",
       "  310.51,\n",
       "  310.73,\n",
       "  23327,\n",
       "  310.733,\n",
       "  10879),\n",
       " (Timestamp('2020-06-03 10:10:00'),\n",
       "  310.75,\n",
       "  310.85,\n",
       "  310.45,\n",
       "  310.75,\n",
       "  11836,\n",
       "  310.659,\n",
       "  6500),\n",
       " (Timestamp('2020-06-03 10:20:00'),\n",
       "  310.75,\n",
       "  310.97,\n",
       "  310.53,\n",
       "  310.92,\n",
       "  10525,\n",
       "  310.781,\n",
       "  5139),\n",
       " (Timestamp('2020-06-03 10:30:00'),\n",
       "  310.91,\n",
       "  311.14,\n",
       "  310.77,\n",
       "  311.02,\n",
       "  15342,\n",
       "  311.016,\n",
       "  7302),\n",
       " (Timestamp('2020-06-03 10:40:00'),\n",
       "  311.02,\n",
       "  311.23,\n",
       "  310.88,\n",
       "  311.22,\n",
       "  12735,\n",
       "  311.077,\n",
       "  5836),\n",
       " (Timestamp('2020-06-03 10:50:00'),\n",
       "  311.23,\n",
       "  311.36,\n",
       "  311.01,\n",
       "  311.01,\n",
       "  13232,\n",
       "  311.197,\n",
       "  6657),\n",
       " (Timestamp('2020-06-03 11:00:00'),\n",
       "  311.01,\n",
       "  311.69,\n",
       "  310.97,\n",
       "  311.63,\n",
       "  16212,\n",
       "  311.438,\n",
       "  7313),\n",
       " (Timestamp('2020-06-03 11:10:00'),\n",
       "  311.63,\n",
       "  311.96,\n",
       "  311.53,\n",
       "  311.76,\n",
       "  12530,\n",
       "  311.761,\n",
       "  6250),\n",
       " (Timestamp('2020-06-03 11:20:00'),\n",
       "  311.76,\n",
       "  311.81,\n",
       "  311.51,\n",
       "  311.66,\n",
       "  13943,\n",
       "  311.652,\n",
       "  6310),\n",
       " (Timestamp('2020-06-03 11:30:00'),\n",
       "  311.66,\n",
       "  312.06,\n",
       "  311.54,\n",
       "  311.82,\n",
       "  13745,\n",
       "  311.831,\n",
       "  6502),\n",
       " (Timestamp('2020-06-03 11:40:00'),\n",
       "  311.83,\n",
       "  311.94,\n",
       "  311.51,\n",
       "  311.8,\n",
       "  11562,\n",
       "  311.752,\n",
       "  5764),\n",
       " (Timestamp('2020-06-03 11:50:00'),\n",
       "  311.79,\n",
       "  311.89,\n",
       "  311.62,\n",
       "  311.72,\n",
       "  8242,\n",
       "  311.714,\n",
       "  4513),\n",
       " (Timestamp('2020-06-03 12:00:00'),\n",
       "  311.72,\n",
       "  311.74,\n",
       "  311.4,\n",
       "  311.42,\n",
       "  15739,\n",
       "  311.643,\n",
       "  5948),\n",
       " (Timestamp('2020-06-03 12:10:00'),\n",
       "  311.43,\n",
       "  311.56,\n",
       "  311.22,\n",
       "  311.32,\n",
       "  12424,\n",
       "  311.394,\n",
       "  5942),\n",
       " (Timestamp('2020-06-03 12:20:00'),\n",
       "  311.34,\n",
       "  311.57,\n",
       "  311.22,\n",
       "  311.55,\n",
       "  10099,\n",
       "  311.348,\n",
       "  4648),\n",
       " (Timestamp('2020-06-03 12:30:00'),\n",
       "  311.55,\n",
       "  311.72,\n",
       "  311.53,\n",
       "  311.62,\n",
       "  10275,\n",
       "  311.649,\n",
       "  3968),\n",
       " (Timestamp('2020-06-03 12:40:00'),\n",
       "  311.63,\n",
       "  311.71,\n",
       "  311.36,\n",
       "  311.39,\n",
       "  6331,\n",
       "  311.56,\n",
       "  3186),\n",
       " (Timestamp('2020-06-03 12:50:00'),\n",
       "  311.38,\n",
       "  311.53,\n",
       "  311.19,\n",
       "  311.22,\n",
       "  6572,\n",
       "  311.354,\n",
       "  3262),\n",
       " (Timestamp('2020-06-03 13:00:00'),\n",
       "  311.23,\n",
       "  311.43,\n",
       "  311.13,\n",
       "  311.33,\n",
       "  7786,\n",
       "  311.287,\n",
       "  4014),\n",
       " (Timestamp('2020-06-03 13:10:00'),\n",
       "  311.33,\n",
       "  311.52,\n",
       "  311.27,\n",
       "  311.51,\n",
       "  4411,\n",
       "  311.407,\n",
       "  2135),\n",
       " (Timestamp('2020-06-03 13:20:00'),\n",
       "  311.49,\n",
       "  311.66,\n",
       "  311.46,\n",
       "  311.55,\n",
       "  7765,\n",
       "  311.577,\n",
       "  3255),\n",
       " (Timestamp('2020-06-03 13:30:00'),\n",
       "  311.56,\n",
       "  311.67,\n",
       "  311.39,\n",
       "  311.47,\n",
       "  4823,\n",
       "  311.501,\n",
       "  2551),\n",
       " (Timestamp('2020-06-03 13:40:00'),\n",
       "  311.47,\n",
       "  311.67,\n",
       "  311.31,\n",
       "  311.31,\n",
       "  4639,\n",
       "  311.513,\n",
       "  2430),\n",
       " (Timestamp('2020-06-03 13:50:00'),\n",
       "  311.32,\n",
       "  311.4,\n",
       "  311.19,\n",
       "  311.36,\n",
       "  7172,\n",
       "  311.317,\n",
       "  3187),\n",
       " (Timestamp('2020-06-03 14:00:00'),\n",
       "  311.36,\n",
       "  312.04,\n",
       "  311.3,\n",
       "  311.81,\n",
       "  17018,\n",
       "  311.843,\n",
       "  7404),\n",
       " (Timestamp('2020-06-03 14:10:00'),\n",
       "  311.82,\n",
       "  312.02,\n",
       "  311.8,\n",
       "  312.01,\n",
       "  9113,\n",
       "  311.913,\n",
       "  4013),\n",
       " (Timestamp('2020-06-03 14:20:00'),\n",
       "  312.0,\n",
       "  312.16,\n",
       "  311.89,\n",
       "  312.03,\n",
       "  10621,\n",
       "  312.049,\n",
       "  4683),\n",
       " (Timestamp('2020-06-03 14:30:00'),\n",
       "  312.03,\n",
       "  312.34,\n",
       "  311.84,\n",
       "  312.2,\n",
       "  12854,\n",
       "  312.084,\n",
       "  5861),\n",
       " (Timestamp('2020-06-03 14:40:00'),\n",
       "  312.22,\n",
       "  312.38,\n",
       "  312.11,\n",
       "  312.19,\n",
       "  10624,\n",
       "  312.221,\n",
       "  4700),\n",
       " (Timestamp('2020-06-03 14:50:00'),\n",
       "  312.19,\n",
       "  312.38,\n",
       "  312.11,\n",
       "  312.13,\n",
       "  12233,\n",
       "  312.268,\n",
       "  5507),\n",
       " (Timestamp('2020-06-03 15:00:00'),\n",
       "  312.13,\n",
       "  312.27,\n",
       "  311.93,\n",
       "  312.17,\n",
       "  13262,\n",
       "  312.096,\n",
       "  5983),\n",
       " (Timestamp('2020-06-03 15:10:00'),\n",
       "  312.17,\n",
       "  312.34,\n",
       "  312.08,\n",
       "  312.28,\n",
       "  13557,\n",
       "  312.207,\n",
       "  6346),\n",
       " (Timestamp('2020-06-03 15:20:00'),\n",
       "  312.28,\n",
       "  312.69,\n",
       "  312.0,\n",
       "  312.6,\n",
       "  21279,\n",
       "  312.441,\n",
       "  9506),\n",
       " (Timestamp('2020-06-03 15:30:00'),\n",
       "  312.6,\n",
       "  312.83,\n",
       "  312.38,\n",
       "  312.78,\n",
       "  23988,\n",
       "  312.581,\n",
       "  9924),\n",
       " (Timestamp('2020-06-03 15:40:00'),\n",
       "  312.78,\n",
       "  313.07,\n",
       "  312.59,\n",
       "  312.99,\n",
       "  39361,\n",
       "  312.838,\n",
       "  14506),\n",
       " (Timestamp('2020-06-03 15:50:00'),\n",
       "  313.0,\n",
       "  313.22,\n",
       "  312.04,\n",
       "  312.21,\n",
       "  78538,\n",
       "  312.493,\n",
       "  30094),\n",
       " (Timestamp('2020-06-03 16:00:00'),\n",
       "  312.21,\n",
       "  312.22,\n",
       "  311.86,\n",
       "  312.09,\n",
       "  19941,\n",
       "  312.105,\n",
       "  2868),\n",
       " (Timestamp('2020-06-03 16:10:00'),\n",
       "  312.09,\n",
       "  312.29,\n",
       "  311.98,\n",
       "  312.07,\n",
       "  4780,\n",
       "  312.07,\n",
       "  1054),\n",
       " (Timestamp('2020-06-03 16:20:00'),\n",
       "  312.06,\n",
       "  312.2,\n",
       "  312.04,\n",
       "  312.1,\n",
       "  1309,\n",
       "  312.109,\n",
       "  293),\n",
       " (Timestamp('2020-06-03 16:30:00'),\n",
       "  312.1,\n",
       "  312.29,\n",
       "  312.04,\n",
       "  312.05,\n",
       "  8463,\n",
       "  312.258,\n",
       "  390),\n",
       " (Timestamp('2020-06-03 16:40:00'),\n",
       "  312.05,\n",
       "  312.2,\n",
       "  312.0,\n",
       "  312.1,\n",
       "  2176,\n",
       "  312.1,\n",
       "  356),\n",
       " (Timestamp('2020-06-03 16:50:00'),\n",
       "  312.06,\n",
       "  312.28,\n",
       "  312.02,\n",
       "  312.1,\n",
       "  2154,\n",
       "  312.187,\n",
       "  109),\n",
       " (Timestamp('2020-06-03 17:00:00'),\n",
       "  312.03,\n",
       "  312.18,\n",
       "  312.03,\n",
       "  312.15,\n",
       "  321,\n",
       "  312.131,\n",
       "  76),\n",
       " (Timestamp('2020-06-03 17:10:00'),\n",
       "  312.16,\n",
       "  312.28,\n",
       "  312.11,\n",
       "  312.12,\n",
       "  5173,\n",
       "  312.276,\n",
       "  84),\n",
       " (Timestamp('2020-06-03 17:20:00'),\n",
       "  312.12,\n",
       "  312.17,\n",
       "  312.12,\n",
       "  312.16,\n",
       "  36,\n",
       "  312.156,\n",
       "  22),\n",
       " (Timestamp('2020-06-03 17:30:00'),\n",
       "  312.15,\n",
       "  312.16,\n",
       "  312.1,\n",
       "  312.1,\n",
       "  74,\n",
       "  312.127,\n",
       "  24),\n",
       " (Timestamp('2020-06-03 17:40:00'),\n",
       "  312.15,\n",
       "  312.19,\n",
       "  312.1,\n",
       "  312.1,\n",
       "  143,\n",
       "  312.147,\n",
       "  49),\n",
       " (Timestamp('2020-06-03 17:50:00'),\n",
       "  312.15,\n",
       "  312.15,\n",
       "  312.11,\n",
       "  312.12,\n",
       "  94,\n",
       "  312.134,\n",
       "  38),\n",
       " (Timestamp('2020-06-03 18:00:00'),\n",
       "  312.12,\n",
       "  312.15,\n",
       "  311.55,\n",
       "  311.65,\n",
       "  1236,\n",
       "  311.772,\n",
       "  350),\n",
       " (Timestamp('2020-06-03 18:10:00'),\n",
       "  311.7,\n",
       "  311.8,\n",
       "  311.6,\n",
       "  311.69,\n",
       "  366,\n",
       "  311.659,\n",
       "  100),\n",
       " (Timestamp('2020-06-03 18:20:00'),\n",
       "  311.69,\n",
       "  312.29,\n",
       "  311.6,\n",
       "  311.65,\n",
       "  1051,\n",
       "  312.153,\n",
       "  55),\n",
       " (Timestamp('2020-06-03 18:30:00'),\n",
       "  311.69,\n",
       "  312.02,\n",
       "  311.68,\n",
       "  311.98,\n",
       "  173,\n",
       "  311.907,\n",
       "  39),\n",
       " (Timestamp('2020-06-03 18:40:00'),\n",
       "  311.91,\n",
       "  312.0,\n",
       "  311.78,\n",
       "  311.89,\n",
       "  227,\n",
       "  311.936,\n",
       "  41),\n",
       " (Timestamp('2020-06-03 18:50:00'),\n",
       "  311.88,\n",
       "  312.09,\n",
       "  311.88,\n",
       "  312.02,\n",
       "  303,\n",
       "  312.026,\n",
       "  64),\n",
       " (Timestamp('2020-06-03 19:00:00'),\n",
       "  312.03,\n",
       "  312.33,\n",
       "  312.03,\n",
       "  312.3,\n",
       "  394,\n",
       "  312.152,\n",
       "  108),\n",
       " (Timestamp('2020-06-03 19:10:00'),\n",
       "  312.33,\n",
       "  312.34,\n",
       "  312.19,\n",
       "  312.27,\n",
       "  174,\n",
       "  312.277,\n",
       "  53),\n",
       " (Timestamp('2020-06-03 19:20:00'),\n",
       "  312.18,\n",
       "  312.54,\n",
       "  312.18,\n",
       "  312.49,\n",
       "  344,\n",
       "  312.421,\n",
       "  84),\n",
       " (Timestamp('2020-06-03 19:30:00'),\n",
       "  312.5,\n",
       "  312.95,\n",
       "  312.47,\n",
       "  312.86,\n",
       "  1430,\n",
       "  312.722,\n",
       "  266),\n",
       " (Timestamp('2020-06-03 19:40:00'),\n",
       "  312.81,\n",
       "  312.95,\n",
       "  312.7,\n",
       "  312.8,\n",
       "  559,\n",
       "  312.837,\n",
       "  128),\n",
       " (Timestamp('2020-06-03 19:50:00'),\n",
       "  312.8,\n",
       "  312.81,\n",
       "  312.62,\n",
       "  312.65,\n",
       "  1687,\n",
       "  312.699,\n",
       "  343),\n",
       " (Timestamp('2020-06-04 04:00:00'),\n",
       "  311.5,\n",
       "  311.5,\n",
       "  311.05,\n",
       "  311.34,\n",
       "  238,\n",
       "  311.206,\n",
       "  96),\n",
       " (Timestamp('2020-06-04 04:10:00'),\n",
       "  311.37,\n",
       "  311.57,\n",
       "  311.22,\n",
       "  311.22,\n",
       "  62,\n",
       "  311.326,\n",
       "  23),\n",
       " (Timestamp('2020-06-04 04:20:00'),\n",
       "  311.3,\n",
       "  311.39,\n",
       "  311.12,\n",
       "  311.17,\n",
       "  35,\n",
       "  311.26,\n",
       "  22),\n",
       " (Timestamp('2020-06-04 04:30:00'),\n",
       "  311.22,\n",
       "  311.22,\n",
       "  311.0,\n",
       "  311.0,\n",
       "  25,\n",
       "  311.04,\n",
       "  16),\n",
       " (Timestamp('2020-06-04 04:40:00'),\n",
       "  311.0,\n",
       "  311.1,\n",
       "  310.97,\n",
       "  310.97,\n",
       "  23,\n",
       "  311.03,\n",
       "  15),\n",
       " (Timestamp('2020-06-04 04:50:00'),\n",
       "  311.0,\n",
       "  311.05,\n",
       "  310.95,\n",
       "  310.95,\n",
       "  18,\n",
       "  310.996,\n",
       "  7),\n",
       " (Timestamp('2020-06-04 05:00:00'),\n",
       "  310.95,\n",
       "  310.98,\n",
       "  310.86,\n",
       "  310.98,\n",
       "  55,\n",
       "  310.929,\n",
       "  19),\n",
       " (Timestamp('2020-06-04 05:10:00'),\n",
       "  310.93,\n",
       "  311.05,\n",
       "  310.85,\n",
       "  310.91,\n",
       "  57,\n",
       "  311.003,\n",
       "  19),\n",
       " (Timestamp('2020-06-04 05:20:00'),\n",
       "  310.9,\n",
       "  310.9,\n",
       "  310.46,\n",
       "  310.48,\n",
       "  135,\n",
       "  310.59,\n",
       "  52),\n",
       " (Timestamp('2020-06-04 05:30:00'),\n",
       "  310.48,\n",
       "  310.56,\n",
       "  310.45,\n",
       "  310.56,\n",
       "  130,\n",
       "  310.52,\n",
       "  24),\n",
       " (Timestamp('2020-06-04 05:40:00'),\n",
       "  310.6,\n",
       "  310.6,\n",
       "  310.37,\n",
       "  310.38,\n",
       "  97,\n",
       "  310.468,\n",
       "  40),\n",
       " (Timestamp('2020-06-04 05:50:00'),\n",
       "  310.37,\n",
       "  310.46,\n",
       "  310.31,\n",
       "  310.36,\n",
       "  109,\n",
       "  310.37,\n",
       "  34),\n",
       " (Timestamp('2020-06-04 06:00:00'),\n",
       "  310.31,\n",
       "  310.46,\n",
       "  310.3,\n",
       "  310.32,\n",
       "  166,\n",
       "  310.388,\n",
       "  41),\n",
       " (Timestamp('2020-06-04 06:10:00'),\n",
       "  310.34,\n",
       "  310.58,\n",
       "  310.31,\n",
       "  310.56,\n",
       "  189,\n",
       "  310.428,\n",
       "  54),\n",
       " (Timestamp('2020-06-04 06:20:00'),\n",
       "  310.56,\n",
       "  310.62,\n",
       "  310.54,\n",
       "  310.62,\n",
       "  92,\n",
       "  310.569,\n",
       "  30),\n",
       " (Timestamp('2020-06-04 06:30:00'),\n",
       "  310.63,\n",
       "  310.68,\n",
       "  310.54,\n",
       "  310.54,\n",
       "  109,\n",
       "  310.633,\n",
       "  32),\n",
       " (Timestamp('2020-06-04 06:40:00'),\n",
       "  310.59,\n",
       "  310.59,\n",
       "  310.26,\n",
       "  310.3,\n",
       "  281,\n",
       "  310.406,\n",
       "  68),\n",
       " (Timestamp('2020-06-04 06:50:00'),\n",
       "  310.33,\n",
       "  310.7,\n",
       "  310.31,\n",
       "  310.7,\n",
       "  538,\n",
       "  310.448,\n",
       "  75),\n",
       " (Timestamp('2020-06-04 07:00:00'),\n",
       "  310.66,\n",
       "  310.83,\n",
       "  310.55,\n",
       "  310.71,\n",
       "  1135,\n",
       "  310.734,\n",
       "  275),\n",
       " (Timestamp('2020-06-04 07:10:00'),\n",
       "  310.69,\n",
       "  310.84,\n",
       "  310.65,\n",
       "  310.76,\n",
       "  943,\n",
       "  310.745,\n",
       "  247),\n",
       " (Timestamp('2020-06-04 07:20:00'),\n",
       "  310.77,\n",
       "  310.83,\n",
       "  310.65,\n",
       "  310.81,\n",
       "  520,\n",
       "  310.742,\n",
       "  143),\n",
       " (Timestamp('2020-06-04 07:30:00'),\n",
       "  310.8,\n",
       "  310.88,\n",
       "  310.58,\n",
       "  310.58,\n",
       "  772,\n",
       "  310.743,\n",
       "  230),\n",
       " (Timestamp('2020-06-04 07:40:00'),\n",
       "  310.61,\n",
       "  311.31,\n",
       "  310.42,\n",
       "  311.1,\n",
       "  5266,\n",
       "  311.048,\n",
       "  1120),\n",
       " (Timestamp('2020-06-04 07:50:00'),\n",
       "  311.11,\n",
       "  311.63,\n",
       "  310.99,\n",
       "  311.33,\n",
       "  2980,\n",
       "  311.321,\n",
       "  635),\n",
       " (Timestamp('2020-06-04 08:00:00'),\n",
       "  310.66,\n",
       "  311.75,\n",
       "  310.33,\n",
       "  311.32,\n",
       "  2150,\n",
       "  311.258,\n",
       "  546),\n",
       " (Timestamp('2020-06-04 08:10:00'),\n",
       "  311.32,\n",
       "  311.32,\n",
       "  310.88,\n",
       "  311.07,\n",
       "  1153,\n",
       "  311.048,\n",
       "  290),\n",
       " (Timestamp('2020-06-04 08:20:00'),\n",
       "  311.02,\n",
       "  311.17,\n",
       "  310.9,\n",
       "  311.08,\n",
       "  659,\n",
       "  311.037,\n",
       "  175),\n",
       " (Timestamp('2020-06-04 08:30:00'),\n",
       "  311.0,\n",
       "  311.21,\n",
       "  310.17,\n",
       "  310.47,\n",
       "  3891,\n",
       "  310.533,\n",
       "  952),\n",
       " (Timestamp('2020-06-04 08:40:00'),\n",
       "  310.48,\n",
       "  310.48,\n",
       "  309.79,\n",
       "  310.18,\n",
       "  3705,\n",
       "  310.041,\n",
       "  918),\n",
       " (Timestamp('2020-06-04 08:50:00'),\n",
       "  310.17,\n",
       "  310.55,\n",
       "  310.12,\n",
       "  310.44,\n",
       "  1799,\n",
       "  310.3,\n",
       "  501),\n",
       " (Timestamp('2020-06-04 09:00:00'),\n",
       "  310.44,\n",
       "  310.96,\n",
       "  310.35,\n",
       "  310.77,\n",
       "  1818,\n",
       "  310.689,\n",
       "  472),\n",
       " (Timestamp('2020-06-04 09:10:00'),\n",
       "  310.77,\n",
       "  311.0,\n",
       "  310.72,\n",
       "  310.86,\n",
       "  708,\n",
       "  310.854,\n",
       "  199),\n",
       " (Timestamp('2020-06-04 09:20:00'),\n",
       "  310.82,\n",
       "  311.28,\n",
       "  310.82,\n",
       "  311.11,\n",
       "  2117,\n",
       "  311.111,\n",
       "  564),\n",
       " (Timestamp('2020-06-04 09:30:00'),\n",
       "  311.11,\n",
       "  311.49,\n",
       "  310.96,\n",
       "  311.21,\n",
       "  25188,\n",
       "  311.212,\n",
       "  10884),\n",
       " (Timestamp('2020-06-04 09:40:00'),\n",
       "  311.21,\n",
       "  311.54,\n",
       "  311.08,\n",
       "  311.45,\n",
       "  17287,\n",
       "  311.319,\n",
       "  9061),\n",
       " (Timestamp('2020-06-04 09:50:00'),\n",
       "  311.44,\n",
       "  312.25,\n",
       "  311.4,\n",
       "  312.09,\n",
       "  21337,\n",
       "  311.952,\n",
       "  9605),\n",
       " (Timestamp('2020-06-04 10:00:00'),\n",
       "  312.08,\n",
       "  312.38,\n",
       "  311.93,\n",
       "  312.21,\n",
       "  21314,\n",
       "  312.164,\n",
       "  9842),\n",
       " (Timestamp('2020-06-04 10:10:00'),\n",
       "  312.2,\n",
       "  312.64,\n",
       "  311.89,\n",
       "  312.58,\n",
       "  17310,\n",
       "  312.266,\n",
       "  7539),\n",
       " (Timestamp('2020-06-04 10:20:00'),\n",
       "  312.58,\n",
       "  312.66,\n",
       "  312.05,\n",
       "  312.56,\n",
       "  15478,\n",
       "  312.303,\n",
       "  6381),\n",
       " (Timestamp('2020-06-04 10:30:00'),\n",
       "  312.55,\n",
       "  313.0,\n",
       "  312.51,\n",
       "  312.8,\n",
       "  16354,\n",
       "  312.806,\n",
       "  7371),\n",
       " (Timestamp('2020-06-04 10:40:00'),\n",
       "  312.81,\n",
       "  312.94,\n",
       "  312.39,\n",
       "  312.79,\n",
       "  12318,\n",
       "  312.652,\n",
       "  5921),\n",
       " (Timestamp('2020-06-04 10:50:00'),\n",
       "  312.8,\n",
       "  312.86,\n",
       "  312.49,\n",
       "  312.77,\n",
       "  7532,\n",
       "  312.73,\n",
       "  3624),\n",
       " (Timestamp('2020-06-04 11:00:00'),\n",
       "  312.78,\n",
       "  312.89,\n",
       "  312.03,\n",
       "  312.07,\n",
       "  13115,\n",
       "  312.431,\n",
       "  6502),\n",
       " (Timestamp('2020-06-04 11:10:00'),\n",
       "  312.08,\n",
       "  312.12,\n",
       "  311.11,\n",
       "  311.31,\n",
       "  21524,\n",
       "  311.59,\n",
       "  10939),\n",
       " (Timestamp('2020-06-04 11:20:00'),\n",
       "  311.3,\n",
       "  311.72,\n",
       "  311.08,\n",
       "  311.38,\n",
       "  20711,\n",
       "  311.37,\n",
       "  10028),\n",
       " (Timestamp('2020-06-04 11:30:00'),\n",
       "  311.38,\n",
       "  311.74,\n",
       "  311.23,\n",
       "  311.72,\n",
       "  14239,\n",
       "  311.556,\n",
       "  7223),\n",
       " (Timestamp('2020-06-04 11:40:00'),\n",
       "  311.71,\n",
       "  311.84,\n",
       "  311.26,\n",
       "  311.31,\n",
       "  10839,\n",
       "  311.518,\n",
       "  5811),\n",
       " (Timestamp('2020-06-04 11:50:00'),\n",
       "  311.31,\n",
       "  311.64,\n",
       "  311.2,\n",
       "  311.53,\n",
       "  9787,\n",
       "  311.439,\n",
       "  4809),\n",
       " (Timestamp('2020-06-04 12:00:00'),\n",
       "  311.53,\n",
       "  311.74,\n",
       "  311.39,\n",
       "  311.58,\n",
       "  7366,\n",
       "  311.509,\n",
       "  3969),\n",
       " (Timestamp('2020-06-04 12:10:00'),\n",
       "  311.6,\n",
       "  311.61,\n",
       "  311.1,\n",
       "  311.5,\n",
       "  9115,\n",
       "  311.382,\n",
       "  4418),\n",
       " (Timestamp('2020-06-04 12:20:00'),\n",
       "  311.5,\n",
       "  311.75,\n",
       "  311.29,\n",
       "  311.36,\n",
       "  9743,\n",
       "  311.536,\n",
       "  5012),\n",
       " (Timestamp('2020-06-04 12:30:00'),\n",
       "  311.36,\n",
       "  311.36,\n",
       "  310.55,\n",
       "  310.82,\n",
       "  16380,\n",
       "  310.877,\n",
       "  7791),\n",
       " (Timestamp('2020-06-04 12:40:00'),\n",
       "  310.83,\n",
       "  310.94,\n",
       "  310.5,\n",
       "  310.54,\n",
       "  10059,\n",
       "  310.687,\n",
       "  5256),\n",
       " (Timestamp('2020-06-04 12:50:00'),\n",
       "  310.53,\n",
       "  310.78,\n",
       "  310.48,\n",
       "  310.5,\n",
       "  10686,\n",
       "  310.613,\n",
       "  4844),\n",
       " (Timestamp('2020-06-04 13:00:00'),\n",
       "  310.5,\n",
       "  310.9,\n",
       "  310.39,\n",
       "  310.87,\n",
       "  12666,\n",
       "  310.608,\n",
       "  6600),\n",
       " (Timestamp('2020-06-04 13:10:00'),\n",
       "  310.86,\n",
       "  310.92,\n",
       "  310.75,\n",
       "  310.78,\n",
       "  7078,\n",
       "  310.825,\n",
       "  3455),\n",
       " (Timestamp('2020-06-04 13:20:00'),\n",
       "  310.77,\n",
       "  310.82,\n",
       "  310.51,\n",
       "  310.53,\n",
       "  7190,\n",
       "  310.664,\n",
       "  3615),\n",
       " (Timestamp('2020-06-04 13:30:00'),\n",
       "  310.54,\n",
       "  311.09,\n",
       "  310.54,\n",
       "  311.08,\n",
       "  10440,\n",
       "  310.841,\n",
       "  4899),\n",
       " (Timestamp('2020-06-04 13:40:00'),\n",
       "  311.08,\n",
       "  311.61,\n",
       "  310.98,\n",
       "  311.5,\n",
       "  16241,\n",
       "  311.365,\n",
       "  7284),\n",
       " (Timestamp('2020-06-04 13:50:00'),\n",
       "  311.5,\n",
       "  311.68,\n",
       "  311.41,\n",
       "  311.51,\n",
       "  6503,\n",
       "  311.52,\n",
       "  3342),\n",
       " (Timestamp('2020-06-04 14:00:00'),\n",
       "  311.5,\n",
       "  311.69,\n",
       "  311.25,\n",
       "  311.36,\n",
       "  10548,\n",
       "  311.474,\n",
       "  5148),\n",
       " (Timestamp('2020-06-04 14:10:00'),\n",
       "  311.37,\n",
       "  311.64,\n",
       "  311.25,\n",
       "  311.49,\n",
       "  9070,\n",
       "  311.478,\n",
       "  3980),\n",
       " (Timestamp('2020-06-04 14:20:00'),\n",
       "  311.5,\n",
       "  311.58,\n",
       "  311.34,\n",
       "  311.52,\n",
       "  6798,\n",
       "  311.45,\n",
       "  3419),\n",
       " (Timestamp('2020-06-04 14:30:00'),\n",
       "  311.53,\n",
       "  311.62,\n",
       "  310.79,\n",
       "  311.03,\n",
       "  15034,\n",
       "  311.115,\n",
       "  5946),\n",
       " (Timestamp('2020-06-04 14:40:00'),\n",
       "  311.03,\n",
       "  311.12,\n",
       "  310.71,\n",
       "  311.12,\n",
       "  9704,\n",
       "  310.915,\n",
       "  4439),\n",
       " (Timestamp('2020-06-04 14:50:00'),\n",
       "  311.11,\n",
       "  311.16,\n",
       "  310.14,\n",
       "  310.15,\n",
       "  14506,\n",
       "  310.662,\n",
       "  7268),\n",
       " (Timestamp('2020-06-04 15:00:00'),\n",
       "  310.14,\n",
       "  310.59,\n",
       "  309.65,\n",
       "  309.89,\n",
       "  17615,\n",
       "  310.152,\n",
       "  8756),\n",
       " (Timestamp('2020-06-04 15:10:00'),\n",
       "  309.9,\n",
       "  310.04,\n",
       "  309.08,\n",
       "  309.77,\n",
       "  24298,\n",
       "  309.568,\n",
       "  12361),\n",
       " (Timestamp('2020-06-04 15:20:00'),\n",
       "  309.78,\n",
       "  310.11,\n",
       "  309.6,\n",
       "  310.09,\n",
       "  17241,\n",
       "  309.897,\n",
       "  8370),\n",
       " (Timestamp('2020-06-04 15:30:00'),\n",
       "  310.1,\n",
       "  310.8,\n",
       "  310.03,\n",
       "  310.2,\n",
       "  23665,\n",
       "  310.448,\n",
       "  9806),\n",
       " (Timestamp('2020-06-04 15:40:00'),\n",
       "  310.19,\n",
       "  310.57,\n",
       "  310.07,\n",
       "  310.49,\n",
       "  19444,\n",
       "  310.307,\n",
       "  8985),\n",
       " (Timestamp('2020-06-04 15:50:00'),\n",
       "  310.52,\n",
       "  311.34,\n",
       "  309.94,\n",
       "  311.31,\n",
       "  48923,\n",
       "  310.633,\n",
       "  20882),\n",
       " (Timestamp('2020-06-04 16:00:00'),\n",
       "  311.29,\n",
       "  311.45,\n",
       "  311.15,\n",
       "  311.32,\n",
       "  18213,\n",
       "  311.34,\n",
       "  3242),\n",
       " (Timestamp('2020-06-04 16:10:00'),\n",
       "  311.35,\n",
       "  311.44,\n",
       "  311.25,\n",
       "  311.32,\n",
       "  3188,\n",
       "  311.344,\n",
       "  663),\n",
       " (Timestamp('2020-06-04 16:20:00'),\n",
       "  311.33,\n",
       "  311.42,\n",
       "  311.31,\n",
       "  311.35,\n",
       "  2487,\n",
       "  311.366,\n",
       "  214),\n",
       " (Timestamp('2020-06-04 16:30:00'),\n",
       "  311.39,\n",
       "  311.78,\n",
       "  311.39,\n",
       "  311.76,\n",
       "  959,\n",
       "  311.58,\n",
       "  290),\n",
       " (Timestamp('2020-06-04 16:40:00'),\n",
       "  311.75,\n",
       "  311.95,\n",
       "  311.75,\n",
       "  311.86,\n",
       "  800,\n",
       "  311.853,\n",
       "  285),\n",
       " (Timestamp('2020-06-04 16:50:00'),\n",
       "  311.87,\n",
       "  311.88,\n",
       "  311.69,\n",
       "  311.7,\n",
       "  913,\n",
       "  311.782,\n",
       "  212),\n",
       " (Timestamp('2020-06-04 17:00:00'),\n",
       "  311.73,\n",
       "  311.77,\n",
       "  311.63,\n",
       "  311.68,\n",
       "  204,\n",
       "  311.704,\n",
       "  51),\n",
       " (Timestamp('2020-06-04 17:10:00'),\n",
       "  311.69,\n",
       "  311.77,\n",
       "  311.64,\n",
       "  311.68,\n",
       "  71,\n",
       "  311.695,\n",
       "  31),\n",
       " (Timestamp('2020-06-04 17:20:00'),\n",
       "  311.67,\n",
       "  311.74,\n",
       "  311.6,\n",
       "  311.6,\n",
       "  153,\n",
       "  311.642,\n",
       "  57),\n",
       " (Timestamp('2020-06-04 17:30:00'),\n",
       "  311.62,\n",
       "  311.62,\n",
       "  311.58,\n",
       "  311.6,\n",
       "  239,\n",
       "  311.599,\n",
       "  39),\n",
       " (Timestamp('2020-06-04 17:40:00'),\n",
       "  311.61,\n",
       "  311.61,\n",
       "  311.58,\n",
       "  311.6,\n",
       "  79,\n",
       "  311.592,\n",
       "  30),\n",
       " (Timestamp('2020-06-04 17:50:00'),\n",
       "  311.58,\n",
       "  311.66,\n",
       "  311.36,\n",
       "  311.6,\n",
       "  615,\n",
       "  311.405,\n",
       "  28),\n",
       " (Timestamp('2020-06-04 18:00:00'),\n",
       "  311.63,\n",
       "  311.73,\n",
       "  311.59,\n",
       "  311.59,\n",
       "  180,\n",
       "  311.679,\n",
       "  52),\n",
       " (Timestamp('2020-06-04 18:10:00'),\n",
       "  311.59,\n",
       "  311.59,\n",
       "  311.5,\n",
       "  311.55,\n",
       "  95,\n",
       "  311.552,\n",
       "  37),\n",
       " (Timestamp('2020-06-04 18:20:00'),\n",
       "  311.51,\n",
       "  311.89,\n",
       "  311.48,\n",
       "  311.89,\n",
       "  255,\n",
       "  311.638,\n",
       "  92),\n",
       " (Timestamp('2020-06-04 18:30:00'),\n",
       "  311.81,\n",
       "  312.03,\n",
       "  311.79,\n",
       "  311.87,\n",
       "  336,\n",
       "  311.932,\n",
       "  92),\n",
       " (Timestamp('2020-06-04 18:40:00'),\n",
       "  311.9,\n",
       "  311.96,\n",
       "  311.79,\n",
       "  311.79,\n",
       "  44,\n",
       "  311.899,\n",
       "  20),\n",
       " (Timestamp('2020-06-04 18:50:00'),\n",
       "  311.76,\n",
       "  311.76,\n",
       "  311.55,\n",
       "  311.7,\n",
       "  217,\n",
       "  311.66,\n",
       "  51),\n",
       " (Timestamp('2020-06-04 19:00:00'),\n",
       "  311.75,\n",
       "  311.81,\n",
       "  311.5,\n",
       "  311.59,\n",
       "  101,\n",
       "  311.59,\n",
       "  41),\n",
       " (Timestamp('2020-06-04 19:10:00'),\n",
       "  311.53,\n",
       "  311.71,\n",
       "  311.47,\n",
       "  311.7,\n",
       "  122,\n",
       "  311.569,\n",
       "  44),\n",
       " (Timestamp('2020-06-04 19:20:00'),\n",
       "  311.71,\n",
       "  311.86,\n",
       "  311.71,\n",
       "  311.86,\n",
       "  148,\n",
       "  311.764,\n",
       "  41),\n",
       " (Timestamp('2020-06-04 19:30:00'),\n",
       "  311.83,\n",
       "  311.83,\n",
       "  311.55,\n",
       "  311.58,\n",
       "  120,\n",
       "  311.7,\n",
       "  39),\n",
       " (Timestamp('2020-06-04 19:40:00'),\n",
       "  311.59,\n",
       "  311.6,\n",
       "  311.16,\n",
       "  311.29,\n",
       "  938,\n",
       "  311.408,\n",
       "  225),\n",
       " (Timestamp('2020-06-04 19:50:00'),\n",
       "  311.26,\n",
       "  311.33,\n",
       "  311.15,\n",
       "  311.2,\n",
       "  512,\n",
       "  311.222,\n",
       "  136),\n",
       " (Timestamp('2020-06-05 04:00:00'),\n",
       "  314.69,\n",
       "  314.8,\n",
       "  314.35,\n",
       "  314.35,\n",
       "  290,\n",
       "  314.664,\n",
       "  68),\n",
       " (Timestamp('2020-06-05 04:10:00'),\n",
       "  314.4,\n",
       "  314.46,\n",
       "  314.35,\n",
       "  314.45,\n",
       "  47,\n",
       "  314.428,\n",
       "  15),\n",
       " (Timestamp('2020-06-05 04:20:00'),\n",
       "  314.5,\n",
       "  314.55,\n",
       "  314.38,\n",
       "  314.4,\n",
       "  31,\n",
       "  314.437,\n",
       "  12),\n",
       " (Timestamp('2020-06-05 04:30:00'),\n",
       "  314.49,\n",
       "  314.6,\n",
       "  314.39,\n",
       "  314.47,\n",
       "  34,\n",
       "  314.496,\n",
       "  15),\n",
       " (Timestamp('2020-06-05 04:40:00'),\n",
       "  314.4,\n",
       "  314.64,\n",
       "  314.4,\n",
       "  314.57,\n",
       "  118,\n",
       "  314.566,\n",
       "  28),\n",
       " (Timestamp('2020-06-05 04:50:00'),\n",
       "  314.58,\n",
       "  314.62,\n",
       "  313.71,\n",
       "  314.13,\n",
       "  246,\n",
       "  314.203,\n",
       "  62),\n",
       " (Timestamp('2020-06-05 05:00:00'),\n",
       "  314.22,\n",
       "  314.22,\n",
       "  314.13,\n",
       "  314.22,\n",
       "  37,\n",
       "  314.174,\n",
       "  19),\n",
       " (Timestamp('2020-06-05 05:10:00'),\n",
       "  314.24,\n",
       "  314.42,\n",
       "  314.15,\n",
       "  314.35,\n",
       "  128,\n",
       "  314.292,\n",
       "  36),\n",
       " (Timestamp('2020-06-05 05:20:00'),\n",
       "  314.2,\n",
       "  314.3,\n",
       "  313.77,\n",
       "  313.77,\n",
       "  256,\n",
       "  314.132,\n",
       "  73),\n",
       " (Timestamp('2020-06-05 05:30:00'),\n",
       "  313.71,\n",
       "  313.71,\n",
       "  313.42,\n",
       "  313.7,\n",
       "  234,\n",
       "  313.604,\n",
       "  68),\n",
       " (Timestamp('2020-06-05 05:40:00'),\n",
       "  313.71,\n",
       "  313.79,\n",
       "  313.7,\n",
       "  313.73,\n",
       "  37,\n",
       "  313.733,\n",
       "  15),\n",
       " (Timestamp('2020-06-05 05:50:00'),\n",
       "  313.87,\n",
       "  313.88,\n",
       "  313.75,\n",
       "  313.87,\n",
       "  68,\n",
       "  313.847,\n",
       "  20),\n",
       " (Timestamp('2020-06-05 06:00:00'),\n",
       "  313.8,\n",
       "  313.82,\n",
       "  313.33,\n",
       "  313.38,\n",
       "  182,\n",
       "  313.663,\n",
       "  53),\n",
       " (Timestamp('2020-06-05 06:10:00'),\n",
       "  313.42,\n",
       "  313.5,\n",
       "  313.17,\n",
       "  313.18,\n",
       "  118,\n",
       "  313.387,\n",
       "  35),\n",
       " (Timestamp('2020-06-05 06:20:00'),\n",
       "  313.2,\n",
       "  313.38,\n",
       "  313.19,\n",
       "  313.36,\n",
       "  326,\n",
       "  313.273,\n",
       "  92),\n",
       " (Timestamp('2020-06-05 06:30:00'),\n",
       "  313.22,\n",
       "  313.58,\n",
       "  313.22,\n",
       "  313.53,\n",
       "  68,\n",
       "  313.45,\n",
       "  35),\n",
       " (Timestamp('2020-06-05 06:40:00'),\n",
       "  313.55,\n",
       "  313.56,\n",
       "  313.4,\n",
       "  313.43,\n",
       "  96,\n",
       "  313.508,\n",
       "  27),\n",
       " (Timestamp('2020-06-05 06:50:00'),\n",
       "  313.5,\n",
       "  313.57,\n",
       "  313.5,\n",
       "  313.57,\n",
       "  116,\n",
       "  313.513,\n",
       "  21),\n",
       " (Timestamp('2020-06-05 07:00:00'),\n",
       "  313.58,\n",
       "  313.79,\n",
       "  313.57,\n",
       "  313.79,\n",
       "  441,\n",
       "  313.691,\n",
       "  146),\n",
       " (Timestamp('2020-06-05 07:10:00'),\n",
       "  313.76,\n",
       "  313.8,\n",
       "  313.7,\n",
       "  313.75,\n",
       "  241,\n",
       "  313.747,\n",
       "  83),\n",
       " (Timestamp('2020-06-05 07:20:00'),\n",
       "  313.79,\n",
       "  313.99,\n",
       "  313.76,\n",
       "  313.97,\n",
       "  618,\n",
       "  313.865,\n",
       "  157),\n",
       " (Timestamp('2020-06-05 07:30:00'),\n",
       "  313.95,\n",
       "  314.03,\n",
       "  313.9,\n",
       "  314.0,\n",
       "  949,\n",
       "  313.983,\n",
       "  315),\n",
       " (Timestamp('2020-06-05 07:40:00'),\n",
       "  314.0,\n",
       "  314.08,\n",
       "  313.94,\n",
       "  314.07,\n",
       "  472,\n",
       "  314.002,\n",
       "  133),\n",
       " (Timestamp('2020-06-05 07:50:00'),\n",
       "  314.06,\n",
       "  314.08,\n",
       "  313.83,\n",
       "  313.92,\n",
       "  352,\n",
       "  313.953,\n",
       "  117),\n",
       " (Timestamp('2020-06-05 08:00:00'),\n",
       "  313.87,\n",
       "  314.47,\n",
       "  312.72,\n",
       "  313.67,\n",
       "  1494,\n",
       "  313.793,\n",
       "  395),\n",
       " (Timestamp('2020-06-05 08:10:00'),\n",
       "  313.66,\n",
       "  313.83,\n",
       "  313.61,\n",
       "  313.63,\n",
       "  372,\n",
       "  313.701,\n",
       "  107),\n",
       " (Timestamp('2020-06-05 08:20:00'),\n",
       "  313.64,\n",
       "  313.76,\n",
       "  313.57,\n",
       "  313.75,\n",
       "  547,\n",
       "  313.668,\n",
       "  140),\n",
       " (Timestamp('2020-06-05 08:30:00'),\n",
       "  313.82,\n",
       "  316.49,\n",
       "  313.77,\n",
       "  316.34,\n",
       "  24084,\n",
       "  315.345,\n",
       "  6054),\n",
       " (Timestamp('2020-06-05 08:40:00'),\n",
       "  316.34,\n",
       "  316.74,\n",
       "  315.57,\n",
       "  315.61,\n",
       "  10011,\n",
       "  316.149,\n",
       "  2538),\n",
       " (Timestamp('2020-06-05 08:50:00'),\n",
       "  315.59,\n",
       "  316.34,\n",
       "  315.29,\n",
       "  316.3,\n",
       "  6345,\n",
       "  315.772,\n",
       "  1756),\n",
       " (Timestamp('2020-06-05 09:00:00'),\n",
       "  316.31,\n",
       "  317.79,\n",
       "  316.16,\n",
       "  317.62,\n",
       "  10056,\n",
       "  316.905,\n",
       "  3010),\n",
       " (Timestamp('2020-06-05 09:10:00'),\n",
       "  317.59,\n",
       "  318.12,\n",
       "  317.25,\n",
       "  318.08,\n",
       "  6285,\n",
       "  317.686,\n",
       "  1663),\n",
       " (Timestamp('2020-06-05 09:20:00'),\n",
       "  318.08,\n",
       "  318.16,\n",
       "  317.16,\n",
       "  317.26,\n",
       "  6773,\n",
       "  317.641,\n",
       "  2098),\n",
       " (Timestamp('2020-06-05 09:30:00'),\n",
       "  317.27,\n",
       "  318.03,\n",
       "  317.16,\n",
       "  317.83,\n",
       "  59624,\n",
       "  317.516,\n",
       "  26720),\n",
       " (Timestamp('2020-06-05 09:40:00'),\n",
       "  317.83,\n",
       "  318.53,\n",
       "  317.56,\n",
       "  318.21,\n",
       "  28350,\n",
       "  318.065,\n",
       "  14739),\n",
       " (Timestamp('2020-06-05 09:50:00'),\n",
       "  318.23,\n",
       "  318.65,\n",
       "  317.47,\n",
       "  317.65,\n",
       "  38427,\n",
       "  318.039,\n",
       "  20398),\n",
       " (Timestamp('2020-06-05 10:00:00'),\n",
       "  317.64,\n",
       "  318.46,\n",
       "  317.49,\n",
       "  318.15,\n",
       "  23655,\n",
       "  318.066,\n",
       "  12853),\n",
       " (Timestamp('2020-06-05 10:10:00'),\n",
       "  318.16,\n",
       "  318.68,\n",
       "  317.84,\n",
       "  318.22,\n",
       "  29167,\n",
       "  318.196,\n",
       "  13145),\n",
       " (Timestamp('2020-06-05 10:20:00'),\n",
       "  318.22,\n",
       "  318.38,\n",
       "  317.8,\n",
       "  318.05,\n",
       "  20515,\n",
       "  318.124,\n",
       "  10483),\n",
       " (Timestamp('2020-06-05 10:30:00'),\n",
       "  318.05,\n",
       "  318.62,\n",
       "  317.92,\n",
       "  318.38,\n",
       "  16384,\n",
       "  318.193,\n",
       "  8716),\n",
       " (Timestamp('2020-06-05 10:40:00'),\n",
       "  318.39,\n",
       "  318.68,\n",
       "  318.21,\n",
       "  318.57,\n",
       "  14516,\n",
       "  318.466,\n",
       "  7324),\n",
       " (Timestamp('2020-06-05 10:50:00'),\n",
       "  318.56,\n",
       "  319.19,\n",
       "  318.4,\n",
       "  319.15,\n",
       "  19930,\n",
       "  318.883,\n",
       "  9993),\n",
       " (Timestamp('2020-06-05 11:00:00'),\n",
       "  319.17,\n",
       "  319.77,\n",
       "  319.07,\n",
       "  319.48,\n",
       "  25113,\n",
       "  319.503,\n",
       "  11869),\n",
       " (Timestamp('2020-06-05 11:10:00'),\n",
       "  319.49,\n",
       "  319.86,\n",
       "  319.46,\n",
       "  319.84,\n",
       "  23583,\n",
       "  319.659,\n",
       "  10458),\n",
       " (Timestamp('2020-06-05 11:20:00'),\n",
       "  319.84,\n",
       "  320.67,\n",
       "  319.81,\n",
       "  320.61,\n",
       "  35090,\n",
       "  320.323,\n",
       "  13800),\n",
       " (Timestamp('2020-06-05 11:30:00'),\n",
       "  320.61,\n",
       "  321.28,\n",
       "  320.14,\n",
       "  320.27,\n",
       "  37637,\n",
       "  320.74,\n",
       "  15262),\n",
       " (Timestamp('2020-06-05 11:40:00'),\n",
       "  320.28,\n",
       "  320.41,\n",
       "  320.06,\n",
       "  320.38,\n",
       "  21312,\n",
       "  320.215,\n",
       "  9815),\n",
       " (Timestamp('2020-06-05 11:50:00'),\n",
       "  320.37,\n",
       "  320.72,\n",
       "  320.17,\n",
       "  320.32,\n",
       "  17091,\n",
       "  320.479,\n",
       "  8552),\n",
       " (Timestamp('2020-06-05 12:00:00'),\n",
       "  320.32,\n",
       "  320.45,\n",
       "  320.09,\n",
       "  320.29,\n",
       "  13575,\n",
       "  320.279,\n",
       "  6786),\n",
       " (Timestamp('2020-06-05 12:10:00'),\n",
       "  320.3,\n",
       "  320.37,\n",
       "  319.22,\n",
       "  319.35,\n",
       "  26726,\n",
       "  319.8,\n",
       "  11227),\n",
       " (Timestamp('2020-06-05 12:20:00'),\n",
       "  319.35,\n",
       "  319.95,\n",
       "  319.34,\n",
       "  319.88,\n",
       "  17068,\n",
       "  319.75,\n",
       "  8333),\n",
       " (Timestamp('2020-06-05 12:30:00'),\n",
       "  319.88,\n",
       "  320.33,\n",
       "  319.84,\n",
       "  320.32,\n",
       "  13861,\n",
       "  320.133,\n",
       "  6737),\n",
       " (Timestamp('2020-06-05 12:40:00'),\n",
       "  320.31,\n",
       "  320.35,\n",
       "  319.9,\n",
       "  320.09,\n",
       "  13981,\n",
       "  320.107,\n",
       "  6267),\n",
       " (Timestamp('2020-06-05 12:50:00'),\n",
       "  320.09,\n",
       "  320.17,\n",
       "  319.83,\n",
       "  320.13,\n",
       "  8309,\n",
       "  319.979,\n",
       "  4881),\n",
       " (Timestamp('2020-06-05 13:00:00'),\n",
       "  320.13,\n",
       "  320.24,\n",
       "  319.68,\n",
       "  320.1,\n",
       "  13555,\n",
       "  320.052,\n",
       "  6804),\n",
       " (Timestamp('2020-06-05 13:10:00'),\n",
       "  320.1,\n",
       "  320.28,\n",
       "  319.96,\n",
       "  320.27,\n",
       "  8224,\n",
       "  320.087,\n",
       "  4429),\n",
       " (Timestamp('2020-06-05 13:20:00'),\n",
       "  320.27,\n",
       "  320.66,\n",
       "  320.24,\n",
       "  320.65,\n",
       "  13118,\n",
       "  320.473,\n",
       "  5659),\n",
       " (Timestamp('2020-06-05 13:30:00'),\n",
       "  320.64,\n",
       "  320.74,\n",
       "  320.17,\n",
       "  320.18,\n",
       "  13464,\n",
       "  320.39,\n",
       "  6053),\n",
       " (Timestamp('2020-06-05 13:40:00'),\n",
       "  320.18,\n",
       "  320.4,\n",
       "  320.03,\n",
       "  320.05,\n",
       "  10946,\n",
       "  320.207,\n",
       "  4788),\n",
       " (Timestamp('2020-06-05 13:50:00'),\n",
       "  320.06,\n",
       "  320.21,\n",
       "  320.0,\n",
       "  320.07,\n",
       "  11602,\n",
       "  320.078,\n",
       "  4667),\n",
       " (Timestamp('2020-06-05 14:00:00'),\n",
       "  320.07,\n",
       "  320.61,\n",
       "  319.97,\n",
       "  320.1,\n",
       "  20201,\n",
       "  320.305,\n",
       "  9327),\n",
       " (Timestamp('2020-06-05 14:10:00'),\n",
       "  320.1,\n",
       "  320.24,\n",
       "  319.81,\n",
       "  320.0,\n",
       "  12288,\n",
       "  319.982,\n",
       "  5772),\n",
       " (Timestamp('2020-06-05 14:20:00'),\n",
       "  320.01,\n",
       "  320.31,\n",
       "  319.96,\n",
       "  320.2,\n",
       "  13352,\n",
       "  320.138,\n",
       "  5083),\n",
       " (Timestamp('2020-06-05 14:30:00'),\n",
       "  320.2,\n",
       "  320.41,\n",
       "  319.3,\n",
       "  320.18,\n",
       "  24987,\n",
       "  319.995,\n",
       "  11032),\n",
       " (Timestamp('2020-06-05 14:40:00'),\n",
       "  320.19,\n",
       "  320.56,\n",
       "  320.09,\n",
       "  320.2,\n",
       "  24270,\n",
       "  320.378,\n",
       "  10430),\n",
       " (Timestamp('2020-06-05 14:50:00'),\n",
       "  320.2,\n",
       "  320.4,\n",
       "  319.54,\n",
       "  319.7,\n",
       "  22184,\n",
       "  319.875,\n",
       "  9510),\n",
       " (Timestamp('2020-06-05 15:00:00'),\n",
       "  319.7,\n",
       "  319.99,\n",
       "  319.2,\n",
       "  319.4,\n",
       "  19976,\n",
       "  319.58,\n",
       "  8686),\n",
       " (Timestamp('2020-06-05 15:10:00'),\n",
       "  319.41,\n",
       "  319.45,\n",
       "  318.93,\n",
       "  319.41,\n",
       "  25777,\n",
       "  319.243,\n",
       "  11303),\n",
       " (Timestamp('2020-06-05 15:20:00'),\n",
       "  319.42,\n",
       "  320.14,\n",
       "  319.18,\n",
       "  320.09,\n",
       "  26135,\n",
       "  319.635,\n",
       "  11602),\n",
       " (Timestamp('2020-06-05 15:30:00'),\n",
       "  320.09,\n",
       "  320.1,\n",
       "  319.3,\n",
       "  319.48,\n",
       "  31302,\n",
       "  319.727,\n",
       "  12345),\n",
       " (Timestamp('2020-06-05 15:40:00'),\n",
       "  319.48,\n",
       "  319.48,\n",
       "  318.37,\n",
       "  318.76,\n",
       "  46692,\n",
       "  318.942,\n",
       "  18181),\n",
       " (Timestamp('2020-06-05 15:50:00'),\n",
       "  318.76,\n",
       "  319.61,\n",
       "  318.4,\n",
       "  319.28,\n",
       "  89901,\n",
       "  319.064,\n",
       "  34858),\n",
       " (Timestamp('2020-06-05 16:00:00'),\n",
       "  319.28,\n",
       "  319.59,\n",
       "  318.8,\n",
       "  319.07,\n",
       "  30763,\n",
       "  319.301,\n",
       "  3796),\n",
       " (Timestamp('2020-06-05 16:10:00'),\n",
       "  319.06,\n",
       "  319.06,\n",
       "  318.81,\n",
       "  319.01,\n",
       "  3087,\n",
       "  318.956,\n",
       "  1018),\n",
       " (Timestamp('2020-06-05 16:20:00'),\n",
       "  319.0,\n",
       "  319.34,\n",
       "  318.95,\n",
       "  319.0,\n",
       "  1607,\n",
       "  319.016,\n",
       "  354),\n",
       " (Timestamp('2020-06-05 16:30:00'),\n",
       "  319.04,\n",
       "  319.34,\n",
       "  318.85,\n",
       "  319.04,\n",
       "  2741,\n",
       "  319.156,\n",
       "  530),\n",
       " (Timestamp('2020-06-05 16:40:00'),\n",
       "  319.03,\n",
       "  319.09,\n",
       "  318.95,\n",
       "  319.03,\n",
       "  428,\n",
       "  319.031,\n",
       "  85),\n",
       " (Timestamp('2020-06-05 16:50:00'),\n",
       "  318.95,\n",
       "  318.98,\n",
       "  318.85,\n",
       "  318.85,\n",
       "  621,\n",
       "  318.904,\n",
       "  131),\n",
       " (Timestamp('2020-06-05 17:00:00'),\n",
       "  318.81,\n",
       "  318.99,\n",
       "  318.81,\n",
       "  318.92,\n",
       "  744,\n",
       "  318.923,\n",
       "  87),\n",
       " (Timestamp('2020-06-05 17:10:00'),\n",
       "  318.92,\n",
       "  319.04,\n",
       "  318.91,\n",
       "  319.01,\n",
       "  436,\n",
       "  318.965,\n",
       "  68),\n",
       " (Timestamp('2020-06-05 17:20:00'),\n",
       "  319.01,\n",
       "  319.03,\n",
       "  318.98,\n",
       "  318.98,\n",
       "  350,\n",
       "  319.002,\n",
       "  50),\n",
       " (Timestamp('2020-06-05 17:30:00'),\n",
       "  319.0,\n",
       "  319.34,\n",
       "  318.94,\n",
       "  318.95,\n",
       "  237,\n",
       "  319.145,\n",
       "  45),\n",
       " (Timestamp('2020-06-05 17:40:00'),\n",
       "  318.94,\n",
       "  318.94,\n",
       "  318.92,\n",
       "  318.93,\n",
       "  60,\n",
       "  318.931,\n",
       "  35),\n",
       " (Timestamp('2020-06-05 17:50:00'),\n",
       "  318.93,\n",
       "  319.34,\n",
       "  318.91,\n",
       "  318.92,\n",
       "  440,\n",
       "  319.243,\n",
       "  39),\n",
       " (Timestamp('2020-06-05 18:00:00'),\n",
       "  318.92,\n",
       "  318.93,\n",
       "  318.87,\n",
       "  318.93,\n",
       "  494,\n",
       "  318.906,\n",
       "  86),\n",
       " (Timestamp('2020-06-05 18:10:00'),\n",
       "  318.91,\n",
       "  318.93,\n",
       "  318.86,\n",
       "  318.93,\n",
       "  87,\n",
       "  318.905,\n",
       "  33),\n",
       " (Timestamp('2020-06-05 18:20:00'),\n",
       "  318.93,\n",
       "  318.97,\n",
       "  318.87,\n",
       "  318.87,\n",
       "  198,\n",
       "  318.925,\n",
       "  49),\n",
       " (Timestamp('2020-06-05 18:30:00'),\n",
       "  318.9,\n",
       "  318.98,\n",
       "  318.9,\n",
       "  318.91,\n",
       "  89,\n",
       "  318.92,\n",
       "  31),\n",
       " (Timestamp('2020-06-05 18:40:00'),\n",
       "  318.92,\n",
       "  318.95,\n",
       "  318.8,\n",
       "  318.8,\n",
       "  346,\n",
       "  318.833,\n",
       "  109),\n",
       " (Timestamp('2020-06-05 18:50:00'),\n",
       "  318.81,\n",
       "  318.9,\n",
       "  318.8,\n",
       "  318.9,\n",
       "  186,\n",
       "  318.863,\n",
       "  31),\n",
       " (Timestamp('2020-06-05 19:00:00'),\n",
       "  318.86,\n",
       "  318.94,\n",
       "  318.85,\n",
       "  318.86,\n",
       "  23,\n",
       "  318.87,\n",
       "  13),\n",
       " (Timestamp('2020-06-05 19:10:00'),\n",
       "  318.86,\n",
       "  319.05,\n",
       "  318.86,\n",
       "  319.05,\n",
       "  215,\n",
       "  319.001,\n",
       "  47),\n",
       " (Timestamp('2020-06-05 19:20:00'),\n",
       "  319.06,\n",
       "  319.15,\n",
       "  319.01,\n",
       "  319.01,\n",
       "  50,\n",
       "  319.083,\n",
       "  27),\n",
       " (Timestamp('2020-06-05 19:30:00'),\n",
       "  319.12,\n",
       "  319.2,\n",
       "  319.08,\n",
       "  319.11,\n",
       "  38,\n",
       "  319.144,\n",
       "  26),\n",
       " (Timestamp('2020-06-05 19:40:00'),\n",
       "  319.2,\n",
       "  319.2,\n",
       "  319.07,\n",
       "  319.1,\n",
       "  41,\n",
       "  319.107,\n",
       "  35),\n",
       " (Timestamp('2020-06-05 19:50:00'),\n",
       "  319.11,\n",
       "  319.26,\n",
       "  319.11,\n",
       "  319.15,\n",
       "  235,\n",
       "  319.193,\n",
       "  53),\n",
       " (Timestamp('2020-06-08 04:00:00'),\n",
       "  318.98,\n",
       "  319.18,\n",
       "  318.9,\n",
       "  319.18,\n",
       "  41,\n",
       "  319.023,\n",
       "  15),\n",
       " (Timestamp('2020-06-08 04:10:00'),\n",
       "  319.25,\n",
       "  319.61,\n",
       "  319.17,\n",
       "  319.61,\n",
       "  76,\n",
       "  319.339,\n",
       "  32),\n",
       " (Timestamp('2020-06-08 04:20:00'),\n",
       "  319.64,\n",
       "  319.76,\n",
       "  319.51,\n",
       "  319.7,\n",
       "  93,\n",
       "  319.633,\n",
       "  28),\n",
       " (Timestamp('2020-06-08 04:30:00'),\n",
       "  319.75,\n",
       "  319.8,\n",
       "  319.66,\n",
       "  319.68,\n",
       "  81,\n",
       "  319.719,\n",
       "  30),\n",
       " (Timestamp('2020-06-08 04:40:00'),\n",
       "  319.8,\n",
       "  320.17,\n",
       "  319.63,\n",
       "  320.17,\n",
       "  97,\n",
       "  319.893,\n",
       "  32),\n",
       " (Timestamp('2020-06-08 04:50:00'),\n",
       "  320.19,\n",
       "  320.6,\n",
       "  320.14,\n",
       "  320.56,\n",
       "  258,\n",
       "  320.343,\n",
       "  79),\n",
       " (Timestamp('2020-06-08 05:00:00'),\n",
       "  320.58,\n",
       "  320.81,\n",
       "  320.53,\n",
       "  320.65,\n",
       "  58,\n",
       "  320.665,\n",
       "  42),\n",
       " (Timestamp('2020-06-08 05:10:00'),\n",
       "  320.62,\n",
       "  320.73,\n",
       "  320.5,\n",
       "  320.65,\n",
       "  84,\n",
       "  320.653,\n",
       "  29),\n",
       " (Timestamp('2020-06-08 05:20:00'),\n",
       "  320.75,\n",
       "  320.75,\n",
       "  320.54,\n",
       "  320.56,\n",
       "  161,\n",
       "  320.62,\n",
       "  35),\n",
       " (Timestamp('2020-06-08 05:30:00'),\n",
       "  320.68,\n",
       "  320.93,\n",
       "  320.52,\n",
       "  320.52,\n",
       "  60,\n",
       "  320.782,\n",
       "  34),\n",
       " (Timestamp('2020-06-08 05:40:00'),\n",
       "  320.4,\n",
       "  320.42,\n",
       "  320.18,\n",
       "  320.18,\n",
       "  73,\n",
       "  320.308,\n",
       "  34),\n",
       " (Timestamp('2020-06-08 05:50:00'),\n",
       "  320.17,\n",
       "  320.27,\n",
       "  319.96,\n",
       "  320.16,\n",
       "  103,\n",
       "  320.131,\n",
       "  47),\n",
       " (Timestamp('2020-06-08 06:00:00'),\n",
       "  320.08,\n",
       "  320.35,\n",
       "  319.95,\n",
       "  320.35,\n",
       "  106,\n",
       "  320.201,\n",
       "  35),\n",
       " (Timestamp('2020-06-08 06:10:00'),\n",
       "  320.33,\n",
       "  320.33,\n",
       "  319.84,\n",
       "  319.97,\n",
       "  49,\n",
       "  319.984,\n",
       "  21),\n",
       " (Timestamp('2020-06-08 06:20:00'),\n",
       "  319.92,\n",
       "  320.2,\n",
       "  319.92,\n",
       "  320.13,\n",
       "  72,\n",
       "  320.081,\n",
       "  22),\n",
       " (Timestamp('2020-06-08 06:30:00'),\n",
       "  320.15,\n",
       "  320.53,\n",
       "  320.15,\n",
       "  320.53,\n",
       "  19,\n",
       "  320.319,\n",
       "  18),\n",
       " (Timestamp('2020-06-08 06:40:00'),\n",
       "  320.57,\n",
       "  320.74,\n",
       "  320.45,\n",
       "  320.54,\n",
       "  178,\n",
       "  320.55,\n",
       "  51),\n",
       " (Timestamp('2020-06-08 06:50:00'),\n",
       "  320.51,\n",
       "  320.51,\n",
       "  320.15,\n",
       "  320.19,\n",
       "  135,\n",
       "  320.396,\n",
       "  48),\n",
       " (Timestamp('2020-06-08 07:00:00'),\n",
       "  320.14,\n",
       "  320.48,\n",
       "  320.13,\n",
       "  320.48,\n",
       "  682,\n",
       "  320.323,\n",
       "  186),\n",
       " (Timestamp('2020-06-08 07:10:00'),\n",
       "  320.5,\n",
       "  320.82,\n",
       "  320.29,\n",
       "  320.81,\n",
       "  617,\n",
       "  320.581,\n",
       "  150),\n",
       " (Timestamp('2020-06-08 07:20:00'),\n",
       "  320.87,\n",
       "  320.87,\n",
       "  320.62,\n",
       "  320.73,\n",
       "  234,\n",
       "  320.75,\n",
       "  67),\n",
       " (Timestamp('2020-06-08 07:30:00'),\n",
       "  320.66,\n",
       "  320.93,\n",
       "  320.61,\n",
       "  320.82,\n",
       "  285,\n",
       "  320.771,\n",
       "  80),\n",
       " (Timestamp('2020-06-08 07:40:00'),\n",
       "  320.8,\n",
       "  321.05,\n",
       "  320.66,\n",
       "  320.66,\n",
       "  706,\n",
       "  320.901,\n",
       "  178),\n",
       " (Timestamp('2020-06-08 07:50:00'),\n",
       "  320.67,\n",
       "  321.0,\n",
       "  320.63,\n",
       "  320.82,\n",
       "  823,\n",
       "  320.767,\n",
       "  146),\n",
       " (Timestamp('2020-06-08 08:00:00'),\n",
       "  320.82,\n",
       "  321.03,\n",
       "  318.66,\n",
       "  320.6,\n",
       "  1246,\n",
       "  320.589,\n",
       "  302),\n",
       " (Timestamp('2020-06-08 08:10:00'),\n",
       "  320.57,\n",
       "  320.98,\n",
       "  320.48,\n",
       "  320.98,\n",
       "  504,\n",
       "  320.578,\n",
       "  151),\n",
       " (Timestamp('2020-06-08 08:20:00'),\n",
       "  320.99,\n",
       "  321.14,\n",
       "  320.91,\n",
       "  321.1,\n",
       "  1624,\n",
       "  321.039,\n",
       "  317),\n",
       " (Timestamp('2020-06-08 08:30:00'),\n",
       "  321.15,\n",
       "  321.31,\n",
       "  321.05,\n",
       "  321.05,\n",
       "  1035,\n",
       "  321.205,\n",
       "  247),\n",
       " (Timestamp('2020-06-08 08:40:00'),\n",
       "  321.04,\n",
       "  321.11,\n",
       "  320.87,\n",
       "  320.88,\n",
       "  536,\n",
       "  320.979,\n",
       "  157),\n",
       " (Timestamp('2020-06-08 08:50:00'),\n",
       "  320.87,\n",
       "  321.06,\n",
       "  320.85,\n",
       "  320.88,\n",
       "  314,\n",
       "  320.966,\n",
       "  118),\n",
       " (Timestamp('2020-06-08 09:00:00'),\n",
       "  320.9,\n",
       "  321.12,\n",
       "  320.89,\n",
       "  321.08,\n",
       "  517,\n",
       "  321.014,\n",
       "  150),\n",
       " (Timestamp('2020-06-08 09:10:00'),\n",
       "  321.06,\n",
       "  321.34,\n",
       "  321.05,\n",
       "  321.1,\n",
       "  1183,\n",
       "  321.179,\n",
       "  259),\n",
       " (Timestamp('2020-06-08 09:20:00'),\n",
       "  321.12,\n",
       "  321.12,\n",
       "  320.14,\n",
       "  320.22,\n",
       "  3397,\n",
       "  320.462,\n",
       "  806),\n",
       " (Timestamp('2020-06-08 09:30:00'),\n",
       "  320.22,\n",
       "  321.0,\n",
       "  320.15,\n",
       "  320.87,\n",
       "  36002,\n",
       "  320.664,\n",
       "  14026),\n",
       " (Timestamp('2020-06-08 09:40:00'),\n",
       "  320.88,\n",
       "  321.21,\n",
       "  320.38,\n",
       "  320.66,\n",
       "  33875,\n",
       "  320.771,\n",
       "  13745),\n",
       " (Timestamp('2020-06-08 09:50:00'),\n",
       "  320.66,\n",
       "  320.89,\n",
       "  320.38,\n",
       "  320.79,\n",
       "  25616,\n",
       "  320.586,\n",
       "  9270),\n",
       " (Timestamp('2020-06-08 10:00:00'),\n",
       "  320.79,\n",
       "  320.9,\n",
       "  320.01,\n",
       "  320.11,\n",
       "  20044,\n",
       "  320.295,\n",
       "  9879),\n",
       " (Timestamp('2020-06-08 10:10:00'),\n",
       "  320.1,\n",
       "  320.48,\n",
       "  319.96,\n",
       "  320.02,\n",
       "  13532,\n",
       "  320.224,\n",
       "  7390),\n",
       " (Timestamp('2020-06-08 10:20:00'),\n",
       "  320.03,\n",
       "  320.31,\n",
       "  319.69,\n",
       "  319.9,\n",
       "  17208,\n",
       "  320.036,\n",
       "  8707),\n",
       " (Timestamp('2020-06-08 10:30:00'),\n",
       "  319.89,\n",
       "  320.05,\n",
       "  319.63,\n",
       "  319.84,\n",
       "  13359,\n",
       "  319.834,\n",
       "  6522),\n",
       " (Timestamp('2020-06-08 10:40:00'),\n",
       "  319.85,\n",
       "  320.72,\n",
       "  319.79,\n",
       "  320.64,\n",
       "  18604,\n",
       "  320.406,\n",
       "  7181),\n",
       " (Timestamp('2020-06-08 10:50:00'),\n",
       "  320.64,\n",
       "  320.93,\n",
       "  320.62,\n",
       "  320.73,\n",
       "  11631,\n",
       "  320.765,\n",
       "  5612),\n",
       " (Timestamp('2020-06-08 11:00:00'),\n",
       "  320.75,\n",
       "  320.94,\n",
       "  320.67,\n",
       "  320.75,\n",
       "  9134,\n",
       "  320.801,\n",
       "  4987),\n",
       " (Timestamp('2020-06-08 11:10:00'),\n",
       "  320.75,\n",
       "  321.37,\n",
       "  320.75,\n",
       "  321.21,\n",
       "  17278,\n",
       "  321.166,\n",
       "  7053),\n",
       " (Timestamp('2020-06-08 11:20:00'),\n",
       "  321.2,\n",
       "  321.29,\n",
       "  321.1,\n",
       "  321.16,\n",
       "  10052,\n",
       "  321.207,\n",
       "  5134),\n",
       " (Timestamp('2020-06-08 11:30:00'),\n",
       "  321.16,\n",
       "  321.27,\n",
       "  320.61,\n",
       "  320.68,\n",
       "  9423,\n",
       "  320.967,\n",
       "  5125),\n",
       " (Timestamp('2020-06-08 11:40:00'),\n",
       "  320.68,\n",
       "  321.14,\n",
       "  320.6,\n",
       "  321.14,\n",
       "  11564,\n",
       "  320.787,\n",
       "  5959),\n",
       " (Timestamp('2020-06-08 11:50:00'),\n",
       "  321.14,\n",
       "  321.15,\n",
       "  320.83,\n",
       "  320.85,\n",
       "  5002,\n",
       "  320.999,\n",
       "  2808),\n",
       " (Timestamp('2020-06-08 12:00:00'),\n",
       "  320.86,\n",
       "  321.08,\n",
       "  320.77,\n",
       "  321.05,\n",
       "  4960,\n",
       "  320.89,\n",
       "  3096),\n",
       " (Timestamp('2020-06-08 12:10:00'),\n",
       "  321.04,\n",
       "  321.12,\n",
       "  320.48,\n",
       "  320.73,\n",
       "  7843,\n",
       "  320.772,\n",
       "  4032),\n",
       " (Timestamp('2020-06-08 12:20:00'),\n",
       "  320.73,\n",
       "  320.82,\n",
       "  320.52,\n",
       "  320.54,\n",
       "  6667,\n",
       "  320.668,\n",
       "  3358),\n",
       " (Timestamp('2020-06-08 12:30:00'),\n",
       "  320.55,\n",
       "  320.85,\n",
       "  320.51,\n",
       "  320.84,\n",
       "  4845,\n",
       "  320.688,\n",
       "  2758),\n",
       " (Timestamp('2020-06-08 12:40:00'),\n",
       "  320.83,\n",
       "  320.99,\n",
       "  320.78,\n",
       "  320.95,\n",
       "  4334,\n",
       "  320.875,\n",
       "  2511),\n",
       " (Timestamp('2020-06-08 12:50:00'),\n",
       "  320.96,\n",
       "  321.02,\n",
       "  320.82,\n",
       "  320.84,\n",
       "  4941,\n",
       "  320.92,\n",
       "  2920),\n",
       " (Timestamp('2020-06-08 13:00:00'),\n",
       "  320.84,\n",
       "  321.02,\n",
       "  320.74,\n",
       "  320.97,\n",
       "  5228,\n",
       "  320.859,\n",
       "  3045),\n",
       " (Timestamp('2020-06-08 13:10:00'),\n",
       "  320.97,\n",
       "  321.2,\n",
       "  320.97,\n",
       "  321.08,\n",
       "  6448,\n",
       "  321.101,\n",
       "  3689),\n",
       " (Timestamp('2020-06-08 13:20:00'),\n",
       "  321.07,\n",
       "  321.2,\n",
       "  321.03,\n",
       "  321.09,\n",
       "  4482,\n",
       "  321.106,\n",
       "  2487),\n",
       " (Timestamp('2020-06-08 13:30:00'),\n",
       "  321.09,\n",
       "  321.91,\n",
       "  320.93,\n",
       "  321.79,\n",
       "  17912,\n",
       "  321.482,\n",
       "  9037),\n",
       " (Timestamp('2020-06-08 13:40:00'),\n",
       "  321.78,\n",
       "  321.8,\n",
       "  321.57,\n",
       "  321.69,\n",
       "  7708,\n",
       "  321.677,\n",
       "  4223),\n",
       " (Timestamp('2020-06-08 13:50:00'),\n",
       "  321.7,\n",
       "  321.85,\n",
       "  321.6,\n",
       "  321.76,\n",
       "  8305,\n",
       "  321.703,\n",
       "  4463),\n",
       " (Timestamp('2020-06-08 14:00:00'),\n",
       "  321.77,\n",
       "  321.98,\n",
       "  321.62,\n",
       "  321.89,\n",
       "  7504,\n",
       "  321.864,\n",
       "  3800),\n",
       " (Timestamp('2020-06-08 14:10:00'),\n",
       "  321.89,\n",
       "  321.99,\n",
       "  321.77,\n",
       "  321.85,\n",
       "  5538,\n",
       "  321.878,\n",
       "  3084),\n",
       " (Timestamp('2020-06-08 14:20:00'),\n",
       "  321.84,\n",
       "  322.16,\n",
       "  321.81,\n",
       "  322.06,\n",
       "  10366,\n",
       "  321.976,\n",
       "  5028),\n",
       " (Timestamp('2020-06-08 14:30:00'),\n",
       "  322.06,\n",
       "  322.14,\n",
       "  321.77,\n",
       "  322.11,\n",
       "  9692,\n",
       "  321.982,\n",
       "  5158),\n",
       " (Timestamp('2020-06-08 14:40:00'),\n",
       "  322.11,\n",
       "  322.13,\n",
       "  321.82,\n",
       "  322.03,\n",
       "  11692,\n",
       "  321.995,\n",
       "  5750),\n",
       " (Timestamp('2020-06-08 14:50:00'),\n",
       "  322.04,\n",
       "  322.09,\n",
       "  321.89,\n",
       "  322.07,\n",
       "  7505,\n",
       "  321.999,\n",
       "  4264),\n",
       " (Timestamp('2020-06-08 15:00:00'),\n",
       "  322.06,\n",
       "  322.1,\n",
       "  321.72,\n",
       "  321.76,\n",
       "  9638,\n",
       "  321.886,\n",
       "  5180),\n",
       " (Timestamp('2020-06-08 15:10:00'),\n",
       "  321.75,\n",
       "  321.88,\n",
       "  321.67,\n",
       "  321.82,\n",
       "  10096,\n",
       "  321.779,\n",
       "  5247),\n",
       " (Timestamp('2020-06-08 15:20:00'),\n",
       "  321.82,\n",
       "  322.01,\n",
       "  321.78,\n",
       "  321.85,\n",
       "  7879,\n",
       "  321.915,\n",
       "  4629),\n",
       " (Timestamp('2020-06-08 15:30:00'),\n",
       "  321.85,\n",
       "  322.42,\n",
       "  321.79,\n",
       "  322.38,\n",
       "  17149,\n",
       "  322.136,\n",
       "  8510),\n",
       " (Timestamp('2020-06-08 15:40:00'),\n",
       "  322.39,\n",
       "  322.7,\n",
       "  322.31,\n",
       "  322.6,\n",
       "  28438,\n",
       "  322.521,\n",
       "  12992),\n",
       " (Timestamp('2020-06-08 15:50:00'),\n",
       "  322.6,\n",
       "  323.41,\n",
       "  322.34,\n",
       "  323.25,\n",
       "  90515,\n",
       "  322.979,\n",
       "  34367),\n",
       " (Timestamp('2020-06-08 16:00:00'),\n",
       "  323.25,\n",
       "  323.27,\n",
       "  322.63,\n",
       "  322.76,\n",
       "  33620,\n",
       "  323.071,\n",
       "  3603),\n",
       " (Timestamp('2020-06-08 16:10:00'),\n",
       "  322.77,\n",
       "  323.27,\n",
       "  322.77,\n",
       "  322.93,\n",
       "  4459,\n",
       "  322.991,\n",
       "  841),\n",
       " (Timestamp('2020-06-08 16:20:00'),\n",
       "  322.92,\n",
       "  323.2,\n",
       "  322.9,\n",
       "  322.96,\n",
       "  1473,\n",
       "  323.001,\n",
       "  226),\n",
       " (Timestamp('2020-06-08 16:30:00'),\n",
       "  322.95,\n",
       "  323.1,\n",
       "  322.84,\n",
       "  323.09,\n",
       "  1880,\n",
       "  322.957,\n",
       "  319),\n",
       " (Timestamp('2020-06-08 16:40:00'),\n",
       "  323.08,\n",
       "  323.08,\n",
       "  322.83,\n",
       "  323.01,\n",
       "  2107,\n",
       "  322.853,\n",
       "  99),\n",
       " (Timestamp('2020-06-08 16:50:00'),\n",
       "  323.03,\n",
       "  323.06,\n",
       "  322.9,\n",
       "  322.98,\n",
       "  484,\n",
       "  322.977,\n",
       "  127),\n",
       " (Timestamp('2020-06-08 17:00:00'),\n",
       "  322.99,\n",
       "  323.3,\n",
       "  322.93,\n",
       "  322.96,\n",
       "  657,\n",
       "  323.125,\n",
       "  107),\n",
       " (Timestamp('2020-06-08 17:10:00'),\n",
       "  323.01,\n",
       "  323.04,\n",
       "  323.01,\n",
       "  323.01,\n",
       "  241,\n",
       "  323.019,\n",
       "  67),\n",
       " (Timestamp('2020-06-08 17:20:00'),\n",
       "  323.01,\n",
       "  323.03,\n",
       "  323.0,\n",
       "  323.02,\n",
       "  177,\n",
       "  323.019,\n",
       "  50),\n",
       " (Timestamp('2020-06-08 17:30:00'),\n",
       "  323.02,\n",
       "  323.08,\n",
       "  322.96,\n",
       "  322.96,\n",
       "  303,\n",
       "  323.029,\n",
       "  91),\n",
       " (Timestamp('2020-06-08 17:40:00'),\n",
       "  323.0,\n",
       "  323.05,\n",
       "  322.99,\n",
       "  323.04,\n",
       "  166,\n",
       "  323.002,\n",
       "  35),\n",
       " (Timestamp('2020-06-08 17:50:00'),\n",
       "  323.04,\n",
       "  323.06,\n",
       "  323.01,\n",
       "  323.05,\n",
       "  146,\n",
       "  323.051,\n",
       "  58),\n",
       " (Timestamp('2020-06-08 18:00:00'),\n",
       "  323.07,\n",
       "  323.07,\n",
       "  322.56,\n",
       "  322.69,\n",
       "  1127,\n",
       "  322.796,\n",
       "  370),\n",
       " (Timestamp('2020-06-08 18:10:00'),\n",
       "  322.7,\n",
       "  322.7,\n",
       "  322.51,\n",
       "  322.55,\n",
       "  264,\n",
       "  322.578,\n",
       "  99),\n",
       " (Timestamp('2020-06-08 18:20:00'),\n",
       "  322.52,\n",
       "  322.68,\n",
       "  322.5,\n",
       "  322.68,\n",
       "  384,\n",
       "  322.596,\n",
       "  112),\n",
       " (Timestamp('2020-06-08 18:30:00'),\n",
       "  322.69,\n",
       "  322.74,\n",
       "  322.58,\n",
       "  322.65,\n",
       "  132,\n",
       "  322.63,\n",
       "  38),\n",
       " (Timestamp('2020-06-08 18:40:00'),\n",
       "  322.7,\n",
       "  322.7,\n",
       "  322.47,\n",
       "  322.47,\n",
       "  94,\n",
       "  322.546,\n",
       "  45),\n",
       " (Timestamp('2020-06-08 18:50:00'),\n",
       "  322.51,\n",
       "  322.6,\n",
       "  322.47,\n",
       "  322.54,\n",
       "  160,\n",
       "  322.554,\n",
       "  49),\n",
       " (Timestamp('2020-06-08 19:00:00'),\n",
       "  322.54,\n",
       "  322.59,\n",
       "  322.5,\n",
       "  322.56,\n",
       "  271,\n",
       "  322.551,\n",
       "  74),\n",
       " (Timestamp('2020-06-08 19:10:00'),\n",
       "  322.6,\n",
       "  322.86,\n",
       "  322.6,\n",
       "  322.76,\n",
       "  143,\n",
       "  322.739,\n",
       "  64),\n",
       " (Timestamp('2020-06-08 19:20:00'),\n",
       "  322.8,\n",
       "  322.8,\n",
       "  322.71,\n",
       "  322.8,\n",
       "  23,\n",
       "  322.763,\n",
       "  13),\n",
       " (Timestamp('2020-06-08 19:30:00'),\n",
       "  322.77,\n",
       "  322.77,\n",
       "  322.54,\n",
       "  322.6,\n",
       "  90,\n",
       "  322.655,\n",
       "  26),\n",
       " (Timestamp('2020-06-08 19:40:00'),\n",
       "  322.66,\n",
       "  322.66,\n",
       "  322.55,\n",
       "  322.55,\n",
       "  77,\n",
       "  322.586,\n",
       "  31),\n",
       " (Timestamp('2020-06-08 19:50:00'),\n",
       "  322.53,\n",
       "  322.79,\n",
       "  322.45,\n",
       "  322.61,\n",
       "  368,\n",
       "  322.632,\n",
       "  114),\n",
       " (Timestamp('2020-06-09 04:00:00'),\n",
       "  321.14,\n",
       "  321.37,\n",
       "  320.53,\n",
       "  320.53,\n",
       "  306,\n",
       "  321.052,\n",
       "  87),\n",
       " (Timestamp('2020-06-09 04:10:00'),\n",
       "  320.51,\n",
       "  320.69,\n",
       "  319.9,\n",
       "  320.04,\n",
       "  383,\n",
       "  320.417,\n",
       "  118),\n",
       " (Timestamp('2020-06-09 04:20:00'),\n",
       "  320.08,\n",
       "  320.41,\n",
       "  319.98,\n",
       "  320.16,\n",
       "  177,\n",
       "  320.21,\n",
       "  43),\n",
       " (Timestamp('2020-06-09 04:30:00'),\n",
       "  320.2,\n",
       "  320.39,\n",
       "  319.61,\n",
       "  319.64,\n",
       "  265,\n",
       "  319.835,\n",
       "  85),\n",
       " (Timestamp('2020-06-09 04:40:00'),\n",
       "  319.69,\n",
       "  320.13,\n",
       "  319.33,\n",
       "  320.0,\n",
       "  224,\n",
       "  319.58,\n",
       "  69),\n",
       " (Timestamp('2020-06-09 04:50:00'),\n",
       "  319.91,\n",
       "  320.22,\n",
       "  319.67,\n",
       "  319.67,\n",
       "  52,\n",
       "  319.979,\n",
       "  26),\n",
       " (Timestamp('2020-06-09 05:00:00'),\n",
       "  319.82,\n",
       "  320.2,\n",
       "  319.82,\n",
       "  320.06,\n",
       "  267,\n",
       "  320.015,\n",
       "  65),\n",
       " (Timestamp('2020-06-09 05:10:00'),\n",
       "  320.0,\n",
       "  320.06,\n",
       "  319.7,\n",
       "  319.88,\n",
       "  188,\n",
       "  319.789,\n",
       "  60),\n",
       " (Timestamp('2020-06-09 05:20:00'),\n",
       "  320.03,\n",
       "  320.49,\n",
       "  319.95,\n",
       "  320.35,\n",
       "  246,\n",
       "  320.251,\n",
       "  69),\n",
       " (Timestamp('2020-06-09 05:30:00'),\n",
       "  320.4,\n",
       "  320.46,\n",
       "  320.1,\n",
       "  320.1,\n",
       "  279,\n",
       "  320.304,\n",
       "  77),\n",
       " (Timestamp('2020-06-09 05:40:00'),\n",
       "  320.1,\n",
       "  320.21,\n",
       "  319.73,\n",
       "  319.76,\n",
       "  302,\n",
       "  319.97,\n",
       "  53),\n",
       " (Timestamp('2020-06-09 05:50:00'),\n",
       "  319.74,\n",
       "  319.85,\n",
       "  319.54,\n",
       "  319.71,\n",
       "  511,\n",
       "  319.749,\n",
       "  121),\n",
       " (Timestamp('2020-06-09 06:00:00'),\n",
       "  319.77,\n",
       "  319.97,\n",
       "  319.66,\n",
       "  319.91,\n",
       "  206,\n",
       "  319.754,\n",
       "  69),\n",
       " (Timestamp('2020-06-09 06:10:00'),\n",
       "  319.93,\n",
       "  320.0,\n",
       "  319.34,\n",
       "  319.64,\n",
       "  180,\n",
       "  319.687,\n",
       "  61),\n",
       " (Timestamp('2020-06-09 06:20:00'),\n",
       "  319.7,\n",
       "  319.91,\n",
       "  319.41,\n",
       "  319.41,\n",
       "  216,\n",
       "  319.675,\n",
       "  54),\n",
       " (Timestamp('2020-06-09 06:30:00'),\n",
       "  319.51,\n",
       "  320.07,\n",
       "  319.51,\n",
       "  319.97,\n",
       "  288,\n",
       "  319.935,\n",
       "  72),\n",
       " (Timestamp('2020-06-09 06:40:00'),\n",
       "  320.0,\n",
       "  320.2,\n",
       "  319.9,\n",
       "  319.96,\n",
       "  216,\n",
       "  320.071,\n",
       "  41),\n",
       " (Timestamp('2020-06-09 06:50:00'),\n",
       "  320.01,\n",
       "  320.35,\n",
       "  320.01,\n",
       "  320.25,\n",
       "  1301,\n",
       "  320.227,\n",
       "  197),\n",
       " (Timestamp('2020-06-09 07:00:00'),\n",
       "  320.27,\n",
       "  320.44,\n",
       "  320.15,\n",
       "  320.29,\n",
       "  917,\n",
       "  320.341,\n",
       "  232),\n",
       " (Timestamp('2020-06-09 07:10:00'),\n",
       "  320.29,\n",
       "  320.34,\n",
       "  319.9,\n",
       "  320.05,\n",
       "  723,\n",
       "  320.148,\n",
       "  226),\n",
       " (Timestamp('2020-06-09 07:20:00'),\n",
       "  320.07,\n",
       "  320.35,\n",
       "  319.92,\n",
       "  320.0,\n",
       "  855,\n",
       "  320.196,\n",
       "  256),\n",
       " (Timestamp('2020-06-09 07:30:00'),\n",
       "  320.04,\n",
       "  320.34,\n",
       "  319.9,\n",
       "  320.21,\n",
       "  1339,\n",
       "  320.131,\n",
       "  345),\n",
       " (Timestamp('2020-06-09 07:40:00'),\n",
       "  320.22,\n",
       "  320.86,\n",
       "  320.22,\n",
       "  320.82,\n",
       "  1209,\n",
       "  320.575,\n",
       "  300),\n",
       " (Timestamp('2020-06-09 07:50:00'),\n",
       "  320.78,\n",
       "  320.81,\n",
       "  320.51,\n",
       "  320.52,\n",
       "  956,\n",
       "  320.696,\n",
       "  220),\n",
       " (Timestamp('2020-06-09 08:00:00'),\n",
       "  320.51,\n",
       "  323.24,\n",
       "  319.47,\n",
       "  320.4,\n",
       "  1959,\n",
       "  320.555,\n",
       "  465),\n",
       " (Timestamp('2020-06-09 08:10:00'),\n",
       "  320.47,\n",
       "  320.65,\n",
       "  320.4,\n",
       "  320.65,\n",
       "  611,\n",
       "  320.518,\n",
       "  153),\n",
       " (Timestamp('2020-06-09 08:20:00'),\n",
       "  320.67,\n",
       "  320.84,\n",
       "  320.5,\n",
       "  320.61,\n",
       "  629,\n",
       "  320.647,\n",
       "  189),\n",
       " (Timestamp('2020-06-09 08:30:00'),\n",
       "  320.55,\n",
       "  320.74,\n",
       "  320.13,\n",
       "  320.23,\n",
       "  1055,\n",
       "  320.336,\n",
       "  266),\n",
       " (Timestamp('2020-06-09 08:40:00'),\n",
       "  320.21,\n",
       "  320.21,\n",
       "  319.73,\n",
       "  319.93,\n",
       "  1565,\n",
       "  319.929,\n",
       "  396),\n",
       " (Timestamp('2020-06-09 08:50:00'),\n",
       "  319.95,\n",
       "  320.18,\n",
       "  319.94,\n",
       "  319.97,\n",
       "  2579,\n",
       "  320.083,\n",
       "  778),\n",
       " (Timestamp('2020-06-09 09:00:00'),\n",
       "  319.95,\n",
       "  320.06,\n",
       "  319.78,\n",
       "  319.91,\n",
       "  1106,\n",
       "  319.92,\n",
       "  281),\n",
       " (Timestamp('2020-06-09 09:10:00'),\n",
       "  319.91,\n",
       "  320.17,\n",
       "  319.79,\n",
       "  320.11,\n",
       "  1118,\n",
       "  319.984,\n",
       "  266),\n",
       " (Timestamp('2020-06-09 09:20:00'),\n",
       "  320.09,\n",
       "  320.33,\n",
       "  320.05,\n",
       "  320.24,\n",
       "  1122,\n",
       "  320.211,\n",
       "  314),\n",
       " (Timestamp('2020-06-09 09:30:00'),\n",
       "  320.29,\n",
       "  320.76,\n",
       "  319.65,\n",
       "  320.13,\n",
       "  32357,\n",
       "  320.159,\n",
       "  14174),\n",
       " (Timestamp('2020-06-09 09:40:00'),\n",
       "  320.14,\n",
       "  320.64,\n",
       "  319.9,\n",
       "  320.25,\n",
       "  16907,\n",
       "  320.371,\n",
       "  8709),\n",
       " (Timestamp('2020-06-09 09:50:00'),\n",
       "  320.25,\n",
       "  320.38,\n",
       "  319.68,\n",
       "  319.76,\n",
       "  16785,\n",
       "  320.054,\n",
       "  7876),\n",
       " (Timestamp('2020-06-09 10:00:00'),\n",
       "  319.79,\n",
       "  319.9,\n",
       "  319.38,\n",
       "  319.67,\n",
       "  21362,\n",
       "  319.611,\n",
       "  9946),\n",
       " (Timestamp('2020-06-09 10:10:00'),\n",
       "  319.66,\n",
       "  320.24,\n",
       "  319.36,\n",
       "  320.22,\n",
       "  21877,\n",
       "  319.651,\n",
       "  10034),\n",
       " (Timestamp('2020-06-09 10:20:00'),\n",
       "  320.21,\n",
       "  320.45,\n",
       "  320.04,\n",
       "  320.12,\n",
       "  17259,\n",
       "  320.247,\n",
       "  8039),\n",
       " (Timestamp('2020-06-09 10:30:00'),\n",
       "  320.11,\n",
       "  320.27,\n",
       "  320.03,\n",
       "  320.15,\n",
       "  11337,\n",
       "  320.158,\n",
       "  5619),\n",
       " (Timestamp('2020-06-09 10:40:00'),\n",
       "  320.16,\n",
       "  321.23,\n",
       "  320.14,\n",
       "  321.22,\n",
       "  19767,\n",
       "  320.717,\n",
       "  8140),\n",
       " (Timestamp('2020-06-09 10:50:00'),\n",
       "  321.23,\n",
       "  321.69,\n",
       "  321.15,\n",
       "  321.37,\n",
       "  17838,\n",
       "  321.439,\n",
       "  7544),\n",
       " (Timestamp('2020-06-09 11:00:00'),\n",
       "  321.37,\n",
       "  321.75,\n",
       "  321.17,\n",
       "  321.47,\n",
       "  15647,\n",
       "  321.406,\n",
       "  6898),\n",
       " (Timestamp('2020-06-09 11:10:00'),\n",
       "  321.46,\n",
       "  321.66,\n",
       "  320.93,\n",
       "  321.24,\n",
       "  14554,\n",
       "  321.22,\n",
       "  6627),\n",
       " (Timestamp('2020-06-09 11:20:00'),\n",
       "  321.23,\n",
       "  321.53,\n",
       "  321.17,\n",
       "  321.31,\n",
       "  11678,\n",
       "  321.321,\n",
       "  5839),\n",
       " (Timestamp('2020-06-09 11:30:00'),\n",
       "  321.32,\n",
       "  321.41,\n",
       "  320.7,\n",
       "  320.79,\n",
       "  12839,\n",
       "  321.027,\n",
       "  6809),\n",
       " (Timestamp('2020-06-09 11:40:00'),\n",
       "  320.79,\n",
       "  320.92,\n",
       "  320.47,\n",
       "  320.54,\n",
       "  8866,\n",
       "  320.733,\n",
       "  4351),\n",
       " (Timestamp('2020-06-09 11:50:00'),\n",
       "  320.55,\n",
       "  320.73,\n",
       "  320.51,\n",
       "  320.62,\n",
       "  7042,\n",
       "  320.65,\n",
       "  3474),\n",
       " (Timestamp('2020-06-09 12:00:00'),\n",
       "  320.63,\n",
       "  320.72,\n",
       "  320.16,\n",
       "  320.61,\n",
       "  10083,\n",
       "  320.464,\n",
       "  4623),\n",
       " (Timestamp('2020-06-09 12:10:00'),\n",
       "  320.6,\n",
       "  320.84,\n",
       "  320.59,\n",
       "  320.78,\n",
       "  7599,\n",
       "  320.737,\n",
       "  4269),\n",
       " (Timestamp('2020-06-09 12:20:00'),\n",
       "  320.78,\n",
       "  320.99,\n",
       "  320.76,\n",
       "  320.98,\n",
       "  6210,\n",
       "  320.908,\n",
       "  3420),\n",
       " (Timestamp('2020-06-09 12:30:00'),\n",
       "  320.98,\n",
       "  321.25,\n",
       "  320.33,\n",
       "  321.22,\n",
       "  6902,\n",
       "  321.0,\n",
       "  3562),\n",
       " (Timestamp('2020-06-09 12:40:00'),\n",
       "  321.22,\n",
       "  321.27,\n",
       "  321.11,\n",
       "  321.19,\n",
       "  6105,\n",
       "  321.184,\n",
       "  2845),\n",
       " (Timestamp('2020-06-09 12:50:00'),\n",
       "  321.19,\n",
       "  321.45,\n",
       "  321.14,\n",
       "  321.42,\n",
       "  4752,\n",
       "  321.273,\n",
       "  2693),\n",
       " (Timestamp('2020-06-09 13:00:00'),\n",
       "  321.41,\n",
       "  321.55,\n",
       "  321.34,\n",
       "  321.44,\n",
       "  7466,\n",
       "  321.432,\n",
       "  4022),\n",
       " (Timestamp('2020-06-09 13:10:00'),\n",
       "  321.44,\n",
       "  321.5,\n",
       "  321.26,\n",
       "  321.42,\n",
       "  5393,\n",
       "  321.378,\n",
       "  3032),\n",
       " (Timestamp('2020-06-09 13:20:00'),\n",
       "  321.41,\n",
       "  321.94,\n",
       "  321.41,\n",
       "  321.94,\n",
       "  10585,\n",
       "  321.78,\n",
       "  4977),\n",
       " (Timestamp('2020-06-09 13:30:00'),\n",
       "  321.93,\n",
       "  322.12,\n",
       "  321.87,\n",
       "  321.95,\n",
       "  10218,\n",
       "  321.982,\n",
       "  4663),\n",
       " (Timestamp('2020-06-09 13:40:00'),\n",
       "  321.96,\n",
       "  322.22,\n",
       "  321.95,\n",
       "  322.02,\n",
       "  9393,\n",
       "  322.072,\n",
       "  4205),\n",
       " (Timestamp('2020-06-09 13:50:00'),\n",
       "  322.01,\n",
       "  322.03,\n",
       "  321.87,\n",
       "  321.97,\n",
       "  5684,\n",
       "  321.953,\n",
       "  2785),\n",
       " (Timestamp('2020-06-09 14:00:00'),\n",
       "  321.97,\n",
       "  322.08,\n",
       "  321.33,\n",
       "  321.35,\n",
       "  13286,\n",
       "  321.588,\n",
       "  6384),\n",
       " (Timestamp('2020-06-09 14:10:00'),\n",
       "  321.36,\n",
       "  321.68,\n",
       "  321.16,\n",
       "  321.19,\n",
       "  8021,\n",
       "  321.504,\n",
       "  4146),\n",
       " (Timestamp('2020-06-09 14:20:00'),\n",
       "  321.19,\n",
       "  321.25,\n",
       "  320.95,\n",
       "  321.01,\n",
       "  14562,\n",
       "  321.055,\n",
       "  6102),\n",
       " (Timestamp('2020-06-09 14:30:00'),\n",
       "  321.01,\n",
       "  321.45,\n",
       "  320.96,\n",
       "  321.23,\n",
       "  12061,\n",
       "  321.166,\n",
       "  6459),\n",
       " (Timestamp('2020-06-09 14:40:00'),\n",
       "  321.23,\n",
       "  321.66,\n",
       "  321.11,\n",
       "  321.62,\n",
       "  10401,\n",
       "  321.364,\n",
       "  5370),\n",
       " (Timestamp('2020-06-09 14:50:00'),\n",
       "  321.62,\n",
       "  321.75,\n",
       "  321.37,\n",
       "  321.71,\n",
       "  8524,\n",
       "  321.571,\n",
       "  4471),\n",
       " (Timestamp('2020-06-09 15:00:00'),\n",
       "  321.7,\n",
       "  321.78,\n",
       "  321.33,\n",
       "  321.64,\n",
       "  10146,\n",
       "  321.547,\n",
       "  5287),\n",
       " (Timestamp('2020-06-09 15:10:00'),\n",
       "  321.65,\n",
       "  322.16,\n",
       "  321.47,\n",
       "  322.13,\n",
       "  16654,\n",
       "  321.882,\n",
       "  8536),\n",
       " (Timestamp('2020-06-09 15:20:00'),\n",
       "  322.13,\n",
       "  322.37,\n",
       "  321.96,\n",
       "  322.21,\n",
       "  14652,\n",
       "  322.168,\n",
       "  7087),\n",
       " (Timestamp('2020-06-09 15:30:00'),\n",
       "  322.21,\n",
       "  322.22,\n",
       "  321.51,\n",
       "  321.93,\n",
       "  16981,\n",
       "  321.794,\n",
       "  8494),\n",
       " (Timestamp('2020-06-09 15:40:00'),\n",
       "  321.92,\n",
       "  322.19,\n",
       "  321.1,\n",
       "  321.24,\n",
       "  22279,\n",
       "  321.533,\n",
       "  11102),\n",
       " (Timestamp('2020-06-09 15:50:00'),\n",
       "  321.24,\n",
       "  321.24,\n",
       "  320.48,\n",
       "  320.81,\n",
       "  72849,\n",
       "  320.887,\n",
       "  29380),\n",
       " (Timestamp('2020-06-09 16:00:00'),\n",
       "  320.82,\n",
       "  321.41,\n",
       "  320.74,\n",
       "  320.96,\n",
       "  24616,\n",
       "  320.927,\n",
       "  3708),\n",
       " (Timestamp('2020-06-09 16:10:00'),\n",
       "  320.96,\n",
       "  321.0,\n",
       "  320.7,\n",
       "  320.77,\n",
       "  3769,\n",
       "  320.838,\n",
       "  1066),\n",
       " (Timestamp('2020-06-09 16:20:00'),\n",
       "  320.76,\n",
       "  320.77,\n",
       "  320.67,\n",
       "  320.72,\n",
       "  1131,\n",
       "  320.702,\n",
       "  277),\n",
       " (Timestamp('2020-06-09 16:30:00'),\n",
       "  320.72,\n",
       "  320.76,\n",
       "  320.44,\n",
       "  320.5,\n",
       "  1055,\n",
       "  320.593,\n",
       "  345),\n",
       " (Timestamp('2020-06-09 16:40:00'),\n",
       "  320.5,\n",
       "  320.62,\n",
       "  320.47,\n",
       "  320.53,\n",
       "  996,\n",
       "  320.532,\n",
       "  241),\n",
       " (Timestamp('2020-06-09 16:50:00'),\n",
       "  320.59,\n",
       "  320.77,\n",
       "  320.59,\n",
       "  320.75,\n",
       "  984,\n",
       "  320.705,\n",
       "  275),\n",
       " (Timestamp('2020-06-09 17:00:00'),\n",
       "  320.75,\n",
       "  320.8,\n",
       "  320.66,\n",
       "  320.67,\n",
       "  200,\n",
       "  320.725,\n",
       "  46),\n",
       " (Timestamp('2020-06-09 17:10:00'),\n",
       "  320.71,\n",
       "  320.79,\n",
       "  320.65,\n",
       "  320.72,\n",
       "  304,\n",
       "  320.764,\n",
       "  31),\n",
       " (Timestamp('2020-06-09 17:20:00'),\n",
       "  320.72,\n",
       "  320.77,\n",
       "  320.66,\n",
       "  320.66,\n",
       "  104,\n",
       "  320.721,\n",
       "  48),\n",
       " (Timestamp('2020-06-09 17:30:00'),\n",
       "  320.69,\n",
       "  320.69,\n",
       "  320.63,\n",
       "  320.63,\n",
       "  95,\n",
       "  320.652,\n",
       "  32),\n",
       " (Timestamp('2020-06-09 17:40:00'),\n",
       "  320.64,\n",
       "  320.66,\n",
       "  320.63,\n",
       "  320.63,\n",
       "  81,\n",
       "  320.65,\n",
       "  27),\n",
       " (Timestamp('2020-06-09 17:50:00'),\n",
       "  320.66,\n",
       "  320.86,\n",
       "  320.63,\n",
       "  320.78,\n",
       "  166,\n",
       "  320.773,\n",
       "  67),\n",
       " (Timestamp('2020-06-09 18:00:00'),\n",
       "  320.75,\n",
       "  321.02,\n",
       "  320.75,\n",
       "  320.97,\n",
       "  353,\n",
       "  320.933,\n",
       "  93),\n",
       " (Timestamp('2020-06-09 18:10:00'),\n",
       "  320.98,\n",
       "  321.09,\n",
       "  320.86,\n",
       "  320.93,\n",
       "  111,\n",
       "  320.941,\n",
       "  46),\n",
       " (Timestamp('2020-06-09 18:20:00'),\n",
       "  320.99,\n",
       "  321.01,\n",
       "  320.94,\n",
       "  320.96,\n",
       "  289,\n",
       "  320.981,\n",
       "  70),\n",
       " (Timestamp('2020-06-09 18:30:00'),\n",
       "  320.96,\n",
       "  321.27,\n",
       "  320.8,\n",
       "  321.27,\n",
       "  161,\n",
       "  321.114,\n",
       "  55),\n",
       " (Timestamp('2020-06-09 18:40:00'),\n",
       "  321.25,\n",
       "  321.45,\n",
       "  321.18,\n",
       "  321.4,\n",
       "  268,\n",
       "  321.381,\n",
       "  71),\n",
       " (Timestamp('2020-06-09 18:50:00'),\n",
       "  321.39,\n",
       "  321.54,\n",
       "  321.36,\n",
       "  321.43,\n",
       "  179,\n",
       "  321.468,\n",
       "  51),\n",
       " (Timestamp('2020-06-09 19:00:00'),\n",
       "  321.4,\n",
       "  321.4,\n",
       "  321.25,\n",
       "  321.28,\n",
       "  62,\n",
       "  321.292,\n",
       "  17),\n",
       " (Timestamp('2020-06-09 19:10:00'),\n",
       "  321.25,\n",
       "  321.26,\n",
       "  321.0,\n",
       "  321.02,\n",
       "  137,\n",
       "  321.103,\n",
       "  48),\n",
       " (Timestamp('2020-06-09 19:20:00'),\n",
       "  321.03,\n",
       "  321.3,\n",
       "  320.96,\n",
       "  321.3,\n",
       "  61,\n",
       "  321.104,\n",
       "  23),\n",
       " (Timestamp('2020-06-09 19:30:00'),\n",
       "  321.29,\n",
       "  321.7,\n",
       "  321.19,\n",
       "  321.53,\n",
       "  472,\n",
       "  321.558,\n",
       "  137),\n",
       " (Timestamp('2020-06-09 19:40:00'),\n",
       "  321.58,\n",
       "  321.66,\n",
       "  321.43,\n",
       "  321.6,\n",
       "  121,\n",
       "  321.55,\n",
       "  44),\n",
       " (Timestamp('2020-06-09 19:50:00'),\n",
       "  321.58,\n",
       "  321.95,\n",
       "  321.53,\n",
       "  321.92,\n",
       "  671,\n",
       "  321.853,\n",
       "  139),\n",
       " (Timestamp('2020-06-10 04:00:00'),\n",
       "  322.42,\n",
       "  322.42,\n",
       "  321.88,\n",
       "  322.04,\n",
       "  129,\n",
       "  322.133,\n",
       "  55),\n",
       " (Timestamp('2020-06-10 04:10:00'),\n",
       "  321.93,\n",
       "  322.3,\n",
       "  321.92,\n",
       "  322.3,\n",
       "  52,\n",
       "  322.146,\n",
       "  21),\n",
       " (Timestamp('2020-06-10 04:20:00'),\n",
       "  322.3,\n",
       "  322.36,\n",
       "  322.1,\n",
       "  322.36,\n",
       "  71,\n",
       "  322.164,\n",
       "  18),\n",
       " (Timestamp('2020-06-10 04:30:00'),\n",
       "  322.26,\n",
       "  322.47,\n",
       "  322.26,\n",
       "  322.37,\n",
       "  115,\n",
       "  322.393,\n",
       "  29),\n",
       " (Timestamp('2020-06-10 04:40:00'),\n",
       "  322.33,\n",
       "  322.33,\n",
       "  321.98,\n",
       "  321.98,\n",
       "  54,\n",
       "  322.163,\n",
       "  23),\n",
       " (Timestamp('2020-06-10 04:50:00'),\n",
       "  321.88,\n",
       "  321.88,\n",
       "  321.42,\n",
       "  321.47,\n",
       "  87,\n",
       "  321.564,\n",
       "  34),\n",
       " (Timestamp('2020-06-10 05:00:00'),\n",
       "  321.36,\n",
       "  321.36,\n",
       "  320.2,\n",
       "  320.8,\n",
       "  253,\n",
       "  320.75,\n",
       "  99),\n",
       " (Timestamp('2020-06-10 05:10:00'),\n",
       "  320.75,\n",
       "  320.97,\n",
       "  320.42,\n",
       "  320.42,\n",
       "  44,\n",
       "  320.816,\n",
       "  25),\n",
       " (Timestamp('2020-06-10 05:20:00'),\n",
       "  320.47,\n",
       "  320.87,\n",
       "  320.36,\n",
       "  320.48,\n",
       "  100,\n",
       "  320.579,\n",
       "  40),\n",
       " (Timestamp('2020-06-10 05:30:00'),\n",
       "  320.6,\n",
       "  320.83,\n",
       "  320.6,\n",
       "  320.77,\n",
       "  120,\n",
       "  320.727,\n",
       "  31),\n",
       " (Timestamp('2020-06-10 05:40:00'),\n",
       "  320.8,\n",
       "  320.88,\n",
       "  320.4,\n",
       "  320.5,\n",
       "  16,\n",
       "  320.611,\n",
       "  11),\n",
       " (Timestamp('2020-06-10 05:50:00'),\n",
       "  320.65,\n",
       "  320.72,\n",
       "  320.52,\n",
       "  320.7,\n",
       "  50,\n",
       "  320.595,\n",
       "  20),\n",
       " (Timestamp('2020-06-10 06:00:00'),\n",
       "  320.61,\n",
       "  320.61,\n",
       "  319.8,\n",
       "  319.92,\n",
       "  222,\n",
       "  320.043,\n",
       "  73),\n",
       " (Timestamp('2020-06-10 06:10:00'),\n",
       "  320.0,\n",
       "  320.1,\n",
       "  319.6,\n",
       "  319.87,\n",
       "  227,\n",
       "  319.868,\n",
       "  73),\n",
       " (Timestamp('2020-06-10 06:20:00'),\n",
       "  319.89,\n",
       "  320.25,\n",
       "  319.89,\n",
       "  320.1,\n",
       "  158,\n",
       "  320.066,\n",
       "  53),\n",
       " (Timestamp('2020-06-10 06:30:00'),\n",
       "  320.12,\n",
       "  320.56,\n",
       "  320.12,\n",
       "  320.56,\n",
       "  395,\n",
       "  320.38,\n",
       "  138),\n",
       " (Timestamp('2020-06-10 06:40:00'),\n",
       "  320.57,\n",
       "  320.88,\n",
       "  320.56,\n",
       "  320.78,\n",
       "  61,\n",
       "  320.708,\n",
       "  18),\n",
       " (Timestamp('2020-06-10 06:50:00'),\n",
       "  320.75,\n",
       "  321.0,\n",
       "  320.75,\n",
       "  320.94,\n",
       "  203,\n",
       "  320.89,\n",
       "  61),\n",
       " (Timestamp('2020-06-10 07:00:00'),\n",
       "  320.85,\n",
       "  321.1,\n",
       "  320.83,\n",
       "  321.03,\n",
       "  482,\n",
       "  321.003,\n",
       "  130),\n",
       " (Timestamp('2020-06-10 07:10:00'),\n",
       "  320.99,\n",
       "  321.21,\n",
       "  320.82,\n",
       "  321.08,\n",
       "  238,\n",
       "  321.076,\n",
       "  77),\n",
       " (Timestamp('2020-06-10 07:20:00'),\n",
       "  321.1,\n",
       "  321.28,\n",
       "  320.65,\n",
       "  320.77,\n",
       "  735,\n",
       "  320.797,\n",
       "  206),\n",
       " (Timestamp('2020-06-10 07:30:00'),\n",
       "  320.79,\n",
       "  321.26,\n",
       "  320.79,\n",
       "  321.24,\n",
       "  469,\n",
       "  320.937,\n",
       "  129),\n",
       " (Timestamp('2020-06-10 07:40:00'),\n",
       "  321.26,\n",
       "  321.26,\n",
       "  320.98,\n",
       "  321.25,\n",
       "  297,\n",
       "  321.109,\n",
       "  65),\n",
       " (Timestamp('2020-06-10 07:50:00'),\n",
       "  321.25,\n",
       "  321.82,\n",
       "  321.14,\n",
       "  321.75,\n",
       "  934,\n",
       "  321.599,\n",
       "  218),\n",
       " (Timestamp('2020-06-10 08:00:00'),\n",
       "  321.23,\n",
       "  322.71,\n",
       "  319.99,\n",
       "  321.73,\n",
       "  1628,\n",
       "  321.628,\n",
       "  440),\n",
       " (Timestamp('2020-06-10 08:10:00'),\n",
       "  321.79,\n",
       "  322.0,\n",
       "  321.71,\n",
       "  321.83,\n",
       "  1087,\n",
       "  321.822,\n",
       "  271),\n",
       " (Timestamp('2020-06-10 08:20:00'),\n",
       "  321.82,\n",
       "  321.95,\n",
       "  321.6,\n",
       "  321.72,\n",
       "  466,\n",
       "  321.707,\n",
       "  142),\n",
       " (Timestamp('2020-06-10 08:30:00'),\n",
       "  321.76,\n",
       "  321.96,\n",
       "  321.57,\n",
       "  321.57,\n",
       "  474,\n",
       "  321.752,\n",
       "  138),\n",
       " (Timestamp('2020-06-10 08:40:00'),\n",
       "  321.6,\n",
       "  321.87,\n",
       "  321.52,\n",
       "  321.87,\n",
       "  985,\n",
       "  321.714,\n",
       "  237),\n",
       " (Timestamp('2020-06-10 08:50:00'),\n",
       "  321.88,\n",
       "  322.11,\n",
       "  321.88,\n",
       "  321.95,\n",
       "  526,\n",
       "  321.998,\n",
       "  138),\n",
       " (Timestamp('2020-06-10 09:00:00'),\n",
       "  321.92,\n",
       "  322.12,\n",
       "  321.68,\n",
       "  321.7,\n",
       "  1685,\n",
       "  321.825,\n",
       "  403),\n",
       " (Timestamp('2020-06-10 09:10:00'),\n",
       "  321.73,\n",
       "  321.75,\n",
       "  321.35,\n",
       "  321.39,\n",
       "  1720,\n",
       "  321.557,\n",
       "  382),\n",
       " (Timestamp('2020-06-10 09:20:00'),\n",
       "  321.39,\n",
       "  321.52,\n",
       "  321.2,\n",
       "  321.45,\n",
       "  2077,\n",
       "  321.36,\n",
       "  507),\n",
       " (Timestamp('2020-06-10 09:30:00'),\n",
       "  321.42,\n",
       "  321.78,\n",
       "  320.62,\n",
       "  321.0,\n",
       "  25925,\n",
       "  321.197,\n",
       "  12353),\n",
       " (Timestamp('2020-06-10 09:40:00'),\n",
       "  320.99,\n",
       "  321.13,\n",
       "  320.22,\n",
       "  320.53,\n",
       "  21326,\n",
       "  320.567,\n",
       "  11036),\n",
       " (Timestamp('2020-06-10 09:50:00'),\n",
       "  320.55,\n",
       "  320.62,\n",
       "  319.61,\n",
       "  320.29,\n",
       "  23506,\n",
       "  320.063,\n",
       "  12351),\n",
       " (Timestamp('2020-06-10 10:00:00'),\n",
       "  320.29,\n",
       "  320.6,\n",
       "  320.02,\n",
       "  320.47,\n",
       "  15004,\n",
       "  320.299,\n",
       "  7187),\n",
       " (Timestamp('2020-06-10 10:10:00'),\n",
       "  320.48,\n",
       "  320.48,\n",
       "  318.8,\n",
       "  318.83,\n",
       "  23545,\n",
       "  319.461,\n",
       "  12191),\n",
       " (Timestamp('2020-06-10 10:20:00'),\n",
       "  318.83,\n",
       "  319.41,\n",
       "  318.64,\n",
       "  319.04,\n",
       "  21693,\n",
       "  318.995,\n",
       "  11037),\n",
       " (Timestamp('2020-06-10 10:30:00'),\n",
       "  319.01,\n",
       "  319.9,\n",
       "  318.81,\n",
       "  319.9,\n",
       "  15691,\n",
       "  319.448,\n",
       "  7715),\n",
       " (Timestamp('2020-06-10 10:40:00'),\n",
       "  319.9,\n",
       "  320.03,\n",
       "  319.3,\n",
       "  319.31,\n",
       "  12012,\n",
       "  319.717,\n",
       "  6210),\n",
       " (Timestamp('2020-06-10 10:50:00'),\n",
       "  319.33,\n",
       "  319.47,\n",
       "  318.22,\n",
       "  318.7,\n",
       "  15771,\n",
       "  318.681,\n",
       "  7240),\n",
       " (Timestamp('2020-06-10 11:00:00'),\n",
       "  318.69,\n",
       "  319.69,\n",
       "  318.55,\n",
       "  319.3,\n",
       "  17966,\n",
       "  319.13,\n",
       "  8495),\n",
       " (Timestamp('2020-06-10 11:10:00'),\n",
       "  319.29,\n",
       "  319.9,\n",
       "  319.1,\n",
       "  319.88,\n",
       "  16419,\n",
       "  319.552,\n",
       "  7658),\n",
       " (Timestamp('2020-06-10 11:20:00'),\n",
       "  319.89,\n",
       "  319.95,\n",
       "  319.58,\n",
       "  319.64,\n",
       "  12604,\n",
       "  319.76,\n",
       "  5600),\n",
       " (Timestamp('2020-06-10 11:30:00'),\n",
       "  319.65,\n",
       "  319.84,\n",
       "  318.91,\n",
       "  319.83,\n",
       "  18568,\n",
       "  319.398,\n",
       "  8321),\n",
       " (Timestamp('2020-06-10 11:40:00'),\n",
       "  319.83,\n",
       "  320.16,\n",
       "  319.45,\n",
       "  319.62,\n",
       "  15082,\n",
       "  319.842,\n",
       "  6886),\n",
       " (Timestamp('2020-06-10 11:50:00'),\n",
       "  319.63,\n",
       "  320.03,\n",
       "  319.57,\n",
       "  319.71,\n",
       "  6650,\n",
       "  319.799,\n",
       "  3184),\n",
       " (Timestamp('2020-06-10 12:00:00'),\n",
       "  319.76,\n",
       "  320.04,\n",
       "  319.39,\n",
       "  319.65,\n",
       "  13523,\n",
       "  319.809,\n",
       "  6070),\n",
       " (Timestamp('2020-06-10 12:10:00'),\n",
       "  319.65,\n",
       "  320.29,\n",
       "  319.62,\n",
       "  320.29,\n",
       "  10431,\n",
       "  319.922,\n",
       "  5318),\n",
       " (Timestamp('2020-06-10 12:20:00'),\n",
       "  320.29,\n",
       "  320.51,\n",
       "  320.22,\n",
       "  320.31,\n",
       "  7728,\n",
       "  320.349,\n",
       "  3847),\n",
       " (Timestamp('2020-06-10 12:30:00'),\n",
       "  320.31,\n",
       "  320.38,\n",
       "  319.95,\n",
       "  320.13,\n",
       "  6972,\n",
       "  320.156,\n",
       "  3309),\n",
       " (Timestamp('2020-06-10 12:40:00'),\n",
       "  320.13,\n",
       "  320.26,\n",
       "  320.01,\n",
       "  320.03,\n",
       "  4348,\n",
       "  320.127,\n",
       "  2355),\n",
       " (Timestamp('2020-06-10 12:50:00'),\n",
       "  320.04,\n",
       "  320.34,\n",
       "  320.01,\n",
       "  320.23,\n",
       "  4464,\n",
       "  320.182,\n",
       "  2306),\n",
       " (Timestamp('2020-06-10 13:00:00'),\n",
       "  320.24,\n",
       "  320.47,\n",
       "  319.79,\n",
       "  320.45,\n",
       "  7841,\n",
       "  320.104,\n",
       "  4377),\n",
       " (Timestamp('2020-06-10 13:10:00'),\n",
       "  320.44,\n",
       "  320.51,\n",
       "  320.1,\n",
       "  320.39,\n",
       "  7172,\n",
       "  320.344,\n",
       "  3616),\n",
       " (Timestamp('2020-06-10 13:20:00'),\n",
       "  320.39,\n",
       "  320.4,\n",
       "  320.08,\n",
       "  320.1,\n",
       "  4910,\n",
       "  320.289,\n",
       "  2674),\n",
       " (Timestamp('2020-06-10 13:30:00'),\n",
       "  320.1,\n",
       "  320.4,\n",
       "  320.07,\n",
       "  320.11,\n",
       "  6065,\n",
       "  320.209,\n",
       "  3044),\n",
       " (Timestamp('2020-06-10 13:40:00'),\n",
       "  320.11,\n",
       "  320.34,\n",
       "  320.03,\n",
       "  320.29,\n",
       "  4842,\n",
       "  320.22,\n",
       "  2893),\n",
       " (Timestamp('2020-06-10 13:50:00'),\n",
       "  320.27,\n",
       "  320.33,\n",
       "  319.87,\n",
       "  319.95,\n",
       "  7256,\n",
       "  320.145,\n",
       "  4227),\n",
       " (Timestamp('2020-06-10 14:00:00'),\n",
       "  319.91,\n",
       "  322.1,\n",
       "  318.94,\n",
       "  321.17,\n",
       "  56364,\n",
       "  321.006,\n",
       "  29249),\n",
       " (Timestamp('2020-06-10 14:10:00'),\n",
       "  321.19,\n",
       "  322.39,\n",
       "  321.18,\n",
       "  322.19,\n",
       "  22537,\n",
       "  321.952,\n",
       "  11050),\n",
       " (Timestamp('2020-06-10 14:20:00'),\n",
       "  322.19,\n",
       "  322.3,\n",
       "  321.61,\n",
       "  322.09,\n",
       "  18556,\n",
       "  321.97,\n",
       "  8816),\n",
       " (Timestamp('2020-06-10 14:30:00'),\n",
       "  322.09,\n",
       "  322.18,\n",
       "  320.7,\n",
       "  320.72,\n",
       "  21353,\n",
       "  321.404,\n",
       "  10556),\n",
       " (Timestamp('2020-06-10 14:40:00'),\n",
       "  320.7,\n",
       "  321.28,\n",
       "  319.61,\n",
       "  320.21,\n",
       "  38815,\n",
       "  320.427,\n",
       "  19745),\n",
       " (Timestamp('2020-06-10 14:50:00'),\n",
       "  320.19,\n",
       "  320.61,\n",
       "  319.03,\n",
       "  319.93,\n",
       "  35226,\n",
       "  319.653,\n",
       "  19473),\n",
       " (Timestamp('2020-06-10 15:00:00'),\n",
       "  319.94,\n",
       "  320.59,\n",
       "  318.88,\n",
       "  320.34,\n",
       "  30267,\n",
       "  319.598,\n",
       "  16760),\n",
       " (Timestamp('2020-06-10 15:10:00'),\n",
       "  320.34,\n",
       "  320.87,\n",
       "  320.04,\n",
       "  320.57,\n",
       "  17664,\n",
       "  320.452,\n",
       "  8931),\n",
       " (Timestamp('2020-06-10 15:20:00'),\n",
       "  320.56,\n",
       "  321.41,\n",
       "  319.85,\n",
       "  321.34,\n",
       "  23650,\n",
       "  320.471,\n",
       "  11188),\n",
       " (Timestamp('2020-06-10 15:30:00'),\n",
       "  321.32,\n",
       "  321.48,\n",
       "  320.4,\n",
       "  320.91,\n",
       "  25509,\n",
       "  320.886,\n",
       "  12859),\n",
       " (Timestamp('2020-06-10 15:40:00'),\n",
       "  320.91,\n",
       "  320.93,\n",
       "  319.41,\n",
       "  319.91,\n",
       "  22897,\n",
       "  320.146,\n",
       "  11700),\n",
       " (Timestamp('2020-06-10 15:50:00'),\n",
       "  319.9,\n",
       "  320.38,\n",
       "  318.89,\n",
       "  319.01,\n",
       "  49878,\n",
       "  319.709,\n",
       "  23382),\n",
       " (Timestamp('2020-06-10 16:00:00'),\n",
       "  319.01,\n",
       "  319.3,\n",
       "  318.31,\n",
       "  318.53,\n",
       "  20283,\n",
       "  318.877,\n",
       "  4815),\n",
       " (Timestamp('2020-06-10 16:10:00'),\n",
       "  318.56,\n",
       "  319.77,\n",
       "  318.4,\n",
       "  318.83,\n",
       "  4466,\n",
       "  318.909,\n",
       "  891),\n",
       " (Timestamp('2020-06-10 16:20:00'),\n",
       "  318.83,\n",
       "  319.0,\n",
       "  318.63,\n",
       "  318.65,\n",
       "  3549,\n",
       "  318.814,\n",
       "  472),\n",
       " (Timestamp('2020-06-10 16:30:00'),\n",
       "  318.69,\n",
       "  318.92,\n",
       "  318.46,\n",
       "  318.89,\n",
       "  2452,\n",
       "  318.676,\n",
       "  594),\n",
       " (Timestamp('2020-06-10 16:40:00'),\n",
       "  318.88,\n",
       "  318.98,\n",
       "  318.77,\n",
       "  318.81,\n",
       "  1844,\n",
       "  318.882,\n",
       "  365),\n",
       " (Timestamp('2020-06-10 16:50:00'),\n",
       "  318.83,\n",
       "  318.91,\n",
       "  318.66,\n",
       "  318.68,\n",
       "  563,\n",
       "  318.738,\n",
       "  141),\n",
       " (Timestamp('2020-06-10 17:00:00'),\n",
       "  318.67,\n",
       "  319.0,\n",
       "  318.67,\n",
       "  318.81,\n",
       "  308,\n",
       "  318.81,\n",
       "  52),\n",
       " (Timestamp('2020-06-10 17:10:00'),\n",
       "  318.8,\n",
       "  318.84,\n",
       "  318.75,\n",
       "  318.76,\n",
       "  269,\n",
       "  318.799,\n",
       "  124),\n",
       " (Timestamp('2020-06-10 17:20:00'),\n",
       "  318.76,\n",
       "  318.77,\n",
       "  318.68,\n",
       "  318.72,\n",
       "  436,\n",
       "  318.712,\n",
       "  130),\n",
       " (Timestamp('2020-06-10 17:30:00'),\n",
       "  318.69,\n",
       "  318.77,\n",
       "  318.65,\n",
       "  318.7,\n",
       "  392,\n",
       "  318.679,\n",
       "  69),\n",
       " (Timestamp('2020-06-10 17:40:00'),\n",
       "  318.75,\n",
       "  318.75,\n",
       "  318.6,\n",
       "  318.6,\n",
       "  210,\n",
       "  318.622,\n",
       "  66),\n",
       " (Timestamp('2020-06-10 17:50:00'),\n",
       "  318.59,\n",
       "  318.7,\n",
       "  318.57,\n",
       "  318.59,\n",
       "  296,\n",
       "  318.597,\n",
       "  127),\n",
       " (Timestamp('2020-06-10 18:00:00'),\n",
       "  318.6,\n",
       "  319.1,\n",
       "  318.47,\n",
       "  319.0,\n",
       "  834,\n",
       "  318.862,\n",
       "  302),\n",
       " (Timestamp('2020-06-10 18:10:00'),\n",
       "  319.0,\n",
       "  319.08,\n",
       "  318.74,\n",
       "  318.74,\n",
       "  162,\n",
       "  318.877,\n",
       "  50),\n",
       " (Timestamp('2020-06-10 18:20:00'),\n",
       "  318.82,\n",
       "  318.82,\n",
       "  317.15,\n",
       "  317.34,\n",
       "  2151,\n",
       "  317.938,\n",
       "  477),\n",
       " (Timestamp('2020-06-10 18:30:00'),\n",
       "  317.37,\n",
       "  317.56,\n",
       "  317.23,\n",
       "  317.5,\n",
       "  1175,\n",
       "  317.369,\n",
       "  274),\n",
       " (Timestamp('2020-06-10 18:40:00'),\n",
       "  317.49,\n",
       "  317.7,\n",
       "  317.3,\n",
       "  317.62,\n",
       "  574,\n",
       "  317.495,\n",
       "  162),\n",
       " (Timestamp('2020-06-10 18:50:00'),\n",
       "  317.62,\n",
       "  317.66,\n",
       "  317.35,\n",
       "  317.39,\n",
       "  279,\n",
       "  317.553,\n",
       "  87),\n",
       " (Timestamp('2020-06-10 19:00:00'),\n",
       "  317.35,\n",
       "  317.73,\n",
       "  317.25,\n",
       "  317.58,\n",
       "  254,\n",
       "  317.463,\n",
       "  65),\n",
       " (Timestamp('2020-06-10 19:10:00'),\n",
       "  317.59,\n",
       "  317.74,\n",
       "  317.24,\n",
       "  317.25,\n",
       "  312,\n",
       "  317.509,\n",
       "  59),\n",
       " (Timestamp('2020-06-10 19:20:00'),\n",
       "  317.25,\n",
       "  317.25,\n",
       "  316.57,\n",
       "  316.8,\n",
       "  2171,\n",
       "  316.845,\n",
       "  415),\n",
       " (Timestamp('2020-06-10 19:30:00'),\n",
       "  316.74,\n",
       "  316.9,\n",
       "  316.54,\n",
       "  316.72,\n",
       "  548,\n",
       "  316.687,\n",
       "  111),\n",
       " (Timestamp('2020-06-10 19:40:00'),\n",
       "  316.75,\n",
       "  317.15,\n",
       "  316.7,\n",
       "  317.04,\n",
       "  252,\n",
       "  316.934,\n",
       "  104),\n",
       " (Timestamp('2020-06-10 19:50:00'),\n",
       "  317.06,\n",
       "  317.06,\n",
       "  316.6,\n",
       "  316.76,\n",
       "  1368,\n",
       "  316.736,\n",
       "  305),\n",
       " (Timestamp('2020-06-11 04:00:00'),\n",
       "  313.45,\n",
       "  313.54,\n",
       "  312.8,\n",
       "  313.39,\n",
       "  768,\n",
       "  313.187,\n",
       "  203),\n",
       " (Timestamp('2020-06-11 04:10:00'),\n",
       "  313.48,\n",
       "  313.8,\n",
       "  313.33,\n",
       "  313.6,\n",
       "  202,\n",
       "  313.538,\n",
       "  73),\n",
       " (Timestamp('2020-06-11 04:20:00'),\n",
       "  313.63,\n",
       "  313.72,\n",
       "  313.3,\n",
       "  313.3,\n",
       "  155,\n",
       "  313.568,\n",
       "  33),\n",
       " (Timestamp('2020-06-11 04:30:00'),\n",
       "  313.32,\n",
       "  313.87,\n",
       "  313.27,\n",
       "  313.61,\n",
       "  290,\n",
       "  313.769,\n",
       "  78),\n",
       " (Timestamp('2020-06-11 04:40:00'),\n",
       "  313.44,\n",
       "  313.5,\n",
       "  312.57,\n",
       "  312.74,\n",
       "  329,\n",
       "  312.902,\n",
       "  102),\n",
       " (Timestamp('2020-06-11 04:50:00'),\n",
       "  312.6,\n",
       "  312.88,\n",
       "  312.34,\n",
       "  312.85,\n",
       "  462,\n",
       "  312.532,\n",
       "  130),\n",
       " (Timestamp('2020-06-11 05:00:00'),\n",
       "  312.79,\n",
       "  313.28,\n",
       "  312.6,\n",
       "  313.1,\n",
       "  496,\n",
       "  312.983,\n",
       "  122),\n",
       " (Timestamp('2020-06-11 05:10:00'),\n",
       "  313.13,\n",
       "  314.12,\n",
       "  312.99,\n",
       "  314.02,\n",
       "  354,\n",
       "  313.594,\n",
       "  73),\n",
       " (Timestamp('2020-06-11 05:20:00'),\n",
       "  314.02,\n",
       "  314.17,\n",
       "  313.78,\n",
       "  313.97,\n",
       "  200,\n",
       "  313.983,\n",
       "  65),\n",
       " (Timestamp('2020-06-11 05:30:00'),\n",
       "  314.08,\n",
       "  314.51,\n",
       "  314.0,\n",
       "  314.37,\n",
       "  424,\n",
       "  314.356,\n",
       "  118),\n",
       " (Timestamp('2020-06-11 05:40:00'),\n",
       "  314.43,\n",
       "  314.5,\n",
       "  314.29,\n",
       "  314.35,\n",
       "  135,\n",
       "  314.401,\n",
       "  44),\n",
       " (Timestamp('2020-06-11 05:50:00'),\n",
       "  314.41,\n",
       "  314.83,\n",
       "  314.4,\n",
       "  314.58,\n",
       "  407,\n",
       "  314.595,\n",
       "  111),\n",
       " (Timestamp('2020-06-11 06:00:00'),\n",
       "  314.7,\n",
       "  314.75,\n",
       "  314.07,\n",
       "  314.15,\n",
       "  368,\n",
       "  314.521,\n",
       "  92),\n",
       " (Timestamp('2020-06-11 06:10:00'),\n",
       "  314.08,\n",
       "  314.14,\n",
       "  313.9,\n",
       "  313.99,\n",
       "  64,\n",
       "  313.988,\n",
       "  33),\n",
       " (Timestamp('2020-06-11 06:20:00'),\n",
       "  314.06,\n",
       "  314.3,\n",
       "  313.89,\n",
       "  313.9,\n",
       "  168,\n",
       "  314.143,\n",
       "  56),\n",
       " (Timestamp('2020-06-11 06:30:00'),\n",
       "  313.96,\n",
       "  314.1,\n",
       "  313.31,\n",
       "  313.5,\n",
       "  804,\n",
       "  313.686,\n",
       "  173),\n",
       " (Timestamp('2020-06-11 06:40:00'),\n",
       "  313.48,\n",
       "  313.79,\n",
       "  313.25,\n",
       "  313.78,\n",
       "  161,\n",
       "  313.537,\n",
       "  67),\n",
       " (Timestamp('2020-06-11 06:50:00'),\n",
       "  313.8,\n",
       "  313.86,\n",
       "  313.2,\n",
       "  313.3,\n",
       "  409,\n",
       "  313.606,\n",
       "  105),\n",
       " (Timestamp('2020-06-11 07:00:00'),\n",
       "  313.4,\n",
       "  313.69,\n",
       "  313.09,\n",
       "  313.09,\n",
       "  1239,\n",
       "  313.437,\n",
       "  342),\n",
       " (Timestamp('2020-06-11 07:10:00'),\n",
       "  313.1,\n",
       "  313.25,\n",
       "  312.15,\n",
       "  312.25,\n",
       "  1897,\n",
       "  312.585,\n",
       "  479),\n",
       " (Timestamp('2020-06-11 07:20:00'),\n",
       "  312.18,\n",
       "  312.9,\n",
       "  311.95,\n",
       "  312.82,\n",
       "  2433,\n",
       "  312.521,\n",
       "  611),\n",
       " (Timestamp('2020-06-11 07:30:00'),\n",
       "  312.79,\n",
       "  312.91,\n",
       "  312.5,\n",
       "  312.51,\n",
       "  1671,\n",
       "  312.695,\n",
       "  394),\n",
       " (Timestamp('2020-06-11 07:40:00'),\n",
       "  312.58,\n",
       "  312.83,\n",
       "  312.44,\n",
       "  312.44,\n",
       "  827,\n",
       "  312.642,\n",
       "  220),\n",
       " (Timestamp('2020-06-11 07:50:00'),\n",
       "  312.46,\n",
       "  312.46,\n",
       "  311.77,\n",
       "  312.41,\n",
       "  2012,\n",
       "  312.094,\n",
       "  611),\n",
       " (Timestamp('2020-06-11 08:00:00'),\n",
       "  318.28,\n",
       "  318.29,\n",
       "  311.79,\n",
       "  312.0,\n",
       "  8124,\n",
       "  315.679,\n",
       "  967),\n",
       " (Timestamp('2020-06-11 08:10:00'),\n",
       "  312.0,\n",
       "  312.22,\n",
       "  311.27,\n",
       "  311.35,\n",
       "  2248,\n",
       "  311.702,\n",
       "  573),\n",
       " (Timestamp('2020-06-11 08:20:00'),\n",
       "  311.4,\n",
       "  311.4,\n",
       "  310.5,\n",
       "  311.22,\n",
       "  5207,\n",
       "  310.996,\n",
       "  1454),\n",
       " (Timestamp('2020-06-11 08:30:00'),\n",
       "  311.19,\n",
       "  311.28,\n",
       "  310.17,\n",
       "  310.63,\n",
       "  5053,\n",
       "  310.665,\n",
       "  1566),\n",
       " (Timestamp('2020-06-11 08:40:00'),\n",
       "  310.64,\n",
       "  310.9,\n",
       "  310.39,\n",
       "  310.42,\n",
       "  3189,\n",
       "  310.65,\n",
       "  1066),\n",
       " (Timestamp('2020-06-11 08:50:00'),\n",
       "  310.42,\n",
       "  310.92,\n",
       "  310.28,\n",
       "  310.82,\n",
       "  3459,\n",
       "  310.681,\n",
       "  1206),\n",
       " (Timestamp('2020-06-11 09:00:00'),\n",
       "  310.87,\n",
       "  311.1,\n",
       "  310.4,\n",
       "  310.73,\n",
       "  3723,\n",
       "  310.706,\n",
       "  1187),\n",
       " (Timestamp('2020-06-11 09:10:00'),\n",
       "  310.72,\n",
       "  311.41,\n",
       "  310.62,\n",
       "  311.35,\n",
       "  3822,\n",
       "  311.002,\n",
       "  1227),\n",
       " (Timestamp('2020-06-11 09:20:00'),\n",
       "  311.38,\n",
       "  312.03,\n",
       "  311.26,\n",
       "  311.44,\n",
       "  8900,\n",
       "  311.648,\n",
       "  2953),\n",
       " (Timestamp('2020-06-11 09:30:00'),\n",
       "  311.46,\n",
       "  311.72,\n",
       "  310.23,\n",
       "  310.37,\n",
       "  92158,\n",
       "  311.054,\n",
       "  43666),\n",
       " (Timestamp('2020-06-11 09:40:00'),\n",
       "  310.36,\n",
       "  311.69,\n",
       "  310.01,\n",
       "  311.32,\n",
       "  43483,\n",
       "  310.783,\n",
       "  22725),\n",
       " (Timestamp('2020-06-11 09:50:00'),\n",
       "  311.32,\n",
       "  312.15,\n",
       "  310.96,\n",
       "  311.65,\n",
       "  33034,\n",
       "  311.67,\n",
       "  17876),\n",
       " (Timestamp('2020-06-11 10:00:00'),\n",
       "  311.66,\n",
       "  311.96,\n",
       "  310.56,\n",
       "  310.78,\n",
       "  33142,\n",
       "  311.058,\n",
       "  16828),\n",
       " (Timestamp('2020-06-11 10:10:00'),\n",
       "  310.77,\n",
       "  311.77,\n",
       "  310.62,\n",
       "  310.99,\n",
       "  25363,\n",
       "  311.205,\n",
       "  14456),\n",
       " (Timestamp('2020-06-11 10:20:00'),\n",
       "  310.99,\n",
       "  311.41,\n",
       "  310.16,\n",
       "  310.18,\n",
       "  23439,\n",
       "  310.663,\n",
       "  12170),\n",
       " (Timestamp('2020-06-11 10:30:00'),\n",
       "  310.18,\n",
       "  311.2,\n",
       "  310.12,\n",
       "  310.91,\n",
       "  20902,\n",
       "  310.76,\n",
       "  11902),\n",
       " (Timestamp('2020-06-11 10:40:00'),\n",
       "  310.9,\n",
       "  310.99,\n",
       "  309.57,\n",
       "  309.62,\n",
       "  21929,\n",
       "  310.259,\n",
       "  12394),\n",
       " (Timestamp('2020-06-11 10:50:00'),\n",
       "  309.62,\n",
       "  309.83,\n",
       "  308.92,\n",
       "  309.1,\n",
       "  26856,\n",
       "  309.4,\n",
       "  13535),\n",
       " (Timestamp('2020-06-11 11:00:00'),\n",
       "  309.08,\n",
       "  309.39,\n",
       "  308.42,\n",
       "  308.85,\n",
       "  39379,\n",
       "  308.892,\n",
       "  19252),\n",
       " (Timestamp('2020-06-11 11:10:00'),\n",
       "  308.84,\n",
       "  309.45,\n",
       "  308.36,\n",
       "  309.36,\n",
       "  25638,\n",
       "  308.88,\n",
       "  13071),\n",
       " (Timestamp('2020-06-11 11:20:00'),\n",
       "  309.36,\n",
       "  309.56,\n",
       "  308.64,\n",
       "  308.79,\n",
       "  18827,\n",
       "  309.124,\n",
       "  10379),\n",
       " (Timestamp('2020-06-11 11:30:00'),\n",
       "  308.8,\n",
       "  309.01,\n",
       "  308.12,\n",
       "  308.13,\n",
       "  22569,\n",
       "  308.466,\n",
       "  11933),\n",
       " (Timestamp('2020-06-11 11:40:00'),\n",
       "  308.13,\n",
       "  308.24,\n",
       "  307.29,\n",
       "  307.43,\n",
       "  29865,\n",
       "  307.789,\n",
       "  15474),\n",
       " (Timestamp('2020-06-11 11:50:00'),\n",
       "  307.43,\n",
       "  308.1,\n",
       "  307.16,\n",
       "  308.01,\n",
       "  24110,\n",
       "  307.656,\n",
       "  12909),\n",
       " (Timestamp('2020-06-11 12:00:00'),\n",
       "  308.0,\n",
       "  308.02,\n",
       "  306.83,\n",
       "  306.96,\n",
       "  27120,\n",
       "  307.323,\n",
       "  13944),\n",
       " (Timestamp('2020-06-11 12:10:00'),\n",
       "  306.94,\n",
       "  307.15,\n",
       "  305.63,\n",
       "  305.87,\n",
       "  33864,\n",
       "  306.357,\n",
       "  17580),\n",
       " (Timestamp('2020-06-11 12:20:00'),\n",
       "  305.86,\n",
       "  306.37,\n",
       "  304.92,\n",
       "  305.36,\n",
       "  44229,\n",
       "  305.688,\n",
       "  23332),\n",
       " (Timestamp('2020-06-11 12:30:00'),\n",
       "  305.35,\n",
       "  306.7,\n",
       "  305.3,\n",
       "  305.97,\n",
       "  33481,\n",
       "  306.247,\n",
       "  16088),\n",
       " (Timestamp('2020-06-11 12:40:00'),\n",
       "  305.97,\n",
       "  306.24,\n",
       "  304.61,\n",
       "  304.74,\n",
       "  36101,\n",
       "  305.357,\n",
       "  18348),\n",
       " (Timestamp('2020-06-11 12:50:00'),\n",
       "  304.74,\n",
       "  304.82,\n",
       "  303.75,\n",
       "  304.23,\n",
       "  48446,\n",
       "  304.348,\n",
       "  22747),\n",
       " (Timestamp('2020-06-11 13:00:00'),\n",
       "  304.23,\n",
       "  305.46,\n",
       "  303.93,\n",
       "  305.08,\n",
       "  34021,\n",
       "  304.964,\n",
       "  17586),\n",
       " (Timestamp('2020-06-11 13:10:00'),\n",
       "  305.05,\n",
       "  305.87,\n",
       "  304.62,\n",
       "  305.38,\n",
       "  35425,\n",
       "  305.408,\n",
       "  17118),\n",
       " (Timestamp('2020-06-11 13:20:00'),\n",
       "  305.38,\n",
       "  305.86,\n",
       "  304.68,\n",
       "  304.88,\n",
       "  22237,\n",
       "  305.363,\n",
       "  10568),\n",
       " (Timestamp('2020-06-11 13:30:00'),\n",
       "  304.89,\n",
       "  305.38,\n",
       "  304.32,\n",
       "  304.42,\n",
       "  22070,\n",
       "  304.831,\n",
       "  11360),\n",
       " (Timestamp('2020-06-11 13:40:00'),\n",
       "  304.4,\n",
       "  304.53,\n",
       "  303.77,\n",
       "  304.23,\n",
       "  22853,\n",
       "  304.178,\n",
       "  10830),\n",
       " (Timestamp('2020-06-11 13:50:00'),\n",
       "  304.24,\n",
       "  305.14,\n",
       "  304.04,\n",
       "  304.72,\n",
       "  20505,\n",
       "  304.563,\n",
       "  11080),\n",
       " (Timestamp('2020-06-11 14:00:00'),\n",
       "  304.71,\n",
       "  304.77,\n",
       "  303.54,\n",
       "  303.76,\n",
       "  35508,\n",
       "  303.916,\n",
       "  17208),\n",
       " (Timestamp('2020-06-11 14:10:00'),\n",
       "  303.77,\n",
       "  304.07,\n",
       "  302.99,\n",
       "  303.22,\n",
       "  30558,\n",
       "  303.385,\n",
       "  14798),\n",
       " (Timestamp('2020-06-11 14:20:00'),\n",
       "  303.21,\n",
       "  304.33,\n",
       "  303.04,\n",
       "  303.95,\n",
       "  27454,\n",
       "  303.732,\n",
       "  12866),\n",
       " (Timestamp('2020-06-11 14:30:00'),\n",
       "  303.95,\n",
       "  304.08,\n",
       "  302.41,\n",
       "  302.61,\n",
       "  31947,\n",
       "  303.091,\n",
       "  15475),\n",
       " (Timestamp('2020-06-11 14:40:00'),\n",
       "  302.59,\n",
       "  302.94,\n",
       "  302.02,\n",
       "  302.13,\n",
       "  41610,\n",
       "  302.42,\n",
       "  19954),\n",
       " (Timestamp('2020-06-11 14:50:00'),\n",
       "  302.17,\n",
       "  302.47,\n",
       "  301.06,\n",
       "  301.77,\n",
       "  63029,\n",
       "  301.653,\n",
       "  28624),\n",
       " (Timestamp('2020-06-11 15:00:00'),\n",
       "  301.77,\n",
       "  302.68,\n",
       "  301.18,\n",
       "  302.3,\n",
       "  50899,\n",
       "  302.13,\n",
       "  23570),\n",
       " (Timestamp('2020-06-11 15:10:00'),\n",
       "  302.33,\n",
       "  302.9,\n",
       "  301.02,\n",
       "  301.69,\n",
       "  47124,\n",
       "  301.891,\n",
       "  23467),\n",
       " (Timestamp('2020-06-11 15:20:00'),\n",
       "  301.67,\n",
       "  301.75,\n",
       "  300.25,\n",
       "  300.71,\n",
       "  64824,\n",
       "  300.808,\n",
       "  29188),\n",
       " (Timestamp('2020-06-11 15:30:00'),\n",
       "  300.69,\n",
       "  301.25,\n",
       "  300.01,\n",
       "  300.78,\n",
       "  69409,\n",
       "  300.665,\n",
       "  32741),\n",
       " (Timestamp('2020-06-11 15:40:00'),\n",
       "  300.79,\n",
       "  302.58,\n",
       "  300.68,\n",
       "  301.33,\n",
       "  97233,\n",
       "  301.844,\n",
       "  43430),\n",
       " (Timestamp('2020-06-11 15:50:00'),\n",
       "  301.33,\n",
       "  301.33,\n",
       "  300.29,\n",
       "  300.59,\n",
       "  180367,\n",
       "  300.71,\n",
       "  75718),\n",
       " (Timestamp('2020-06-11 16:00:00'),\n",
       "  300.6,\n",
       "  301.6,\n",
       "  300.38,\n",
       "  301.14,\n",
       "  46917,\n",
       "  300.881,\n",
       "  9387),\n",
       " (Timestamp('2020-06-11 16:10:00'),\n",
       "  301.14,\n",
       "  319.12,\n",
       "  300.38,\n",
       "  301.25,\n",
       "  22747,\n",
       "  302.392,\n",
       "  2293),\n",
       " (Timestamp('2020-06-11 16:20:00'),\n",
       "  301.3,\n",
       "  301.39,\n",
       "  300.38,\n",
       "  301.27,\n",
       "  2067,\n",
       "  301.199,\n",
       "  519),\n",
       " (Timestamp('2020-06-11 16:30:00'),\n",
       "  301.27,\n",
       "  301.28,\n",
       "  300.51,\n",
       "  300.73,\n",
       "  3294,\n",
       "  300.792,\n",
       "  753),\n",
       " (Timestamp('2020-06-11 16:40:00'),\n",
       "  300.7,\n",
       "  301.55,\n",
       "  300.62,\n",
       "  301.37,\n",
       "  1810,\n",
       "  301.044,\n",
       "  544),\n",
       " (Timestamp('2020-06-11 16:50:00'),\n",
       "  301.48,\n",
       "  302.09,\n",
       "  301.43,\n",
       "  301.77,\n",
       "  3389,\n",
       "  301.881,\n",
       "  661),\n",
       " (Timestamp('2020-06-11 17:00:00'),\n",
       "  301.75,\n",
       "  301.85,\n",
       "  300.61,\n",
       "  301.6,\n",
       "  1101,\n",
       "  301.277,\n",
       "  192),\n",
       " (Timestamp('2020-06-11 17:10:00'),\n",
       "  301.6,\n",
       "  302.16,\n",
       "  300.61,\n",
       "  302.15,\n",
       "  1289,\n",
       "  301.362,\n",
       "  319),\n",
       " (Timestamp('2020-06-11 17:20:00'),\n",
       "  302.13,\n",
       "  302.13,\n",
       "  301.75,\n",
       "  301.94,\n",
       "  509,\n",
       "  301.952,\n",
       "  158),\n",
       " (Timestamp('2020-06-11 17:30:00'),\n",
       "  301.92,\n",
       "  302.0,\n",
       "  301.75,\n",
       "  302.0,\n",
       "  298,\n",
       "  301.829,\n",
       "  117),\n",
       " (Timestamp('2020-06-11 17:40:00'),\n",
       "  301.99,\n",
       "  302.0,\n",
       "  301.81,\n",
       "  301.81,\n",
       "  167,\n",
       "  301.922,\n",
       "  83),\n",
       " (Timestamp('2020-06-11 17:50:00'),\n",
       "  301.81,\n",
       "  301.98,\n",
       "  300.61,\n",
       "  301.69,\n",
       "  779,\n",
       "  301.695,\n",
       "  158),\n",
       " (Timestamp('2020-06-11 18:00:00'),\n",
       "  301.6,\n",
       "  302.1,\n",
       "  300.71,\n",
       "  301.25,\n",
       "  1309,\n",
       "  301.405,\n",
       "  402),\n",
       " (Timestamp('2020-06-11 18:10:00'),\n",
       "  301.24,\n",
       "  301.91,\n",
       "  301.0,\n",
       "  301.63,\n",
       "  645,\n",
       "  301.617,\n",
       "  178),\n",
       " (Timestamp('2020-06-11 18:20:00'),\n",
       "  301.59,\n",
       "  301.79,\n",
       "  300.96,\n",
       "  301.02,\n",
       "  366,\n",
       "  301.214,\n",
       "  109),\n",
       " (Timestamp('2020-06-11 18:30:00'),\n",
       "  301.02,\n",
       "  301.84,\n",
       "  301.02,\n",
       "  301.83,\n",
       "  389,\n",
       "  301.579,\n",
       "  125),\n",
       " (Timestamp('2020-06-11 18:40:00'),\n",
       "  301.84,\n",
       "  302.46,\n",
       "  301.7,\n",
       "  302.29,\n",
       "  551,\n",
       "  302.2,\n",
       "  157),\n",
       " (Timestamp('2020-06-11 18:50:00'),\n",
       "  302.32,\n",
       "  302.85,\n",
       "  302.11,\n",
       "  302.85,\n",
       "  1019,\n",
       "  302.365,\n",
       "  234),\n",
       " (Timestamp('2020-06-11 19:00:00'),\n",
       "  302.77,\n",
       "  303.04,\n",
       "  302.44,\n",
       "  302.5,\n",
       "  690,\n",
       "  302.754,\n",
       "  167),\n",
       " (Timestamp('2020-06-11 19:10:00'),\n",
       "  302.46,\n",
       "  302.78,\n",
       "  302.01,\n",
       "  302.45,\n",
       "  736,\n",
       "  302.456,\n",
       "  181),\n",
       " (Timestamp('2020-06-11 19:20:00'),\n",
       "  302.44,\n",
       "  302.68,\n",
       "  302.1,\n",
       "  302.5,\n",
       "  254,\n",
       "  302.47,\n",
       "  71),\n",
       " (Timestamp('2020-06-11 19:30:00'),\n",
       "  302.52,\n",
       "  303.24,\n",
       "  302.5,\n",
       "  303.15,\n",
       "  821,\n",
       "  302.876,\n",
       "  169),\n",
       " (Timestamp('2020-06-11 19:40:00'),\n",
       "  303.15,\n",
       "  303.38,\n",
       "  302.91,\n",
       "  303.32,\n",
       "  776,\n",
       "  303.198,\n",
       "  235),\n",
       " (Timestamp('2020-06-11 19:50:00'),\n",
       "  303.35,\n",
       "  303.5,\n",
       "  302.88,\n",
       "  303.08,\n",
       "  1489,\n",
       "  303.264,\n",
       "  337),\n",
       " (Timestamp('2020-06-12 04:00:00'),\n",
       "  304.43,\n",
       "  305.52,\n",
       "  304.43,\n",
       "  305.32,\n",
       "  737,\n",
       "  304.941,\n",
       "  166),\n",
       " (Timestamp('2020-06-12 04:10:00'),\n",
       "  305.36,\n",
       "  305.86,\n",
       "  305.12,\n",
       "  305.77,\n",
       "  504,\n",
       "  305.345,\n",
       "  102),\n",
       " (Timestamp('2020-06-12 04:20:00'),\n",
       "  305.75,\n",
       "  306.04,\n",
       "  305.61,\n",
       "  305.9,\n",
       "  348,\n",
       "  305.904,\n",
       "  88),\n",
       " (Timestamp('2020-06-12 04:30:00'),\n",
       "  305.9,\n",
       "  306.35,\n",
       "  305.83,\n",
       "  306.35,\n",
       "  410,\n",
       "  305.976,\n",
       "  81),\n",
       " (Timestamp('2020-06-12 04:40:00'),\n",
       "  306.32,\n",
       "  307.0,\n",
       "  306.31,\n",
       "  306.98,\n",
       "  658,\n",
       "  306.737,\n",
       "  164),\n",
       " (Timestamp('2020-06-12 04:50:00'),\n",
       "  306.97,\n",
       "  307.09,\n",
       "  306.54,\n",
       "  306.72,\n",
       "  995,\n",
       "  306.797,\n",
       "  136),\n",
       " (Timestamp('2020-06-12 05:00:00'),\n",
       "  306.81,\n",
       "  306.81,\n",
       "  306.4,\n",
       "  306.74,\n",
       "  1342,\n",
       "  306.581,\n",
       "  217),\n",
       " (Timestamp('2020-06-12 05:10:00'),\n",
       "  306.74,\n",
       "  306.98,\n",
       "  306.49,\n",
       "  306.88,\n",
       "  1152,\n",
       "  306.691,\n",
       "  225),\n",
       " (Timestamp('2020-06-12 05:20:00'),\n",
       "  306.88,\n",
       "  307.05,\n",
       "  306.65,\n",
       "  306.87,\n",
       "  841,\n",
       "  306.883,\n",
       "  235),\n",
       " (Timestamp('2020-06-12 05:30:00'),\n",
       "  306.87,\n",
       "  306.91,\n",
       "  306.44,\n",
       "  306.66,\n",
       "  1550,\n",
       "  306.588,\n",
       "  231),\n",
       " (Timestamp('2020-06-12 05:40:00'),\n",
       "  306.9,\n",
       "  307.05,\n",
       "  306.48,\n",
       "  307.02,\n",
       "  494,\n",
       "  306.814,\n",
       "  104),\n",
       " (Timestamp('2020-06-12 05:50:00'),\n",
       "  307.02,\n",
       "  307.39,\n",
       "  306.96,\n",
       "  307.32,\n",
       "  1535,\n",
       "  307.141,\n",
       "  324),\n",
       " (Timestamp('2020-06-12 06:00:00'),\n",
       "  307.26,\n",
       "  307.6,\n",
       "  307.0,\n",
       "  307.1,\n",
       "  677,\n",
       "  307.292,\n",
       "  224),\n",
       " (Timestamp('2020-06-12 06:10:00'),\n",
       "  307.12,\n",
       "  307.6,\n",
       "  307.12,\n",
       "  307.2,\n",
       "  506,\n",
       "  307.357,\n",
       "  130),\n",
       " (Timestamp('2020-06-12 06:20:00'),\n",
       "  307.23,\n",
       "  307.4,\n",
       "  307.03,\n",
       "  307.03,\n",
       "  641,\n",
       "  307.239,\n",
       "  147),\n",
       " (Timestamp('2020-06-12 06:30:00'),\n",
       "  307.02,\n",
       "  307.07,\n",
       "  306.35,\n",
       "  306.5,\n",
       "  1382,\n",
       "  306.636,\n",
       "  316),\n",
       " (Timestamp('2020-06-12 06:40:00'),\n",
       "  306.35,\n",
       "  306.54,\n",
       "  305.9,\n",
       "  306.25,\n",
       "  983,\n",
       "  306.222,\n",
       "  261),\n",
       " (Timestamp('2020-06-12 06:50:00'),\n",
       "  306.2,\n",
       "  306.88,\n",
       "  306.19,\n",
       "  306.61,\n",
       "  1203,\n",
       "  306.49,\n",
       "  250),\n",
       " (Timestamp('2020-06-12 07:00:00'),\n",
       "  306.61,\n",
       "  307.15,\n",
       "  306.6,\n",
       "  307.06,\n",
       "  1721,\n",
       "  306.99,\n",
       "  482),\n",
       " (Timestamp('2020-06-12 07:10:00'),\n",
       "  307.01,\n",
       "  307.42,\n",
       "  306.8,\n",
       "  307.04,\n",
       "  1218,\n",
       "  307.182,\n",
       "  325),\n",
       " (Timestamp('2020-06-12 07:20:00'),\n",
       "  307.06,\n",
       "  307.29,\n",
       "  306.65,\n",
       "  306.94,\n",
       "  1545,\n",
       "  306.868,\n",
       "  391),\n",
       " (Timestamp('2020-06-12 07:30:00'),\n",
       "  306.98,\n",
       "  307.05,\n",
       "  306.17,\n",
       "  306.32,\n",
       "  1334,\n",
       "  306.736,\n",
       "  334),\n",
       " (Timestamp('2020-06-12 07:40:00'),\n",
       "  306.4,\n",
       "  306.7,\n",
       "  306.16,\n",
       "  306.29,\n",
       "  2207,\n",
       "  306.412,\n",
       "  513),\n",
       " (Timestamp('2020-06-12 07:50:00'),\n",
       "  306.32,\n",
       "  306.78,\n",
       "  306.1,\n",
       "  306.1,\n",
       "  2366,\n",
       "  306.57,\n",
       "  539),\n",
       " (Timestamp('2020-06-12 08:00:00'),\n",
       "  306.08,\n",
       "  307.54,\n",
       "  303.0,\n",
       "  305.73,\n",
       "  4747,\n",
       "  306.06,\n",
       "  1113),\n",
       " (Timestamp('2020-06-12 08:10:00'),\n",
       "  305.68,\n",
       "  306.06,\n",
       "  305.36,\n",
       "  305.88,\n",
       "  2786,\n",
       "  305.603,\n",
       "  726),\n",
       " (Timestamp('2020-06-12 08:20:00'),\n",
       "  305.85,\n",
       "  306.47,\n",
       "  305.85,\n",
       "  306.21,\n",
       "  1902,\n",
       "  306.225,\n",
       "  580),\n",
       " (Timestamp('2020-06-12 08:30:00'),\n",
       "  306.25,\n",
       "  307.33,\n",
       "  306.21,\n",
       "  307.26,\n",
       "  3582,\n",
       "  306.689,\n",
       "  1205),\n",
       " (Timestamp('2020-06-12 08:40:00'),\n",
       "  307.28,\n",
       "  307.66,\n",
       "  306.93,\n",
       "  307.13,\n",
       "  4292,\n",
       "  307.333,\n",
       "  1252),\n",
       " (Timestamp('2020-06-12 08:50:00'),\n",
       "  307.15,\n",
       "  307.36,\n",
       "  306.82,\n",
       "  307.2,\n",
       "  2290,\n",
       "  307.062,\n",
       "  611),\n",
       " (Timestamp('2020-06-12 09:00:00'),\n",
       "  307.21,\n",
       "  307.6,\n",
       "  307.12,\n",
       "  307.43,\n",
       "  1972,\n",
       "  307.372,\n",
       "  552),\n",
       " (Timestamp('2020-06-12 09:10:00'),\n",
       "  307.47,\n",
       "  308.14,\n",
       "  307.26,\n",
       "  308.13,\n",
       "  3930,\n",
       "  307.813,\n",
       "  1132),\n",
       " (Timestamp('2020-06-12 09:20:00'),\n",
       "  308.14,\n",
       "  308.57,\n",
       "  308.01,\n",
       "  308.23,\n",
       "  5589,\n",
       "  308.257,\n",
       "  1574),\n",
       " (Timestamp('2020-06-12 09:30:00'),\n",
       "  308.24,\n",
       "  308.4,\n",
       "  307.06,\n",
       "  308.34,\n",
       "  62212,\n",
       "  307.838,\n",
       "  29259),\n",
       " (Timestamp('2020-06-12 09:40:00'),\n",
       "  308.34,\n",
       "  309.08,\n",
       "  307.51,\n",
       "  307.58,\n",
       "  44203,\n",
       "  308.582,\n",
       "  22451),\n",
       " (Timestamp('2020-06-12 09:50:00'),\n",
       "  307.57,\n",
       "  308.19,\n",
       "  307.21,\n",
       "  307.63,\n",
       "  27205,\n",
       "  307.609,\n",
       "  15434),\n",
       " (Timestamp('2020-06-12 10:00:00'),\n",
       "  307.63,\n",
       "  308.42,\n",
       "  307.34,\n",
       "  307.72,\n",
       "  26644,\n",
       "  307.932,\n",
       "  13586),\n",
       " (Timestamp('2020-06-12 10:10:00'),\n",
       "  307.73,\n",
       "  307.97,\n",
       "  306.67,\n",
       "  306.79,\n",
       "  28590,\n",
       "  307.148,\n",
       "  15066),\n",
       " (Timestamp('2020-06-12 10:20:00'),\n",
       "  306.79,\n",
       "  307.56,\n",
       "  306.06,\n",
       "  306.07,\n",
       "  26379,\n",
       "  306.863,\n",
       "  13188),\n",
       " (Timestamp('2020-06-12 10:30:00'),\n",
       "  306.09,\n",
       "  306.51,\n",
       "  304.61,\n",
       "  304.75,\n",
       "  44649,\n",
       "  305.719,\n",
       "  19996),\n",
       " (Timestamp('2020-06-12 10:40:00'),\n",
       "  304.74,\n",
       "  305.84,\n",
       "  304.69,\n",
       "  305.13,\n",
       "  30182,\n",
       "  305.29,\n",
       "  14716),\n",
       " (Timestamp('2020-06-12 10:50:00'),\n",
       "  305.16,\n",
       "  305.16,\n",
       "  302.67,\n",
       "  302.68,\n",
       "  50268,\n",
       "  303.693,\n",
       "  23205),\n",
       " (Timestamp('2020-06-12 11:00:00'),\n",
       "  302.67,\n",
       "  303.73,\n",
       "  301.13,\n",
       "  303.58,\n",
       "  66472,\n",
       "  302.421,\n",
       "  31626),\n",
       " (Timestamp('2020-06-12 11:10:00'),\n",
       "  303.58,\n",
       "  303.64,\n",
       "  300.97,\n",
       "  301.0,\n",
       "  37362,\n",
       "  302.431,\n",
       "  20178),\n",
       " (Timestamp('2020-06-12 11:20:00'),\n",
       "  300.97,\n",
       "  302.85,\n",
       "  300.46,\n",
       "  302.38,\n",
       "  52272,\n",
       "  301.559,\n",
       "  28899),\n",
       " (Timestamp('2020-06-12 11:30:00'),\n",
       "  302.38,\n",
       "  304.61,\n",
       "  301.82,\n",
       "  304.23,\n",
       "  44272,\n",
       "  303.386,\n",
       "  21819),\n",
       " (Timestamp('2020-06-12 11:40:00'),\n",
       "  304.24,\n",
       "  304.66,\n",
       "  303.26,\n",
       "  304.2,\n",
       "  28728,\n",
       "  304.029,\n",
       "  15057),\n",
       " (Timestamp('2020-06-12 11:50:00'),\n",
       "  304.2,\n",
       "  305.28,\n",
       "  303.46,\n",
       "  305.22,\n",
       "  27931,\n",
       "  304.44,\n",
       "  14550),\n",
       " (Timestamp('2020-06-12 12:00:00'),\n",
       "  305.21,\n",
       "  305.89,\n",
       "  304.79,\n",
       "  305.36,\n",
       "  24443,\n",
       "  305.425,\n",
       "  12799),\n",
       " (Timestamp('2020-06-12 12:10:00'),\n",
       "  305.35,\n",
       "  305.62,\n",
       "  304.53,\n",
       "  305.46,\n",
       "  20132,\n",
       "  305.03,\n",
       "  10745),\n",
       " (Timestamp('2020-06-12 12:20:00'),\n",
       "  305.41,\n",
       "  305.6,\n",
       "  303.84,\n",
       "  304.31,\n",
       "  20567,\n",
       "  304.565,\n",
       "  11739),\n",
       " (Timestamp('2020-06-12 12:30:00'),\n",
       "  304.3,\n",
       "  304.4,\n",
       "  303.08,\n",
       "  303.36,\n",
       "  27789,\n",
       "  303.52,\n",
       "  16066),\n",
       " (Timestamp('2020-06-12 12:40:00'),\n",
       "  303.38,\n",
       "  304.06,\n",
       "  302.59,\n",
       "  302.69,\n",
       "  20056,\n",
       "  303.25,\n",
       "  12943),\n",
       " (Timestamp('2020-06-12 12:50:00'),\n",
       "  302.74,\n",
       "  304.06,\n",
       "  302.73,\n",
       "  303.79,\n",
       "  14078,\n",
       "  303.564,\n",
       "  8812),\n",
       " (Timestamp('2020-06-12 13:00:00'),\n",
       "  303.81,\n",
       "  304.01,\n",
       "  302.28,\n",
       "  302.75,\n",
       "  15381,\n",
       "  302.877,\n",
       "  8876),\n",
       " (Timestamp('2020-06-12 13:10:00'),\n",
       "  302.75,\n",
       "  302.78,\n",
       "  301.79,\n",
       "  302.23,\n",
       "  12847,\n",
       "  302.353,\n",
       "  7591),\n",
       " (Timestamp('2020-06-12 13:20:00'),\n",
       "  302.22,\n",
       "  302.85,\n",
       "  301.47,\n",
       "  301.85,\n",
       "  19167,\n",
       "  302.093,\n",
       "  10781),\n",
       " (Timestamp('2020-06-12 13:30:00'),\n",
       "  301.86,\n",
       "  302.23,\n",
       "  300.17,\n",
       "  300.56,\n",
       "  32363,\n",
       "  301.018,\n",
       "  18601),\n",
       " (Timestamp('2020-06-12 13:40:00'),\n",
       "  300.54,\n",
       "  301.37,\n",
       "  299.18,\n",
       "  299.49,\n",
       "  44899,\n",
       "  300.133,\n",
       "  24401),\n",
       " (Timestamp('2020-06-12 13:50:00'),\n",
       "  299.48,\n",
       "  300.42,\n",
       "  298.74,\n",
       "  298.88,\n",
       "  40901,\n",
       "  299.476,\n",
       "  23145),\n",
       " (Timestamp('2020-06-12 14:00:00'),\n",
       "  298.88,\n",
       "  300.5,\n",
       "  298.6,\n",
       "  299.33,\n",
       "  47980,\n",
       "  299.612,\n",
       "  26511),\n",
       " (Timestamp('2020-06-12 14:10:00'),\n",
       "  299.34,\n",
       "  301.29,\n",
       "  299.34,\n",
       "  300.16,\n",
       "  38513,\n",
       "  300.51,\n",
       "  20540),\n",
       " (Timestamp('2020-06-12 14:20:00'),\n",
       "  300.16,\n",
       "  301.17,\n",
       "  299.88,\n",
       "  301.08,\n",
       "  25387,\n",
       "  300.575,\n",
       "  14432),\n",
       " (Timestamp('2020-06-12 14:30:00'),\n",
       "  301.14,\n",
       "  302.68,\n",
       "  300.94,\n",
       "  301.2,\n",
       "  45809,\n",
       "  301.864,\n",
       "  26545),\n",
       " (Timestamp('2020-06-12 14:40:00'),\n",
       "  301.2,\n",
       "  301.99,\n",
       "  300.35,\n",
       "  301.38,\n",
       "  24881,\n",
       "  301.218,\n",
       "  14666),\n",
       " (Timestamp('2020-06-12 14:50:00'),\n",
       "  301.4,\n",
       "  302.25,\n",
       "  300.93,\n",
       "  302.1,\n",
       "  19555,\n",
       "  301.638,\n",
       "  12972),\n",
       " (Timestamp('2020-06-12 15:00:00'),\n",
       "  302.09,\n",
       "  303.62,\n",
       "  302.04,\n",
       "  302.88,\n",
       "  34320,\n",
       "  302.833,\n",
       "  19567),\n",
       " (Timestamp('2020-06-12 15:10:00'),\n",
       "  302.89,\n",
       "  303.73,\n",
       "  302.06,\n",
       "  302.79,\n",
       "  41836,\n",
       "  303.014,\n",
       "  24544),\n",
       " (Timestamp('2020-06-12 15:20:00'),\n",
       "  302.8,\n",
       "  302.97,\n",
       "  301.06,\n",
       "  301.71,\n",
       "  39811,\n",
       "  301.913,\n",
       "  24028),\n",
       " (Timestamp('2020-06-12 15:30:00'),\n",
       "  301.71,\n",
       "  302.85,\n",
       "  301.16,\n",
       "  302.39,\n",
       "  41004,\n",
       "  302.069,\n",
       "  25314),\n",
       " (Timestamp('2020-06-12 15:40:00'),\n",
       "  302.41,\n",
       "  304.37,\n",
       "  302.12,\n",
       "  304.31,\n",
       "  49637,\n",
       "  303.253,\n",
       "  27105),\n",
       " (Timestamp('2020-06-12 15:50:00'),\n",
       "  304.34,\n",
       "  305.07,\n",
       "  303.82,\n",
       "  304.27,\n",
       "  118051,\n",
       "  304.539,\n",
       "  49042),\n",
       " (Timestamp('2020-06-12 16:00:00'),\n",
       "  304.28,\n",
       "  304.75,\n",
       "  303.71,\n",
       "  304.21,\n",
       "  25745,\n",
       "  304.218,\n",
       "  4033),\n",
       " (Timestamp('2020-06-12 16:10:00'),\n",
       "  304.2,\n",
       "  307.2,\n",
       "  303.45,\n",
       "  303.96,\n",
       "  29072,\n",
       "  304.216,\n",
       "  2515),\n",
       " (Timestamp('2020-06-12 16:20:00'),\n",
       "  303.97,\n",
       "  304.01,\n",
       "  303.92,\n",
       "  303.99,\n",
       "  1451,\n",
       "  303.98,\n",
       "  278),\n",
       " (Timestamp('2020-06-12 16:30:00'),\n",
       "  303.99,\n",
       "  304.37,\n",
       "  303.89,\n",
       "  304.13,\n",
       "  1949,\n",
       "  304.04,\n",
       "  429),\n",
       " (Timestamp('2020-06-12 16:40:00'),\n",
       "  304.1,\n",
       "  304.21,\n",
       "  304.0,\n",
       "  304.17,\n",
       "  751,\n",
       "  304.126,\n",
       "  150),\n",
       " (Timestamp('2020-06-12 16:50:00'),\n",
       "  304.19,\n",
       "  304.3,\n",
       "  300.46,\n",
       "  303.93,\n",
       "  2442,\n",
       "  302.633,\n",
       "  410),\n",
       " (Timestamp('2020-06-12 17:00:00'),\n",
       "  303.94,\n",
       "  303.97,\n",
       "  303.45,\n",
       "  303.46,\n",
       "  1514,\n",
       "  303.657,\n",
       "  296),\n",
       " (Timestamp('2020-06-12 17:10:00'),\n",
       "  303.46,\n",
       "  303.62,\n",
       "  303.21,\n",
       "  303.55,\n",
       "  1518,\n",
       "  303.35,\n",
       "  348),\n",
       " (Timestamp('2020-06-12 17:20:00'),\n",
       "  303.5,\n",
       "  303.75,\n",
       "  303.5,\n",
       "  303.73,\n",
       "  223,\n",
       "  303.685,\n",
       "  66),\n",
       " (Timestamp('2020-06-12 17:30:00'),\n",
       "  303.64,\n",
       "  304.21,\n",
       "  303.63,\n",
       "  303.69,\n",
       "  172,\n",
       "  303.763,\n",
       "  73),\n",
       " (Timestamp('2020-06-12 17:40:00'),\n",
       "  303.7,\n",
       "  304.0,\n",
       "  303.7,\n",
       "  304.0,\n",
       "  199,\n",
       "  303.9,\n",
       "  90),\n",
       " (Timestamp('2020-06-12 17:50:00'),\n",
       "  304.05,\n",
       "  304.1,\n",
       "  303.93,\n",
       "  303.96,\n",
       "  85,\n",
       "  304.011,\n",
       "  37),\n",
       " (Timestamp('2020-06-12 18:00:00'),\n",
       "  303.96,\n",
       "  304.21,\n",
       "  303.88,\n",
       "  303.88,\n",
       "  579,\n",
       "  304.071,\n",
       "  129),\n",
       " (Timestamp('2020-06-12 18:10:00'),\n",
       "  303.88,\n",
       "  303.94,\n",
       "  303.81,\n",
       "  303.85,\n",
       "  182,\n",
       "  303.884,\n",
       "  40),\n",
       " (Timestamp('2020-06-12 18:20:00'),\n",
       "  303.94,\n",
       "  304.05,\n",
       "  303.9,\n",
       "  303.96,\n",
       "  284,\n",
       "  304.011,\n",
       "  49),\n",
       " (Timestamp('2020-06-12 18:30:00'),\n",
       "  304.0,\n",
       "  304.04,\n",
       "  303.85,\n",
       "  303.88,\n",
       "  215,\n",
       "  303.913,\n",
       "  45),\n",
       " (Timestamp('2020-06-12 18:40:00'),\n",
       "  303.88,\n",
       "  303.88,\n",
       "  303.8,\n",
       "  303.85,\n",
       "  22,\n",
       "  303.852,\n",
       "  17),\n",
       " (Timestamp('2020-06-12 18:50:00'),\n",
       "  303.85,\n",
       "  303.85,\n",
       "  303.72,\n",
       "  303.75,\n",
       "  50,\n",
       "  303.783,\n",
       "  24),\n",
       " (Timestamp('2020-06-12 19:00:00'),\n",
       "  303.75,\n",
       "  303.75,\n",
       "  303.7,\n",
       "  303.7,\n",
       "  69,\n",
       "  303.725,\n",
       "  31),\n",
       " (Timestamp('2020-06-12 19:10:00'),\n",
       "  303.68,\n",
       "  303.77,\n",
       "  303.68,\n",
       "  303.7,\n",
       "  148,\n",
       "  303.699,\n",
       "  29),\n",
       " (Timestamp('2020-06-12 19:20:00'),\n",
       "  303.7,\n",
       "  303.8,\n",
       "  303.62,\n",
       "  303.8,\n",
       "  54,\n",
       "  303.693,\n",
       "  24),\n",
       " (Timestamp('2020-06-12 19:30:00'),\n",
       "  303.8,\n",
       "  303.85,\n",
       "  303.72,\n",
       "  303.75,\n",
       "  34,\n",
       "  303.795,\n",
       "  21),\n",
       " (Timestamp('2020-06-12 19:40:00'),\n",
       "  303.75,\n",
       "  303.8,\n",
       "  303.72,\n",
       "  303.8,\n",
       "  124,\n",
       "  303.797,\n",
       "  20),\n",
       " (Timestamp('2020-06-12 19:50:00'),\n",
       "  303.75,\n",
       "  303.8,\n",
       "  303.57,\n",
       "  303.58,\n",
       "  206,\n",
       "  303.757,\n",
       "  59),\n",
       " (Timestamp('2020-06-15 04:00:00'),\n",
       "  296.36,\n",
       "  296.91,\n",
       "  295.91,\n",
       "  295.99,\n",
       "  1158,\n",
       "  296.368,\n",
       "  456),\n",
       " (Timestamp('2020-06-15 04:10:00'),\n",
       "  295.99,\n",
       "  296.94,\n",
       "  295.92,\n",
       "  296.94,\n",
       "  320,\n",
       "  296.444,\n",
       "  105),\n",
       " (Timestamp('2020-06-15 04:20:00'),\n",
       "  296.91,\n",
       "  297.28,\n",
       "  296.75,\n",
       "  297.0,\n",
       "  281,\n",
       "  297.008,\n",
       "  135),\n",
       " (Timestamp('2020-06-15 04:30:00'),\n",
       "  297.0,\n",
       "  297.52,\n",
       "  296.98,\n",
       "  297.39,\n",
       "  180,\n",
       "  297.247,\n",
       "  73),\n",
       " (Timestamp('2020-06-15 04:40:00'),\n",
       "  297.1,\n",
       "  298.35,\n",
       "  297.07,\n",
       "  298.11,\n",
       "  216,\n",
       "  297.69,\n",
       "  104),\n",
       " (Timestamp('2020-06-15 04:50:00'),\n",
       "  298.09,\n",
       "  298.62,\n",
       "  298.03,\n",
       "  298.52,\n",
       "  295,\n",
       "  298.362,\n",
       "  98),\n",
       " (Timestamp('2020-06-15 05:00:00'),\n",
       "  298.49,\n",
       "  298.64,\n",
       "  297.55,\n",
       "  297.58,\n",
       "  94,\n",
       "  297.985,\n",
       "  51),\n",
       " (Timestamp('2020-06-15 05:10:00'),\n",
       "  297.67,\n",
       "  298.0,\n",
       "  297.51,\n",
       "  298.0,\n",
       "  142,\n",
       "  297.716,\n",
       "  56),\n",
       " (Timestamp('2020-06-15 05:20:00'),\n",
       "  298.04,\n",
       "  298.54,\n",
       "  297.85,\n",
       "  298.47,\n",
       "  124,\n",
       "  298.245,\n",
       "  52),\n",
       " (Timestamp('2020-06-15 05:30:00'),\n",
       "  298.45,\n",
       "  298.53,\n",
       "  297.86,\n",
       "  298.08,\n",
       "  99,\n",
       "  298.045,\n",
       "  44),\n",
       " (Timestamp('2020-06-15 05:40:00'),\n",
       "  298.1,\n",
       "  298.6,\n",
       "  297.97,\n",
       "  298.6,\n",
       "  431,\n",
       "  298.116,\n",
       "  119),\n",
       " (Timestamp('2020-06-15 05:50:00'),\n",
       "  298.64,\n",
       "  299.32,\n",
       "  298.64,\n",
       "  299.23,\n",
       "  237,\n",
       "  299.145,\n",
       "  103),\n",
       " (Timestamp('2020-06-15 06:00:00'),\n",
       "  299.11,\n",
       "  299.4,\n",
       "  299.0,\n",
       "  299.13,\n",
       "  348,\n",
       "  299.148,\n",
       "  100),\n",
       " (Timestamp('2020-06-15 06:10:00'),\n",
       "  299.16,\n",
       "  299.54,\n",
       "  298.74,\n",
       "  298.78,\n",
       "  283,\n",
       "  299.166,\n",
       "  98),\n",
       " (Timestamp('2020-06-15 06:20:00'),\n",
       "  298.94,\n",
       "  298.94,\n",
       "  298.5,\n",
       "  298.53,\n",
       "  243,\n",
       "  298.701,\n",
       "  78),\n",
       " (Timestamp('2020-06-15 06:30:00'),\n",
       "  298.45,\n",
       "  298.45,\n",
       "  297.9,\n",
       "  298.05,\n",
       "  274,\n",
       "  298.131,\n",
       "  81),\n",
       " (Timestamp('2020-06-15 06:40:00'),\n",
       "  298.06,\n",
       "  298.68,\n",
       "  297.46,\n",
       "  297.46,\n",
       "  325,\n",
       "  297.975,\n",
       "  107),\n",
       " (Timestamp('2020-06-15 06:50:00'),\n",
       "  297.48,\n",
       "  297.7,\n",
       "  297.13,\n",
       "  297.3,\n",
       "  350,\n",
       "  297.452,\n",
       "  130),\n",
       " (Timestamp('2020-06-15 07:00:00'),\n",
       "  297.24,\n",
       "  297.7,\n",
       "  297.18,\n",
       "  297.65,\n",
       "  1158,\n",
       "  297.401,\n",
       "  466),\n",
       " (Timestamp('2020-06-15 07:10:00'),\n",
       "  297.62,\n",
       "  297.77,\n",
       "  296.98,\n",
       "  297.39,\n",
       "  2295,\n",
       "  297.119,\n",
       "  514),\n",
       " (Timestamp('2020-06-15 07:20:00'),\n",
       "  297.36,\n",
       "  298.4,\n",
       "  297.27,\n",
       "  297.9,\n",
       "  1263,\n",
       "  297.938,\n",
       "  378),\n",
       " (Timestamp('2020-06-15 07:30:00'),\n",
       "  297.87,\n",
       "  298.54,\n",
       "  297.65,\n",
       "  298.41,\n",
       "  954,\n",
       "  298.115,\n",
       "  255),\n",
       " (Timestamp('2020-06-15 07:40:00'),\n",
       "  298.47,\n",
       "  299.2,\n",
       "  298.26,\n",
       "  299.04,\n",
       "  901,\n",
       "  298.67,\n",
       "  314),\n",
       " (Timestamp('2020-06-15 07:50:00'),\n",
       "  298.91,\n",
       "  299.28,\n",
       "  298.05,\n",
       "  298.25,\n",
       "  1867,\n",
       "  298.735,\n",
       "  532),\n",
       " (Timestamp('2020-06-15 08:00:00'),\n",
       "  298.29,\n",
       "  301.05,\n",
       "  295.39,\n",
       "  297.83,\n",
       "  3208,\n",
       "  298.016,\n",
       "  944),\n",
       " (Timestamp('2020-06-15 08:10:00'),\n",
       "  297.93,\n",
       "  298.25,\n",
       "  297.49,\n",
       "  297.89,\n",
       "  1497,\n",
       "  297.74,\n",
       "  433),\n",
       " (Timestamp('2020-06-15 08:20:00'),\n",
       "  297.89,\n",
       "  298.12,\n",
       "  297.43,\n",
       "  297.83,\n",
       "  2279,\n",
       "  297.772,\n",
       "  810),\n",
       " (Timestamp('2020-06-15 08:30:00'),\n",
       "  297.82,\n",
       "  298.58,\n",
       "  297.77,\n",
       "  298.51,\n",
       "  1627,\n",
       "  298.158,\n",
       "  500),\n",
       " (Timestamp('2020-06-15 08:40:00'),\n",
       "  298.5,\n",
       "  298.5,\n",
       "  297.73,\n",
       "  298.22,\n",
       "  799,\n",
       "  298.001,\n",
       "  275),\n",
       " (Timestamp('2020-06-15 08:50:00'),\n",
       "  298.21,\n",
       "  298.35,\n",
       "  297.89,\n",
       "  298.09,\n",
       "  919,\n",
       "  298.117,\n",
       "  339),\n",
       " (Timestamp('2020-06-15 09:00:00'),\n",
       "  298.05,\n",
       "  298.44,\n",
       "  297.68,\n",
       "  297.93,\n",
       "  1122,\n",
       "  298.039,\n",
       "  452),\n",
       " (Timestamp('2020-06-15 09:10:00'),\n",
       "  297.95,\n",
       "  298.25,\n",
       "  297.54,\n",
       "  298.05,\n",
       "  1396,\n",
       "  297.876,\n",
       "  460),\n",
       " (Timestamp('2020-06-15 09:20:00'),\n",
       "  298.0,\n",
       "  298.29,\n",
       "  297.8,\n",
       "  298.02,\n",
       "  3487,\n",
       "  298.029,\n",
       "  924),\n",
       " (Timestamp('2020-06-15 09:30:00'),\n",
       "  298.02,\n",
       "  299.31,\n",
       "  296.74,\n",
       "  298.75,\n",
       "  64817,\n",
       "  298.037,\n",
       "  28445),\n",
       " (Timestamp('2020-06-15 09:40:00'),\n",
       "  298.74,\n",
       "  299.39,\n",
       "  298.2,\n",
       "  298.48,\n",
       "  28701,\n",
       "  298.768,\n",
       "  15195),\n",
       " (Timestamp('2020-06-15 09:50:00'),\n",
       "  298.48,\n",
       "  300.11,\n",
       "  298.32,\n",
       "  299.96,\n",
       "  27706,\n",
       "  299.481,\n",
       "  14373),\n",
       " (Timestamp('2020-06-15 10:00:00'),\n",
       "  299.96,\n",
       "  300.98,\n",
       "  299.4,\n",
       "  300.91,\n",
       "  31329,\n",
       "  300.294,\n",
       "  15663),\n",
       " (Timestamp('2020-06-15 10:10:00'),\n",
       "  300.9,\n",
       "  301.33,\n",
       "  300.47,\n",
       "  301.16,\n",
       "  24485,\n",
       "  300.89,\n",
       "  13776),\n",
       " (Timestamp('2020-06-15 10:20:00'),\n",
       "  301.16,\n",
       "  301.22,\n",
       "  299.99,\n",
       "  299.99,\n",
       "  24549,\n",
       "  300.497,\n",
       "  13989),\n",
       " (Timestamp('2020-06-15 10:30:00'),\n",
       "  299.99,\n",
       "  300.73,\n",
       "  299.63,\n",
       "  299.7,\n",
       "  23786,\n",
       "  300.124,\n",
       "  12282),\n",
       " ...]"
      ]
     },
     "metadata": {},
     "output_type": "display_data"
    },
    {
     "ename": "UniqueViolationError",
     "evalue": "duplicate key value violates unique constraint \"1d_un\"\nDETAIL:  Key (date)=(04:00:00) already exists.",
     "output_type": "error",
     "traceback": [
      "\u001b[0;31m---------------------------------------------------------------------------\u001b[0m",
      "\u001b[0;31mUniqueViolationError\u001b[0m                      Traceback (most recent call last)",
      "\u001b[0;32m<ipython-input-6-bdba4bd3f9fb>\u001b[0m in \u001b[0;36m<module>\u001b[0;34m\u001b[0m\n\u001b[1;32m     13\u001b[0m \u001b[0mdisplay\u001b[0m\u001b[0;34m(\u001b[0m\u001b[0mdf\u001b[0m\u001b[0;34m)\u001b[0m\u001b[0;34m\u001b[0m\u001b[0;34m\u001b[0m\u001b[0m\n\u001b[1;32m     14\u001b[0m \u001b[0mdf\u001b[0m\u001b[0;34m.\u001b[0m\u001b[0mto_csv\u001b[0m\u001b[0;34m(\u001b[0m\u001b[0;34m'SPY_bar_sample_10min'\u001b[0m\u001b[0;34m)\u001b[0m\u001b[0;34m\u001b[0m\u001b[0;34m\u001b[0m\u001b[0m\n\u001b[0;32m---> 15\u001b[0;31m \u001b[0masyncio\u001b[0m\u001b[0;34m.\u001b[0m\u001b[0mget_event_loop\u001b[0m\u001b[0;34m(\u001b[0m\u001b[0;34m)\u001b[0m\u001b[0;34m.\u001b[0m\u001b[0mrun_until_complete\u001b[0m\u001b[0;34m(\u001b[0m\u001b[0mcopyDF\u001b[0m\u001b[0;34m(\u001b[0m\u001b[0mdf\u001b[0m\u001b[0;34m,\u001b[0m\u001b[0;34m'spy'\u001b[0m\u001b[0;34m,\u001b[0m\u001b[0;34m'd1'\u001b[0m\u001b[0;34m)\u001b[0m\u001b[0;34m)\u001b[0m\u001b[0;34m\u001b[0m\u001b[0;34m\u001b[0m\u001b[0m\n\u001b[0m",
      "\u001b[0;32m/opt/conda/lib/python3.8/site-packages/nest_asyncio.py\u001b[0m in \u001b[0;36mrun_until_complete\u001b[0;34m(self, future)\u001b[0m\n\u001b[1;32m     93\u001b[0m                 raise RuntimeError(\n\u001b[1;32m     94\u001b[0m                     'Event loop stopped before Future completed.')\n\u001b[0;32m---> 95\u001b[0;31m             \u001b[0;32mreturn\u001b[0m \u001b[0mf\u001b[0m\u001b[0;34m.\u001b[0m\u001b[0mresult\u001b[0m\u001b[0;34m(\u001b[0m\u001b[0;34m)\u001b[0m\u001b[0;34m\u001b[0m\u001b[0;34m\u001b[0m\u001b[0m\n\u001b[0m\u001b[1;32m     96\u001b[0m         \u001b[0;32mfinally\u001b[0m\u001b[0;34m:\u001b[0m\u001b[0;34m\u001b[0m\u001b[0;34m\u001b[0m\u001b[0m\n\u001b[1;32m     97\u001b[0m             \u001b[0mevents\u001b[0m\u001b[0;34m.\u001b[0m\u001b[0m_set_running_loop\u001b[0m\u001b[0;34m(\u001b[0m\u001b[0mold_running_loop\u001b[0m\u001b[0;34m)\u001b[0m\u001b[0;34m\u001b[0m\u001b[0;34m\u001b[0m\u001b[0m\n",
      "\u001b[0;32m/opt/conda/lib/python3.8/asyncio/futures.py\u001b[0m in \u001b[0;36mresult\u001b[0;34m(self)\u001b[0m\n\u001b[1;32m    176\u001b[0m         \u001b[0mself\u001b[0m\u001b[0;34m.\u001b[0m\u001b[0m__log_traceback\u001b[0m \u001b[0;34m=\u001b[0m \u001b[0;32mFalse\u001b[0m\u001b[0;34m\u001b[0m\u001b[0;34m\u001b[0m\u001b[0m\n\u001b[1;32m    177\u001b[0m         \u001b[0;32mif\u001b[0m \u001b[0mself\u001b[0m\u001b[0;34m.\u001b[0m\u001b[0m_exception\u001b[0m \u001b[0;32mis\u001b[0m \u001b[0;32mnot\u001b[0m \u001b[0;32mNone\u001b[0m\u001b[0;34m:\u001b[0m\u001b[0;34m\u001b[0m\u001b[0;34m\u001b[0m\u001b[0m\n\u001b[0;32m--> 178\u001b[0;31m             \u001b[0;32mraise\u001b[0m \u001b[0mself\u001b[0m\u001b[0;34m.\u001b[0m\u001b[0m_exception\u001b[0m\u001b[0;34m\u001b[0m\u001b[0;34m\u001b[0m\u001b[0m\n\u001b[0m\u001b[1;32m    179\u001b[0m         \u001b[0;32mreturn\u001b[0m \u001b[0mself\u001b[0m\u001b[0;34m.\u001b[0m\u001b[0m_result\u001b[0m\u001b[0;34m\u001b[0m\u001b[0;34m\u001b[0m\u001b[0m\n\u001b[1;32m    180\u001b[0m \u001b[0;34m\u001b[0m\u001b[0m\n",
      "\u001b[0;32m/opt/conda/lib/python3.8/asyncio/tasks.py\u001b[0m in \u001b[0;36m__step\u001b[0;34m(***failed resolving arguments***)\u001b[0m\n\u001b[1;32m    280\u001b[0m                 \u001b[0mresult\u001b[0m \u001b[0;34m=\u001b[0m \u001b[0mcoro\u001b[0m\u001b[0;34m.\u001b[0m\u001b[0msend\u001b[0m\u001b[0;34m(\u001b[0m\u001b[0;32mNone\u001b[0m\u001b[0;34m)\u001b[0m\u001b[0;34m\u001b[0m\u001b[0;34m\u001b[0m\u001b[0m\n\u001b[1;32m    281\u001b[0m             \u001b[0;32melse\u001b[0m\u001b[0;34m:\u001b[0m\u001b[0;34m\u001b[0m\u001b[0;34m\u001b[0m\u001b[0m\n\u001b[0;32m--> 282\u001b[0;31m                 \u001b[0mresult\u001b[0m \u001b[0;34m=\u001b[0m \u001b[0mcoro\u001b[0m\u001b[0;34m.\u001b[0m\u001b[0mthrow\u001b[0m\u001b[0;34m(\u001b[0m\u001b[0mexc\u001b[0m\u001b[0;34m)\u001b[0m\u001b[0;34m\u001b[0m\u001b[0;34m\u001b[0m\u001b[0m\n\u001b[0m\u001b[1;32m    283\u001b[0m         \u001b[0;32mexcept\u001b[0m \u001b[0mStopIteration\u001b[0m \u001b[0;32mas\u001b[0m \u001b[0mexc\u001b[0m\u001b[0;34m:\u001b[0m\u001b[0;34m\u001b[0m\u001b[0;34m\u001b[0m\u001b[0m\n\u001b[1;32m    284\u001b[0m             \u001b[0;32mif\u001b[0m \u001b[0mself\u001b[0m\u001b[0;34m.\u001b[0m\u001b[0m_must_cancel\u001b[0m\u001b[0;34m:\u001b[0m\u001b[0;34m\u001b[0m\u001b[0;34m\u001b[0m\u001b[0m\n",
      "\u001b[0;32m<ipython-input-3-c653d20f4437>\u001b[0m in \u001b[0;36mcopyDF\u001b[0;34m(df, schema, table)\u001b[0m\n\u001b[1;32m     14\u001b[0m     \u001b[0mli\u001b[0m\u001b[0;34m.\u001b[0m\u001b[0minsert\u001b[0m\u001b[0;34m(\u001b[0m\u001b[0;36m0\u001b[0m\u001b[0;34m,\u001b[0m\u001b[0mdf\u001b[0m\u001b[0;34m.\u001b[0m\u001b[0mindex\u001b[0m\u001b[0;34m.\u001b[0m\u001b[0mname\u001b[0m\u001b[0;34m)\u001b[0m\u001b[0;34m\u001b[0m\u001b[0;34m\u001b[0m\u001b[0m\n\u001b[1;32m     15\u001b[0m     \u001b[0mdisplay\u001b[0m\u001b[0;34m(\u001b[0m\u001b[0mtuples\u001b[0m\u001b[0;34m)\u001b[0m\u001b[0;34m\u001b[0m\u001b[0;34m\u001b[0m\u001b[0m\n\u001b[0;32m---> 16\u001b[0;31m     \u001b[0;32mawait\u001b[0m \u001b[0mconn\u001b[0m\u001b[0;34m.\u001b[0m\u001b[0mcopy_records_to_table\u001b[0m\u001b[0;34m(\u001b[0m\u001b[0mtable\u001b[0m\u001b[0;34m,\u001b[0m \u001b[0mrecords\u001b[0m\u001b[0;34m=\u001b[0m\u001b[0mtuples\u001b[0m\u001b[0;34m,\u001b[0m \u001b[0mcolumns\u001b[0m\u001b[0;34m=\u001b[0m\u001b[0mli\u001b[0m\u001b[0;34m,\u001b[0m \u001b[0mtimeout\u001b[0m\u001b[0;34m=\u001b[0m\u001b[0;36m10\u001b[0m\u001b[0;34m)\u001b[0m\u001b[0;34m\u001b[0m\u001b[0;34m\u001b[0m\u001b[0m\n\u001b[0m\u001b[1;32m     17\u001b[0m     \u001b[0;32mawait\u001b[0m \u001b[0mconn\u001b[0m\u001b[0;34m.\u001b[0m\u001b[0mclose\u001b[0m\u001b[0;34m(\u001b[0m\u001b[0;34m)\u001b[0m\u001b[0;34m\u001b[0m\u001b[0;34m\u001b[0m\u001b[0m\n\u001b[1;32m     18\u001b[0m \u001b[0;34m\u001b[0m\u001b[0m\n",
      "\u001b[0;32m/opt/conda/lib/python3.8/site-packages/asyncpg/connection.py\u001b[0m in \u001b[0;36mcopy_records_to_table\u001b[0;34m(self, table_name, records, columns, schema_name, timeout)\u001b[0m\n\u001b[1;32m    751\u001b[0m             tab=tabname, cols=cols, opts=opts)\n\u001b[1;32m    752\u001b[0m \u001b[0;34m\u001b[0m\u001b[0m\n\u001b[0;32m--> 753\u001b[0;31m         return await self._copy_in_records(\n\u001b[0m\u001b[1;32m    754\u001b[0m             copy_stmt, records, intro_ps._state, timeout)\n\u001b[1;32m    755\u001b[0m \u001b[0;34m\u001b[0m\u001b[0m\n",
      "\u001b[0;32m/opt/conda/lib/python3.8/site-packages/asyncpg/connection.py\u001b[0m in \u001b[0;36m_copy_in_records\u001b[0;34m(self, copy_stmt, records, intro_stmt, timeout)\u001b[0m\n\u001b[1;32m    873\u001b[0m \u001b[0;34m\u001b[0m\u001b[0m\n\u001b[1;32m    874\u001b[0m     \u001b[0;32masync\u001b[0m \u001b[0;32mdef\u001b[0m \u001b[0m_copy_in_records\u001b[0m\u001b[0;34m(\u001b[0m\u001b[0mself\u001b[0m\u001b[0;34m,\u001b[0m \u001b[0mcopy_stmt\u001b[0m\u001b[0;34m,\u001b[0m \u001b[0mrecords\u001b[0m\u001b[0;34m,\u001b[0m \u001b[0mintro_stmt\u001b[0m\u001b[0;34m,\u001b[0m \u001b[0mtimeout\u001b[0m\u001b[0;34m)\u001b[0m\u001b[0;34m:\u001b[0m\u001b[0;34m\u001b[0m\u001b[0;34m\u001b[0m\u001b[0m\n\u001b[0;32m--> 875\u001b[0;31m         return await self._protocol.copy_in(\n\u001b[0m\u001b[1;32m    876\u001b[0m             copy_stmt, None, None, records, intro_stmt, timeout)\n\u001b[1;32m    877\u001b[0m \u001b[0;34m\u001b[0m\u001b[0m\n",
      "\u001b[0;32m/opt/conda/lib/python3.8/site-packages/asyncpg/protocol/protocol.pyx\u001b[0m in \u001b[0;36mcopy_in\u001b[0;34m()\u001b[0m\n",
      "\u001b[0;32m/opt/conda/lib/python3.8/asyncio/futures.py\u001b[0m in \u001b[0;36m__await__\u001b[0;34m(self)\u001b[0m\n\u001b[1;32m    258\u001b[0m         \u001b[0;32mif\u001b[0m \u001b[0;32mnot\u001b[0m \u001b[0mself\u001b[0m\u001b[0;34m.\u001b[0m\u001b[0mdone\u001b[0m\u001b[0;34m(\u001b[0m\u001b[0;34m)\u001b[0m\u001b[0;34m:\u001b[0m\u001b[0;34m\u001b[0m\u001b[0;34m\u001b[0m\u001b[0m\n\u001b[1;32m    259\u001b[0m             \u001b[0mself\u001b[0m\u001b[0;34m.\u001b[0m\u001b[0m_asyncio_future_blocking\u001b[0m \u001b[0;34m=\u001b[0m \u001b[0;32mTrue\u001b[0m\u001b[0;34m\u001b[0m\u001b[0;34m\u001b[0m\u001b[0m\n\u001b[0;32m--> 260\u001b[0;31m             \u001b[0;32myield\u001b[0m \u001b[0mself\u001b[0m  \u001b[0;31m# This tells Task to wait for completion.\u001b[0m\u001b[0;34m\u001b[0m\u001b[0;34m\u001b[0m\u001b[0m\n\u001b[0m\u001b[1;32m    261\u001b[0m         \u001b[0;32mif\u001b[0m \u001b[0;32mnot\u001b[0m \u001b[0mself\u001b[0m\u001b[0;34m.\u001b[0m\u001b[0mdone\u001b[0m\u001b[0;34m(\u001b[0m\u001b[0;34m)\u001b[0m\u001b[0;34m:\u001b[0m\u001b[0;34m\u001b[0m\u001b[0;34m\u001b[0m\u001b[0m\n\u001b[1;32m    262\u001b[0m             \u001b[0;32mraise\u001b[0m \u001b[0mRuntimeError\u001b[0m\u001b[0;34m(\u001b[0m\u001b[0;34m\"await wasn't used with future\"\u001b[0m\u001b[0;34m)\u001b[0m\u001b[0;34m\u001b[0m\u001b[0;34m\u001b[0m\u001b[0m\n",
      "\u001b[0;32m/opt/conda/lib/python3.8/asyncio/tasks.py\u001b[0m in \u001b[0;36m__wakeup\u001b[0;34m(self, future)\u001b[0m\n\u001b[1;32m    347\u001b[0m     \u001b[0;32mdef\u001b[0m \u001b[0m__wakeup\u001b[0m\u001b[0;34m(\u001b[0m\u001b[0mself\u001b[0m\u001b[0;34m,\u001b[0m \u001b[0mfuture\u001b[0m\u001b[0;34m)\u001b[0m\u001b[0;34m:\u001b[0m\u001b[0;34m\u001b[0m\u001b[0;34m\u001b[0m\u001b[0m\n\u001b[1;32m    348\u001b[0m         \u001b[0;32mtry\u001b[0m\u001b[0;34m:\u001b[0m\u001b[0;34m\u001b[0m\u001b[0;34m\u001b[0m\u001b[0m\n\u001b[0;32m--> 349\u001b[0;31m             \u001b[0mfuture\u001b[0m\u001b[0;34m.\u001b[0m\u001b[0mresult\u001b[0m\u001b[0;34m(\u001b[0m\u001b[0;34m)\u001b[0m\u001b[0;34m\u001b[0m\u001b[0;34m\u001b[0m\u001b[0m\n\u001b[0m\u001b[1;32m    350\u001b[0m         \u001b[0;32mexcept\u001b[0m \u001b[0mBaseException\u001b[0m \u001b[0;32mas\u001b[0m \u001b[0mexc\u001b[0m\u001b[0;34m:\u001b[0m\u001b[0;34m\u001b[0m\u001b[0;34m\u001b[0m\u001b[0m\n\u001b[1;32m    351\u001b[0m             \u001b[0;31m# This may also be a cancellation.\u001b[0m\u001b[0;34m\u001b[0m\u001b[0;34m\u001b[0m\u001b[0;34m\u001b[0m\u001b[0m\n",
      "\u001b[0;32m/opt/conda/lib/python3.8/asyncio/futures.py\u001b[0m in \u001b[0;36mresult\u001b[0;34m(self)\u001b[0m\n\u001b[1;32m    176\u001b[0m         \u001b[0mself\u001b[0m\u001b[0;34m.\u001b[0m\u001b[0m__log_traceback\u001b[0m \u001b[0;34m=\u001b[0m \u001b[0;32mFalse\u001b[0m\u001b[0;34m\u001b[0m\u001b[0;34m\u001b[0m\u001b[0m\n\u001b[1;32m    177\u001b[0m         \u001b[0;32mif\u001b[0m \u001b[0mself\u001b[0m\u001b[0;34m.\u001b[0m\u001b[0m_exception\u001b[0m \u001b[0;32mis\u001b[0m \u001b[0;32mnot\u001b[0m \u001b[0;32mNone\u001b[0m\u001b[0;34m:\u001b[0m\u001b[0;34m\u001b[0m\u001b[0;34m\u001b[0m\u001b[0m\n\u001b[0;32m--> 178\u001b[0;31m             \u001b[0;32mraise\u001b[0m \u001b[0mself\u001b[0m\u001b[0;34m.\u001b[0m\u001b[0m_exception\u001b[0m\u001b[0;34m\u001b[0m\u001b[0;34m\u001b[0m\u001b[0m\n\u001b[0m\u001b[1;32m    179\u001b[0m         \u001b[0;32mreturn\u001b[0m \u001b[0mself\u001b[0m\u001b[0;34m.\u001b[0m\u001b[0m_result\u001b[0m\u001b[0;34m\u001b[0m\u001b[0;34m\u001b[0m\u001b[0m\n\u001b[1;32m    180\u001b[0m \u001b[0;34m\u001b[0m\u001b[0m\n",
      "\u001b[0;31mUniqueViolationError\u001b[0m: duplicate key value violates unique constraint \"1d_un\"\nDETAIL:  Key (date)=(04:00:00) already exists."
     ]
    }
   ],
   "source": [
    "end = \"20200828 23:59:00\"\n",
    "histbarExample = ['3 M','10 mins','TRADES']\n",
    "def histBar(endt,dStr,bSize,show,useRTH=False):\n",
    "    bars = ib.reqHistoricalData(\n",
    "        contract,endDateTime=end, durationStr=f'{dStr}',\n",
    "        barSizeSetting=f'{bSize}', whatToShow=f'{show}', useRTH=useRTH)\n",
    "    df = util.df(bars)\n",
    "    df = df.set_index('date')\n",
    "    df.columns = map(str.lower, df.columns)\n",
    "    return df\n",
    "\n",
    "df = histBar(end,histbarExample[0],histbarExample[1],histbarExample[2])\n",
    "display(df)\n",
    "df.to_csv('SPY_bar_sample_10min')\n",
    "asyncio.get_event_loop().run_until_complete(copyDF(df,'spy','d1'))"
   ]
  }
 ],
 "metadata": {
  "kernelspec": {
   "display_name": "Python 3",
   "language": "python",
   "name": "python3"
  },
  "language_info": {
   "codemirror_mode": {
    "name": "ipython",
    "version": 3
   },
   "file_extension": ".py",
   "mimetype": "text/x-python",
   "name": "python",
   "nbconvert_exporter": "python",
   "pygments_lexer": "ipython3",
   "version": "3.8.3"
  },
  "toc": {
   "base_numbering": 1,
   "nav_menu": {},
   "number_sections": true,
   "sideBar": true,
   "skip_h1_title": false,
   "title_cell": "Table of Contents",
   "title_sidebar": "Contents",
   "toc_cell": false,
   "toc_position": {},
   "toc_section_display": true,
   "toc_window_display": false
  },
  "varInspector": {
   "cols": {
    "lenName": 16,
    "lenType": 16,
    "lenVar": 40
   },
   "kernels_config": {
    "python": {
     "delete_cmd_postfix": "",
     "delete_cmd_prefix": "del ",
     "library": "var_list.py",
     "varRefreshCmd": "print(var_dic_list())"
    },
    "r": {
     "delete_cmd_postfix": ") ",
     "delete_cmd_prefix": "rm(",
     "library": "var_list.r",
     "varRefreshCmd": "cat(var_dic_list()) "
    }
   },
   "position": {
    "height": "646.017px",
    "left": "1199.83px",
    "right": "20.8333px",
    "top": "104px",
    "width": "539.333px"
   },
   "types_to_exclude": [
    "module",
    "function",
    "builtin_function_or_method",
    "instance",
    "_Feature"
   ],
   "window_display": false
  }
 },
 "nbformat": 4,
 "nbformat_minor": 4
}
