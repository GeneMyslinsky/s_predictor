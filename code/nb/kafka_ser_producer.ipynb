{
 "cells": [
  {
   "cell_type": "code",
   "execution_count": 4,
   "metadata": {
    "ExecuteTime": {
     "end_time": "2020-09-23T05:48:55.795803Z",
     "start_time": "2020-09-23T05:48:52.499974Z"
    }
   },
   "outputs": [
    {
     "name": "stdout",
     "output_type": "stream",
     "text": [
      "\u001b[33mWARNING: The directory '/root/.cache/pip' or its parent directory is not owned or is not writable by the current user. The cache has been disabled. Check the permissions and owner of that directory. If executing pip with sudo, you may want sudo's -H flag.\u001b[0m\n",
      "Requirement already satisfied: pydantic in /opt/conda/lib/python3.8/site-packages (1.6.1)\n",
      "\u001b[33mWARNING: The directory '/root/.cache/pip' or its parent directory is not owned or is not writable by the current user. The cache has been disabled. Check the permissions and owner of that directory. If executing pip with sudo, you may want sudo's -H flag.\u001b[0m\n",
      "Requirement already satisfied: fastavro in /opt/conda/lib/python3.8/site-packages (1.0.0.post1)\n"
     ]
    },
    {
     "ename": "NameError",
     "evalue": "name 'args' is not defined",
     "output_type": "error",
     "traceback": [
      "\u001b[0;31m---------------------------------------------------------------------------\u001b[0m",
      "\u001b[0;31mNameError\u001b[0m                                 Traceback (most recent call last)",
      "\u001b[0;32m<ipython-input-4-7765397bd0ba>\u001b[0m in \u001b[0;36m<module>\u001b[0;34m\u001b[0m\n\u001b[1;32m     98\u001b[0m     \u001b[0mproducer\u001b[0m\u001b[0;34m.\u001b[0m\u001b[0mflush\u001b[0m\u001b[0;34m(\u001b[0m\u001b[0;34m)\u001b[0m\u001b[0;34m\u001b[0m\u001b[0;34m\u001b[0m\u001b[0m\n\u001b[1;32m     99\u001b[0m \u001b[0;34m\u001b[0m\u001b[0m\n\u001b[0;32m--> 100\u001b[0;31m \u001b[0mmain\u001b[0m\u001b[0;34m(\u001b[0m\u001b[0;34m'tester2'\u001b[0m\u001b[0;34m)\u001b[0m\u001b[0;34m\u001b[0m\u001b[0;34m\u001b[0m\u001b[0m\n\u001b[0m\u001b[1;32m    101\u001b[0m \u001b[0;31m# if __name__ == '__main__':\u001b[0m\u001b[0;34m\u001b[0m\u001b[0;34m\u001b[0m\u001b[0;34m\u001b[0m\u001b[0m\n\u001b[1;32m    102\u001b[0m \u001b[0;31m#     parser = argparse.ArgumentParser(description=\"SerializingProducer Example\")\u001b[0m\u001b[0;34m\u001b[0m\u001b[0;34m\u001b[0m\u001b[0;34m\u001b[0m\u001b[0m\n",
      "\u001b[0;32m<ipython-input-4-7765397bd0ba>\u001b[0m in \u001b[0;36mmain\u001b[0;34m(topic)\u001b[0m\n\u001b[1;32m     63\u001b[0m     }\n\u001b[1;32m     64\u001b[0m     \"\"\"\n\u001b[0;32m---> 65\u001b[0;31m     \u001b[0mschema_registry_conf\u001b[0m \u001b[0;34m=\u001b[0m \u001b[0;34m{\u001b[0m\u001b[0;34m'url'\u001b[0m\u001b[0;34m:\u001b[0m \u001b[0margs\u001b[0m\u001b[0;34m.\u001b[0m\u001b[0mschema_registry\u001b[0m\u001b[0;34m}\u001b[0m\u001b[0;34m\u001b[0m\u001b[0;34m\u001b[0m\u001b[0m\n\u001b[0m\u001b[1;32m     66\u001b[0m     \u001b[0mschema_registry_client\u001b[0m \u001b[0;34m=\u001b[0m \u001b[0mSchemaRegistryClient\u001b[0m\u001b[0;34m(\u001b[0m\u001b[0mschema_registry_conf\u001b[0m\u001b[0;34m)\u001b[0m\u001b[0;34m\u001b[0m\u001b[0;34m\u001b[0m\u001b[0m\n\u001b[1;32m     67\u001b[0m \u001b[0;34m\u001b[0m\u001b[0m\n",
      "\u001b[0;31mNameError\u001b[0m: name 'args' is not defined"
     ]
    }
   ],
   "source": [
    "import argparse\n",
    "!pip install pydantic\n",
    "!pip install fastavro\n",
    "\n",
    "from confluent_kafka import DeserializingConsumer\n",
    "from confluent_kafka.schema_registry.json_schema import JSONDeserializer\n",
    "from confluent_kafka.serialization import StringDeserializer\n",
    "\n",
    "\n",
    "class reqHist(object):\n",
    "    def __init__(self, candlesize, ticker, from_dt, to_dt):\n",
    "        self.candlesize = candlesize\n",
    "        self.ticker = ticker\n",
    "        self.from_dt = from_dt\n",
    "        self.to_dt = to_dt\n",
    "\n",
    "def reqHistDict(user, ctx):\n",
    "    return dict(candlesize=user.candlesize,\n",
    "                ticker=user.ticker,\n",
    "                from_dt=user.from_dt,\n",
    "               to_dt=user.to_dt)\n",
    "\n",
    "\n",
    "def delivery_report(err, msg):\n",
    "    if err is not None:\n",
    "        print(\"Delivery failed for data request {}: {}\".format(msg.key(), err))\n",
    "        return\n",
    "    print('data request {} successfully produced to {} [{}] at offset {}'.format(\n",
    "        msg.key(), msg.topic(), msg.partition(), msg.offset()))\n",
    "\n",
    "\n",
    "def main(topic):\n",
    "#     topic = args.topic\n",
    "\n",
    "    schema_str = \"\"\"\n",
    "    {\n",
    "      \"$schema\": \"http://json-schema.org/draft-07/schema#\",\n",
    "      \"title\": \"Request Data\",\n",
    "      \"description\": \"Request Data\",\n",
    "      \"type\": \"object\",\n",
    "      \"properties\": {\n",
    "        \"candlesize\": {\n",
    "          \"description\": \"Size if candlesticks\",\n",
    "          \"type\": \"string\"\n",
    "        },\n",
    "        \"ticker\": {\n",
    "          \"description\": \"String of Ticker\",\n",
    "          \"type\": \"string\"\n",
    "        },\n",
    "        \"from_dt\": {\n",
    "          \"description\": \"date of start\",\n",
    "          \"type\": \"string\",\n",
    "          \"format\":\"date-time\"\n",
    "        },\n",
    "        \"to_dt\": {\n",
    "          \"description\": \"date of end\",\n",
    "          \"type\": \"string\",\n",
    "          \"format\":\"date-time\"\n",
    "          \n",
    "        }\n",
    "      },\n",
    "      \"required\": [ \"candlesize\", \"ticker\", \"from_dt\",\"to_dt\" ]\n",
    "    }\n",
    "    \"\"\"\n",
    "    schema_registry_conf = {'url': args.schema_registry}\n",
    "    schema_registry_client = SchemaRegistryClient(schema_registry_conf)\n",
    "\n",
    "    json_serializer = JSONSerializer(schema_str, schema_registry_client, user_to_dict)\n",
    "\n",
    "    producer_conf = {'bootstrap.servers': \"kafka1:9092\"\n",
    "                     'key.serializer': StringSerializer('utf_8'),\n",
    "                     'value.serializer': json_serializer}\n",
    "\n",
    "    producer = SerializingProducer(producer_conf)\n",
    "\n",
    "    print(\"Producing user records to topic {}. ^C to exit.\".format(topic))\n",
    "    while True:\n",
    "        # Serve on_delivery callbacks from previous calls to produce()\n",
    "        producer.poll(0.0)\n",
    "        try:\n",
    "            pick_candlesize = input(\"Enter cad: \")\n",
    "            pick_ticker = input(\"Enter t: \")\n",
    "            pick_from =input(\"Enter from: \")\n",
    "            pick_to = input(\"Enter to: \")\n",
    "            user = reqHist(candlesize=pick_candlesize,\n",
    "                        ticker=pick_ticker,\n",
    "                        from_dt=pick_from,\n",
    "                        to_dt=pick_to)\n",
    "            producer.produce(topic=topic, key=str(uuid4()), value=user,\n",
    "                             on_delivery=delivery_report)\n",
    "        except KeyboardInterrupt:\n",
    "            break\n",
    "        except ValueError:\n",
    "            print(\"Invalid input, discarding record...\")\n",
    "            continue\n",
    "\n",
    "    print(\"\\nFlushing records...\")\n",
    "    producer.flush()\n",
    "\n",
    "main('tester2')\n",
    "# if __name__ == '__main__':\n",
    "#     parser = argparse.ArgumentParser(description=\"SerializingProducer Example\")\n",
    "#     parser.add_argument('-b', dest=\"bootstrap_servers\", required=True,\n",
    "#                         help=\"Bootstrap broker(s) (host[:port])\")\n",
    "#     parser.add_argument('-s', dest=\"schema_registry\", required=True,\n",
    "#                         help=\"Schema Registry (http(s)://host[:port]\")\n",
    "#     parser.add_argument('-t', dest=\"topic\", default=\"example_serde_json\",\n",
    "#                         help=\"Topic name\")\n",
    "\n",
    "#     main(parser.parse_args())"
   ]
  }
 ],
 "metadata": {
  "kernelspec": {
   "display_name": "Python 3",
   "language": "python",
   "name": "python3"
  },
  "language_info": {
   "codemirror_mode": {
    "name": "ipython",
    "version": 3
   },
   "file_extension": ".py",
   "mimetype": "text/x-python",
   "name": "python",
   "nbconvert_exporter": "python",
   "pygments_lexer": "ipython3",
   "version": "3.8.3"
  },
  "toc": {
   "base_numbering": 1,
   "nav_menu": {},
   "number_sections": true,
   "sideBar": true,
   "skip_h1_title": false,
   "title_cell": "Table of Contents",
   "title_sidebar": "Contents",
   "toc_cell": false,
   "toc_position": {},
   "toc_section_display": true,
   "toc_window_display": false
  },
  "varInspector": {
   "cols": {
    "lenName": 16,
    "lenType": 16,
    "lenVar": 40
   },
   "kernels_config": {
    "python": {
     "delete_cmd_postfix": "",
     "delete_cmd_prefix": "del ",
     "library": "var_list.py",
     "varRefreshCmd": "print(var_dic_list())"
    },
    "r": {
     "delete_cmd_postfix": ") ",
     "delete_cmd_prefix": "rm(",
     "library": "var_list.r",
     "varRefreshCmd": "cat(var_dic_list()) "
    }
   },
   "types_to_exclude": [
    "module",
    "function",
    "builtin_function_or_method",
    "instance",
    "_Feature"
   ],
   "window_display": false
  }
 },
 "nbformat": 4,
 "nbformat_minor": 4
}
