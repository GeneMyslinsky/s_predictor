{
 "cells": [
  {
   "cell_type": "code",
   "execution_count": 2,
   "metadata": {
    "ExecuteTime": {
     "end_time": "2020-08-30T23:57:30.063573Z",
     "start_time": "2020-08-30T23:57:30.013774Z"
    }
   },
   "outputs": [
    {
     "data": {
      "text/plain": [
       "<IB connected to host.docker.internal:7497 clientId=15>"
      ]
     },
     "execution_count": 2,
     "metadata": {},
     "output_type": "execute_result"
    }
   ],
   "source": [
    "import datetime\n",
    "from ib_insync import *\n",
    "util.startLoop()\n",
    "\n",
    "ib = IB()\n",
    "ib.connect('host.docker.internal', 7497, clientId=15)\n",
    "\n",
    "bars = ib.reqHistoricalData(\n",
    "    contract, endDateTime='', durationStr='30 D',\n",
    "    barSizeSetting='1 hour', whatToShow='MIDPOINT', useRTH=True)\n",
    "\n",
    "# convert to pandas dataframe:\n",
    "df = util.df(bars)\n",
    "print(df)\n",
    "\n"
   ]
  },
  {
   "cell_type": "code",
   "execution_count": 24,
   "metadata": {
    "ExecuteTime": {
     "end_time": "2020-08-31T00:53:16.725024Z",
     "start_time": "2020-08-31T00:53:16.413511Z"
    },
    "scrolled": false
   },
   "outputs": [
    {
     "data": {
      "text/html": [
       "<div>\n",
       "<style scoped>\n",
       "    .dataframe tbody tr th:only-of-type {\n",
       "        vertical-align: middle;\n",
       "    }\n",
       "\n",
       "    .dataframe tbody tr th {\n",
       "        vertical-align: top;\n",
       "    }\n",
       "\n",
       "    .dataframe thead th {\n",
       "        text-align: right;\n",
       "    }\n",
       "</style>\n",
       "<table border=\"1\" class=\"dataframe\">\n",
       "  <thead>\n",
       "    <tr style=\"text-align: right;\">\n",
       "      <th></th>\n",
       "      <th>tickAttribLast</th>\n",
       "      <th>price</th>\n",
       "      <th>size</th>\n",
       "      <th>exchange</th>\n",
       "      <th>specialConditions</th>\n",
       "    </tr>\n",
       "    <tr>\n",
       "      <th>time</th>\n",
       "      <th></th>\n",
       "      <th></th>\n",
       "      <th></th>\n",
       "      <th></th>\n",
       "      <th></th>\n",
       "    </tr>\n",
       "  </thead>\n",
       "  <tbody>\n",
       "    <tr>\n",
       "      <th>2020-08-28 11:38:51-04:00</th>\n",
       "      <td>TickAttribLast(pastLimit=False, unreported=True)</td>\n",
       "      <td>349.1900</td>\n",
       "      <td>2</td>\n",
       "      <td>ISLAND</td>\n",
       "      <td>I</td>\n",
       "    </tr>\n",
       "    <tr>\n",
       "      <th>2020-08-28 11:38:51-04:00</th>\n",
       "      <td>TickAttribLast(pastLimit=False, unreported=True)</td>\n",
       "      <td>349.2000</td>\n",
       "      <td>4</td>\n",
       "      <td>ISLAND</td>\n",
       "      <td>F I</td>\n",
       "    </tr>\n",
       "    <tr>\n",
       "      <th>2020-08-28 11:38:51-04:00</th>\n",
       "      <td>TickAttribLast(pastLimit=False, unreported=True)</td>\n",
       "      <td>349.1975</td>\n",
       "      <td>4</td>\n",
       "      <td>FINRA</td>\n",
       "      <td>I</td>\n",
       "    </tr>\n",
       "    <tr>\n",
       "      <th>2020-08-28 11:38:51-04:00</th>\n",
       "      <td>TickAttribLast(pastLimit=False, unreported=True)</td>\n",
       "      <td>349.2000</td>\n",
       "      <td>20</td>\n",
       "      <td>FINRA</td>\n",
       "      <td>I</td>\n",
       "    </tr>\n",
       "    <tr>\n",
       "      <th>2020-08-28 11:38:51-04:00</th>\n",
       "      <td>TickAttribLast(pastLimit=False, unreported=True)</td>\n",
       "      <td>349.2000</td>\n",
       "      <td>7</td>\n",
       "      <td>ISLAND</td>\n",
       "      <td>I</td>\n",
       "    </tr>\n",
       "    <tr>\n",
       "      <th>...</th>\n",
       "      <td>...</td>\n",
       "      <td>...</td>\n",
       "      <td>...</td>\n",
       "      <td>...</td>\n",
       "      <td>...</td>\n",
       "    </tr>\n",
       "    <tr>\n",
       "      <th>2020-08-28 11:41:39-04:00</th>\n",
       "      <td>TickAttribLast(pastLimit=False, unreported=False)</td>\n",
       "      <td>349.1000</td>\n",
       "      <td>100</td>\n",
       "      <td>BATS</td>\n",
       "      <td>F</td>\n",
       "    </tr>\n",
       "    <tr>\n",
       "      <th>2020-08-28 11:41:39-04:00</th>\n",
       "      <td>TickAttribLast(pastLimit=False, unreported=True)</td>\n",
       "      <td>349.1000</td>\n",
       "      <td>24</td>\n",
       "      <td>ISLAND</td>\n",
       "      <td>F I</td>\n",
       "    </tr>\n",
       "    <tr>\n",
       "      <th>2020-08-28 11:41:39-04:00</th>\n",
       "      <td>TickAttribLast(pastLimit=False, unreported=True)</td>\n",
       "      <td>349.1001</td>\n",
       "      <td>1</td>\n",
       "      <td>FINRA</td>\n",
       "      <td>I</td>\n",
       "    </tr>\n",
       "    <tr>\n",
       "      <th>2020-08-28 11:41:40-04:00</th>\n",
       "      <td>TickAttribLast(pastLimit=False, unreported=True)</td>\n",
       "      <td>349.1000</td>\n",
       "      <td>3</td>\n",
       "      <td>BYX</td>\n",
       "      <td>I</td>\n",
       "    </tr>\n",
       "    <tr>\n",
       "      <th>2020-08-28 11:41:40-04:00</th>\n",
       "      <td>TickAttribLast(pastLimit=False, unreported=True)</td>\n",
       "      <td>349.1200</td>\n",
       "      <td>6</td>\n",
       "      <td>ARCA</td>\n",
       "      <td>I</td>\n",
       "    </tr>\n",
       "  </tbody>\n",
       "</table>\n",
       "<p>1000 rows × 5 columns</p>\n",
       "</div>"
      ],
      "text/plain": [
       "                                                              tickAttribLast  \\\n",
       "time                                                                           \n",
       "2020-08-28 11:38:51-04:00   TickAttribLast(pastLimit=False, unreported=True)   \n",
       "2020-08-28 11:38:51-04:00   TickAttribLast(pastLimit=False, unreported=True)   \n",
       "2020-08-28 11:38:51-04:00   TickAttribLast(pastLimit=False, unreported=True)   \n",
       "2020-08-28 11:38:51-04:00   TickAttribLast(pastLimit=False, unreported=True)   \n",
       "2020-08-28 11:38:51-04:00   TickAttribLast(pastLimit=False, unreported=True)   \n",
       "...                                                                      ...   \n",
       "2020-08-28 11:41:39-04:00  TickAttribLast(pastLimit=False, unreported=False)   \n",
       "2020-08-28 11:41:39-04:00   TickAttribLast(pastLimit=False, unreported=True)   \n",
       "2020-08-28 11:41:39-04:00   TickAttribLast(pastLimit=False, unreported=True)   \n",
       "2020-08-28 11:41:40-04:00   TickAttribLast(pastLimit=False, unreported=True)   \n",
       "2020-08-28 11:41:40-04:00   TickAttribLast(pastLimit=False, unreported=True)   \n",
       "\n",
       "                              price  size exchange specialConditions  \n",
       "time                                                                  \n",
       "2020-08-28 11:38:51-04:00  349.1900     2   ISLAND                 I  \n",
       "2020-08-28 11:38:51-04:00  349.2000     4   ISLAND               F I  \n",
       "2020-08-28 11:38:51-04:00  349.1975     4    FINRA                 I  \n",
       "2020-08-28 11:38:51-04:00  349.2000    20    FINRA                 I  \n",
       "2020-08-28 11:38:51-04:00  349.2000     7   ISLAND                 I  \n",
       "...                             ...   ...      ...               ...  \n",
       "2020-08-28 11:41:39-04:00  349.1000   100     BATS               F    \n",
       "2020-08-28 11:41:39-04:00  349.1000    24   ISLAND               F I  \n",
       "2020-08-28 11:41:39-04:00  349.1001     1    FINRA                 I  \n",
       "2020-08-28 11:41:40-04:00  349.1000     3      BYX                 I  \n",
       "2020-08-28 11:41:40-04:00  349.1200     6     ARCA                 I  \n",
       "\n",
       "[1000 rows x 5 columns]"
      ]
     },
     "metadata": {},
     "output_type": "display_data"
    },
    {
     "name": "stdout",
     "output_type": "stream",
     "text": [
      "tickAttribLast        object\n",
      "price                float64\n",
      "size                   int64\n",
      "exchange              object\n",
      "specialConditions     object\n",
      "dtype: object\n"
     ]
    }
   ],
   "source": [
    "start = ''\n",
    "end = \"20200828 11:41:41\"\n",
    "contract = Stock('SPY', 'SMART', 'USD')\n",
    "\n",
    "ticks = ib.reqHistoricalTicks(contract, start, end, 1000, 'TRADES', useRth=False)\n",
    "df = util.df(ticks)\n",
    "df = df.set_index('time')\n",
    "df = df.tz_convert('America/Toronto')\n",
    "display(df)\n",
    "print(df.dtypes)"
   ]
  },
  {
   "cell_type": "code",
   "execution_count": 23,
   "metadata": {
    "ExecuteTime": {
     "end_time": "2020-08-31T00:52:22.676874Z",
     "start_time": "2020-08-31T00:52:22.664587Z"
    }
   },
   "outputs": [
    {
     "ename": "ModuleNotFoundError",
     "evalue": "No module named 'asyncpg'",
     "output_type": "error",
     "traceback": [
      "\u001b[0;31m---------------------------------------------------------------------------\u001b[0m",
      "\u001b[0;31mModuleNotFoundError\u001b[0m                       Traceback (most recent call last)",
      "\u001b[0;32m<ipython-input-23-ac60d496334e>\u001b[0m in \u001b[0;36m<module>\u001b[0;34m\u001b[0m\n\u001b[0;32m----> 1\u001b[0;31m \u001b[0;32mimport\u001b[0m \u001b[0masyncpg\u001b[0m\u001b[0;34m\u001b[0m\u001b[0;34m\u001b[0m\u001b[0m\n\u001b[0m",
      "\u001b[0;31mModuleNotFoundError\u001b[0m: No module named 'asyncpg'"
     ]
    }
   ],
   "source": [
    "import asyncpg"
   ]
  }
 ],
 "metadata": {
  "kernelspec": {
   "display_name": "Python 3",
   "language": "python",
   "name": "python3"
  },
  "language_info": {
   "codemirror_mode": {
    "name": "ipython",
    "version": 3
   },
   "file_extension": ".py",
   "mimetype": "text/x-python",
   "name": "python",
   "nbconvert_exporter": "python",
   "pygments_lexer": "ipython3",
   "version": "3.8.3"
  },
  "toc": {
   "base_numbering": 1,
   "nav_menu": {},
   "number_sections": true,
   "sideBar": true,
   "skip_h1_title": false,
   "title_cell": "Table of Contents",
   "title_sidebar": "Contents",
   "toc_cell": false,
   "toc_position": {},
   "toc_section_display": true,
   "toc_window_display": false
  },
  "varInspector": {
   "cols": {
    "lenName": 16,
    "lenType": 16,
    "lenVar": 40
   },
   "kernels_config": {
    "python": {
     "delete_cmd_postfix": "",
     "delete_cmd_prefix": "del ",
     "library": "var_list.py",
     "varRefreshCmd": "print(var_dic_list())"
    },
    "r": {
     "delete_cmd_postfix": ") ",
     "delete_cmd_prefix": "rm(",
     "library": "var_list.r",
     "varRefreshCmd": "cat(var_dic_list()) "
    }
   },
   "types_to_exclude": [
    "module",
    "function",
    "builtin_function_or_method",
    "instance",
    "_Feature"
   ],
   "window_display": false
  }
 },
 "nbformat": 4,
 "nbformat_minor": 4
}
