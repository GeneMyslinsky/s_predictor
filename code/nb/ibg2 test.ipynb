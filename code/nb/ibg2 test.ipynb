{
 "cells": [
  {
   "cell_type": "code",
   "execution_count": 20,
   "metadata": {
    "ExecuteTime": {
     "end_time": "2020-09-01T20:38:03.514688Z",
     "start_time": "2020-09-01T20:38:03.071739Z"
    }
   },
   "outputs": [
    {
     "data": {
      "text/plain": [
       "<IB connected to host.docker.internal:7497 clientId=15>"
      ]
     },
     "execution_count": 20,
     "metadata": {},
     "output_type": "execute_result"
    }
   ],
   "source": [
    "\n",
    "from ib_insync import *\n",
    "\n",
    "util.startLoop()\n",
    "\n",
    "ib = IB()\n",
    "ib.connect('host.docker.internal', 7497, clientId=15)\n",
    "\n",
    "# bars = ib.reqHistoricalData(\n",
    "#     contract, endDateTime='', durationStr='30 D',\n",
    "#     barSizeSetting='1 hour', whatToShow='MIDPOINT', useRTH=True)\n",
    "\n",
    "# # convert to pandas dataframe:\n",
    "# df = util.df(bars)\n",
    "# print(df)\n",
    "\n"
   ]
  },
  {
   "cell_type": "code",
   "execution_count": 23,
   "metadata": {
    "ExecuteTime": {
     "end_time": "2020-09-02T00:28:23.770062Z",
     "start_time": "2020-09-02T00:28:20.384338Z"
    },
    "scrolled": false
   },
   "outputs": [
    {
     "data": {
      "text/html": [
       "<div>\n",
       "<style scoped>\n",
       "    .dataframe tbody tr th:only-of-type {\n",
       "        vertical-align: middle;\n",
       "    }\n",
       "\n",
       "    .dataframe tbody tr th {\n",
       "        vertical-align: top;\n",
       "    }\n",
       "\n",
       "    .dataframe thead th {\n",
       "        text-align: right;\n",
       "    }\n",
       "</style>\n",
       "<table border=\"1\" class=\"dataframe\">\n",
       "  <thead>\n",
       "    <tr style=\"text-align: right;\">\n",
       "      <th></th>\n",
       "      <th>price</th>\n",
       "      <th>size</th>\n",
       "      <th>exchange</th>\n",
       "      <th>specialConditions</th>\n",
       "      <th>pastLimit</th>\n",
       "      <th>unreported</th>\n",
       "    </tr>\n",
       "    <tr>\n",
       "      <th>time</th>\n",
       "      <th></th>\n",
       "      <th></th>\n",
       "      <th></th>\n",
       "      <th></th>\n",
       "      <th></th>\n",
       "      <th></th>\n",
       "    </tr>\n",
       "  </thead>\n",
       "  <tbody>\n",
       "    <tr>\n",
       "      <th>2020-08-28 11:38:51-04:00</th>\n",
       "      <td>349.1900</td>\n",
       "      <td>2</td>\n",
       "      <td>ISLAND</td>\n",
       "      <td>I</td>\n",
       "      <td>False</td>\n",
       "      <td>True</td>\n",
       "    </tr>\n",
       "    <tr>\n",
       "      <th>2020-08-28 11:38:51-04:00</th>\n",
       "      <td>349.2000</td>\n",
       "      <td>4</td>\n",
       "      <td>ISLAND</td>\n",
       "      <td>F I</td>\n",
       "      <td>False</td>\n",
       "      <td>True</td>\n",
       "    </tr>\n",
       "    <tr>\n",
       "      <th>2020-08-28 11:38:51-04:00</th>\n",
       "      <td>349.1975</td>\n",
       "      <td>4</td>\n",
       "      <td>FINRA</td>\n",
       "      <td>I</td>\n",
       "      <td>False</td>\n",
       "      <td>True</td>\n",
       "    </tr>\n",
       "    <tr>\n",
       "      <th>2020-08-28 11:38:51-04:00</th>\n",
       "      <td>349.2000</td>\n",
       "      <td>20</td>\n",
       "      <td>FINRA</td>\n",
       "      <td>I</td>\n",
       "      <td>False</td>\n",
       "      <td>True</td>\n",
       "    </tr>\n",
       "    <tr>\n",
       "      <th>2020-08-28 11:38:51-04:00</th>\n",
       "      <td>349.2000</td>\n",
       "      <td>7</td>\n",
       "      <td>ISLAND</td>\n",
       "      <td>I</td>\n",
       "      <td>False</td>\n",
       "      <td>True</td>\n",
       "    </tr>\n",
       "    <tr>\n",
       "      <th>...</th>\n",
       "      <td>...</td>\n",
       "      <td>...</td>\n",
       "      <td>...</td>\n",
       "      <td>...</td>\n",
       "      <td>...</td>\n",
       "      <td>...</td>\n",
       "    </tr>\n",
       "    <tr>\n",
       "      <th>2020-08-28 11:41:39-04:00</th>\n",
       "      <td>349.1000</td>\n",
       "      <td>100</td>\n",
       "      <td>BATS</td>\n",
       "      <td>F</td>\n",
       "      <td>False</td>\n",
       "      <td>False</td>\n",
       "    </tr>\n",
       "    <tr>\n",
       "      <th>2020-08-28 11:41:39-04:00</th>\n",
       "      <td>349.1000</td>\n",
       "      <td>24</td>\n",
       "      <td>ISLAND</td>\n",
       "      <td>F I</td>\n",
       "      <td>False</td>\n",
       "      <td>True</td>\n",
       "    </tr>\n",
       "    <tr>\n",
       "      <th>2020-08-28 11:41:39-04:00</th>\n",
       "      <td>349.1001</td>\n",
       "      <td>1</td>\n",
       "      <td>FINRA</td>\n",
       "      <td>I</td>\n",
       "      <td>False</td>\n",
       "      <td>True</td>\n",
       "    </tr>\n",
       "    <tr>\n",
       "      <th>2020-08-28 11:41:40-04:00</th>\n",
       "      <td>349.1000</td>\n",
       "      <td>3</td>\n",
       "      <td>BYX</td>\n",
       "      <td>I</td>\n",
       "      <td>False</td>\n",
       "      <td>True</td>\n",
       "    </tr>\n",
       "    <tr>\n",
       "      <th>2020-08-28 11:41:40-04:00</th>\n",
       "      <td>349.1200</td>\n",
       "      <td>6</td>\n",
       "      <td>ARCA</td>\n",
       "      <td>I</td>\n",
       "      <td>False</td>\n",
       "      <td>True</td>\n",
       "    </tr>\n",
       "  </tbody>\n",
       "</table>\n",
       "<p>1000 rows × 6 columns</p>\n",
       "</div>"
      ],
      "text/plain": [
       "                              price  size exchange specialConditions  \\\n",
       "time                                                                   \n",
       "2020-08-28 11:38:51-04:00  349.1900     2   ISLAND                 I   \n",
       "2020-08-28 11:38:51-04:00  349.2000     4   ISLAND               F I   \n",
       "2020-08-28 11:38:51-04:00  349.1975     4    FINRA                 I   \n",
       "2020-08-28 11:38:51-04:00  349.2000    20    FINRA                 I   \n",
       "2020-08-28 11:38:51-04:00  349.2000     7   ISLAND                 I   \n",
       "...                             ...   ...      ...               ...   \n",
       "2020-08-28 11:41:39-04:00  349.1000   100     BATS               F     \n",
       "2020-08-28 11:41:39-04:00  349.1000    24   ISLAND               F I   \n",
       "2020-08-28 11:41:39-04:00  349.1001     1    FINRA                 I   \n",
       "2020-08-28 11:41:40-04:00  349.1000     3      BYX                 I   \n",
       "2020-08-28 11:41:40-04:00  349.1200     6     ARCA                 I   \n",
       "\n",
       "                           pastLimit  unreported  \n",
       "time                                              \n",
       "2020-08-28 11:38:51-04:00      False        True  \n",
       "2020-08-28 11:38:51-04:00      False        True  \n",
       "2020-08-28 11:38:51-04:00      False        True  \n",
       "2020-08-28 11:38:51-04:00      False        True  \n",
       "2020-08-28 11:38:51-04:00      False        True  \n",
       "...                              ...         ...  \n",
       "2020-08-28 11:41:39-04:00      False       False  \n",
       "2020-08-28 11:41:39-04:00      False        True  \n",
       "2020-08-28 11:41:39-04:00      False        True  \n",
       "2020-08-28 11:41:40-04:00      False        True  \n",
       "2020-08-28 11:41:40-04:00      False        True  \n",
       "\n",
       "[1000 rows x 6 columns]"
      ]
     },
     "metadata": {},
     "output_type": "display_data"
    },
    {
     "data": {
      "text/html": [
       "<div>\n",
       "<style scoped>\n",
       "    .dataframe tbody tr th:only-of-type {\n",
       "        vertical-align: middle;\n",
       "    }\n",
       "\n",
       "    .dataframe tbody tr th {\n",
       "        vertical-align: top;\n",
       "    }\n",
       "\n",
       "    .dataframe thead th {\n",
       "        text-align: right;\n",
       "    }\n",
       "</style>\n",
       "<table border=\"1\" class=\"dataframe\">\n",
       "  <thead>\n",
       "    <tr style=\"text-align: right;\">\n",
       "      <th></th>\n",
       "      <th>priceBid</th>\n",
       "      <th>priceAsk</th>\n",
       "      <th>sizeBid</th>\n",
       "      <th>sizeAsk</th>\n",
       "      <th>bidPastLow</th>\n",
       "      <th>askPastHigh</th>\n",
       "    </tr>\n",
       "    <tr>\n",
       "      <th>time</th>\n",
       "      <th></th>\n",
       "      <th></th>\n",
       "      <th></th>\n",
       "      <th></th>\n",
       "      <th></th>\n",
       "      <th></th>\n",
       "    </tr>\n",
       "  </thead>\n",
       "  <tbody>\n",
       "    <tr>\n",
       "      <th>2020-08-28 11:41:36-04:00</th>\n",
       "      <td>349.12</td>\n",
       "      <td>349.13</td>\n",
       "      <td>100</td>\n",
       "      <td>2500</td>\n",
       "      <td>False</td>\n",
       "      <td>False</td>\n",
       "    </tr>\n",
       "    <tr>\n",
       "      <th>2020-08-28 11:41:37-04:00</th>\n",
       "      <td>349.12</td>\n",
       "      <td>349.13</td>\n",
       "      <td>300</td>\n",
       "      <td>2500</td>\n",
       "      <td>False</td>\n",
       "      <td>False</td>\n",
       "    </tr>\n",
       "    <tr>\n",
       "      <th>2020-08-28 11:41:37-04:00</th>\n",
       "      <td>349.12</td>\n",
       "      <td>349.13</td>\n",
       "      <td>300</td>\n",
       "      <td>2600</td>\n",
       "      <td>False</td>\n",
       "      <td>False</td>\n",
       "    </tr>\n",
       "    <tr>\n",
       "      <th>2020-08-28 11:41:37-04:00</th>\n",
       "      <td>349.12</td>\n",
       "      <td>349.13</td>\n",
       "      <td>300</td>\n",
       "      <td>2700</td>\n",
       "      <td>False</td>\n",
       "      <td>False</td>\n",
       "    </tr>\n",
       "    <tr>\n",
       "      <th>2020-08-28 11:41:37-04:00</th>\n",
       "      <td>349.12</td>\n",
       "      <td>349.13</td>\n",
       "      <td>300</td>\n",
       "      <td>2800</td>\n",
       "      <td>False</td>\n",
       "      <td>False</td>\n",
       "    </tr>\n",
       "    <tr>\n",
       "      <th>...</th>\n",
       "      <td>...</td>\n",
       "      <td>...</td>\n",
       "      <td>...</td>\n",
       "      <td>...</td>\n",
       "      <td>...</td>\n",
       "      <td>...</td>\n",
       "    </tr>\n",
       "    <tr>\n",
       "      <th>2020-08-28 11:41:40-04:00</th>\n",
       "      <td>349.10</td>\n",
       "      <td>349.12</td>\n",
       "      <td>2300</td>\n",
       "      <td>4100</td>\n",
       "      <td>False</td>\n",
       "      <td>False</td>\n",
       "    </tr>\n",
       "    <tr>\n",
       "      <th>2020-08-28 11:41:40-04:00</th>\n",
       "      <td>349.10</td>\n",
       "      <td>349.12</td>\n",
       "      <td>2300</td>\n",
       "      <td>4000</td>\n",
       "      <td>False</td>\n",
       "      <td>False</td>\n",
       "    </tr>\n",
       "    <tr>\n",
       "      <th>2020-08-28 11:41:40-04:00</th>\n",
       "      <td>349.10</td>\n",
       "      <td>349.12</td>\n",
       "      <td>2300</td>\n",
       "      <td>3800</td>\n",
       "      <td>False</td>\n",
       "      <td>False</td>\n",
       "    </tr>\n",
       "    <tr>\n",
       "      <th>2020-08-28 11:41:40-04:00</th>\n",
       "      <td>349.10</td>\n",
       "      <td>349.12</td>\n",
       "      <td>2300</td>\n",
       "      <td>3700</td>\n",
       "      <td>False</td>\n",
       "      <td>False</td>\n",
       "    </tr>\n",
       "    <tr>\n",
       "      <th>2020-08-28 11:41:40-04:00</th>\n",
       "      <td>349.10</td>\n",
       "      <td>349.12</td>\n",
       "      <td>2400</td>\n",
       "      <td>3700</td>\n",
       "      <td>False</td>\n",
       "      <td>False</td>\n",
       "    </tr>\n",
       "  </tbody>\n",
       "</table>\n",
       "<p>1093 rows × 6 columns</p>\n",
       "</div>"
      ],
      "text/plain": [
       "                           priceBid  priceAsk  sizeBid  sizeAsk  bidPastLow  \\\n",
       "time                                                                          \n",
       "2020-08-28 11:41:36-04:00    349.12    349.13      100     2500       False   \n",
       "2020-08-28 11:41:37-04:00    349.12    349.13      300     2500       False   \n",
       "2020-08-28 11:41:37-04:00    349.12    349.13      300     2600       False   \n",
       "2020-08-28 11:41:37-04:00    349.12    349.13      300     2700       False   \n",
       "2020-08-28 11:41:37-04:00    349.12    349.13      300     2800       False   \n",
       "...                             ...       ...      ...      ...         ...   \n",
       "2020-08-28 11:41:40-04:00    349.10    349.12     2300     4100       False   \n",
       "2020-08-28 11:41:40-04:00    349.10    349.12     2300     4000       False   \n",
       "2020-08-28 11:41:40-04:00    349.10    349.12     2300     3800       False   \n",
       "2020-08-28 11:41:40-04:00    349.10    349.12     2300     3700       False   \n",
       "2020-08-28 11:41:40-04:00    349.10    349.12     2400     3700       False   \n",
       "\n",
       "                           askPastHigh  \n",
       "time                                    \n",
       "2020-08-28 11:41:36-04:00        False  \n",
       "2020-08-28 11:41:37-04:00        False  \n",
       "2020-08-28 11:41:37-04:00        False  \n",
       "2020-08-28 11:41:37-04:00        False  \n",
       "2020-08-28 11:41:37-04:00        False  \n",
       "...                                ...  \n",
       "2020-08-28 11:41:40-04:00        False  \n",
       "2020-08-28 11:41:40-04:00        False  \n",
       "2020-08-28 11:41:40-04:00        False  \n",
       "2020-08-28 11:41:40-04:00        False  \n",
       "2020-08-28 11:41:40-04:00        False  \n",
       "\n",
       "[1093 rows x 6 columns]"
      ]
     },
     "metadata": {},
     "output_type": "display_data"
    },
    {
     "data": {
      "text/html": [
       "<div>\n",
       "<style scoped>\n",
       "    .dataframe tbody tr th:only-of-type {\n",
       "        vertical-align: middle;\n",
       "    }\n",
       "\n",
       "    .dataframe tbody tr th {\n",
       "        vertical-align: top;\n",
       "    }\n",
       "\n",
       "    .dataframe thead th {\n",
       "        text-align: right;\n",
       "    }\n",
       "</style>\n",
       "<table border=\"1\" class=\"dataframe\">\n",
       "  <thead>\n",
       "    <tr style=\"text-align: right;\">\n",
       "      <th></th>\n",
       "      <th>open</th>\n",
       "      <th>high</th>\n",
       "      <th>low</th>\n",
       "      <th>close</th>\n",
       "      <th>volume</th>\n",
       "      <th>average</th>\n",
       "      <th>barCount</th>\n",
       "    </tr>\n",
       "    <tr>\n",
       "      <th>date</th>\n",
       "      <th></th>\n",
       "      <th></th>\n",
       "      <th></th>\n",
       "      <th></th>\n",
       "      <th></th>\n",
       "      <th></th>\n",
       "      <th></th>\n",
       "    </tr>\n",
       "  </thead>\n",
       "  <tbody>\n",
       "    <tr>\n",
       "      <th>2020-08-28 04:00:00</th>\n",
       "      <td>349.26</td>\n",
       "      <td>349.43</td>\n",
       "      <td>349.26</td>\n",
       "      <td>349.43</td>\n",
       "      <td>8</td>\n",
       "      <td>349.343</td>\n",
       "      <td>5</td>\n",
       "    </tr>\n",
       "    <tr>\n",
       "      <th>2020-08-28 04:05:00</th>\n",
       "      <td>349.48</td>\n",
       "      <td>349.48</td>\n",
       "      <td>349.43</td>\n",
       "      <td>349.43</td>\n",
       "      <td>26</td>\n",
       "      <td>349.435</td>\n",
       "      <td>7</td>\n",
       "    </tr>\n",
       "    <tr>\n",
       "      <th>2020-08-28 04:10:00</th>\n",
       "      <td>349.46</td>\n",
       "      <td>349.48</td>\n",
       "      <td>349.43</td>\n",
       "      <td>349.48</td>\n",
       "      <td>39</td>\n",
       "      <td>349.441</td>\n",
       "      <td>10</td>\n",
       "    </tr>\n",
       "    <tr>\n",
       "      <th>2020-08-28 04:15:00</th>\n",
       "      <td>349.55</td>\n",
       "      <td>349.79</td>\n",
       "      <td>349.55</td>\n",
       "      <td>349.79</td>\n",
       "      <td>126</td>\n",
       "      <td>349.657</td>\n",
       "      <td>49</td>\n",
       "    </tr>\n",
       "    <tr>\n",
       "      <th>2020-08-28 04:20:00</th>\n",
       "      <td>349.75</td>\n",
       "      <td>350.02</td>\n",
       "      <td>349.75</td>\n",
       "      <td>350.02</td>\n",
       "      <td>53</td>\n",
       "      <td>349.881</td>\n",
       "      <td>18</td>\n",
       "    </tr>\n",
       "    <tr>\n",
       "      <th>...</th>\n",
       "      <td>...</td>\n",
       "      <td>...</td>\n",
       "      <td>...</td>\n",
       "      <td>...</td>\n",
       "      <td>...</td>\n",
       "      <td>...</td>\n",
       "      <td>...</td>\n",
       "    </tr>\n",
       "    <tr>\n",
       "      <th>2020-08-28 19:35:00</th>\n",
       "      <td>350.94</td>\n",
       "      <td>350.96</td>\n",
       "      <td>350.92</td>\n",
       "      <td>350.95</td>\n",
       "      <td>18</td>\n",
       "      <td>350.950</td>\n",
       "      <td>8</td>\n",
       "    </tr>\n",
       "    <tr>\n",
       "      <th>2020-08-28 19:40:00</th>\n",
       "      <td>350.94</td>\n",
       "      <td>350.98</td>\n",
       "      <td>350.94</td>\n",
       "      <td>350.96</td>\n",
       "      <td>48</td>\n",
       "      <td>350.962</td>\n",
       "      <td>13</td>\n",
       "    </tr>\n",
       "    <tr>\n",
       "      <th>2020-08-28 19:45:00</th>\n",
       "      <td>350.96</td>\n",
       "      <td>350.96</td>\n",
       "      <td>350.96</td>\n",
       "      <td>350.96</td>\n",
       "      <td>13</td>\n",
       "      <td>350.960</td>\n",
       "      <td>5</td>\n",
       "    </tr>\n",
       "    <tr>\n",
       "      <th>2020-08-28 19:50:00</th>\n",
       "      <td>350.95</td>\n",
       "      <td>351.03</td>\n",
       "      <td>350.95</td>\n",
       "      <td>351.00</td>\n",
       "      <td>68</td>\n",
       "      <td>351.003</td>\n",
       "      <td>17</td>\n",
       "    </tr>\n",
       "    <tr>\n",
       "      <th>2020-08-28 19:55:00</th>\n",
       "      <td>351.03</td>\n",
       "      <td>351.03</td>\n",
       "      <td>350.98</td>\n",
       "      <td>350.98</td>\n",
       "      <td>38</td>\n",
       "      <td>351.003</td>\n",
       "      <td>14</td>\n",
       "    </tr>\n",
       "  </tbody>\n",
       "</table>\n",
       "<p>192 rows × 7 columns</p>\n",
       "</div>"
      ],
      "text/plain": [
       "                       open    high     low   close  volume  average  barCount\n",
       "date                                                                          \n",
       "2020-08-28 04:00:00  349.26  349.43  349.26  349.43       8  349.343         5\n",
       "2020-08-28 04:05:00  349.48  349.48  349.43  349.43      26  349.435         7\n",
       "2020-08-28 04:10:00  349.46  349.48  349.43  349.48      39  349.441        10\n",
       "2020-08-28 04:15:00  349.55  349.79  349.55  349.79     126  349.657        49\n",
       "2020-08-28 04:20:00  349.75  350.02  349.75  350.02      53  349.881        18\n",
       "...                     ...     ...     ...     ...     ...      ...       ...\n",
       "2020-08-28 19:35:00  350.94  350.96  350.92  350.95      18  350.950         8\n",
       "2020-08-28 19:40:00  350.94  350.98  350.94  350.96      48  350.962        13\n",
       "2020-08-28 19:45:00  350.96  350.96  350.96  350.96      13  350.960         5\n",
       "2020-08-28 19:50:00  350.95  351.03  350.95  351.00      68  351.003        17\n",
       "2020-08-28 19:55:00  351.03  351.03  350.98  350.98      38  351.003        14\n",
       "\n",
       "[192 rows x 7 columns]"
      ]
     },
     "metadata": {},
     "output_type": "display_data"
    },
    {
     "data": {
      "text/html": [
       "<div>\n",
       "<style scoped>\n",
       "    .dataframe tbody tr th:only-of-type {\n",
       "        vertical-align: middle;\n",
       "    }\n",
       "\n",
       "    .dataframe tbody tr th {\n",
       "        vertical-align: top;\n",
       "    }\n",
       "\n",
       "    .dataframe thead th {\n",
       "        text-align: right;\n",
       "    }\n",
       "</style>\n",
       "<table border=\"1\" class=\"dataframe\">\n",
       "  <thead>\n",
       "    <tr style=\"text-align: right;\">\n",
       "      <th></th>\n",
       "      <th>open</th>\n",
       "      <th>high</th>\n",
       "      <th>low</th>\n",
       "      <th>close</th>\n",
       "      <th>volume</th>\n",
       "      <th>average</th>\n",
       "      <th>barCount</th>\n",
       "    </tr>\n",
       "    <tr>\n",
       "      <th>date</th>\n",
       "      <th></th>\n",
       "      <th></th>\n",
       "      <th></th>\n",
       "      <th></th>\n",
       "      <th></th>\n",
       "      <th></th>\n",
       "      <th></th>\n",
       "    </tr>\n",
       "  </thead>\n",
       "  <tbody>\n",
       "    <tr>\n",
       "      <th>2020-08-28 04:00:00</th>\n",
       "      <td>349.25</td>\n",
       "      <td>349.98</td>\n",
       "      <td>348.26</td>\n",
       "      <td>349.32</td>\n",
       "      <td>-1</td>\n",
       "      <td>-1.0</td>\n",
       "      <td>-1</td>\n",
       "    </tr>\n",
       "    <tr>\n",
       "      <th>2020-08-28 04:05:00</th>\n",
       "      <td>349.44</td>\n",
       "      <td>349.59</td>\n",
       "      <td>349.33</td>\n",
       "      <td>349.50</td>\n",
       "      <td>-1</td>\n",
       "      <td>-1.0</td>\n",
       "      <td>-1</td>\n",
       "    </tr>\n",
       "    <tr>\n",
       "      <th>2020-08-28 04:10:00</th>\n",
       "      <td>349.46</td>\n",
       "      <td>349.62</td>\n",
       "      <td>349.35</td>\n",
       "      <td>349.49</td>\n",
       "      <td>-1</td>\n",
       "      <td>-1.0</td>\n",
       "      <td>-1</td>\n",
       "    </tr>\n",
       "    <tr>\n",
       "      <th>2020-08-28 04:15:00</th>\n",
       "      <td>349.67</td>\n",
       "      <td>349.83</td>\n",
       "      <td>349.51</td>\n",
       "      <td>349.70</td>\n",
       "      <td>-1</td>\n",
       "      <td>-1.0</td>\n",
       "      <td>-1</td>\n",
       "    </tr>\n",
       "    <tr>\n",
       "      <th>2020-08-28 04:20:00</th>\n",
       "      <td>349.83</td>\n",
       "      <td>350.08</td>\n",
       "      <td>349.68</td>\n",
       "      <td>349.86</td>\n",
       "      <td>-1</td>\n",
       "      <td>-1.0</td>\n",
       "      <td>-1</td>\n",
       "    </tr>\n",
       "    <tr>\n",
       "      <th>...</th>\n",
       "      <td>...</td>\n",
       "      <td>...</td>\n",
       "      <td>...</td>\n",
       "      <td>...</td>\n",
       "      <td>...</td>\n",
       "      <td>...</td>\n",
       "      <td>...</td>\n",
       "    </tr>\n",
       "    <tr>\n",
       "      <th>2020-08-28 19:35:00</th>\n",
       "      <td>350.92</td>\n",
       "      <td>350.96</td>\n",
       "      <td>350.91</td>\n",
       "      <td>350.95</td>\n",
       "      <td>-1</td>\n",
       "      <td>-1.0</td>\n",
       "      <td>-1</td>\n",
       "    </tr>\n",
       "    <tr>\n",
       "      <th>2020-08-28 19:40:00</th>\n",
       "      <td>350.94</td>\n",
       "      <td>350.99</td>\n",
       "      <td>350.91</td>\n",
       "      <td>350.98</td>\n",
       "      <td>-1</td>\n",
       "      <td>-1.0</td>\n",
       "      <td>-1</td>\n",
       "    </tr>\n",
       "    <tr>\n",
       "      <th>2020-08-28 19:45:00</th>\n",
       "      <td>350.93</td>\n",
       "      <td>350.99</td>\n",
       "      <td>350.93</td>\n",
       "      <td>350.97</td>\n",
       "      <td>-1</td>\n",
       "      <td>-1.0</td>\n",
       "      <td>-1</td>\n",
       "    </tr>\n",
       "    <tr>\n",
       "      <th>2020-08-28 19:50:00</th>\n",
       "      <td>350.96</td>\n",
       "      <td>351.03</td>\n",
       "      <td>350.95</td>\n",
       "      <td>351.00</td>\n",
       "      <td>-1</td>\n",
       "      <td>-1.0</td>\n",
       "      <td>-1</td>\n",
       "    </tr>\n",
       "    <tr>\n",
       "      <th>2020-08-28 19:55:00</th>\n",
       "      <td>350.98</td>\n",
       "      <td>351.03</td>\n",
       "      <td>350.94</td>\n",
       "      <td>351.01</td>\n",
       "      <td>-1</td>\n",
       "      <td>-1.0</td>\n",
       "      <td>-1</td>\n",
       "    </tr>\n",
       "  </tbody>\n",
       "</table>\n",
       "<p>192 rows × 7 columns</p>\n",
       "</div>"
      ],
      "text/plain": [
       "                       open    high     low   close  volume  average  barCount\n",
       "date                                                                          \n",
       "2020-08-28 04:00:00  349.25  349.98  348.26  349.32      -1     -1.0        -1\n",
       "2020-08-28 04:05:00  349.44  349.59  349.33  349.50      -1     -1.0        -1\n",
       "2020-08-28 04:10:00  349.46  349.62  349.35  349.49      -1     -1.0        -1\n",
       "2020-08-28 04:15:00  349.67  349.83  349.51  349.70      -1     -1.0        -1\n",
       "2020-08-28 04:20:00  349.83  350.08  349.68  349.86      -1     -1.0        -1\n",
       "...                     ...     ...     ...     ...     ...      ...       ...\n",
       "2020-08-28 19:35:00  350.92  350.96  350.91  350.95      -1     -1.0        -1\n",
       "2020-08-28 19:40:00  350.94  350.99  350.91  350.98      -1     -1.0        -1\n",
       "2020-08-28 19:45:00  350.93  350.99  350.93  350.97      -1     -1.0        -1\n",
       "2020-08-28 19:50:00  350.96  351.03  350.95  351.00      -1     -1.0        -1\n",
       "2020-08-28 19:55:00  350.98  351.03  350.94  351.01      -1     -1.0        -1\n",
       "\n",
       "[192 rows x 7 columns]"
      ]
     },
     "metadata": {},
     "output_type": "display_data"
    },
    {
     "data": {
      "text/html": [
       "<div>\n",
       "<style scoped>\n",
       "    .dataframe tbody tr th:only-of-type {\n",
       "        vertical-align: middle;\n",
       "    }\n",
       "\n",
       "    .dataframe tbody tr th {\n",
       "        vertical-align: top;\n",
       "    }\n",
       "\n",
       "    .dataframe thead th {\n",
       "        text-align: right;\n",
       "    }\n",
       "</style>\n",
       "<table border=\"1\" class=\"dataframe\">\n",
       "  <thead>\n",
       "    <tr style=\"text-align: right;\">\n",
       "      <th></th>\n",
       "      <th>open</th>\n",
       "      <th>high</th>\n",
       "      <th>low</th>\n",
       "      <th>close</th>\n",
       "      <th>volume</th>\n",
       "      <th>average</th>\n",
       "      <th>barCount</th>\n",
       "    </tr>\n",
       "    <tr>\n",
       "      <th>date</th>\n",
       "      <th></th>\n",
       "      <th></th>\n",
       "      <th></th>\n",
       "      <th></th>\n",
       "      <th></th>\n",
       "      <th></th>\n",
       "      <th></th>\n",
       "    </tr>\n",
       "  </thead>\n",
       "  <tbody>\n",
       "    <tr>\n",
       "      <th>2020-08-28 04:00:00</th>\n",
       "      <td>349.120</td>\n",
       "      <td>349.455</td>\n",
       "      <td>349.120</td>\n",
       "      <td>349.405</td>\n",
       "      <td>-1</td>\n",
       "      <td>-1.0</td>\n",
       "      <td>-1</td>\n",
       "    </tr>\n",
       "    <tr>\n",
       "      <th>2020-08-28 04:05:00</th>\n",
       "      <td>349.405</td>\n",
       "      <td>349.555</td>\n",
       "      <td>349.355</td>\n",
       "      <td>349.445</td>\n",
       "      <td>-1</td>\n",
       "      <td>-1.0</td>\n",
       "      <td>-1</td>\n",
       "    </tr>\n",
       "    <tr>\n",
       "      <th>2020-08-28 04:10:00</th>\n",
       "      <td>349.445</td>\n",
       "      <td>349.590</td>\n",
       "      <td>349.375</td>\n",
       "      <td>349.530</td>\n",
       "      <td>-1</td>\n",
       "      <td>-1.0</td>\n",
       "      <td>-1</td>\n",
       "    </tr>\n",
       "    <tr>\n",
       "      <th>2020-08-28 04:15:00</th>\n",
       "      <td>349.530</td>\n",
       "      <td>349.805</td>\n",
       "      <td>349.525</td>\n",
       "      <td>349.760</td>\n",
       "      <td>-1</td>\n",
       "      <td>-1.0</td>\n",
       "      <td>-1</td>\n",
       "    </tr>\n",
       "    <tr>\n",
       "      <th>2020-08-28 04:20:00</th>\n",
       "      <td>349.760</td>\n",
       "      <td>350.055</td>\n",
       "      <td>349.690</td>\n",
       "      <td>350.030</td>\n",
       "      <td>-1</td>\n",
       "      <td>-1.0</td>\n",
       "      <td>-1</td>\n",
       "    </tr>\n",
       "    <tr>\n",
       "      <th>...</th>\n",
       "      <td>...</td>\n",
       "      <td>...</td>\n",
       "      <td>...</td>\n",
       "      <td>...</td>\n",
       "      <td>...</td>\n",
       "      <td>...</td>\n",
       "      <td>...</td>\n",
       "    </tr>\n",
       "    <tr>\n",
       "      <th>2020-08-28 19:35:00</th>\n",
       "      <td>350.925</td>\n",
       "      <td>350.955</td>\n",
       "      <td>350.915</td>\n",
       "      <td>350.935</td>\n",
       "      <td>-1</td>\n",
       "      <td>-1.0</td>\n",
       "      <td>-1</td>\n",
       "    </tr>\n",
       "    <tr>\n",
       "      <th>2020-08-28 19:40:00</th>\n",
       "      <td>350.935</td>\n",
       "      <td>350.980</td>\n",
       "      <td>350.925</td>\n",
       "      <td>350.950</td>\n",
       "      <td>-1</td>\n",
       "      <td>-1.0</td>\n",
       "      <td>-1</td>\n",
       "    </tr>\n",
       "    <tr>\n",
       "      <th>2020-08-28 19:45:00</th>\n",
       "      <td>350.950</td>\n",
       "      <td>350.975</td>\n",
       "      <td>350.945</td>\n",
       "      <td>350.970</td>\n",
       "      <td>-1</td>\n",
       "      <td>-1.0</td>\n",
       "      <td>-1</td>\n",
       "    </tr>\n",
       "    <tr>\n",
       "      <th>2020-08-28 19:50:00</th>\n",
       "      <td>350.970</td>\n",
       "      <td>351.025</td>\n",
       "      <td>350.965</td>\n",
       "      <td>351.015</td>\n",
       "      <td>-1</td>\n",
       "      <td>-1.0</td>\n",
       "      <td>-1</td>\n",
       "    </tr>\n",
       "    <tr>\n",
       "      <th>2020-08-28 19:55:00</th>\n",
       "      <td>351.015</td>\n",
       "      <td>351.015</td>\n",
       "      <td>350.970</td>\n",
       "      <td>350.985</td>\n",
       "      <td>-1</td>\n",
       "      <td>-1.0</td>\n",
       "      <td>-1</td>\n",
       "    </tr>\n",
       "  </tbody>\n",
       "</table>\n",
       "<p>192 rows × 7 columns</p>\n",
       "</div>"
      ],
      "text/plain": [
       "                        open     high      low    close  volume  average  \\\n",
       "date                                                                       \n",
       "2020-08-28 04:00:00  349.120  349.455  349.120  349.405      -1     -1.0   \n",
       "2020-08-28 04:05:00  349.405  349.555  349.355  349.445      -1     -1.0   \n",
       "2020-08-28 04:10:00  349.445  349.590  349.375  349.530      -1     -1.0   \n",
       "2020-08-28 04:15:00  349.530  349.805  349.525  349.760      -1     -1.0   \n",
       "2020-08-28 04:20:00  349.760  350.055  349.690  350.030      -1     -1.0   \n",
       "...                      ...      ...      ...      ...     ...      ...   \n",
       "2020-08-28 19:35:00  350.925  350.955  350.915  350.935      -1     -1.0   \n",
       "2020-08-28 19:40:00  350.935  350.980  350.925  350.950      -1     -1.0   \n",
       "2020-08-28 19:45:00  350.950  350.975  350.945  350.970      -1     -1.0   \n",
       "2020-08-28 19:50:00  350.970  351.025  350.965  351.015      -1     -1.0   \n",
       "2020-08-28 19:55:00  351.015  351.015  350.970  350.985      -1     -1.0   \n",
       "\n",
       "                     barCount  \n",
       "date                           \n",
       "2020-08-28 04:00:00        -1  \n",
       "2020-08-28 04:05:00        -1  \n",
       "2020-08-28 04:10:00        -1  \n",
       "2020-08-28 04:15:00        -1  \n",
       "2020-08-28 04:20:00        -1  \n",
       "...                       ...  \n",
       "2020-08-28 19:35:00        -1  \n",
       "2020-08-28 19:40:00        -1  \n",
       "2020-08-28 19:45:00        -1  \n",
       "2020-08-28 19:50:00        -1  \n",
       "2020-08-28 19:55:00        -1  \n",
       "\n",
       "[192 rows x 7 columns]"
      ]
     },
     "metadata": {},
     "output_type": "display_data"
    }
   ],
   "source": [
    "import qgrid\n",
    "import functools\n",
    "from collections import namedtuple\n",
    "import pandas as pd\n",
    "\n",
    "pd.set_option('display.max_colwidth',100)\n",
    "start = ''\n",
    "end = \"20200828 11:41:41\"\n",
    "contract = Stock('SPY', 'SMART', 'USD')\n",
    "\n",
    "ticks = ib.reqHistoricalTicks(contract, start, end, 1000, 'TRADES', useRth=False)\n",
    "df = util.df(ticks)\n",
    "df = df.set_index('time')\n",
    "df = df.tz_convert('America/Toronto')\n",
    "\n",
    "df['pastLimit'] = [row.pastLimit for row in df['tickAttribLast']]\n",
    "df['unreported'] = [row.unreported for row in df['tickAttribLast']]\n",
    "del df['tickAttribLast']\n",
    "display(df)\n",
    "ticks = ib.reqHistoricalTicks(contract, start, end, 1000, 'BID_ASK', useRth=False)\n",
    "df = util.df(ticks)\n",
    "df = df.set_index('time')\n",
    "df = df.tz_convert('America/Toronto')\n",
    "# display(df)\n",
    "# print(df.dtypes)\n",
    "\n",
    "df['bidPastLow'] = [row.bidPastLow for row in df['tickAttribBidAsk']]\n",
    "df['askPastHigh'] = [row.askPastHigh for row in df['tickAttribBidAsk']]\n",
    "del df['tickAttribBidAsk']\n",
    "display(df)\n",
    "# df.to_csv(\"tsla.csv\")\n",
    "\n",
    "\n",
    "end = \"20200828 23:59:00\"\n",
    "bars = ib.reqHistoricalData(\n",
    "    contract,endDateTime=end, durationStr='1 D',\n",
    "    barSizeSetting='5 mins', whatToShow='TRADES', useRTH=False)\n",
    "df = util.df(bars)\n",
    "df = df.set_index('date')\n",
    "display(df)\n",
    "\n",
    "bars = ib.reqHistoricalData(\n",
    "    contract,endDateTime=end, durationStr='1 D',\n",
    "    barSizeSetting='5 mins', whatToShow='BID_ASK', useRTH=False)\n",
    "df = util.df(bars)\n",
    "df = df.set_index('date')\n",
    "display(df)\n",
    "bars = ib.reqHistoricalData(\n",
    "    contract,endDateTime=end, durationStr='1 D',\n",
    "    barSizeSetting='5 mins', whatToShow='MIDPOINT', useRTH=False)\n",
    "\n",
    "df = util.df(bars)\n",
    "df = df.set_index('date')\n",
    "\n",
    "display(df)"
   ]
  },
  {
   "cell_type": "code",
   "execution_count": 3,
   "metadata": {
    "ExecuteTime": {
     "end_time": "2020-09-01T01:47:32.990850Z",
     "start_time": "2020-09-01T01:47:32.987814Z"
    }
   },
   "outputs": [],
   "source": [
    "from datetime import datetime as dt, timedelta as td\n",
    "contract = Stock('SPY', 'SMART', 'USD')\n",
    "# def getTicks(date):\n",
    "date = dt.now()\n",
    "start = ''\n",
    "end = \"20200828 11:41:41\""
   ]
  },
  {
   "cell_type": "code",
   "execution_count": 4,
   "metadata": {
    "ExecuteTime": {
     "end_time": "2020-09-01T01:59:09.809364Z",
     "start_time": "2020-09-01T01:47:56.083911Z"
    },
    "scrolled": true
   },
   "outputs": [
    {
     "data": {
      "text/plain": [
       "Timestamp('2020-08-28 18:12:57-0400', tz='America/Toronto')"
      ]
     },
     "metadata": {},
     "output_type": "display_data"
    },
    {
     "name": "stdout",
     "output_type": "stream",
     "text": [
      "going  20200828 18:12:57\n"
     ]
    },
    {
     "data": {
      "text/plain": [
       "Timestamp('2020-08-28 17:03:18-0400', tz='America/Toronto')"
      ]
     },
     "metadata": {},
     "output_type": "display_data"
    },
    {
     "name": "stdout",
     "output_type": "stream",
     "text": [
      "going  20200828 17:03:18\n"
     ]
    },
    {
     "data": {
      "text/plain": [
       "Timestamp('2020-08-28 16:29:56-0400', tz='America/Toronto')"
      ]
     },
     "metadata": {},
     "output_type": "display_data"
    },
    {
     "name": "stdout",
     "output_type": "stream",
     "text": [
      "going  20200828 16:29:56\n"
     ]
    },
    {
     "data": {
      "text/plain": [
       "Timestamp('2020-08-28 16:11:19-0400', tz='America/Toronto')"
      ]
     },
     "metadata": {},
     "output_type": "display_data"
    },
    {
     "name": "stdout",
     "output_type": "stream",
     "text": [
      "going  20200828 16:11:19\n"
     ]
    },
    {
     "data": {
      "text/plain": [
       "Timestamp('2020-08-28 16:06:23-0400', tz='America/Toronto')"
      ]
     },
     "metadata": {},
     "output_type": "display_data"
    },
    {
     "name": "stdout",
     "output_type": "stream",
     "text": [
      "going  20200828 16:06:23\n"
     ]
    },
    {
     "data": {
      "text/plain": [
       "Timestamp('2020-08-28 16:02:47-0400', tz='America/Toronto')"
      ]
     },
     "metadata": {},
     "output_type": "display_data"
    },
    {
     "name": "stdout",
     "output_type": "stream",
     "text": [
      "going  20200828 16:02:47\n"
     ]
    },
    {
     "data": {
      "text/plain": [
       "Timestamp('2020-08-28 16:00:26-0400', tz='America/Toronto')"
      ]
     },
     "metadata": {},
     "output_type": "display_data"
    },
    {
     "name": "stdout",
     "output_type": "stream",
     "text": [
      "going  20200828 16:00:26\n"
     ]
    },
    {
     "data": {
      "text/plain": [
       "Timestamp('2020-08-28 15:59:59-0400', tz='America/Toronto')"
      ]
     },
     "metadata": {},
     "output_type": "display_data"
    },
    {
     "name": "stdout",
     "output_type": "stream",
     "text": [
      "going  20200828 15:59:59\n"
     ]
    },
    {
     "data": {
      "text/plain": [
       "Timestamp('2020-08-28 15:59:49-0400', tz='America/Toronto')"
      ]
     },
     "metadata": {},
     "output_type": "display_data"
    },
    {
     "name": "stdout",
     "output_type": "stream",
     "text": [
      "going  20200828 15:59:49\n"
     ]
    },
    {
     "data": {
      "text/plain": [
       "Timestamp('2020-08-28 15:59:33-0400', tz='America/Toronto')"
      ]
     },
     "metadata": {},
     "output_type": "display_data"
    },
    {
     "name": "stdout",
     "output_type": "stream",
     "text": [
      "going  20200828 15:59:33\n"
     ]
    },
    {
     "data": {
      "text/plain": [
       "Timestamp('2020-08-28 15:59:14-0400', tz='America/Toronto')"
      ]
     },
     "metadata": {},
     "output_type": "display_data"
    },
    {
     "name": "stdout",
     "output_type": "stream",
     "text": [
      "going  20200828 15:59:14\n"
     ]
    },
    {
     "data": {
      "text/plain": [
       "Timestamp('2020-08-28 15:59:00-0400', tz='America/Toronto')"
      ]
     },
     "metadata": {},
     "output_type": "display_data"
    },
    {
     "name": "stdout",
     "output_type": "stream",
     "text": [
      "going  20200828 15:59:00\n"
     ]
    },
    {
     "data": {
      "text/plain": [
       "Timestamp('2020-08-28 15:58:40-0400', tz='America/Toronto')"
      ]
     },
     "metadata": {},
     "output_type": "display_data"
    },
    {
     "name": "stdout",
     "output_type": "stream",
     "text": [
      "going  20200828 15:58:40\n"
     ]
    },
    {
     "data": {
      "text/plain": [
       "Timestamp('2020-08-28 15:58:15-0400', tz='America/Toronto')"
      ]
     },
     "metadata": {},
     "output_type": "display_data"
    },
    {
     "name": "stdout",
     "output_type": "stream",
     "text": [
      "going  20200828 15:58:15\n"
     ]
    },
    {
     "data": {
      "text/plain": [
       "Timestamp('2020-08-28 15:57:44-0400', tz='America/Toronto')"
      ]
     },
     "metadata": {},
     "output_type": "display_data"
    },
    {
     "name": "stdout",
     "output_type": "stream",
     "text": [
      "going  20200828 15:57:44\n"
     ]
    },
    {
     "data": {
      "text/plain": [
       "Timestamp('2020-08-28 15:57:12-0400', tz='America/Toronto')"
      ]
     },
     "metadata": {},
     "output_type": "display_data"
    },
    {
     "name": "stdout",
     "output_type": "stream",
     "text": [
      "going  20200828 15:57:12\n"
     ]
    },
    {
     "data": {
      "text/plain": [
       "Timestamp('2020-08-28 15:56:35-0400', tz='America/Toronto')"
      ]
     },
     "metadata": {},
     "output_type": "display_data"
    },
    {
     "name": "stdout",
     "output_type": "stream",
     "text": [
      "going  20200828 15:56:35\n"
     ]
    },
    {
     "data": {
      "text/plain": [
       "Timestamp('2020-08-28 15:56:12-0400', tz='America/Toronto')"
      ]
     },
     "metadata": {},
     "output_type": "display_data"
    },
    {
     "name": "stdout",
     "output_type": "stream",
     "text": [
      "going  20200828 15:56:12\n"
     ]
    },
    {
     "data": {
      "text/plain": [
       "Timestamp('2020-08-28 15:55:42-0400', tz='America/Toronto')"
      ]
     },
     "metadata": {},
     "output_type": "display_data"
    },
    {
     "name": "stdout",
     "output_type": "stream",
     "text": [
      "going  20200828 15:55:42\n"
     ]
    },
    {
     "data": {
      "text/plain": [
       "Timestamp('2020-08-28 15:55:22-0400', tz='America/Toronto')"
      ]
     },
     "metadata": {},
     "output_type": "display_data"
    },
    {
     "name": "stdout",
     "output_type": "stream",
     "text": [
      "going  20200828 15:55:22\n"
     ]
    },
    {
     "data": {
      "text/plain": [
       "Timestamp('2020-08-28 15:54:54-0400', tz='America/Toronto')"
      ]
     },
     "metadata": {},
     "output_type": "display_data"
    },
    {
     "name": "stdout",
     "output_type": "stream",
     "text": [
      "going  20200828 15:54:54\n"
     ]
    },
    {
     "data": {
      "text/plain": [
       "Timestamp('2020-08-28 15:54:33-0400', tz='America/Toronto')"
      ]
     },
     "metadata": {},
     "output_type": "display_data"
    },
    {
     "name": "stdout",
     "output_type": "stream",
     "text": [
      "going  20200828 15:54:33\n"
     ]
    },
    {
     "data": {
      "text/plain": [
       "Timestamp('2020-08-28 15:54:13-0400', tz='America/Toronto')"
      ]
     },
     "metadata": {},
     "output_type": "display_data"
    },
    {
     "name": "stdout",
     "output_type": "stream",
     "text": [
      "going  20200828 15:54:13\n"
     ]
    },
    {
     "data": {
      "text/plain": [
       "Timestamp('2020-08-28 15:53:44-0400', tz='America/Toronto')"
      ]
     },
     "metadata": {},
     "output_type": "display_data"
    },
    {
     "name": "stdout",
     "output_type": "stream",
     "text": [
      "going  20200828 15:53:44\n"
     ]
    },
    {
     "data": {
      "text/plain": [
       "Timestamp('2020-08-28 15:53:10-0400', tz='America/Toronto')"
      ]
     },
     "metadata": {},
     "output_type": "display_data"
    },
    {
     "name": "stdout",
     "output_type": "stream",
     "text": [
      "going  20200828 15:53:10\n"
     ]
    },
    {
     "data": {
      "text/plain": [
       "Timestamp('2020-08-28 15:52:46-0400', tz='America/Toronto')"
      ]
     },
     "metadata": {},
     "output_type": "display_data"
    },
    {
     "name": "stdout",
     "output_type": "stream",
     "text": [
      "going  20200828 15:52:46\n"
     ]
    },
    {
     "data": {
      "text/plain": [
       "Timestamp('2020-08-28 15:52:28-0400', tz='America/Toronto')"
      ]
     },
     "metadata": {},
     "output_type": "display_data"
    },
    {
     "name": "stdout",
     "output_type": "stream",
     "text": [
      "going  20200828 15:52:28\n"
     ]
    },
    {
     "data": {
      "text/plain": [
       "Timestamp('2020-08-28 15:52:05-0400', tz='America/Toronto')"
      ]
     },
     "metadata": {},
     "output_type": "display_data"
    },
    {
     "name": "stdout",
     "output_type": "stream",
     "text": [
      "going  20200828 15:52:05\n"
     ]
    },
    {
     "data": {
      "text/plain": [
       "Timestamp('2020-08-28 15:51:40-0400', tz='America/Toronto')"
      ]
     },
     "metadata": {},
     "output_type": "display_data"
    },
    {
     "name": "stdout",
     "output_type": "stream",
     "text": [
      "going  20200828 15:51:40\n"
     ]
    },
    {
     "data": {
      "text/plain": [
       "Timestamp('2020-08-28 15:51:18-0400', tz='America/Toronto')"
      ]
     },
     "metadata": {},
     "output_type": "display_data"
    },
    {
     "name": "stdout",
     "output_type": "stream",
     "text": [
      "going  20200828 15:51:18\n"
     ]
    },
    {
     "data": {
      "text/plain": [
       "Timestamp('2020-08-28 15:50:59-0400', tz='America/Toronto')"
      ]
     },
     "metadata": {},
     "output_type": "display_data"
    },
    {
     "name": "stdout",
     "output_type": "stream",
     "text": [
      "going  20200828 15:50:59\n"
     ]
    },
    {
     "data": {
      "text/plain": [
       "Timestamp('2020-08-28 15:50:36-0400', tz='America/Toronto')"
      ]
     },
     "metadata": {},
     "output_type": "display_data"
    },
    {
     "name": "stdout",
     "output_type": "stream",
     "text": [
      "going  20200828 15:50:36\n"
     ]
    },
    {
     "data": {
      "text/plain": [
       "Timestamp('2020-08-28 15:50:03-0400', tz='America/Toronto')"
      ]
     },
     "metadata": {},
     "output_type": "display_data"
    },
    {
     "name": "stdout",
     "output_type": "stream",
     "text": [
      "going  20200828 15:50:03\n"
     ]
    },
    {
     "data": {
      "text/plain": [
       "Timestamp('2020-08-28 15:50:00-0400', tz='America/Toronto')"
      ]
     },
     "metadata": {},
     "output_type": "display_data"
    },
    {
     "name": "stdout",
     "output_type": "stream",
     "text": [
      "going  20200828 15:50:00\n"
     ]
    },
    {
     "data": {
      "text/plain": [
       "Timestamp('2020-08-28 15:49:16-0400', tz='America/Toronto')"
      ]
     },
     "metadata": {},
     "output_type": "display_data"
    },
    {
     "name": "stdout",
     "output_type": "stream",
     "text": [
      "going  20200828 15:49:16\n"
     ]
    },
    {
     "data": {
      "text/plain": [
       "Timestamp('2020-08-28 15:48:32-0400', tz='America/Toronto')"
      ]
     },
     "metadata": {},
     "output_type": "display_data"
    },
    {
     "name": "stdout",
     "output_type": "stream",
     "text": [
      "going  20200828 15:48:32\n"
     ]
    },
    {
     "data": {
      "text/plain": [
       "Timestamp('2020-08-28 15:47:44-0400', tz='America/Toronto')"
      ]
     },
     "metadata": {},
     "output_type": "display_data"
    },
    {
     "name": "stdout",
     "output_type": "stream",
     "text": [
      "going  20200828 15:47:44\n"
     ]
    },
    {
     "data": {
      "text/plain": [
       "Timestamp('2020-08-28 15:46:41-0400', tz='America/Toronto')"
      ]
     },
     "metadata": {},
     "output_type": "display_data"
    },
    {
     "name": "stdout",
     "output_type": "stream",
     "text": [
      "going  20200828 15:46:41\n"
     ]
    },
    {
     "data": {
      "text/plain": [
       "Timestamp('2020-08-28 15:45:36-0400', tz='America/Toronto')"
      ]
     },
     "metadata": {},
     "output_type": "display_data"
    },
    {
     "name": "stdout",
     "output_type": "stream",
     "text": [
      "going  20200828 15:45:36\n"
     ]
    },
    {
     "data": {
      "text/plain": [
       "Timestamp('2020-08-28 15:44:32-0400', tz='America/Toronto')"
      ]
     },
     "metadata": {},
     "output_type": "display_data"
    },
    {
     "name": "stdout",
     "output_type": "stream",
     "text": [
      "going  20200828 15:44:32\n"
     ]
    },
    {
     "data": {
      "text/plain": [
       "Timestamp('2020-08-28 15:43:26-0400', tz='America/Toronto')"
      ]
     },
     "metadata": {},
     "output_type": "display_data"
    },
    {
     "name": "stdout",
     "output_type": "stream",
     "text": [
      "going  20200828 15:43:26\n"
     ]
    },
    {
     "data": {
      "text/plain": [
       "Timestamp('2020-08-28 15:42:06-0400', tz='America/Toronto')"
      ]
     },
     "metadata": {},
     "output_type": "display_data"
    },
    {
     "name": "stdout",
     "output_type": "stream",
     "text": [
      "going  20200828 15:42:06\n"
     ]
    },
    {
     "data": {
      "text/plain": [
       "Timestamp('2020-08-28 15:40:49-0400', tz='America/Toronto')"
      ]
     },
     "metadata": {},
     "output_type": "display_data"
    },
    {
     "name": "stdout",
     "output_type": "stream",
     "text": [
      "going  20200828 15:40:49\n"
     ]
    },
    {
     "data": {
      "text/plain": [
       "Timestamp('2020-08-28 15:39:49-0400', tz='America/Toronto')"
      ]
     },
     "metadata": {},
     "output_type": "display_data"
    },
    {
     "name": "stdout",
     "output_type": "stream",
     "text": [
      "going  20200828 15:39:49\n"
     ]
    },
    {
     "data": {
      "text/plain": [
       "Timestamp('2020-08-28 15:38:11-0400', tz='America/Toronto')"
      ]
     },
     "metadata": {},
     "output_type": "display_data"
    },
    {
     "name": "stdout",
     "output_type": "stream",
     "text": [
      "going  20200828 15:38:11\n"
     ]
    },
    {
     "data": {
      "text/plain": [
       "Timestamp('2020-08-28 15:36:57-0400', tz='America/Toronto')"
      ]
     },
     "metadata": {},
     "output_type": "display_data"
    },
    {
     "name": "stdout",
     "output_type": "stream",
     "text": [
      "going  20200828 15:36:57\n"
     ]
    },
    {
     "data": {
      "text/plain": [
       "Timestamp('2020-08-28 15:35:43-0400', tz='America/Toronto')"
      ]
     },
     "metadata": {},
     "output_type": "display_data"
    },
    {
     "name": "stdout",
     "output_type": "stream",
     "text": [
      "going  20200828 15:35:43\n"
     ]
    },
    {
     "data": {
      "text/plain": [
       "Timestamp('2020-08-28 15:34:48-0400', tz='America/Toronto')"
      ]
     },
     "metadata": {},
     "output_type": "display_data"
    },
    {
     "name": "stdout",
     "output_type": "stream",
     "text": [
      "going  20200828 15:34:48\n"
     ]
    },
    {
     "data": {
      "text/plain": [
       "Timestamp('2020-08-28 15:33:39-0400', tz='America/Toronto')"
      ]
     },
     "metadata": {},
     "output_type": "display_data"
    },
    {
     "name": "stdout",
     "output_type": "stream",
     "text": [
      "going  20200828 15:33:39\n"
     ]
    },
    {
     "data": {
      "text/plain": [
       "Timestamp('2020-08-28 15:32:33-0400', tz='America/Toronto')"
      ]
     },
     "metadata": {},
     "output_type": "display_data"
    },
    {
     "name": "stdout",
     "output_type": "stream",
     "text": [
      "going  20200828 15:32:33\n"
     ]
    },
    {
     "data": {
      "text/plain": [
       "Timestamp('2020-08-28 15:31:22-0400', tz='America/Toronto')"
      ]
     },
     "metadata": {},
     "output_type": "display_data"
    },
    {
     "name": "stdout",
     "output_type": "stream",
     "text": [
      "going  20200828 15:31:22\n"
     ]
    },
    {
     "data": {
      "text/plain": [
       "Timestamp('2020-08-28 15:30:43-0400', tz='America/Toronto')"
      ]
     },
     "metadata": {},
     "output_type": "display_data"
    },
    {
     "name": "stdout",
     "output_type": "stream",
     "text": [
      "going  20200828 15:30:43\n"
     ]
    },
    {
     "data": {
      "text/plain": [
       "Timestamp('2020-08-28 15:29:55-0400', tz='America/Toronto')"
      ]
     },
     "metadata": {},
     "output_type": "display_data"
    },
    {
     "name": "stdout",
     "output_type": "stream",
     "text": [
      "going  20200828 15:29:55\n"
     ]
    },
    {
     "data": {
      "text/plain": [
       "Timestamp('2020-08-28 15:28:43-0400', tz='America/Toronto')"
      ]
     },
     "metadata": {},
     "output_type": "display_data"
    },
    {
     "name": "stdout",
     "output_type": "stream",
     "text": [
      "going  20200828 15:28:43\n"
     ]
    },
    {
     "data": {
      "text/plain": [
       "Timestamp('2020-08-28 15:27:41-0400', tz='America/Toronto')"
      ]
     },
     "metadata": {},
     "output_type": "display_data"
    },
    {
     "name": "stdout",
     "output_type": "stream",
     "text": [
      "going  20200828 15:27:41\n"
     ]
    },
    {
     "data": {
      "text/plain": [
       "Timestamp('2020-08-28 15:26:25-0400', tz='America/Toronto')"
      ]
     },
     "metadata": {},
     "output_type": "display_data"
    },
    {
     "name": "stdout",
     "output_type": "stream",
     "text": [
      "going  20200828 15:26:25\n"
     ]
    },
    {
     "data": {
      "text/plain": [
       "Timestamp('2020-08-28 15:25:03-0400', tz='America/Toronto')"
      ]
     },
     "metadata": {},
     "output_type": "display_data"
    },
    {
     "name": "stdout",
     "output_type": "stream",
     "text": [
      "going  20200828 15:25:03\n"
     ]
    },
    {
     "data": {
      "text/plain": [
       "Timestamp('2020-08-28 15:23:55-0400', tz='America/Toronto')"
      ]
     },
     "metadata": {},
     "output_type": "display_data"
    },
    {
     "name": "stdout",
     "output_type": "stream",
     "text": [
      "going  20200828 15:23:55\n"
     ]
    },
    {
     "data": {
      "text/plain": [
       "Timestamp('2020-08-28 15:22:53-0400', tz='America/Toronto')"
      ]
     },
     "metadata": {},
     "output_type": "display_data"
    },
    {
     "name": "stdout",
     "output_type": "stream",
     "text": [
      "going  20200828 15:22:53\n"
     ]
    },
    {
     "data": {
      "text/plain": [
       "Timestamp('2020-08-28 15:21:44-0400', tz='America/Toronto')"
      ]
     },
     "metadata": {},
     "output_type": "display_data"
    },
    {
     "name": "stdout",
     "output_type": "stream",
     "text": [
      "going  20200828 15:21:44\n"
     ]
    },
    {
     "data": {
      "text/plain": [
       "Timestamp('2020-08-28 15:20:33-0400', tz='America/Toronto')"
      ]
     },
     "metadata": {},
     "output_type": "display_data"
    },
    {
     "name": "stdout",
     "output_type": "stream",
     "text": [
      "going  20200828 15:20:33\n"
     ]
    },
    {
     "data": {
      "text/plain": [
       "Timestamp('2020-08-28 15:19:12-0400', tz='America/Toronto')"
      ]
     },
     "metadata": {},
     "output_type": "display_data"
    },
    {
     "name": "stdout",
     "output_type": "stream",
     "text": [
      "going  20200828 15:19:12\n"
     ]
    },
    {
     "data": {
      "text/plain": [
       "Timestamp('2020-08-28 15:18:22-0400', tz='America/Toronto')"
      ]
     },
     "metadata": {},
     "output_type": "display_data"
    },
    {
     "name": "stdout",
     "output_type": "stream",
     "text": [
      "going  20200828 15:18:22\n"
     ]
    },
    {
     "data": {
      "text/plain": [
       "Timestamp('2020-08-28 15:17:00-0400', tz='America/Toronto')"
      ]
     },
     "metadata": {},
     "output_type": "display_data"
    },
    {
     "name": "stdout",
     "output_type": "stream",
     "text": [
      "going  20200828 15:17:00\n"
     ]
    },
    {
     "data": {
      "text/plain": [
       "Timestamp('2020-08-28 15:15:45-0400', tz='America/Toronto')"
      ]
     },
     "metadata": {},
     "output_type": "display_data"
    },
    {
     "name": "stdout",
     "output_type": "stream",
     "text": [
      "going  20200828 15:15:45\n"
     ]
    },
    {
     "data": {
      "text/plain": [
       "Timestamp('2020-08-28 15:14:53-0400', tz='America/Toronto')"
      ]
     },
     "metadata": {},
     "output_type": "display_data"
    },
    {
     "name": "stdout",
     "output_type": "stream",
     "text": [
      "going  20200828 15:14:53\n"
     ]
    },
    {
     "data": {
      "text/plain": [
       "Timestamp('2020-08-28 15:13:46-0400', tz='America/Toronto')"
      ]
     },
     "metadata": {},
     "output_type": "display_data"
    },
    {
     "name": "stdout",
     "output_type": "stream",
     "text": [
      "going  20200828 15:13:46\n"
     ]
    },
    {
     "data": {
      "text/plain": [
       "Timestamp('2020-08-28 15:13:03-0400', tz='America/Toronto')"
      ]
     },
     "metadata": {},
     "output_type": "display_data"
    },
    {
     "name": "stdout",
     "output_type": "stream",
     "text": [
      "going  20200828 15:13:03\n"
     ]
    },
    {
     "data": {
      "text/plain": [
       "Timestamp('2020-08-28 15:12:15-0400', tz='America/Toronto')"
      ]
     },
     "metadata": {},
     "output_type": "display_data"
    },
    {
     "name": "stdout",
     "output_type": "stream",
     "text": [
      "going  20200828 15:12:15\n"
     ]
    },
    {
     "data": {
      "text/plain": [
       "Timestamp('2020-08-28 15:11:32-0400', tz='America/Toronto')"
      ]
     },
     "metadata": {},
     "output_type": "display_data"
    },
    {
     "name": "stdout",
     "output_type": "stream",
     "text": [
      "going  20200828 15:11:32\n"
     ]
    },
    {
     "data": {
      "text/plain": [
       "Timestamp('2020-08-28 15:10:18-0400', tz='America/Toronto')"
      ]
     },
     "metadata": {},
     "output_type": "display_data"
    },
    {
     "name": "stdout",
     "output_type": "stream",
     "text": [
      "going  20200828 15:10:18\n"
     ]
    },
    {
     "data": {
      "text/plain": [
       "Timestamp('2020-08-28 15:08:55-0400', tz='America/Toronto')"
      ]
     },
     "metadata": {},
     "output_type": "display_data"
    },
    {
     "name": "stdout",
     "output_type": "stream",
     "text": [
      "going  20200828 15:08:55\n"
     ]
    },
    {
     "data": {
      "text/plain": [
       "Timestamp('2020-08-28 15:08:15-0400', tz='America/Toronto')"
      ]
     },
     "metadata": {},
     "output_type": "display_data"
    },
    {
     "name": "stdout",
     "output_type": "stream",
     "text": [
      "going  20200828 15:08:15\n"
     ]
    },
    {
     "data": {
      "text/plain": [
       "Timestamp('2020-08-28 15:07:36-0400', tz='America/Toronto')"
      ]
     },
     "metadata": {},
     "output_type": "display_data"
    },
    {
     "name": "stdout",
     "output_type": "stream",
     "text": [
      "going  20200828 15:07:36\n"
     ]
    },
    {
     "data": {
      "text/plain": [
       "Timestamp('2020-08-28 15:06:39-0400', tz='America/Toronto')"
      ]
     },
     "metadata": {},
     "output_type": "display_data"
    },
    {
     "name": "stdout",
     "output_type": "stream",
     "text": [
      "going  20200828 15:06:39\n"
     ]
    },
    {
     "data": {
      "text/plain": [
       "Timestamp('2020-08-28 15:05:04-0400', tz='America/Toronto')"
      ]
     },
     "metadata": {},
     "output_type": "display_data"
    },
    {
     "name": "stdout",
     "output_type": "stream",
     "text": [
      "going  20200828 15:05:04\n"
     ]
    },
    {
     "data": {
      "text/plain": [
       "Timestamp('2020-08-28 15:03:50-0400', tz='America/Toronto')"
      ]
     },
     "metadata": {},
     "output_type": "display_data"
    },
    {
     "name": "stdout",
     "output_type": "stream",
     "text": [
      "going  20200828 15:03:50\n"
     ]
    },
    {
     "data": {
      "text/plain": [
       "Timestamp('2020-08-28 15:02:15-0400', tz='America/Toronto')"
      ]
     },
     "metadata": {},
     "output_type": "display_data"
    },
    {
     "name": "stdout",
     "output_type": "stream",
     "text": [
      "going  20200828 15:02:15\n"
     ]
    },
    {
     "data": {
      "text/plain": [
       "Timestamp('2020-08-28 15:01:07-0400', tz='America/Toronto')"
      ]
     },
     "metadata": {},
     "output_type": "display_data"
    },
    {
     "name": "stdout",
     "output_type": "stream",
     "text": [
      "going  20200828 15:01:07\n"
     ]
    },
    {
     "data": {
      "text/plain": [
       "Timestamp('2020-08-28 14:59:57-0400', tz='America/Toronto')"
      ]
     },
     "metadata": {},
     "output_type": "display_data"
    },
    {
     "name": "stdout",
     "output_type": "stream",
     "text": [
      "going  20200828 14:59:57\n"
     ]
    },
    {
     "data": {
      "text/plain": [
       "Timestamp('2020-08-28 14:58:14-0400', tz='America/Toronto')"
      ]
     },
     "metadata": {},
     "output_type": "display_data"
    },
    {
     "name": "stdout",
     "output_type": "stream",
     "text": [
      "going  20200828 14:58:14\n"
     ]
    },
    {
     "data": {
      "text/plain": [
       "Timestamp('2020-08-28 14:56:57-0400', tz='America/Toronto')"
      ]
     },
     "metadata": {},
     "output_type": "display_data"
    },
    {
     "name": "stdout",
     "output_type": "stream",
     "text": [
      "going  20200828 14:56:57\n"
     ]
    },
    {
     "data": {
      "text/plain": [
       "Timestamp('2020-08-28 14:55:05-0400', tz='America/Toronto')"
      ]
     },
     "metadata": {},
     "output_type": "display_data"
    },
    {
     "name": "stdout",
     "output_type": "stream",
     "text": [
      "going  20200828 14:55:05\n"
     ]
    },
    {
     "data": {
      "text/plain": [
       "Timestamp('2020-08-28 14:53:47-0400', tz='America/Toronto')"
      ]
     },
     "metadata": {},
     "output_type": "display_data"
    },
    {
     "name": "stdout",
     "output_type": "stream",
     "text": [
      "going  20200828 14:53:47\n"
     ]
    },
    {
     "data": {
      "text/plain": [
       "Timestamp('2020-08-28 14:52:17-0400', tz='America/Toronto')"
      ]
     },
     "metadata": {},
     "output_type": "display_data"
    },
    {
     "name": "stdout",
     "output_type": "stream",
     "text": [
      "going  20200828 14:52:17\n"
     ]
    },
    {
     "data": {
      "text/plain": [
       "Timestamp('2020-08-28 14:50:38-0400', tz='America/Toronto')"
      ]
     },
     "metadata": {},
     "output_type": "display_data"
    },
    {
     "name": "stdout",
     "output_type": "stream",
     "text": [
      "going  20200828 14:50:38\n"
     ]
    },
    {
     "data": {
      "text/plain": [
       "Timestamp('2020-08-28 14:49:33-0400', tz='America/Toronto')"
      ]
     },
     "metadata": {},
     "output_type": "display_data"
    },
    {
     "name": "stdout",
     "output_type": "stream",
     "text": [
      "going  20200828 14:49:33\n"
     ]
    },
    {
     "data": {
      "text/plain": [
       "Timestamp('2020-08-28 14:49:00-0400', tz='America/Toronto')"
      ]
     },
     "metadata": {},
     "output_type": "display_data"
    },
    {
     "name": "stdout",
     "output_type": "stream",
     "text": [
      "going  20200828 14:49:00\n"
     ]
    },
    {
     "data": {
      "text/plain": [
       "Timestamp('2020-08-28 14:48:15-0400', tz='America/Toronto')"
      ]
     },
     "metadata": {},
     "output_type": "display_data"
    },
    {
     "name": "stdout",
     "output_type": "stream",
     "text": [
      "going  20200828 14:48:15\n"
     ]
    },
    {
     "data": {
      "text/plain": [
       "Timestamp('2020-08-28 14:46:04-0400', tz='America/Toronto')"
      ]
     },
     "metadata": {},
     "output_type": "display_data"
    },
    {
     "name": "stdout",
     "output_type": "stream",
     "text": [
      "going  20200828 14:46:04\n"
     ]
    },
    {
     "data": {
      "text/plain": [
       "Timestamp('2020-08-28 14:43:31-0400', tz='America/Toronto')"
      ]
     },
     "metadata": {},
     "output_type": "display_data"
    },
    {
     "name": "stdout",
     "output_type": "stream",
     "text": [
      "going  20200828 14:43:31\n"
     ]
    },
    {
     "data": {
      "text/plain": [
       "Timestamp('2020-08-28 14:40:45-0400', tz='America/Toronto')"
      ]
     },
     "metadata": {},
     "output_type": "display_data"
    },
    {
     "name": "stdout",
     "output_type": "stream",
     "text": [
      "going  20200828 14:40:45\n"
     ]
    },
    {
     "data": {
      "text/plain": [
       "Timestamp('2020-08-28 14:39:06-0400', tz='America/Toronto')"
      ]
     },
     "metadata": {},
     "output_type": "display_data"
    },
    {
     "name": "stdout",
     "output_type": "stream",
     "text": [
      "going  20200828 14:39:06\n"
     ]
    },
    {
     "data": {
      "text/plain": [
       "Timestamp('2020-08-28 14:36:24-0400', tz='America/Toronto')"
      ]
     },
     "metadata": {},
     "output_type": "display_data"
    },
    {
     "name": "stdout",
     "output_type": "stream",
     "text": [
      "going  20200828 14:36:24\n"
     ]
    },
    {
     "data": {
      "text/plain": [
       "Timestamp('2020-08-28 14:33:44-0400', tz='America/Toronto')"
      ]
     },
     "metadata": {},
     "output_type": "display_data"
    },
    {
     "name": "stdout",
     "output_type": "stream",
     "text": [
      "going  20200828 14:33:44\n"
     ]
    },
    {
     "data": {
      "text/plain": [
       "Timestamp('2020-08-28 14:32:04-0400', tz='America/Toronto')"
      ]
     },
     "metadata": {},
     "output_type": "display_data"
    },
    {
     "name": "stdout",
     "output_type": "stream",
     "text": [
      "going  20200828 14:32:04\n"
     ]
    },
    {
     "data": {
      "text/plain": [
       "Timestamp('2020-08-28 14:29:57-0400', tz='America/Toronto')"
      ]
     },
     "metadata": {},
     "output_type": "display_data"
    },
    {
     "name": "stdout",
     "output_type": "stream",
     "text": [
      "going  20200828 14:29:57\n"
     ]
    },
    {
     "data": {
      "text/plain": [
       "Timestamp('2020-08-28 14:27:54-0400', tz='America/Toronto')"
      ]
     },
     "metadata": {},
     "output_type": "display_data"
    },
    {
     "name": "stdout",
     "output_type": "stream",
     "text": [
      "going  20200828 14:27:54\n"
     ]
    },
    {
     "data": {
      "text/plain": [
       "Timestamp('2020-08-28 14:25:35-0400', tz='America/Toronto')"
      ]
     },
     "metadata": {},
     "output_type": "display_data"
    },
    {
     "name": "stdout",
     "output_type": "stream",
     "text": [
      "going  20200828 14:25:35\n"
     ]
    },
    {
     "data": {
      "text/plain": [
       "Timestamp('2020-08-28 14:23:25-0400', tz='America/Toronto')"
      ]
     },
     "metadata": {},
     "output_type": "display_data"
    },
    {
     "name": "stdout",
     "output_type": "stream",
     "text": [
      "going  20200828 14:23:25\n"
     ]
    },
    {
     "data": {
      "text/plain": [
       "Timestamp('2020-08-28 14:21:21-0400', tz='America/Toronto')"
      ]
     },
     "metadata": {},
     "output_type": "display_data"
    },
    {
     "name": "stdout",
     "output_type": "stream",
     "text": [
      "going  20200828 14:21:21\n"
     ]
    },
    {
     "data": {
      "text/plain": [
       "Timestamp('2020-08-28 14:20:05-0400', tz='America/Toronto')"
      ]
     },
     "metadata": {},
     "output_type": "display_data"
    },
    {
     "name": "stdout",
     "output_type": "stream",
     "text": [
      "going  20200828 14:20:05\n"
     ]
    },
    {
     "data": {
      "text/plain": [
       "Timestamp('2020-08-28 14:18:09-0400', tz='America/Toronto')"
      ]
     },
     "metadata": {},
     "output_type": "display_data"
    },
    {
     "name": "stdout",
     "output_type": "stream",
     "text": [
      "going  20200828 14:18:09\n"
     ]
    },
    {
     "data": {
      "text/plain": [
       "Timestamp('2020-08-28 14:15:41-0400', tz='America/Toronto')"
      ]
     },
     "metadata": {},
     "output_type": "display_data"
    },
    {
     "name": "stdout",
     "output_type": "stream",
     "text": [
      "going  20200828 14:15:41\n"
     ]
    },
    {
     "data": {
      "text/plain": [
       "Timestamp('2020-08-28 14:13:13-0400', tz='America/Toronto')"
      ]
     },
     "metadata": {},
     "output_type": "display_data"
    },
    {
     "name": "stdout",
     "output_type": "stream",
     "text": [
      "going  20200828 14:13:13\n"
     ]
    },
    {
     "data": {
      "text/plain": [
       "Timestamp('2020-08-28 14:10:27-0400', tz='America/Toronto')"
      ]
     },
     "metadata": {},
     "output_type": "display_data"
    },
    {
     "name": "stdout",
     "output_type": "stream",
     "text": [
      "going  20200828 14:10:27\n"
     ]
    },
    {
     "data": {
      "text/plain": [
       "Timestamp('2020-08-28 14:08:43-0400', tz='America/Toronto')"
      ]
     },
     "metadata": {},
     "output_type": "display_data"
    },
    {
     "name": "stdout",
     "output_type": "stream",
     "text": [
      "going  20200828 14:08:43\n"
     ]
    },
    {
     "data": {
      "text/plain": [
       "Timestamp('2020-08-28 14:07:20-0400', tz='America/Toronto')"
      ]
     },
     "metadata": {},
     "output_type": "display_data"
    },
    {
     "name": "stdout",
     "output_type": "stream",
     "text": [
      "going  20200828 14:07:20\n"
     ]
    },
    {
     "data": {
      "text/plain": [
       "Timestamp('2020-08-28 14:05:29-0400', tz='America/Toronto')"
      ]
     },
     "metadata": {},
     "output_type": "display_data"
    },
    {
     "name": "stdout",
     "output_type": "stream",
     "text": [
      "going  20200828 14:05:29\n"
     ]
    },
    {
     "data": {
      "text/plain": [
       "Timestamp('2020-08-28 14:04:42-0400', tz='America/Toronto')"
      ]
     },
     "metadata": {},
     "output_type": "display_data"
    },
    {
     "name": "stdout",
     "output_type": "stream",
     "text": [
      "going  20200828 14:04:42\n"
     ]
    },
    {
     "data": {
      "text/plain": [
       "Timestamp('2020-08-28 14:01:32-0400', tz='America/Toronto')"
      ]
     },
     "metadata": {},
     "output_type": "display_data"
    },
    {
     "name": "stdout",
     "output_type": "stream",
     "text": [
      "going  20200828 14:01:32\n"
     ]
    },
    {
     "data": {
      "text/plain": [
       "Timestamp('2020-08-28 13:59:07-0400', tz='America/Toronto')"
      ]
     },
     "metadata": {},
     "output_type": "display_data"
    },
    {
     "name": "stdout",
     "output_type": "stream",
     "text": [
      "going  20200828 13:59:07\n"
     ]
    },
    {
     "data": {
      "text/plain": [
       "Timestamp('2020-08-28 13:56:46-0400', tz='America/Toronto')"
      ]
     },
     "metadata": {},
     "output_type": "display_data"
    },
    {
     "name": "stdout",
     "output_type": "stream",
     "text": [
      "going  20200828 13:56:46\n"
     ]
    },
    {
     "data": {
      "text/plain": [
       "Timestamp('2020-08-28 13:54:42-0400', tz='America/Toronto')"
      ]
     },
     "metadata": {},
     "output_type": "display_data"
    },
    {
     "name": "stdout",
     "output_type": "stream",
     "text": [
      "going  20200828 13:54:42\n"
     ]
    },
    {
     "data": {
      "text/plain": [
       "Timestamp('2020-08-28 13:52:53-0400', tz='America/Toronto')"
      ]
     },
     "metadata": {},
     "output_type": "display_data"
    },
    {
     "name": "stdout",
     "output_type": "stream",
     "text": [
      "going  20200828 13:52:53\n"
     ]
    },
    {
     "data": {
      "text/plain": [
       "Timestamp('2020-08-28 13:50:04-0400', tz='America/Toronto')"
      ]
     },
     "metadata": {},
     "output_type": "display_data"
    },
    {
     "name": "stdout",
     "output_type": "stream",
     "text": [
      "going  20200828 13:50:04\n"
     ]
    },
    {
     "data": {
      "text/plain": [
       "Timestamp('2020-08-28 13:46:57-0400', tz='America/Toronto')"
      ]
     },
     "metadata": {},
     "output_type": "display_data"
    },
    {
     "name": "stdout",
     "output_type": "stream",
     "text": [
      "going  20200828 13:46:57\n"
     ]
    },
    {
     "data": {
      "text/plain": [
       "Timestamp('2020-08-28 13:44:20-0400', tz='America/Toronto')"
      ]
     },
     "metadata": {},
     "output_type": "display_data"
    },
    {
     "name": "stdout",
     "output_type": "stream",
     "text": [
      "going  20200828 13:44:20\n"
     ]
    },
    {
     "data": {
      "text/plain": [
       "Timestamp('2020-08-28 13:41:52-0400', tz='America/Toronto')"
      ]
     },
     "metadata": {},
     "output_type": "display_data"
    },
    {
     "name": "stdout",
     "output_type": "stream",
     "text": [
      "going  20200828 13:41:52\n"
     ]
    },
    {
     "data": {
      "text/plain": [
       "Timestamp('2020-08-28 13:40:28-0400', tz='America/Toronto')"
      ]
     },
     "metadata": {},
     "output_type": "display_data"
    },
    {
     "name": "stdout",
     "output_type": "stream",
     "text": [
      "going  20200828 13:40:28\n"
     ]
    },
    {
     "data": {
      "text/plain": [
       "Timestamp('2020-08-28 13:39:29-0400', tz='America/Toronto')"
      ]
     },
     "metadata": {},
     "output_type": "display_data"
    },
    {
     "name": "stdout",
     "output_type": "stream",
     "text": [
      "going  20200828 13:39:29\n"
     ]
    },
    {
     "data": {
      "text/plain": [
       "Timestamp('2020-08-28 13:36:49-0400', tz='America/Toronto')"
      ]
     },
     "metadata": {},
     "output_type": "display_data"
    },
    {
     "name": "stdout",
     "output_type": "stream",
     "text": [
      "going  20200828 13:36:49\n"
     ]
    },
    {
     "data": {
      "text/plain": [
       "Timestamp('2020-08-28 13:34:27-0400', tz='America/Toronto')"
      ]
     },
     "metadata": {},
     "output_type": "display_data"
    },
    {
     "name": "stdout",
     "output_type": "stream",
     "text": [
      "going  20200828 13:34:27\n"
     ]
    },
    {
     "data": {
      "text/plain": [
       "Timestamp('2020-08-28 13:32:07-0400', tz='America/Toronto')"
      ]
     },
     "metadata": {},
     "output_type": "display_data"
    },
    {
     "name": "stdout",
     "output_type": "stream",
     "text": [
      "going  20200828 13:32:07\n"
     ]
    },
    {
     "data": {
      "text/plain": [
       "Timestamp('2020-08-28 13:30:27-0400', tz='America/Toronto')"
      ]
     },
     "metadata": {},
     "output_type": "display_data"
    },
    {
     "name": "stdout",
     "output_type": "stream",
     "text": [
      "going  20200828 13:30:27\n"
     ]
    },
    {
     "data": {
      "text/plain": [
       "Timestamp('2020-08-28 13:28:48-0400', tz='America/Toronto')"
      ]
     },
     "metadata": {},
     "output_type": "display_data"
    },
    {
     "name": "stdout",
     "output_type": "stream",
     "text": [
      "going  20200828 13:28:48\n"
     ]
    },
    {
     "data": {
      "text/plain": [
       "Timestamp('2020-08-28 13:27:11-0400', tz='America/Toronto')"
      ]
     },
     "metadata": {},
     "output_type": "display_data"
    },
    {
     "name": "stdout",
     "output_type": "stream",
     "text": [
      "going  20200828 13:27:11\n"
     ]
    },
    {
     "data": {
      "text/plain": [
       "Timestamp('2020-08-28 13:25:00-0400', tz='America/Toronto')"
      ]
     },
     "metadata": {},
     "output_type": "display_data"
    },
    {
     "name": "stdout",
     "output_type": "stream",
     "text": [
      "going  20200828 13:25:00\n"
     ]
    },
    {
     "data": {
      "text/plain": [
       "Timestamp('2020-08-28 13:21:59-0400', tz='America/Toronto')"
      ]
     },
     "metadata": {},
     "output_type": "display_data"
    },
    {
     "name": "stdout",
     "output_type": "stream",
     "text": [
      "going  20200828 13:21:59\n"
     ]
    },
    {
     "data": {
      "text/plain": [
       "Timestamp('2020-08-28 13:18:17-0400', tz='America/Toronto')"
      ]
     },
     "metadata": {},
     "output_type": "display_data"
    },
    {
     "name": "stdout",
     "output_type": "stream",
     "text": [
      "going  20200828 13:18:17\n"
     ]
    },
    {
     "data": {
      "text/plain": [
       "Timestamp('2020-08-28 13:16:27-0400', tz='America/Toronto')"
      ]
     },
     "metadata": {},
     "output_type": "display_data"
    },
    {
     "name": "stdout",
     "output_type": "stream",
     "text": [
      "going  20200828 13:16:27\n"
     ]
    },
    {
     "data": {
      "text/plain": [
       "Timestamp('2020-08-28 13:14:51-0400', tz='America/Toronto')"
      ]
     },
     "metadata": {},
     "output_type": "display_data"
    },
    {
     "name": "stdout",
     "output_type": "stream",
     "text": [
      "going  20200828 13:14:51\n"
     ]
    },
    {
     "data": {
      "text/plain": [
       "Timestamp('2020-08-28 13:13:53-0400', tz='America/Toronto')"
      ]
     },
     "metadata": {},
     "output_type": "display_data"
    },
    {
     "name": "stdout",
     "output_type": "stream",
     "text": [
      "going  20200828 13:13:53\n"
     ]
    },
    {
     "data": {
      "text/plain": [
       "Timestamp('2020-08-28 13:11:45-0400', tz='America/Toronto')"
      ]
     },
     "metadata": {},
     "output_type": "display_data"
    },
    {
     "name": "stdout",
     "output_type": "stream",
     "text": [
      "going  20200828 13:11:45\n"
     ]
    },
    {
     "data": {
      "text/plain": [
       "Timestamp('2020-08-28 13:08:47-0400', tz='America/Toronto')"
      ]
     },
     "metadata": {},
     "output_type": "display_data"
    },
    {
     "name": "stdout",
     "output_type": "stream",
     "text": [
      "going  20200828 13:08:47\n"
     ]
    },
    {
     "data": {
      "text/plain": [
       "Timestamp('2020-08-28 13:06:12-0400', tz='America/Toronto')"
      ]
     },
     "metadata": {},
     "output_type": "display_data"
    },
    {
     "name": "stdout",
     "output_type": "stream",
     "text": [
      "going  20200828 13:06:12\n"
     ]
    },
    {
     "data": {
      "text/plain": [
       "Timestamp('2020-08-28 13:04:00-0400', tz='America/Toronto')"
      ]
     },
     "metadata": {},
     "output_type": "display_data"
    },
    {
     "name": "stdout",
     "output_type": "stream",
     "text": [
      "going  20200828 13:04:00\n"
     ]
    },
    {
     "data": {
      "text/plain": [
       "Timestamp('2020-08-28 13:01:51-0400', tz='America/Toronto')"
      ]
     },
     "metadata": {},
     "output_type": "display_data"
    },
    {
     "name": "stdout",
     "output_type": "stream",
     "text": [
      "going  20200828 13:01:51\n"
     ]
    },
    {
     "data": {
      "text/plain": [
       "Timestamp('2020-08-28 12:59:47-0400', tz='America/Toronto')"
      ]
     },
     "metadata": {},
     "output_type": "display_data"
    },
    {
     "name": "stdout",
     "output_type": "stream",
     "text": [
      "going  20200828 12:59:47\n"
     ]
    },
    {
     "data": {
      "text/plain": [
       "Timestamp('2020-08-28 12:57:33-0400', tz='America/Toronto')"
      ]
     },
     "metadata": {},
     "output_type": "display_data"
    },
    {
     "name": "stdout",
     "output_type": "stream",
     "text": [
      "going  20200828 12:57:33\n"
     ]
    },
    {
     "data": {
      "text/plain": [
       "Timestamp('2020-08-28 12:55:42-0400', tz='America/Toronto')"
      ]
     },
     "metadata": {},
     "output_type": "display_data"
    },
    {
     "name": "stdout",
     "output_type": "stream",
     "text": [
      "going  20200828 12:55:42\n"
     ]
    },
    {
     "data": {
      "text/plain": [
       "Timestamp('2020-08-28 12:54:08-0400', tz='America/Toronto')"
      ]
     },
     "metadata": {},
     "output_type": "display_data"
    },
    {
     "name": "stdout",
     "output_type": "stream",
     "text": [
      "going  20200828 12:54:08\n"
     ]
    },
    {
     "data": {
      "text/plain": [
       "Timestamp('2020-08-28 12:51:24-0400', tz='America/Toronto')"
      ]
     },
     "metadata": {},
     "output_type": "display_data"
    },
    {
     "name": "stdout",
     "output_type": "stream",
     "text": [
      "going  20200828 12:51:24\n"
     ]
    },
    {
     "data": {
      "text/plain": [
       "Timestamp('2020-08-28 12:49:34-0400', tz='America/Toronto')"
      ]
     },
     "metadata": {},
     "output_type": "display_data"
    },
    {
     "name": "stdout",
     "output_type": "stream",
     "text": [
      "going  20200828 12:49:34\n"
     ]
    },
    {
     "data": {
      "text/plain": [
       "Timestamp('2020-08-28 12:47:58-0400', tz='America/Toronto')"
      ]
     },
     "metadata": {},
     "output_type": "display_data"
    },
    {
     "name": "stdout",
     "output_type": "stream",
     "text": [
      "going  20200828 12:47:58\n"
     ]
    },
    {
     "data": {
      "text/plain": [
       "Timestamp('2020-08-28 12:45:02-0400', tz='America/Toronto')"
      ]
     },
     "metadata": {},
     "output_type": "display_data"
    },
    {
     "name": "stdout",
     "output_type": "stream",
     "text": [
      "going  20200828 12:45:02\n"
     ]
    },
    {
     "data": {
      "text/plain": [
       "Timestamp('2020-08-28 12:43:18-0400', tz='America/Toronto')"
      ]
     },
     "metadata": {},
     "output_type": "display_data"
    },
    {
     "name": "stdout",
     "output_type": "stream",
     "text": [
      "going  20200828 12:43:18\n"
     ]
    },
    {
     "data": {
      "text/plain": [
       "Timestamp('2020-08-28 12:41:14-0400', tz='America/Toronto')"
      ]
     },
     "metadata": {},
     "output_type": "display_data"
    },
    {
     "name": "stdout",
     "output_type": "stream",
     "text": [
      "going  20200828 12:41:14\n"
     ]
    },
    {
     "data": {
      "text/plain": [
       "Timestamp('2020-08-28 12:38:06-0400', tz='America/Toronto')"
      ]
     },
     "metadata": {},
     "output_type": "display_data"
    },
    {
     "name": "stdout",
     "output_type": "stream",
     "text": [
      "going  20200828 12:38:06\n"
     ]
    },
    {
     "data": {
      "text/plain": [
       "Timestamp('2020-08-28 12:35:24-0400', tz='America/Toronto')"
      ]
     },
     "metadata": {},
     "output_type": "display_data"
    },
    {
     "name": "stdout",
     "output_type": "stream",
     "text": [
      "going  20200828 12:35:24\n"
     ]
    },
    {
     "data": {
      "text/plain": [
       "Timestamp('2020-08-28 12:32:00-0400', tz='America/Toronto')"
      ]
     },
     "metadata": {},
     "output_type": "display_data"
    },
    {
     "name": "stdout",
     "output_type": "stream",
     "text": [
      "going  20200828 12:32:00\n"
     ]
    },
    {
     "data": {
      "text/plain": [
       "Timestamp('2020-08-28 12:27:48-0400', tz='America/Toronto')"
      ]
     },
     "metadata": {},
     "output_type": "display_data"
    },
    {
     "name": "stdout",
     "output_type": "stream",
     "text": [
      "going  20200828 12:27:48\n"
     ]
    },
    {
     "data": {
      "text/plain": [
       "Timestamp('2020-08-28 12:24:00-0400', tz='America/Toronto')"
      ]
     },
     "metadata": {},
     "output_type": "display_data"
    },
    {
     "name": "stdout",
     "output_type": "stream",
     "text": [
      "going  20200828 12:24:00\n"
     ]
    },
    {
     "data": {
      "text/plain": [
       "Timestamp('2020-08-28 12:21:55-0400', tz='America/Toronto')"
      ]
     },
     "metadata": {},
     "output_type": "display_data"
    },
    {
     "name": "stdout",
     "output_type": "stream",
     "text": [
      "going  20200828 12:21:55\n"
     ]
    },
    {
     "data": {
      "text/plain": [
       "Timestamp('2020-08-28 12:19:19-0400', tz='America/Toronto')"
      ]
     },
     "metadata": {},
     "output_type": "display_data"
    },
    {
     "name": "stdout",
     "output_type": "stream",
     "text": [
      "going  20200828 12:19:19\n"
     ]
    },
    {
     "data": {
      "text/plain": [
       "Timestamp('2020-08-28 12:16:35-0400', tz='America/Toronto')"
      ]
     },
     "metadata": {},
     "output_type": "display_data"
    },
    {
     "name": "stdout",
     "output_type": "stream",
     "text": [
      "going  20200828 12:16:35\n"
     ]
    },
    {
     "data": {
      "text/plain": [
       "Timestamp('2020-08-28 12:13:04-0400', tz='America/Toronto')"
      ]
     },
     "metadata": {},
     "output_type": "display_data"
    },
    {
     "name": "stdout",
     "output_type": "stream",
     "text": [
      "going  20200828 12:13:04\n"
     ]
    },
    {
     "data": {
      "text/plain": [
       "Timestamp('2020-08-28 12:10:13-0400', tz='America/Toronto')"
      ]
     },
     "metadata": {},
     "output_type": "display_data"
    },
    {
     "name": "stdout",
     "output_type": "stream",
     "text": [
      "going  20200828 12:10:13\n"
     ]
    },
    {
     "data": {
      "text/plain": [
       "Timestamp('2020-08-28 12:07:37-0400', tz='America/Toronto')"
      ]
     },
     "metadata": {},
     "output_type": "display_data"
    },
    {
     "name": "stdout",
     "output_type": "stream",
     "text": [
      "going  20200828 12:07:37\n"
     ]
    },
    {
     "data": {
      "text/plain": [
       "Timestamp('2020-08-28 12:04:25-0400', tz='America/Toronto')"
      ]
     },
     "metadata": {},
     "output_type": "display_data"
    },
    {
     "name": "stdout",
     "output_type": "stream",
     "text": [
      "going  20200828 12:04:25\n"
     ]
    },
    {
     "data": {
      "text/plain": [
       "Timestamp('2020-08-28 12:00:58-0400', tz='America/Toronto')"
      ]
     },
     "metadata": {},
     "output_type": "display_data"
    },
    {
     "name": "stdout",
     "output_type": "stream",
     "text": [
      "going  20200828 12:00:58\n"
     ]
    },
    {
     "data": {
      "text/plain": [
       "Timestamp('2020-08-28 11:58:47-0400', tz='America/Toronto')"
      ]
     },
     "metadata": {},
     "output_type": "display_data"
    },
    {
     "name": "stdout",
     "output_type": "stream",
     "text": [
      "going  20200828 11:58:47\n"
     ]
    },
    {
     "data": {
      "text/plain": [
       "Timestamp('2020-08-28 11:56:27-0400', tz='America/Toronto')"
      ]
     },
     "metadata": {},
     "output_type": "display_data"
    },
    {
     "name": "stdout",
     "output_type": "stream",
     "text": [
      "going  20200828 11:56:27\n"
     ]
    },
    {
     "data": {
      "text/plain": [
       "Timestamp('2020-08-28 11:54:07-0400', tz='America/Toronto')"
      ]
     },
     "metadata": {},
     "output_type": "display_data"
    },
    {
     "name": "stdout",
     "output_type": "stream",
     "text": [
      "going  20200828 11:54:07\n"
     ]
    },
    {
     "data": {
      "text/plain": [
       "Timestamp('2020-08-28 11:50:37-0400', tz='America/Toronto')"
      ]
     },
     "metadata": {},
     "output_type": "display_data"
    },
    {
     "name": "stdout",
     "output_type": "stream",
     "text": [
      "going  20200828 11:50:37\n"
     ]
    },
    {
     "data": {
      "text/plain": [
       "Timestamp('2020-08-28 11:47:48-0400', tz='America/Toronto')"
      ]
     },
     "metadata": {},
     "output_type": "display_data"
    },
    {
     "name": "stdout",
     "output_type": "stream",
     "text": [
      "going  20200828 11:47:48\n"
     ]
    },
    {
     "data": {
      "text/plain": [
       "Timestamp('2020-08-28 11:44:11-0400', tz='America/Toronto')"
      ]
     },
     "metadata": {},
     "output_type": "display_data"
    },
    {
     "name": "stdout",
     "output_type": "stream",
     "text": [
      "going  20200828 11:44:11\n"
     ]
    },
    {
     "data": {
      "text/plain": [
       "Timestamp('2020-08-28 11:41:14-0400', tz='America/Toronto')"
      ]
     },
     "metadata": {},
     "output_type": "display_data"
    },
    {
     "name": "stdout",
     "output_type": "stream",
     "text": [
      "going  20200828 11:41:14\n"
     ]
    },
    {
     "data": {
      "text/plain": [
       "Timestamp('2020-08-28 11:38:09-0400', tz='America/Toronto')"
      ]
     },
     "metadata": {},
     "output_type": "display_data"
    },
    {
     "name": "stdout",
     "output_type": "stream",
     "text": [
      "going  20200828 11:38:09\n"
     ]
    },
    {
     "data": {
      "text/plain": [
       "Timestamp('2020-08-28 11:35:54-0400', tz='America/Toronto')"
      ]
     },
     "metadata": {},
     "output_type": "display_data"
    },
    {
     "name": "stdout",
     "output_type": "stream",
     "text": [
      "going  20200828 11:35:54\n"
     ]
    },
    {
     "data": {
      "text/plain": [
       "Timestamp('2020-08-28 11:33:08-0400', tz='America/Toronto')"
      ]
     },
     "metadata": {},
     "output_type": "display_data"
    },
    {
     "name": "stdout",
     "output_type": "stream",
     "text": [
      "going  20200828 11:33:08\n"
     ]
    },
    {
     "data": {
      "text/plain": [
       "Timestamp('2020-08-28 11:30:56-0400', tz='America/Toronto')"
      ]
     },
     "metadata": {},
     "output_type": "display_data"
    },
    {
     "name": "stdout",
     "output_type": "stream",
     "text": [
      "going  20200828 11:30:56\n"
     ]
    },
    {
     "data": {
      "text/plain": [
       "Timestamp('2020-08-28 11:28:45-0400', tz='America/Toronto')"
      ]
     },
     "metadata": {},
     "output_type": "display_data"
    },
    {
     "name": "stdout",
     "output_type": "stream",
     "text": [
      "going  20200828 11:28:45\n"
     ]
    },
    {
     "data": {
      "text/plain": [
       "Timestamp('2020-08-28 11:26:33-0400', tz='America/Toronto')"
      ]
     },
     "metadata": {},
     "output_type": "display_data"
    },
    {
     "name": "stdout",
     "output_type": "stream",
     "text": [
      "going  20200828 11:26:33\n"
     ]
    },
    {
     "data": {
      "text/plain": [
       "Timestamp('2020-08-28 11:24:15-0400', tz='America/Toronto')"
      ]
     },
     "metadata": {},
     "output_type": "display_data"
    },
    {
     "name": "stdout",
     "output_type": "stream",
     "text": [
      "going  20200828 11:24:15\n"
     ]
    },
    {
     "data": {
      "text/plain": [
       "Timestamp('2020-08-28 11:22:32-0400', tz='America/Toronto')"
      ]
     },
     "metadata": {},
     "output_type": "display_data"
    },
    {
     "name": "stdout",
     "output_type": "stream",
     "text": [
      "going  20200828 11:22:32\n"
     ]
    },
    {
     "data": {
      "text/plain": [
       "Timestamp('2020-08-28 11:20:58-0400', tz='America/Toronto')"
      ]
     },
     "metadata": {},
     "output_type": "display_data"
    },
    {
     "name": "stdout",
     "output_type": "stream",
     "text": [
      "going  20200828 11:20:58\n"
     ]
    },
    {
     "data": {
      "text/plain": [
       "Timestamp('2020-08-28 11:20:15-0400', tz='America/Toronto')"
      ]
     },
     "metadata": {},
     "output_type": "display_data"
    },
    {
     "name": "stdout",
     "output_type": "stream",
     "text": [
      "going  20200828 11:20:15\n"
     ]
    },
    {
     "data": {
      "text/plain": [
       "Timestamp('2020-08-28 11:17:50-0400', tz='America/Toronto')"
      ]
     },
     "metadata": {},
     "output_type": "display_data"
    },
    {
     "name": "stdout",
     "output_type": "stream",
     "text": [
      "going  20200828 11:17:50\n"
     ]
    },
    {
     "data": {
      "text/plain": [
       "Timestamp('2020-08-28 11:15:35-0400', tz='America/Toronto')"
      ]
     },
     "metadata": {},
     "output_type": "display_data"
    },
    {
     "name": "stdout",
     "output_type": "stream",
     "text": [
      "going  20200828 11:15:35\n"
     ]
    },
    {
     "data": {
      "text/plain": [
       "Timestamp('2020-08-28 11:13:00-0400', tz='America/Toronto')"
      ]
     },
     "metadata": {},
     "output_type": "display_data"
    },
    {
     "name": "stdout",
     "output_type": "stream",
     "text": [
      "going  20200828 11:13:00\n"
     ]
    },
    {
     "data": {
      "text/plain": [
       "Timestamp('2020-08-28 11:10:52-0400', tz='America/Toronto')"
      ]
     },
     "metadata": {},
     "output_type": "display_data"
    },
    {
     "name": "stdout",
     "output_type": "stream",
     "text": [
      "going  20200828 11:10:52\n"
     ]
    },
    {
     "data": {
      "text/plain": [
       "Timestamp('2020-08-28 11:08:16-0400', tz='America/Toronto')"
      ]
     },
     "metadata": {},
     "output_type": "display_data"
    },
    {
     "name": "stdout",
     "output_type": "stream",
     "text": [
      "going  20200828 11:08:16\n"
     ]
    },
    {
     "data": {
      "text/plain": [
       "Timestamp('2020-08-28 11:07:03-0400', tz='America/Toronto')"
      ]
     },
     "metadata": {},
     "output_type": "display_data"
    },
    {
     "name": "stdout",
     "output_type": "stream",
     "text": [
      "going  20200828 11:07:03\n"
     ]
    },
    {
     "data": {
      "text/plain": [
       "Timestamp('2020-08-28 11:05:37-0400', tz='America/Toronto')"
      ]
     },
     "metadata": {},
     "output_type": "display_data"
    },
    {
     "name": "stdout",
     "output_type": "stream",
     "text": [
      "going  20200828 11:05:37\n"
     ]
    },
    {
     "data": {
      "text/plain": [
       "Timestamp('2020-08-28 11:04:03-0400', tz='America/Toronto')"
      ]
     },
     "metadata": {},
     "output_type": "display_data"
    },
    {
     "name": "stdout",
     "output_type": "stream",
     "text": [
      "going  20200828 11:04:03\n"
     ]
    },
    {
     "data": {
      "text/plain": [
       "Timestamp('2020-08-28 11:02:10-0400', tz='America/Toronto')"
      ]
     },
     "metadata": {},
     "output_type": "display_data"
    },
    {
     "name": "stdout",
     "output_type": "stream",
     "text": [
      "going  20200828 11:02:10\n"
     ]
    },
    {
     "data": {
      "text/plain": [
       "Timestamp('2020-08-28 11:01:02-0400', tz='America/Toronto')"
      ]
     },
     "metadata": {},
     "output_type": "display_data"
    },
    {
     "name": "stdout",
     "output_type": "stream",
     "text": [
      "going  20200828 11:01:02\n"
     ]
    },
    {
     "data": {
      "text/plain": [
       "Timestamp('2020-08-28 10:59:34-0400', tz='America/Toronto')"
      ]
     },
     "metadata": {},
     "output_type": "display_data"
    },
    {
     "name": "stdout",
     "output_type": "stream",
     "text": [
      "going  20200828 10:59:34\n"
     ]
    },
    {
     "data": {
      "text/plain": [
       "Timestamp('2020-08-28 10:58:20-0400', tz='America/Toronto')"
      ]
     },
     "metadata": {},
     "output_type": "display_data"
    },
    {
     "name": "stdout",
     "output_type": "stream",
     "text": [
      "going  20200828 10:58:20\n"
     ]
    },
    {
     "data": {
      "text/plain": [
       "Timestamp('2020-08-28 10:56:51-0400', tz='America/Toronto')"
      ]
     },
     "metadata": {},
     "output_type": "display_data"
    },
    {
     "name": "stdout",
     "output_type": "stream",
     "text": [
      "going  20200828 10:56:51\n"
     ]
    },
    {
     "data": {
      "text/plain": [
       "Timestamp('2020-08-28 10:55:05-0400', tz='America/Toronto')"
      ]
     },
     "metadata": {},
     "output_type": "display_data"
    },
    {
     "name": "stdout",
     "output_type": "stream",
     "text": [
      "going  20200828 10:55:05\n"
     ]
    },
    {
     "data": {
      "text/plain": [
       "Timestamp('2020-08-28 10:53:15-0400', tz='America/Toronto')"
      ]
     },
     "metadata": {},
     "output_type": "display_data"
    },
    {
     "name": "stdout",
     "output_type": "stream",
     "text": [
      "going  20200828 10:53:15\n"
     ]
    },
    {
     "data": {
      "text/plain": [
       "Timestamp('2020-08-28 10:51:33-0400', tz='America/Toronto')"
      ]
     },
     "metadata": {},
     "output_type": "display_data"
    },
    {
     "name": "stdout",
     "output_type": "stream",
     "text": [
      "going  20200828 10:51:33\n"
     ]
    },
    {
     "data": {
      "text/plain": [
       "Timestamp('2020-08-28 10:49:53-0400', tz='America/Toronto')"
      ]
     },
     "metadata": {},
     "output_type": "display_data"
    },
    {
     "name": "stdout",
     "output_type": "stream",
     "text": [
      "going  20200828 10:49:53\n"
     ]
    },
    {
     "data": {
      "text/plain": [
       "Timestamp('2020-08-28 10:48:00-0400', tz='America/Toronto')"
      ]
     },
     "metadata": {},
     "output_type": "display_data"
    },
    {
     "name": "stdout",
     "output_type": "stream",
     "text": [
      "going  20200828 10:48:00\n"
     ]
    },
    {
     "data": {
      "text/plain": [
       "Timestamp('2020-08-28 10:46:53-0400', tz='America/Toronto')"
      ]
     },
     "metadata": {},
     "output_type": "display_data"
    },
    {
     "name": "stdout",
     "output_type": "stream",
     "text": [
      "going  20200828 10:46:53\n"
     ]
    },
    {
     "data": {
      "text/plain": [
       "Timestamp('2020-08-28 10:44:44-0400', tz='America/Toronto')"
      ]
     },
     "metadata": {},
     "output_type": "display_data"
    },
    {
     "name": "stdout",
     "output_type": "stream",
     "text": [
      "going  20200828 10:44:44\n"
     ]
    },
    {
     "data": {
      "text/plain": [
       "Timestamp('2020-08-28 10:42:53-0400', tz='America/Toronto')"
      ]
     },
     "metadata": {},
     "output_type": "display_data"
    },
    {
     "name": "stdout",
     "output_type": "stream",
     "text": [
      "going  20200828 10:42:53\n"
     ]
    },
    {
     "data": {
      "text/plain": [
       "Timestamp('2020-08-28 10:41:05-0400', tz='America/Toronto')"
      ]
     },
     "metadata": {},
     "output_type": "display_data"
    },
    {
     "name": "stdout",
     "output_type": "stream",
     "text": [
      "going  20200828 10:41:05\n"
     ]
    },
    {
     "data": {
      "text/plain": [
       "Timestamp('2020-08-28 10:39:26-0400', tz='America/Toronto')"
      ]
     },
     "metadata": {},
     "output_type": "display_data"
    },
    {
     "name": "stdout",
     "output_type": "stream",
     "text": [
      "going  20200828 10:39:26\n"
     ]
    },
    {
     "data": {
      "text/plain": [
       "Timestamp('2020-08-28 10:39:05-0400', tz='America/Toronto')"
      ]
     },
     "metadata": {},
     "output_type": "display_data"
    },
    {
     "name": "stdout",
     "output_type": "stream",
     "text": [
      "going  20200828 10:39:05\n"
     ]
    },
    {
     "data": {
      "text/plain": [
       "Timestamp('2020-08-28 10:38:30-0400', tz='America/Toronto')"
      ]
     },
     "metadata": {},
     "output_type": "display_data"
    },
    {
     "name": "stdout",
     "output_type": "stream",
     "text": [
      "going  20200828 10:38:30\n"
     ]
    },
    {
     "data": {
      "text/plain": [
       "Timestamp('2020-08-28 10:37:17-0400', tz='America/Toronto')"
      ]
     },
     "metadata": {},
     "output_type": "display_data"
    },
    {
     "name": "stdout",
     "output_type": "stream",
     "text": [
      "going  20200828 10:37:17\n"
     ]
    },
    {
     "data": {
      "text/plain": [
       "Timestamp('2020-08-28 10:36:37-0400', tz='America/Toronto')"
      ]
     },
     "metadata": {},
     "output_type": "display_data"
    },
    {
     "name": "stdout",
     "output_type": "stream",
     "text": [
      "going  20200828 10:36:37\n"
     ]
    },
    {
     "data": {
      "text/plain": [
       "Timestamp('2020-08-28 10:36:01-0400', tz='America/Toronto')"
      ]
     },
     "metadata": {},
     "output_type": "display_data"
    },
    {
     "name": "stdout",
     "output_type": "stream",
     "text": [
      "going  20200828 10:36:01\n"
     ]
    },
    {
     "data": {
      "text/plain": [
       "Timestamp('2020-08-28 10:34:43-0400', tz='America/Toronto')"
      ]
     },
     "metadata": {},
     "output_type": "display_data"
    },
    {
     "name": "stdout",
     "output_type": "stream",
     "text": [
      "going  20200828 10:34:43\n"
     ]
    },
    {
     "data": {
      "text/plain": [
       "Timestamp('2020-08-28 10:33:32-0400', tz='America/Toronto')"
      ]
     },
     "metadata": {},
     "output_type": "display_data"
    },
    {
     "name": "stdout",
     "output_type": "stream",
     "text": [
      "going  20200828 10:33:32\n"
     ]
    },
    {
     "data": {
      "text/plain": [
       "Timestamp('2020-08-28 10:31:55-0400', tz='America/Toronto')"
      ]
     },
     "metadata": {},
     "output_type": "display_data"
    },
    {
     "name": "stdout",
     "output_type": "stream",
     "text": [
      "going  20200828 10:31:55\n"
     ]
    },
    {
     "data": {
      "text/plain": [
       "Timestamp('2020-08-28 10:30:31-0400', tz='America/Toronto')"
      ]
     },
     "metadata": {},
     "output_type": "display_data"
    },
    {
     "name": "stdout",
     "output_type": "stream",
     "text": [
      "going  20200828 10:30:31\n"
     ]
    },
    {
     "data": {
      "text/plain": [
       "Timestamp('2020-08-28 10:28:51-0400', tz='America/Toronto')"
      ]
     },
     "metadata": {},
     "output_type": "display_data"
    },
    {
     "name": "stdout",
     "output_type": "stream",
     "text": [
      "going  20200828 10:28:51\n"
     ]
    },
    {
     "data": {
      "text/plain": [
       "Timestamp('2020-08-28 10:26:32-0400', tz='America/Toronto')"
      ]
     },
     "metadata": {},
     "output_type": "display_data"
    },
    {
     "name": "stdout",
     "output_type": "stream",
     "text": [
      "going  20200828 10:26:32\n"
     ]
    },
    {
     "data": {
      "text/plain": [
       "Timestamp('2020-08-28 10:25:09-0400', tz='America/Toronto')"
      ]
     },
     "metadata": {},
     "output_type": "display_data"
    },
    {
     "name": "stdout",
     "output_type": "stream",
     "text": [
      "going  20200828 10:25:09\n"
     ]
    },
    {
     "data": {
      "text/plain": [
       "Timestamp('2020-08-28 10:23:41-0400', tz='America/Toronto')"
      ]
     },
     "metadata": {},
     "output_type": "display_data"
    },
    {
     "name": "stdout",
     "output_type": "stream",
     "text": [
      "going  20200828 10:23:41\n"
     ]
    },
    {
     "data": {
      "text/plain": [
       "Timestamp('2020-08-28 10:22:49-0400', tz='America/Toronto')"
      ]
     },
     "metadata": {},
     "output_type": "display_data"
    },
    {
     "name": "stdout",
     "output_type": "stream",
     "text": [
      "going  20200828 10:22:49\n"
     ]
    },
    {
     "data": {
      "text/plain": [
       "Timestamp('2020-08-28 10:21:43-0400', tz='America/Toronto')"
      ]
     },
     "metadata": {},
     "output_type": "display_data"
    },
    {
     "name": "stdout",
     "output_type": "stream",
     "text": [
      "going  20200828 10:21:43\n"
     ]
    },
    {
     "data": {
      "text/plain": [
       "Timestamp('2020-08-28 10:20:37-0400', tz='America/Toronto')"
      ]
     },
     "metadata": {},
     "output_type": "display_data"
    },
    {
     "name": "stdout",
     "output_type": "stream",
     "text": [
      "going  20200828 10:20:37\n"
     ]
    },
    {
     "data": {
      "text/plain": [
       "Timestamp('2020-08-28 10:19:09-0400', tz='America/Toronto')"
      ]
     },
     "metadata": {},
     "output_type": "display_data"
    },
    {
     "name": "stdout",
     "output_type": "stream",
     "text": [
      "going  20200828 10:19:09\n"
     ]
    },
    {
     "data": {
      "text/plain": [
       "Timestamp('2020-08-28 10:17:21-0400', tz='America/Toronto')"
      ]
     },
     "metadata": {},
     "output_type": "display_data"
    },
    {
     "name": "stdout",
     "output_type": "stream",
     "text": [
      "going  20200828 10:17:21\n"
     ]
    },
    {
     "data": {
      "text/plain": [
       "Timestamp('2020-08-28 10:16:13-0400', tz='America/Toronto')"
      ]
     },
     "metadata": {},
     "output_type": "display_data"
    },
    {
     "name": "stdout",
     "output_type": "stream",
     "text": [
      "going  20200828 10:16:13\n"
     ]
    },
    {
     "data": {
      "text/plain": [
       "Timestamp('2020-08-28 10:15:21-0400', tz='America/Toronto')"
      ]
     },
     "metadata": {},
     "output_type": "display_data"
    },
    {
     "name": "stdout",
     "output_type": "stream",
     "text": [
      "going  20200828 10:15:21\n"
     ]
    },
    {
     "data": {
      "text/plain": [
       "Timestamp('2020-08-28 10:14:13-0400', tz='America/Toronto')"
      ]
     },
     "metadata": {},
     "output_type": "display_data"
    },
    {
     "name": "stdout",
     "output_type": "stream",
     "text": [
      "going  20200828 10:14:13\n"
     ]
    },
    {
     "data": {
      "text/plain": [
       "Timestamp('2020-08-28 10:13:02-0400', tz='America/Toronto')"
      ]
     },
     "metadata": {},
     "output_type": "display_data"
    },
    {
     "name": "stdout",
     "output_type": "stream",
     "text": [
      "going  20200828 10:13:02\n"
     ]
    },
    {
     "data": {
      "text/plain": [
       "Timestamp('2020-08-28 10:11:42-0400', tz='America/Toronto')"
      ]
     },
     "metadata": {},
     "output_type": "display_data"
    },
    {
     "name": "stdout",
     "output_type": "stream",
     "text": [
      "going  20200828 10:11:42\n"
     ]
    },
    {
     "data": {
      "text/plain": [
       "Timestamp('2020-08-28 10:09:52-0400', tz='America/Toronto')"
      ]
     },
     "metadata": {},
     "output_type": "display_data"
    },
    {
     "name": "stdout",
     "output_type": "stream",
     "text": [
      "going  20200828 10:09:52\n"
     ]
    },
    {
     "data": {
      "text/plain": [
       "Timestamp('2020-08-28 10:08:48-0400', tz='America/Toronto')"
      ]
     },
     "metadata": {},
     "output_type": "display_data"
    },
    {
     "name": "stdout",
     "output_type": "stream",
     "text": [
      "going  20200828 10:08:48\n"
     ]
    },
    {
     "data": {
      "text/plain": [
       "Timestamp('2020-08-28 10:07:41-0400', tz='America/Toronto')"
      ]
     },
     "metadata": {},
     "output_type": "display_data"
    },
    {
     "name": "stdout",
     "output_type": "stream",
     "text": [
      "going  20200828 10:07:41\n"
     ]
    },
    {
     "data": {
      "text/plain": [
       "Timestamp('2020-08-28 10:05:43-0400', tz='America/Toronto')"
      ]
     },
     "metadata": {},
     "output_type": "display_data"
    },
    {
     "name": "stdout",
     "output_type": "stream",
     "text": [
      "going  20200828 10:05:43\n"
     ]
    },
    {
     "data": {
      "text/plain": [
       "Timestamp('2020-08-28 10:04:27-0400', tz='America/Toronto')"
      ]
     },
     "metadata": {},
     "output_type": "display_data"
    },
    {
     "name": "stdout",
     "output_type": "stream",
     "text": [
      "going  20200828 10:04:27\n"
     ]
    },
    {
     "data": {
      "text/plain": [
       "Timestamp('2020-08-28 10:02:04-0400', tz='America/Toronto')"
      ]
     },
     "metadata": {},
     "output_type": "display_data"
    },
    {
     "name": "stdout",
     "output_type": "stream",
     "text": [
      "going  20200828 10:02:04\n"
     ]
    },
    {
     "data": {
      "text/plain": [
       "Timestamp('2020-08-28 10:00:44-0400', tz='America/Toronto')"
      ]
     },
     "metadata": {},
     "output_type": "display_data"
    },
    {
     "name": "stdout",
     "output_type": "stream",
     "text": [
      "going  20200828 10:00:44\n"
     ]
    },
    {
     "data": {
      "text/plain": [
       "Timestamp('2020-08-28 09:59:30-0400', tz='America/Toronto')"
      ]
     },
     "metadata": {},
     "output_type": "display_data"
    },
    {
     "name": "stdout",
     "output_type": "stream",
     "text": [
      "going  20200828 09:59:30\n"
     ]
    },
    {
     "data": {
      "text/plain": [
       "Timestamp('2020-08-28 09:57:38-0400', tz='America/Toronto')"
      ]
     },
     "metadata": {},
     "output_type": "display_data"
    },
    {
     "name": "stdout",
     "output_type": "stream",
     "text": [
      "going  20200828 09:57:38\n"
     ]
    },
    {
     "data": {
      "text/plain": [
       "Timestamp('2020-08-28 09:55:07-0400', tz='America/Toronto')"
      ]
     },
     "metadata": {},
     "output_type": "display_data"
    },
    {
     "name": "stdout",
     "output_type": "stream",
     "text": [
      "going  20200828 09:55:07\n"
     ]
    },
    {
     "data": {
      "text/plain": [
       "Timestamp('2020-08-28 09:54:07-0400', tz='America/Toronto')"
      ]
     },
     "metadata": {},
     "output_type": "display_data"
    },
    {
     "name": "stdout",
     "output_type": "stream",
     "text": [
      "going  20200828 09:54:07\n"
     ]
    },
    {
     "data": {
      "text/plain": [
       "Timestamp('2020-08-28 09:52:56-0400', tz='America/Toronto')"
      ]
     },
     "metadata": {},
     "output_type": "display_data"
    },
    {
     "name": "stdout",
     "output_type": "stream",
     "text": [
      "going  20200828 09:52:56\n"
     ]
    },
    {
     "data": {
      "text/plain": [
       "Timestamp('2020-08-28 09:51:49-0400', tz='America/Toronto')"
      ]
     },
     "metadata": {},
     "output_type": "display_data"
    },
    {
     "name": "stdout",
     "output_type": "stream",
     "text": [
      "going  20200828 09:51:49\n"
     ]
    },
    {
     "data": {
      "text/plain": [
       "Timestamp('2020-08-28 09:50:54-0400', tz='America/Toronto')"
      ]
     },
     "metadata": {},
     "output_type": "display_data"
    },
    {
     "name": "stdout",
     "output_type": "stream",
     "text": [
      "going  20200828 09:50:54\n"
     ]
    },
    {
     "data": {
      "text/plain": [
       "Timestamp('2020-08-28 09:49:58-0400', tz='America/Toronto')"
      ]
     },
     "metadata": {},
     "output_type": "display_data"
    },
    {
     "name": "stdout",
     "output_type": "stream",
     "text": [
      "going  20200828 09:49:58\n"
     ]
    },
    {
     "data": {
      "text/plain": [
       "Timestamp('2020-08-28 09:49:02-0400', tz='America/Toronto')"
      ]
     },
     "metadata": {},
     "output_type": "display_data"
    },
    {
     "name": "stdout",
     "output_type": "stream",
     "text": [
      "going  20200828 09:49:02\n"
     ]
    },
    {
     "data": {
      "text/plain": [
       "Timestamp('2020-08-28 09:47:22-0400', tz='America/Toronto')"
      ]
     },
     "metadata": {},
     "output_type": "display_data"
    },
    {
     "name": "stdout",
     "output_type": "stream",
     "text": [
      "going  20200828 09:47:22\n"
     ]
    },
    {
     "data": {
      "text/plain": [
       "Timestamp('2020-08-28 09:47:00-0400', tz='America/Toronto')"
      ]
     },
     "metadata": {},
     "output_type": "display_data"
    },
    {
     "name": "stdout",
     "output_type": "stream",
     "text": [
      "going  20200828 09:47:00\n"
     ]
    },
    {
     "data": {
      "text/plain": [
       "Timestamp('2020-08-28 09:46:46-0400', tz='America/Toronto')"
      ]
     },
     "metadata": {},
     "output_type": "display_data"
    },
    {
     "name": "stdout",
     "output_type": "stream",
     "text": [
      "going  20200828 09:46:46\n"
     ]
    },
    {
     "data": {
      "text/plain": [
       "Timestamp('2020-08-28 09:46:04-0400', tz='America/Toronto')"
      ]
     },
     "metadata": {},
     "output_type": "display_data"
    },
    {
     "name": "stdout",
     "output_type": "stream",
     "text": [
      "going  20200828 09:46:04\n"
     ]
    },
    {
     "data": {
      "text/plain": [
       "Timestamp('2020-08-28 09:44:54-0400', tz='America/Toronto')"
      ]
     },
     "metadata": {},
     "output_type": "display_data"
    },
    {
     "name": "stdout",
     "output_type": "stream",
     "text": [
      "going  20200828 09:44:54\n"
     ]
    },
    {
     "data": {
      "text/plain": [
       "Timestamp('2020-08-28 09:43:45-0400', tz='America/Toronto')"
      ]
     },
     "metadata": {},
     "output_type": "display_data"
    },
    {
     "name": "stdout",
     "output_type": "stream",
     "text": [
      "going  20200828 09:43:45\n"
     ]
    },
    {
     "data": {
      "text/plain": [
       "Timestamp('2020-08-28 09:42:38-0400', tz='America/Toronto')"
      ]
     },
     "metadata": {},
     "output_type": "display_data"
    },
    {
     "name": "stdout",
     "output_type": "stream",
     "text": [
      "going  20200828 09:42:38\n"
     ]
    },
    {
     "data": {
      "text/plain": [
       "Timestamp('2020-08-28 09:41:45-0400', tz='America/Toronto')"
      ]
     },
     "metadata": {},
     "output_type": "display_data"
    },
    {
     "name": "stdout",
     "output_type": "stream",
     "text": [
      "going  20200828 09:41:45\n"
     ]
    },
    {
     "data": {
      "text/plain": [
       "Timestamp('2020-08-28 09:40:46-0400', tz='America/Toronto')"
      ]
     },
     "metadata": {},
     "output_type": "display_data"
    },
    {
     "name": "stdout",
     "output_type": "stream",
     "text": [
      "going  20200828 09:40:46\n"
     ]
    },
    {
     "data": {
      "text/plain": [
       "Timestamp('2020-08-28 09:39:45-0400', tz='America/Toronto')"
      ]
     },
     "metadata": {},
     "output_type": "display_data"
    },
    {
     "name": "stdout",
     "output_type": "stream",
     "text": [
      "going  20200828 09:39:45\n"
     ]
    },
    {
     "data": {
      "text/plain": [
       "Timestamp('2020-08-28 09:38:33-0400', tz='America/Toronto')"
      ]
     },
     "metadata": {},
     "output_type": "display_data"
    },
    {
     "name": "stdout",
     "output_type": "stream",
     "text": [
      "going  20200828 09:38:33\n"
     ]
    },
    {
     "data": {
      "text/plain": [
       "Timestamp('2020-08-28 09:37:06-0400', tz='America/Toronto')"
      ]
     },
     "metadata": {},
     "output_type": "display_data"
    },
    {
     "name": "stdout",
     "output_type": "stream",
     "text": [
      "going  20200828 09:37:06\n"
     ]
    },
    {
     "data": {
      "text/plain": [
       "Timestamp('2020-08-28 09:36:03-0400', tz='America/Toronto')"
      ]
     },
     "metadata": {},
     "output_type": "display_data"
    },
    {
     "name": "stdout",
     "output_type": "stream",
     "text": [
      "going  20200828 09:36:03\n"
     ]
    },
    {
     "data": {
      "text/plain": [
       "Timestamp('2020-08-28 09:35:28-0400', tz='America/Toronto')"
      ]
     },
     "metadata": {},
     "output_type": "display_data"
    },
    {
     "name": "stdout",
     "output_type": "stream",
     "text": [
      "going  20200828 09:35:28\n"
     ]
    },
    {
     "data": {
      "text/plain": [
       "Timestamp('2020-08-28 09:34:47-0400', tz='America/Toronto')"
      ]
     },
     "metadata": {},
     "output_type": "display_data"
    },
    {
     "name": "stdout",
     "output_type": "stream",
     "text": [
      "going  20200828 09:34:47\n"
     ]
    },
    {
     "data": {
      "text/plain": [
       "Timestamp('2020-08-28 09:34:01-0400', tz='America/Toronto')"
      ]
     },
     "metadata": {},
     "output_type": "display_data"
    },
    {
     "name": "stdout",
     "output_type": "stream",
     "text": [
      "going  20200828 09:34:01\n"
     ]
    },
    {
     "data": {
      "text/plain": [
       "Timestamp('2020-08-28 09:33:16-0400', tz='America/Toronto')"
      ]
     },
     "metadata": {},
     "output_type": "display_data"
    },
    {
     "name": "stdout",
     "output_type": "stream",
     "text": [
      "going  20200828 09:33:16\n"
     ]
    },
    {
     "data": {
      "text/plain": [
       "Timestamp('2020-08-28 09:32:28-0400', tz='America/Toronto')"
      ]
     },
     "metadata": {},
     "output_type": "display_data"
    },
    {
     "name": "stdout",
     "output_type": "stream",
     "text": [
      "going  20200828 09:32:28\n"
     ]
    },
    {
     "data": {
      "text/plain": [
       "Timestamp('2020-08-28 09:31:47-0400', tz='America/Toronto')"
      ]
     },
     "metadata": {},
     "output_type": "display_data"
    },
    {
     "name": "stdout",
     "output_type": "stream",
     "text": [
      "going  20200828 09:31:47\n"
     ]
    },
    {
     "data": {
      "text/plain": [
       "Timestamp('2020-08-28 09:31:05-0400', tz='America/Toronto')"
      ]
     },
     "metadata": {},
     "output_type": "display_data"
    },
    {
     "name": "stdout",
     "output_type": "stream",
     "text": [
      "going  20200828 09:31:05\n"
     ]
    },
    {
     "data": {
      "text/plain": [
       "Timestamp('2020-08-28 09:30:24-0400', tz='America/Toronto')"
      ]
     },
     "metadata": {},
     "output_type": "display_data"
    },
    {
     "name": "stdout",
     "output_type": "stream",
     "text": [
      "going  20200828 09:30:24\n"
     ]
    },
    {
     "data": {
      "text/plain": [
       "Timestamp('2020-08-28 09:30:00-0400', tz='America/Toronto')"
      ]
     },
     "metadata": {},
     "output_type": "display_data"
    },
    {
     "name": "stdout",
     "output_type": "stream",
     "text": [
      "going  20200828 09:30:00\n"
     ]
    },
    {
     "data": {
      "text/plain": [
       "Timestamp('2020-08-28 08:54:59-0400', tz='America/Toronto')"
      ]
     },
     "metadata": {},
     "output_type": "display_data"
    },
    {
     "name": "stdout",
     "output_type": "stream",
     "text": [
      "going  20200828 08:54:59\n"
     ]
    },
    {
     "data": {
      "text/plain": [
       "Timestamp('2020-08-28 08:01:09-0400', tz='America/Toronto')"
      ]
     },
     "metadata": {},
     "output_type": "display_data"
    },
    {
     "name": "stdout",
     "output_type": "stream",
     "text": [
      "going  20200828 08:01:09\n"
     ]
    },
    {
     "data": {
      "text/plain": [
       "Timestamp('2020-08-28 06:18:11-0400', tz='America/Toronto')"
      ]
     },
     "metadata": {},
     "output_type": "display_data"
    },
    {
     "name": "stdout",
     "output_type": "stream",
     "text": [
      "going  20200828 06:18:11\n"
     ]
    },
    {
     "data": {
      "text/plain": [
       "Timestamp('2020-08-28 04:00:00-0400', tz='America/Toronto')"
      ]
     },
     "metadata": {},
     "output_type": "display_data"
    },
    {
     "name": "stdout",
     "output_type": "stream",
     "text": [
      "going  20200828 04:00:00\n"
     ]
    },
    {
     "data": {
      "text/plain": [
       "Timestamp('2020-08-27 18:08:04-0400', tz='America/Toronto')"
      ]
     },
     "metadata": {},
     "output_type": "display_data"
    },
    {
     "name": "stdout",
     "output_type": "stream",
     "text": [
      "going  20200827 18:08:04\n"
     ]
    },
    {
     "data": {
      "text/plain": [
       "Timestamp('2020-08-27 16:44:20-0400', tz='America/Toronto')"
      ]
     },
     "metadata": {},
     "output_type": "display_data"
    },
    {
     "name": "stdout",
     "output_type": "stream",
     "text": [
      "going  20200827 16:44:20\n"
     ]
    },
    {
     "data": {
      "text/plain": [
       "Timestamp('2020-08-27 16:14:39-0400', tz='America/Toronto')"
      ]
     },
     "metadata": {},
     "output_type": "display_data"
    },
    {
     "name": "stdout",
     "output_type": "stream",
     "text": [
      "going  20200827 16:14:39\n"
     ]
    },
    {
     "data": {
      "text/plain": [
       "Timestamp('2020-08-27 16:09:43-0400', tz='America/Toronto')"
      ]
     },
     "metadata": {},
     "output_type": "display_data"
    },
    {
     "name": "stdout",
     "output_type": "stream",
     "text": [
      "going  20200827 16:09:43\n"
     ]
    },
    {
     "data": {
      "text/plain": [
       "Timestamp('2020-08-27 16:05:48-0400', tz='America/Toronto')"
      ]
     },
     "metadata": {},
     "output_type": "display_data"
    },
    {
     "name": "stdout",
     "output_type": "stream",
     "text": [
      "going  20200827 16:05:48\n"
     ]
    },
    {
     "data": {
      "text/plain": [
       "Timestamp('2020-08-27 16:02:26-0400', tz='America/Toronto')"
      ]
     },
     "metadata": {},
     "output_type": "display_data"
    },
    {
     "name": "stdout",
     "output_type": "stream",
     "text": [
      "going  20200827 16:02:26\n"
     ]
    },
    {
     "data": {
      "text/plain": [
       "Timestamp('2020-08-27 16:00:37-0400', tz='America/Toronto')"
      ]
     },
     "metadata": {},
     "output_type": "display_data"
    },
    {
     "name": "stdout",
     "output_type": "stream",
     "text": [
      "going  20200827 16:00:37\n"
     ]
    },
    {
     "data": {
      "text/plain": [
       "Timestamp('2020-08-27 15:59:59-0400', tz='America/Toronto')"
      ]
     },
     "metadata": {},
     "output_type": "display_data"
    },
    {
     "name": "stdout",
     "output_type": "stream",
     "text": [
      "going  20200827 15:59:59\n"
     ]
    },
    {
     "data": {
      "text/plain": [
       "Timestamp('2020-08-27 15:59:53-0400', tz='America/Toronto')"
      ]
     },
     "metadata": {},
     "output_type": "display_data"
    },
    {
     "name": "stdout",
     "output_type": "stream",
     "text": [
      "going  20200827 15:59:53\n"
     ]
    },
    {
     "data": {
      "text/plain": [
       "Timestamp('2020-08-27 15:59:44-0400', tz='America/Toronto')"
      ]
     },
     "metadata": {},
     "output_type": "display_data"
    },
    {
     "name": "stdout",
     "output_type": "stream",
     "text": [
      "going  20200827 15:59:44\n"
     ]
    },
    {
     "data": {
      "text/plain": [
       "Timestamp('2020-08-27 15:59:31-0400', tz='America/Toronto')"
      ]
     },
     "metadata": {},
     "output_type": "display_data"
    },
    {
     "name": "stdout",
     "output_type": "stream",
     "text": [
      "going  20200827 15:59:31\n"
     ]
    },
    {
     "data": {
      "text/plain": [
       "Timestamp('2020-08-27 15:59:20-0400', tz='America/Toronto')"
      ]
     },
     "metadata": {},
     "output_type": "display_data"
    },
    {
     "name": "stdout",
     "output_type": "stream",
     "text": [
      "going  20200827 15:59:20\n"
     ]
    },
    {
     "data": {
      "text/plain": [
       "Timestamp('2020-08-27 15:59:11-0400', tz='America/Toronto')"
      ]
     },
     "metadata": {},
     "output_type": "display_data"
    },
    {
     "name": "stdout",
     "output_type": "stream",
     "text": [
      "going  20200827 15:59:11\n"
     ]
    },
    {
     "data": {
      "text/plain": [
       "Timestamp('2020-08-27 15:59:01-0400', tz='America/Toronto')"
      ]
     },
     "metadata": {},
     "output_type": "display_data"
    },
    {
     "name": "stdout",
     "output_type": "stream",
     "text": [
      "going  20200827 15:59:01\n"
     ]
    },
    {
     "data": {
      "text/plain": [
       "Timestamp('2020-08-27 15:58:44-0400', tz='America/Toronto')"
      ]
     },
     "metadata": {},
     "output_type": "display_data"
    },
    {
     "name": "stdout",
     "output_type": "stream",
     "text": [
      "going  20200827 15:58:44\n"
     ]
    },
    {
     "data": {
      "text/plain": [
       "Timestamp('2020-08-27 15:58:21-0400', tz='America/Toronto')"
      ]
     },
     "metadata": {},
     "output_type": "display_data"
    },
    {
     "name": "stdout",
     "output_type": "stream",
     "text": [
      "going  20200827 15:58:21\n"
     ]
    },
    {
     "data": {
      "text/plain": [
       "Timestamp('2020-08-27 15:58:02-0400', tz='America/Toronto')"
      ]
     },
     "metadata": {},
     "output_type": "display_data"
    },
    {
     "name": "stdout",
     "output_type": "stream",
     "text": [
      "going  20200827 15:58:02\n"
     ]
    },
    {
     "data": {
      "text/plain": [
       "Timestamp('2020-08-27 15:57:40-0400', tz='America/Toronto')"
      ]
     },
     "metadata": {},
     "output_type": "display_data"
    },
    {
     "name": "stdout",
     "output_type": "stream",
     "text": [
      "going  20200827 15:57:40\n"
     ]
    },
    {
     "data": {
      "text/plain": [
       "Timestamp('2020-08-27 15:57:19-0400', tz='America/Toronto')"
      ]
     },
     "metadata": {},
     "output_type": "display_data"
    },
    {
     "name": "stdout",
     "output_type": "stream",
     "text": [
      "going  20200827 15:57:19\n"
     ]
    },
    {
     "data": {
      "text/plain": [
       "Timestamp('2020-08-27 15:56:56-0400', tz='America/Toronto')"
      ]
     },
     "metadata": {},
     "output_type": "display_data"
    },
    {
     "name": "stdout",
     "output_type": "stream",
     "text": [
      "going  20200827 15:56:56\n"
     ]
    },
    {
     "data": {
      "text/plain": [
       "Timestamp('2020-08-27 15:56:36-0400', tz='America/Toronto')"
      ]
     },
     "metadata": {},
     "output_type": "display_data"
    },
    {
     "name": "stdout",
     "output_type": "stream",
     "text": [
      "going  20200827 15:56:36\n"
     ]
    },
    {
     "data": {
      "text/plain": [
       "Timestamp('2020-08-27 15:56:18-0400', tz='America/Toronto')"
      ]
     },
     "metadata": {},
     "output_type": "display_data"
    },
    {
     "name": "stdout",
     "output_type": "stream",
     "text": [
      "going  20200827 15:56:18\n"
     ]
    },
    {
     "data": {
      "text/plain": [
       "Timestamp('2020-08-27 15:55:55-0400', tz='America/Toronto')"
      ]
     },
     "metadata": {},
     "output_type": "display_data"
    },
    {
     "name": "stdout",
     "output_type": "stream",
     "text": [
      "going  20200827 15:55:55\n"
     ]
    },
    {
     "ename": "KeyboardInterrupt",
     "evalue": "",
     "output_type": "error",
     "traceback": [
      "\u001b[0;31m---------------------------------------------------------------------------\u001b[0m",
      "\u001b[0;31mKeyboardInterrupt\u001b[0m                         Traceback (most recent call last)",
      "\u001b[0;32m<ipython-input-4-794135cdfcd5>\u001b[0m in \u001b[0;36m<module>\u001b[0;34m\u001b[0m\n\u001b[1;32m     39\u001b[0m \u001b[0;32mwhile\u001b[0m \u001b[0mnext_time\u001b[0m \u001b[0;34m!=\u001b[0m \u001b[0;32mNone\u001b[0m\u001b[0;34m:\u001b[0m\u001b[0;34m\u001b[0m\u001b[0;34m\u001b[0m\u001b[0m\n\u001b[1;32m     40\u001b[0m     \u001b[0mprint\u001b[0m\u001b[0;34m(\u001b[0m\u001b[0;34m\"going \"\u001b[0m\u001b[0;34m,\u001b[0m\u001b[0mnext_time\u001b[0m\u001b[0;34m)\u001b[0m\u001b[0;34m\u001b[0m\u001b[0;34m\u001b[0m\u001b[0m\n\u001b[0;32m---> 41\u001b[0;31m     \u001b[0mdf\u001b[0m\u001b[0;34m,\u001b[0m\u001b[0mnext_time\u001b[0m \u001b[0;34m=\u001b[0m \u001b[0mqryHistTicks\u001b[0m\u001b[0;34m(\u001b[0m\u001b[0mcontract\u001b[0m\u001b[0;34m,\u001b[0m\u001b[0mnext_time\u001b[0m\u001b[0;34m,\u001b[0m\u001b[0mmode\u001b[0m\u001b[0;34m=\u001b[0m\u001b[0;34m'end'\u001b[0m\u001b[0;34m)\u001b[0m\u001b[0;34m\u001b[0m\u001b[0;34m\u001b[0m\u001b[0m\n\u001b[0m\u001b[1;32m     42\u001b[0m     \u001b[0mdf_full\u001b[0m \u001b[0;34m=\u001b[0m \u001b[0mdf_full\u001b[0m\u001b[0;34m.\u001b[0m\u001b[0mappend\u001b[0m\u001b[0;34m(\u001b[0m\u001b[0mdf\u001b[0m\u001b[0;34m,\u001b[0m\u001b[0mignore_index\u001b[0m\u001b[0;34m=\u001b[0m\u001b[0;32mTrue\u001b[0m\u001b[0;34m)\u001b[0m\u001b[0;34m\u001b[0m\u001b[0;34m\u001b[0m\u001b[0m\n",
      "\u001b[0;32m<ipython-input-4-794135cdfcd5>\u001b[0m in \u001b[0;36mqryHistTicks\u001b[0;34m(contract, dtstr, nticks, mode)\u001b[0m\n\u001b[1;32m     11\u001b[0m         \u001b[0mend\u001b[0m \u001b[0;34m=\u001b[0m \u001b[0;34m''\u001b[0m\u001b[0;34m\u001b[0m\u001b[0;34m\u001b[0m\u001b[0m\n\u001b[1;32m     12\u001b[0m     \u001b[0;32mtry\u001b[0m\u001b[0;34m:\u001b[0m\u001b[0;34m\u001b[0m\u001b[0;34m\u001b[0m\u001b[0m\n\u001b[0;32m---> 13\u001b[0;31m         \u001b[0mticks\u001b[0m \u001b[0;34m=\u001b[0m \u001b[0mib\u001b[0m\u001b[0;34m.\u001b[0m\u001b[0mreqHistoricalTicks\u001b[0m\u001b[0;34m(\u001b[0m\u001b[0mcontract\u001b[0m\u001b[0;34m,\u001b[0m \u001b[0mstart\u001b[0m\u001b[0;34m,\u001b[0m \u001b[0mend\u001b[0m\u001b[0;34m,\u001b[0m \u001b[0mnticks\u001b[0m\u001b[0;34m,\u001b[0m \u001b[0;34m'TRADES'\u001b[0m\u001b[0;34m,\u001b[0m \u001b[0museRth\u001b[0m\u001b[0;34m=\u001b[0m\u001b[0;32mFalse\u001b[0m\u001b[0;34m)\u001b[0m\u001b[0;34m\u001b[0m\u001b[0;34m\u001b[0m\u001b[0m\n\u001b[0m\u001b[1;32m     14\u001b[0m         \u001b[0mdf\u001b[0m \u001b[0;34m=\u001b[0m \u001b[0mutil\u001b[0m\u001b[0;34m.\u001b[0m\u001b[0mdf\u001b[0m\u001b[0;34m(\u001b[0m\u001b[0mticks\u001b[0m\u001b[0;34m)\u001b[0m\u001b[0;34m\u001b[0m\u001b[0;34m\u001b[0m\u001b[0m\n\u001b[1;32m     15\u001b[0m         \u001b[0mdf\u001b[0m \u001b[0;34m=\u001b[0m \u001b[0mdf\u001b[0m\u001b[0;34m.\u001b[0m\u001b[0mset_index\u001b[0m\u001b[0;34m(\u001b[0m\u001b[0;34m'time'\u001b[0m\u001b[0;34m)\u001b[0m\u001b[0;34m\u001b[0m\u001b[0;34m\u001b[0m\u001b[0m\n",
      "\u001b[0;32m/opt/conda/lib/python3.8/site-packages/ib_insync/ib.py\u001b[0m in \u001b[0;36mreqHistoricalTicks\u001b[0;34m(self, contract, startDateTime, endDateTime, numberOfTicks, whatToShow, useRth, ignoreSize, miscOptions)\u001b[0m\n\u001b[1;32m   1095\u001b[0m             \u001b[0mmiscOptions\u001b[0m\u001b[0;34m:\u001b[0m \u001b[0mUnknown\u001b[0m\u001b[0;34m.\u001b[0m\u001b[0;34m\u001b[0m\u001b[0;34m\u001b[0m\u001b[0m\n\u001b[1;32m   1096\u001b[0m         \"\"\"\n\u001b[0;32m-> 1097\u001b[0;31m         return self._run(\n\u001b[0m\u001b[1;32m   1098\u001b[0m             self.reqHistoricalTicksAsync(\n\u001b[1;32m   1099\u001b[0m                 \u001b[0mcontract\u001b[0m\u001b[0;34m,\u001b[0m \u001b[0mstartDateTime\u001b[0m\u001b[0;34m,\u001b[0m \u001b[0mendDateTime\u001b[0m\u001b[0;34m,\u001b[0m \u001b[0mnumberOfTicks\u001b[0m\u001b[0;34m,\u001b[0m\u001b[0;34m\u001b[0m\u001b[0;34m\u001b[0m\u001b[0m\n",
      "\u001b[0;32m/opt/conda/lib/python3.8/site-packages/ib_insync/ib.py\u001b[0m in \u001b[0;36m_run\u001b[0;34m(self, *awaitables)\u001b[0m\n\u001b[1;32m    299\u001b[0m \u001b[0;34m\u001b[0m\u001b[0m\n\u001b[1;32m    300\u001b[0m     \u001b[0;32mdef\u001b[0m \u001b[0m_run\u001b[0m\u001b[0;34m(\u001b[0m\u001b[0mself\u001b[0m\u001b[0;34m,\u001b[0m \u001b[0;34m*\u001b[0m\u001b[0mawaitables\u001b[0m\u001b[0;34m:\u001b[0m \u001b[0mAwaitable\u001b[0m\u001b[0;34m)\u001b[0m\u001b[0;34m:\u001b[0m\u001b[0;34m\u001b[0m\u001b[0;34m\u001b[0m\u001b[0m\n\u001b[0;32m--> 301\u001b[0;31m         \u001b[0;32mreturn\u001b[0m \u001b[0mutil\u001b[0m\u001b[0;34m.\u001b[0m\u001b[0mrun\u001b[0m\u001b[0;34m(\u001b[0m\u001b[0;34m*\u001b[0m\u001b[0mawaitables\u001b[0m\u001b[0;34m,\u001b[0m \u001b[0mtimeout\u001b[0m\u001b[0;34m=\u001b[0m\u001b[0mself\u001b[0m\u001b[0;34m.\u001b[0m\u001b[0mRequestTimeout\u001b[0m\u001b[0;34m)\u001b[0m\u001b[0;34m\u001b[0m\u001b[0;34m\u001b[0m\u001b[0m\n\u001b[0m\u001b[1;32m    302\u001b[0m \u001b[0;34m\u001b[0m\u001b[0m\n\u001b[1;32m    303\u001b[0m     \u001b[0;32mdef\u001b[0m \u001b[0mwaitOnUpdate\u001b[0m\u001b[0;34m(\u001b[0m\u001b[0mself\u001b[0m\u001b[0;34m,\u001b[0m \u001b[0mtimeout\u001b[0m\u001b[0;34m:\u001b[0m \u001b[0mfloat\u001b[0m \u001b[0;34m=\u001b[0m \u001b[0;36m0\u001b[0m\u001b[0;34m)\u001b[0m \u001b[0;34m->\u001b[0m \u001b[0mbool\u001b[0m\u001b[0;34m:\u001b[0m\u001b[0;34m\u001b[0m\u001b[0;34m\u001b[0m\u001b[0m\n",
      "\u001b[0;32m/opt/conda/lib/python3.8/site-packages/ib_insync/util.py\u001b[0m in \u001b[0;36mrun\u001b[0;34m(timeout, *awaitables)\u001b[0m\n\u001b[1;32m    310\u001b[0m         \u001b[0mglobalErrorEvent\u001b[0m\u001b[0;34m.\u001b[0m\u001b[0mconnect\u001b[0m\u001b[0;34m(\u001b[0m\u001b[0monError\u001b[0m\u001b[0;34m)\u001b[0m\u001b[0;34m\u001b[0m\u001b[0;34m\u001b[0m\u001b[0m\n\u001b[1;32m    311\u001b[0m         \u001b[0;32mtry\u001b[0m\u001b[0;34m:\u001b[0m\u001b[0;34m\u001b[0m\u001b[0;34m\u001b[0m\u001b[0m\n\u001b[0;32m--> 312\u001b[0;31m             \u001b[0mresult\u001b[0m \u001b[0;34m=\u001b[0m \u001b[0mloop\u001b[0m\u001b[0;34m.\u001b[0m\u001b[0mrun_until_complete\u001b[0m\u001b[0;34m(\u001b[0m\u001b[0mtask\u001b[0m\u001b[0;34m)\u001b[0m\u001b[0;34m\u001b[0m\u001b[0;34m\u001b[0m\u001b[0m\n\u001b[0m\u001b[1;32m    313\u001b[0m         \u001b[0;32mexcept\u001b[0m \u001b[0masyncio\u001b[0m\u001b[0;34m.\u001b[0m\u001b[0mCancelledError\u001b[0m \u001b[0;32mas\u001b[0m \u001b[0me\u001b[0m\u001b[0;34m:\u001b[0m\u001b[0;34m\u001b[0m\u001b[0;34m\u001b[0m\u001b[0m\n\u001b[1;32m    314\u001b[0m             \u001b[0;32mraise\u001b[0m \u001b[0mglobalErrorEvent\u001b[0m\u001b[0;34m.\u001b[0m\u001b[0mvalue\u001b[0m\u001b[0;34m(\u001b[0m\u001b[0;34m)\u001b[0m \u001b[0;32mor\u001b[0m \u001b[0me\u001b[0m\u001b[0;34m\u001b[0m\u001b[0;34m\u001b[0m\u001b[0m\n",
      "\u001b[0;32m/opt/conda/lib/python3.8/site-packages/nest_asyncio.py\u001b[0m in \u001b[0;36mrun_until_complete\u001b[0;34m(self, future)\u001b[0m\n\u001b[1;32m     87\u001b[0m                 \u001b[0mf\u001b[0m\u001b[0;34m.\u001b[0m\u001b[0m_log_destroy_pending\u001b[0m \u001b[0;34m=\u001b[0m \u001b[0;32mFalse\u001b[0m\u001b[0;34m\u001b[0m\u001b[0;34m\u001b[0m\u001b[0m\n\u001b[1;32m     88\u001b[0m             \u001b[0;32mwhile\u001b[0m \u001b[0;32mnot\u001b[0m \u001b[0mf\u001b[0m\u001b[0;34m.\u001b[0m\u001b[0mdone\u001b[0m\u001b[0;34m(\u001b[0m\u001b[0;34m)\u001b[0m\u001b[0;34m:\u001b[0m\u001b[0;34m\u001b[0m\u001b[0;34m\u001b[0m\u001b[0m\n\u001b[0;32m---> 89\u001b[0;31m                 \u001b[0mself\u001b[0m\u001b[0;34m.\u001b[0m\u001b[0m_run_once\u001b[0m\u001b[0;34m(\u001b[0m\u001b[0;34m)\u001b[0m\u001b[0;34m\u001b[0m\u001b[0;34m\u001b[0m\u001b[0m\n\u001b[0m\u001b[1;32m     90\u001b[0m                 \u001b[0;32mif\u001b[0m \u001b[0mself\u001b[0m\u001b[0;34m.\u001b[0m\u001b[0m_stopping\u001b[0m\u001b[0;34m:\u001b[0m\u001b[0;34m\u001b[0m\u001b[0;34m\u001b[0m\u001b[0m\n\u001b[1;32m     91\u001b[0m                     \u001b[0;32mbreak\u001b[0m\u001b[0;34m\u001b[0m\u001b[0;34m\u001b[0m\u001b[0m\n",
      "\u001b[0;32m/opt/conda/lib/python3.8/site-packages/nest_asyncio.py\u001b[0m in \u001b[0;36m_run_once\u001b[0;34m(self)\u001b[0m\n\u001b[1;32m    111\u001b[0m             \u001b[0;32melse\u001b[0m \u001b[0mmin\u001b[0m\u001b[0;34m(\u001b[0m\u001b[0mmax\u001b[0m\u001b[0;34m(\u001b[0m\u001b[0;36m0\u001b[0m\u001b[0;34m,\u001b[0m \u001b[0mscheduled\u001b[0m\u001b[0;34m[\u001b[0m\u001b[0;36m0\u001b[0m\u001b[0;34m]\u001b[0m\u001b[0;34m.\u001b[0m\u001b[0m_when\u001b[0m \u001b[0;34m-\u001b[0m \u001b[0mnow\u001b[0m\u001b[0;34m)\u001b[0m\u001b[0;34m,\u001b[0m \u001b[0;36m10\u001b[0m\u001b[0;34m)\u001b[0m \u001b[0;32mif\u001b[0m \u001b[0mscheduled\u001b[0m\u001b[0;31m \u001b[0m\u001b[0;31m\\\u001b[0m\u001b[0;34m\u001b[0m\u001b[0;34m\u001b[0m\u001b[0m\n\u001b[1;32m    112\u001b[0m             \u001b[0;32melse\u001b[0m \u001b[0;32mNone\u001b[0m\u001b[0;34m\u001b[0m\u001b[0;34m\u001b[0m\u001b[0m\n\u001b[0;32m--> 113\u001b[0;31m         \u001b[0mevent_list\u001b[0m \u001b[0;34m=\u001b[0m \u001b[0mself\u001b[0m\u001b[0;34m.\u001b[0m\u001b[0m_selector\u001b[0m\u001b[0;34m.\u001b[0m\u001b[0mselect\u001b[0m\u001b[0;34m(\u001b[0m\u001b[0mtimeout\u001b[0m\u001b[0;34m)\u001b[0m\u001b[0;34m\u001b[0m\u001b[0;34m\u001b[0m\u001b[0m\n\u001b[0m\u001b[1;32m    114\u001b[0m         \u001b[0mself\u001b[0m\u001b[0;34m.\u001b[0m\u001b[0m_process_events\u001b[0m\u001b[0;34m(\u001b[0m\u001b[0mevent_list\u001b[0m\u001b[0;34m)\u001b[0m\u001b[0;34m\u001b[0m\u001b[0;34m\u001b[0m\u001b[0m\n\u001b[1;32m    115\u001b[0m \u001b[0;34m\u001b[0m\u001b[0m\n",
      "\u001b[0;32m/opt/conda/lib/python3.8/selectors.py\u001b[0m in \u001b[0;36mselect\u001b[0;34m(self, timeout)\u001b[0m\n\u001b[1;32m    466\u001b[0m             \u001b[0mready\u001b[0m \u001b[0;34m=\u001b[0m \u001b[0;34m[\u001b[0m\u001b[0;34m]\u001b[0m\u001b[0;34m\u001b[0m\u001b[0;34m\u001b[0m\u001b[0m\n\u001b[1;32m    467\u001b[0m             \u001b[0;32mtry\u001b[0m\u001b[0;34m:\u001b[0m\u001b[0;34m\u001b[0m\u001b[0;34m\u001b[0m\u001b[0m\n\u001b[0;32m--> 468\u001b[0;31m                 \u001b[0mfd_event_list\u001b[0m \u001b[0;34m=\u001b[0m \u001b[0mself\u001b[0m\u001b[0;34m.\u001b[0m\u001b[0m_selector\u001b[0m\u001b[0;34m.\u001b[0m\u001b[0mpoll\u001b[0m\u001b[0;34m(\u001b[0m\u001b[0mtimeout\u001b[0m\u001b[0;34m,\u001b[0m \u001b[0mmax_ev\u001b[0m\u001b[0;34m)\u001b[0m\u001b[0;34m\u001b[0m\u001b[0;34m\u001b[0m\u001b[0m\n\u001b[0m\u001b[1;32m    469\u001b[0m             \u001b[0;32mexcept\u001b[0m \u001b[0mInterruptedError\u001b[0m\u001b[0;34m:\u001b[0m\u001b[0;34m\u001b[0m\u001b[0;34m\u001b[0m\u001b[0m\n\u001b[1;32m    470\u001b[0m                 \u001b[0;32mreturn\u001b[0m \u001b[0mready\u001b[0m\u001b[0;34m\u001b[0m\u001b[0;34m\u001b[0m\u001b[0m\n",
      "\u001b[0;31mKeyboardInterrupt\u001b[0m: "
     ]
    }
   ],
   "source": [
    "start = ''\n",
    "end = \"20200828 15:41:41\"\n",
    "contract = Stock('SPY', 'SMART', 'USD')\n",
    "def qryHistTicks(contract,dtstr,nticks=1000,mode='end'):\n",
    "    df = pd.DataFrame()\n",
    "    if mode == 'end':\n",
    "        start = ''\n",
    "        end = f'{dtstr}'\n",
    "    else:\n",
    "        start = f'{dtstr}'\n",
    "        end = ''\n",
    "    try:\n",
    "        ticks = ib.reqHistoricalTicks(contract, start, end, nticks, 'TRADES', useRth=False)\n",
    "        df = util.df(ticks)\n",
    "        df = df.set_index('time')\n",
    "        df = df.tz_convert('America/Toronto')\n",
    "        df['pastLimit'] = [row.pastLimit for row in df['tickAttribLast']]\n",
    "        df['unreported'] = [row.unreported for row in df['tickAttribLast']]\n",
    "        del df['tickAttribLast']\n",
    "    except Exception as e: print(e)\n",
    "    size = len(df)\n",
    "    first = df.index[0]\n",
    "    last = df.index[-1]\n",
    "    nextm = None\n",
    "\n",
    "    if mode == 'end': \n",
    "        display(first)\n",
    "        nex = first + td(seconds=0)\n",
    "        df = df[df.index != first]\n",
    "    else: \n",
    "        nex = last - td(seconds=0)\n",
    "        df = df[df.index != last]\n",
    "    nextm = nex.strftime(\"%Y%m%d %H:%M:%S\")\n",
    "    \n",
    "    return df,nextm\n",
    "\n",
    "df_full = pd.DataFrame()\n",
    "df,next_time = qryHistTicks(contract,\"20200828 23:59:99\",mode='end')\n",
    "while next_time != None:\n",
    "    print(\"going \",next_time)\n",
    "    df,next_time = qryHistTicks(contract,next_time,mode='end')\n",
    "    df_full = df_full.append(df)\n"
   ]
  },
  {
   "cell_type": "code",
   "execution_count": 6,
   "metadata": {
    "ExecuteTime": {
     "end_time": "2020-09-01T01:59:52.363282Z",
     "start_time": "2020-09-01T01:59:51.460984Z"
    }
   },
   "outputs": [],
   "source": [
    "df_full.to_csv('SPY_tape_sample.csv')"
   ]
  },
  {
   "cell_type": "code",
   "execution_count": 85,
   "metadata": {
    "ExecuteTime": {
     "end_time": "2020-09-02T01:45:19.510494Z",
     "start_time": "2020-09-02T01:45:19.424773Z"
    },
    "run_control": {
     "marked": true
    }
   },
   "outputs": [],
   "source": [
    "import asyncio, asyncpg, os, nest_asyncio\n",
    "nest_asyncio.apply()\n",
    "\n",
    "async def execSQL(qry):\n",
    "    conn = await asyncpg.connect(user=\"postgres\",password=\"FoolishPassword\",database='stocks',host='postgres',port='5432',)\n",
    "    await conn.execute(f'''{qry}''')\n",
    "    await conn.close()\n",
    "\n",
    "async def copyDF(df,schema,table):\n",
    "    conn = await asyncpg.connect(user=\"postgres\",password=\"FoolishPassword\",database='stocks',host='postgres',port='5432',)\n",
    "    await conn.execute(f'''SET search_path TO {schema};''')\n",
    "    tuples = list(df.itertuples(index=True, name=None))\n",
    "    li=list(df.columns)\n",
    "    li.insert(0,df.index.name)\n",
    "    display(tuples)\n",
    "    await conn.copy_records_to_table(table, records=tuples, columns=li, timeout=10)\n",
    "    await conn.close()\n",
    "\n",
    "\n",
    "\n",
    "s = f'CREATE SCHEMA IF NOT EXISTS \"GE\" AUTHORIZATION postgres;'\n",
    "asyncio.get_event_loop().run_until_complete(execSQL(s))\n",
    "\n",
    "# s = await conn.copy_records_to_table(table_name, records=tuples, columns=list(df.columns), timeout=10)"
   ]
  },
  {
   "cell_type": "code",
   "execution_count": 84,
   "metadata": {
    "ExecuteTime": {
     "end_time": "2020-09-02T01:44:50.192290Z",
     "start_time": "2020-09-02T01:44:50.187749Z"
    }
   },
   "outputs": [
    {
     "data": {
      "text/plain": [
       "['date', 'open', 'high', 'low', 'close', 'volume', 'average', 'barcount']"
      ]
     },
     "metadata": {},
     "output_type": "display_data"
    }
   ],
   "source": [
    "\n",
    "display(li)"
   ]
  },
  {
   "cell_type": "code",
   "execution_count": 88,
   "metadata": {
    "ExecuteTime": {
     "end_time": "2020-09-02T01:48:09.053492Z",
     "start_time": "2020-09-02T01:48:08.836247Z"
    }
   },
   "outputs": [
    {
     "data": {
      "text/html": [
       "<div>\n",
       "<style scoped>\n",
       "    .dataframe tbody tr th:only-of-type {\n",
       "        vertical-align: middle;\n",
       "    }\n",
       "\n",
       "    .dataframe tbody tr th {\n",
       "        vertical-align: top;\n",
       "    }\n",
       "\n",
       "    .dataframe thead th {\n",
       "        text-align: right;\n",
       "    }\n",
       "</style>\n",
       "<table border=\"1\" class=\"dataframe\">\n",
       "  <thead>\n",
       "    <tr style=\"text-align: right;\">\n",
       "      <th></th>\n",
       "      <th>open</th>\n",
       "      <th>high</th>\n",
       "      <th>low</th>\n",
       "      <th>close</th>\n",
       "      <th>volume</th>\n",
       "      <th>average</th>\n",
       "      <th>barcount</th>\n",
       "    </tr>\n",
       "    <tr>\n",
       "      <th>date</th>\n",
       "      <th></th>\n",
       "      <th></th>\n",
       "      <th></th>\n",
       "      <th></th>\n",
       "      <th></th>\n",
       "      <th></th>\n",
       "      <th></th>\n",
       "    </tr>\n",
       "  </thead>\n",
       "  <tbody>\n",
       "    <tr>\n",
       "      <th>2020-05-01</th>\n",
       "      <td>284.39</td>\n",
       "      <td>286.88</td>\n",
       "      <td>281.52</td>\n",
       "      <td>282.90</td>\n",
       "      <td>961603</td>\n",
       "      <td>283.308</td>\n",
       "      <td>418653</td>\n",
       "    </tr>\n",
       "    <tr>\n",
       "      <th>2020-05-04</th>\n",
       "      <td>280.56</td>\n",
       "      <td>283.90</td>\n",
       "      <td>278.69</td>\n",
       "      <td>283.51</td>\n",
       "      <td>662088</td>\n",
       "      <td>281.608</td>\n",
       "      <td>304302</td>\n",
       "    </tr>\n",
       "    <tr>\n",
       "      <th>2020-05-05</th>\n",
       "      <td>286.17</td>\n",
       "      <td>289.25</td>\n",
       "      <td>283.61</td>\n",
       "      <td>287.02</td>\n",
       "      <td>668806</td>\n",
       "      <td>287.652</td>\n",
       "      <td>294804</td>\n",
       "    </tr>\n",
       "    <tr>\n",
       "      <th>2020-05-06</th>\n",
       "      <td>287.76</td>\n",
       "      <td>288.96</td>\n",
       "      <td>282.70</td>\n",
       "      <td>283.68</td>\n",
       "      <td>631675</td>\n",
       "      <td>286.128</td>\n",
       "      <td>288508</td>\n",
       "    </tr>\n",
       "    <tr>\n",
       "      <th>2020-05-07</th>\n",
       "      <td>286.70</td>\n",
       "      <td>289.78</td>\n",
       "      <td>285.18</td>\n",
       "      <td>289.51</td>\n",
       "      <td>615768</td>\n",
       "      <td>288.287</td>\n",
       "      <td>279615</td>\n",
       "    </tr>\n",
       "    <tr>\n",
       "      <th>...</th>\n",
       "      <td>...</td>\n",
       "      <td>...</td>\n",
       "      <td>...</td>\n",
       "      <td>...</td>\n",
       "      <td>...</td>\n",
       "      <td>...</td>\n",
       "      <td>...</td>\n",
       "    </tr>\n",
       "    <tr>\n",
       "      <th>2020-08-24</th>\n",
       "      <td>341.20</td>\n",
       "      <td>343.43</td>\n",
       "      <td>340.59</td>\n",
       "      <td>343.39</td>\n",
       "      <td>356247</td>\n",
       "      <td>342.080</td>\n",
       "      <td>156849</td>\n",
       "    </tr>\n",
       "    <tr>\n",
       "      <th>2020-08-25</th>\n",
       "      <td>344.57</td>\n",
       "      <td>344.74</td>\n",
       "      <td>342.27</td>\n",
       "      <td>344.55</td>\n",
       "      <td>324100</td>\n",
       "      <td>343.426</td>\n",
       "      <td>141995</td>\n",
       "    </tr>\n",
       "    <tr>\n",
       "      <th>2020-08-26</th>\n",
       "      <td>344.40</td>\n",
       "      <td>348.36</td>\n",
       "      <td>344.05</td>\n",
       "      <td>347.77</td>\n",
       "      <td>399366</td>\n",
       "      <td>346.491</td>\n",
       "      <td>182436</td>\n",
       "    </tr>\n",
       "    <tr>\n",
       "      <th>2020-08-27</th>\n",
       "      <td>347.56</td>\n",
       "      <td>349.90</td>\n",
       "      <td>346.53</td>\n",
       "      <td>349.26</td>\n",
       "      <td>484545</td>\n",
       "      <td>348.567</td>\n",
       "      <td>225565</td>\n",
       "    </tr>\n",
       "    <tr>\n",
       "      <th>2020-08-28</th>\n",
       "      <td>349.26</td>\n",
       "      <td>351.07</td>\n",
       "      <td>348.15</td>\n",
       "      <td>350.98</td>\n",
       "      <td>368511</td>\n",
       "      <td>349.659</td>\n",
       "      <td>167616</td>\n",
       "    </tr>\n",
       "  </tbody>\n",
       "</table>\n",
       "<p>84 rows × 7 columns</p>\n",
       "</div>"
      ],
      "text/plain": [
       "              open    high     low   close  volume  average  barcount\n",
       "date                                                                 \n",
       "2020-05-01  284.39  286.88  281.52  282.90  961603  283.308    418653\n",
       "2020-05-04  280.56  283.90  278.69  283.51  662088  281.608    304302\n",
       "2020-05-05  286.17  289.25  283.61  287.02  668806  287.652    294804\n",
       "2020-05-06  287.76  288.96  282.70  283.68  631675  286.128    288508\n",
       "2020-05-07  286.70  289.78  285.18  289.51  615768  288.287    279615\n",
       "...            ...     ...     ...     ...     ...      ...       ...\n",
       "2020-08-24  341.20  343.43  340.59  343.39  356247  342.080    156849\n",
       "2020-08-25  344.57  344.74  342.27  344.55  324100  343.426    141995\n",
       "2020-08-26  344.40  348.36  344.05  347.77  399366  346.491    182436\n",
       "2020-08-27  347.56  349.90  346.53  349.26  484545  348.567    225565\n",
       "2020-08-28  349.26  351.07  348.15  350.98  368511  349.659    167616\n",
       "\n",
       "[84 rows x 7 columns]"
      ]
     },
     "metadata": {},
     "output_type": "display_data"
    },
    {
     "data": {
      "text/plain": [
       "[(datetime.date(2020, 5, 1),\n",
       "  284.39,\n",
       "  286.88,\n",
       "  281.52,\n",
       "  282.9,\n",
       "  961603,\n",
       "  283.308,\n",
       "  418653),\n",
       " (datetime.date(2020, 5, 4),\n",
       "  280.56,\n",
       "  283.9,\n",
       "  278.69,\n",
       "  283.51,\n",
       "  662088,\n",
       "  281.608,\n",
       "  304302),\n",
       " (datetime.date(2020, 5, 5),\n",
       "  286.17,\n",
       "  289.25,\n",
       "  283.61,\n",
       "  287.02,\n",
       "  668806,\n",
       "  287.652,\n",
       "  294804),\n",
       " (datetime.date(2020, 5, 6),\n",
       "  287.76,\n",
       "  288.96,\n",
       "  282.7,\n",
       "  283.68,\n",
       "  631675,\n",
       "  286.128,\n",
       "  288508),\n",
       " (datetime.date(2020, 5, 7),\n",
       "  286.7,\n",
       "  289.78,\n",
       "  285.18,\n",
       "  289.51,\n",
       "  615768,\n",
       "  288.287,\n",
       "  279615),\n",
       " (datetime.date(2020, 5, 8),\n",
       "  291.0,\n",
       "  293.74,\n",
       "  289.86,\n",
       "  293.74,\n",
       "  595664,\n",
       "  291.693,\n",
       "  251845),\n",
       " (datetime.date(2020, 5, 11),\n",
       "  293.83,\n",
       "  294.8,\n",
       "  289.33,\n",
       "  291.94,\n",
       "  639262,\n",
       "  292.224,\n",
       "  271226),\n",
       " (datetime.date(2020, 5, 12),\n",
       "  291.82,\n",
       "  294.24,\n",
       "  283.1,\n",
       "  283.3,\n",
       "  790412,\n",
       "  290.009,\n",
       "  313270),\n",
       " (datetime.date(2020, 5, 13),\n",
       "  285.68,\n",
       "  287.94,\n",
       "  278.96,\n",
       "  282.02,\n",
       "  1200845,\n",
       "  282.435,\n",
       "  540185),\n",
       " (datetime.date(2020, 5, 14),\n",
       "  281.36,\n",
       "  285.8,\n",
       "  272.99,\n",
       "  285.68,\n",
       "  1072149,\n",
       "  280.918,\n",
       "  507792),\n",
       " (datetime.date(2020, 5, 15),\n",
       "  286.34,\n",
       "  286.45,\n",
       "  281.34,\n",
       "  285.7,\n",
       "  842838,\n",
       "  284.361,\n",
       "  360794),\n",
       " (datetime.date(2020, 5, 18),\n",
       "  289.1,\n",
       "  296.75,\n",
       "  287.9,\n",
       "  295.46,\n",
       "  922439,\n",
       "  294.803,\n",
       "  390172),\n",
       " (datetime.date(2020, 5, 19),\n",
       "  295.43,\n",
       "  297.5,\n",
       "  291.29,\n",
       "  292.69,\n",
       "  747760,\n",
       "  294.386,\n",
       "  326626),\n",
       " (datetime.date(2020, 5, 20),\n",
       "  293.38,\n",
       "  297.87,\n",
       "  292.13,\n",
       "  296.83,\n",
       "  666416,\n",
       "  296.816,\n",
       "  278782),\n",
       " (datetime.date(2020, 5, 21),\n",
       "  295.66,\n",
       "  297.67,\n",
       "  293.68,\n",
       "  295.37,\n",
       "  661567,\n",
       "  295.444,\n",
       "  320545),\n",
       " (datetime.date(2020, 5, 22),\n",
       "  291.45,\n",
       "  296.1,\n",
       "  291.0,\n",
       "  295.6,\n",
       "  482699,\n",
       "  294.514,\n",
       "  219321),\n",
       " (datetime.date(2020, 5, 26),\n",
       "  300.51,\n",
       "  302.26,\n",
       "  298.69,\n",
       "  299.39,\n",
       "  657923,\n",
       "  300.557,\n",
       "  291261),\n",
       " (datetime.date(2020, 5, 27),\n",
       "  301.86,\n",
       "  304.63,\n",
       "  296.87,\n",
       "  304.54,\n",
       "  842998,\n",
       "  300.831,\n",
       "  371781),\n",
       " (datetime.date(2020, 5, 28),\n",
       "  304.8,\n",
       "  306.84,\n",
       "  302.24,\n",
       "  302.86,\n",
       "  739647,\n",
       "  304.61,\n",
       "  329490),\n",
       " (datetime.date(2020, 5, 29),\n",
       "  302.28,\n",
       "  306.13,\n",
       "  299.59,\n",
       "  306.1,\n",
       "  922319,\n",
       "  302.712,\n",
       "  427719),\n",
       " (datetime.date(2020, 6, 1),\n",
       "  305.0,\n",
       "  306.21,\n",
       "  302.45,\n",
       "  304.19,\n",
       "  465568,\n",
       "  305.005,\n",
       "  202661),\n",
       " (datetime.date(2020, 6, 2),\n",
       "  305.53,\n",
       "  309.07,\n",
       "  304.02,\n",
       "  308.89,\n",
       "  591679,\n",
       "  306.727,\n",
       "  257718),\n",
       " (datetime.date(2020, 6, 3),\n",
       "  309.25,\n",
       "  313.22,\n",
       "  308.75,\n",
       "  312.65,\n",
       "  681658,\n",
       "  311.652,\n",
       "  282038),\n",
       " (datetime.date(2020, 6, 4),\n",
       "  311.5,\n",
       "  313.0,\n",
       "  309.08,\n",
       "  311.2,\n",
       "  647659,\n",
       "  311.187,\n",
       "  289331),\n",
       " (datetime.date(2020, 6, 5),\n",
       "  314.69,\n",
       "  321.28,\n",
       "  312.72,\n",
       "  319.15,\n",
       "  1046917,\n",
       "  319.11,\n",
       "  445071),\n",
       " (datetime.date(2020, 6, 8),\n",
       "  318.98,\n",
       "  323.41,\n",
       "  318.66,\n",
       "  322.61,\n",
       "  616345,\n",
       "  321.523,\n",
       "  267630),\n",
       " (datetime.date(2020, 6, 9),\n",
       "  321.14,\n",
       "  323.24,\n",
       "  319.33,\n",
       "  321.92,\n",
       "  616699,\n",
       "  320.944,\n",
       "  275004),\n",
       " (datetime.date(2020, 6, 10),\n",
       "  322.42,\n",
       "  322.71,\n",
       "  316.54,\n",
       "  316.76,\n",
       "  771386,\n",
       "  320.126,\n",
       "  369771),\n",
       " (datetime.date(2020, 6, 11),\n",
       "  313.45,\n",
       "  319.12,\n",
       "  300.01,\n",
       "  303.08,\n",
       "  1754473,\n",
       "  305.135,\n",
       "  810273),\n",
       " (datetime.date(2020, 6, 12),\n",
       "  304.43,\n",
       "  309.08,\n",
       "  298.6,\n",
       "  303.58,\n",
       "  1541351,\n",
       "  303.622,\n",
       "  774738),\n",
       " (datetime.date(2020, 6, 15),\n",
       "  296.36,\n",
       "  310.17,\n",
       "  295.39,\n",
       "  310.15,\n",
       "  1088344,\n",
       "  303.754,\n",
       "  528461),\n",
       " (datetime.date(2020, 6, 16),\n",
       "  310.17,\n",
       "  316.96,\n",
       "  307.67,\n",
       "  313.85,\n",
       "  1202896,\n",
       "  312.796,\n",
       "  534341),\n",
       " (datetime.date(2020, 6, 17),\n",
       "  314.87,\n",
       "  316.0,\n",
       "  310.41,\n",
       "  310.45,\n",
       "  624631,\n",
       "  312.675,\n",
       "  282280),\n",
       " (datetime.date(2020, 6, 18),\n",
       "  311.56,\n",
       "  313.29,\n",
       "  308.8,\n",
       "  312.93,\n",
       "  617186,\n",
       "  311.155,\n",
       "  270710),\n",
       " (datetime.date(2020, 6, 19),\n",
       "  312.12,\n",
       "  314.49,\n",
       "  305.85,\n",
       "  306.1,\n",
       "  974633,\n",
       "  310.026,\n",
       "  412277),\n",
       " (datetime.date(2020, 6, 22),\n",
       "  308.5,\n",
       "  312.56,\n",
       "  306.1,\n",
       "  312.33,\n",
       "  602488,\n",
       "  309.585,\n",
       "  260605),\n",
       " (datetime.date(2020, 6, 23),\n",
       "  313.37,\n",
       "  314.57,\n",
       "  309.91,\n",
       "  311.2,\n",
       "  547238,\n",
       "  313.114,\n",
       "  235704),\n",
       " (datetime.date(2020, 6, 24),\n",
       "  310.71,\n",
       "  312.5,\n",
       "  302.1,\n",
       "  303.81,\n",
       "  1093502,\n",
       "  305.09,\n",
       "  495005),\n",
       " (datetime.date(2020, 6, 25),\n",
       "  301.53,\n",
       "  308.0,\n",
       "  300.83,\n",
       "  307.37,\n",
       "  757179,\n",
       "  304.705,\n",
       "  343787),\n",
       " (datetime.date(2020, 6, 26),\n",
       "  306.48,\n",
       "  308.2,\n",
       "  299.42,\n",
       "  300.15,\n",
       "  1009982,\n",
       "  301.59,\n",
       "  444170),\n",
       " (datetime.date(2020, 6, 29),\n",
       "  301.22,\n",
       "  305.99,\n",
       "  298.93,\n",
       "  305.47,\n",
       "  631552,\n",
       "  302.554,\n",
       "  276757),\n",
       " (datetime.date(2020, 6, 30),\n",
       "  304.0,\n",
       "  310.2,\n",
       "  303.2,\n",
       "  308.28,\n",
       "  866697,\n",
       "  307.483,\n",
       "  346927),\n",
       " (datetime.date(2020, 7, 1),\n",
       "  308.74,\n",
       "  311.89,\n",
       "  306.42,\n",
       "  310.33,\n",
       "  602649,\n",
       "  310.503,\n",
       "  267758),\n",
       " (datetime.date(2020, 7, 2),\n",
       "  312.0,\n",
       "  315.7,\n",
       "  309.77,\n",
       "  312.8,\n",
       "  585116,\n",
       "  313.492,\n",
       "  260154),\n",
       " (datetime.date(2020, 7, 6),\n",
       "  316.61,\n",
       "  317.91,\n",
       "  315.56,\n",
       "  317.73,\n",
       "  467013,\n",
       "  316.498,\n",
       "  203299),\n",
       " (datetime.date(2020, 7, 7),\n",
       "  315.6,\n",
       "  317.52,\n",
       "  313.37,\n",
       "  314.17,\n",
       "  647157,\n",
       "  315.358,\n",
       "  271236),\n",
       " (datetime.date(2020, 7, 8),\n",
       "  314.61,\n",
       "  317.05,\n",
       "  312.7,\n",
       "  316.85,\n",
       "  466223,\n",
       "  314.914,\n",
       "  204958),\n",
       " (datetime.date(2020, 7, 9),\n",
       "  316.18,\n",
       "  317.2,\n",
       "  310.68,\n",
       "  315.16,\n",
       "  689428,\n",
       "  313.794,\n",
       "  300458),\n",
       " (datetime.date(2020, 7, 10),\n",
       "  312.64,\n",
       "  318.18,\n",
       "  311.39,\n",
       "  318.1,\n",
       "  488954,\n",
       "  315.83,\n",
       "  207478),\n",
       " (datetime.date(2020, 7, 13),\n",
       "  318.93,\n",
       "  322.71,\n",
       "  314.13,\n",
       "  315.6,\n",
       "  793839,\n",
       "  318.766,\n",
       "  344320),\n",
       " (datetime.date(2020, 7, 14),\n",
       "  314.91,\n",
       "  321.85,\n",
       "  312.0,\n",
       "  321.04,\n",
       "  788575,\n",
       "  316.208,\n",
       "  382947),\n",
       " (datetime.date(2020, 7, 15),\n",
       "  320.68,\n",
       "  323.39,\n",
       "  319.26,\n",
       "  321.85,\n",
       "  713465,\n",
       "  321.568,\n",
       "  326183),\n",
       " (datetime.date(2020, 7, 16),\n",
       "  320.12,\n",
       "  321.28,\n",
       "  318.92,\n",
       "  320.41,\n",
       "  467591,\n",
       "  320.088,\n",
       "  228772),\n",
       " (datetime.date(2020, 7, 17),\n",
       "  319.66,\n",
       "  322.57,\n",
       "  319.6,\n",
       "  321.9,\n",
       "  432710,\n",
       "  321.511,\n",
       "  209109),\n",
       " (datetime.date(2020, 7, 20),\n",
       "  319.92,\n",
       "  325.13,\n",
       "  319.62,\n",
       "  324.4,\n",
       "  432673,\n",
       "  323.202,\n",
       "  192820),\n",
       " (datetime.date(2020, 7, 21),\n",
       "  326.0,\n",
       "  327.33,\n",
       "  323.94,\n",
       "  325.69,\n",
       "  454913,\n",
       "  325.774,\n",
       "  218291),\n",
       " (datetime.date(2020, 7, 22),\n",
       "  324.5,\n",
       "  327.2,\n",
       "  322.79,\n",
       "  326.11,\n",
       "  440731,\n",
       "  325.891,\n",
       "  204065),\n",
       " (datetime.date(2020, 7, 23),\n",
       "  328.15,\n",
       "  328.51,\n",
       "  321.48,\n",
       "  323.45,\n",
       "  614309,\n",
       "  324.128,\n",
       "  295885),\n",
       " (datetime.date(2020, 7, 24),\n",
       "  320.67,\n",
       "  322.52,\n",
       "  319.24,\n",
       "  320.2,\n",
       "  531260,\n",
       "  320.723,\n",
       "  273120),\n",
       " (datetime.date(2020, 7, 27),\n",
       "  321.52,\n",
       "  323.86,\n",
       "  320.77,\n",
       "  323.7,\n",
       "  347397,\n",
       "  322.52,\n",
       "  165779),\n",
       " (datetime.date(2020, 7, 28),\n",
       "  323.4,\n",
       "  323.7,\n",
       "  320.85,\n",
       "  321.8,\n",
       "  394243,\n",
       "  322.324,\n",
       "  187032),\n",
       " (datetime.date(2020, 7, 29),\n",
       "  321.93,\n",
       "  325.73,\n",
       "  320.7,\n",
       "  325.14,\n",
       "  372446,\n",
       "  324.255,\n",
       "  173747),\n",
       " (datetime.date(2020, 7, 30),\n",
       "  323.0,\n",
       "  327.43,\n",
       "  319.64,\n",
       "  326.84,\n",
       "  503599,\n",
       "  322.66,\n",
       "  255677),\n",
       " (datetime.date(2020, 7, 31),\n",
       "  325.69,\n",
       "  327.06,\n",
       "  321.33,\n",
       "  326.44,\n",
       "  639949,\n",
       "  324.252,\n",
       "  300569),\n",
       " (datetime.date(2020, 8, 3),\n",
       "  326.46,\n",
       "  329.62,\n",
       "  325.72,\n",
       "  328.83,\n",
       "  386524,\n",
       "  328.835,\n",
       "  177383),\n",
       " (datetime.date(2020, 8, 4),\n",
       "  328.11,\n",
       "  330.1,\n",
       "  327.15,\n",
       "  330.0,\n",
       "  334657,\n",
       "  329.076,\n",
       "  156626),\n",
       " (datetime.date(2020, 8, 5),\n",
       "  331.85,\n",
       "  332.39,\n",
       "  330.0,\n",
       "  332.0,\n",
       "  311936,\n",
       "  331.885,\n",
       "  150229),\n",
       " (datetime.date(2020, 8, 6),\n",
       "  332.25,\n",
       "  334.55,\n",
       "  330.13,\n",
       "  334.16,\n",
       "  365652,\n",
       "  332.969,\n",
       "  175501),\n",
       " (datetime.date(2020, 8, 7),\n",
       "  334.02,\n",
       "  334.88,\n",
       "  332.3,\n",
       "  334.53,\n",
       "  467417,\n",
       "  333.749,\n",
       "  222415),\n",
       " (datetime.date(2020, 8, 10),\n",
       "  335.06,\n",
       "  336.82,\n",
       "  332.95,\n",
       "  335.27,\n",
       "  337898,\n",
       "  334.988,\n",
       "  169352),\n",
       " (datetime.date(2020, 8, 11),\n",
       "  336.91,\n",
       "  337.93,\n",
       "  332.01,\n",
       "  333.37,\n",
       "  545771,\n",
       "  335.193,\n",
       "  251909),\n",
       " (datetime.date(2020, 8, 12),\n",
       "  335.4,\n",
       "  338.28,\n",
       "  333.0,\n",
       "  337.11,\n",
       "  419062,\n",
       "  337.198,\n",
       "  197753),\n",
       " (datetime.date(2020, 8, 13),\n",
       "  336.98,\n",
       "  338.26,\n",
       "  335.83,\n",
       "  337.62,\n",
       "  331754,\n",
       "  337.172,\n",
       "  165128),\n",
       " (datetime.date(2020, 8, 14),\n",
       "  336.19,\n",
       "  337.89,\n",
       "  335.05,\n",
       "  336.6,\n",
       "  310316,\n",
       "  336.571,\n",
       "  153647),\n",
       " (datetime.date(2020, 8, 17),\n",
       "  337.44,\n",
       "  338.79,\n",
       "  336.64,\n",
       "  338.63,\n",
       "  261981,\n",
       "  337.921,\n",
       "  117129),\n",
       " (datetime.date(2020, 8, 18),\n",
       "  338.0,\n",
       "  339.1,\n",
       "  336.61,\n",
       "  338.92,\n",
       "  294956,\n",
       "  338.381,\n",
       "  127647),\n",
       " (datetime.date(2020, 8, 19),\n",
       "  339.13,\n",
       "  339.61,\n",
       "  336.21,\n",
       "  336.27,\n",
       "  489606,\n",
       "  338.205,\n",
       "  207671),\n",
       " (datetime.date(2020, 8, 20),\n",
       "  336.54,\n",
       "  339.0,\n",
       "  335.03,\n",
       "  338.97,\n",
       "  357515,\n",
       "  337.484,\n",
       "  161398),\n",
       " (datetime.date(2020, 8, 21),\n",
       "  338.35,\n",
       "  339.72,\n",
       "  335.75,\n",
       "  339.65,\n",
       "  365380,\n",
       "  338.792,\n",
       "  163108),\n",
       " (datetime.date(2020, 8, 24),\n",
       "  341.2,\n",
       "  343.43,\n",
       "  340.59,\n",
       "  343.39,\n",
       "  356247,\n",
       "  342.08,\n",
       "  156849),\n",
       " (datetime.date(2020, 8, 25),\n",
       "  344.57,\n",
       "  344.74,\n",
       "  342.27,\n",
       "  344.55,\n",
       "  324100,\n",
       "  343.426,\n",
       "  141995),\n",
       " (datetime.date(2020, 8, 26),\n",
       "  344.4,\n",
       "  348.36,\n",
       "  344.05,\n",
       "  347.77,\n",
       "  399366,\n",
       "  346.491,\n",
       "  182436),\n",
       " (datetime.date(2020, 8, 27),\n",
       "  347.56,\n",
       "  349.9,\n",
       "  346.53,\n",
       "  349.26,\n",
       "  484545,\n",
       "  348.567,\n",
       "  225565),\n",
       " (datetime.date(2020, 8, 28),\n",
       "  349.26,\n",
       "  351.07,\n",
       "  348.15,\n",
       "  350.98,\n",
       "  368511,\n",
       "  349.659,\n",
       "  167616)]"
      ]
     },
     "metadata": {},
     "output_type": "display_data"
    },
    {
     "ename": "AttributeError",
     "evalue": "'datetime.date' object has no attribute 'hour'",
     "output_type": "error",
     "traceback": [
      "\u001b[0;31m---------------------------------------------------------------------------\u001b[0m",
      "\u001b[0;31mAttributeError\u001b[0m                            Traceback (most recent call last)",
      "\u001b[0;32m<ipython-input-88-aeb5016a88c4>\u001b[0m in \u001b[0;36m<module>\u001b[0;34m\u001b[0m\n\u001b[1;32m     13\u001b[0m \u001b[0mdisplay\u001b[0m\u001b[0;34m(\u001b[0m\u001b[0mdf\u001b[0m\u001b[0;34m)\u001b[0m\u001b[0;34m\u001b[0m\u001b[0;34m\u001b[0m\u001b[0m\n\u001b[1;32m     14\u001b[0m \u001b[0mdf\u001b[0m\u001b[0;34m.\u001b[0m\u001b[0mto_csv\u001b[0m\u001b[0;34m(\u001b[0m\u001b[0;34m'SPY_bar_sample'\u001b[0m\u001b[0;34m)\u001b[0m\u001b[0;34m\u001b[0m\u001b[0;34m\u001b[0m\u001b[0m\n\u001b[0;32m---> 15\u001b[0;31m \u001b[0masyncio\u001b[0m\u001b[0;34m.\u001b[0m\u001b[0mget_event_loop\u001b[0m\u001b[0;34m(\u001b[0m\u001b[0;34m)\u001b[0m\u001b[0;34m.\u001b[0m\u001b[0mrun_until_complete\u001b[0m\u001b[0;34m(\u001b[0m\u001b[0mcopyDF\u001b[0m\u001b[0;34m(\u001b[0m\u001b[0mdf\u001b[0m\u001b[0;34m,\u001b[0m\u001b[0;34m'spy'\u001b[0m\u001b[0;34m,\u001b[0m\u001b[0;34m'd1'\u001b[0m\u001b[0;34m)\u001b[0m\u001b[0;34m)\u001b[0m\u001b[0;34m\u001b[0m\u001b[0;34m\u001b[0m\u001b[0m\n\u001b[0m",
      "\u001b[0;32m/opt/conda/lib/python3.8/site-packages/nest_asyncio.py\u001b[0m in \u001b[0;36mrun_until_complete\u001b[0;34m(self, future)\u001b[0m\n\u001b[1;32m     93\u001b[0m                 raise RuntimeError(\n\u001b[1;32m     94\u001b[0m                     'Event loop stopped before Future completed.')\n\u001b[0;32m---> 95\u001b[0;31m             \u001b[0;32mreturn\u001b[0m \u001b[0mf\u001b[0m\u001b[0;34m.\u001b[0m\u001b[0mresult\u001b[0m\u001b[0;34m(\u001b[0m\u001b[0;34m)\u001b[0m\u001b[0;34m\u001b[0m\u001b[0;34m\u001b[0m\u001b[0m\n\u001b[0m\u001b[1;32m     96\u001b[0m         \u001b[0;32mfinally\u001b[0m\u001b[0;34m:\u001b[0m\u001b[0;34m\u001b[0m\u001b[0;34m\u001b[0m\u001b[0m\n\u001b[1;32m     97\u001b[0m             \u001b[0mevents\u001b[0m\u001b[0;34m.\u001b[0m\u001b[0m_set_running_loop\u001b[0m\u001b[0;34m(\u001b[0m\u001b[0mold_running_loop\u001b[0m\u001b[0;34m)\u001b[0m\u001b[0;34m\u001b[0m\u001b[0;34m\u001b[0m\u001b[0m\n",
      "\u001b[0;32m/opt/conda/lib/python3.8/asyncio/futures.py\u001b[0m in \u001b[0;36mresult\u001b[0;34m(self)\u001b[0m\n\u001b[1;32m    176\u001b[0m         \u001b[0mself\u001b[0m\u001b[0;34m.\u001b[0m\u001b[0m__log_traceback\u001b[0m \u001b[0;34m=\u001b[0m \u001b[0;32mFalse\u001b[0m\u001b[0;34m\u001b[0m\u001b[0;34m\u001b[0m\u001b[0m\n\u001b[1;32m    177\u001b[0m         \u001b[0;32mif\u001b[0m \u001b[0mself\u001b[0m\u001b[0;34m.\u001b[0m\u001b[0m_exception\u001b[0m \u001b[0;32mis\u001b[0m \u001b[0;32mnot\u001b[0m \u001b[0;32mNone\u001b[0m\u001b[0;34m:\u001b[0m\u001b[0;34m\u001b[0m\u001b[0;34m\u001b[0m\u001b[0m\n\u001b[0;32m--> 178\u001b[0;31m             \u001b[0;32mraise\u001b[0m \u001b[0mself\u001b[0m\u001b[0;34m.\u001b[0m\u001b[0m_exception\u001b[0m\u001b[0;34m\u001b[0m\u001b[0;34m\u001b[0m\u001b[0m\n\u001b[0m\u001b[1;32m    179\u001b[0m         \u001b[0;32mreturn\u001b[0m \u001b[0mself\u001b[0m\u001b[0;34m.\u001b[0m\u001b[0m_result\u001b[0m\u001b[0;34m\u001b[0m\u001b[0;34m\u001b[0m\u001b[0m\n\u001b[1;32m    180\u001b[0m \u001b[0;34m\u001b[0m\u001b[0m\n",
      "\u001b[0;32m/opt/conda/lib/python3.8/asyncio/tasks.py\u001b[0m in \u001b[0;36m__step\u001b[0;34m(***failed resolving arguments***)\u001b[0m\n\u001b[1;32m    278\u001b[0m                 \u001b[0;31m# We use the `send` method directly, because coroutines\u001b[0m\u001b[0;34m\u001b[0m\u001b[0;34m\u001b[0m\u001b[0;34m\u001b[0m\u001b[0m\n\u001b[1;32m    279\u001b[0m                 \u001b[0;31m# don't have `__iter__` and `__next__` methods.\u001b[0m\u001b[0;34m\u001b[0m\u001b[0;34m\u001b[0m\u001b[0;34m\u001b[0m\u001b[0m\n\u001b[0;32m--> 280\u001b[0;31m                 \u001b[0mresult\u001b[0m \u001b[0;34m=\u001b[0m \u001b[0mcoro\u001b[0m\u001b[0;34m.\u001b[0m\u001b[0msend\u001b[0m\u001b[0;34m(\u001b[0m\u001b[0;32mNone\u001b[0m\u001b[0;34m)\u001b[0m\u001b[0;34m\u001b[0m\u001b[0;34m\u001b[0m\u001b[0m\n\u001b[0m\u001b[1;32m    281\u001b[0m             \u001b[0;32melse\u001b[0m\u001b[0;34m:\u001b[0m\u001b[0;34m\u001b[0m\u001b[0;34m\u001b[0m\u001b[0m\n\u001b[1;32m    282\u001b[0m                 \u001b[0mresult\u001b[0m \u001b[0;34m=\u001b[0m \u001b[0mcoro\u001b[0m\u001b[0;34m.\u001b[0m\u001b[0mthrow\u001b[0m\u001b[0;34m(\u001b[0m\u001b[0mexc\u001b[0m\u001b[0;34m)\u001b[0m\u001b[0;34m\u001b[0m\u001b[0;34m\u001b[0m\u001b[0m\n",
      "\u001b[0;32m<ipython-input-85-c653d20f4437>\u001b[0m in \u001b[0;36mcopyDF\u001b[0;34m(df, schema, table)\u001b[0m\n\u001b[1;32m     14\u001b[0m     \u001b[0mli\u001b[0m\u001b[0;34m.\u001b[0m\u001b[0minsert\u001b[0m\u001b[0;34m(\u001b[0m\u001b[0;36m0\u001b[0m\u001b[0;34m,\u001b[0m\u001b[0mdf\u001b[0m\u001b[0;34m.\u001b[0m\u001b[0mindex\u001b[0m\u001b[0;34m.\u001b[0m\u001b[0mname\u001b[0m\u001b[0;34m)\u001b[0m\u001b[0;34m\u001b[0m\u001b[0;34m\u001b[0m\u001b[0m\n\u001b[1;32m     15\u001b[0m     \u001b[0mdisplay\u001b[0m\u001b[0;34m(\u001b[0m\u001b[0mtuples\u001b[0m\u001b[0;34m)\u001b[0m\u001b[0;34m\u001b[0m\u001b[0;34m\u001b[0m\u001b[0m\n\u001b[0;32m---> 16\u001b[0;31m     \u001b[0;32mawait\u001b[0m \u001b[0mconn\u001b[0m\u001b[0;34m.\u001b[0m\u001b[0mcopy_records_to_table\u001b[0m\u001b[0;34m(\u001b[0m\u001b[0mtable\u001b[0m\u001b[0;34m,\u001b[0m \u001b[0mrecords\u001b[0m\u001b[0;34m=\u001b[0m\u001b[0mtuples\u001b[0m\u001b[0;34m,\u001b[0m \u001b[0mcolumns\u001b[0m\u001b[0;34m=\u001b[0m\u001b[0mli\u001b[0m\u001b[0;34m,\u001b[0m \u001b[0mtimeout\u001b[0m\u001b[0;34m=\u001b[0m\u001b[0;36m10\u001b[0m\u001b[0;34m)\u001b[0m\u001b[0;34m\u001b[0m\u001b[0;34m\u001b[0m\u001b[0m\n\u001b[0m\u001b[1;32m     17\u001b[0m     \u001b[0;32mawait\u001b[0m \u001b[0mconn\u001b[0m\u001b[0;34m.\u001b[0m\u001b[0mclose\u001b[0m\u001b[0;34m(\u001b[0m\u001b[0;34m)\u001b[0m\u001b[0;34m\u001b[0m\u001b[0;34m\u001b[0m\u001b[0m\n\u001b[1;32m     18\u001b[0m \u001b[0;34m\u001b[0m\u001b[0m\n",
      "\u001b[0;32m/opt/conda/lib/python3.8/site-packages/asyncpg/connection.py\u001b[0m in \u001b[0;36mcopy_records_to_table\u001b[0;34m(self, table_name, records, columns, schema_name, timeout)\u001b[0m\n\u001b[1;32m    751\u001b[0m             tab=tabname, cols=cols, opts=opts)\n\u001b[1;32m    752\u001b[0m \u001b[0;34m\u001b[0m\u001b[0m\n\u001b[0;32m--> 753\u001b[0;31m         return await self._copy_in_records(\n\u001b[0m\u001b[1;32m    754\u001b[0m             copy_stmt, records, intro_ps._state, timeout)\n\u001b[1;32m    755\u001b[0m \u001b[0;34m\u001b[0m\u001b[0m\n",
      "\u001b[0;32m/opt/conda/lib/python3.8/site-packages/asyncpg/connection.py\u001b[0m in \u001b[0;36m_copy_in_records\u001b[0;34m(self, copy_stmt, records, intro_stmt, timeout)\u001b[0m\n\u001b[1;32m    873\u001b[0m \u001b[0;34m\u001b[0m\u001b[0m\n\u001b[1;32m    874\u001b[0m     \u001b[0;32masync\u001b[0m \u001b[0;32mdef\u001b[0m \u001b[0m_copy_in_records\u001b[0m\u001b[0;34m(\u001b[0m\u001b[0mself\u001b[0m\u001b[0;34m,\u001b[0m \u001b[0mcopy_stmt\u001b[0m\u001b[0;34m,\u001b[0m \u001b[0mrecords\u001b[0m\u001b[0;34m,\u001b[0m \u001b[0mintro_stmt\u001b[0m\u001b[0;34m,\u001b[0m \u001b[0mtimeout\u001b[0m\u001b[0;34m)\u001b[0m\u001b[0;34m:\u001b[0m\u001b[0;34m\u001b[0m\u001b[0;34m\u001b[0m\u001b[0m\n\u001b[0;32m--> 875\u001b[0;31m         return await self._protocol.copy_in(\n\u001b[0m\u001b[1;32m    876\u001b[0m             copy_stmt, None, None, records, intro_stmt, timeout)\n\u001b[1;32m    877\u001b[0m \u001b[0;34m\u001b[0m\u001b[0m\n",
      "\u001b[0;32m/opt/conda/lib/python3.8/site-packages/asyncpg/protocol/protocol.pyx\u001b[0m in \u001b[0;36mcopy_in\u001b[0;34m()\u001b[0m\n",
      "\u001b[0;32m/opt/conda/lib/python3.8/site-packages/asyncpg/protocol/protocol.pyx\u001b[0m in \u001b[0;36masyncpg.protocol.protocol.BaseProtocol.copy_in\u001b[0;34m()\u001b[0m\n",
      "\u001b[0;32m/opt/conda/lib/python3.8/site-packages/asyncpg/protocol/codecs/base.pyx\u001b[0m in \u001b[0;36masyncpg.protocol.protocol.Codec.encode\u001b[0;34m()\u001b[0m\n",
      "\u001b[0;32m/opt/conda/lib/python3.8/site-packages/asyncpg/protocol/codecs/base.pyx\u001b[0m in \u001b[0;36masyncpg.protocol.protocol.Codec.encode_scalar\u001b[0;34m()\u001b[0m\n",
      "\u001b[0;32m/opt/conda/lib/python3.8/site-packages/asyncpg/pgproto/codecs/datetime.pyx\u001b[0m in \u001b[0;36masyncpg.pgproto.pgproto.time_encode\u001b[0;34m()\u001b[0m\n",
      "\u001b[0;31mAttributeError\u001b[0m: 'datetime.date' object has no attribute 'hour'"
     ]
    }
   ],
   "source": [
    "end = \"20200828 23:59:00\"\n",
    "histbarExample = ['4 M','1 day','TRADES']\n",
    "def histBar(endt,dStr,bSize,show,useRTH=False):\n",
    "    bars = ib.reqHistoricalData(\n",
    "        contract,endDateTime=end, durationStr=f'{dStr}',\n",
    "        barSizeSetting=f'{bSize}', whatToShow=f'{show}', useRTH=useRTH)\n",
    "    df = util.df(bars)\n",
    "    df = df.set_index('date')\n",
    "    df.columns = map(str.lower, df.columns)\n",
    "    return df\n",
    "\n",
    "df = histBar(end,histbarExample[0],histbarExample[1],histbarExample[2])\n",
    "display(df)\n",
    "df.to_csv('SPY_bar_sample')\n",
    "asyncio.get_event_loop().run_until_complete(copyDF(df,'spy','d1'))"
   ]
  }
 ],
 "metadata": {
  "kernelspec": {
   "display_name": "Python 3",
   "language": "python",
   "name": "python3"
  },
  "language_info": {
   "codemirror_mode": {
    "name": "ipython",
    "version": 3
   },
   "file_extension": ".py",
   "mimetype": "text/x-python",
   "name": "python",
   "nbconvert_exporter": "python",
   "pygments_lexer": "ipython3",
   "version": "3.8.3"
  },
  "toc": {
   "base_numbering": 1,
   "nav_menu": {},
   "number_sections": true,
   "sideBar": true,
   "skip_h1_title": false,
   "title_cell": "Table of Contents",
   "title_sidebar": "Contents",
   "toc_cell": false,
   "toc_position": {},
   "toc_section_display": true,
   "toc_window_display": false
  },
  "varInspector": {
   "cols": {
    "lenName": 16,
    "lenType": 16,
    "lenVar": 40
   },
   "kernels_config": {
    "python": {
     "delete_cmd_postfix": "",
     "delete_cmd_prefix": "del ",
     "library": "var_list.py",
     "varRefreshCmd": "print(var_dic_list())"
    },
    "r": {
     "delete_cmd_postfix": ") ",
     "delete_cmd_prefix": "rm(",
     "library": "var_list.r",
     "varRefreshCmd": "cat(var_dic_list()) "
    }
   },
   "position": {
    "height": "646.017px",
    "left": "1199.83px",
    "right": "20.8333px",
    "top": "104px",
    "width": "539.333px"
   },
   "types_to_exclude": [
    "module",
    "function",
    "builtin_function_or_method",
    "instance",
    "_Feature"
   ],
   "window_display": false
  }
 },
 "nbformat": 4,
 "nbformat_minor": 4
}
