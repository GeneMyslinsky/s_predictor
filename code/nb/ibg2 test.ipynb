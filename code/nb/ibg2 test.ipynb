{
 "cells": [
  {
   "cell_type": "code",
   "execution_count": 1,
   "metadata": {
    "ExecuteTime": {
     "end_time": "2020-09-01T01:47:22.817304Z",
     "start_time": "2020-09-01T01:47:22.642980Z"
    }
   },
   "outputs": [
    {
     "data": {
      "text/plain": [
       "<IB connected to host.docker.internal:7497 clientId=15>"
      ]
     },
     "execution_count": 1,
     "metadata": {},
     "output_type": "execute_result"
    }
   ],
   "source": [
    "\n",
    "from ib_insync import *\n",
    "\n",
    "util.startLoop()\n",
    "\n",
    "ib = IB()\n",
    "ib.connect('host.docker.internal', 7497, clientId=15)\n",
    "\n",
    "# bars = ib.reqHistoricalData(\n",
    "#     contract, endDateTime='', durationStr='30 D',\n",
    "#     barSizeSetting='1 hour', whatToShow='MIDPOINT', useRTH=True)\n",
    "\n",
    "# # convert to pandas dataframe:\n",
    "# df = util.df(bars)\n",
    "# print(df)\n",
    "\n"
   ]
  },
  {
   "cell_type": "code",
   "execution_count": 2,
   "metadata": {
    "ExecuteTime": {
     "end_time": "2020-09-01T01:47:30.477963Z",
     "start_time": "2020-09-01T01:47:28.332184Z"
    },
    "scrolled": false
   },
   "outputs": [
    {
     "data": {
      "text/html": [
       "<div>\n",
       "<style scoped>\n",
       "    .dataframe tbody tr th:only-of-type {\n",
       "        vertical-align: middle;\n",
       "    }\n",
       "\n",
       "    .dataframe tbody tr th {\n",
       "        vertical-align: top;\n",
       "    }\n",
       "\n",
       "    .dataframe thead th {\n",
       "        text-align: right;\n",
       "    }\n",
       "</style>\n",
       "<table border=\"1\" class=\"dataframe\">\n",
       "  <thead>\n",
       "    <tr style=\"text-align: right;\">\n",
       "      <th></th>\n",
       "      <th>price</th>\n",
       "      <th>size</th>\n",
       "      <th>exchange</th>\n",
       "      <th>specialConditions</th>\n",
       "      <th>pastLimit</th>\n",
       "      <th>unreported</th>\n",
       "    </tr>\n",
       "    <tr>\n",
       "      <th>time</th>\n",
       "      <th></th>\n",
       "      <th></th>\n",
       "      <th></th>\n",
       "      <th></th>\n",
       "      <th></th>\n",
       "      <th></th>\n",
       "    </tr>\n",
       "  </thead>\n",
       "  <tbody>\n",
       "    <tr>\n",
       "      <th>2020-08-28 11:38:51-04:00</th>\n",
       "      <td>349.1900</td>\n",
       "      <td>2</td>\n",
       "      <td>ISLAND</td>\n",
       "      <td>I</td>\n",
       "      <td>False</td>\n",
       "      <td>True</td>\n",
       "    </tr>\n",
       "    <tr>\n",
       "      <th>2020-08-28 11:38:51-04:00</th>\n",
       "      <td>349.2000</td>\n",
       "      <td>4</td>\n",
       "      <td>ISLAND</td>\n",
       "      <td>F I</td>\n",
       "      <td>False</td>\n",
       "      <td>True</td>\n",
       "    </tr>\n",
       "    <tr>\n",
       "      <th>2020-08-28 11:38:51-04:00</th>\n",
       "      <td>349.1975</td>\n",
       "      <td>4</td>\n",
       "      <td>FINRA</td>\n",
       "      <td>I</td>\n",
       "      <td>False</td>\n",
       "      <td>True</td>\n",
       "    </tr>\n",
       "    <tr>\n",
       "      <th>2020-08-28 11:38:51-04:00</th>\n",
       "      <td>349.2000</td>\n",
       "      <td>20</td>\n",
       "      <td>FINRA</td>\n",
       "      <td>I</td>\n",
       "      <td>False</td>\n",
       "      <td>True</td>\n",
       "    </tr>\n",
       "    <tr>\n",
       "      <th>2020-08-28 11:38:51-04:00</th>\n",
       "      <td>349.2000</td>\n",
       "      <td>7</td>\n",
       "      <td>ISLAND</td>\n",
       "      <td>I</td>\n",
       "      <td>False</td>\n",
       "      <td>True</td>\n",
       "    </tr>\n",
       "    <tr>\n",
       "      <th>...</th>\n",
       "      <td>...</td>\n",
       "      <td>...</td>\n",
       "      <td>...</td>\n",
       "      <td>...</td>\n",
       "      <td>...</td>\n",
       "      <td>...</td>\n",
       "    </tr>\n",
       "    <tr>\n",
       "      <th>2020-08-28 11:41:39-04:00</th>\n",
       "      <td>349.1000</td>\n",
       "      <td>100</td>\n",
       "      <td>BATS</td>\n",
       "      <td>F</td>\n",
       "      <td>False</td>\n",
       "      <td>False</td>\n",
       "    </tr>\n",
       "    <tr>\n",
       "      <th>2020-08-28 11:41:39-04:00</th>\n",
       "      <td>349.1000</td>\n",
       "      <td>24</td>\n",
       "      <td>ISLAND</td>\n",
       "      <td>F I</td>\n",
       "      <td>False</td>\n",
       "      <td>True</td>\n",
       "    </tr>\n",
       "    <tr>\n",
       "      <th>2020-08-28 11:41:39-04:00</th>\n",
       "      <td>349.1001</td>\n",
       "      <td>1</td>\n",
       "      <td>FINRA</td>\n",
       "      <td>I</td>\n",
       "      <td>False</td>\n",
       "      <td>True</td>\n",
       "    </tr>\n",
       "    <tr>\n",
       "      <th>2020-08-28 11:41:40-04:00</th>\n",
       "      <td>349.1000</td>\n",
       "      <td>3</td>\n",
       "      <td>BYX</td>\n",
       "      <td>I</td>\n",
       "      <td>False</td>\n",
       "      <td>True</td>\n",
       "    </tr>\n",
       "    <tr>\n",
       "      <th>2020-08-28 11:41:40-04:00</th>\n",
       "      <td>349.1200</td>\n",
       "      <td>6</td>\n",
       "      <td>ARCA</td>\n",
       "      <td>I</td>\n",
       "      <td>False</td>\n",
       "      <td>True</td>\n",
       "    </tr>\n",
       "  </tbody>\n",
       "</table>\n",
       "<p>1000 rows × 6 columns</p>\n",
       "</div>"
      ],
      "text/plain": [
       "                              price  size exchange specialConditions  \\\n",
       "time                                                                   \n",
       "2020-08-28 11:38:51-04:00  349.1900     2   ISLAND                 I   \n",
       "2020-08-28 11:38:51-04:00  349.2000     4   ISLAND               F I   \n",
       "2020-08-28 11:38:51-04:00  349.1975     4    FINRA                 I   \n",
       "2020-08-28 11:38:51-04:00  349.2000    20    FINRA                 I   \n",
       "2020-08-28 11:38:51-04:00  349.2000     7   ISLAND                 I   \n",
       "...                             ...   ...      ...               ...   \n",
       "2020-08-28 11:41:39-04:00  349.1000   100     BATS               F     \n",
       "2020-08-28 11:41:39-04:00  349.1000    24   ISLAND               F I   \n",
       "2020-08-28 11:41:39-04:00  349.1001     1    FINRA                 I   \n",
       "2020-08-28 11:41:40-04:00  349.1000     3      BYX                 I   \n",
       "2020-08-28 11:41:40-04:00  349.1200     6     ARCA                 I   \n",
       "\n",
       "                           pastLimit  unreported  \n",
       "time                                              \n",
       "2020-08-28 11:38:51-04:00      False        True  \n",
       "2020-08-28 11:38:51-04:00      False        True  \n",
       "2020-08-28 11:38:51-04:00      False        True  \n",
       "2020-08-28 11:38:51-04:00      False        True  \n",
       "2020-08-28 11:38:51-04:00      False        True  \n",
       "...                              ...         ...  \n",
       "2020-08-28 11:41:39-04:00      False       False  \n",
       "2020-08-28 11:41:39-04:00      False        True  \n",
       "2020-08-28 11:41:39-04:00      False        True  \n",
       "2020-08-28 11:41:40-04:00      False        True  \n",
       "2020-08-28 11:41:40-04:00      False        True  \n",
       "\n",
       "[1000 rows x 6 columns]"
      ]
     },
     "metadata": {},
     "output_type": "display_data"
    },
    {
     "data": {
      "text/html": [
       "<div>\n",
       "<style scoped>\n",
       "    .dataframe tbody tr th:only-of-type {\n",
       "        vertical-align: middle;\n",
       "    }\n",
       "\n",
       "    .dataframe tbody tr th {\n",
       "        vertical-align: top;\n",
       "    }\n",
       "\n",
       "    .dataframe thead th {\n",
       "        text-align: right;\n",
       "    }\n",
       "</style>\n",
       "<table border=\"1\" class=\"dataframe\">\n",
       "  <thead>\n",
       "    <tr style=\"text-align: right;\">\n",
       "      <th></th>\n",
       "      <th>priceBid</th>\n",
       "      <th>priceAsk</th>\n",
       "      <th>sizeBid</th>\n",
       "      <th>sizeAsk</th>\n",
       "      <th>bidPastLow</th>\n",
       "      <th>askPastHigh</th>\n",
       "    </tr>\n",
       "    <tr>\n",
       "      <th>time</th>\n",
       "      <th></th>\n",
       "      <th></th>\n",
       "      <th></th>\n",
       "      <th></th>\n",
       "      <th></th>\n",
       "      <th></th>\n",
       "    </tr>\n",
       "  </thead>\n",
       "  <tbody>\n",
       "    <tr>\n",
       "      <th>2020-08-28 11:41:36-04:00</th>\n",
       "      <td>349.12</td>\n",
       "      <td>349.13</td>\n",
       "      <td>100</td>\n",
       "      <td>2500</td>\n",
       "      <td>False</td>\n",
       "      <td>False</td>\n",
       "    </tr>\n",
       "    <tr>\n",
       "      <th>2020-08-28 11:41:37-04:00</th>\n",
       "      <td>349.12</td>\n",
       "      <td>349.13</td>\n",
       "      <td>300</td>\n",
       "      <td>2500</td>\n",
       "      <td>False</td>\n",
       "      <td>False</td>\n",
       "    </tr>\n",
       "    <tr>\n",
       "      <th>2020-08-28 11:41:37-04:00</th>\n",
       "      <td>349.12</td>\n",
       "      <td>349.13</td>\n",
       "      <td>300</td>\n",
       "      <td>2600</td>\n",
       "      <td>False</td>\n",
       "      <td>False</td>\n",
       "    </tr>\n",
       "    <tr>\n",
       "      <th>2020-08-28 11:41:37-04:00</th>\n",
       "      <td>349.12</td>\n",
       "      <td>349.13</td>\n",
       "      <td>300</td>\n",
       "      <td>2700</td>\n",
       "      <td>False</td>\n",
       "      <td>False</td>\n",
       "    </tr>\n",
       "    <tr>\n",
       "      <th>2020-08-28 11:41:37-04:00</th>\n",
       "      <td>349.12</td>\n",
       "      <td>349.13</td>\n",
       "      <td>300</td>\n",
       "      <td>2800</td>\n",
       "      <td>False</td>\n",
       "      <td>False</td>\n",
       "    </tr>\n",
       "    <tr>\n",
       "      <th>...</th>\n",
       "      <td>...</td>\n",
       "      <td>...</td>\n",
       "      <td>...</td>\n",
       "      <td>...</td>\n",
       "      <td>...</td>\n",
       "      <td>...</td>\n",
       "    </tr>\n",
       "    <tr>\n",
       "      <th>2020-08-28 11:41:40-04:00</th>\n",
       "      <td>349.10</td>\n",
       "      <td>349.12</td>\n",
       "      <td>2300</td>\n",
       "      <td>4100</td>\n",
       "      <td>False</td>\n",
       "      <td>False</td>\n",
       "    </tr>\n",
       "    <tr>\n",
       "      <th>2020-08-28 11:41:40-04:00</th>\n",
       "      <td>349.10</td>\n",
       "      <td>349.12</td>\n",
       "      <td>2300</td>\n",
       "      <td>4000</td>\n",
       "      <td>False</td>\n",
       "      <td>False</td>\n",
       "    </tr>\n",
       "    <tr>\n",
       "      <th>2020-08-28 11:41:40-04:00</th>\n",
       "      <td>349.10</td>\n",
       "      <td>349.12</td>\n",
       "      <td>2300</td>\n",
       "      <td>3800</td>\n",
       "      <td>False</td>\n",
       "      <td>False</td>\n",
       "    </tr>\n",
       "    <tr>\n",
       "      <th>2020-08-28 11:41:40-04:00</th>\n",
       "      <td>349.10</td>\n",
       "      <td>349.12</td>\n",
       "      <td>2300</td>\n",
       "      <td>3700</td>\n",
       "      <td>False</td>\n",
       "      <td>False</td>\n",
       "    </tr>\n",
       "    <tr>\n",
       "      <th>2020-08-28 11:41:40-04:00</th>\n",
       "      <td>349.10</td>\n",
       "      <td>349.12</td>\n",
       "      <td>2400</td>\n",
       "      <td>3700</td>\n",
       "      <td>False</td>\n",
       "      <td>False</td>\n",
       "    </tr>\n",
       "  </tbody>\n",
       "</table>\n",
       "<p>1093 rows × 6 columns</p>\n",
       "</div>"
      ],
      "text/plain": [
       "                           priceBid  priceAsk  sizeBid  sizeAsk  bidPastLow  \\\n",
       "time                                                                          \n",
       "2020-08-28 11:41:36-04:00    349.12    349.13      100     2500       False   \n",
       "2020-08-28 11:41:37-04:00    349.12    349.13      300     2500       False   \n",
       "2020-08-28 11:41:37-04:00    349.12    349.13      300     2600       False   \n",
       "2020-08-28 11:41:37-04:00    349.12    349.13      300     2700       False   \n",
       "2020-08-28 11:41:37-04:00    349.12    349.13      300     2800       False   \n",
       "...                             ...       ...      ...      ...         ...   \n",
       "2020-08-28 11:41:40-04:00    349.10    349.12     2300     4100       False   \n",
       "2020-08-28 11:41:40-04:00    349.10    349.12     2300     4000       False   \n",
       "2020-08-28 11:41:40-04:00    349.10    349.12     2300     3800       False   \n",
       "2020-08-28 11:41:40-04:00    349.10    349.12     2300     3700       False   \n",
       "2020-08-28 11:41:40-04:00    349.10    349.12     2400     3700       False   \n",
       "\n",
       "                           askPastHigh  \n",
       "time                                    \n",
       "2020-08-28 11:41:36-04:00        False  \n",
       "2020-08-28 11:41:37-04:00        False  \n",
       "2020-08-28 11:41:37-04:00        False  \n",
       "2020-08-28 11:41:37-04:00        False  \n",
       "2020-08-28 11:41:37-04:00        False  \n",
       "...                                ...  \n",
       "2020-08-28 11:41:40-04:00        False  \n",
       "2020-08-28 11:41:40-04:00        False  \n",
       "2020-08-28 11:41:40-04:00        False  \n",
       "2020-08-28 11:41:40-04:00        False  \n",
       "2020-08-28 11:41:40-04:00        False  \n",
       "\n",
       "[1093 rows x 6 columns]"
      ]
     },
     "metadata": {},
     "output_type": "display_data"
    },
    {
     "data": {
      "text/html": [
       "<div>\n",
       "<style scoped>\n",
       "    .dataframe tbody tr th:only-of-type {\n",
       "        vertical-align: middle;\n",
       "    }\n",
       "\n",
       "    .dataframe tbody tr th {\n",
       "        vertical-align: top;\n",
       "    }\n",
       "\n",
       "    .dataframe thead th {\n",
       "        text-align: right;\n",
       "    }\n",
       "</style>\n",
       "<table border=\"1\" class=\"dataframe\">\n",
       "  <thead>\n",
       "    <tr style=\"text-align: right;\">\n",
       "      <th></th>\n",
       "      <th>open</th>\n",
       "      <th>high</th>\n",
       "      <th>low</th>\n",
       "      <th>close</th>\n",
       "      <th>volume</th>\n",
       "      <th>average</th>\n",
       "      <th>barCount</th>\n",
       "    </tr>\n",
       "    <tr>\n",
       "      <th>date</th>\n",
       "      <th></th>\n",
       "      <th></th>\n",
       "      <th></th>\n",
       "      <th></th>\n",
       "      <th></th>\n",
       "      <th></th>\n",
       "      <th></th>\n",
       "    </tr>\n",
       "  </thead>\n",
       "  <tbody>\n",
       "    <tr>\n",
       "      <th>2020-08-28 04:00:00</th>\n",
       "      <td>349.26</td>\n",
       "      <td>349.43</td>\n",
       "      <td>349.26</td>\n",
       "      <td>349.43</td>\n",
       "      <td>8</td>\n",
       "      <td>349.343</td>\n",
       "      <td>5</td>\n",
       "    </tr>\n",
       "    <tr>\n",
       "      <th>2020-08-28 04:05:00</th>\n",
       "      <td>349.48</td>\n",
       "      <td>349.48</td>\n",
       "      <td>349.43</td>\n",
       "      <td>349.43</td>\n",
       "      <td>26</td>\n",
       "      <td>349.435</td>\n",
       "      <td>7</td>\n",
       "    </tr>\n",
       "    <tr>\n",
       "      <th>2020-08-28 04:10:00</th>\n",
       "      <td>349.46</td>\n",
       "      <td>349.48</td>\n",
       "      <td>349.43</td>\n",
       "      <td>349.48</td>\n",
       "      <td>39</td>\n",
       "      <td>349.441</td>\n",
       "      <td>10</td>\n",
       "    </tr>\n",
       "    <tr>\n",
       "      <th>2020-08-28 04:15:00</th>\n",
       "      <td>349.55</td>\n",
       "      <td>349.79</td>\n",
       "      <td>349.55</td>\n",
       "      <td>349.79</td>\n",
       "      <td>126</td>\n",
       "      <td>349.657</td>\n",
       "      <td>49</td>\n",
       "    </tr>\n",
       "    <tr>\n",
       "      <th>2020-08-28 04:20:00</th>\n",
       "      <td>349.75</td>\n",
       "      <td>350.02</td>\n",
       "      <td>349.75</td>\n",
       "      <td>350.02</td>\n",
       "      <td>53</td>\n",
       "      <td>349.881</td>\n",
       "      <td>18</td>\n",
       "    </tr>\n",
       "    <tr>\n",
       "      <th>...</th>\n",
       "      <td>...</td>\n",
       "      <td>...</td>\n",
       "      <td>...</td>\n",
       "      <td>...</td>\n",
       "      <td>...</td>\n",
       "      <td>...</td>\n",
       "      <td>...</td>\n",
       "    </tr>\n",
       "    <tr>\n",
       "      <th>2020-08-28 19:35:00</th>\n",
       "      <td>350.94</td>\n",
       "      <td>350.96</td>\n",
       "      <td>350.92</td>\n",
       "      <td>350.95</td>\n",
       "      <td>18</td>\n",
       "      <td>350.950</td>\n",
       "      <td>8</td>\n",
       "    </tr>\n",
       "    <tr>\n",
       "      <th>2020-08-28 19:40:00</th>\n",
       "      <td>350.94</td>\n",
       "      <td>350.98</td>\n",
       "      <td>350.94</td>\n",
       "      <td>350.96</td>\n",
       "      <td>48</td>\n",
       "      <td>350.962</td>\n",
       "      <td>13</td>\n",
       "    </tr>\n",
       "    <tr>\n",
       "      <th>2020-08-28 19:45:00</th>\n",
       "      <td>350.96</td>\n",
       "      <td>350.96</td>\n",
       "      <td>350.96</td>\n",
       "      <td>350.96</td>\n",
       "      <td>13</td>\n",
       "      <td>350.960</td>\n",
       "      <td>5</td>\n",
       "    </tr>\n",
       "    <tr>\n",
       "      <th>2020-08-28 19:50:00</th>\n",
       "      <td>350.95</td>\n",
       "      <td>351.03</td>\n",
       "      <td>350.95</td>\n",
       "      <td>351.00</td>\n",
       "      <td>68</td>\n",
       "      <td>351.003</td>\n",
       "      <td>17</td>\n",
       "    </tr>\n",
       "    <tr>\n",
       "      <th>2020-08-28 19:55:00</th>\n",
       "      <td>351.03</td>\n",
       "      <td>351.03</td>\n",
       "      <td>350.98</td>\n",
       "      <td>350.98</td>\n",
       "      <td>38</td>\n",
       "      <td>351.003</td>\n",
       "      <td>14</td>\n",
       "    </tr>\n",
       "  </tbody>\n",
       "</table>\n",
       "<p>192 rows × 7 columns</p>\n",
       "</div>"
      ],
      "text/plain": [
       "                       open    high     low   close  volume  average  barCount\n",
       "date                                                                          \n",
       "2020-08-28 04:00:00  349.26  349.43  349.26  349.43       8  349.343         5\n",
       "2020-08-28 04:05:00  349.48  349.48  349.43  349.43      26  349.435         7\n",
       "2020-08-28 04:10:00  349.46  349.48  349.43  349.48      39  349.441        10\n",
       "2020-08-28 04:15:00  349.55  349.79  349.55  349.79     126  349.657        49\n",
       "2020-08-28 04:20:00  349.75  350.02  349.75  350.02      53  349.881        18\n",
       "...                     ...     ...     ...     ...     ...      ...       ...\n",
       "2020-08-28 19:35:00  350.94  350.96  350.92  350.95      18  350.950         8\n",
       "2020-08-28 19:40:00  350.94  350.98  350.94  350.96      48  350.962        13\n",
       "2020-08-28 19:45:00  350.96  350.96  350.96  350.96      13  350.960         5\n",
       "2020-08-28 19:50:00  350.95  351.03  350.95  351.00      68  351.003        17\n",
       "2020-08-28 19:55:00  351.03  351.03  350.98  350.98      38  351.003        14\n",
       "\n",
       "[192 rows x 7 columns]"
      ]
     },
     "metadata": {},
     "output_type": "display_data"
    }
   ],
   "source": [
    "import qgrid\n",
    "import functools\n",
    "from collections import namedtuple\n",
    "import pandas as pd\n",
    "\n",
    "pd.set_option('display.max_colwidth',100)\n",
    "start = ''\n",
    "end = \"20200828 11:41:41\"\n",
    "contract = Stock('SPY', 'SMART', 'USD')\n",
    "\n",
    "ticks = ib.reqHistoricalTicks(contract, start, end, 1000, 'TRADES', useRth=False)\n",
    "df = util.df(ticks)\n",
    "df = df.set_index('time')\n",
    "df = df.tz_convert('America/Toronto')\n",
    "\n",
    "df['pastLimit'] = [row.pastLimit for row in df['tickAttribLast']]\n",
    "df['unreported'] = [row.unreported for row in df['tickAttribLast']]\n",
    "del df['tickAttribLast']\n",
    "display(df)\n",
    "ticks = ib.reqHistoricalTicks(contract, start, end, 1000, 'BID_ASK', useRth=False)\n",
    "df = util.df(ticks)\n",
    "df = df.set_index('time')\n",
    "df = df.tz_convert('America/Toronto')\n",
    "# display(df)\n",
    "# print(df.dtypes)\n",
    "\n",
    "df['bidPastLow'] = [row.bidPastLow for row in df['tickAttribBidAsk']]\n",
    "df['askPastHigh'] = [row.askPastHigh for row in df['tickAttribBidAsk']]\n",
    "del df['tickAttribBidAsk']\n",
    "display(df)\n",
    "# df.to_csv(\"tsla.csv\")\n",
    "\n",
    "\n",
    "end = \"20200828 23:59:00\"\n",
    "bars = ib.reqHistoricalData(\n",
    "    contract,endDateTime=end, durationStr='1 D',\n",
    "    barSizeSetting='5 mins', whatToShow='TRADES', useRTH=False)\n",
    "\n",
    "# convert to pandas dataframe:\n",
    "df = util.df(bars)\n",
    "df = df.set_index('date')\n",
    "\n",
    "display(df)"
   ]
  },
  {
   "cell_type": "code",
   "execution_count": 3,
   "metadata": {
    "ExecuteTime": {
     "end_time": "2020-09-01T01:47:32.990850Z",
     "start_time": "2020-09-01T01:47:32.987814Z"
    }
   },
   "outputs": [],
   "source": [
    "from datetime import datetime as dt, timedelta as td\n",
    "contract = Stock('SPY', 'SMART', 'USD')\n",
    "# def getTicks(date):\n",
    "date = dt.now()\n",
    "start = ''\n",
    "end = \"20200828 11:41:41\""
   ]
  },
  {
   "cell_type": "code",
   "execution_count": 4,
   "metadata": {
    "ExecuteTime": {
     "end_time": "2020-09-01T01:59:09.809364Z",
     "start_time": "2020-09-01T01:47:56.083911Z"
    },
    "scrolled": true
   },
   "outputs": [
    {
     "data": {
      "text/plain": [
       "Timestamp('2020-08-28 18:12:57-0400', tz='America/Toronto')"
      ]
     },
     "metadata": {},
     "output_type": "display_data"
    },
    {
     "name": "stdout",
     "output_type": "stream",
     "text": [
      "going  20200828 18:12:57\n"
     ]
    },
    {
     "data": {
      "text/plain": [
       "Timestamp('2020-08-28 17:03:18-0400', tz='America/Toronto')"
      ]
     },
     "metadata": {},
     "output_type": "display_data"
    },
    {
     "name": "stdout",
     "output_type": "stream",
     "text": [
      "going  20200828 17:03:18\n"
     ]
    },
    {
     "data": {
      "text/plain": [
       "Timestamp('2020-08-28 16:29:56-0400', tz='America/Toronto')"
      ]
     },
     "metadata": {},
     "output_type": "display_data"
    },
    {
     "name": "stdout",
     "output_type": "stream",
     "text": [
      "going  20200828 16:29:56\n"
     ]
    },
    {
     "data": {
      "text/plain": [
       "Timestamp('2020-08-28 16:11:19-0400', tz='America/Toronto')"
      ]
     },
     "metadata": {},
     "output_type": "display_data"
    },
    {
     "name": "stdout",
     "output_type": "stream",
     "text": [
      "going  20200828 16:11:19\n"
     ]
    },
    {
     "data": {
      "text/plain": [
       "Timestamp('2020-08-28 16:06:23-0400', tz='America/Toronto')"
      ]
     },
     "metadata": {},
     "output_type": "display_data"
    },
    {
     "name": "stdout",
     "output_type": "stream",
     "text": [
      "going  20200828 16:06:23\n"
     ]
    },
    {
     "data": {
      "text/plain": [
       "Timestamp('2020-08-28 16:02:47-0400', tz='America/Toronto')"
      ]
     },
     "metadata": {},
     "output_type": "display_data"
    },
    {
     "name": "stdout",
     "output_type": "stream",
     "text": [
      "going  20200828 16:02:47\n"
     ]
    },
    {
     "data": {
      "text/plain": [
       "Timestamp('2020-08-28 16:00:26-0400', tz='America/Toronto')"
      ]
     },
     "metadata": {},
     "output_type": "display_data"
    },
    {
     "name": "stdout",
     "output_type": "stream",
     "text": [
      "going  20200828 16:00:26\n"
     ]
    },
    {
     "data": {
      "text/plain": [
       "Timestamp('2020-08-28 15:59:59-0400', tz='America/Toronto')"
      ]
     },
     "metadata": {},
     "output_type": "display_data"
    },
    {
     "name": "stdout",
     "output_type": "stream",
     "text": [
      "going  20200828 15:59:59\n"
     ]
    },
    {
     "data": {
      "text/plain": [
       "Timestamp('2020-08-28 15:59:49-0400', tz='America/Toronto')"
      ]
     },
     "metadata": {},
     "output_type": "display_data"
    },
    {
     "name": "stdout",
     "output_type": "stream",
     "text": [
      "going  20200828 15:59:49\n"
     ]
    },
    {
     "data": {
      "text/plain": [
       "Timestamp('2020-08-28 15:59:33-0400', tz='America/Toronto')"
      ]
     },
     "metadata": {},
     "output_type": "display_data"
    },
    {
     "name": "stdout",
     "output_type": "stream",
     "text": [
      "going  20200828 15:59:33\n"
     ]
    },
    {
     "data": {
      "text/plain": [
       "Timestamp('2020-08-28 15:59:14-0400', tz='America/Toronto')"
      ]
     },
     "metadata": {},
     "output_type": "display_data"
    },
    {
     "name": "stdout",
     "output_type": "stream",
     "text": [
      "going  20200828 15:59:14\n"
     ]
    },
    {
     "data": {
      "text/plain": [
       "Timestamp('2020-08-28 15:59:00-0400', tz='America/Toronto')"
      ]
     },
     "metadata": {},
     "output_type": "display_data"
    },
    {
     "name": "stdout",
     "output_type": "stream",
     "text": [
      "going  20200828 15:59:00\n"
     ]
    },
    {
     "data": {
      "text/plain": [
       "Timestamp('2020-08-28 15:58:40-0400', tz='America/Toronto')"
      ]
     },
     "metadata": {},
     "output_type": "display_data"
    },
    {
     "name": "stdout",
     "output_type": "stream",
     "text": [
      "going  20200828 15:58:40\n"
     ]
    },
    {
     "data": {
      "text/plain": [
       "Timestamp('2020-08-28 15:58:15-0400', tz='America/Toronto')"
      ]
     },
     "metadata": {},
     "output_type": "display_data"
    },
    {
     "name": "stdout",
     "output_type": "stream",
     "text": [
      "going  20200828 15:58:15\n"
     ]
    },
    {
     "data": {
      "text/plain": [
       "Timestamp('2020-08-28 15:57:44-0400', tz='America/Toronto')"
      ]
     },
     "metadata": {},
     "output_type": "display_data"
    },
    {
     "name": "stdout",
     "output_type": "stream",
     "text": [
      "going  20200828 15:57:44\n"
     ]
    },
    {
     "data": {
      "text/plain": [
       "Timestamp('2020-08-28 15:57:12-0400', tz='America/Toronto')"
      ]
     },
     "metadata": {},
     "output_type": "display_data"
    },
    {
     "name": "stdout",
     "output_type": "stream",
     "text": [
      "going  20200828 15:57:12\n"
     ]
    },
    {
     "data": {
      "text/plain": [
       "Timestamp('2020-08-28 15:56:35-0400', tz='America/Toronto')"
      ]
     },
     "metadata": {},
     "output_type": "display_data"
    },
    {
     "name": "stdout",
     "output_type": "stream",
     "text": [
      "going  20200828 15:56:35\n"
     ]
    },
    {
     "data": {
      "text/plain": [
       "Timestamp('2020-08-28 15:56:12-0400', tz='America/Toronto')"
      ]
     },
     "metadata": {},
     "output_type": "display_data"
    },
    {
     "name": "stdout",
     "output_type": "stream",
     "text": [
      "going  20200828 15:56:12\n"
     ]
    },
    {
     "data": {
      "text/plain": [
       "Timestamp('2020-08-28 15:55:42-0400', tz='America/Toronto')"
      ]
     },
     "metadata": {},
     "output_type": "display_data"
    },
    {
     "name": "stdout",
     "output_type": "stream",
     "text": [
      "going  20200828 15:55:42\n"
     ]
    },
    {
     "data": {
      "text/plain": [
       "Timestamp('2020-08-28 15:55:22-0400', tz='America/Toronto')"
      ]
     },
     "metadata": {},
     "output_type": "display_data"
    },
    {
     "name": "stdout",
     "output_type": "stream",
     "text": [
      "going  20200828 15:55:22\n"
     ]
    },
    {
     "data": {
      "text/plain": [
       "Timestamp('2020-08-28 15:54:54-0400', tz='America/Toronto')"
      ]
     },
     "metadata": {},
     "output_type": "display_data"
    },
    {
     "name": "stdout",
     "output_type": "stream",
     "text": [
      "going  20200828 15:54:54\n"
     ]
    },
    {
     "data": {
      "text/plain": [
       "Timestamp('2020-08-28 15:54:33-0400', tz='America/Toronto')"
      ]
     },
     "metadata": {},
     "output_type": "display_data"
    },
    {
     "name": "stdout",
     "output_type": "stream",
     "text": [
      "going  20200828 15:54:33\n"
     ]
    },
    {
     "data": {
      "text/plain": [
       "Timestamp('2020-08-28 15:54:13-0400', tz='America/Toronto')"
      ]
     },
     "metadata": {},
     "output_type": "display_data"
    },
    {
     "name": "stdout",
     "output_type": "stream",
     "text": [
      "going  20200828 15:54:13\n"
     ]
    },
    {
     "data": {
      "text/plain": [
       "Timestamp('2020-08-28 15:53:44-0400', tz='America/Toronto')"
      ]
     },
     "metadata": {},
     "output_type": "display_data"
    },
    {
     "name": "stdout",
     "output_type": "stream",
     "text": [
      "going  20200828 15:53:44\n"
     ]
    },
    {
     "data": {
      "text/plain": [
       "Timestamp('2020-08-28 15:53:10-0400', tz='America/Toronto')"
      ]
     },
     "metadata": {},
     "output_type": "display_data"
    },
    {
     "name": "stdout",
     "output_type": "stream",
     "text": [
      "going  20200828 15:53:10\n"
     ]
    },
    {
     "data": {
      "text/plain": [
       "Timestamp('2020-08-28 15:52:46-0400', tz='America/Toronto')"
      ]
     },
     "metadata": {},
     "output_type": "display_data"
    },
    {
     "name": "stdout",
     "output_type": "stream",
     "text": [
      "going  20200828 15:52:46\n"
     ]
    },
    {
     "data": {
      "text/plain": [
       "Timestamp('2020-08-28 15:52:28-0400', tz='America/Toronto')"
      ]
     },
     "metadata": {},
     "output_type": "display_data"
    },
    {
     "name": "stdout",
     "output_type": "stream",
     "text": [
      "going  20200828 15:52:28\n"
     ]
    },
    {
     "data": {
      "text/plain": [
       "Timestamp('2020-08-28 15:52:05-0400', tz='America/Toronto')"
      ]
     },
     "metadata": {},
     "output_type": "display_data"
    },
    {
     "name": "stdout",
     "output_type": "stream",
     "text": [
      "going  20200828 15:52:05\n"
     ]
    },
    {
     "data": {
      "text/plain": [
       "Timestamp('2020-08-28 15:51:40-0400', tz='America/Toronto')"
      ]
     },
     "metadata": {},
     "output_type": "display_data"
    },
    {
     "name": "stdout",
     "output_type": "stream",
     "text": [
      "going  20200828 15:51:40\n"
     ]
    },
    {
     "data": {
      "text/plain": [
       "Timestamp('2020-08-28 15:51:18-0400', tz='America/Toronto')"
      ]
     },
     "metadata": {},
     "output_type": "display_data"
    },
    {
     "name": "stdout",
     "output_type": "stream",
     "text": [
      "going  20200828 15:51:18\n"
     ]
    },
    {
     "data": {
      "text/plain": [
       "Timestamp('2020-08-28 15:50:59-0400', tz='America/Toronto')"
      ]
     },
     "metadata": {},
     "output_type": "display_data"
    },
    {
     "name": "stdout",
     "output_type": "stream",
     "text": [
      "going  20200828 15:50:59\n"
     ]
    },
    {
     "data": {
      "text/plain": [
       "Timestamp('2020-08-28 15:50:36-0400', tz='America/Toronto')"
      ]
     },
     "metadata": {},
     "output_type": "display_data"
    },
    {
     "name": "stdout",
     "output_type": "stream",
     "text": [
      "going  20200828 15:50:36\n"
     ]
    },
    {
     "data": {
      "text/plain": [
       "Timestamp('2020-08-28 15:50:03-0400', tz='America/Toronto')"
      ]
     },
     "metadata": {},
     "output_type": "display_data"
    },
    {
     "name": "stdout",
     "output_type": "stream",
     "text": [
      "going  20200828 15:50:03\n"
     ]
    },
    {
     "data": {
      "text/plain": [
       "Timestamp('2020-08-28 15:50:00-0400', tz='America/Toronto')"
      ]
     },
     "metadata": {},
     "output_type": "display_data"
    },
    {
     "name": "stdout",
     "output_type": "stream",
     "text": [
      "going  20200828 15:50:00\n"
     ]
    },
    {
     "data": {
      "text/plain": [
       "Timestamp('2020-08-28 15:49:16-0400', tz='America/Toronto')"
      ]
     },
     "metadata": {},
     "output_type": "display_data"
    },
    {
     "name": "stdout",
     "output_type": "stream",
     "text": [
      "going  20200828 15:49:16\n"
     ]
    },
    {
     "data": {
      "text/plain": [
       "Timestamp('2020-08-28 15:48:32-0400', tz='America/Toronto')"
      ]
     },
     "metadata": {},
     "output_type": "display_data"
    },
    {
     "name": "stdout",
     "output_type": "stream",
     "text": [
      "going  20200828 15:48:32\n"
     ]
    },
    {
     "data": {
      "text/plain": [
       "Timestamp('2020-08-28 15:47:44-0400', tz='America/Toronto')"
      ]
     },
     "metadata": {},
     "output_type": "display_data"
    },
    {
     "name": "stdout",
     "output_type": "stream",
     "text": [
      "going  20200828 15:47:44\n"
     ]
    },
    {
     "data": {
      "text/plain": [
       "Timestamp('2020-08-28 15:46:41-0400', tz='America/Toronto')"
      ]
     },
     "metadata": {},
     "output_type": "display_data"
    },
    {
     "name": "stdout",
     "output_type": "stream",
     "text": [
      "going  20200828 15:46:41\n"
     ]
    },
    {
     "data": {
      "text/plain": [
       "Timestamp('2020-08-28 15:45:36-0400', tz='America/Toronto')"
      ]
     },
     "metadata": {},
     "output_type": "display_data"
    },
    {
     "name": "stdout",
     "output_type": "stream",
     "text": [
      "going  20200828 15:45:36\n"
     ]
    },
    {
     "data": {
      "text/plain": [
       "Timestamp('2020-08-28 15:44:32-0400', tz='America/Toronto')"
      ]
     },
     "metadata": {},
     "output_type": "display_data"
    },
    {
     "name": "stdout",
     "output_type": "stream",
     "text": [
      "going  20200828 15:44:32\n"
     ]
    },
    {
     "data": {
      "text/plain": [
       "Timestamp('2020-08-28 15:43:26-0400', tz='America/Toronto')"
      ]
     },
     "metadata": {},
     "output_type": "display_data"
    },
    {
     "name": "stdout",
     "output_type": "stream",
     "text": [
      "going  20200828 15:43:26\n"
     ]
    },
    {
     "data": {
      "text/plain": [
       "Timestamp('2020-08-28 15:42:06-0400', tz='America/Toronto')"
      ]
     },
     "metadata": {},
     "output_type": "display_data"
    },
    {
     "name": "stdout",
     "output_type": "stream",
     "text": [
      "going  20200828 15:42:06\n"
     ]
    },
    {
     "data": {
      "text/plain": [
       "Timestamp('2020-08-28 15:40:49-0400', tz='America/Toronto')"
      ]
     },
     "metadata": {},
     "output_type": "display_data"
    },
    {
     "name": "stdout",
     "output_type": "stream",
     "text": [
      "going  20200828 15:40:49\n"
     ]
    },
    {
     "data": {
      "text/plain": [
       "Timestamp('2020-08-28 15:39:49-0400', tz='America/Toronto')"
      ]
     },
     "metadata": {},
     "output_type": "display_data"
    },
    {
     "name": "stdout",
     "output_type": "stream",
     "text": [
      "going  20200828 15:39:49\n"
     ]
    },
    {
     "data": {
      "text/plain": [
       "Timestamp('2020-08-28 15:38:11-0400', tz='America/Toronto')"
      ]
     },
     "metadata": {},
     "output_type": "display_data"
    },
    {
     "name": "stdout",
     "output_type": "stream",
     "text": [
      "going  20200828 15:38:11\n"
     ]
    },
    {
     "data": {
      "text/plain": [
       "Timestamp('2020-08-28 15:36:57-0400', tz='America/Toronto')"
      ]
     },
     "metadata": {},
     "output_type": "display_data"
    },
    {
     "name": "stdout",
     "output_type": "stream",
     "text": [
      "going  20200828 15:36:57\n"
     ]
    },
    {
     "data": {
      "text/plain": [
       "Timestamp('2020-08-28 15:35:43-0400', tz='America/Toronto')"
      ]
     },
     "metadata": {},
     "output_type": "display_data"
    },
    {
     "name": "stdout",
     "output_type": "stream",
     "text": [
      "going  20200828 15:35:43\n"
     ]
    },
    {
     "data": {
      "text/plain": [
       "Timestamp('2020-08-28 15:34:48-0400', tz='America/Toronto')"
      ]
     },
     "metadata": {},
     "output_type": "display_data"
    },
    {
     "name": "stdout",
     "output_type": "stream",
     "text": [
      "going  20200828 15:34:48\n"
     ]
    },
    {
     "data": {
      "text/plain": [
       "Timestamp('2020-08-28 15:33:39-0400', tz='America/Toronto')"
      ]
     },
     "metadata": {},
     "output_type": "display_data"
    },
    {
     "name": "stdout",
     "output_type": "stream",
     "text": [
      "going  20200828 15:33:39\n"
     ]
    },
    {
     "data": {
      "text/plain": [
       "Timestamp('2020-08-28 15:32:33-0400', tz='America/Toronto')"
      ]
     },
     "metadata": {},
     "output_type": "display_data"
    },
    {
     "name": "stdout",
     "output_type": "stream",
     "text": [
      "going  20200828 15:32:33\n"
     ]
    },
    {
     "data": {
      "text/plain": [
       "Timestamp('2020-08-28 15:31:22-0400', tz='America/Toronto')"
      ]
     },
     "metadata": {},
     "output_type": "display_data"
    },
    {
     "name": "stdout",
     "output_type": "stream",
     "text": [
      "going  20200828 15:31:22\n"
     ]
    },
    {
     "data": {
      "text/plain": [
       "Timestamp('2020-08-28 15:30:43-0400', tz='America/Toronto')"
      ]
     },
     "metadata": {},
     "output_type": "display_data"
    },
    {
     "name": "stdout",
     "output_type": "stream",
     "text": [
      "going  20200828 15:30:43\n"
     ]
    },
    {
     "data": {
      "text/plain": [
       "Timestamp('2020-08-28 15:29:55-0400', tz='America/Toronto')"
      ]
     },
     "metadata": {},
     "output_type": "display_data"
    },
    {
     "name": "stdout",
     "output_type": "stream",
     "text": [
      "going  20200828 15:29:55\n"
     ]
    },
    {
     "data": {
      "text/plain": [
       "Timestamp('2020-08-28 15:28:43-0400', tz='America/Toronto')"
      ]
     },
     "metadata": {},
     "output_type": "display_data"
    },
    {
     "name": "stdout",
     "output_type": "stream",
     "text": [
      "going  20200828 15:28:43\n"
     ]
    },
    {
     "data": {
      "text/plain": [
       "Timestamp('2020-08-28 15:27:41-0400', tz='America/Toronto')"
      ]
     },
     "metadata": {},
     "output_type": "display_data"
    },
    {
     "name": "stdout",
     "output_type": "stream",
     "text": [
      "going  20200828 15:27:41\n"
     ]
    },
    {
     "data": {
      "text/plain": [
       "Timestamp('2020-08-28 15:26:25-0400', tz='America/Toronto')"
      ]
     },
     "metadata": {},
     "output_type": "display_data"
    },
    {
     "name": "stdout",
     "output_type": "stream",
     "text": [
      "going  20200828 15:26:25\n"
     ]
    },
    {
     "data": {
      "text/plain": [
       "Timestamp('2020-08-28 15:25:03-0400', tz='America/Toronto')"
      ]
     },
     "metadata": {},
     "output_type": "display_data"
    },
    {
     "name": "stdout",
     "output_type": "stream",
     "text": [
      "going  20200828 15:25:03\n"
     ]
    },
    {
     "data": {
      "text/plain": [
       "Timestamp('2020-08-28 15:23:55-0400', tz='America/Toronto')"
      ]
     },
     "metadata": {},
     "output_type": "display_data"
    },
    {
     "name": "stdout",
     "output_type": "stream",
     "text": [
      "going  20200828 15:23:55\n"
     ]
    },
    {
     "data": {
      "text/plain": [
       "Timestamp('2020-08-28 15:22:53-0400', tz='America/Toronto')"
      ]
     },
     "metadata": {},
     "output_type": "display_data"
    },
    {
     "name": "stdout",
     "output_type": "stream",
     "text": [
      "going  20200828 15:22:53\n"
     ]
    },
    {
     "data": {
      "text/plain": [
       "Timestamp('2020-08-28 15:21:44-0400', tz='America/Toronto')"
      ]
     },
     "metadata": {},
     "output_type": "display_data"
    },
    {
     "name": "stdout",
     "output_type": "stream",
     "text": [
      "going  20200828 15:21:44\n"
     ]
    },
    {
     "data": {
      "text/plain": [
       "Timestamp('2020-08-28 15:20:33-0400', tz='America/Toronto')"
      ]
     },
     "metadata": {},
     "output_type": "display_data"
    },
    {
     "name": "stdout",
     "output_type": "stream",
     "text": [
      "going  20200828 15:20:33\n"
     ]
    },
    {
     "data": {
      "text/plain": [
       "Timestamp('2020-08-28 15:19:12-0400', tz='America/Toronto')"
      ]
     },
     "metadata": {},
     "output_type": "display_data"
    },
    {
     "name": "stdout",
     "output_type": "stream",
     "text": [
      "going  20200828 15:19:12\n"
     ]
    },
    {
     "data": {
      "text/plain": [
       "Timestamp('2020-08-28 15:18:22-0400', tz='America/Toronto')"
      ]
     },
     "metadata": {},
     "output_type": "display_data"
    },
    {
     "name": "stdout",
     "output_type": "stream",
     "text": [
      "going  20200828 15:18:22\n"
     ]
    },
    {
     "data": {
      "text/plain": [
       "Timestamp('2020-08-28 15:17:00-0400', tz='America/Toronto')"
      ]
     },
     "metadata": {},
     "output_type": "display_data"
    },
    {
     "name": "stdout",
     "output_type": "stream",
     "text": [
      "going  20200828 15:17:00\n"
     ]
    },
    {
     "data": {
      "text/plain": [
       "Timestamp('2020-08-28 15:15:45-0400', tz='America/Toronto')"
      ]
     },
     "metadata": {},
     "output_type": "display_data"
    },
    {
     "name": "stdout",
     "output_type": "stream",
     "text": [
      "going  20200828 15:15:45\n"
     ]
    },
    {
     "data": {
      "text/plain": [
       "Timestamp('2020-08-28 15:14:53-0400', tz='America/Toronto')"
      ]
     },
     "metadata": {},
     "output_type": "display_data"
    },
    {
     "name": "stdout",
     "output_type": "stream",
     "text": [
      "going  20200828 15:14:53\n"
     ]
    },
    {
     "data": {
      "text/plain": [
       "Timestamp('2020-08-28 15:13:46-0400', tz='America/Toronto')"
      ]
     },
     "metadata": {},
     "output_type": "display_data"
    },
    {
     "name": "stdout",
     "output_type": "stream",
     "text": [
      "going  20200828 15:13:46\n"
     ]
    },
    {
     "data": {
      "text/plain": [
       "Timestamp('2020-08-28 15:13:03-0400', tz='America/Toronto')"
      ]
     },
     "metadata": {},
     "output_type": "display_data"
    },
    {
     "name": "stdout",
     "output_type": "stream",
     "text": [
      "going  20200828 15:13:03\n"
     ]
    },
    {
     "data": {
      "text/plain": [
       "Timestamp('2020-08-28 15:12:15-0400', tz='America/Toronto')"
      ]
     },
     "metadata": {},
     "output_type": "display_data"
    },
    {
     "name": "stdout",
     "output_type": "stream",
     "text": [
      "going  20200828 15:12:15\n"
     ]
    },
    {
     "data": {
      "text/plain": [
       "Timestamp('2020-08-28 15:11:32-0400', tz='America/Toronto')"
      ]
     },
     "metadata": {},
     "output_type": "display_data"
    },
    {
     "name": "stdout",
     "output_type": "stream",
     "text": [
      "going  20200828 15:11:32\n"
     ]
    },
    {
     "data": {
      "text/plain": [
       "Timestamp('2020-08-28 15:10:18-0400', tz='America/Toronto')"
      ]
     },
     "metadata": {},
     "output_type": "display_data"
    },
    {
     "name": "stdout",
     "output_type": "stream",
     "text": [
      "going  20200828 15:10:18\n"
     ]
    },
    {
     "data": {
      "text/plain": [
       "Timestamp('2020-08-28 15:08:55-0400', tz='America/Toronto')"
      ]
     },
     "metadata": {},
     "output_type": "display_data"
    },
    {
     "name": "stdout",
     "output_type": "stream",
     "text": [
      "going  20200828 15:08:55\n"
     ]
    },
    {
     "data": {
      "text/plain": [
       "Timestamp('2020-08-28 15:08:15-0400', tz='America/Toronto')"
      ]
     },
     "metadata": {},
     "output_type": "display_data"
    },
    {
     "name": "stdout",
     "output_type": "stream",
     "text": [
      "going  20200828 15:08:15\n"
     ]
    },
    {
     "data": {
      "text/plain": [
       "Timestamp('2020-08-28 15:07:36-0400', tz='America/Toronto')"
      ]
     },
     "metadata": {},
     "output_type": "display_data"
    },
    {
     "name": "stdout",
     "output_type": "stream",
     "text": [
      "going  20200828 15:07:36\n"
     ]
    },
    {
     "data": {
      "text/plain": [
       "Timestamp('2020-08-28 15:06:39-0400', tz='America/Toronto')"
      ]
     },
     "metadata": {},
     "output_type": "display_data"
    },
    {
     "name": "stdout",
     "output_type": "stream",
     "text": [
      "going  20200828 15:06:39\n"
     ]
    },
    {
     "data": {
      "text/plain": [
       "Timestamp('2020-08-28 15:05:04-0400', tz='America/Toronto')"
      ]
     },
     "metadata": {},
     "output_type": "display_data"
    },
    {
     "name": "stdout",
     "output_type": "stream",
     "text": [
      "going  20200828 15:05:04\n"
     ]
    },
    {
     "data": {
      "text/plain": [
       "Timestamp('2020-08-28 15:03:50-0400', tz='America/Toronto')"
      ]
     },
     "metadata": {},
     "output_type": "display_data"
    },
    {
     "name": "stdout",
     "output_type": "stream",
     "text": [
      "going  20200828 15:03:50\n"
     ]
    },
    {
     "data": {
      "text/plain": [
       "Timestamp('2020-08-28 15:02:15-0400', tz='America/Toronto')"
      ]
     },
     "metadata": {},
     "output_type": "display_data"
    },
    {
     "name": "stdout",
     "output_type": "stream",
     "text": [
      "going  20200828 15:02:15\n"
     ]
    },
    {
     "data": {
      "text/plain": [
       "Timestamp('2020-08-28 15:01:07-0400', tz='America/Toronto')"
      ]
     },
     "metadata": {},
     "output_type": "display_data"
    },
    {
     "name": "stdout",
     "output_type": "stream",
     "text": [
      "going  20200828 15:01:07\n"
     ]
    },
    {
     "data": {
      "text/plain": [
       "Timestamp('2020-08-28 14:59:57-0400', tz='America/Toronto')"
      ]
     },
     "metadata": {},
     "output_type": "display_data"
    },
    {
     "name": "stdout",
     "output_type": "stream",
     "text": [
      "going  20200828 14:59:57\n"
     ]
    },
    {
     "data": {
      "text/plain": [
       "Timestamp('2020-08-28 14:58:14-0400', tz='America/Toronto')"
      ]
     },
     "metadata": {},
     "output_type": "display_data"
    },
    {
     "name": "stdout",
     "output_type": "stream",
     "text": [
      "going  20200828 14:58:14\n"
     ]
    },
    {
     "data": {
      "text/plain": [
       "Timestamp('2020-08-28 14:56:57-0400', tz='America/Toronto')"
      ]
     },
     "metadata": {},
     "output_type": "display_data"
    },
    {
     "name": "stdout",
     "output_type": "stream",
     "text": [
      "going  20200828 14:56:57\n"
     ]
    },
    {
     "data": {
      "text/plain": [
       "Timestamp('2020-08-28 14:55:05-0400', tz='America/Toronto')"
      ]
     },
     "metadata": {},
     "output_type": "display_data"
    },
    {
     "name": "stdout",
     "output_type": "stream",
     "text": [
      "going  20200828 14:55:05\n"
     ]
    },
    {
     "data": {
      "text/plain": [
       "Timestamp('2020-08-28 14:53:47-0400', tz='America/Toronto')"
      ]
     },
     "metadata": {},
     "output_type": "display_data"
    },
    {
     "name": "stdout",
     "output_type": "stream",
     "text": [
      "going  20200828 14:53:47\n"
     ]
    },
    {
     "data": {
      "text/plain": [
       "Timestamp('2020-08-28 14:52:17-0400', tz='America/Toronto')"
      ]
     },
     "metadata": {},
     "output_type": "display_data"
    },
    {
     "name": "stdout",
     "output_type": "stream",
     "text": [
      "going  20200828 14:52:17\n"
     ]
    },
    {
     "data": {
      "text/plain": [
       "Timestamp('2020-08-28 14:50:38-0400', tz='America/Toronto')"
      ]
     },
     "metadata": {},
     "output_type": "display_data"
    },
    {
     "name": "stdout",
     "output_type": "stream",
     "text": [
      "going  20200828 14:50:38\n"
     ]
    },
    {
     "data": {
      "text/plain": [
       "Timestamp('2020-08-28 14:49:33-0400', tz='America/Toronto')"
      ]
     },
     "metadata": {},
     "output_type": "display_data"
    },
    {
     "name": "stdout",
     "output_type": "stream",
     "text": [
      "going  20200828 14:49:33\n"
     ]
    },
    {
     "data": {
      "text/plain": [
       "Timestamp('2020-08-28 14:49:00-0400', tz='America/Toronto')"
      ]
     },
     "metadata": {},
     "output_type": "display_data"
    },
    {
     "name": "stdout",
     "output_type": "stream",
     "text": [
      "going  20200828 14:49:00\n"
     ]
    },
    {
     "data": {
      "text/plain": [
       "Timestamp('2020-08-28 14:48:15-0400', tz='America/Toronto')"
      ]
     },
     "metadata": {},
     "output_type": "display_data"
    },
    {
     "name": "stdout",
     "output_type": "stream",
     "text": [
      "going  20200828 14:48:15\n"
     ]
    },
    {
     "data": {
      "text/plain": [
       "Timestamp('2020-08-28 14:46:04-0400', tz='America/Toronto')"
      ]
     },
     "metadata": {},
     "output_type": "display_data"
    },
    {
     "name": "stdout",
     "output_type": "stream",
     "text": [
      "going  20200828 14:46:04\n"
     ]
    },
    {
     "data": {
      "text/plain": [
       "Timestamp('2020-08-28 14:43:31-0400', tz='America/Toronto')"
      ]
     },
     "metadata": {},
     "output_type": "display_data"
    },
    {
     "name": "stdout",
     "output_type": "stream",
     "text": [
      "going  20200828 14:43:31\n"
     ]
    },
    {
     "data": {
      "text/plain": [
       "Timestamp('2020-08-28 14:40:45-0400', tz='America/Toronto')"
      ]
     },
     "metadata": {},
     "output_type": "display_data"
    },
    {
     "name": "stdout",
     "output_type": "stream",
     "text": [
      "going  20200828 14:40:45\n"
     ]
    },
    {
     "data": {
      "text/plain": [
       "Timestamp('2020-08-28 14:39:06-0400', tz='America/Toronto')"
      ]
     },
     "metadata": {},
     "output_type": "display_data"
    },
    {
     "name": "stdout",
     "output_type": "stream",
     "text": [
      "going  20200828 14:39:06\n"
     ]
    },
    {
     "data": {
      "text/plain": [
       "Timestamp('2020-08-28 14:36:24-0400', tz='America/Toronto')"
      ]
     },
     "metadata": {},
     "output_type": "display_data"
    },
    {
     "name": "stdout",
     "output_type": "stream",
     "text": [
      "going  20200828 14:36:24\n"
     ]
    },
    {
     "data": {
      "text/plain": [
       "Timestamp('2020-08-28 14:33:44-0400', tz='America/Toronto')"
      ]
     },
     "metadata": {},
     "output_type": "display_data"
    },
    {
     "name": "stdout",
     "output_type": "stream",
     "text": [
      "going  20200828 14:33:44\n"
     ]
    },
    {
     "data": {
      "text/plain": [
       "Timestamp('2020-08-28 14:32:04-0400', tz='America/Toronto')"
      ]
     },
     "metadata": {},
     "output_type": "display_data"
    },
    {
     "name": "stdout",
     "output_type": "stream",
     "text": [
      "going  20200828 14:32:04\n"
     ]
    },
    {
     "data": {
      "text/plain": [
       "Timestamp('2020-08-28 14:29:57-0400', tz='America/Toronto')"
      ]
     },
     "metadata": {},
     "output_type": "display_data"
    },
    {
     "name": "stdout",
     "output_type": "stream",
     "text": [
      "going  20200828 14:29:57\n"
     ]
    },
    {
     "data": {
      "text/plain": [
       "Timestamp('2020-08-28 14:27:54-0400', tz='America/Toronto')"
      ]
     },
     "metadata": {},
     "output_type": "display_data"
    },
    {
     "name": "stdout",
     "output_type": "stream",
     "text": [
      "going  20200828 14:27:54\n"
     ]
    },
    {
     "data": {
      "text/plain": [
       "Timestamp('2020-08-28 14:25:35-0400', tz='America/Toronto')"
      ]
     },
     "metadata": {},
     "output_type": "display_data"
    },
    {
     "name": "stdout",
     "output_type": "stream",
     "text": [
      "going  20200828 14:25:35\n"
     ]
    },
    {
     "data": {
      "text/plain": [
       "Timestamp('2020-08-28 14:23:25-0400', tz='America/Toronto')"
      ]
     },
     "metadata": {},
     "output_type": "display_data"
    },
    {
     "name": "stdout",
     "output_type": "stream",
     "text": [
      "going  20200828 14:23:25\n"
     ]
    },
    {
     "data": {
      "text/plain": [
       "Timestamp('2020-08-28 14:21:21-0400', tz='America/Toronto')"
      ]
     },
     "metadata": {},
     "output_type": "display_data"
    },
    {
     "name": "stdout",
     "output_type": "stream",
     "text": [
      "going  20200828 14:21:21\n"
     ]
    },
    {
     "data": {
      "text/plain": [
       "Timestamp('2020-08-28 14:20:05-0400', tz='America/Toronto')"
      ]
     },
     "metadata": {},
     "output_type": "display_data"
    },
    {
     "name": "stdout",
     "output_type": "stream",
     "text": [
      "going  20200828 14:20:05\n"
     ]
    },
    {
     "data": {
      "text/plain": [
       "Timestamp('2020-08-28 14:18:09-0400', tz='America/Toronto')"
      ]
     },
     "metadata": {},
     "output_type": "display_data"
    },
    {
     "name": "stdout",
     "output_type": "stream",
     "text": [
      "going  20200828 14:18:09\n"
     ]
    },
    {
     "data": {
      "text/plain": [
       "Timestamp('2020-08-28 14:15:41-0400', tz='America/Toronto')"
      ]
     },
     "metadata": {},
     "output_type": "display_data"
    },
    {
     "name": "stdout",
     "output_type": "stream",
     "text": [
      "going  20200828 14:15:41\n"
     ]
    },
    {
     "data": {
      "text/plain": [
       "Timestamp('2020-08-28 14:13:13-0400', tz='America/Toronto')"
      ]
     },
     "metadata": {},
     "output_type": "display_data"
    },
    {
     "name": "stdout",
     "output_type": "stream",
     "text": [
      "going  20200828 14:13:13\n"
     ]
    },
    {
     "data": {
      "text/plain": [
       "Timestamp('2020-08-28 14:10:27-0400', tz='America/Toronto')"
      ]
     },
     "metadata": {},
     "output_type": "display_data"
    },
    {
     "name": "stdout",
     "output_type": "stream",
     "text": [
      "going  20200828 14:10:27\n"
     ]
    },
    {
     "data": {
      "text/plain": [
       "Timestamp('2020-08-28 14:08:43-0400', tz='America/Toronto')"
      ]
     },
     "metadata": {},
     "output_type": "display_data"
    },
    {
     "name": "stdout",
     "output_type": "stream",
     "text": [
      "going  20200828 14:08:43\n"
     ]
    },
    {
     "data": {
      "text/plain": [
       "Timestamp('2020-08-28 14:07:20-0400', tz='America/Toronto')"
      ]
     },
     "metadata": {},
     "output_type": "display_data"
    },
    {
     "name": "stdout",
     "output_type": "stream",
     "text": [
      "going  20200828 14:07:20\n"
     ]
    },
    {
     "data": {
      "text/plain": [
       "Timestamp('2020-08-28 14:05:29-0400', tz='America/Toronto')"
      ]
     },
     "metadata": {},
     "output_type": "display_data"
    },
    {
     "name": "stdout",
     "output_type": "stream",
     "text": [
      "going  20200828 14:05:29\n"
     ]
    },
    {
     "data": {
      "text/plain": [
       "Timestamp('2020-08-28 14:04:42-0400', tz='America/Toronto')"
      ]
     },
     "metadata": {},
     "output_type": "display_data"
    },
    {
     "name": "stdout",
     "output_type": "stream",
     "text": [
      "going  20200828 14:04:42\n"
     ]
    },
    {
     "data": {
      "text/plain": [
       "Timestamp('2020-08-28 14:01:32-0400', tz='America/Toronto')"
      ]
     },
     "metadata": {},
     "output_type": "display_data"
    },
    {
     "name": "stdout",
     "output_type": "stream",
     "text": [
      "going  20200828 14:01:32\n"
     ]
    },
    {
     "data": {
      "text/plain": [
       "Timestamp('2020-08-28 13:59:07-0400', tz='America/Toronto')"
      ]
     },
     "metadata": {},
     "output_type": "display_data"
    },
    {
     "name": "stdout",
     "output_type": "stream",
     "text": [
      "going  20200828 13:59:07\n"
     ]
    },
    {
     "data": {
      "text/plain": [
       "Timestamp('2020-08-28 13:56:46-0400', tz='America/Toronto')"
      ]
     },
     "metadata": {},
     "output_type": "display_data"
    },
    {
     "name": "stdout",
     "output_type": "stream",
     "text": [
      "going  20200828 13:56:46\n"
     ]
    },
    {
     "data": {
      "text/plain": [
       "Timestamp('2020-08-28 13:54:42-0400', tz='America/Toronto')"
      ]
     },
     "metadata": {},
     "output_type": "display_data"
    },
    {
     "name": "stdout",
     "output_type": "stream",
     "text": [
      "going  20200828 13:54:42\n"
     ]
    },
    {
     "data": {
      "text/plain": [
       "Timestamp('2020-08-28 13:52:53-0400', tz='America/Toronto')"
      ]
     },
     "metadata": {},
     "output_type": "display_data"
    },
    {
     "name": "stdout",
     "output_type": "stream",
     "text": [
      "going  20200828 13:52:53\n"
     ]
    },
    {
     "data": {
      "text/plain": [
       "Timestamp('2020-08-28 13:50:04-0400', tz='America/Toronto')"
      ]
     },
     "metadata": {},
     "output_type": "display_data"
    },
    {
     "name": "stdout",
     "output_type": "stream",
     "text": [
      "going  20200828 13:50:04\n"
     ]
    },
    {
     "data": {
      "text/plain": [
       "Timestamp('2020-08-28 13:46:57-0400', tz='America/Toronto')"
      ]
     },
     "metadata": {},
     "output_type": "display_data"
    },
    {
     "name": "stdout",
     "output_type": "stream",
     "text": [
      "going  20200828 13:46:57\n"
     ]
    },
    {
     "data": {
      "text/plain": [
       "Timestamp('2020-08-28 13:44:20-0400', tz='America/Toronto')"
      ]
     },
     "metadata": {},
     "output_type": "display_data"
    },
    {
     "name": "stdout",
     "output_type": "stream",
     "text": [
      "going  20200828 13:44:20\n"
     ]
    },
    {
     "data": {
      "text/plain": [
       "Timestamp('2020-08-28 13:41:52-0400', tz='America/Toronto')"
      ]
     },
     "metadata": {},
     "output_type": "display_data"
    },
    {
     "name": "stdout",
     "output_type": "stream",
     "text": [
      "going  20200828 13:41:52\n"
     ]
    },
    {
     "data": {
      "text/plain": [
       "Timestamp('2020-08-28 13:40:28-0400', tz='America/Toronto')"
      ]
     },
     "metadata": {},
     "output_type": "display_data"
    },
    {
     "name": "stdout",
     "output_type": "stream",
     "text": [
      "going  20200828 13:40:28\n"
     ]
    },
    {
     "data": {
      "text/plain": [
       "Timestamp('2020-08-28 13:39:29-0400', tz='America/Toronto')"
      ]
     },
     "metadata": {},
     "output_type": "display_data"
    },
    {
     "name": "stdout",
     "output_type": "stream",
     "text": [
      "going  20200828 13:39:29\n"
     ]
    },
    {
     "data": {
      "text/plain": [
       "Timestamp('2020-08-28 13:36:49-0400', tz='America/Toronto')"
      ]
     },
     "metadata": {},
     "output_type": "display_data"
    },
    {
     "name": "stdout",
     "output_type": "stream",
     "text": [
      "going  20200828 13:36:49\n"
     ]
    },
    {
     "data": {
      "text/plain": [
       "Timestamp('2020-08-28 13:34:27-0400', tz='America/Toronto')"
      ]
     },
     "metadata": {},
     "output_type": "display_data"
    },
    {
     "name": "stdout",
     "output_type": "stream",
     "text": [
      "going  20200828 13:34:27\n"
     ]
    },
    {
     "data": {
      "text/plain": [
       "Timestamp('2020-08-28 13:32:07-0400', tz='America/Toronto')"
      ]
     },
     "metadata": {},
     "output_type": "display_data"
    },
    {
     "name": "stdout",
     "output_type": "stream",
     "text": [
      "going  20200828 13:32:07\n"
     ]
    },
    {
     "data": {
      "text/plain": [
       "Timestamp('2020-08-28 13:30:27-0400', tz='America/Toronto')"
      ]
     },
     "metadata": {},
     "output_type": "display_data"
    },
    {
     "name": "stdout",
     "output_type": "stream",
     "text": [
      "going  20200828 13:30:27\n"
     ]
    },
    {
     "data": {
      "text/plain": [
       "Timestamp('2020-08-28 13:28:48-0400', tz='America/Toronto')"
      ]
     },
     "metadata": {},
     "output_type": "display_data"
    },
    {
     "name": "stdout",
     "output_type": "stream",
     "text": [
      "going  20200828 13:28:48\n"
     ]
    },
    {
     "data": {
      "text/plain": [
       "Timestamp('2020-08-28 13:27:11-0400', tz='America/Toronto')"
      ]
     },
     "metadata": {},
     "output_type": "display_data"
    },
    {
     "name": "stdout",
     "output_type": "stream",
     "text": [
      "going  20200828 13:27:11\n"
     ]
    },
    {
     "data": {
      "text/plain": [
       "Timestamp('2020-08-28 13:25:00-0400', tz='America/Toronto')"
      ]
     },
     "metadata": {},
     "output_type": "display_data"
    },
    {
     "name": "stdout",
     "output_type": "stream",
     "text": [
      "going  20200828 13:25:00\n"
     ]
    },
    {
     "data": {
      "text/plain": [
       "Timestamp('2020-08-28 13:21:59-0400', tz='America/Toronto')"
      ]
     },
     "metadata": {},
     "output_type": "display_data"
    },
    {
     "name": "stdout",
     "output_type": "stream",
     "text": [
      "going  20200828 13:21:59\n"
     ]
    },
    {
     "data": {
      "text/plain": [
       "Timestamp('2020-08-28 13:18:17-0400', tz='America/Toronto')"
      ]
     },
     "metadata": {},
     "output_type": "display_data"
    },
    {
     "name": "stdout",
     "output_type": "stream",
     "text": [
      "going  20200828 13:18:17\n"
     ]
    },
    {
     "data": {
      "text/plain": [
       "Timestamp('2020-08-28 13:16:27-0400', tz='America/Toronto')"
      ]
     },
     "metadata": {},
     "output_type": "display_data"
    },
    {
     "name": "stdout",
     "output_type": "stream",
     "text": [
      "going  20200828 13:16:27\n"
     ]
    },
    {
     "data": {
      "text/plain": [
       "Timestamp('2020-08-28 13:14:51-0400', tz='America/Toronto')"
      ]
     },
     "metadata": {},
     "output_type": "display_data"
    },
    {
     "name": "stdout",
     "output_type": "stream",
     "text": [
      "going  20200828 13:14:51\n"
     ]
    },
    {
     "data": {
      "text/plain": [
       "Timestamp('2020-08-28 13:13:53-0400', tz='America/Toronto')"
      ]
     },
     "metadata": {},
     "output_type": "display_data"
    },
    {
     "name": "stdout",
     "output_type": "stream",
     "text": [
      "going  20200828 13:13:53\n"
     ]
    },
    {
     "data": {
      "text/plain": [
       "Timestamp('2020-08-28 13:11:45-0400', tz='America/Toronto')"
      ]
     },
     "metadata": {},
     "output_type": "display_data"
    },
    {
     "name": "stdout",
     "output_type": "stream",
     "text": [
      "going  20200828 13:11:45\n"
     ]
    },
    {
     "data": {
      "text/plain": [
       "Timestamp('2020-08-28 13:08:47-0400', tz='America/Toronto')"
      ]
     },
     "metadata": {},
     "output_type": "display_data"
    },
    {
     "name": "stdout",
     "output_type": "stream",
     "text": [
      "going  20200828 13:08:47\n"
     ]
    },
    {
     "data": {
      "text/plain": [
       "Timestamp('2020-08-28 13:06:12-0400', tz='America/Toronto')"
      ]
     },
     "metadata": {},
     "output_type": "display_data"
    },
    {
     "name": "stdout",
     "output_type": "stream",
     "text": [
      "going  20200828 13:06:12\n"
     ]
    },
    {
     "data": {
      "text/plain": [
       "Timestamp('2020-08-28 13:04:00-0400', tz='America/Toronto')"
      ]
     },
     "metadata": {},
     "output_type": "display_data"
    },
    {
     "name": "stdout",
     "output_type": "stream",
     "text": [
      "going  20200828 13:04:00\n"
     ]
    },
    {
     "data": {
      "text/plain": [
       "Timestamp('2020-08-28 13:01:51-0400', tz='America/Toronto')"
      ]
     },
     "metadata": {},
     "output_type": "display_data"
    },
    {
     "name": "stdout",
     "output_type": "stream",
     "text": [
      "going  20200828 13:01:51\n"
     ]
    },
    {
     "data": {
      "text/plain": [
       "Timestamp('2020-08-28 12:59:47-0400', tz='America/Toronto')"
      ]
     },
     "metadata": {},
     "output_type": "display_data"
    },
    {
     "name": "stdout",
     "output_type": "stream",
     "text": [
      "going  20200828 12:59:47\n"
     ]
    },
    {
     "data": {
      "text/plain": [
       "Timestamp('2020-08-28 12:57:33-0400', tz='America/Toronto')"
      ]
     },
     "metadata": {},
     "output_type": "display_data"
    },
    {
     "name": "stdout",
     "output_type": "stream",
     "text": [
      "going  20200828 12:57:33\n"
     ]
    },
    {
     "data": {
      "text/plain": [
       "Timestamp('2020-08-28 12:55:42-0400', tz='America/Toronto')"
      ]
     },
     "metadata": {},
     "output_type": "display_data"
    },
    {
     "name": "stdout",
     "output_type": "stream",
     "text": [
      "going  20200828 12:55:42\n"
     ]
    },
    {
     "data": {
      "text/plain": [
       "Timestamp('2020-08-28 12:54:08-0400', tz='America/Toronto')"
      ]
     },
     "metadata": {},
     "output_type": "display_data"
    },
    {
     "name": "stdout",
     "output_type": "stream",
     "text": [
      "going  20200828 12:54:08\n"
     ]
    },
    {
     "data": {
      "text/plain": [
       "Timestamp('2020-08-28 12:51:24-0400', tz='America/Toronto')"
      ]
     },
     "metadata": {},
     "output_type": "display_data"
    },
    {
     "name": "stdout",
     "output_type": "stream",
     "text": [
      "going  20200828 12:51:24\n"
     ]
    },
    {
     "data": {
      "text/plain": [
       "Timestamp('2020-08-28 12:49:34-0400', tz='America/Toronto')"
      ]
     },
     "metadata": {},
     "output_type": "display_data"
    },
    {
     "name": "stdout",
     "output_type": "stream",
     "text": [
      "going  20200828 12:49:34\n"
     ]
    },
    {
     "data": {
      "text/plain": [
       "Timestamp('2020-08-28 12:47:58-0400', tz='America/Toronto')"
      ]
     },
     "metadata": {},
     "output_type": "display_data"
    },
    {
     "name": "stdout",
     "output_type": "stream",
     "text": [
      "going  20200828 12:47:58\n"
     ]
    },
    {
     "data": {
      "text/plain": [
       "Timestamp('2020-08-28 12:45:02-0400', tz='America/Toronto')"
      ]
     },
     "metadata": {},
     "output_type": "display_data"
    },
    {
     "name": "stdout",
     "output_type": "stream",
     "text": [
      "going  20200828 12:45:02\n"
     ]
    },
    {
     "data": {
      "text/plain": [
       "Timestamp('2020-08-28 12:43:18-0400', tz='America/Toronto')"
      ]
     },
     "metadata": {},
     "output_type": "display_data"
    },
    {
     "name": "stdout",
     "output_type": "stream",
     "text": [
      "going  20200828 12:43:18\n"
     ]
    },
    {
     "data": {
      "text/plain": [
       "Timestamp('2020-08-28 12:41:14-0400', tz='America/Toronto')"
      ]
     },
     "metadata": {},
     "output_type": "display_data"
    },
    {
     "name": "stdout",
     "output_type": "stream",
     "text": [
      "going  20200828 12:41:14\n"
     ]
    },
    {
     "data": {
      "text/plain": [
       "Timestamp('2020-08-28 12:38:06-0400', tz='America/Toronto')"
      ]
     },
     "metadata": {},
     "output_type": "display_data"
    },
    {
     "name": "stdout",
     "output_type": "stream",
     "text": [
      "going  20200828 12:38:06\n"
     ]
    },
    {
     "data": {
      "text/plain": [
       "Timestamp('2020-08-28 12:35:24-0400', tz='America/Toronto')"
      ]
     },
     "metadata": {},
     "output_type": "display_data"
    },
    {
     "name": "stdout",
     "output_type": "stream",
     "text": [
      "going  20200828 12:35:24\n"
     ]
    },
    {
     "data": {
      "text/plain": [
       "Timestamp('2020-08-28 12:32:00-0400', tz='America/Toronto')"
      ]
     },
     "metadata": {},
     "output_type": "display_data"
    },
    {
     "name": "stdout",
     "output_type": "stream",
     "text": [
      "going  20200828 12:32:00\n"
     ]
    },
    {
     "data": {
      "text/plain": [
       "Timestamp('2020-08-28 12:27:48-0400', tz='America/Toronto')"
      ]
     },
     "metadata": {},
     "output_type": "display_data"
    },
    {
     "name": "stdout",
     "output_type": "stream",
     "text": [
      "going  20200828 12:27:48\n"
     ]
    },
    {
     "data": {
      "text/plain": [
       "Timestamp('2020-08-28 12:24:00-0400', tz='America/Toronto')"
      ]
     },
     "metadata": {},
     "output_type": "display_data"
    },
    {
     "name": "stdout",
     "output_type": "stream",
     "text": [
      "going  20200828 12:24:00\n"
     ]
    },
    {
     "data": {
      "text/plain": [
       "Timestamp('2020-08-28 12:21:55-0400', tz='America/Toronto')"
      ]
     },
     "metadata": {},
     "output_type": "display_data"
    },
    {
     "name": "stdout",
     "output_type": "stream",
     "text": [
      "going  20200828 12:21:55\n"
     ]
    },
    {
     "data": {
      "text/plain": [
       "Timestamp('2020-08-28 12:19:19-0400', tz='America/Toronto')"
      ]
     },
     "metadata": {},
     "output_type": "display_data"
    },
    {
     "name": "stdout",
     "output_type": "stream",
     "text": [
      "going  20200828 12:19:19\n"
     ]
    },
    {
     "data": {
      "text/plain": [
       "Timestamp('2020-08-28 12:16:35-0400', tz='America/Toronto')"
      ]
     },
     "metadata": {},
     "output_type": "display_data"
    },
    {
     "name": "stdout",
     "output_type": "stream",
     "text": [
      "going  20200828 12:16:35\n"
     ]
    },
    {
     "data": {
      "text/plain": [
       "Timestamp('2020-08-28 12:13:04-0400', tz='America/Toronto')"
      ]
     },
     "metadata": {},
     "output_type": "display_data"
    },
    {
     "name": "stdout",
     "output_type": "stream",
     "text": [
      "going  20200828 12:13:04\n"
     ]
    },
    {
     "data": {
      "text/plain": [
       "Timestamp('2020-08-28 12:10:13-0400', tz='America/Toronto')"
      ]
     },
     "metadata": {},
     "output_type": "display_data"
    },
    {
     "name": "stdout",
     "output_type": "stream",
     "text": [
      "going  20200828 12:10:13\n"
     ]
    },
    {
     "data": {
      "text/plain": [
       "Timestamp('2020-08-28 12:07:37-0400', tz='America/Toronto')"
      ]
     },
     "metadata": {},
     "output_type": "display_data"
    },
    {
     "name": "stdout",
     "output_type": "stream",
     "text": [
      "going  20200828 12:07:37\n"
     ]
    },
    {
     "data": {
      "text/plain": [
       "Timestamp('2020-08-28 12:04:25-0400', tz='America/Toronto')"
      ]
     },
     "metadata": {},
     "output_type": "display_data"
    },
    {
     "name": "stdout",
     "output_type": "stream",
     "text": [
      "going  20200828 12:04:25\n"
     ]
    },
    {
     "data": {
      "text/plain": [
       "Timestamp('2020-08-28 12:00:58-0400', tz='America/Toronto')"
      ]
     },
     "metadata": {},
     "output_type": "display_data"
    },
    {
     "name": "stdout",
     "output_type": "stream",
     "text": [
      "going  20200828 12:00:58\n"
     ]
    },
    {
     "data": {
      "text/plain": [
       "Timestamp('2020-08-28 11:58:47-0400', tz='America/Toronto')"
      ]
     },
     "metadata": {},
     "output_type": "display_data"
    },
    {
     "name": "stdout",
     "output_type": "stream",
     "text": [
      "going  20200828 11:58:47\n"
     ]
    },
    {
     "data": {
      "text/plain": [
       "Timestamp('2020-08-28 11:56:27-0400', tz='America/Toronto')"
      ]
     },
     "metadata": {},
     "output_type": "display_data"
    },
    {
     "name": "stdout",
     "output_type": "stream",
     "text": [
      "going  20200828 11:56:27\n"
     ]
    },
    {
     "data": {
      "text/plain": [
       "Timestamp('2020-08-28 11:54:07-0400', tz='America/Toronto')"
      ]
     },
     "metadata": {},
     "output_type": "display_data"
    },
    {
     "name": "stdout",
     "output_type": "stream",
     "text": [
      "going  20200828 11:54:07\n"
     ]
    },
    {
     "data": {
      "text/plain": [
       "Timestamp('2020-08-28 11:50:37-0400', tz='America/Toronto')"
      ]
     },
     "metadata": {},
     "output_type": "display_data"
    },
    {
     "name": "stdout",
     "output_type": "stream",
     "text": [
      "going  20200828 11:50:37\n"
     ]
    },
    {
     "data": {
      "text/plain": [
       "Timestamp('2020-08-28 11:47:48-0400', tz='America/Toronto')"
      ]
     },
     "metadata": {},
     "output_type": "display_data"
    },
    {
     "name": "stdout",
     "output_type": "stream",
     "text": [
      "going  20200828 11:47:48\n"
     ]
    },
    {
     "data": {
      "text/plain": [
       "Timestamp('2020-08-28 11:44:11-0400', tz='America/Toronto')"
      ]
     },
     "metadata": {},
     "output_type": "display_data"
    },
    {
     "name": "stdout",
     "output_type": "stream",
     "text": [
      "going  20200828 11:44:11\n"
     ]
    },
    {
     "data": {
      "text/plain": [
       "Timestamp('2020-08-28 11:41:14-0400', tz='America/Toronto')"
      ]
     },
     "metadata": {},
     "output_type": "display_data"
    },
    {
     "name": "stdout",
     "output_type": "stream",
     "text": [
      "going  20200828 11:41:14\n"
     ]
    },
    {
     "data": {
      "text/plain": [
       "Timestamp('2020-08-28 11:38:09-0400', tz='America/Toronto')"
      ]
     },
     "metadata": {},
     "output_type": "display_data"
    },
    {
     "name": "stdout",
     "output_type": "stream",
     "text": [
      "going  20200828 11:38:09\n"
     ]
    },
    {
     "data": {
      "text/plain": [
       "Timestamp('2020-08-28 11:35:54-0400', tz='America/Toronto')"
      ]
     },
     "metadata": {},
     "output_type": "display_data"
    },
    {
     "name": "stdout",
     "output_type": "stream",
     "text": [
      "going  20200828 11:35:54\n"
     ]
    },
    {
     "data": {
      "text/plain": [
       "Timestamp('2020-08-28 11:33:08-0400', tz='America/Toronto')"
      ]
     },
     "metadata": {},
     "output_type": "display_data"
    },
    {
     "name": "stdout",
     "output_type": "stream",
     "text": [
      "going  20200828 11:33:08\n"
     ]
    },
    {
     "data": {
      "text/plain": [
       "Timestamp('2020-08-28 11:30:56-0400', tz='America/Toronto')"
      ]
     },
     "metadata": {},
     "output_type": "display_data"
    },
    {
     "name": "stdout",
     "output_type": "stream",
     "text": [
      "going  20200828 11:30:56\n"
     ]
    },
    {
     "data": {
      "text/plain": [
       "Timestamp('2020-08-28 11:28:45-0400', tz='America/Toronto')"
      ]
     },
     "metadata": {},
     "output_type": "display_data"
    },
    {
     "name": "stdout",
     "output_type": "stream",
     "text": [
      "going  20200828 11:28:45\n"
     ]
    },
    {
     "data": {
      "text/plain": [
       "Timestamp('2020-08-28 11:26:33-0400', tz='America/Toronto')"
      ]
     },
     "metadata": {},
     "output_type": "display_data"
    },
    {
     "name": "stdout",
     "output_type": "stream",
     "text": [
      "going  20200828 11:26:33\n"
     ]
    },
    {
     "data": {
      "text/plain": [
       "Timestamp('2020-08-28 11:24:15-0400', tz='America/Toronto')"
      ]
     },
     "metadata": {},
     "output_type": "display_data"
    },
    {
     "name": "stdout",
     "output_type": "stream",
     "text": [
      "going  20200828 11:24:15\n"
     ]
    },
    {
     "data": {
      "text/plain": [
       "Timestamp('2020-08-28 11:22:32-0400', tz='America/Toronto')"
      ]
     },
     "metadata": {},
     "output_type": "display_data"
    },
    {
     "name": "stdout",
     "output_type": "stream",
     "text": [
      "going  20200828 11:22:32\n"
     ]
    },
    {
     "data": {
      "text/plain": [
       "Timestamp('2020-08-28 11:20:58-0400', tz='America/Toronto')"
      ]
     },
     "metadata": {},
     "output_type": "display_data"
    },
    {
     "name": "stdout",
     "output_type": "stream",
     "text": [
      "going  20200828 11:20:58\n"
     ]
    },
    {
     "data": {
      "text/plain": [
       "Timestamp('2020-08-28 11:20:15-0400', tz='America/Toronto')"
      ]
     },
     "metadata": {},
     "output_type": "display_data"
    },
    {
     "name": "stdout",
     "output_type": "stream",
     "text": [
      "going  20200828 11:20:15\n"
     ]
    },
    {
     "data": {
      "text/plain": [
       "Timestamp('2020-08-28 11:17:50-0400', tz='America/Toronto')"
      ]
     },
     "metadata": {},
     "output_type": "display_data"
    },
    {
     "name": "stdout",
     "output_type": "stream",
     "text": [
      "going  20200828 11:17:50\n"
     ]
    },
    {
     "data": {
      "text/plain": [
       "Timestamp('2020-08-28 11:15:35-0400', tz='America/Toronto')"
      ]
     },
     "metadata": {},
     "output_type": "display_data"
    },
    {
     "name": "stdout",
     "output_type": "stream",
     "text": [
      "going  20200828 11:15:35\n"
     ]
    },
    {
     "data": {
      "text/plain": [
       "Timestamp('2020-08-28 11:13:00-0400', tz='America/Toronto')"
      ]
     },
     "metadata": {},
     "output_type": "display_data"
    },
    {
     "name": "stdout",
     "output_type": "stream",
     "text": [
      "going  20200828 11:13:00\n"
     ]
    },
    {
     "data": {
      "text/plain": [
       "Timestamp('2020-08-28 11:10:52-0400', tz='America/Toronto')"
      ]
     },
     "metadata": {},
     "output_type": "display_data"
    },
    {
     "name": "stdout",
     "output_type": "stream",
     "text": [
      "going  20200828 11:10:52\n"
     ]
    },
    {
     "data": {
      "text/plain": [
       "Timestamp('2020-08-28 11:08:16-0400', tz='America/Toronto')"
      ]
     },
     "metadata": {},
     "output_type": "display_data"
    },
    {
     "name": "stdout",
     "output_type": "stream",
     "text": [
      "going  20200828 11:08:16\n"
     ]
    },
    {
     "data": {
      "text/plain": [
       "Timestamp('2020-08-28 11:07:03-0400', tz='America/Toronto')"
      ]
     },
     "metadata": {},
     "output_type": "display_data"
    },
    {
     "name": "stdout",
     "output_type": "stream",
     "text": [
      "going  20200828 11:07:03\n"
     ]
    },
    {
     "data": {
      "text/plain": [
       "Timestamp('2020-08-28 11:05:37-0400', tz='America/Toronto')"
      ]
     },
     "metadata": {},
     "output_type": "display_data"
    },
    {
     "name": "stdout",
     "output_type": "stream",
     "text": [
      "going  20200828 11:05:37\n"
     ]
    },
    {
     "data": {
      "text/plain": [
       "Timestamp('2020-08-28 11:04:03-0400', tz='America/Toronto')"
      ]
     },
     "metadata": {},
     "output_type": "display_data"
    },
    {
     "name": "stdout",
     "output_type": "stream",
     "text": [
      "going  20200828 11:04:03\n"
     ]
    },
    {
     "data": {
      "text/plain": [
       "Timestamp('2020-08-28 11:02:10-0400', tz='America/Toronto')"
      ]
     },
     "metadata": {},
     "output_type": "display_data"
    },
    {
     "name": "stdout",
     "output_type": "stream",
     "text": [
      "going  20200828 11:02:10\n"
     ]
    },
    {
     "data": {
      "text/plain": [
       "Timestamp('2020-08-28 11:01:02-0400', tz='America/Toronto')"
      ]
     },
     "metadata": {},
     "output_type": "display_data"
    },
    {
     "name": "stdout",
     "output_type": "stream",
     "text": [
      "going  20200828 11:01:02\n"
     ]
    },
    {
     "data": {
      "text/plain": [
       "Timestamp('2020-08-28 10:59:34-0400', tz='America/Toronto')"
      ]
     },
     "metadata": {},
     "output_type": "display_data"
    },
    {
     "name": "stdout",
     "output_type": "stream",
     "text": [
      "going  20200828 10:59:34\n"
     ]
    },
    {
     "data": {
      "text/plain": [
       "Timestamp('2020-08-28 10:58:20-0400', tz='America/Toronto')"
      ]
     },
     "metadata": {},
     "output_type": "display_data"
    },
    {
     "name": "stdout",
     "output_type": "stream",
     "text": [
      "going  20200828 10:58:20\n"
     ]
    },
    {
     "data": {
      "text/plain": [
       "Timestamp('2020-08-28 10:56:51-0400', tz='America/Toronto')"
      ]
     },
     "metadata": {},
     "output_type": "display_data"
    },
    {
     "name": "stdout",
     "output_type": "stream",
     "text": [
      "going  20200828 10:56:51\n"
     ]
    },
    {
     "data": {
      "text/plain": [
       "Timestamp('2020-08-28 10:55:05-0400', tz='America/Toronto')"
      ]
     },
     "metadata": {},
     "output_type": "display_data"
    },
    {
     "name": "stdout",
     "output_type": "stream",
     "text": [
      "going  20200828 10:55:05\n"
     ]
    },
    {
     "data": {
      "text/plain": [
       "Timestamp('2020-08-28 10:53:15-0400', tz='America/Toronto')"
      ]
     },
     "metadata": {},
     "output_type": "display_data"
    },
    {
     "name": "stdout",
     "output_type": "stream",
     "text": [
      "going  20200828 10:53:15\n"
     ]
    },
    {
     "data": {
      "text/plain": [
       "Timestamp('2020-08-28 10:51:33-0400', tz='America/Toronto')"
      ]
     },
     "metadata": {},
     "output_type": "display_data"
    },
    {
     "name": "stdout",
     "output_type": "stream",
     "text": [
      "going  20200828 10:51:33\n"
     ]
    },
    {
     "data": {
      "text/plain": [
       "Timestamp('2020-08-28 10:49:53-0400', tz='America/Toronto')"
      ]
     },
     "metadata": {},
     "output_type": "display_data"
    },
    {
     "name": "stdout",
     "output_type": "stream",
     "text": [
      "going  20200828 10:49:53\n"
     ]
    },
    {
     "data": {
      "text/plain": [
       "Timestamp('2020-08-28 10:48:00-0400', tz='America/Toronto')"
      ]
     },
     "metadata": {},
     "output_type": "display_data"
    },
    {
     "name": "stdout",
     "output_type": "stream",
     "text": [
      "going  20200828 10:48:00\n"
     ]
    },
    {
     "data": {
      "text/plain": [
       "Timestamp('2020-08-28 10:46:53-0400', tz='America/Toronto')"
      ]
     },
     "metadata": {},
     "output_type": "display_data"
    },
    {
     "name": "stdout",
     "output_type": "stream",
     "text": [
      "going  20200828 10:46:53\n"
     ]
    },
    {
     "data": {
      "text/plain": [
       "Timestamp('2020-08-28 10:44:44-0400', tz='America/Toronto')"
      ]
     },
     "metadata": {},
     "output_type": "display_data"
    },
    {
     "name": "stdout",
     "output_type": "stream",
     "text": [
      "going  20200828 10:44:44\n"
     ]
    },
    {
     "data": {
      "text/plain": [
       "Timestamp('2020-08-28 10:42:53-0400', tz='America/Toronto')"
      ]
     },
     "metadata": {},
     "output_type": "display_data"
    },
    {
     "name": "stdout",
     "output_type": "stream",
     "text": [
      "going  20200828 10:42:53\n"
     ]
    },
    {
     "data": {
      "text/plain": [
       "Timestamp('2020-08-28 10:41:05-0400', tz='America/Toronto')"
      ]
     },
     "metadata": {},
     "output_type": "display_data"
    },
    {
     "name": "stdout",
     "output_type": "stream",
     "text": [
      "going  20200828 10:41:05\n"
     ]
    },
    {
     "data": {
      "text/plain": [
       "Timestamp('2020-08-28 10:39:26-0400', tz='America/Toronto')"
      ]
     },
     "metadata": {},
     "output_type": "display_data"
    },
    {
     "name": "stdout",
     "output_type": "stream",
     "text": [
      "going  20200828 10:39:26\n"
     ]
    },
    {
     "data": {
      "text/plain": [
       "Timestamp('2020-08-28 10:39:05-0400', tz='America/Toronto')"
      ]
     },
     "metadata": {},
     "output_type": "display_data"
    },
    {
     "name": "stdout",
     "output_type": "stream",
     "text": [
      "going  20200828 10:39:05\n"
     ]
    },
    {
     "data": {
      "text/plain": [
       "Timestamp('2020-08-28 10:38:30-0400', tz='America/Toronto')"
      ]
     },
     "metadata": {},
     "output_type": "display_data"
    },
    {
     "name": "stdout",
     "output_type": "stream",
     "text": [
      "going  20200828 10:38:30\n"
     ]
    },
    {
     "data": {
      "text/plain": [
       "Timestamp('2020-08-28 10:37:17-0400', tz='America/Toronto')"
      ]
     },
     "metadata": {},
     "output_type": "display_data"
    },
    {
     "name": "stdout",
     "output_type": "stream",
     "text": [
      "going  20200828 10:37:17\n"
     ]
    },
    {
     "data": {
      "text/plain": [
       "Timestamp('2020-08-28 10:36:37-0400', tz='America/Toronto')"
      ]
     },
     "metadata": {},
     "output_type": "display_data"
    },
    {
     "name": "stdout",
     "output_type": "stream",
     "text": [
      "going  20200828 10:36:37\n"
     ]
    },
    {
     "data": {
      "text/plain": [
       "Timestamp('2020-08-28 10:36:01-0400', tz='America/Toronto')"
      ]
     },
     "metadata": {},
     "output_type": "display_data"
    },
    {
     "name": "stdout",
     "output_type": "stream",
     "text": [
      "going  20200828 10:36:01\n"
     ]
    },
    {
     "data": {
      "text/plain": [
       "Timestamp('2020-08-28 10:34:43-0400', tz='America/Toronto')"
      ]
     },
     "metadata": {},
     "output_type": "display_data"
    },
    {
     "name": "stdout",
     "output_type": "stream",
     "text": [
      "going  20200828 10:34:43\n"
     ]
    },
    {
     "data": {
      "text/plain": [
       "Timestamp('2020-08-28 10:33:32-0400', tz='America/Toronto')"
      ]
     },
     "metadata": {},
     "output_type": "display_data"
    },
    {
     "name": "stdout",
     "output_type": "stream",
     "text": [
      "going  20200828 10:33:32\n"
     ]
    },
    {
     "data": {
      "text/plain": [
       "Timestamp('2020-08-28 10:31:55-0400', tz='America/Toronto')"
      ]
     },
     "metadata": {},
     "output_type": "display_data"
    },
    {
     "name": "stdout",
     "output_type": "stream",
     "text": [
      "going  20200828 10:31:55\n"
     ]
    },
    {
     "data": {
      "text/plain": [
       "Timestamp('2020-08-28 10:30:31-0400', tz='America/Toronto')"
      ]
     },
     "metadata": {},
     "output_type": "display_data"
    },
    {
     "name": "stdout",
     "output_type": "stream",
     "text": [
      "going  20200828 10:30:31\n"
     ]
    },
    {
     "data": {
      "text/plain": [
       "Timestamp('2020-08-28 10:28:51-0400', tz='America/Toronto')"
      ]
     },
     "metadata": {},
     "output_type": "display_data"
    },
    {
     "name": "stdout",
     "output_type": "stream",
     "text": [
      "going  20200828 10:28:51\n"
     ]
    },
    {
     "data": {
      "text/plain": [
       "Timestamp('2020-08-28 10:26:32-0400', tz='America/Toronto')"
      ]
     },
     "metadata": {},
     "output_type": "display_data"
    },
    {
     "name": "stdout",
     "output_type": "stream",
     "text": [
      "going  20200828 10:26:32\n"
     ]
    },
    {
     "data": {
      "text/plain": [
       "Timestamp('2020-08-28 10:25:09-0400', tz='America/Toronto')"
      ]
     },
     "metadata": {},
     "output_type": "display_data"
    },
    {
     "name": "stdout",
     "output_type": "stream",
     "text": [
      "going  20200828 10:25:09\n"
     ]
    },
    {
     "data": {
      "text/plain": [
       "Timestamp('2020-08-28 10:23:41-0400', tz='America/Toronto')"
      ]
     },
     "metadata": {},
     "output_type": "display_data"
    },
    {
     "name": "stdout",
     "output_type": "stream",
     "text": [
      "going  20200828 10:23:41\n"
     ]
    },
    {
     "data": {
      "text/plain": [
       "Timestamp('2020-08-28 10:22:49-0400', tz='America/Toronto')"
      ]
     },
     "metadata": {},
     "output_type": "display_data"
    },
    {
     "name": "stdout",
     "output_type": "stream",
     "text": [
      "going  20200828 10:22:49\n"
     ]
    },
    {
     "data": {
      "text/plain": [
       "Timestamp('2020-08-28 10:21:43-0400', tz='America/Toronto')"
      ]
     },
     "metadata": {},
     "output_type": "display_data"
    },
    {
     "name": "stdout",
     "output_type": "stream",
     "text": [
      "going  20200828 10:21:43\n"
     ]
    },
    {
     "data": {
      "text/plain": [
       "Timestamp('2020-08-28 10:20:37-0400', tz='America/Toronto')"
      ]
     },
     "metadata": {},
     "output_type": "display_data"
    },
    {
     "name": "stdout",
     "output_type": "stream",
     "text": [
      "going  20200828 10:20:37\n"
     ]
    },
    {
     "data": {
      "text/plain": [
       "Timestamp('2020-08-28 10:19:09-0400', tz='America/Toronto')"
      ]
     },
     "metadata": {},
     "output_type": "display_data"
    },
    {
     "name": "stdout",
     "output_type": "stream",
     "text": [
      "going  20200828 10:19:09\n"
     ]
    },
    {
     "data": {
      "text/plain": [
       "Timestamp('2020-08-28 10:17:21-0400', tz='America/Toronto')"
      ]
     },
     "metadata": {},
     "output_type": "display_data"
    },
    {
     "name": "stdout",
     "output_type": "stream",
     "text": [
      "going  20200828 10:17:21\n"
     ]
    },
    {
     "data": {
      "text/plain": [
       "Timestamp('2020-08-28 10:16:13-0400', tz='America/Toronto')"
      ]
     },
     "metadata": {},
     "output_type": "display_data"
    },
    {
     "name": "stdout",
     "output_type": "stream",
     "text": [
      "going  20200828 10:16:13\n"
     ]
    },
    {
     "data": {
      "text/plain": [
       "Timestamp('2020-08-28 10:15:21-0400', tz='America/Toronto')"
      ]
     },
     "metadata": {},
     "output_type": "display_data"
    },
    {
     "name": "stdout",
     "output_type": "stream",
     "text": [
      "going  20200828 10:15:21\n"
     ]
    },
    {
     "data": {
      "text/plain": [
       "Timestamp('2020-08-28 10:14:13-0400', tz='America/Toronto')"
      ]
     },
     "metadata": {},
     "output_type": "display_data"
    },
    {
     "name": "stdout",
     "output_type": "stream",
     "text": [
      "going  20200828 10:14:13\n"
     ]
    },
    {
     "data": {
      "text/plain": [
       "Timestamp('2020-08-28 10:13:02-0400', tz='America/Toronto')"
      ]
     },
     "metadata": {},
     "output_type": "display_data"
    },
    {
     "name": "stdout",
     "output_type": "stream",
     "text": [
      "going  20200828 10:13:02\n"
     ]
    },
    {
     "data": {
      "text/plain": [
       "Timestamp('2020-08-28 10:11:42-0400', tz='America/Toronto')"
      ]
     },
     "metadata": {},
     "output_type": "display_data"
    },
    {
     "name": "stdout",
     "output_type": "stream",
     "text": [
      "going  20200828 10:11:42\n"
     ]
    },
    {
     "data": {
      "text/plain": [
       "Timestamp('2020-08-28 10:09:52-0400', tz='America/Toronto')"
      ]
     },
     "metadata": {},
     "output_type": "display_data"
    },
    {
     "name": "stdout",
     "output_type": "stream",
     "text": [
      "going  20200828 10:09:52\n"
     ]
    },
    {
     "data": {
      "text/plain": [
       "Timestamp('2020-08-28 10:08:48-0400', tz='America/Toronto')"
      ]
     },
     "metadata": {},
     "output_type": "display_data"
    },
    {
     "name": "stdout",
     "output_type": "stream",
     "text": [
      "going  20200828 10:08:48\n"
     ]
    },
    {
     "data": {
      "text/plain": [
       "Timestamp('2020-08-28 10:07:41-0400', tz='America/Toronto')"
      ]
     },
     "metadata": {},
     "output_type": "display_data"
    },
    {
     "name": "stdout",
     "output_type": "stream",
     "text": [
      "going  20200828 10:07:41\n"
     ]
    },
    {
     "data": {
      "text/plain": [
       "Timestamp('2020-08-28 10:05:43-0400', tz='America/Toronto')"
      ]
     },
     "metadata": {},
     "output_type": "display_data"
    },
    {
     "name": "stdout",
     "output_type": "stream",
     "text": [
      "going  20200828 10:05:43\n"
     ]
    },
    {
     "data": {
      "text/plain": [
       "Timestamp('2020-08-28 10:04:27-0400', tz='America/Toronto')"
      ]
     },
     "metadata": {},
     "output_type": "display_data"
    },
    {
     "name": "stdout",
     "output_type": "stream",
     "text": [
      "going  20200828 10:04:27\n"
     ]
    },
    {
     "data": {
      "text/plain": [
       "Timestamp('2020-08-28 10:02:04-0400', tz='America/Toronto')"
      ]
     },
     "metadata": {},
     "output_type": "display_data"
    },
    {
     "name": "stdout",
     "output_type": "stream",
     "text": [
      "going  20200828 10:02:04\n"
     ]
    },
    {
     "data": {
      "text/plain": [
       "Timestamp('2020-08-28 10:00:44-0400', tz='America/Toronto')"
      ]
     },
     "metadata": {},
     "output_type": "display_data"
    },
    {
     "name": "stdout",
     "output_type": "stream",
     "text": [
      "going  20200828 10:00:44\n"
     ]
    },
    {
     "data": {
      "text/plain": [
       "Timestamp('2020-08-28 09:59:30-0400', tz='America/Toronto')"
      ]
     },
     "metadata": {},
     "output_type": "display_data"
    },
    {
     "name": "stdout",
     "output_type": "stream",
     "text": [
      "going  20200828 09:59:30\n"
     ]
    },
    {
     "data": {
      "text/plain": [
       "Timestamp('2020-08-28 09:57:38-0400', tz='America/Toronto')"
      ]
     },
     "metadata": {},
     "output_type": "display_data"
    },
    {
     "name": "stdout",
     "output_type": "stream",
     "text": [
      "going  20200828 09:57:38\n"
     ]
    },
    {
     "data": {
      "text/plain": [
       "Timestamp('2020-08-28 09:55:07-0400', tz='America/Toronto')"
      ]
     },
     "metadata": {},
     "output_type": "display_data"
    },
    {
     "name": "stdout",
     "output_type": "stream",
     "text": [
      "going  20200828 09:55:07\n"
     ]
    },
    {
     "data": {
      "text/plain": [
       "Timestamp('2020-08-28 09:54:07-0400', tz='America/Toronto')"
      ]
     },
     "metadata": {},
     "output_type": "display_data"
    },
    {
     "name": "stdout",
     "output_type": "stream",
     "text": [
      "going  20200828 09:54:07\n"
     ]
    },
    {
     "data": {
      "text/plain": [
       "Timestamp('2020-08-28 09:52:56-0400', tz='America/Toronto')"
      ]
     },
     "metadata": {},
     "output_type": "display_data"
    },
    {
     "name": "stdout",
     "output_type": "stream",
     "text": [
      "going  20200828 09:52:56\n"
     ]
    },
    {
     "data": {
      "text/plain": [
       "Timestamp('2020-08-28 09:51:49-0400', tz='America/Toronto')"
      ]
     },
     "metadata": {},
     "output_type": "display_data"
    },
    {
     "name": "stdout",
     "output_type": "stream",
     "text": [
      "going  20200828 09:51:49\n"
     ]
    },
    {
     "data": {
      "text/plain": [
       "Timestamp('2020-08-28 09:50:54-0400', tz='America/Toronto')"
      ]
     },
     "metadata": {},
     "output_type": "display_data"
    },
    {
     "name": "stdout",
     "output_type": "stream",
     "text": [
      "going  20200828 09:50:54\n"
     ]
    },
    {
     "data": {
      "text/plain": [
       "Timestamp('2020-08-28 09:49:58-0400', tz='America/Toronto')"
      ]
     },
     "metadata": {},
     "output_type": "display_data"
    },
    {
     "name": "stdout",
     "output_type": "stream",
     "text": [
      "going  20200828 09:49:58\n"
     ]
    },
    {
     "data": {
      "text/plain": [
       "Timestamp('2020-08-28 09:49:02-0400', tz='America/Toronto')"
      ]
     },
     "metadata": {},
     "output_type": "display_data"
    },
    {
     "name": "stdout",
     "output_type": "stream",
     "text": [
      "going  20200828 09:49:02\n"
     ]
    },
    {
     "data": {
      "text/plain": [
       "Timestamp('2020-08-28 09:47:22-0400', tz='America/Toronto')"
      ]
     },
     "metadata": {},
     "output_type": "display_data"
    },
    {
     "name": "stdout",
     "output_type": "stream",
     "text": [
      "going  20200828 09:47:22\n"
     ]
    },
    {
     "data": {
      "text/plain": [
       "Timestamp('2020-08-28 09:47:00-0400', tz='America/Toronto')"
      ]
     },
     "metadata": {},
     "output_type": "display_data"
    },
    {
     "name": "stdout",
     "output_type": "stream",
     "text": [
      "going  20200828 09:47:00\n"
     ]
    },
    {
     "data": {
      "text/plain": [
       "Timestamp('2020-08-28 09:46:46-0400', tz='America/Toronto')"
      ]
     },
     "metadata": {},
     "output_type": "display_data"
    },
    {
     "name": "stdout",
     "output_type": "stream",
     "text": [
      "going  20200828 09:46:46\n"
     ]
    },
    {
     "data": {
      "text/plain": [
       "Timestamp('2020-08-28 09:46:04-0400', tz='America/Toronto')"
      ]
     },
     "metadata": {},
     "output_type": "display_data"
    },
    {
     "name": "stdout",
     "output_type": "stream",
     "text": [
      "going  20200828 09:46:04\n"
     ]
    },
    {
     "data": {
      "text/plain": [
       "Timestamp('2020-08-28 09:44:54-0400', tz='America/Toronto')"
      ]
     },
     "metadata": {},
     "output_type": "display_data"
    },
    {
     "name": "stdout",
     "output_type": "stream",
     "text": [
      "going  20200828 09:44:54\n"
     ]
    },
    {
     "data": {
      "text/plain": [
       "Timestamp('2020-08-28 09:43:45-0400', tz='America/Toronto')"
      ]
     },
     "metadata": {},
     "output_type": "display_data"
    },
    {
     "name": "stdout",
     "output_type": "stream",
     "text": [
      "going  20200828 09:43:45\n"
     ]
    },
    {
     "data": {
      "text/plain": [
       "Timestamp('2020-08-28 09:42:38-0400', tz='America/Toronto')"
      ]
     },
     "metadata": {},
     "output_type": "display_data"
    },
    {
     "name": "stdout",
     "output_type": "stream",
     "text": [
      "going  20200828 09:42:38\n"
     ]
    },
    {
     "data": {
      "text/plain": [
       "Timestamp('2020-08-28 09:41:45-0400', tz='America/Toronto')"
      ]
     },
     "metadata": {},
     "output_type": "display_data"
    },
    {
     "name": "stdout",
     "output_type": "stream",
     "text": [
      "going  20200828 09:41:45\n"
     ]
    },
    {
     "data": {
      "text/plain": [
       "Timestamp('2020-08-28 09:40:46-0400', tz='America/Toronto')"
      ]
     },
     "metadata": {},
     "output_type": "display_data"
    },
    {
     "name": "stdout",
     "output_type": "stream",
     "text": [
      "going  20200828 09:40:46\n"
     ]
    },
    {
     "data": {
      "text/plain": [
       "Timestamp('2020-08-28 09:39:45-0400', tz='America/Toronto')"
      ]
     },
     "metadata": {},
     "output_type": "display_data"
    },
    {
     "name": "stdout",
     "output_type": "stream",
     "text": [
      "going  20200828 09:39:45\n"
     ]
    },
    {
     "data": {
      "text/plain": [
       "Timestamp('2020-08-28 09:38:33-0400', tz='America/Toronto')"
      ]
     },
     "metadata": {},
     "output_type": "display_data"
    },
    {
     "name": "stdout",
     "output_type": "stream",
     "text": [
      "going  20200828 09:38:33\n"
     ]
    },
    {
     "data": {
      "text/plain": [
       "Timestamp('2020-08-28 09:37:06-0400', tz='America/Toronto')"
      ]
     },
     "metadata": {},
     "output_type": "display_data"
    },
    {
     "name": "stdout",
     "output_type": "stream",
     "text": [
      "going  20200828 09:37:06\n"
     ]
    },
    {
     "data": {
      "text/plain": [
       "Timestamp('2020-08-28 09:36:03-0400', tz='America/Toronto')"
      ]
     },
     "metadata": {},
     "output_type": "display_data"
    },
    {
     "name": "stdout",
     "output_type": "stream",
     "text": [
      "going  20200828 09:36:03\n"
     ]
    },
    {
     "data": {
      "text/plain": [
       "Timestamp('2020-08-28 09:35:28-0400', tz='America/Toronto')"
      ]
     },
     "metadata": {},
     "output_type": "display_data"
    },
    {
     "name": "stdout",
     "output_type": "stream",
     "text": [
      "going  20200828 09:35:28\n"
     ]
    },
    {
     "data": {
      "text/plain": [
       "Timestamp('2020-08-28 09:34:47-0400', tz='America/Toronto')"
      ]
     },
     "metadata": {},
     "output_type": "display_data"
    },
    {
     "name": "stdout",
     "output_type": "stream",
     "text": [
      "going  20200828 09:34:47\n"
     ]
    },
    {
     "data": {
      "text/plain": [
       "Timestamp('2020-08-28 09:34:01-0400', tz='America/Toronto')"
      ]
     },
     "metadata": {},
     "output_type": "display_data"
    },
    {
     "name": "stdout",
     "output_type": "stream",
     "text": [
      "going  20200828 09:34:01\n"
     ]
    },
    {
     "data": {
      "text/plain": [
       "Timestamp('2020-08-28 09:33:16-0400', tz='America/Toronto')"
      ]
     },
     "metadata": {},
     "output_type": "display_data"
    },
    {
     "name": "stdout",
     "output_type": "stream",
     "text": [
      "going  20200828 09:33:16\n"
     ]
    },
    {
     "data": {
      "text/plain": [
       "Timestamp('2020-08-28 09:32:28-0400', tz='America/Toronto')"
      ]
     },
     "metadata": {},
     "output_type": "display_data"
    },
    {
     "name": "stdout",
     "output_type": "stream",
     "text": [
      "going  20200828 09:32:28\n"
     ]
    },
    {
     "data": {
      "text/plain": [
       "Timestamp('2020-08-28 09:31:47-0400', tz='America/Toronto')"
      ]
     },
     "metadata": {},
     "output_type": "display_data"
    },
    {
     "name": "stdout",
     "output_type": "stream",
     "text": [
      "going  20200828 09:31:47\n"
     ]
    },
    {
     "data": {
      "text/plain": [
       "Timestamp('2020-08-28 09:31:05-0400', tz='America/Toronto')"
      ]
     },
     "metadata": {},
     "output_type": "display_data"
    },
    {
     "name": "stdout",
     "output_type": "stream",
     "text": [
      "going  20200828 09:31:05\n"
     ]
    },
    {
     "data": {
      "text/plain": [
       "Timestamp('2020-08-28 09:30:24-0400', tz='America/Toronto')"
      ]
     },
     "metadata": {},
     "output_type": "display_data"
    },
    {
     "name": "stdout",
     "output_type": "stream",
     "text": [
      "going  20200828 09:30:24\n"
     ]
    },
    {
     "data": {
      "text/plain": [
       "Timestamp('2020-08-28 09:30:00-0400', tz='America/Toronto')"
      ]
     },
     "metadata": {},
     "output_type": "display_data"
    },
    {
     "name": "stdout",
     "output_type": "stream",
     "text": [
      "going  20200828 09:30:00\n"
     ]
    },
    {
     "data": {
      "text/plain": [
       "Timestamp('2020-08-28 08:54:59-0400', tz='America/Toronto')"
      ]
     },
     "metadata": {},
     "output_type": "display_data"
    },
    {
     "name": "stdout",
     "output_type": "stream",
     "text": [
      "going  20200828 08:54:59\n"
     ]
    },
    {
     "data": {
      "text/plain": [
       "Timestamp('2020-08-28 08:01:09-0400', tz='America/Toronto')"
      ]
     },
     "metadata": {},
     "output_type": "display_data"
    },
    {
     "name": "stdout",
     "output_type": "stream",
     "text": [
      "going  20200828 08:01:09\n"
     ]
    },
    {
     "data": {
      "text/plain": [
       "Timestamp('2020-08-28 06:18:11-0400', tz='America/Toronto')"
      ]
     },
     "metadata": {},
     "output_type": "display_data"
    },
    {
     "name": "stdout",
     "output_type": "stream",
     "text": [
      "going  20200828 06:18:11\n"
     ]
    },
    {
     "data": {
      "text/plain": [
       "Timestamp('2020-08-28 04:00:00-0400', tz='America/Toronto')"
      ]
     },
     "metadata": {},
     "output_type": "display_data"
    },
    {
     "name": "stdout",
     "output_type": "stream",
     "text": [
      "going  20200828 04:00:00\n"
     ]
    },
    {
     "data": {
      "text/plain": [
       "Timestamp('2020-08-27 18:08:04-0400', tz='America/Toronto')"
      ]
     },
     "metadata": {},
     "output_type": "display_data"
    },
    {
     "name": "stdout",
     "output_type": "stream",
     "text": [
      "going  20200827 18:08:04\n"
     ]
    },
    {
     "data": {
      "text/plain": [
       "Timestamp('2020-08-27 16:44:20-0400', tz='America/Toronto')"
      ]
     },
     "metadata": {},
     "output_type": "display_data"
    },
    {
     "name": "stdout",
     "output_type": "stream",
     "text": [
      "going  20200827 16:44:20\n"
     ]
    },
    {
     "data": {
      "text/plain": [
       "Timestamp('2020-08-27 16:14:39-0400', tz='America/Toronto')"
      ]
     },
     "metadata": {},
     "output_type": "display_data"
    },
    {
     "name": "stdout",
     "output_type": "stream",
     "text": [
      "going  20200827 16:14:39\n"
     ]
    },
    {
     "data": {
      "text/plain": [
       "Timestamp('2020-08-27 16:09:43-0400', tz='America/Toronto')"
      ]
     },
     "metadata": {},
     "output_type": "display_data"
    },
    {
     "name": "stdout",
     "output_type": "stream",
     "text": [
      "going  20200827 16:09:43\n"
     ]
    },
    {
     "data": {
      "text/plain": [
       "Timestamp('2020-08-27 16:05:48-0400', tz='America/Toronto')"
      ]
     },
     "metadata": {},
     "output_type": "display_data"
    },
    {
     "name": "stdout",
     "output_type": "stream",
     "text": [
      "going  20200827 16:05:48\n"
     ]
    },
    {
     "data": {
      "text/plain": [
       "Timestamp('2020-08-27 16:02:26-0400', tz='America/Toronto')"
      ]
     },
     "metadata": {},
     "output_type": "display_data"
    },
    {
     "name": "stdout",
     "output_type": "stream",
     "text": [
      "going  20200827 16:02:26\n"
     ]
    },
    {
     "data": {
      "text/plain": [
       "Timestamp('2020-08-27 16:00:37-0400', tz='America/Toronto')"
      ]
     },
     "metadata": {},
     "output_type": "display_data"
    },
    {
     "name": "stdout",
     "output_type": "stream",
     "text": [
      "going  20200827 16:00:37\n"
     ]
    },
    {
     "data": {
      "text/plain": [
       "Timestamp('2020-08-27 15:59:59-0400', tz='America/Toronto')"
      ]
     },
     "metadata": {},
     "output_type": "display_data"
    },
    {
     "name": "stdout",
     "output_type": "stream",
     "text": [
      "going  20200827 15:59:59\n"
     ]
    },
    {
     "data": {
      "text/plain": [
       "Timestamp('2020-08-27 15:59:53-0400', tz='America/Toronto')"
      ]
     },
     "metadata": {},
     "output_type": "display_data"
    },
    {
     "name": "stdout",
     "output_type": "stream",
     "text": [
      "going  20200827 15:59:53\n"
     ]
    },
    {
     "data": {
      "text/plain": [
       "Timestamp('2020-08-27 15:59:44-0400', tz='America/Toronto')"
      ]
     },
     "metadata": {},
     "output_type": "display_data"
    },
    {
     "name": "stdout",
     "output_type": "stream",
     "text": [
      "going  20200827 15:59:44\n"
     ]
    },
    {
     "data": {
      "text/plain": [
       "Timestamp('2020-08-27 15:59:31-0400', tz='America/Toronto')"
      ]
     },
     "metadata": {},
     "output_type": "display_data"
    },
    {
     "name": "stdout",
     "output_type": "stream",
     "text": [
      "going  20200827 15:59:31\n"
     ]
    },
    {
     "data": {
      "text/plain": [
       "Timestamp('2020-08-27 15:59:20-0400', tz='America/Toronto')"
      ]
     },
     "metadata": {},
     "output_type": "display_data"
    },
    {
     "name": "stdout",
     "output_type": "stream",
     "text": [
      "going  20200827 15:59:20\n"
     ]
    },
    {
     "data": {
      "text/plain": [
       "Timestamp('2020-08-27 15:59:11-0400', tz='America/Toronto')"
      ]
     },
     "metadata": {},
     "output_type": "display_data"
    },
    {
     "name": "stdout",
     "output_type": "stream",
     "text": [
      "going  20200827 15:59:11\n"
     ]
    },
    {
     "data": {
      "text/plain": [
       "Timestamp('2020-08-27 15:59:01-0400', tz='America/Toronto')"
      ]
     },
     "metadata": {},
     "output_type": "display_data"
    },
    {
     "name": "stdout",
     "output_type": "stream",
     "text": [
      "going  20200827 15:59:01\n"
     ]
    },
    {
     "data": {
      "text/plain": [
       "Timestamp('2020-08-27 15:58:44-0400', tz='America/Toronto')"
      ]
     },
     "metadata": {},
     "output_type": "display_data"
    },
    {
     "name": "stdout",
     "output_type": "stream",
     "text": [
      "going  20200827 15:58:44\n"
     ]
    },
    {
     "data": {
      "text/plain": [
       "Timestamp('2020-08-27 15:58:21-0400', tz='America/Toronto')"
      ]
     },
     "metadata": {},
     "output_type": "display_data"
    },
    {
     "name": "stdout",
     "output_type": "stream",
     "text": [
      "going  20200827 15:58:21\n"
     ]
    },
    {
     "data": {
      "text/plain": [
       "Timestamp('2020-08-27 15:58:02-0400', tz='America/Toronto')"
      ]
     },
     "metadata": {},
     "output_type": "display_data"
    },
    {
     "name": "stdout",
     "output_type": "stream",
     "text": [
      "going  20200827 15:58:02\n"
     ]
    },
    {
     "data": {
      "text/plain": [
       "Timestamp('2020-08-27 15:57:40-0400', tz='America/Toronto')"
      ]
     },
     "metadata": {},
     "output_type": "display_data"
    },
    {
     "name": "stdout",
     "output_type": "stream",
     "text": [
      "going  20200827 15:57:40\n"
     ]
    },
    {
     "data": {
      "text/plain": [
       "Timestamp('2020-08-27 15:57:19-0400', tz='America/Toronto')"
      ]
     },
     "metadata": {},
     "output_type": "display_data"
    },
    {
     "name": "stdout",
     "output_type": "stream",
     "text": [
      "going  20200827 15:57:19\n"
     ]
    },
    {
     "data": {
      "text/plain": [
       "Timestamp('2020-08-27 15:56:56-0400', tz='America/Toronto')"
      ]
     },
     "metadata": {},
     "output_type": "display_data"
    },
    {
     "name": "stdout",
     "output_type": "stream",
     "text": [
      "going  20200827 15:56:56\n"
     ]
    },
    {
     "data": {
      "text/plain": [
       "Timestamp('2020-08-27 15:56:36-0400', tz='America/Toronto')"
      ]
     },
     "metadata": {},
     "output_type": "display_data"
    },
    {
     "name": "stdout",
     "output_type": "stream",
     "text": [
      "going  20200827 15:56:36\n"
     ]
    },
    {
     "data": {
      "text/plain": [
       "Timestamp('2020-08-27 15:56:18-0400', tz='America/Toronto')"
      ]
     },
     "metadata": {},
     "output_type": "display_data"
    },
    {
     "name": "stdout",
     "output_type": "stream",
     "text": [
      "going  20200827 15:56:18\n"
     ]
    },
    {
     "data": {
      "text/plain": [
       "Timestamp('2020-08-27 15:55:55-0400', tz='America/Toronto')"
      ]
     },
     "metadata": {},
     "output_type": "display_data"
    },
    {
     "name": "stdout",
     "output_type": "stream",
     "text": [
      "going  20200827 15:55:55\n"
     ]
    },
    {
     "ename": "KeyboardInterrupt",
     "evalue": "",
     "output_type": "error",
     "traceback": [
      "\u001b[0;31m---------------------------------------------------------------------------\u001b[0m",
      "\u001b[0;31mKeyboardInterrupt\u001b[0m                         Traceback (most recent call last)",
      "\u001b[0;32m<ipython-input-4-794135cdfcd5>\u001b[0m in \u001b[0;36m<module>\u001b[0;34m\u001b[0m\n\u001b[1;32m     39\u001b[0m \u001b[0;32mwhile\u001b[0m \u001b[0mnext_time\u001b[0m \u001b[0;34m!=\u001b[0m \u001b[0;32mNone\u001b[0m\u001b[0;34m:\u001b[0m\u001b[0;34m\u001b[0m\u001b[0;34m\u001b[0m\u001b[0m\n\u001b[1;32m     40\u001b[0m     \u001b[0mprint\u001b[0m\u001b[0;34m(\u001b[0m\u001b[0;34m\"going \"\u001b[0m\u001b[0;34m,\u001b[0m\u001b[0mnext_time\u001b[0m\u001b[0;34m)\u001b[0m\u001b[0;34m\u001b[0m\u001b[0;34m\u001b[0m\u001b[0m\n\u001b[0;32m---> 41\u001b[0;31m     \u001b[0mdf\u001b[0m\u001b[0;34m,\u001b[0m\u001b[0mnext_time\u001b[0m \u001b[0;34m=\u001b[0m \u001b[0mqryHistTicks\u001b[0m\u001b[0;34m(\u001b[0m\u001b[0mcontract\u001b[0m\u001b[0;34m,\u001b[0m\u001b[0mnext_time\u001b[0m\u001b[0;34m,\u001b[0m\u001b[0mmode\u001b[0m\u001b[0;34m=\u001b[0m\u001b[0;34m'end'\u001b[0m\u001b[0;34m)\u001b[0m\u001b[0;34m\u001b[0m\u001b[0;34m\u001b[0m\u001b[0m\n\u001b[0m\u001b[1;32m     42\u001b[0m     \u001b[0mdf_full\u001b[0m \u001b[0;34m=\u001b[0m \u001b[0mdf_full\u001b[0m\u001b[0;34m.\u001b[0m\u001b[0mappend\u001b[0m\u001b[0;34m(\u001b[0m\u001b[0mdf\u001b[0m\u001b[0;34m,\u001b[0m\u001b[0mignore_index\u001b[0m\u001b[0;34m=\u001b[0m\u001b[0;32mTrue\u001b[0m\u001b[0;34m)\u001b[0m\u001b[0;34m\u001b[0m\u001b[0;34m\u001b[0m\u001b[0m\n",
      "\u001b[0;32m<ipython-input-4-794135cdfcd5>\u001b[0m in \u001b[0;36mqryHistTicks\u001b[0;34m(contract, dtstr, nticks, mode)\u001b[0m\n\u001b[1;32m     11\u001b[0m         \u001b[0mend\u001b[0m \u001b[0;34m=\u001b[0m \u001b[0;34m''\u001b[0m\u001b[0;34m\u001b[0m\u001b[0;34m\u001b[0m\u001b[0m\n\u001b[1;32m     12\u001b[0m     \u001b[0;32mtry\u001b[0m\u001b[0;34m:\u001b[0m\u001b[0;34m\u001b[0m\u001b[0;34m\u001b[0m\u001b[0m\n\u001b[0;32m---> 13\u001b[0;31m         \u001b[0mticks\u001b[0m \u001b[0;34m=\u001b[0m \u001b[0mib\u001b[0m\u001b[0;34m.\u001b[0m\u001b[0mreqHistoricalTicks\u001b[0m\u001b[0;34m(\u001b[0m\u001b[0mcontract\u001b[0m\u001b[0;34m,\u001b[0m \u001b[0mstart\u001b[0m\u001b[0;34m,\u001b[0m \u001b[0mend\u001b[0m\u001b[0;34m,\u001b[0m \u001b[0mnticks\u001b[0m\u001b[0;34m,\u001b[0m \u001b[0;34m'TRADES'\u001b[0m\u001b[0;34m,\u001b[0m \u001b[0museRth\u001b[0m\u001b[0;34m=\u001b[0m\u001b[0;32mFalse\u001b[0m\u001b[0;34m)\u001b[0m\u001b[0;34m\u001b[0m\u001b[0;34m\u001b[0m\u001b[0m\n\u001b[0m\u001b[1;32m     14\u001b[0m         \u001b[0mdf\u001b[0m \u001b[0;34m=\u001b[0m \u001b[0mutil\u001b[0m\u001b[0;34m.\u001b[0m\u001b[0mdf\u001b[0m\u001b[0;34m(\u001b[0m\u001b[0mticks\u001b[0m\u001b[0;34m)\u001b[0m\u001b[0;34m\u001b[0m\u001b[0;34m\u001b[0m\u001b[0m\n\u001b[1;32m     15\u001b[0m         \u001b[0mdf\u001b[0m \u001b[0;34m=\u001b[0m \u001b[0mdf\u001b[0m\u001b[0;34m.\u001b[0m\u001b[0mset_index\u001b[0m\u001b[0;34m(\u001b[0m\u001b[0;34m'time'\u001b[0m\u001b[0;34m)\u001b[0m\u001b[0;34m\u001b[0m\u001b[0;34m\u001b[0m\u001b[0m\n",
      "\u001b[0;32m/opt/conda/lib/python3.8/site-packages/ib_insync/ib.py\u001b[0m in \u001b[0;36mreqHistoricalTicks\u001b[0;34m(self, contract, startDateTime, endDateTime, numberOfTicks, whatToShow, useRth, ignoreSize, miscOptions)\u001b[0m\n\u001b[1;32m   1095\u001b[0m             \u001b[0mmiscOptions\u001b[0m\u001b[0;34m:\u001b[0m \u001b[0mUnknown\u001b[0m\u001b[0;34m.\u001b[0m\u001b[0;34m\u001b[0m\u001b[0;34m\u001b[0m\u001b[0m\n\u001b[1;32m   1096\u001b[0m         \"\"\"\n\u001b[0;32m-> 1097\u001b[0;31m         return self._run(\n\u001b[0m\u001b[1;32m   1098\u001b[0m             self.reqHistoricalTicksAsync(\n\u001b[1;32m   1099\u001b[0m                 \u001b[0mcontract\u001b[0m\u001b[0;34m,\u001b[0m \u001b[0mstartDateTime\u001b[0m\u001b[0;34m,\u001b[0m \u001b[0mendDateTime\u001b[0m\u001b[0;34m,\u001b[0m \u001b[0mnumberOfTicks\u001b[0m\u001b[0;34m,\u001b[0m\u001b[0;34m\u001b[0m\u001b[0;34m\u001b[0m\u001b[0m\n",
      "\u001b[0;32m/opt/conda/lib/python3.8/site-packages/ib_insync/ib.py\u001b[0m in \u001b[0;36m_run\u001b[0;34m(self, *awaitables)\u001b[0m\n\u001b[1;32m    299\u001b[0m \u001b[0;34m\u001b[0m\u001b[0m\n\u001b[1;32m    300\u001b[0m     \u001b[0;32mdef\u001b[0m \u001b[0m_run\u001b[0m\u001b[0;34m(\u001b[0m\u001b[0mself\u001b[0m\u001b[0;34m,\u001b[0m \u001b[0;34m*\u001b[0m\u001b[0mawaitables\u001b[0m\u001b[0;34m:\u001b[0m \u001b[0mAwaitable\u001b[0m\u001b[0;34m)\u001b[0m\u001b[0;34m:\u001b[0m\u001b[0;34m\u001b[0m\u001b[0;34m\u001b[0m\u001b[0m\n\u001b[0;32m--> 301\u001b[0;31m         \u001b[0;32mreturn\u001b[0m \u001b[0mutil\u001b[0m\u001b[0;34m.\u001b[0m\u001b[0mrun\u001b[0m\u001b[0;34m(\u001b[0m\u001b[0;34m*\u001b[0m\u001b[0mawaitables\u001b[0m\u001b[0;34m,\u001b[0m \u001b[0mtimeout\u001b[0m\u001b[0;34m=\u001b[0m\u001b[0mself\u001b[0m\u001b[0;34m.\u001b[0m\u001b[0mRequestTimeout\u001b[0m\u001b[0;34m)\u001b[0m\u001b[0;34m\u001b[0m\u001b[0;34m\u001b[0m\u001b[0m\n\u001b[0m\u001b[1;32m    302\u001b[0m \u001b[0;34m\u001b[0m\u001b[0m\n\u001b[1;32m    303\u001b[0m     \u001b[0;32mdef\u001b[0m \u001b[0mwaitOnUpdate\u001b[0m\u001b[0;34m(\u001b[0m\u001b[0mself\u001b[0m\u001b[0;34m,\u001b[0m \u001b[0mtimeout\u001b[0m\u001b[0;34m:\u001b[0m \u001b[0mfloat\u001b[0m \u001b[0;34m=\u001b[0m \u001b[0;36m0\u001b[0m\u001b[0;34m)\u001b[0m \u001b[0;34m->\u001b[0m \u001b[0mbool\u001b[0m\u001b[0;34m:\u001b[0m\u001b[0;34m\u001b[0m\u001b[0;34m\u001b[0m\u001b[0m\n",
      "\u001b[0;32m/opt/conda/lib/python3.8/site-packages/ib_insync/util.py\u001b[0m in \u001b[0;36mrun\u001b[0;34m(timeout, *awaitables)\u001b[0m\n\u001b[1;32m    310\u001b[0m         \u001b[0mglobalErrorEvent\u001b[0m\u001b[0;34m.\u001b[0m\u001b[0mconnect\u001b[0m\u001b[0;34m(\u001b[0m\u001b[0monError\u001b[0m\u001b[0;34m)\u001b[0m\u001b[0;34m\u001b[0m\u001b[0;34m\u001b[0m\u001b[0m\n\u001b[1;32m    311\u001b[0m         \u001b[0;32mtry\u001b[0m\u001b[0;34m:\u001b[0m\u001b[0;34m\u001b[0m\u001b[0;34m\u001b[0m\u001b[0m\n\u001b[0;32m--> 312\u001b[0;31m             \u001b[0mresult\u001b[0m \u001b[0;34m=\u001b[0m \u001b[0mloop\u001b[0m\u001b[0;34m.\u001b[0m\u001b[0mrun_until_complete\u001b[0m\u001b[0;34m(\u001b[0m\u001b[0mtask\u001b[0m\u001b[0;34m)\u001b[0m\u001b[0;34m\u001b[0m\u001b[0;34m\u001b[0m\u001b[0m\n\u001b[0m\u001b[1;32m    313\u001b[0m         \u001b[0;32mexcept\u001b[0m \u001b[0masyncio\u001b[0m\u001b[0;34m.\u001b[0m\u001b[0mCancelledError\u001b[0m \u001b[0;32mas\u001b[0m \u001b[0me\u001b[0m\u001b[0;34m:\u001b[0m\u001b[0;34m\u001b[0m\u001b[0;34m\u001b[0m\u001b[0m\n\u001b[1;32m    314\u001b[0m             \u001b[0;32mraise\u001b[0m \u001b[0mglobalErrorEvent\u001b[0m\u001b[0;34m.\u001b[0m\u001b[0mvalue\u001b[0m\u001b[0;34m(\u001b[0m\u001b[0;34m)\u001b[0m \u001b[0;32mor\u001b[0m \u001b[0me\u001b[0m\u001b[0;34m\u001b[0m\u001b[0;34m\u001b[0m\u001b[0m\n",
      "\u001b[0;32m/opt/conda/lib/python3.8/site-packages/nest_asyncio.py\u001b[0m in \u001b[0;36mrun_until_complete\u001b[0;34m(self, future)\u001b[0m\n\u001b[1;32m     87\u001b[0m                 \u001b[0mf\u001b[0m\u001b[0;34m.\u001b[0m\u001b[0m_log_destroy_pending\u001b[0m \u001b[0;34m=\u001b[0m \u001b[0;32mFalse\u001b[0m\u001b[0;34m\u001b[0m\u001b[0;34m\u001b[0m\u001b[0m\n\u001b[1;32m     88\u001b[0m             \u001b[0;32mwhile\u001b[0m \u001b[0;32mnot\u001b[0m \u001b[0mf\u001b[0m\u001b[0;34m.\u001b[0m\u001b[0mdone\u001b[0m\u001b[0;34m(\u001b[0m\u001b[0;34m)\u001b[0m\u001b[0;34m:\u001b[0m\u001b[0;34m\u001b[0m\u001b[0;34m\u001b[0m\u001b[0m\n\u001b[0;32m---> 89\u001b[0;31m                 \u001b[0mself\u001b[0m\u001b[0;34m.\u001b[0m\u001b[0m_run_once\u001b[0m\u001b[0;34m(\u001b[0m\u001b[0;34m)\u001b[0m\u001b[0;34m\u001b[0m\u001b[0;34m\u001b[0m\u001b[0m\n\u001b[0m\u001b[1;32m     90\u001b[0m                 \u001b[0;32mif\u001b[0m \u001b[0mself\u001b[0m\u001b[0;34m.\u001b[0m\u001b[0m_stopping\u001b[0m\u001b[0;34m:\u001b[0m\u001b[0;34m\u001b[0m\u001b[0;34m\u001b[0m\u001b[0m\n\u001b[1;32m     91\u001b[0m                     \u001b[0;32mbreak\u001b[0m\u001b[0;34m\u001b[0m\u001b[0;34m\u001b[0m\u001b[0m\n",
      "\u001b[0;32m/opt/conda/lib/python3.8/site-packages/nest_asyncio.py\u001b[0m in \u001b[0;36m_run_once\u001b[0;34m(self)\u001b[0m\n\u001b[1;32m    111\u001b[0m             \u001b[0;32melse\u001b[0m \u001b[0mmin\u001b[0m\u001b[0;34m(\u001b[0m\u001b[0mmax\u001b[0m\u001b[0;34m(\u001b[0m\u001b[0;36m0\u001b[0m\u001b[0;34m,\u001b[0m \u001b[0mscheduled\u001b[0m\u001b[0;34m[\u001b[0m\u001b[0;36m0\u001b[0m\u001b[0;34m]\u001b[0m\u001b[0;34m.\u001b[0m\u001b[0m_when\u001b[0m \u001b[0;34m-\u001b[0m \u001b[0mnow\u001b[0m\u001b[0;34m)\u001b[0m\u001b[0;34m,\u001b[0m \u001b[0;36m10\u001b[0m\u001b[0;34m)\u001b[0m \u001b[0;32mif\u001b[0m \u001b[0mscheduled\u001b[0m\u001b[0;31m \u001b[0m\u001b[0;31m\\\u001b[0m\u001b[0;34m\u001b[0m\u001b[0;34m\u001b[0m\u001b[0m\n\u001b[1;32m    112\u001b[0m             \u001b[0;32melse\u001b[0m \u001b[0;32mNone\u001b[0m\u001b[0;34m\u001b[0m\u001b[0;34m\u001b[0m\u001b[0m\n\u001b[0;32m--> 113\u001b[0;31m         \u001b[0mevent_list\u001b[0m \u001b[0;34m=\u001b[0m \u001b[0mself\u001b[0m\u001b[0;34m.\u001b[0m\u001b[0m_selector\u001b[0m\u001b[0;34m.\u001b[0m\u001b[0mselect\u001b[0m\u001b[0;34m(\u001b[0m\u001b[0mtimeout\u001b[0m\u001b[0;34m)\u001b[0m\u001b[0;34m\u001b[0m\u001b[0;34m\u001b[0m\u001b[0m\n\u001b[0m\u001b[1;32m    114\u001b[0m         \u001b[0mself\u001b[0m\u001b[0;34m.\u001b[0m\u001b[0m_process_events\u001b[0m\u001b[0;34m(\u001b[0m\u001b[0mevent_list\u001b[0m\u001b[0;34m)\u001b[0m\u001b[0;34m\u001b[0m\u001b[0;34m\u001b[0m\u001b[0m\n\u001b[1;32m    115\u001b[0m \u001b[0;34m\u001b[0m\u001b[0m\n",
      "\u001b[0;32m/opt/conda/lib/python3.8/selectors.py\u001b[0m in \u001b[0;36mselect\u001b[0;34m(self, timeout)\u001b[0m\n\u001b[1;32m    466\u001b[0m             \u001b[0mready\u001b[0m \u001b[0;34m=\u001b[0m \u001b[0;34m[\u001b[0m\u001b[0;34m]\u001b[0m\u001b[0;34m\u001b[0m\u001b[0;34m\u001b[0m\u001b[0m\n\u001b[1;32m    467\u001b[0m             \u001b[0;32mtry\u001b[0m\u001b[0;34m:\u001b[0m\u001b[0;34m\u001b[0m\u001b[0;34m\u001b[0m\u001b[0m\n\u001b[0;32m--> 468\u001b[0;31m                 \u001b[0mfd_event_list\u001b[0m \u001b[0;34m=\u001b[0m \u001b[0mself\u001b[0m\u001b[0;34m.\u001b[0m\u001b[0m_selector\u001b[0m\u001b[0;34m.\u001b[0m\u001b[0mpoll\u001b[0m\u001b[0;34m(\u001b[0m\u001b[0mtimeout\u001b[0m\u001b[0;34m,\u001b[0m \u001b[0mmax_ev\u001b[0m\u001b[0;34m)\u001b[0m\u001b[0;34m\u001b[0m\u001b[0;34m\u001b[0m\u001b[0m\n\u001b[0m\u001b[1;32m    469\u001b[0m             \u001b[0;32mexcept\u001b[0m \u001b[0mInterruptedError\u001b[0m\u001b[0;34m:\u001b[0m\u001b[0;34m\u001b[0m\u001b[0;34m\u001b[0m\u001b[0m\n\u001b[1;32m    470\u001b[0m                 \u001b[0;32mreturn\u001b[0m \u001b[0mready\u001b[0m\u001b[0;34m\u001b[0m\u001b[0;34m\u001b[0m\u001b[0m\n",
      "\u001b[0;31mKeyboardInterrupt\u001b[0m: "
     ]
    }
   ],
   "source": [
    "start = ''\n",
    "end = \"20200828 15:41:41\"\n",
    "contract = Stock('SPY', 'SMART', 'USD')\n",
    "def qryHistTicks(contract,dtstr,nticks=1000,mode='end'):\n",
    "    df = pd.DataFrame()\n",
    "    if mode == 'end':\n",
    "        start = ''\n",
    "        end = f'{dtstr}'\n",
    "    else:\n",
    "        start = f'{dtstr}'\n",
    "        end = ''\n",
    "    try:\n",
    "        ticks = ib.reqHistoricalTicks(contract, start, end, nticks, 'TRADES', useRth=False)\n",
    "        df = util.df(ticks)\n",
    "        df = df.set_index('time')\n",
    "        df = df.tz_convert('America/Toronto')\n",
    "        df['pastLimit'] = [row.pastLimit for row in df['tickAttribLast']]\n",
    "        df['unreported'] = [row.unreported for row in df['tickAttribLast']]\n",
    "        del df['tickAttribLast']\n",
    "    except Exception as e: print(e)\n",
    "    size = len(df)\n",
    "    first = df.index[0]\n",
    "    last = df.index[-1]\n",
    "    nextm = None\n",
    "\n",
    "    if mode == 'end': \n",
    "        display(first)\n",
    "        nex = first + td(seconds=0)\n",
    "        df = df[df.index != first]\n",
    "    else: \n",
    "        nex = last - td(seconds=0)\n",
    "        df = df[df.index != last]\n",
    "    nextm = nex.strftime(\"%Y%m%d %H:%M:%S\")\n",
    "    \n",
    "    return df,nextm\n",
    "\n",
    "df_full = pd.DataFrame()\n",
    "df,next_time = qryHistTicks(contract,\"20200828 23:59:99\",mode='end')\n",
    "while next_time != None:\n",
    "    print(\"going \",next_time)\n",
    "    df,next_time = qryHistTicks(contract,next_time,mode='end')\n",
    "    df_full = df_full.append(df)\n"
   ]
  },
  {
   "cell_type": "code",
   "execution_count": 6,
   "metadata": {
    "ExecuteTime": {
     "end_time": "2020-09-01T01:59:52.363282Z",
     "start_time": "2020-09-01T01:59:51.460984Z"
    }
   },
   "outputs": [],
   "source": [
    "df_full.to_csv('SPY_tape_sample.csv')"
   ]
  },
  {
   "cell_type": "code",
   "execution_count": 18,
   "metadata": {
    "ExecuteTime": {
     "end_time": "2020-09-01T03:04:14.503826Z",
     "start_time": "2020-09-01T03:04:14.411554Z"
    },
    "run_control": {
     "marked": true
    }
   },
   "outputs": [
    {
     "ename": "UndefinedColumnError",
     "evalue": "column \"price\" does not exist",
     "output_type": "error",
     "traceback": [
      "\u001b[0;31m---------------------------------------------------------------------------\u001b[0m",
      "\u001b[0;31mUndefinedColumnError\u001b[0m                      Traceback (most recent call last)",
      "\u001b[0;32m<ipython-input-18-8bdd87253ccf>\u001b[0m in \u001b[0;36m<module>\u001b[0;34m\u001b[0m\n\u001b[1;32m     15\u001b[0m     \u001b[0;32mawait\u001b[0m \u001b[0mconn\u001b[0m\u001b[0;34m.\u001b[0m\u001b[0mcopy_records_to_table\u001b[0m\u001b[0;34m(\u001b[0m\u001b[0;34m'users'\u001b[0m\u001b[0;34m,\u001b[0m \u001b[0mrecords\u001b[0m\u001b[0;34m=\u001b[0m\u001b[0mtuples\u001b[0m\u001b[0;34m,\u001b[0m \u001b[0mcolumns\u001b[0m\u001b[0;34m=\u001b[0m\u001b[0mlist\u001b[0m\u001b[0;34m(\u001b[0m\u001b[0mdf\u001b[0m\u001b[0;34m.\u001b[0m\u001b[0mcolumns\u001b[0m\u001b[0;34m)\u001b[0m\u001b[0;34m,\u001b[0m \u001b[0mtimeout\u001b[0m\u001b[0;34m=\u001b[0m\u001b[0;36m10\u001b[0m\u001b[0;34m)\u001b[0m\u001b[0;34m\u001b[0m\u001b[0;34m\u001b[0m\u001b[0m\n\u001b[1;32m     16\u001b[0m     \u001b[0;32mawait\u001b[0m \u001b[0mconn\u001b[0m\u001b[0;34m.\u001b[0m\u001b[0mclose\u001b[0m\u001b[0;34m(\u001b[0m\u001b[0;34m)\u001b[0m\u001b[0;34m\u001b[0m\u001b[0;34m\u001b[0m\u001b[0m\n\u001b[0;32m---> 17\u001b[0;31m \u001b[0masyncio\u001b[0m\u001b[0;34m.\u001b[0m\u001b[0mget_event_loop\u001b[0m\u001b[0;34m(\u001b[0m\u001b[0;34m)\u001b[0m\u001b[0;34m.\u001b[0m\u001b[0mrun_until_complete\u001b[0m\u001b[0;34m(\u001b[0m\u001b[0mcopyDF\u001b[0m\u001b[0;34m(\u001b[0m\u001b[0;34m)\u001b[0m\u001b[0;34m)\u001b[0m\u001b[0;34m\u001b[0m\u001b[0;34m\u001b[0m\u001b[0m\n\u001b[0m\u001b[1;32m     18\u001b[0m \u001b[0;34m\u001b[0m\u001b[0m\n\u001b[1;32m     19\u001b[0m \u001b[0;34m\u001b[0m\u001b[0m\n",
      "\u001b[0;32m/opt/conda/lib/python3.8/site-packages/nest_asyncio.py\u001b[0m in \u001b[0;36mrun_until_complete\u001b[0;34m(self, future)\u001b[0m\n\u001b[1;32m     93\u001b[0m                 raise RuntimeError(\n\u001b[1;32m     94\u001b[0m                     'Event loop stopped before Future completed.')\n\u001b[0;32m---> 95\u001b[0;31m             \u001b[0;32mreturn\u001b[0m \u001b[0mf\u001b[0m\u001b[0;34m.\u001b[0m\u001b[0mresult\u001b[0m\u001b[0;34m(\u001b[0m\u001b[0;34m)\u001b[0m\u001b[0;34m\u001b[0m\u001b[0;34m\u001b[0m\u001b[0m\n\u001b[0m\u001b[1;32m     96\u001b[0m         \u001b[0;32mfinally\u001b[0m\u001b[0;34m:\u001b[0m\u001b[0;34m\u001b[0m\u001b[0;34m\u001b[0m\u001b[0m\n\u001b[1;32m     97\u001b[0m             \u001b[0mevents\u001b[0m\u001b[0;34m.\u001b[0m\u001b[0m_set_running_loop\u001b[0m\u001b[0;34m(\u001b[0m\u001b[0mold_running_loop\u001b[0m\u001b[0;34m)\u001b[0m\u001b[0;34m\u001b[0m\u001b[0;34m\u001b[0m\u001b[0m\n",
      "\u001b[0;32m/opt/conda/lib/python3.8/asyncio/futures.py\u001b[0m in \u001b[0;36mresult\u001b[0;34m(self)\u001b[0m\n\u001b[1;32m    176\u001b[0m         \u001b[0mself\u001b[0m\u001b[0;34m.\u001b[0m\u001b[0m__log_traceback\u001b[0m \u001b[0;34m=\u001b[0m \u001b[0;32mFalse\u001b[0m\u001b[0;34m\u001b[0m\u001b[0;34m\u001b[0m\u001b[0m\n\u001b[1;32m    177\u001b[0m         \u001b[0;32mif\u001b[0m \u001b[0mself\u001b[0m\u001b[0;34m.\u001b[0m\u001b[0m_exception\u001b[0m \u001b[0;32mis\u001b[0m \u001b[0;32mnot\u001b[0m \u001b[0;32mNone\u001b[0m\u001b[0;34m:\u001b[0m\u001b[0;34m\u001b[0m\u001b[0;34m\u001b[0m\u001b[0m\n\u001b[0;32m--> 178\u001b[0;31m             \u001b[0;32mraise\u001b[0m \u001b[0mself\u001b[0m\u001b[0;34m.\u001b[0m\u001b[0m_exception\u001b[0m\u001b[0;34m\u001b[0m\u001b[0;34m\u001b[0m\u001b[0m\n\u001b[0m\u001b[1;32m    179\u001b[0m         \u001b[0;32mreturn\u001b[0m \u001b[0mself\u001b[0m\u001b[0;34m.\u001b[0m\u001b[0m_result\u001b[0m\u001b[0;34m\u001b[0m\u001b[0;34m\u001b[0m\u001b[0m\n\u001b[1;32m    180\u001b[0m \u001b[0;34m\u001b[0m\u001b[0m\n",
      "\u001b[0;32m/opt/conda/lib/python3.8/asyncio/tasks.py\u001b[0m in \u001b[0;36m__step\u001b[0;34m(***failed resolving arguments***)\u001b[0m\n\u001b[1;32m    280\u001b[0m                 \u001b[0mresult\u001b[0m \u001b[0;34m=\u001b[0m \u001b[0mcoro\u001b[0m\u001b[0;34m.\u001b[0m\u001b[0msend\u001b[0m\u001b[0;34m(\u001b[0m\u001b[0;32mNone\u001b[0m\u001b[0;34m)\u001b[0m\u001b[0;34m\u001b[0m\u001b[0;34m\u001b[0m\u001b[0m\n\u001b[1;32m    281\u001b[0m             \u001b[0;32melse\u001b[0m\u001b[0;34m:\u001b[0m\u001b[0;34m\u001b[0m\u001b[0;34m\u001b[0m\u001b[0m\n\u001b[0;32m--> 282\u001b[0;31m                 \u001b[0mresult\u001b[0m \u001b[0;34m=\u001b[0m \u001b[0mcoro\u001b[0m\u001b[0;34m.\u001b[0m\u001b[0mthrow\u001b[0m\u001b[0;34m(\u001b[0m\u001b[0mexc\u001b[0m\u001b[0;34m)\u001b[0m\u001b[0;34m\u001b[0m\u001b[0;34m\u001b[0m\u001b[0m\n\u001b[0m\u001b[1;32m    283\u001b[0m         \u001b[0;32mexcept\u001b[0m \u001b[0mStopIteration\u001b[0m \u001b[0;32mas\u001b[0m \u001b[0mexc\u001b[0m\u001b[0;34m:\u001b[0m\u001b[0;34m\u001b[0m\u001b[0;34m\u001b[0m\u001b[0m\n\u001b[1;32m    284\u001b[0m             \u001b[0;32mif\u001b[0m \u001b[0mself\u001b[0m\u001b[0;34m.\u001b[0m\u001b[0m_must_cancel\u001b[0m\u001b[0;34m:\u001b[0m\u001b[0;34m\u001b[0m\u001b[0;34m\u001b[0m\u001b[0m\n",
      "\u001b[0;32m<ipython-input-18-8bdd87253ccf>\u001b[0m in \u001b[0;36mcopyDF\u001b[0;34m()\u001b[0m\n\u001b[1;32m     13\u001b[0m     \u001b[0mconn\u001b[0m \u001b[0;34m=\u001b[0m \u001b[0;32mawait\u001b[0m \u001b[0masyncpg\u001b[0m\u001b[0;34m.\u001b[0m\u001b[0mconnect\u001b[0m\u001b[0;34m(\u001b[0m\u001b[0muser\u001b[0m\u001b[0;34m=\u001b[0m\u001b[0;34m\"postgres\"\u001b[0m\u001b[0;34m,\u001b[0m\u001b[0mpassword\u001b[0m\u001b[0;34m=\u001b[0m\u001b[0;34m\"FoolishPassword\"\u001b[0m\u001b[0;34m,\u001b[0m\u001b[0mdatabase\u001b[0m\u001b[0;34m=\u001b[0m\u001b[0;34m'stocks'\u001b[0m\u001b[0;34m,\u001b[0m\u001b[0mhost\u001b[0m\u001b[0;34m=\u001b[0m\u001b[0;34m'postgres'\u001b[0m\u001b[0;34m,\u001b[0m\u001b[0mport\u001b[0m\u001b[0;34m=\u001b[0m\u001b[0;34m'5432'\u001b[0m\u001b[0;34m,\u001b[0m\u001b[0;34m)\u001b[0m\u001b[0;34m\u001b[0m\u001b[0;34m\u001b[0m\u001b[0m\n\u001b[1;32m     14\u001b[0m     \u001b[0mtuples\u001b[0m \u001b[0;34m=\u001b[0m \u001b[0;34m[\u001b[0m\u001b[0mtuple\u001b[0m\u001b[0;34m(\u001b[0m\u001b[0mx\u001b[0m\u001b[0;34m)\u001b[0m \u001b[0;32mfor\u001b[0m \u001b[0mx\u001b[0m \u001b[0;32min\u001b[0m \u001b[0mdf\u001b[0m\u001b[0;34m.\u001b[0m\u001b[0mvalues\u001b[0m\u001b[0;34m]\u001b[0m\u001b[0;34m\u001b[0m\u001b[0;34m\u001b[0m\u001b[0m\n\u001b[0;32m---> 15\u001b[0;31m     \u001b[0;32mawait\u001b[0m \u001b[0mconn\u001b[0m\u001b[0;34m.\u001b[0m\u001b[0mcopy_records_to_table\u001b[0m\u001b[0;34m(\u001b[0m\u001b[0;34m'users'\u001b[0m\u001b[0;34m,\u001b[0m \u001b[0mrecords\u001b[0m\u001b[0;34m=\u001b[0m\u001b[0mtuples\u001b[0m\u001b[0;34m,\u001b[0m \u001b[0mcolumns\u001b[0m\u001b[0;34m=\u001b[0m\u001b[0mlist\u001b[0m\u001b[0;34m(\u001b[0m\u001b[0mdf\u001b[0m\u001b[0;34m.\u001b[0m\u001b[0mcolumns\u001b[0m\u001b[0;34m)\u001b[0m\u001b[0;34m,\u001b[0m \u001b[0mtimeout\u001b[0m\u001b[0;34m=\u001b[0m\u001b[0;36m10\u001b[0m\u001b[0;34m)\u001b[0m\u001b[0;34m\u001b[0m\u001b[0;34m\u001b[0m\u001b[0m\n\u001b[0m\u001b[1;32m     16\u001b[0m     \u001b[0;32mawait\u001b[0m \u001b[0mconn\u001b[0m\u001b[0;34m.\u001b[0m\u001b[0mclose\u001b[0m\u001b[0;34m(\u001b[0m\u001b[0;34m)\u001b[0m\u001b[0;34m\u001b[0m\u001b[0;34m\u001b[0m\u001b[0m\n\u001b[1;32m     17\u001b[0m \u001b[0masyncio\u001b[0m\u001b[0;34m.\u001b[0m\u001b[0mget_event_loop\u001b[0m\u001b[0;34m(\u001b[0m\u001b[0;34m)\u001b[0m\u001b[0;34m.\u001b[0m\u001b[0mrun_until_complete\u001b[0m\u001b[0;34m(\u001b[0m\u001b[0mcopyDF\u001b[0m\u001b[0;34m(\u001b[0m\u001b[0;34m)\u001b[0m\u001b[0;34m)\u001b[0m\u001b[0;34m\u001b[0m\u001b[0;34m\u001b[0m\u001b[0m\n",
      "\u001b[0;32m/opt/conda/lib/python3.8/site-packages/asyncpg/connection.py\u001b[0m in \u001b[0;36mcopy_records_to_table\u001b[0;34m(self, table_name, records, columns, schema_name, timeout)\u001b[0m\n\u001b[1;32m    744\u001b[0m             tab=tabname, cols=col_list)\n\u001b[1;32m    745\u001b[0m \u001b[0;34m\u001b[0m\u001b[0m\n\u001b[0;32m--> 746\u001b[0;31m         \u001b[0mintro_ps\u001b[0m \u001b[0;34m=\u001b[0m \u001b[0;32mawait\u001b[0m \u001b[0mself\u001b[0m\u001b[0;34m.\u001b[0m\u001b[0m_prepare\u001b[0m\u001b[0;34m(\u001b[0m\u001b[0mintro_query\u001b[0m\u001b[0;34m,\u001b[0m \u001b[0muse_cache\u001b[0m\u001b[0;34m=\u001b[0m\u001b[0;32mTrue\u001b[0m\u001b[0;34m)\u001b[0m\u001b[0;34m\u001b[0m\u001b[0;34m\u001b[0m\u001b[0m\n\u001b[0m\u001b[1;32m    747\u001b[0m \u001b[0;34m\u001b[0m\u001b[0m\n\u001b[1;32m    748\u001b[0m         \u001b[0mopts\u001b[0m \u001b[0;34m=\u001b[0m \u001b[0;34m'(FORMAT binary)'\u001b[0m\u001b[0;34m\u001b[0m\u001b[0;34m\u001b[0m\u001b[0m\n",
      "\u001b[0;32m/opt/conda/lib/python3.8/site-packages/asyncpg/connection.py\u001b[0m in \u001b[0;36m_prepare\u001b[0;34m(self, query, timeout, use_cache)\u001b[0m\n\u001b[1;32m    427\u001b[0m     \u001b[0;32masync\u001b[0m \u001b[0;32mdef\u001b[0m \u001b[0m_prepare\u001b[0m\u001b[0;34m(\u001b[0m\u001b[0mself\u001b[0m\u001b[0;34m,\u001b[0m \u001b[0mquery\u001b[0m\u001b[0;34m,\u001b[0m \u001b[0;34m*\u001b[0m\u001b[0;34m,\u001b[0m \u001b[0mtimeout\u001b[0m\u001b[0;34m=\u001b[0m\u001b[0;32mNone\u001b[0m\u001b[0;34m,\u001b[0m \u001b[0muse_cache\u001b[0m\u001b[0;34m:\u001b[0m \u001b[0mbool\u001b[0m\u001b[0;34m=\u001b[0m\u001b[0;32mFalse\u001b[0m\u001b[0;34m)\u001b[0m\u001b[0;34m:\u001b[0m\u001b[0;34m\u001b[0m\u001b[0;34m\u001b[0m\u001b[0m\n\u001b[1;32m    428\u001b[0m         \u001b[0mself\u001b[0m\u001b[0;34m.\u001b[0m\u001b[0m_check_open\u001b[0m\u001b[0;34m(\u001b[0m\u001b[0;34m)\u001b[0m\u001b[0;34m\u001b[0m\u001b[0;34m\u001b[0m\u001b[0m\n\u001b[0;32m--> 429\u001b[0;31m         stmt = await self._get_statement(query, timeout, named=True,\n\u001b[0m\u001b[1;32m    430\u001b[0m                                          use_cache=use_cache)\n\u001b[1;32m    431\u001b[0m         \u001b[0;32mreturn\u001b[0m \u001b[0mprepared_stmt\u001b[0m\u001b[0;34m.\u001b[0m\u001b[0mPreparedStatement\u001b[0m\u001b[0;34m(\u001b[0m\u001b[0mself\u001b[0m\u001b[0;34m,\u001b[0m \u001b[0mquery\u001b[0m\u001b[0;34m,\u001b[0m \u001b[0mstmt\u001b[0m\u001b[0;34m)\u001b[0m\u001b[0;34m\u001b[0m\u001b[0;34m\u001b[0m\u001b[0m\n",
      "\u001b[0;32m/opt/conda/lib/python3.8/site-packages/asyncpg/connection.py\u001b[0m in \u001b[0;36m_get_statement\u001b[0;34m(self, query, timeout, named, use_cache)\u001b[0m\n\u001b[1;32m    349\u001b[0m             \u001b[0mstmt_name\u001b[0m \u001b[0;34m=\u001b[0m \u001b[0;34m''\u001b[0m\u001b[0;34m\u001b[0m\u001b[0;34m\u001b[0m\u001b[0m\n\u001b[1;32m    350\u001b[0m \u001b[0;34m\u001b[0m\u001b[0m\n\u001b[0;32m--> 351\u001b[0;31m         \u001b[0mstatement\u001b[0m \u001b[0;34m=\u001b[0m \u001b[0;32mawait\u001b[0m \u001b[0mself\u001b[0m\u001b[0;34m.\u001b[0m\u001b[0m_protocol\u001b[0m\u001b[0;34m.\u001b[0m\u001b[0mprepare\u001b[0m\u001b[0;34m(\u001b[0m\u001b[0mstmt_name\u001b[0m\u001b[0;34m,\u001b[0m \u001b[0mquery\u001b[0m\u001b[0;34m,\u001b[0m \u001b[0mtimeout\u001b[0m\u001b[0;34m)\u001b[0m\u001b[0;34m\u001b[0m\u001b[0;34m\u001b[0m\u001b[0m\n\u001b[0m\u001b[1;32m    352\u001b[0m         \u001b[0mneed_reprepare\u001b[0m \u001b[0;34m=\u001b[0m \u001b[0;32mFalse\u001b[0m\u001b[0;34m\u001b[0m\u001b[0;34m\u001b[0m\u001b[0m\n\u001b[1;32m    353\u001b[0m         \u001b[0mtypes_with_missing_codecs\u001b[0m \u001b[0;34m=\u001b[0m \u001b[0mstatement\u001b[0m\u001b[0;34m.\u001b[0m\u001b[0m_init_types\u001b[0m\u001b[0;34m(\u001b[0m\u001b[0;34m)\u001b[0m\u001b[0;34m\u001b[0m\u001b[0;34m\u001b[0m\u001b[0m\n",
      "\u001b[0;32m/opt/conda/lib/python3.8/site-packages/asyncpg/protocol/protocol.pyx\u001b[0m in \u001b[0;36mprepare\u001b[0;34m()\u001b[0m\n",
      "\u001b[0;32m/opt/conda/lib/python3.8/asyncio/futures.py\u001b[0m in \u001b[0;36m__await__\u001b[0;34m(self)\u001b[0m\n\u001b[1;32m    258\u001b[0m         \u001b[0;32mif\u001b[0m \u001b[0;32mnot\u001b[0m \u001b[0mself\u001b[0m\u001b[0;34m.\u001b[0m\u001b[0mdone\u001b[0m\u001b[0;34m(\u001b[0m\u001b[0;34m)\u001b[0m\u001b[0;34m:\u001b[0m\u001b[0;34m\u001b[0m\u001b[0;34m\u001b[0m\u001b[0m\n\u001b[1;32m    259\u001b[0m             \u001b[0mself\u001b[0m\u001b[0;34m.\u001b[0m\u001b[0m_asyncio_future_blocking\u001b[0m \u001b[0;34m=\u001b[0m \u001b[0;32mTrue\u001b[0m\u001b[0;34m\u001b[0m\u001b[0;34m\u001b[0m\u001b[0m\n\u001b[0;32m--> 260\u001b[0;31m             \u001b[0;32myield\u001b[0m \u001b[0mself\u001b[0m  \u001b[0;31m# This tells Task to wait for completion.\u001b[0m\u001b[0;34m\u001b[0m\u001b[0;34m\u001b[0m\u001b[0m\n\u001b[0m\u001b[1;32m    261\u001b[0m         \u001b[0;32mif\u001b[0m \u001b[0;32mnot\u001b[0m \u001b[0mself\u001b[0m\u001b[0;34m.\u001b[0m\u001b[0mdone\u001b[0m\u001b[0;34m(\u001b[0m\u001b[0;34m)\u001b[0m\u001b[0;34m:\u001b[0m\u001b[0;34m\u001b[0m\u001b[0;34m\u001b[0m\u001b[0m\n\u001b[1;32m    262\u001b[0m             \u001b[0;32mraise\u001b[0m \u001b[0mRuntimeError\u001b[0m\u001b[0;34m(\u001b[0m\u001b[0;34m\"await wasn't used with future\"\u001b[0m\u001b[0;34m)\u001b[0m\u001b[0;34m\u001b[0m\u001b[0;34m\u001b[0m\u001b[0m\n",
      "\u001b[0;32m/opt/conda/lib/python3.8/asyncio/tasks.py\u001b[0m in \u001b[0;36m__wakeup\u001b[0;34m(self, future)\u001b[0m\n\u001b[1;32m    347\u001b[0m     \u001b[0;32mdef\u001b[0m \u001b[0m__wakeup\u001b[0m\u001b[0;34m(\u001b[0m\u001b[0mself\u001b[0m\u001b[0;34m,\u001b[0m \u001b[0mfuture\u001b[0m\u001b[0;34m)\u001b[0m\u001b[0;34m:\u001b[0m\u001b[0;34m\u001b[0m\u001b[0;34m\u001b[0m\u001b[0m\n\u001b[1;32m    348\u001b[0m         \u001b[0;32mtry\u001b[0m\u001b[0;34m:\u001b[0m\u001b[0;34m\u001b[0m\u001b[0;34m\u001b[0m\u001b[0m\n\u001b[0;32m--> 349\u001b[0;31m             \u001b[0mfuture\u001b[0m\u001b[0;34m.\u001b[0m\u001b[0mresult\u001b[0m\u001b[0;34m(\u001b[0m\u001b[0;34m)\u001b[0m\u001b[0;34m\u001b[0m\u001b[0;34m\u001b[0m\u001b[0m\n\u001b[0m\u001b[1;32m    350\u001b[0m         \u001b[0;32mexcept\u001b[0m \u001b[0mBaseException\u001b[0m \u001b[0;32mas\u001b[0m \u001b[0mexc\u001b[0m\u001b[0;34m:\u001b[0m\u001b[0;34m\u001b[0m\u001b[0;34m\u001b[0m\u001b[0m\n\u001b[1;32m    351\u001b[0m             \u001b[0;31m# This may also be a cancellation.\u001b[0m\u001b[0;34m\u001b[0m\u001b[0;34m\u001b[0m\u001b[0;34m\u001b[0m\u001b[0m\n",
      "\u001b[0;32m/opt/conda/lib/python3.8/asyncio/futures.py\u001b[0m in \u001b[0;36mresult\u001b[0;34m(self)\u001b[0m\n\u001b[1;32m    176\u001b[0m         \u001b[0mself\u001b[0m\u001b[0;34m.\u001b[0m\u001b[0m__log_traceback\u001b[0m \u001b[0;34m=\u001b[0m \u001b[0;32mFalse\u001b[0m\u001b[0;34m\u001b[0m\u001b[0;34m\u001b[0m\u001b[0m\n\u001b[1;32m    177\u001b[0m         \u001b[0;32mif\u001b[0m \u001b[0mself\u001b[0m\u001b[0;34m.\u001b[0m\u001b[0m_exception\u001b[0m \u001b[0;32mis\u001b[0m \u001b[0;32mnot\u001b[0m \u001b[0;32mNone\u001b[0m\u001b[0;34m:\u001b[0m\u001b[0;34m\u001b[0m\u001b[0;34m\u001b[0m\u001b[0m\n\u001b[0;32m--> 178\u001b[0;31m             \u001b[0;32mraise\u001b[0m \u001b[0mself\u001b[0m\u001b[0;34m.\u001b[0m\u001b[0m_exception\u001b[0m\u001b[0;34m\u001b[0m\u001b[0;34m\u001b[0m\u001b[0m\n\u001b[0m\u001b[1;32m    179\u001b[0m         \u001b[0;32mreturn\u001b[0m \u001b[0mself\u001b[0m\u001b[0;34m.\u001b[0m\u001b[0m_result\u001b[0m\u001b[0;34m\u001b[0m\u001b[0;34m\u001b[0m\u001b[0m\n\u001b[1;32m    180\u001b[0m \u001b[0;34m\u001b[0m\u001b[0m\n",
      "\u001b[0;31mUndefinedColumnError\u001b[0m: column \"price\" does not exist"
     ]
    }
   ],
   "source": [
    "import asyncio, asyncpg, os, nest_asyncio\n",
    "nest_asyncio.apply()\n",
    "async def mkConn():\n",
    "    \n",
    "    return conn\n",
    "\n",
    "async def execSQL(qry):\n",
    "    conn = mkConn()\n",
    "    await conn.execute(f'''{qry}''')\n",
    "    await conn.close()\n",
    "\n",
    "async def copyDF():\n",
    "    conn = await asyncpg.connect(user=\"postgres\",password=\"FoolishPassword\",database='stocks',host='postgres',port='5432',)\n",
    "    tuples = [tuple(x) for x in df.values]\n",
    "    await conn.copy_records_to_table('users', records=tuples, columns=list(df.columns), timeout=10)\n",
    "    await conn.close()\n",
    "asyncio.get_event_loop().run_until_complete(copyDF())\n",
    "\n",
    "\n",
    "\n",
    "\n",
    "# s = await conn.copy_records_to_table(table_name, records=tuples, columns=list(df.columns), timeout=10)"
   ]
  },
  {
   "cell_type": "code",
   "execution_count": null,
   "metadata": {},
   "outputs": [],
   "source": [
    "end = \"20200828 23:59:00\"\n",
    "bars = ib.reqHistoricalData(\n",
    "    contract,endDateTime=end, durationStr='1 D',\n",
    "    barSizeSetting='5 mins', whatToShow='TRADES', useRTH=False)\n",
    "\n",
    "# convert to pandas dataframe:\n",
    "df = util.df(bars)\n",
    "df = df.set_index('date')"
   ]
  }
 ],
 "metadata": {
  "kernelspec": {
   "display_name": "Python 3",
   "language": "python",
   "name": "python3"
  },
  "toc": {
   "base_numbering": 1,
   "nav_menu": {},
   "number_sections": true,
   "sideBar": true,
   "skip_h1_title": false,
   "title_cell": "Table of Contents",
   "title_sidebar": "Contents",
   "toc_cell": false,
   "toc_position": {},
   "toc_section_display": true,
   "toc_window_display": false
  },
  "varInspector": {
   "cols": {
    "lenName": 16,
    "lenType": 16,
    "lenVar": 40
   },
   "kernels_config": {
    "python": {
     "delete_cmd_postfix": "",
     "delete_cmd_prefix": "del ",
     "library": "var_list.py",
     "varRefreshCmd": "print(var_dic_list())"
    },
    "r": {
     "delete_cmd_postfix": ") ",
     "delete_cmd_prefix": "rm(",
     "library": "var_list.r",
     "varRefreshCmd": "cat(var_dic_list()) "
    }
   },
   "position": {
    "height": "646.017px",
    "left": "1199.83px",
    "right": "20.8333px",
    "top": "104px",
    "width": "539.333px"
   },
   "types_to_exclude": [
    "module",
    "function",
    "builtin_function_or_method",
    "instance",
    "_Feature"
   ],
   "window_display": false
  }
 },
 "nbformat": 4,
 "nbformat_minor": 4
}
