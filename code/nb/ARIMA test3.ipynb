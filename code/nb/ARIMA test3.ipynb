{
 "cells": [
  {
   "cell_type": "code",
   "execution_count": 4,
   "metadata": {
    "ExecuteTime": {
     "end_time": "2020-09-04T02:33:02.237608Z",
     "start_time": "2020-09-04T02:33:02.219709Z"
    }
   },
   "outputs": [],
   "source": [
    "import pandas as pd\n",
    "import numpy as np\n",
    "from scipy.stats import kurtosis\n",
    "from pmdarima import auto_arima\n",
    "import pmdarima as pm\n",
    "from sklearn.metrics import mean_squared_error\n",
    "from sklearn.preprocessing import MinMaxScaler\n",
    "from keras.models import Sequential\n",
    "from keras.layers import Dense, LSTM\n",
    "from keras.callbacks import EarlyStopping\n",
    "from talib import abstract\n",
    "import json\n",
    "\n",
    "\n",
    "def mean_absolute_percentage_error(actual, prediction):\n",
    "    actual = pd.Series(actual)\n",
    "    prediction = pd.Series(prediction)\n",
    "    return 100 * np.mean(np.abs((actual - prediction))/actual)\n",
    "\n",
    "\n",
    "def get_arima(data, train_len, test_len):\n",
    "    # prepare train and test data\n",
    "    data = data.tail(test_len + train_len).reset_index(drop=True)\n",
    "    train = data.head(train_len).values.tolist()\n",
    "    test = data.tail(test_len).values.tolist()\n",
    "\n",
    "    # Initialize model\n",
    "    model = auto_arima(train, max_p=3, max_q=3, seasonal=False, trace=True,\n",
    "                       error_action='ignore', suppress_warnings=True)\n",
    "\n",
    "    # Determine model parameters\n",
    "    model.fit(train)\n",
    "    order = model.get_params()['order']\n",
    "    print('ARIMA order:', order, '\\n')\n",
    "\n",
    "    # Genereate predictions\n",
    "    prediction = []\n",
    "    for i in range(len(test)):\n",
    "        model = pm.ARIMA(order=order)\n",
    "        model.fit(train)\n",
    "        print('working on', i+1, 'of', test_len, '-- ' + str(int(100 * (i + 1) / test_len)) + '% complete')\n",
    "        prediction.append(model.predict()[0])\n",
    "        train.append(test[i])\n",
    "\n",
    "    # Generate error data\n",
    "    mse = mean_squared_error(test, prediction)\n",
    "    rmse = mse ** 0.5\n",
    "    mape = mean_absolute_percentage_error(pd.Series(test), pd.Series(prediction))\n",
    "    return prediction, mse, rmse, mape\n",
    "\n",
    "\n",
    "def get_lstm(data, train_len, test_len, lstm_len=4):\n",
    "    # prepare train and test data\n",
    "    data = data.tail(test_len + train_len).reset_index(drop=True)\n",
    "    dataset = np.reshape(data.values, (len(data), 1))\n",
    "    scaler = MinMaxScaler(feature_range=(0, 1))\n",
    "    dataset_scaled = scaler.fit_transform(dataset)\n",
    "    x_train = []\n",
    "    y_train = []\n",
    "    x_test = []\n",
    "\n",
    "    for i in range(lstm_len, train_len):\n",
    "        x_train.append(dataset_scaled[i - lstm_len:i, 0])\n",
    "        y_train.append(dataset_scaled[i, 0])\n",
    "    for i in range(train_len, len(dataset_scaled)):\n",
    "        x_test.append(dataset_scaled[i - lstm_len:i, 0])\n",
    "\n",
    "    x_train = np.array(x_train)\n",
    "    y_train = np.array(y_train)\n",
    "    x_train = np.reshape(x_train, (x_train.shape[0], x_train.shape[1], 1))\n",
    "    x_test = np.array(x_test)\n",
    "    x_test = np.reshape(x_test, (x_test.shape[0], x_test.shape[1], 1))\n",
    "\n",
    "    # Set up & fit LSTM RNN\n",
    "    model = Sequential()\n",
    "    model.add(LSTM(units=lstm_len, return_sequences=True, input_shape=(x_train.shape[1], 1)))\n",
    "    model.add(LSTM(units=int(lstm_len/2)))\n",
    "    model.add(Dense(1, activation='sigmoid'))\n",
    "\n",
    "    model.compile(loss='mean_squared_error', optimizer='adam')\n",
    "    early_stopping = EarlyStopping(monitor='loss', mode='min', verbose=1, patience=5)\n",
    "    model.fit(x_train, y_train, epochs=500, batch_size=1, verbose=2, callbacks=[early_stopping])\n",
    "\n",
    "    # Generate predictions\n",
    "    prediction = model.predict(x_test)\n",
    "    prediction = scaler.inverse_transform(prediction).tolist()\n",
    "\n",
    "    output = []\n",
    "    for i in range(len(prediction)):\n",
    "        output.extend(prediction[i])\n",
    "    prediction = output\n",
    "\n",
    "    # Generate error data\n",
    "    mse = mean_squared_error(data.tail(len(prediction)).values, prediction)\n",
    "    rmse = mse ** 0.5\n",
    "    mape = mean_absolute_percentage_error(data.tail(len(prediction)).reset_index(drop=True), pd.Series(prediction))\n",
    "    return prediction, mse, rmse, mape\n",
    "\n",
    "\n"
   ]
  },
  {
   "cell_type": "code",
   "execution_count": 18,
   "metadata": {
    "ExecuteTime": {
     "end_time": "2020-09-04T02:54:05.151187Z",
     "start_time": "2020-09-04T02:54:04.547699Z"
    }
   },
   "outputs": [],
   "source": [
    "# if __name__ == '__main__':\n",
    "    # Load historical data\n",
    "    # CSV should have columns: ['date', 'open', 'high', 'low', 'close', 'volume']\n",
    "data = pd.read_csv('SPY_bar_sample_10min.csv', index_col=0, header=0).tail(1500).reset_index(drop=False)\n",
    "data['volume'] = data['volume'].astype('int32')\n",
    "del data[\"average\"]\n",
    "del data[\"barcount\"]\n",
    "\n",
    "# Initialize moving averages from Ta-Lib, store functions in dictionary\n",
    "talib_moving_averages = ['SMA', 'EMA', 'WMA', 'DEMA', 'KAMA', 'MIDPOINT', 'MIDPRICE', 'T3', 'TEMA', 'TRIMA']\n",
    "functions = {}\n",
    "for ma in talib_moving_averages:\n",
    "    functions[ma] = abstract.Function(ma)\n",
    "    \n",
    "# Determine kurtosis \"K\" values for MA period 4-99\n",
    "kurtosis_results = {'period': []}\n",
    "for i in range(4, 100):\n",
    "    kurtosis_results['period'].append(i)\n",
    "    for ma in talib_moving_averages:\n",
    "        \n",
    "        # Run moving average, remove last 252 days (used later for test data set), trim MA result to last 60 days\n",
    "        ma_output = functions[ma](data[:-252], i).tail(60)\n",
    "\n",
    "        # Determine kurtosis \"K\" value\n",
    "        k = kurtosis(ma_output, fisher=False)\n",
    "\n",
    "        # add to dictionary\n",
    "        if ma not in kurtosis_results.keys():\n",
    "            kurtosis_results[ma] = []\n",
    "        kurtosis_results[ma].append(k)\n",
    "\n",
    "kurtosis_results = pd.DataFrame(kurtosis_results)\n"
   ]
  },
  {
   "cell_type": "code",
   "execution_count": 19,
   "metadata": {
    "ExecuteTime": {
     "end_time": "2020-09-04T02:54:08.272891Z",
     "start_time": "2020-09-04T02:54:08.250874Z"
    }
   },
   "outputs": [
    {
     "data": {
      "text/html": [
       "<div>\n",
       "<style scoped>\n",
       "    .dataframe tbody tr th:only-of-type {\n",
       "        vertical-align: middle;\n",
       "    }\n",
       "\n",
       "    .dataframe tbody tr th {\n",
       "        vertical-align: top;\n",
       "    }\n",
       "\n",
       "    .dataframe thead th {\n",
       "        text-align: right;\n",
       "    }\n",
       "</style>\n",
       "<table border=\"1\" class=\"dataframe\">\n",
       "  <thead>\n",
       "    <tr style=\"text-align: right;\">\n",
       "      <th></th>\n",
       "      <th>period</th>\n",
       "      <th>SMA</th>\n",
       "      <th>EMA</th>\n",
       "      <th>WMA</th>\n",
       "      <th>DEMA</th>\n",
       "      <th>KAMA</th>\n",
       "      <th>MIDPOINT</th>\n",
       "      <th>MIDPRICE</th>\n",
       "      <th>T3</th>\n",
       "      <th>TEMA</th>\n",
       "      <th>TRIMA</th>\n",
       "    </tr>\n",
       "  </thead>\n",
       "  <tbody>\n",
       "    <tr>\n",
       "      <th>0</th>\n",
       "      <td>4</td>\n",
       "      <td>4.459327</td>\n",
       "      <td>4.150169</td>\n",
       "      <td>3.756510</td>\n",
       "      <td>3.745199</td>\n",
       "      <td>7.631069</td>\n",
       "      <td>4.421332</td>\n",
       "      <td>5.782130</td>\n",
       "      <td>4.707325</td>\n",
       "      <td>4.133767</td>\n",
       "      <td>4.633581</td>\n",
       "    </tr>\n",
       "    <tr>\n",
       "      <th>1</th>\n",
       "      <td>5</td>\n",
       "      <td>5.142722</td>\n",
       "      <td>4.919883</td>\n",
       "      <td>4.091829</td>\n",
       "      <td>3.536003</td>\n",
       "      <td>6.588201</td>\n",
       "      <td>4.478063</td>\n",
       "      <td>5.199357</td>\n",
       "      <td>6.041361</td>\n",
       "      <td>3.911231</td>\n",
       "      <td>5.210874</td>\n",
       "    </tr>\n",
       "    <tr>\n",
       "      <th>2</th>\n",
       "      <td>6</td>\n",
       "      <td>6.015571</td>\n",
       "      <td>5.738469</td>\n",
       "      <td>4.645159</td>\n",
       "      <td>3.392898</td>\n",
       "      <td>4.910843</td>\n",
       "      <td>4.565517</td>\n",
       "      <td>4.716487</td>\n",
       "      <td>7.446217</td>\n",
       "      <td>3.742465</td>\n",
       "      <td>5.848507</td>\n",
       "    </tr>\n",
       "    <tr>\n",
       "      <th>3</th>\n",
       "      <td>7</td>\n",
       "      <td>7.376823</td>\n",
       "      <td>6.399134</td>\n",
       "      <td>5.383712</td>\n",
       "      <td>3.291458</td>\n",
       "      <td>4.890520</td>\n",
       "      <td>5.594703</td>\n",
       "      <td>4.347899</td>\n",
       "      <td>8.419695</td>\n",
       "      <td>3.626023</td>\n",
       "      <td>6.651451</td>\n",
       "    </tr>\n",
       "    <tr>\n",
       "      <th>4</th>\n",
       "      <td>8</td>\n",
       "      <td>8.380819</td>\n",
       "      <td>6.816988</td>\n",
       "      <td>6.190828</td>\n",
       "      <td>3.221630</td>\n",
       "      <td>5.683777</td>\n",
       "      <td>6.049313</td>\n",
       "      <td>4.100213</td>\n",
       "      <td>8.750793</td>\n",
       "      <td>3.546664</td>\n",
       "      <td>7.527316</td>\n",
       "    </tr>\n",
       "    <tr>\n",
       "      <th>...</th>\n",
       "      <td>...</td>\n",
       "      <td>...</td>\n",
       "      <td>...</td>\n",
       "      <td>...</td>\n",
       "      <td>...</td>\n",
       "      <td>...</td>\n",
       "      <td>...</td>\n",
       "      <td>...</td>\n",
       "      <td>...</td>\n",
       "      <td>...</td>\n",
       "      <td>...</td>\n",
       "    </tr>\n",
       "    <tr>\n",
       "      <th>91</th>\n",
       "      <td>95</td>\n",
       "      <td>2.720072</td>\n",
       "      <td>2.008809</td>\n",
       "      <td>1.951291</td>\n",
       "      <td>2.571409</td>\n",
       "      <td>2.641678</td>\n",
       "      <td>4.038864</td>\n",
       "      <td>4.304235</td>\n",
       "      <td>1.777207</td>\n",
       "      <td>3.138310</td>\n",
       "      <td>2.430710</td>\n",
       "    </tr>\n",
       "    <tr>\n",
       "      <th>92</th>\n",
       "      <td>96</td>\n",
       "      <td>2.648108</td>\n",
       "      <td>2.004796</td>\n",
       "      <td>1.957686</td>\n",
       "      <td>2.559194</td>\n",
       "      <td>2.592129</td>\n",
       "      <td>4.038864</td>\n",
       "      <td>4.304235</td>\n",
       "      <td>1.780744</td>\n",
       "      <td>3.121144</td>\n",
       "      <td>2.470575</td>\n",
       "    </tr>\n",
       "    <tr>\n",
       "      <th>93</th>\n",
       "      <td>97</td>\n",
       "      <td>2.569965</td>\n",
       "      <td>2.000900</td>\n",
       "      <td>1.963239</td>\n",
       "      <td>2.547259</td>\n",
       "      <td>2.566300</td>\n",
       "      <td>4.038864</td>\n",
       "      <td>6.159115</td>\n",
       "      <td>1.784206</td>\n",
       "      <td>3.104627</td>\n",
       "      <td>2.507516</td>\n",
       "    </tr>\n",
       "    <tr>\n",
       "      <th>94</th>\n",
       "      <td>98</td>\n",
       "      <td>2.489100</td>\n",
       "      <td>1.997117</td>\n",
       "      <td>1.967910</td>\n",
       "      <td>2.535593</td>\n",
       "      <td>2.539490</td>\n",
       "      <td>4.038864</td>\n",
       "      <td>6.292633</td>\n",
       "      <td>1.787564</td>\n",
       "      <td>3.088725</td>\n",
       "      <td>2.542029</td>\n",
       "    </tr>\n",
       "    <tr>\n",
       "      <th>95</th>\n",
       "      <td>99</td>\n",
       "      <td>2.423379</td>\n",
       "      <td>1.993442</td>\n",
       "      <td>1.971824</td>\n",
       "      <td>2.524184</td>\n",
       "      <td>2.516658</td>\n",
       "      <td>4.298086</td>\n",
       "      <td>5.947862</td>\n",
       "      <td>1.790797</td>\n",
       "      <td>3.073410</td>\n",
       "      <td>2.573219</td>\n",
       "    </tr>\n",
       "  </tbody>\n",
       "</table>\n",
       "<p>96 rows × 11 columns</p>\n",
       "</div>"
      ],
      "text/plain": [
       "    period       SMA       EMA       WMA      DEMA      KAMA  MIDPOINT  \\\n",
       "0        4  4.459327  4.150169  3.756510  3.745199  7.631069  4.421332   \n",
       "1        5  5.142722  4.919883  4.091829  3.536003  6.588201  4.478063   \n",
       "2        6  6.015571  5.738469  4.645159  3.392898  4.910843  4.565517   \n",
       "3        7  7.376823  6.399134  5.383712  3.291458  4.890520  5.594703   \n",
       "4        8  8.380819  6.816988  6.190828  3.221630  5.683777  6.049313   \n",
       "..     ...       ...       ...       ...       ...       ...       ...   \n",
       "91      95  2.720072  2.008809  1.951291  2.571409  2.641678  4.038864   \n",
       "92      96  2.648108  2.004796  1.957686  2.559194  2.592129  4.038864   \n",
       "93      97  2.569965  2.000900  1.963239  2.547259  2.566300  4.038864   \n",
       "94      98  2.489100  1.997117  1.967910  2.535593  2.539490  4.038864   \n",
       "95      99  2.423379  1.993442  1.971824  2.524184  2.516658  4.298086   \n",
       "\n",
       "    MIDPRICE        T3      TEMA     TRIMA  \n",
       "0   5.782130  4.707325  4.133767  4.633581  \n",
       "1   5.199357  6.041361  3.911231  5.210874  \n",
       "2   4.716487  7.446217  3.742465  5.848507  \n",
       "3   4.347899  8.419695  3.626023  6.651451  \n",
       "4   4.100213  8.750793  3.546664  7.527316  \n",
       "..       ...       ...       ...       ...  \n",
       "91  4.304235  1.777207  3.138310  2.430710  \n",
       "92  4.304235  1.780744  3.121144  2.470575  \n",
       "93  6.159115  1.784206  3.104627  2.507516  \n",
       "94  6.292633  1.787564  3.088725  2.542029  \n",
       "95  5.947862  1.790797  3.073410  2.573219  \n",
       "\n",
       "[96 rows x 11 columns]"
      ]
     },
     "metadata": {},
     "output_type": "display_data"
    }
   ],
   "source": [
    "display(kurtosis_results)"
   ]
  },
  {
   "cell_type": "code",
   "execution_count": null,
   "metadata": {
    "ExecuteTime": {
     "start_time": "2020-09-04T03:06:18.667Z"
    },
    "scrolled": true
   },
   "outputs": [
    {
     "name": "stdout",
     "output_type": "stream",
     "text": [
      "\n",
      "Optimized periods: {'SMA': 80, 'EMA': 36, 'WMA': 46, 'DEMA': 71, 'KAMA': 83, 'MIDPOINT': 60, 'MIDPRICE': 18, 'T3': 23, 'TEMA': 25, 'TRIMA': 36}\n",
      "\n",
      "Working on SMA predictions\n",
      "Performing stepwise search to minimize aic\n",
      " ARIMA(2,2,2)(0,0,0)[0] intercept   : AIC=-8122.755, Time=0.81 sec\n",
      " ARIMA(0,2,0)(0,0,0)[0] intercept   : AIC=-8128.065, Time=0.44 sec\n",
      " ARIMA(1,2,0)(0,0,0)[0] intercept   : AIC=-8126.709, Time=0.69 sec\n",
      " ARIMA(0,2,1)(0,0,0)[0] intercept   : AIC=-8126.725, Time=0.73 sec\n",
      " ARIMA(0,2,0)(0,0,0)[0]             : AIC=-8129.782, Time=0.27 sec\n",
      " ARIMA(1,2,1)(0,0,0)[0] intercept   : AIC=-8125.130, Time=0.38 sec\n",
      "\n",
      "Best model:  ARIMA(0,2,0)(0,0,0)[0]          \n",
      "Total fit time: 3.323 seconds\n",
      "ARIMA order: (0, 2, 0) \n",
      "\n",
      "working on 1 of 252 -- 0% complete\n",
      "working on 2 of 252 -- 0% complete\n",
      "working on 3 of 252 -- 1% complete\n",
      "working on 4 of 252 -- 1% complete\n",
      "working on 5 of 252 -- 1% complete\n",
      "working on 6 of 252 -- 2% complete\n",
      "working on 7 of 252 -- 2% complete\n",
      "working on 8 of 252 -- 3% complete\n",
      "working on 9 of 252 -- 3% complete\n",
      "working on 10 of 252 -- 3% complete\n",
      "working on 11 of 252 -- 4% complete\n",
      "working on 12 of 252 -- 4% complete\n",
      "working on 13 of 252 -- 5% complete\n",
      "working on 14 of 252 -- 5% complete\n",
      "working on 15 of 252 -- 5% complete\n",
      "working on 16 of 252 -- 6% complete\n",
      "working on 17 of 252 -- 6% complete\n"
     ]
    },
    {
     "name": "stderr",
     "output_type": "stream",
     "text": [
      "/opt/conda/lib/python3.8/site-packages/statsmodels/base/model.py:567: ConvergenceWarning: Maximum Likelihood optimization failed to converge. Check mle_retvals\n",
      "  warn(\"Maximum Likelihood optimization failed to converge. \"\n"
     ]
    },
    {
     "name": "stdout",
     "output_type": "stream",
     "text": [
      "working on 18 of 252 -- 7% complete\n",
      "working on 19 of 252 -- 7% complete\n",
      "working on 20 of 252 -- 7% complete\n",
      "working on 21 of 252 -- 8% complete\n",
      "working on 22 of 252 -- 8% complete\n"
     ]
    },
    {
     "name": "stderr",
     "output_type": "stream",
     "text": [
      "/opt/conda/lib/python3.8/site-packages/statsmodels/base/model.py:567: ConvergenceWarning: Maximum Likelihood optimization failed to converge. Check mle_retvals\n",
      "  warn(\"Maximum Likelihood optimization failed to converge. \"\n"
     ]
    },
    {
     "name": "stdout",
     "output_type": "stream",
     "text": [
      "working on 23 of 252 -- 9% complete\n",
      "working on 24 of 252 -- 9% complete\n",
      "working on 25 of 252 -- 9% complete\n",
      "working on 26 of 252 -- 10% complete\n",
      "working on 27 of 252 -- 10% complete\n",
      "working on 28 of 252 -- 11% complete\n",
      "working on 29 of 252 -- 11% complete\n",
      "working on 30 of 252 -- 11% complete\n",
      "working on 31 of 252 -- 12% complete\n",
      "working on 32 of 252 -- 12% complete\n",
      "working on 33 of 252 -- 13% complete\n"
     ]
    },
    {
     "name": "stderr",
     "output_type": "stream",
     "text": [
      "/opt/conda/lib/python3.8/site-packages/statsmodels/base/model.py:567: ConvergenceWarning: Maximum Likelihood optimization failed to converge. Check mle_retvals\n",
      "  warn(\"Maximum Likelihood optimization failed to converge. \"\n"
     ]
    },
    {
     "name": "stdout",
     "output_type": "stream",
     "text": [
      "working on 34 of 252 -- 13% complete\n",
      "working on 35 of 252 -- 13% complete\n"
     ]
    },
    {
     "name": "stderr",
     "output_type": "stream",
     "text": [
      "/opt/conda/lib/python3.8/site-packages/statsmodels/base/model.py:567: ConvergenceWarning: Maximum Likelihood optimization failed to converge. Check mle_retvals\n",
      "  warn(\"Maximum Likelihood optimization failed to converge. \"\n"
     ]
    },
    {
     "name": "stdout",
     "output_type": "stream",
     "text": [
      "working on 36 of 252 -- 14% complete\n",
      "working on 37 of 252 -- 14% complete\n",
      "working on 38 of 252 -- 15% complete\n",
      "working on 39 of 252 -- 15% complete\n",
      "working on 40 of 252 -- 15% complete\n"
     ]
    },
    {
     "name": "stderr",
     "output_type": "stream",
     "text": [
      "/opt/conda/lib/python3.8/site-packages/statsmodels/base/model.py:567: ConvergenceWarning: Maximum Likelihood optimization failed to converge. Check mle_retvals\n",
      "  warn(\"Maximum Likelihood optimization failed to converge. \"\n"
     ]
    },
    {
     "name": "stdout",
     "output_type": "stream",
     "text": [
      "working on 41 of 252 -- 16% complete\n",
      "working on 42 of 252 -- 16% complete\n",
      "working on 43 of 252 -- 17% complete\n",
      "working on 44 of 252 -- 17% complete\n",
      "working on 45 of 252 -- 17% complete\n",
      "working on 46 of 252 -- 18% complete\n",
      "working on 47 of 252 -- 18% complete\n",
      "working on 48 of 252 -- 19% complete\n",
      "working on 49 of 252 -- 19% complete\n",
      "working on 50 of 252 -- 19% complete\n",
      "working on 51 of 252 -- 20% complete\n",
      "working on 52 of 252 -- 20% complete\n",
      "working on 53 of 252 -- 21% complete\n",
      "working on 54 of 252 -- 21% complete\n"
     ]
    },
    {
     "name": "stderr",
     "output_type": "stream",
     "text": [
      "/opt/conda/lib/python3.8/site-packages/statsmodels/base/model.py:567: ConvergenceWarning: Maximum Likelihood optimization failed to converge. Check mle_retvals\n",
      "  warn(\"Maximum Likelihood optimization failed to converge. \"\n"
     ]
    },
    {
     "name": "stdout",
     "output_type": "stream",
     "text": [
      "working on 55 of 252 -- 21% complete\n",
      "working on 56 of 252 -- 22% complete\n",
      "working on 57 of 252 -- 22% complete\n",
      "working on 58 of 252 -- 23% complete\n",
      "working on 59 of 252 -- 23% complete\n"
     ]
    },
    {
     "name": "stderr",
     "output_type": "stream",
     "text": [
      "/opt/conda/lib/python3.8/site-packages/statsmodels/base/model.py:567: ConvergenceWarning: Maximum Likelihood optimization failed to converge. Check mle_retvals\n",
      "  warn(\"Maximum Likelihood optimization failed to converge. \"\n"
     ]
    },
    {
     "name": "stdout",
     "output_type": "stream",
     "text": [
      "working on 60 of 252 -- 23% complete\n",
      "working on 61 of 252 -- 24% complete\n",
      "working on 62 of 252 -- 24% complete\n",
      "working on 63 of 252 -- 25% complete\n"
     ]
    },
    {
     "name": "stderr",
     "output_type": "stream",
     "text": [
      "/opt/conda/lib/python3.8/site-packages/statsmodels/base/model.py:567: ConvergenceWarning: Maximum Likelihood optimization failed to converge. Check mle_retvals\n",
      "  warn(\"Maximum Likelihood optimization failed to converge. \"\n"
     ]
    },
    {
     "name": "stdout",
     "output_type": "stream",
     "text": [
      "working on 64 of 252 -- 25% complete\n",
      "working on 65 of 252 -- 25% complete\n",
      "working on 66 of 252 -- 26% complete\n",
      "working on 67 of 252 -- 26% complete\n",
      "working on 68 of 252 -- 26% complete\n",
      "working on 69 of 252 -- 27% complete\n",
      "working on 70 of 252 -- 27% complete\n",
      "working on 71 of 252 -- 28% complete\n",
      "working on 72 of 252 -- 28% complete\n",
      "working on 73 of 252 -- 28% complete\n",
      "working on 74 of 252 -- 29% complete\n"
     ]
    },
    {
     "name": "stderr",
     "output_type": "stream",
     "text": [
      "/opt/conda/lib/python3.8/site-packages/statsmodels/base/model.py:567: ConvergenceWarning: Maximum Likelihood optimization failed to converge. Check mle_retvals\n",
      "  warn(\"Maximum Likelihood optimization failed to converge. \"\n"
     ]
    },
    {
     "name": "stdout",
     "output_type": "stream",
     "text": [
      "working on 75 of 252 -- 29% complete\n",
      "working on 76 of 252 -- 30% complete\n",
      "working on 77 of 252 -- 30% complete\n",
      "working on 78 of 252 -- 30% complete\n",
      "working on 79 of 252 -- 31% complete\n",
      "working on 80 of 252 -- 31% complete\n",
      "working on 81 of 252 -- 32% complete\n",
      "working on 82 of 252 -- 32% complete\n",
      "working on 83 of 252 -- 32% complete\n",
      "working on 84 of 252 -- 33% complete\n"
     ]
    },
    {
     "name": "stderr",
     "output_type": "stream",
     "text": [
      "/opt/conda/lib/python3.8/site-packages/statsmodels/base/model.py:567: ConvergenceWarning: Maximum Likelihood optimization failed to converge. Check mle_retvals\n",
      "  warn(\"Maximum Likelihood optimization failed to converge. \"\n"
     ]
    },
    {
     "name": "stdout",
     "output_type": "stream",
     "text": [
      "working on 85 of 252 -- 33% complete\n",
      "working on 86 of 252 -- 34% complete\n",
      "working on 87 of 252 -- 34% complete\n",
      "working on 88 of 252 -- 34% complete\n",
      "working on 89 of 252 -- 35% complete\n",
      "working on 90 of 252 -- 35% complete\n",
      "working on 91 of 252 -- 36% complete\n",
      "working on 92 of 252 -- 36% complete\n"
     ]
    },
    {
     "name": "stderr",
     "output_type": "stream",
     "text": [
      "/opt/conda/lib/python3.8/site-packages/statsmodels/base/model.py:567: ConvergenceWarning: Maximum Likelihood optimization failed to converge. Check mle_retvals\n",
      "  warn(\"Maximum Likelihood optimization failed to converge. \"\n"
     ]
    },
    {
     "name": "stdout",
     "output_type": "stream",
     "text": [
      "working on 93 of 252 -- 36% complete\n"
     ]
    },
    {
     "name": "stderr",
     "output_type": "stream",
     "text": [
      "/opt/conda/lib/python3.8/site-packages/statsmodels/base/model.py:567: ConvergenceWarning: Maximum Likelihood optimization failed to converge. Check mle_retvals\n",
      "  warn(\"Maximum Likelihood optimization failed to converge. \"\n"
     ]
    },
    {
     "name": "stdout",
     "output_type": "stream",
     "text": [
      "working on 94 of 252 -- 37% complete\n"
     ]
    },
    {
     "name": "stderr",
     "output_type": "stream",
     "text": [
      "/opt/conda/lib/python3.8/site-packages/statsmodels/base/model.py:567: ConvergenceWarning: Maximum Likelihood optimization failed to converge. Check mle_retvals\n",
      "  warn(\"Maximum Likelihood optimization failed to converge. \"\n"
     ]
    },
    {
     "name": "stdout",
     "output_type": "stream",
     "text": [
      "working on 95 of 252 -- 37% complete\n",
      "working on 96 of 252 -- 38% complete\n",
      "working on 97 of 252 -- 38% complete\n"
     ]
    },
    {
     "name": "stderr",
     "output_type": "stream",
     "text": [
      "/opt/conda/lib/python3.8/site-packages/statsmodels/base/model.py:567: ConvergenceWarning: Maximum Likelihood optimization failed to converge. Check mle_retvals\n",
      "  warn(\"Maximum Likelihood optimization failed to converge. \"\n"
     ]
    },
    {
     "name": "stdout",
     "output_type": "stream",
     "text": [
      "working on 98 of 252 -- 38% complete\n",
      "working on 99 of 252 -- 39% complete\n"
     ]
    },
    {
     "name": "stderr",
     "output_type": "stream",
     "text": [
      "/opt/conda/lib/python3.8/site-packages/statsmodels/base/model.py:567: ConvergenceWarning: Maximum Likelihood optimization failed to converge. Check mle_retvals\n",
      "  warn(\"Maximum Likelihood optimization failed to converge. \"\n"
     ]
    },
    {
     "name": "stdout",
     "output_type": "stream",
     "text": [
      "working on 100 of 252 -- 39% complete\n",
      "working on 101 of 252 -- 40% complete\n",
      "working on 102 of 252 -- 40% complete\n",
      "working on 103 of 252 -- 40% complete\n",
      "working on 104 of 252 -- 41% complete\n",
      "working on 105 of 252 -- 41% complete\n",
      "working on 106 of 252 -- 42% complete\n",
      "working on 107 of 252 -- 42% complete\n",
      "working on 108 of 252 -- 42% complete\n",
      "working on 109 of 252 -- 43% complete\n",
      "working on 110 of 252 -- 43% complete\n",
      "working on 111 of 252 -- 44% complete\n",
      "working on 112 of 252 -- 44% complete\n",
      "working on 113 of 252 -- 44% complete\n",
      "working on 114 of 252 -- 45% complete\n",
      "working on 115 of 252 -- 45% complete\n",
      "working on 116 of 252 -- 46% complete\n",
      "working on 117 of 252 -- 46% complete\n",
      "working on 118 of 252 -- 46% complete\n",
      "working on 119 of 252 -- 47% complete\n",
      "working on 120 of 252 -- 47% complete\n",
      "working on 121 of 252 -- 48% complete\n",
      "working on 122 of 252 -- 48% complete\n",
      "working on 123 of 252 -- 48% complete\n",
      "working on 124 of 252 -- 49% complete\n",
      "working on 125 of 252 -- 49% complete\n",
      "working on 126 of 252 -- 50% complete\n",
      "working on 127 of 252 -- 50% complete\n",
      "working on 128 of 252 -- 50% complete\n"
     ]
    },
    {
     "name": "stderr",
     "output_type": "stream",
     "text": [
      "/opt/conda/lib/python3.8/site-packages/statsmodels/base/model.py:567: ConvergenceWarning: Maximum Likelihood optimization failed to converge. Check mle_retvals\n",
      "  warn(\"Maximum Likelihood optimization failed to converge. \"\n"
     ]
    },
    {
     "name": "stdout",
     "output_type": "stream",
     "text": [
      "working on 129 of 252 -- 51% complete\n",
      "working on 130 of 252 -- 51% complete\n",
      "working on 131 of 252 -- 51% complete\n",
      "working on 132 of 252 -- 52% complete\n",
      "working on 133 of 252 -- 52% complete\n",
      "working on 134 of 252 -- 53% complete\n",
      "working on 135 of 252 -- 53% complete\n",
      "working on 136 of 252 -- 53% complete\n"
     ]
    },
    {
     "name": "stderr",
     "output_type": "stream",
     "text": [
      "/opt/conda/lib/python3.8/site-packages/statsmodels/base/model.py:567: ConvergenceWarning: Maximum Likelihood optimization failed to converge. Check mle_retvals\n",
      "  warn(\"Maximum Likelihood optimization failed to converge. \"\n"
     ]
    },
    {
     "name": "stdout",
     "output_type": "stream",
     "text": [
      "working on 137 of 252 -- 54% complete\n",
      "working on 138 of 252 -- 54% complete\n"
     ]
    },
    {
     "name": "stderr",
     "output_type": "stream",
     "text": [
      "/opt/conda/lib/python3.8/site-packages/statsmodels/base/model.py:567: ConvergenceWarning: Maximum Likelihood optimization failed to converge. Check mle_retvals\n",
      "  warn(\"Maximum Likelihood optimization failed to converge. \"\n"
     ]
    },
    {
     "name": "stdout",
     "output_type": "stream",
     "text": [
      "working on 139 of 252 -- 55% complete\n",
      "working on 140 of 252 -- 55% complete\n",
      "working on 141 of 252 -- 55% complete\n",
      "working on 142 of 252 -- 56% complete\n",
      "working on 143 of 252 -- 56% complete\n",
      "working on 144 of 252 -- 57% complete\n"
     ]
    }
   ],
   "source": [
    "\n",
    "\n",
    "# Determine period with K closest to 3 +/-5%\n",
    "optimized_period = {}\n",
    "for ma in talib_moving_averages:\n",
    "    difference = np.abs(kurtosis_results[ma] - 3)\n",
    "    df = pd.DataFrame({'difference': difference, 'period': kurtosis_results['period']})\n",
    "    df = df.sort_values(by=['difference'], ascending=True).reset_index(drop=True)\n",
    "    if df.at[0, 'difference'] < 3 * 0.05:\n",
    "        optimized_period[ma] = int(df.at[0, 'period'])\n",
    "    else:\n",
    "        print(ma + ' is not viable, best K greater or less than 3 +/-5%')\n",
    "\n",
    "print('\\nOptimized periods:', optimized_period)\n",
    "\n",
    "simulation = {}\n",
    "for ma in optimized_period:\n",
    "    # Split data into low volatility and high volatility time series\n",
    "    low_vol = functions[ma](data, optimized_period[ma])\n",
    "    high_vol = data['close'] - low_vol\n",
    "\n",
    "    # Generate ARIMA and LSTM predictions\n",
    "    print('\\nWorking on ' + ma + ' predictions')\n",
    "    try:\n",
    "        low_vol_prediction, low_vol_mse, low_vol_rmse, low_vol_mape = get_arima(low_vol, 1000, 252)\n",
    "    except:\n",
    "        print('ARIMA error, skipping to next MA type')\n",
    "        continue\n",
    "    high_vol_prediction, high_vol_mse, high_vol_rmse, high_vol_mape = get_lstm(high_vol, 1000, 252)\n",
    "\n",
    "    final_prediction = pd.Series(low_vol_prediction) + pd.Series(high_vol_prediction)\n",
    "    mse = mean_squared_error(final_prediction.values, data['close'].tail(252).values)\n",
    "    rmse = mse ** 0.5\n",
    "    mape = mean_absolute_percentage_error(data['close'].tail(252).reset_index(drop=True), final_prediction)\n",
    "\n",
    "    # Generate prediction accuracy\n",
    "    actual = data['close'].tail(252).values\n",
    "    result_1 = []\n",
    "    result_2 = []\n",
    "    for i in range(1, len(final_prediction)):\n",
    "        # Compare prediction to previous close price\n",
    "        if final_prediction[i] > actual[i-1] and actual[i] > actual[i-1]:\n",
    "            result_1.append(1)\n",
    "        elif final_prediction[i] < actual[i-1] and actual[i] < actual[i-1]:\n",
    "            result_1.append(1)\n",
    "        else:\n",
    "            result_1.append(0)\n",
    "\n",
    "        # Compare prediction to previous prediction\n",
    "        if final_prediction[i] > final_prediction[i-1] and actual[i] > actual[i-1]:\n",
    "            result_2.append(1)\n",
    "        elif final_prediction[i] < final_prediction[i-1] and actual[i] < actual[i-1]:\n",
    "            result_2.append(1)\n",
    "        else:\n",
    "            result_2.append(0)\n",
    "\n",
    "    accuracy_1 = np.mean(result_1)\n",
    "    accuracy_2 = np.mean(result_2)\n",
    "\n",
    "    simulation[ma] = {'low_vol': {'prediction': low_vol_prediction, 'mse': low_vol_mse,\n",
    "                                  'rmse': low_vol_rmse, 'mape': low_vol_mape},\n",
    "                      'high_vol': {'prediction': high_vol_prediction, 'mse': high_vol_mse,\n",
    "                                   'rmse': high_vol_rmse},\n",
    "                      'final': {'prediction': final_prediction.values.tolist(), 'mse': mse,\n",
    "                                'rmse': rmse, 'mape': mape},\n",
    "                      'accuracy': {'prediction vs close': accuracy_1, 'prediction vs prediction': accuracy_2}}\n"
   ]
  },
  {
   "cell_type": "code",
   "execution_count": null,
   "metadata": {},
   "outputs": [],
   "source": [
    "high_vol_prediction, high_vol_mse, high_vol_rmse, high_vol_mape = get_lstm(high_vol, 1000, 252)\n",
    "\n",
    "final_prediction = pd.Series(low_vol_prediction) + pd.Series(high_vol_prediction)\n",
    "mse = mean_squared_error(final_prediction.values, data['close'].tail(252).values)\n",
    "rmse = mse ** 0.5\n",
    "mape = mean_absolute_percentage_error(data['close'].tail(252).reset_index(drop=True), final_prediction)\n",
    "\n",
    "# Generate prediction accuracy\n",
    "actual = data['close'].tail(252).values\n",
    "result_1 = []\n",
    "result_2 = []\n",
    "for i in range(1, len(final_prediction)):\n",
    "    # Compare prediction to previous close price\n",
    "    if final_prediction[i] > actual[i-1] and actual[i] > actual[i-1]:\n",
    "        result_1.append(1)\n",
    "    elif final_prediction[i] < actual[i-1] and actual[i] < actual[i-1]:\n",
    "        result_1.append(1)\n",
    "    else:\n",
    "        result_1.append(0)\n",
    "\n",
    "    # Compare prediction to previous prediction\n",
    "    if final_prediction[i] > final_prediction[i-1] and actual[i] > actual[i-1]:\n",
    "        result_2.append(1)\n",
    "    elif final_prediction[i] < final_prediction[i-1] and actual[i] < actual[i-1]:\n",
    "        result_2.append(1)\n",
    "    else:\n",
    "        result_2.append(0)\n",
    "\n",
    "accuracy_1 = np.mean(result_1)\n",
    "accuracy_2 = np.mean(result_2)\n",
    "\n",
    "simulation[ma] = {'low_vol': {'prediction': low_vol_prediction, 'mse': low_vol_mse,\n",
    "                              'rmse': low_vol_rmse, 'mape': low_vol_mape},\n",
    "                  'high_vol': {'prediction': high_vol_prediction, 'mse': high_vol_mse,\n",
    "                               'rmse': high_vol_rmse},\n",
    "                  'final': {'prediction': final_prediction.values.tolist(), 'mse': mse,\n",
    "                            'rmse': rmse, 'mape': mape},\n",
    "                  'accuracy': {'prediction vs close': accuracy_1, 'prediction vs prediction': accuracy_2}}\n",
    "\n",
    "# save simulation data here as checkpoint\n",
    "with open('simulation_data.json', 'w') as fp:\n",
    "    json.dump(simulation, fp)\n",
    "\n",
    "for ma in simulation.keys():\n",
    "print('\\n' + ma)\n",
    "print('Prediction vs Close:\\t\\t' + str(round(100*simulation[ma]['accuracy']['prediction vs close'], 2))\n",
    "      + '% Accuracy')\n",
    "print('Prediction vs Prediction:\\t' + str(round(100*simulation[ma]['accuracy']['prediction vs prediction'], 2))\n",
    "      + '% Accuracy')\n",
    "print('MSE:\\t', simulation[ma]['final']['mse'],\n",
    "      '\\nRMSE:\\t', simulation[ma]['final']['rmse'],\n",
    "      '\\nMAPE:\\t', simulation[ma]['final']['mape'])"
   ]
  },
  {
   "cell_type": "code",
   "execution_count": null,
   "metadata": {},
   "outputs": [],
   "source": []
  }
 ],
 "metadata": {
  "kernelspec": {
   "display_name": "Python 3",
   "language": "python",
   "name": "python3"
  },
  "toc": {
   "base_numbering": 1,
   "nav_menu": {},
   "number_sections": true,
   "sideBar": true,
   "skip_h1_title": false,
   "title_cell": "Table of Contents",
   "title_sidebar": "Contents",
   "toc_cell": false,
   "toc_position": {},
   "toc_section_display": true,
   "toc_window_display": false
  },
  "varInspector": {
   "cols": {
    "lenName": 16,
    "lenType": 16,
    "lenVar": 40
   },
   "kernels_config": {
    "python": {
     "delete_cmd_postfix": "",
     "delete_cmd_prefix": "del ",
     "library": "var_list.py",
     "varRefreshCmd": "print(var_dic_list())"
    },
    "r": {
     "delete_cmd_postfix": ") ",
     "delete_cmd_prefix": "rm(",
     "library": "var_list.r",
     "varRefreshCmd": "cat(var_dic_list()) "
    }
   },
   "types_to_exclude": [
    "module",
    "function",
    "builtin_function_or_method",
    "instance",
    "_Feature"
   ],
   "window_display": false
  }
 },
 "nbformat": 4,
 "nbformat_minor": 4
}
