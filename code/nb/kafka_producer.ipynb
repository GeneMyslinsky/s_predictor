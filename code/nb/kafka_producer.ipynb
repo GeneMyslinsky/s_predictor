{
 "cells": [
  {
   "cell_type": "code",
   "execution_count": 18,
   "metadata": {
    "ExecuteTime": {
     "end_time": "2020-09-26T01:07:00.704402Z",
     "start_time": "2020-09-26T01:07:00.700119Z"
    }
   },
   "outputs": [
    {
     "data": {
      "text/plain": [
       "<cimpl.Producer at 0x7fcbcc2da540>"
      ]
     },
     "metadata": {},
     "output_type": "display_data"
    }
   ],
   "source": [
    "from confluent_kafka import Producer, KafkaError, Consumer\n",
    "import json\n",
    "import socket\n",
    "\n",
    "conf = {'bootstrap.servers': \"broker:29092\",\n",
    "        'client.id': socket.gethostname()}\n",
    "producer = Producer(conf)\n",
    "# consumer = Consumer(conf)\n",
    "display(producer)\n"
   ]
  },
  {
   "cell_type": "code",
   "execution_count": 47,
   "metadata": {
    "ExecuteTime": {
     "end_time": "2020-09-26T01:07:54.371079Z",
     "start_time": "2020-09-26T01:07:54.368140Z"
    }
   },
   "outputs": [
    {
     "name": "stderr",
     "output_type": "stream",
     "text": [
      "<ipython-input-47-b78bf594f921>:3: DeprecationWarning: PY_SSIZE_T_CLEAN will be required for '#' formats\n",
      "  producer.produce('tester', key=\"my_dream\", value=json.dumps(v))\n"
     ]
    }
   ],
   "source": [
    "v={'v1':1,'v2':\"two\"}\n",
    "\n",
    "producer.produce('tester', key=\"my_dream\", value=json.dumps(v))"
   ]
  },
  {
   "cell_type": "code",
   "execution_count": 49,
   "metadata": {
    "ExecuteTime": {
     "end_time": "2020-09-24T03:56:08.043912Z",
     "start_time": "2020-09-24T03:56:08.040607Z"
    }
   },
   "outputs": [
    {
     "name": "stderr",
     "output_type": "stream",
     "text": [
      "<ipython-input-49-5b6973c47c4c>:9: DeprecationWarning: PY_SSIZE_T_CLEAN will be required for '#' formats\n",
      "  producer.produce('test_req', key=str(uuid.uuid4()), value=json.dumps(v))\n"
     ]
    }
   ],
   "source": [
    "from confluent_kafka import Producer, KafkaError, Consumer\n",
    "import json\n",
    "import socket\n",
    "import uuid\n",
    "v = {'contract':['STOCK','SPY','SMART','USD'],'params':{'endt':'20201005 23:99','dur':'1 D','candles':'1 mins','show':'TRADES'}}\n",
    "conf = {'bootstrap.servers': \"broker:29092\",\n",
    "        'client.id': socket.gethostname()}\n",
    "producer = Producer(conf)\n",
    "producer.produce('test_req', key=str(uuid.uuid4()), value=json.dumps(v))"
   ]
  }
 ],
 "metadata": {
  "kernelspec": {
   "display_name": "Python 3",
   "language": "python",
   "name": "python3"
  },
  "language_info": {
   "codemirror_mode": {
    "name": "ipython",
    "version": 3
   },
   "file_extension": ".py",
   "mimetype": "text/x-python",
   "name": "python",
   "nbconvert_exporter": "python",
   "pygments_lexer": "ipython3",
   "version": "3.8.3"
  },
  "toc": {
   "base_numbering": 1,
   "nav_menu": {},
   "number_sections": true,
   "sideBar": true,
   "skip_h1_title": false,
   "title_cell": "Table of Contents",
   "title_sidebar": "Contents",
   "toc_cell": false,
   "toc_position": {},
   "toc_section_display": true,
   "toc_window_display": false
  },
  "varInspector": {
   "cols": {
    "lenName": 16,
    "lenType": 16,
    "lenVar": 40
   },
   "kernels_config": {
    "python": {
     "delete_cmd_postfix": "",
     "delete_cmd_prefix": "del ",
     "library": "var_list.py",
     "varRefreshCmd": "print(var_dic_list())"
    },
    "r": {
     "delete_cmd_postfix": ") ",
     "delete_cmd_prefix": "rm(",
     "library": "var_list.r",
     "varRefreshCmd": "cat(var_dic_list()) "
    }
   },
   "types_to_exclude": [
    "module",
    "function",
    "builtin_function_or_method",
    "instance",
    "_Feature"
   ],
   "window_display": false
  }
 },
 "nbformat": 4,
 "nbformat_minor": 4
}
