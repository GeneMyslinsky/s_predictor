{
 "cells": [
  {
   "cell_type": "code",
   "execution_count": 20,
   "metadata": {
    "ExecuteTime": {
     "end_time": "2020-11-28T20:42:49.546206Z",
     "start_time": "2020-11-28T20:42:49.534973Z"
    }
   },
   "outputs": [],
   "source": [
    "import redis as r\n",
    "from json import loads,dumps\n",
    "r = r.Redis(host='redis', port=6379, db=0)"
   ]
  },
  {
   "cell_type": "code",
   "execution_count": 22,
   "metadata": {
    "ExecuteTime": {
     "end_time": "2020-11-28T20:43:15.695863Z",
     "start_time": "2020-11-28T20:43:15.690333Z"
    }
   },
   "outputs": [
    {
     "data": {
      "text/plain": [
       "[]"
      ]
     },
     "execution_count": 22,
     "metadata": {},
     "output_type": "execute_result"
    }
   ],
   "source": [
    "def rpush(key,objects):\n",
    "    return r.rpush(key,*[dumps(item) for item in objects])\n",
    "    \n",
    "def lrange(key):\n",
    "    return [loads(item) for item in r.lrange(key,0,-1)]\n",
    "\n",
    "def lpop(key):\n",
    "    return loads(r.lpop(key))\n",
    "\n",
    "r.ltrim('hist.queue',99,0)\n",
    "lrange('hist.queue')"
   ]
  },
  {
   "cell_type": "code",
   "execution_count": 4,
   "metadata": {
    "ExecuteTime": {
     "end_time": "2020-11-14T18:44:53.768210Z",
     "start_time": "2020-11-14T18:44:53.764014Z"
    }
   },
   "outputs": [],
   "source": [
    "# barSizeSetting (str) – Time period of one bar. Must be one of: \n",
    "# ‘1 secs’, ‘5 secs’, ‘10 secs’ 15 secs’, ‘30 secs’, ‘1 min’, ‘2 mins’, ‘3 mins’, \n",
    "# ‘5 mins’, ‘10 mins’, ‘15 mins’, ‘20 mins’, ‘30 mins’, \n",
    "# ‘1 hour’, ‘2 hours’, ‘3 hours’, ‘4 hours’, ‘8 hours’, ‘1 day’, ‘1 week’, ‘1 month’."
   ]
  },
  {
   "cell_type": "code",
   "execution_count": 130,
   "metadata": {
    "ExecuteTime": {
     "end_time": "2020-11-01T06:10:46.164950Z",
     "start_time": "2020-11-01T06:10:46.159549Z"
    }
   },
   "outputs": [
    {
     "data": {
      "text/plain": [
       "1"
      ]
     },
     "execution_count": 130,
     "metadata": {},
     "output_type": "execute_result"
    }
   ],
   "source": [
    "\n",
    "a = [{\n",
    "        'request_type':\"hist\",\n",
    "        'contract':{'type':'STOCK','symbol':'SPY','exchange':'SMART','currency':'USD'},\n",
    "        'params':{'endt':'20201023 23:99','dur':'1 D','candles':'15 secs','show':'TRADES'}\n",
    "    }]\n",
    "# rpush('hist.queue',a)"
   ]
  },
  {
   "cell_type": "code",
   "execution_count": 37,
   "metadata": {
    "ExecuteTime": {
     "end_time": "2020-11-29T16:03:44.093648Z",
     "start_time": "2020-11-29T16:03:44.080537Z"
    }
   },
   "outputs": [
    {
     "data": {
      "text/plain": [
       "100"
      ]
     },
     "execution_count": 37,
     "metadata": {},
     "output_type": "execute_result"
    }
   ],
   "source": [
    "symbol = \"NVDA\"\n",
    "## 15 secs\n",
    "f = []\n",
    "for x in daysf:\n",
    "    t = {\n",
    "        'request_type':\"hist\",\n",
    "        'contract':{'type':'STOCK','symbol':symbol,'exchange':'SMART','currency':'USD'},\n",
    "        'params':{'endt':f'{x} 23:99','dur':'1 D','candles':'15 secs','show':'TRADES'}\n",
    "        }\n",
    "    f.append(t)\n",
    "# display(f)\n",
    "rpush('hist.queue',f)\n",
    "\n",
    "f = []\n",
    "for x in daysf:\n",
    "    t = {\n",
    "        'request_type':\"hist\",\n",
    "        'contract':{'type':'STOCK','symbol':symbol,'exchange':'SMART','currency':'USD'},\n",
    "        'params':{'endt':f'{x} 23:99','dur':'1 D','candles':'30 secs','show':'TRADES'}\n",
    "        }\n",
    "    f.append(t)\n",
    "# display(f)\n",
    "rpush('hist.queue',f)\n",
    "\n",
    "f = []\n",
    "for x in daysf:\n",
    "    t = {\n",
    "        'request_type':\"hist\",\n",
    "        'contract':{'type':'STOCK','symbol':symbol,'exchange':'SMART','currency':'USD'},\n",
    "        'params':{'endt':f'{x} 23:99','dur':'1 D','candles':'1 min','show':'TRADES'}\n",
    "        }\n",
    "    f.append(t)\n",
    "# display(f)\n",
    "rpush('hist.queue',f)\n",
    "\n",
    "f = []\n",
    "for x in daysf:\n",
    "    t = {\n",
    "        'request_type':\"hist\",\n",
    "        'contract':{'type':'STOCK','symbol':symbol,'exchange':'SMART','currency':'USD'},\n",
    "        'params':{'endt':f'{x} 23:99','dur':'1 D','candles':'3 mins','show':'TRADES'}\n",
    "        }\n",
    "    f.append(t)\n",
    "# display(f)\n",
    "rpush('hist.queue',f)\n",
    "\n",
    "f = []\n",
    "for x in daysf:\n",
    "    t = {\n",
    "        'request_type':\"hist\",\n",
    "        'contract':{'type':'STOCK','symbol':symbol,'exchange':'SMART','currency':'USD'},\n",
    "        'params':{'endt':f'{x} 23:99','dur':'1 D','candles':'5 mins','show':'TRADES'}\n",
    "        }\n",
    "    f.append(t)\n",
    "# display(f)\n",
    "rpush('hist.queue',f)"
   ]
  },
  {
   "cell_type": "code",
   "execution_count": null,
   "metadata": {},
   "outputs": [],
   "source": [
    "## 30 secs\n",
    "f = []\n",
    "for x in daysf:\n",
    "    t = {\n",
    "        'request_type':\"hist\",\n",
    "        'contract':{'type':'STOCK','symbol':'SPY','exchange':'SMART','currency':'USD'},\n",
    "        'params':{'endt':f'{x} 23:99','dur':'1 D','candles':'30 secs','show':'TRADES'}\n",
    "        }\n",
    "    f.append(t)\n",
    "display(f)\n",
    "rpush('hist.queue',f)"
   ]
  },
  {
   "cell_type": "code",
   "execution_count": null,
   "metadata": {},
   "outputs": [],
   "source": [
    "## 1 min\n",
    "f = []\n",
    "for x in daysf:\n",
    "    t = {\n",
    "        'request_type':\"hist\",\n",
    "        'contract':{'type':'STOCK','symbol':'SPY','exchange':'SMART','currency':'USD'},\n",
    "        'params':{'endt':f'{x} 23:99','dur':'1 D','candles':'1 min','show':'TRADES'}\n",
    "        }\n",
    "    f.append(t)\n",
    "display(f)\n",
    "rpush('hist.queue',f)"
   ]
  },
  {
   "cell_type": "code",
   "execution_count": 35,
   "metadata": {
    "ExecuteTime": {
     "end_time": "2020-11-29T15:51:15.964954Z",
     "start_time": "2020-11-29T15:51:15.958425Z"
    }
   },
   "outputs": [
    {
     "data": {
      "text/plain": [
       "['20201102',\n",
       " '20201103',\n",
       " '20201104',\n",
       " '20201105',\n",
       " '20201106',\n",
       " '20201109',\n",
       " '20201110',\n",
       " '20201111',\n",
       " '20201112',\n",
       " '20201113',\n",
       " '20201116',\n",
       " '20201117',\n",
       " '20201118',\n",
       " '20201119',\n",
       " '20201120',\n",
       " '20201123',\n",
       " '20201124',\n",
       " '20201125',\n",
       " '20201126',\n",
       " '20201127']"
      ]
     },
     "execution_count": 35,
     "metadata": {},
     "output_type": "execute_result"
    }
   ],
   "source": [
    "import datetime, calendar\n",
    "year = 2020\n",
    "month = 4\n",
    "\n",
    "# days = [datetime.date(year, month, day) for day in range(1, num_days+1)]\n",
    "# display(days)\n",
    "\n",
    "# days2=[]\n",
    "\n",
    "def filtWD(year,month,day):\n",
    "    date = datetime.date(year, month, day)\n",
    "    if date>datetime.datetime.now().date():pass\n",
    "    else:\n",
    "        x = date.weekday()\n",
    "        if x < 5: \n",
    "\n",
    "            return date.strftime('%Y%m%d')\n",
    "        else: pass\n",
    "daysf = []\n",
    "for month in range(11,13):\n",
    "    num_days = calendar.monthrange(year, month)[1]\n",
    "    days = list(filter(None,[filtWD(year,month,day) for day in range(1, num_days+1)]))\n",
    "#     .strftime('%Y%m%d')\n",
    "    daysf = daysf+days\n",
    "# print(datetime.datetime.now())\n",
    "# print(daysf[-1])\n",
    "daysf"
   ]
  },
  {
   "cell_type": "code",
   "execution_count": 22,
   "metadata": {
    "ExecuteTime": {
     "end_time": "2020-11-14T19:46:19.633945Z",
     "start_time": "2020-11-14T19:46:19.625988Z"
    }
   },
   "outputs": [],
   "source": [
    "import pytz"
   ]
  },
  {
   "cell_type": "code",
   "execution_count": 141,
   "metadata": {
    "ExecuteTime": {
     "end_time": "2020-11-01T06:57:35.686181Z",
     "start_time": "2020-11-01T06:57:35.681319Z"
    }
   },
   "outputs": [
    {
     "data": {
      "text/plain": [
       "153"
      ]
     },
     "metadata": {},
     "output_type": "display_data"
    },
    {
     "data": {
      "text/plain": [
       "32"
      ]
     },
     "execution_count": 141,
     "metadata": {},
     "output_type": "execute_result"
    }
   ],
   "source": [
    "display(len(daysf))\n",
    "len(lrange('hist.queue'))"
   ]
  }
 ],
 "metadata": {
  "kernelspec": {
   "display_name": "Python 3",
   "language": "python",
   "name": "python3"
  },
  "language_info": {
   "codemirror_mode": {
    "name": "ipython",
    "version": 3
   },
   "file_extension": ".py",
   "mimetype": "text/x-python",
   "name": "python",
   "nbconvert_exporter": "python",
   "pygments_lexer": "ipython3",
   "version": "3.8.3"
  },
  "varInspector": {
   "cols": {
    "lenName": 16,
    "lenType": 16,
    "lenVar": 40
   },
   "kernels_config": {
    "python": {
     "delete_cmd_postfix": "",
     "delete_cmd_prefix": "del ",
     "library": "var_list.py",
     "varRefreshCmd": "print(var_dic_list())"
    },
    "r": {
     "delete_cmd_postfix": ") ",
     "delete_cmd_prefix": "rm(",
     "library": "var_list.r",
     "varRefreshCmd": "cat(var_dic_list()) "
    }
   },
   "types_to_exclude": [
    "module",
    "function",
    "builtin_function_or_method",
    "instance",
    "_Feature"
   ],
   "window_display": false
  }
 },
 "nbformat": 4,
 "nbformat_minor": 4
}
