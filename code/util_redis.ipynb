{
 "cells": [
  {
   "cell_type": "code",
   "execution_count": 1,
   "metadata": {
    "ExecuteTime": {
     "end_time": "2020-10-31T23:07:42.229672Z",
     "start_time": "2020-10-31T23:07:42.222514Z"
    }
   },
   "outputs": [],
   "source": [
    "import redis as r\n",
    "from json import loads,dumps\n",
    "r = r.Redis(host='redis', port=6379, db=0)"
   ]
  },
  {
   "cell_type": "code",
   "execution_count": 76,
   "metadata": {
    "ExecuteTime": {
     "end_time": "2020-11-01T05:05:58.875225Z",
     "start_time": "2020-11-01T05:05:58.870107Z"
    }
   },
   "outputs": [
    {
     "data": {
      "text/plain": [
       "[datetime.date(2020, 9, 1),\n",
       " datetime.date(2020, 9, 2),\n",
       " datetime.date(2020, 9, 3),\n",
       " datetime.date(2020, 9, 4),\n",
       " datetime.date(2020, 9, 5),\n",
       " datetime.date(2020, 9, 6),\n",
       " datetime.date(2020, 9, 7),\n",
       " datetime.date(2020, 9, 8),\n",
       " datetime.date(2020, 9, 9),\n",
       " datetime.date(2020, 9, 10),\n",
       " datetime.date(2020, 9, 11),\n",
       " datetime.date(2020, 9, 12),\n",
       " datetime.date(2020, 9, 13),\n",
       " datetime.date(2020, 9, 14),\n",
       " datetime.date(2020, 9, 15),\n",
       " datetime.date(2020, 9, 16),\n",
       " datetime.date(2020, 9, 17),\n",
       " datetime.date(2020, 9, 18),\n",
       " datetime.date(2020, 9, 19),\n",
       " datetime.date(2020, 9, 20),\n",
       " datetime.date(2020, 9, 21),\n",
       " datetime.date(2020, 9, 22),\n",
       " datetime.date(2020, 9, 23),\n",
       " datetime.date(2020, 9, 24),\n",
       " datetime.date(2020, 9, 25),\n",
       " datetime.date(2020, 9, 26),\n",
       " datetime.date(2020, 9, 27),\n",
       " datetime.date(2020, 9, 28),\n",
       " datetime.date(2020, 9, 29),\n",
       " datetime.date(2020, 9, 30)]"
      ]
     },
     "metadata": {},
     "output_type": "display_data"
    }
   ],
   "source": []
  },
  {
   "cell_type": "code",
   "execution_count": 2,
   "metadata": {
    "ExecuteTime": {
     "end_time": "2020-10-31T23:07:43.074846Z",
     "start_time": "2020-10-31T23:07:43.071089Z"
    }
   },
   "outputs": [],
   "source": [
    "def rpush(key,objects):\n",
    "    return r.rpush(key,*[dumps(item) for item in objects])\n",
    "    \n",
    "def lrange(key):\n",
    "    return [loads(item) for item in r.lrange(key,0,-1)]\n",
    "\n",
    "def lpop(key):\n",
    "    return loads(r.lpop(key))"
   ]
  },
  {
   "cell_type": "code",
   "execution_count": 46,
   "metadata": {
    "ExecuteTime": {
     "end_time": "2020-11-01T03:32:40.798951Z",
     "start_time": "2020-11-01T03:32:40.795663Z"
    }
   },
   "outputs": [],
   "source": [
    "for x in range(31):\n",
    "a = [{\n",
    "        'request_type':\"hist\",\n",
    "        'contract':{'type':'STOCK','symbol':'SPY','exchange':'SMART','currency':'USD'},\n",
    "        'params':{'endt':'f202010{} 23:99','dur':'1 D','candles':'15 secs','show':'TRADES'}\n",
    "    }]\n",
    "rpush('hist.queue',a)"
   ]
  },
  {
   "cell_type": "code",
   "execution_count": 116,
   "metadata": {
    "ExecuteTime": {
     "end_time": "2020-11-01T05:46:40.497767Z",
     "start_time": "2020-11-01T05:46:40.485884Z"
    }
   },
   "outputs": [
    {
     "data": {
      "text/plain": [
       "[{'request_type': 'hist',\n",
       "  'contract': {'type': 'STOCK',\n",
       "   'symbol': 'SPY',\n",
       "   'exchange': 'SMART',\n",
       "   'currency': 'USD'},\n",
       "  'params': {'endt': '20200401 23:99',\n",
       "   'dur': '1 D',\n",
       "   'candles': '15 secs',\n",
       "   'show': 'TRADES'}},\n",
       " {'request_type': 'hist',\n",
       "  'contract': {'type': 'STOCK',\n",
       "   'symbol': 'SPY',\n",
       "   'exchange': 'SMART',\n",
       "   'currency': 'USD'},\n",
       "  'params': {'endt': '20200402 23:99',\n",
       "   'dur': '1 D',\n",
       "   'candles': '15 secs',\n",
       "   'show': 'TRADES'}},\n",
       " {'request_type': 'hist',\n",
       "  'contract': {'type': 'STOCK',\n",
       "   'symbol': 'SPY',\n",
       "   'exchange': 'SMART',\n",
       "   'currency': 'USD'},\n",
       "  'params': {'endt': '20200403 23:99',\n",
       "   'dur': '1 D',\n",
       "   'candles': '15 secs',\n",
       "   'show': 'TRADES'}},\n",
       " {'request_type': 'hist',\n",
       "  'contract': {'type': 'STOCK',\n",
       "   'symbol': 'SPY',\n",
       "   'exchange': 'SMART',\n",
       "   'currency': 'USD'},\n",
       "  'params': {'endt': '20200406 23:99',\n",
       "   'dur': '1 D',\n",
       "   'candles': '15 secs',\n",
       "   'show': 'TRADES'}},\n",
       " {'request_type': 'hist',\n",
       "  'contract': {'type': 'STOCK',\n",
       "   'symbol': 'SPY',\n",
       "   'exchange': 'SMART',\n",
       "   'currency': 'USD'},\n",
       "  'params': {'endt': '20200407 23:99',\n",
       "   'dur': '1 D',\n",
       "   'candles': '15 secs',\n",
       "   'show': 'TRADES'}},\n",
       " {'request_type': 'hist',\n",
       "  'contract': {'type': 'STOCK',\n",
       "   'symbol': 'SPY',\n",
       "   'exchange': 'SMART',\n",
       "   'currency': 'USD'},\n",
       "  'params': {'endt': '20200408 23:99',\n",
       "   'dur': '1 D',\n",
       "   'candles': '15 secs',\n",
       "   'show': 'TRADES'}},\n",
       " {'request_type': 'hist',\n",
       "  'contract': {'type': 'STOCK',\n",
       "   'symbol': 'SPY',\n",
       "   'exchange': 'SMART',\n",
       "   'currency': 'USD'},\n",
       "  'params': {'endt': '20200409 23:99',\n",
       "   'dur': '1 D',\n",
       "   'candles': '15 secs',\n",
       "   'show': 'TRADES'}},\n",
       " {'request_type': 'hist',\n",
       "  'contract': {'type': 'STOCK',\n",
       "   'symbol': 'SPY',\n",
       "   'exchange': 'SMART',\n",
       "   'currency': 'USD'},\n",
       "  'params': {'endt': '20200410 23:99',\n",
       "   'dur': '1 D',\n",
       "   'candles': '15 secs',\n",
       "   'show': 'TRADES'}},\n",
       " {'request_type': 'hist',\n",
       "  'contract': {'type': 'STOCK',\n",
       "   'symbol': 'SPY',\n",
       "   'exchange': 'SMART',\n",
       "   'currency': 'USD'},\n",
       "  'params': {'endt': '20200413 23:99',\n",
       "   'dur': '1 D',\n",
       "   'candles': '15 secs',\n",
       "   'show': 'TRADES'}},\n",
       " {'request_type': 'hist',\n",
       "  'contract': {'type': 'STOCK',\n",
       "   'symbol': 'SPY',\n",
       "   'exchange': 'SMART',\n",
       "   'currency': 'USD'},\n",
       "  'params': {'endt': '20200414 23:99',\n",
       "   'dur': '1 D',\n",
       "   'candles': '15 secs',\n",
       "   'show': 'TRADES'}},\n",
       " {'request_type': 'hist',\n",
       "  'contract': {'type': 'STOCK',\n",
       "   'symbol': 'SPY',\n",
       "   'exchange': 'SMART',\n",
       "   'currency': 'USD'},\n",
       "  'params': {'endt': '20200415 23:99',\n",
       "   'dur': '1 D',\n",
       "   'candles': '15 secs',\n",
       "   'show': 'TRADES'}},\n",
       " {'request_type': 'hist',\n",
       "  'contract': {'type': 'STOCK',\n",
       "   'symbol': 'SPY',\n",
       "   'exchange': 'SMART',\n",
       "   'currency': 'USD'},\n",
       "  'params': {'endt': '20200416 23:99',\n",
       "   'dur': '1 D',\n",
       "   'candles': '15 secs',\n",
       "   'show': 'TRADES'}},\n",
       " {'request_type': 'hist',\n",
       "  'contract': {'type': 'STOCK',\n",
       "   'symbol': 'SPY',\n",
       "   'exchange': 'SMART',\n",
       "   'currency': 'USD'},\n",
       "  'params': {'endt': '20200417 23:99',\n",
       "   'dur': '1 D',\n",
       "   'candles': '15 secs',\n",
       "   'show': 'TRADES'}},\n",
       " {'request_type': 'hist',\n",
       "  'contract': {'type': 'STOCK',\n",
       "   'symbol': 'SPY',\n",
       "   'exchange': 'SMART',\n",
       "   'currency': 'USD'},\n",
       "  'params': {'endt': '20200420 23:99',\n",
       "   'dur': '1 D',\n",
       "   'candles': '15 secs',\n",
       "   'show': 'TRADES'}},\n",
       " {'request_type': 'hist',\n",
       "  'contract': {'type': 'STOCK',\n",
       "   'symbol': 'SPY',\n",
       "   'exchange': 'SMART',\n",
       "   'currency': 'USD'},\n",
       "  'params': {'endt': '20200421 23:99',\n",
       "   'dur': '1 D',\n",
       "   'candles': '15 secs',\n",
       "   'show': 'TRADES'}},\n",
       " {'request_type': 'hist',\n",
       "  'contract': {'type': 'STOCK',\n",
       "   'symbol': 'SPY',\n",
       "   'exchange': 'SMART',\n",
       "   'currency': 'USD'},\n",
       "  'params': {'endt': '20200422 23:99',\n",
       "   'dur': '1 D',\n",
       "   'candles': '15 secs',\n",
       "   'show': 'TRADES'}},\n",
       " {'request_type': 'hist',\n",
       "  'contract': {'type': 'STOCK',\n",
       "   'symbol': 'SPY',\n",
       "   'exchange': 'SMART',\n",
       "   'currency': 'USD'},\n",
       "  'params': {'endt': '20200423 23:99',\n",
       "   'dur': '1 D',\n",
       "   'candles': '15 secs',\n",
       "   'show': 'TRADES'}},\n",
       " {'request_type': 'hist',\n",
       "  'contract': {'type': 'STOCK',\n",
       "   'symbol': 'SPY',\n",
       "   'exchange': 'SMART',\n",
       "   'currency': 'USD'},\n",
       "  'params': {'endt': '20200424 23:99',\n",
       "   'dur': '1 D',\n",
       "   'candles': '15 secs',\n",
       "   'show': 'TRADES'}},\n",
       " {'request_type': 'hist',\n",
       "  'contract': {'type': 'STOCK',\n",
       "   'symbol': 'SPY',\n",
       "   'exchange': 'SMART',\n",
       "   'currency': 'USD'},\n",
       "  'params': {'endt': '20200427 23:99',\n",
       "   'dur': '1 D',\n",
       "   'candles': '15 secs',\n",
       "   'show': 'TRADES'}},\n",
       " {'request_type': 'hist',\n",
       "  'contract': {'type': 'STOCK',\n",
       "   'symbol': 'SPY',\n",
       "   'exchange': 'SMART',\n",
       "   'currency': 'USD'},\n",
       "  'params': {'endt': '20200428 23:99',\n",
       "   'dur': '1 D',\n",
       "   'candles': '15 secs',\n",
       "   'show': 'TRADES'}},\n",
       " {'request_type': 'hist',\n",
       "  'contract': {'type': 'STOCK',\n",
       "   'symbol': 'SPY',\n",
       "   'exchange': 'SMART',\n",
       "   'currency': 'USD'},\n",
       "  'params': {'endt': '20200429 23:99',\n",
       "   'dur': '1 D',\n",
       "   'candles': '15 secs',\n",
       "   'show': 'TRADES'}},\n",
       " {'request_type': 'hist',\n",
       "  'contract': {'type': 'STOCK',\n",
       "   'symbol': 'SPY',\n",
       "   'exchange': 'SMART',\n",
       "   'currency': 'USD'},\n",
       "  'params': {'endt': '20200430 23:99',\n",
       "   'dur': '1 D',\n",
       "   'candles': '15 secs',\n",
       "   'show': 'TRADES'}}]"
      ]
     },
     "metadata": {},
     "output_type": "display_data"
    },
    {
     "data": {
      "text/plain": [
       "62"
      ]
     },
     "execution_count": 116,
     "metadata": {},
     "output_type": "execute_result"
    }
   ],
   "source": [
    "f = []\n",
    "for x in days:\n",
    "    t = {\n",
    "        'request_type':\"hist\",\n",
    "        'contract':{'type':'STOCK','symbol':'SPY','exchange':'SMART','currency':'USD'},\n",
    "        'params':{'endt':f'{x} 23:99','dur':'1 D','candles':'15 secs','show':'TRADES'}\n",
    "        }\n",
    "    f.append(t)\n",
    "display(f)\n",
    "rpush('hist.queue',f)"
   ]
  },
  {
   "cell_type": "code",
   "execution_count": 115,
   "metadata": {
    "ExecuteTime": {
     "end_time": "2020-11-01T05:46:37.916968Z",
     "start_time": "2020-11-01T05:46:37.911031Z"
    }
   },
   "outputs": [
    {
     "data": {
      "text/plain": [
       "['20200401',\n",
       " '20200402',\n",
       " '20200403',\n",
       " '20200406',\n",
       " '20200407',\n",
       " '20200408',\n",
       " '20200409',\n",
       " '20200410',\n",
       " '20200413',\n",
       " '20200414',\n",
       " '20200415',\n",
       " '20200416',\n",
       " '20200417',\n",
       " '20200420',\n",
       " '20200421',\n",
       " '20200422',\n",
       " '20200423',\n",
       " '20200424',\n",
       " '20200427',\n",
       " '20200428',\n",
       " '20200429',\n",
       " '20200430']"
      ]
     },
     "execution_count": 115,
     "metadata": {},
     "output_type": "execute_result"
    }
   ],
   "source": [
    "import datetime, calendar\n",
    "year = 2020\n",
    "month = 4\n",
    "num_days = calendar.monthrange(year, month)[1]\n",
    "# days = [datetime.date(year, month, day) for day in range(1, num_days+1)]\n",
    "# display(days)\n",
    "\n",
    "# days2=[]\n",
    "def filtWD(year,month,day):\n",
    "    date = datetime.date(year, month, day)\n",
    "    x = date.weekday()\n",
    "    if x < 5: return date.strftime('%Y%m%d')\n",
    "    else: pass\n",
    "\n",
    "days = list(filter(None,[filtWD(year,month,day) for day in range(1, num_days+1)]))\n",
    "#     .strftime('%Y%m%d')\n",
    "days"
   ]
  },
  {
   "cell_type": "code",
   "execution_count": 126,
   "metadata": {
    "ExecuteTime": {
     "end_time": "2020-11-01T05:59:27.515600Z",
     "start_time": "2020-11-01T05:59:27.510979Z"
    }
   },
   "outputs": [
    {
     "data": {
      "text/plain": [
       "22"
      ]
     },
     "metadata": {},
     "output_type": "display_data"
    },
    {
     "data": {
      "text/plain": [
       "10"
      ]
     },
     "execution_count": 126,
     "metadata": {},
     "output_type": "execute_result"
    }
   ],
   "source": [
    "display(len(days))\n",
    "len(lrange('hist.queue'))"
   ]
  }
 ],
 "metadata": {
  "kernelspec": {
   "display_name": "Python 3",
   "language": "python",
   "name": "python3"
  },
  "language_info": {
   "codemirror_mode": {
    "name": "ipython",
    "version": 3
   },
   "file_extension": ".py",
   "mimetype": "text/x-python",
   "name": "python",
   "nbconvert_exporter": "python",
   "pygments_lexer": "ipython3",
   "version": "3.8.3"
  },
  "varInspector": {
   "cols": {
    "lenName": 16,
    "lenType": 16,
    "lenVar": 40
   },
   "kernels_config": {
    "python": {
     "delete_cmd_postfix": "",
     "delete_cmd_prefix": "del ",
     "library": "var_list.py",
     "varRefreshCmd": "print(var_dic_list())"
    },
    "r": {
     "delete_cmd_postfix": ") ",
     "delete_cmd_prefix": "rm(",
     "library": "var_list.r",
     "varRefreshCmd": "cat(var_dic_list()) "
    }
   },
   "types_to_exclude": [
    "module",
    "function",
    "builtin_function_or_method",
    "instance",
    "_Feature"
   ],
   "window_display": false
  }
 },
 "nbformat": 4,
 "nbformat_minor": 4
}
