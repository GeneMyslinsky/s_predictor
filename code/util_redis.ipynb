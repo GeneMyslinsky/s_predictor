{
 "cells": [
  {
   "cell_type": "code",
   "execution_count": 1,
   "metadata": {
    "ExecuteTime": {
     "end_time": "2021-02-28T00:32:36.115405Z",
     "start_time": "2021-02-28T00:32:36.100811Z"
    }
   },
   "outputs": [],
   "source": [
    "import redis as r\n",
    "from json import loads,dumps\n",
    "r = r.Redis(host='redis', port=6379, db=0)"
   ]
  },
  {
   "cell_type": "code",
   "execution_count": 2,
   "metadata": {
    "ExecuteTime": {
     "end_time": "2021-02-28T00:48:23.186503Z",
     "start_time": "2021-02-28T00:48:23.173682Z"
    }
   },
   "outputs": [
    {
     "data": {
      "text/plain": [
       "[]"
      ]
     },
     "execution_count": 2,
     "metadata": {},
     "output_type": "execute_result"
    }
   ],
   "source": [
    "def rpush(key,objects):\n",
    "    return r.rpush(key,*[dumps(item) for item in objects])\n",
    "    \n",
    "def lrange(key):\n",
    "    return [loads(item) for item in r.lrange(key,0,-1)]\n",
    "\n",
    "def lpop(key):\n",
    "    return loads(r.lpop(key))\n",
    "\n",
    "r.ltrim('hist.queue',99,0)\n",
    "lrange('hist.queue')"
   ]
  },
  {
   "cell_type": "code",
   "execution_count": 50,
   "metadata": {
    "ExecuteTime": {
     "end_time": "2021-02-28T03:35:23.146538Z",
     "start_time": "2021-02-28T03:35:23.138623Z"
    },
    "scrolled": false
   },
   "outputs": [
    {
     "data": {
      "text/plain": [
       "818"
      ]
     },
     "execution_count": 50,
     "metadata": {},
     "output_type": "execute_result"
    }
   ],
   "source": [
    "len(lrange('hist.queue'))\n",
    "\n",
    "# barSizeSetting (str) – Time period of one bar. Must be one of: \n",
    "# ‘1 secs’, ‘5 secs’, ‘10 secs’ 15 secs’, ‘30 secs’, ‘1 min’, ‘2 mins’, ‘3 mins’, \n",
    "# ‘5 mins’, ‘10 mins’, ‘15 mins’, ‘20 mins’, ‘30 mins’, \n",
    "# ‘1 hour’, ‘2 hours’, ‘3 hours’, ‘4 hours’, ‘8 hours’, ‘1 day’, ‘1 week’, ‘1 month’."
   ]
  },
  {
   "cell_type": "code",
   "execution_count": 130,
   "metadata": {
    "ExecuteTime": {
     "end_time": "2020-11-01T06:10:46.164950Z",
     "start_time": "2020-11-01T06:10:46.159549Z"
    }
   },
   "outputs": [
    {
     "data": {
      "text/plain": [
       "1"
      ]
     },
     "execution_count": 130,
     "metadata": {},
     "output_type": "execute_result"
    }
   ],
   "source": [
    "\n",
    "a = [{\n",
    "        'request_type':\"hist\",\n",
    "        'contract':{'type':'STOCK','symbol':'SPY','exchange':'SMART','currency':'USD'},\n",
    "        'params':{'endt':'20201023 23:99','dur':'1 D','candles':'15 secs','show':'TRADES'}\n",
    "    }]\n",
    "# rpush('hist.queue',a)"
   ]
  },
  {
   "cell_type": "code",
   "execution_count": 46,
   "metadata": {
    "ExecuteTime": {
     "end_time": "2021-02-28T02:36:56.545560Z",
     "start_time": "2021-02-28T02:36:56.521731Z"
    }
   },
   "outputs": [
    {
     "data": {
      "text/plain": [
       "1185"
      ]
     },
     "execution_count": 46,
     "metadata": {},
     "output_type": "execute_result"
    }
   ],
   "source": [
    "symbol = \"TSLA\"\n",
    "## 15 secs\n",
    "f = []\n",
    "for x in daysf:\n",
    "    t = {\n",
    "        'request_type':\"hist\",\n",
    "        'contract':{'type':'STOCK','symbol':symbol,'exchange':'SMART','currency':'USD'},\n",
    "        'params':{'endt':f'{x} 23:99','dur':'1 D','candles':'15 secs','show':'TRADES'}\n",
    "        }\n",
    "    f.append(t)\n",
    "# display(f)\n",
    "rpush('hist.queue',f)\n",
    "\n",
    "f = []\n",
    "for x in daysf:\n",
    "    t = {\n",
    "        'request_type':\"hist\",\n",
    "        'contract':{'type':'STOCK','symbol':symbol,'exchange':'SMART','currency':'USD'},\n",
    "        'params':{'endt':f'{x} 23:99','dur':'1 D','candles':'30 secs','show':'TRADES'}\n",
    "        }\n",
    "    f.append(t)\n",
    "# display(f)\n",
    "rpush('hist.queue',f)\n",
    "\n",
    "f = []\n",
    "for x in daysf:\n",
    "    t = {\n",
    "        'request_type':\"hist\",\n",
    "        'contract':{'type':'STOCK','symbol':symbol,'exchange':'SMART','currency':'USD'},\n",
    "        'params':{'endt':f'{x} 23:99','dur':'1 D','candles':'1 min','show':'TRADES'}\n",
    "        }\n",
    "    f.append(t)\n",
    "# display(f)\n",
    "rpush('hist.queue',f)\n",
    "\n",
    "f = []\n",
    "for x in daysf:\n",
    "    t = {\n",
    "        'request_type':\"hist\",\n",
    "        'contract':{'type':'STOCK','symbol':symbol,'exchange':'SMART','currency':'USD'},\n",
    "        'params':{'endt':f'{x} 23:99','dur':'1 D','candles':'3 mins','show':'TRADES'}\n",
    "        }\n",
    "    f.append(t)\n",
    "# display(f)\n",
    "rpush('hist.queue',f)\n",
    "\n",
    "f = []\n",
    "for x in daysf:\n",
    "    t = {\n",
    "        'request_type':\"hist\",\n",
    "        'contract':{'type':'STOCK','symbol':symbol,'exchange':'SMART','currency':'USD'},\n",
    "        'params':{'endt':f'{x} 23:99','dur':'1 D','candles':'5 mins','show':'TRADES'}\n",
    "        }\n",
    "    f.append(t)\n",
    "# display(f)\n",
    "rpush('hist.queue',f)"
   ]
  },
  {
   "cell_type": "code",
   "execution_count": null,
   "metadata": {},
   "outputs": [],
   "source": [
    "## 30 secs\n",
    "f = []\n",
    "for x in daysf:\n",
    "    t = {\n",
    "        'request_type':\"hist\",\n",
    "        'contract':{'type':'STOCK','symbol':'SPY','exchange':'SMART','currency':'USD'},\n",
    "        'params':{'endt':f'{x} 23:99','dur':'1 D','candles':'30 secs','show':'TRADES'}\n",
    "        }\n",
    "    f.append(t)\n",
    "display(f)\n",
    "rpush('hist.queue',f)"
   ]
  },
  {
   "cell_type": "code",
   "execution_count": null,
   "metadata": {},
   "outputs": [],
   "source": [
    "## 1 min\n",
    "f = []\n",
    "for x in daysf:\n",
    "    t = {\n",
    "        'request_type':\"hist\",\n",
    "        'contract':{'type':'STOCK','symbol':'SPY','exchange':'SMART','currency':'USD'},\n",
    "        'params':{'endt':f'{x} 23:99','dur':'1 D','candles':'1 min','show':'TRADES'}\n",
    "        }\n",
    "    f.append(t)\n",
    "display(f)\n",
    "rpush('hist.queue',f)"
   ]
  },
  {
   "cell_type": "code",
   "execution_count": 45,
   "metadata": {
    "ExecuteTime": {
     "end_time": "2021-02-28T02:36:27.221085Z",
     "start_time": "2021-02-28T02:36:27.213163Z"
    },
    "scrolled": false
   },
   "outputs": [
    {
     "data": {
      "text/plain": [
       "['20200401',\n",
       " '20200402',\n",
       " '20200403',\n",
       " '20200406',\n",
       " '20200407',\n",
       " '20200408',\n",
       " '20200409',\n",
       " '20200410',\n",
       " '20200413',\n",
       " '20200414',\n",
       " '20200415',\n",
       " '20200416',\n",
       " '20200417',\n",
       " '20200420',\n",
       " '20200421',\n",
       " '20200422',\n",
       " '20200423',\n",
       " '20200424',\n",
       " '20200427',\n",
       " '20200428',\n",
       " '20200429',\n",
       " '20200430',\n",
       " '20200501',\n",
       " '20200504',\n",
       " '20200505',\n",
       " '20200506',\n",
       " '20200507',\n",
       " '20200508',\n",
       " '20200511',\n",
       " '20200512',\n",
       " '20200513',\n",
       " '20200514',\n",
       " '20200515',\n",
       " '20200518',\n",
       " '20200519',\n",
       " '20200520',\n",
       " '20200521',\n",
       " '20200522',\n",
       " '20200525',\n",
       " '20200526',\n",
       " '20200527',\n",
       " '20200528',\n",
       " '20200529',\n",
       " '20200601',\n",
       " '20200602',\n",
       " '20200603',\n",
       " '20200604',\n",
       " '20200605',\n",
       " '20200608',\n",
       " '20200609',\n",
       " '20200610',\n",
       " '20200611',\n",
       " '20200612',\n",
       " '20200615',\n",
       " '20200616',\n",
       " '20200617',\n",
       " '20200618',\n",
       " '20200619',\n",
       " '20200622',\n",
       " '20200623',\n",
       " '20200624',\n",
       " '20200625',\n",
       " '20200626',\n",
       " '20200629',\n",
       " '20200630',\n",
       " '20200701',\n",
       " '20200702',\n",
       " '20200703',\n",
       " '20200706',\n",
       " '20200707',\n",
       " '20200708',\n",
       " '20200709',\n",
       " '20200710',\n",
       " '20200713',\n",
       " '20200714',\n",
       " '20200715',\n",
       " '20200716',\n",
       " '20200717',\n",
       " '20200720',\n",
       " '20200721',\n",
       " '20200722',\n",
       " '20200723',\n",
       " '20200724',\n",
       " '20200727',\n",
       " '20200728',\n",
       " '20200729',\n",
       " '20200730',\n",
       " '20200731',\n",
       " '20200803',\n",
       " '20200804',\n",
       " '20200805',\n",
       " '20200806',\n",
       " '20200807',\n",
       " '20200810',\n",
       " '20200811',\n",
       " '20200812',\n",
       " '20200813',\n",
       " '20200814',\n",
       " '20200817',\n",
       " '20200818',\n",
       " '20200819',\n",
       " '20200820',\n",
       " '20200821',\n",
       " '20200824',\n",
       " '20200825',\n",
       " '20200826',\n",
       " '20200827',\n",
       " '20200828',\n",
       " '20200831',\n",
       " '20200901',\n",
       " '20200902',\n",
       " '20200903',\n",
       " '20200904',\n",
       " '20200907',\n",
       " '20200908',\n",
       " '20200909',\n",
       " '20200910',\n",
       " '20200911',\n",
       " '20200914',\n",
       " '20200915',\n",
       " '20200916',\n",
       " '20200917',\n",
       " '20200918',\n",
       " '20200921',\n",
       " '20200922',\n",
       " '20200923',\n",
       " '20200924',\n",
       " '20200925',\n",
       " '20200928',\n",
       " '20200929',\n",
       " '20200930',\n",
       " '20201001',\n",
       " '20201002',\n",
       " '20201005',\n",
       " '20201006',\n",
       " '20201007',\n",
       " '20201008',\n",
       " '20201009',\n",
       " '20201012',\n",
       " '20201013',\n",
       " '20201014',\n",
       " '20201015',\n",
       " '20201016',\n",
       " '20201019',\n",
       " '20201020',\n",
       " '20201021',\n",
       " '20201022',\n",
       " '20201023',\n",
       " '20201026',\n",
       " '20201027',\n",
       " '20201028',\n",
       " '20201029',\n",
       " '20201030',\n",
       " '20201102',\n",
       " '20201103',\n",
       " '20201104',\n",
       " '20201105',\n",
       " '20201106',\n",
       " '20201109',\n",
       " '20201110',\n",
       " '20201111',\n",
       " '20201112',\n",
       " '20201113',\n",
       " '20201116',\n",
       " '20201117',\n",
       " '20201118',\n",
       " '20201119',\n",
       " '20201120',\n",
       " '20201123',\n",
       " '20201124',\n",
       " '20201125',\n",
       " '20201126',\n",
       " '20201127',\n",
       " '20201130',\n",
       " '20201201',\n",
       " '20201202',\n",
       " '20201203',\n",
       " '20201204',\n",
       " '20201207',\n",
       " '20201208',\n",
       " '20201209',\n",
       " '20201210',\n",
       " '20201211',\n",
       " '20201214',\n",
       " '20201215',\n",
       " '20201216',\n",
       " '20201217',\n",
       " '20201218',\n",
       " '20201221',\n",
       " '20201222',\n",
       " '20201223',\n",
       " '20201224',\n",
       " '20201225',\n",
       " '20201228',\n",
       " '20201229',\n",
       " '20201230',\n",
       " '20201231']"
      ]
     },
     "execution_count": 45,
     "metadata": {},
     "output_type": "execute_result"
    }
   ],
   "source": [
    "import datetime, calendar\n",
    "year = 2020\n",
    "month = 4\n",
    "\n",
    "# days = [datetime.date(year, month, day) for day in range(1, num_days+1)]\n",
    "# display(days)\n",
    "\n",
    "# days2=[]\n",
    "\n",
    "def filtWD(year,month,day):\n",
    "    date = datetime.date(year, month, day)\n",
    "    if date>datetime.datetime.now().date():pass\n",
    "    else:\n",
    "        x = date.weekday()\n",
    "        if x < 5: \n",
    "\n",
    "            return date.strftime('%Y%m%d')\n",
    "        else: pass\n",
    "daysf = []\n",
    "for month in range(4,13):\n",
    "    num_days = calendar.monthrange(year, month)[1]\n",
    "    days = list(filter(None,[filtWD(year,month,day) for day in range(1, num_days+1)]))\n",
    "#     .strftime('%Y%m%d')\n",
    "    daysf = daysf+days\n",
    "# print(datetime.datetime.now())\n",
    "# print(daysf[-1])\n",
    "daysf"
   ]
  },
  {
   "cell_type": "code",
   "execution_count": 22,
   "metadata": {
    "ExecuteTime": {
     "end_time": "2020-11-14T19:46:19.633945Z",
     "start_time": "2020-11-14T19:46:19.625988Z"
    }
   },
   "outputs": [],
   "source": [
    "import pytz"
   ]
  },
  {
   "cell_type": "code",
   "execution_count": 141,
   "metadata": {
    "ExecuteTime": {
     "end_time": "2020-11-01T06:57:35.686181Z",
     "start_time": "2020-11-01T06:57:35.681319Z"
    }
   },
   "outputs": [
    {
     "data": {
      "text/plain": [
       "153"
      ]
     },
     "metadata": {},
     "output_type": "display_data"
    },
    {
     "data": {
      "text/plain": [
       "32"
      ]
     },
     "execution_count": 141,
     "metadata": {},
     "output_type": "execute_result"
    }
   ],
   "source": [
    "display(len(daysf))\n",
    "len(lrange('hist.queue'))"
   ]
  }
 ],
 "metadata": {
  "kernelspec": {
   "display_name": "Python 3",
   "language": "python",
   "name": "python3"
  },
  "language_info": {
   "codemirror_mode": {
    "name": "ipython",
    "version": 3
   },
   "file_extension": ".py",
   "mimetype": "text/x-python",
   "name": "python",
   "nbconvert_exporter": "python",
   "pygments_lexer": "ipython3",
   "version": "3.8.3"
  },
  "varInspector": {
   "cols": {
    "lenName": 16,
    "lenType": 16,
    "lenVar": 40
   },
   "kernels_config": {
    "python": {
     "delete_cmd_postfix": "",
     "delete_cmd_prefix": "del ",
     "library": "var_list.py",
     "varRefreshCmd": "print(var_dic_list())"
    },
    "r": {
     "delete_cmd_postfix": ") ",
     "delete_cmd_prefix": "rm(",
     "library": "var_list.r",
     "varRefreshCmd": "cat(var_dic_list()) "
    }
   },
   "types_to_exclude": [
    "module",
    "function",
    "builtin_function_or_method",
    "instance",
    "_Feature"
   ],
   "window_display": false
  }
 },
 "nbformat": 4,
 "nbformat_minor": 4
}
