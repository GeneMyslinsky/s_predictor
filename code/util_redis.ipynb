{
 "cells": [
  {
   "cell_type": "code",
   "execution_count": 1,
   "metadata": {
    "ExecuteTime": {
     "end_time": "2020-10-31T02:38:43.817434Z",
     "start_time": "2020-10-31T02:38:43.811228Z"
    }
   },
   "outputs": [],
   "source": [
    "import redis as r\n",
    "from json import loads,dumps\n",
    "r = r.Redis(host='redis', port=6379, db=0)"
   ]
  },
  {
   "cell_type": "code",
   "execution_count": 57,
   "metadata": {
    "ExecuteTime": {
     "end_time": "2020-10-30T04:43:57.245377Z",
     "start_time": "2020-10-30T04:43:57.242310Z"
    }
   },
   "outputs": [],
   "source": []
  },
  {
   "cell_type": "code",
   "execution_count": 4,
   "metadata": {
    "ExecuteTime": {
     "end_time": "2020-10-31T02:38:52.639260Z",
     "start_time": "2020-10-31T02:38:52.635995Z"
    }
   },
   "outputs": [],
   "source": [
    "def rpush(key,objects):\n",
    "    return r.rpush(key,*[dumps(item) for item in objects])\n",
    "    \n",
    "def lrange(key):\n",
    "    return [loads(item) for item in r.lrange(key,0,-1)]\n",
    "\n",
    "def lpop(key):\n",
    "    return loads(r.lpop(key))"
   ]
  },
  {
   "cell_type": "code",
   "execution_count": 11,
   "metadata": {
    "ExecuteTime": {
     "end_time": "2020-10-31T02:55:22.107303Z",
     "start_time": "2020-10-31T02:55:22.103482Z"
    }
   },
   "outputs": [],
   "source": [
    "a = [{\n",
    "        'request_type':\"hist\",\n",
    "        'contract':{'type':'STOCK','symbol':'SPY','exchange':'SMART','currency':'USD'},\n",
    "        'params':{'endt':'20201025 23:99','dur':'1 D','candles':'15 secs','show':'TRADES'}\n",
    "    }]"
   ]
  },
  {
   "cell_type": "code",
   "execution_count": 16,
   "metadata": {
    "ExecuteTime": {
     "end_time": "2020-10-31T03:06:46.884629Z",
     "start_time": "2020-10-31T03:06:46.880769Z"
    }
   },
   "outputs": [
    {
     "data": {
      "text/plain": [
       "1"
      ]
     },
     "execution_count": 16,
     "metadata": {},
     "output_type": "execute_result"
    }
   ],
   "source": [
    "rpush('hist.queue',a)"
   ]
  },
  {
   "cell_type": "code",
   "execution_count": 72,
   "metadata": {
    "ExecuteTime": {
     "end_time": "2020-10-30T05:18:25.728167Z",
     "start_time": "2020-10-30T05:18:25.723339Z"
    }
   },
   "outputs": [
    {
     "data": {
      "text/plain": [
       "['params',\n",
       " {'request_type': 'hist',\n",
       "  'contract': {'type': 'STOCK',\n",
       "   'symbol': 'SPY',\n",
       "   'exchange': 'SMART',\n",
       "   'currency': 'USD'},\n",
       "  'params': {'endt': '20201005 23:99',\n",
       "   'dur': '3 D',\n",
       "   'candles': '15 secs',\n",
       "   'show': 'TRADES'}}]"
      ]
     },
     "execution_count": 72,
     "metadata": {},
     "output_type": "execute_result"
    }
   ],
   "source": [
    "lrange('hist.queue')"
   ]
  }
 ],
 "metadata": {
  "kernelspec": {
   "display_name": "Python 3",
   "language": "python",
   "name": "python3"
  },
  "language_info": {
   "codemirror_mode": {
    "name": "ipython",
    "version": 3
   },
   "file_extension": ".py",
   "mimetype": "text/x-python",
   "name": "python",
   "nbconvert_exporter": "python",
   "pygments_lexer": "ipython3",
   "version": "3.8.3"
  },
  "varInspector": {
   "cols": {
    "lenName": 16,
    "lenType": 16,
    "lenVar": 40
   },
   "kernels_config": {
    "python": {
     "delete_cmd_postfix": "",
     "delete_cmd_prefix": "del ",
     "library": "var_list.py",
     "varRefreshCmd": "print(var_dic_list())"
    },
    "r": {
     "delete_cmd_postfix": ") ",
     "delete_cmd_prefix": "rm(",
     "library": "var_list.r",
     "varRefreshCmd": "cat(var_dic_list()) "
    }
   },
   "types_to_exclude": [
    "module",
    "function",
    "builtin_function_or_method",
    "instance",
    "_Feature"
   ],
   "window_display": false
  }
 },
 "nbformat": 4,
 "nbformat_minor": 4
}
